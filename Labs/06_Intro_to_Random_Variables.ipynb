{
  "cells": [
    {
      "cell_type": "markdown",
      "metadata": {
        "id": "view-in-github",
        "colab_type": "text"
      },
      "source": [
        "<a href=\"https://colab.research.google.com/github/gibsonea/Biostats/blob/main/Labs/06_Intro_to_Random_Variables.ipynb\" target=\"_parent\"><img src=\"https://colab.research.google.com/assets/colab-badge.svg\" alt=\"Open In Colab\"/></a>"
      ]
    },
    {
      "cell_type": "markdown",
      "metadata": {
        "id": "81df2d27-16f4-4926-902e-b083b337a39d"
      },
      "source": [
        "# <a name=\"06intro\">2.3: Introduction to Random Variables </a>\n",
        "\n",
        "---\n"
      ],
      "id": "81df2d27-16f4-4926-902e-b083b337a39d"
    },
    {
      "cell_type": "markdown",
      "source": [
        "## <a name=\"05hits\">Importing the Spotify Hits Data Set</a>\n",
        "\n",
        "---\n",
        "\n",
        "The data set *spotify-hits.csv*<sup>1</sup> contains audio statistics of the top 2000 tracks on Spotify from 2000-2019. The data is\n",
        "stored in a <font color=\"dodgerblue\">**comma separated file (csv)**</font>. We can use the function `read.csv()` to import the csv file into an\n",
        "    R data frame we call `hits`.\n",
        "\n",
        "<font size=2>1. [\"Top Hits Spotify from 2000-2019\"](https://www.kaggle.com/datasets/paradisejoy/top-hits-spotify-from-20002019) from [Kaggle](https://www.kaggle.com)."
      ],
      "metadata": {
        "id": "yWOJggtQ1WR_"
      },
      "id": "yWOJggtQ1WR_"
    },
    {
      "cell_type": "code",
      "execution_count": null,
      "metadata": {
        "id": "42d3f0aa-2905-4553-810d-c1e936ea790c"
      },
      "outputs": [],
      "source": [
        "hits <- read.csv(\"https://raw.githubusercontent.com/CU-Denver-MathStats-OER/Statistical-Theory/main/Data/spotify-hits.csv\")"
      ],
      "id": "42d3f0aa-2905-4553-810d-c1e936ea790c"
    },
    {
      "cell_type": "markdown",
      "metadata": {
        "id": "dbf44d90-75b3-4e03-a28a-074fd3f9f4a3"
      },
      "source": [
        "### <a name=\"05clean\">Cleaning the Music Data Set</a>\n",
        "\n",
        "---\n",
        "\n",
        "In the code cell below:\n",
        "\n",
        "-   We convert `artist`, `song`, and `genre` to categorical variables\n",
        "    using the `factor()` function.\n",
        "-   Extract the variables `artist`, `song`, `tempo` and `genre`\n",
        "    (ignoring the rest).\n",
        "-   Print the first 6 rows to screen to get a glimpse of the resulting\n",
        "    data frame."
      ],
      "id": "dbf44d90-75b3-4e03-a28a-074fd3f9f4a3"
    },
    {
      "cell_type": "code",
      "execution_count": null,
      "metadata": {
        "id": "b11f26f1-0350-4250-8f47-df8b928f7558"
      },
      "outputs": [],
      "source": [
        "hits$artist <- factor(hits$artist)  # artist is categorical\n",
        "hits$song <- factor(hits$song)  # song is categorical\n",
        "hits$genre <- factor(hits$genre)  # genre is categorical\n",
        "hits <- hits[,c(\"artist\", \"song\", \"tempo\", \"genre\")]\n",
        "head(hits)  # display first 6 rows of data frame"
      ],
      "id": "b11f26f1-0350-4250-8f47-df8b928f7558"
    },
    {
      "cell_type": "markdown",
      "metadata": {
        "id": "1cc69e1a-1553-40c4-8265-a22cc94fa4ff"
      },
      "source": [
        "## <a name=\"05q1\">Question 1</a>\n",
        "\n",
        "---\n",
        "\n",
        "Explore the data set `hits`. For example:\n",
        "\n",
        "-   How many observations are in the data set?\n",
        "-   Which artist had the most hits?\n",
        "-   What is the mean tempo?\n",
        "-   Create a plot to display the distribution of tempos.\n",
        "-   What genre occurs most frequently?\n",
        "\n",
        "### <a name=\"05ans1\">Solution to Question 1</a>\n",
        "\n",
        "---\n",
        "\n",
        "<br> <br> <br>\n",
        "\n"
      ],
      "id": "1cc69e1a-1553-40c4-8265-a22cc94fa4ff"
    },
    {
      "cell_type": "markdown",
      "source": [
        "## <a name=\"05playlist\">Creating a Random Playlist</a>\n",
        "\n",
        "---\n",
        "\n",
        "To create a random playlist of five songs from the `hits` library of\n",
        "songs, we can run the code cell below.\n",
        "\n",
        "-   The `sample()` function below has three inputs:\n",
        "    -   The “population” we will be sampling from.\n",
        "        -   `nrow(hits)` returns the value 2000, the total number of\n",
        "            observations (rows) in the data frame.\n",
        "    -   The `size` is the number of observations we will select.\n",
        "    -   The `replace =TRUE` options means we sample with replacement.\n",
        "        Each time we pick a song, we place it back into the population\n",
        "        and can select it in our playlist again.\n",
        "    -   Run `?sample` for more information.\n",
        "-   We save the selected songs to the object called `playlist`.\n",
        "-   We print the list of songs in `playlist` to the screen"
      ],
      "metadata": {
        "id": "_Ed8S36A1NPu"
      },
      "id": "_Ed8S36A1NPu"
    },
    {
      "cell_type": "code",
      "execution_count": null,
      "metadata": {
        "id": "1aa73c43-3c02-46f9-80f5-65d2644c111b"
      },
      "outputs": [],
      "source": [
        "# index contains the 5 randomly selected songs\n",
        "index <- sample(nrow(hits), size=5, replace = TRUE)\n",
        "playlist <- hits[index,]  # save each song from index to a playlist\n",
        "head(playlist)  # print the playlist"
      ],
      "id": "1aa73c43-3c02-46f9-80f5-65d2644c111b"
    },
    {
      "cell_type": "markdown",
      "metadata": {
        "id": "95eda497-5f7f-47dc-be3b-e03fc779d374"
      },
      "source": [
        "# <a name=\"05rv\">Random Variables</a>\n",
        "\n",
        "---\n",
        "\n",
        "> How likely is it that none of the songs are classified in the genre\n",
        "> “pop”? How likely is it that at most three songs are classified in the\n",
        "> genre “pop”?\n",
        "\n",
        "How can we connect these questions about our data to the concepts of\n",
        "sample spaces and events to answer these question? The link can be made\n",
        "using <font color=\"dodgerblue\">**random variables**</font>!\n",
        "\n"
      ],
      "id": "95eda497-5f7f-47dc-be3b-e03fc779d374"
    },
    {
      "cell_type": "markdown",
      "source": [
        "## <a name=\"05def-rv\">Definition of a Random Variable</a>\n",
        "\n",
        "---\n",
        "\n",
        "A <font color=\"dodgerblue\">**random variable**</font> is a function that\n",
        "maps each outcome $\\omega$ in the sample space $\\Omega$ to a real number\n",
        "$X(\\omega)$.\n",
        "\n",
        "$$ X: \\Omega \\to \\mathbb{R} $$\n",
        "\n",
        "In the music playlist example, each playlist is a different outcome in\n",
        "the sample space. There are a total of $2000^5 = 3.2 \\times 10^{16}$\n",
        "possible playlists in the sample space.\n",
        "\n",
        "-   We can define random variable $X$ to be the number of songs in the\n",
        "    playlist from the pop genre.\n",
        "    -   For example, we could randomly select 5 songs with genres\n",
        "        $\\omega =$ (hip hop, country, pop, rock, pop)\n",
        "    -   Random variable $X$ is $X(\\omega) = 2$ since there are 2 pop\n",
        "        songs in the playlist.\n",
        "-   The set of possible values for $X$ is the <font color=\"dodgerblue\">**discrete**</font> set $\\left\\{ 0, 1, 2, 3, 4, 5 \\right\\}$.\n",
        "\n"
      ],
      "metadata": {
        "id": "TxKN1XHm1J0r"
      },
      "id": "TxKN1XHm1J0r"
    },
    {
      "cell_type": "markdown",
      "source": [
        "### <a name=\"05count-pop\">Counting Pop Songs</a>\n",
        "\n",
        "---\n",
        "\n",
        "One potential tricky issue with song genre is many songs are classified\n",
        "in multiple genres. The blink-182 song *All The Small Things* is in both\n",
        "the pop and rock genres. To simplify the analysis here, we will count\n",
        "songs that are only classified in pop genre (and no other genres). We\n",
        "will not count *All The Small Things* as a pop song since it is also\n",
        "classified as rock."
      ],
      "metadata": {
        "id": "TXp15qil1HsN"
      },
      "id": "TXp15qil1HsN"
    },
    {
      "cell_type": "code",
      "execution_count": null,
      "metadata": {
        "id": "3fa244db-4cd3-4e1b-bf1c-a98b9494371c"
      },
      "outputs": [],
      "source": [
        "sum(hits$genre == \"pop\")  # counts number of songs classified as only pop"
      ],
      "id": "3fa244db-4cd3-4e1b-bf1c-a98b9494371c"
    },
    {
      "cell_type": "markdown",
      "metadata": {
        "id": "c00c6f3c-e641-4102-8e56-9792f4b86689"
      },
      "source": [
        "-   The `hits` data frame contains 428 pop songs.\n",
        "-   The proportion of all songs that are pop songs is $\\frac{428}{2000} = 0.214$ or $21.4\\%$.\n",
        "\n"
      ],
      "id": "c00c6f3c-e641-4102-8e56-9792f4b86689"
    },
    {
      "cell_type": "markdown",
      "source": [
        "## <a name=\"05q2\">Question 2</a>\n",
        "\n",
        "---\n",
        "\n",
        "If $21.4\\%$ of all the songs are classified solely in the genre pop:\n",
        "\n",
        "-   Compute $P(X=0)$, the probability of picking (with replacement) a\n",
        "    random playlist of 5 songs that contains no pop songs.\n",
        "-   Compute $P(X=5)$, the probability of picking (with replacement) a\n",
        "    random playlist of 5 songs all of which are pop songs.\n",
        "\n",
        "You can use an R code cell to help with the calculation."
      ],
      "metadata": {
        "id": "Yg-OR_O41E4K"
      },
      "id": "Yg-OR_O41E4K"
    },
    {
      "cell_type": "code",
      "execution_count": null,
      "metadata": {
        "id": "074be629-f04b-463a-aa45-4b99f67ef044"
      },
      "outputs": [],
      "source": [
        "# P(X = 0)\n",
        "\n",
        "\n",
        "# P(X=5)\n"
      ],
      "id": "074be629-f04b-463a-aa45-4b99f67ef044"
    },
    {
      "cell_type": "markdown",
      "metadata": {
        "id": "245eeda9-7804-468d-bd20-95187498f85f"
      },
      "source": [
        "### <a name=\"05ans2\">Solution to Question 2</a>\n",
        "\n",
        "---\n",
        "\n",
        "<br> <br> <br>\n",
        "\n"
      ],
      "id": "245eeda9-7804-468d-bd20-95187498f85f"
    },
    {
      "cell_type": "markdown",
      "source": [
        "# <a name=\"05dist\">Distributions for Discrete Random Variables</a>\n",
        "\n",
        "---\n",
        "\n",
        "If $X$ is a <font color=\"dodgerblue\">**discrete**</font> random\n",
        "variable, we define the probability function or\n",
        "<font color=\"dodgerblue\">**probability distribution**</font> or\n",
        "<font color=\"dodgerblue\">**probability mass function (pmf)**</font> for\n",
        "$X$ by\n",
        "\n",
        "$$\\color{dodgerblue}{P(X=x) = p(x)}.$$\n",
        "\n",
        "If $X$ is a discrete random variable, we define the\n",
        "<font color=\"dodgerblue\">**cumulative distribution function\n",
        "(cdf)**</font> as the function\n",
        "\n",
        "$$\\color{dodgerblue}{F(x)=P(X \\leq x) = \\sum_{k=\\rm{min \\ value}}^x p(k) }.$$\n",
        "\n"
      ],
      "metadata": {
        "id": "9VazPSbh1CH1"
      },
      "id": "9VazPSbh1CH1"
    },
    {
      "cell_type": "markdown",
      "source": [
        "## <a name=\"05dist-pop\">The PMF and CDF for the Number of Pop Songs</a>\n",
        "\n",
        "---\n",
        "\n",
        "In the case of counting the number of pop songs in a 5 song playlist, we\n",
        "can organize the values of the pmf $p(x)$ in a table.\n",
        "\n",
        "\n",
        "| <font size=3>$x$</font> | <font size=3>0</font>| <font size = 3>1</font> | <font size=3>2</font> | <font size=3>3</font> | <font size=3>4</font> | <font size=3>5</font> |\n",
        "|--------|--------|--------|--------|--------|--------|--------|\n",
        "| <font size=3>$P(X=x)$</font> | <font size=3>$0.3000$</font> | <font size=3>$0.4084$</font> | <font size=3>$0.2224$</font> | <font size=3>$0.0606$</font> | <font size=3>$0.0082$</font> | <font size=3>$0.0004$</font> |\n",
        "</font>\n",
        "\n",
        "From the pmf table above, we have the corresponding cdf below.\n",
        "\n",
        "| <font size=3>$x$</font>| <font size=3>0</font> | <font size=3>1</font> | <font size=3>2</font> | <font size=3>3</font>  | <font size=3>4</font> | <font size=3>5</font> |\n",
        "|--------|--------|--------|--------|--------|--------|-----|\n",
        "| <font size=3>$F(x)$</font> | <font size=3>$0.3000$</font> | <font size=3>$0.7084$</font> | <font size=3>$0.9308$</font> | <font size=3>$0.9914$</font> | <font size=3>$0.9996$</font> | <font size=3>$1$</font>   |\n",
        "\n"
      ],
      "metadata": {
        "id": "ewUpNx_E06Bc"
      },
      "id": "ewUpNx_E06Bc"
    },
    {
      "cell_type": "markdown",
      "source": [
        "## <a name=“05q3”>Question 3</a>\n",
        "\n",
        "---\n",
        "\n",
        "Interpret the practical meaning of $p(3) = 0.0606$ and $F(3) = 0.9914$.\n",
        "\n",
        "### <a name=\"05ans3\">Solution to Question 3</a>\n",
        "\n",
        "---\n",
        "\n",
        "<br> <br> <br>\n",
        "\n"
      ],
      "metadata": {
        "id": "7_yuxEh504Gr"
      },
      "id": "7_yuxEh504Gr"
    },
    {
      "cell_type": "markdown",
      "source": [
        "## <a name=“05q4”>Question 4</a>\n",
        "\n",
        "---\n",
        "\n",
        "What is the probability of picking a playlist with at least 3 pop songs?\n",
        "\n",
        "### <a name=\"05ans4\">Solution to Question 4</a>\n",
        "\n",
        "---\n",
        "\n",
        "<br> <br> <br>\n",
        "\n"
      ],
      "metadata": {
        "id": "xx8631Qk0r04"
      },
      "id": "xx8631Qk0r04"
    },
    {
      "cell_type": "markdown",
      "source": [
        "### <a name=\"05plot-discrete\">Plotting Distribution Functions</a>\n",
        "\n",
        "---"
      ],
      "metadata": {
        "id": "k86AV_Eg0j0y"
      },
      "id": "k86AV_Eg0j0y"
    },
    {
      "cell_type": "code",
      "execution_count": null,
      "metadata": {
        "id": "ae445b00-7c9a-468c-a86a-a95ed7f96883"
      },
      "outputs": [],
      "source": [
        "n <- 5  # set number of trials n\n",
        "p <- 0.241  # prob of success in a trial\n",
        "x <- 0:n  # vector from 0 to n=5\n",
        "\n",
        "par(mfrow=c(1, 2))\n",
        "plot(x, dbinom(x, size = n, prob = p),\n",
        "        main = \"Graph of pmf\",\n",
        "        xlab = \"Number of Pop Songs\",\n",
        "        ylab = \"p(x)\",\n",
        "        cex.lab=1.5, cex.axis=1.5, cex.main=1.5)  # increase font size on labels\n",
        "plot(x, pbinom(x, size = n, prob = p),\n",
        "        type=\"s\",\n",
        "        main = \"Graph of cdf\",\n",
        "        xlab = \"Number of Pop Songs\",\n",
        "        ylab = \"F(x)\",\n",
        "        cex.lab=1.5, cex.axis=1.5, cex.main=1.5)  # increase font size on labels"
      ],
      "id": "ae445b00-7c9a-468c-a86a-a95ed7f96883"
    },
    {
      "cell_type": "markdown",
      "metadata": {
        "id": "505f6555-6213-4315-a5a5-b166603b03e4"
      },
      "source": [
        "## <a name=\"05q5\">Question 5</a>\n",
        "\n",
        "---\n",
        "\n",
        "Let $X$ be a discrete random variable with pmf and cdf denoted $p(x)$\n",
        "and $F(x)$, respectively. Determine if each statement is True or False.\n",
        "\n",
        "a.  $0 \\leq p(x) \\leq 1$ for all $x$.\n",
        "\n",
        "b.  $0 \\leq F(x) \\leq 1$ for all $x$.\n",
        "\n",
        "c.  $\\displaystyle \\sum_{\\rm{all}\\  x} p(x) = 1$.\n",
        "\n",
        "d.  $\\displaystyle \\sum_{\\rm{all}\\  x} F(x) = 1$.\n",
        "\n",
        "e.  $\\displaystyle \\lim_{x \\to x_{max}} p(x) = 1$.\n",
        "\n",
        "f.  $\\displaystyle \\lim_{x \\to x_{max}} F(x) = 1$.\n",
        "\n",
        "g.  The pmf must be a nondecreasing function.\n",
        "\n",
        "h.  The cdf must be a nondecreasing function.\n",
        "\n",
        "### <a name=\"05sol5\">Solution to Question 5</a>\n",
        "\n",
        "---\n",
        "\n",
        "List the properties (a)-(h) that are indeed TRUE.\n",
        "\n",
        "<br> <br> <br>\n",
        "\n"
      ],
      "id": "505f6555-6213-4315-a5a5-b166603b03e4"
    },
    {
      "cell_type": "markdown",
      "source": [
        "# <a name=\"05cont-rv\">Continuous Random Variables</a>\n",
        "\n",
        "---\n",
        "\n",
        "Discrete random variables map outcomes in the sample space to integers.\n",
        "In many situations we would like to consider mapping outcomes to a\n",
        "continuous interval of values, not just integers. For example, what is the\n",
        "probability that randomly selected song has a tempo less than 82 beats\n",
        "per minute (BPM)?\n",
        "\n",
        "-   The sample space $\\Omega$ consists of the set of all songs in\n",
        "    `hits`.\n",
        "-   $X: \\Omega \\to \\mathbb{R}$ where we map each selected song to its\n",
        "    tempo (in BPM).\n",
        "-   The range is now a continuous interval of real numbers representing\n",
        "    the tempos of all songs in `hits`.\n",
        "\n",
        "Using modern technology such as music sequencers tempo has become a very\n",
        "precise measurement. Tempo is an important characteristic in electronic\n",
        "dance music where accurate measurement of a tune’s BPM is important to\n",
        "DJ’s when mixing music."
      ],
      "metadata": {
        "id": "7g-wBoPX0V4H"
      },
      "id": "7g-wBoPX0V4H"
    },
    {
      "cell_type": "code",
      "execution_count": null,
      "metadata": {
        "id": "be964c5b-012c-41bc-a302-a679055ba6a2"
      },
      "outputs": [],
      "source": [
        "summary(hits$tempo)"
      ],
      "id": "be964c5b-012c-41bc-a302-a679055ba6a2"
    },
    {
      "cell_type": "markdown",
      "metadata": {
        "id": "729c409f-6897-4f55-b50c-13981a0977ec"
      },
      "source": [
        "-   From the summary above, we see tempo is a continuous measurement (it has decimal values) from a minimum of $60.02$ BPM to a maximum $210.85$ BPM.\n",
        "\n"
      ],
      "id": "729c409f-6897-4f55-b50c-13981a0977ec"
    },
    {
      "cell_type": "markdown",
      "source": [
        "## <a name=\"05q6\">Question 6</a>\n",
        "\n",
        "---\n",
        "\n",
        "Below is a histogram representing the distribution of tempos for the\n",
        "2000 songs in `hits`. Approximate the value of $P(X < 85)$, the\n",
        "probability that a randomly selected songs has a tempo less than 85 BPM.\n",
        "\n",
        "-   **Experiment with the number of breaks to improve the accuracy of\n",
        "    your approximation!**"
      ],
      "metadata": {
        "id": "FFIl79JR0T6s"
      },
      "id": "FFIl79JR0T6s"
    },
    {
      "cell_type": "code",
      "execution_count": null,
      "metadata": {
        "id": "fe32557d-cece-441d-89d7-2441a2650eef"
      },
      "outputs": [],
      "source": [
        "# create a histogram\n",
        "hist(hits$tempo,  # vector of tempo measurements\n",
        "########################################################\n",
        "# Student To-Do: Adjust breaks\n",
        "########################################################\n",
        "     breaks = 10,  # number of bin ranges to use\n",
        "########################################################\n",
        "     labels = TRUE,  # add count labels above each bar\n",
        "     xlab = \"Tempo (BPM)\",   # x-axis label\n",
        "     xaxt='n',  # turn off default x-axis ticks\n",
        "     yaxt='n',  # turn off default y-axis ticks\n",
        "     ylab = \"Frequency\",  # y-axis label\n",
        "     ylim = c(0,650),  # sets window for y-axis\n",
        "     main = \"Distribution of Tempos\",  # main label\n",
        "     col = \"steelblue\")  # fill color of bars\n",
        "axis(1, at = seq(60, 220, 10))  # set custom ticks on x-axis\n",
        "axis(2, at = seq(0, 650, 50))  # set custom ticks on y-axis"
      ],
      "id": "fe32557d-cece-441d-89d7-2441a2650eef"
    },
    {
      "cell_type": "markdown",
      "metadata": {
        "id": "206107c3-1e70-43a1-a5b0-56aff1800910"
      },
      "source": [
        "### <a name=\"05sol6\">Solution to Question 6</a>\n",
        "\n",
        "---\n",
        "\n",
        "<br> <br> <br>\n",
        "\n"
      ],
      "id": "206107c3-1e70-43a1-a5b0-56aff1800910"
    },
    {
      "cell_type": "markdown",
      "source": [
        "## <a name=\"05rel-freq\">Relative Frequency Histograms</a>\n",
        "\n",
        "---\n",
        "\n",
        "Our initial frequency histogram of tempos in [Question 6](#05q6)\n",
        "measured the count or frequency of songs that fall in each bin of the\n",
        "histogram. A <font color=\"dodgerblue\">**relative frequency\n",
        "histogram**</font> rescales the vertical axis to units **proportion per\n",
        "unit of $X$**.\n",
        "\n",
        "-   We can create a relative frequency histogram by adding the option\n",
        "    `freq = FALSE` in the `hist()` function.\n",
        "\n"
      ],
      "metadata": {
        "id": "EBx6uOBU0R27"
      },
      "id": "EBx6uOBU0R27"
    },
    {
      "cell_type": "markdown",
      "source": [
        "## <a name=\"05q7\">Question 7</a>\n",
        "\n",
        "---\n",
        "\n",
        "Based on the relative frequency histogram below, approximate the value\n",
        "of $P(X < 85)$, the probability that a randomly selected songs has a\n",
        "tempo less than 85 BPM.\n",
        "\n",
        "a.  The option `freq = FALSE` is added to the `hist` command below. Run the code cell below and compare the result with the histogram above.\n",
        "  - **What is different about the two histograms? What is similar? What are the units of the vertical (y) axis?**\n",
        "\n",
        "b. Using the output from the code cell below, approximate $P(X < 85)$.\n",
        "  - *Hint: The area of each bar corresponds to the proportion of songs in `hits` that are in the corresponding bin range of tempos.*"
      ],
      "metadata": {
        "id": "NpphAXUez7eP"
      },
      "id": "NpphAXUez7eP"
    },
    {
      "cell_type": "code",
      "execution_count": null,
      "metadata": {
        "id": "fa64d26c-87c4-4770-ab62-5a198ce08c25"
      },
      "outputs": [],
      "source": [
        "# create a histogram\n",
        "hist(hits$tempo,  # vector of tempo measurements\n",
        "     freq = FALSE,\n",
        "     breaks = 20,  # number of bin ranges to use\n",
        "     labels = TRUE,  # add count labels above each bar\n",
        "     xlab = \"Tempo (BPM)\",   # x-axis label\n",
        "     xaxt='n',  # turn off default x-axis ticks\n",
        "     yaxt='n',  # turn off default y-axis ticks\n",
        "     ylab = \"Relative Frequency\",  # y-axis label\n",
        "     ylim = c(0,0.025),  # sets window for y-axis\n",
        "     main = \"Distribution of Tempos\",  # main label\n",
        "     col = \"steelblue\")  # fill color of bars\n",
        "axis(1, at = seq(60, 220, 10))  # set custom ticks on x-axis\n",
        "axis(2, at = seq(0, 0.025, 0.005))  # set custom ticks on y-axis"
      ],
      "id": "fa64d26c-87c4-4770-ab62-5a198ce08c25"
    },
    {
      "cell_type": "markdown",
      "metadata": {
        "id": "28ef10b5-9a96-4f3e-8e0d-ed5dd675a166"
      },
      "source": [
        "### <a name=\"05q7\">Solution to Question 7</a>\n",
        "\n",
        "---\n",
        "\n",
        "<br> <br> <br>\n",
        "\n"
      ],
      "id": "28ef10b5-9a96-4f3e-8e0d-ed5dd675a166"
    },
    {
      "cell_type": "markdown",
      "source": [
        "## <a name=\"05density\">Density Plots</a>\n",
        "\n",
        "---\n",
        "\n",
        "A <font color=\"dodgerblue\">**density plot**</font> can informally be\n",
        "considered as a relative frequency histogram where we choose incredibly\n",
        "small widths for each bin range. One way to create a density plot in R\n",
        "is to:\n",
        "\n",
        "1.  First convert the values of a quantitative variable to densities with the `density()` function.\n",
        "  -   For more information, see [density help documentation](https://www.rdocumentation.org/packages/stats/versions/3.6.2/topics/density).\n",
        "2.  Use the `plot()` function to plot the densities.\n",
        "  -   For more advanced density plots see <https://r-graph-gallery.com/density-plot.html>."
      ],
      "metadata": {
        "id": "dP0eZGwXz4c2"
      },
      "id": "dP0eZGwXz4c2"
    },
    {
      "cell_type": "code",
      "execution_count": null,
      "metadata": {
        "id": "7afb1782-118a-4080-9cf3-8fac4bf1ed84"
      },
      "outputs": [],
      "source": [
        "# approximate densities and then plot\n",
        "plot(density(hits$tempo),  # convert to density and then plot\n",
        "     ylab = \"density (proportion per BPM)\",  # vertical axis label\n",
        "     xlab = \"Tempo (in BPM)\",  # horizontal axis label\n",
        "     main = \"Distribution of Song Tempos\",  # main title\n",
        "     cex.lab=1.5, cex.axis=1.5, cex.main=1.5)  # increase font size on labels"
      ],
      "id": "7afb1782-118a-4080-9cf3-8fac4bf1ed84"
    },
    {
      "cell_type": "markdown",
      "metadata": {
        "id": "89763465-a7b2-4d76-8b17-791dd1a871a3"
      },
      "source": [
        "### <a name=\"05read-density\">Reading a Density Plot</a>\n",
        "\n",
        "---\n",
        "\n",
        "If we want to use a density plot compute $P(X < 85)$, the probability\n",
        "that a random selected song in `hits` has a tempo less than 85 BPM:\n",
        "\n",
        "-   <font color=\"dodgerblue\">**We approximate the AREA below the density\n",
        "    curve over the interval from 0 to 85 BPM.**</font>\n",
        "-   If we have a theoretical model $f(x)$ for the density,\n",
        "    <font color=\"dodgerblue\">**we can use definite integrals to compute\n",
        "    these proportions!**</font>\n",
        "-   Run the code cell below to sketch an area corresponding to $P(X<85)$.\n",
        "    There is nothing to edit in the code cell."
      ],
      "id": "89763465-a7b2-4d76-8b17-791dd1a871a3"
    },
    {
      "cell_type": "code",
      "execution_count": null,
      "metadata": {
        "id": "a22e0173-ca34-4f9c-ba92-f8a4770f78d9"
      },
      "outputs": [],
      "source": [
        "###############################\n",
        "# Area representing P(X < 85)\n",
        "# Run code without editting\n",
        "##############################\n",
        "den <- density(hits$tempo)\n",
        "\n",
        "plot(den,  # plot density of tempo\n",
        "     ylab = \"density (proportion per BPM)\",  # vertical axis label\n",
        "     xlab = \"Tempo (in BPM)\",  # horizontal axis label\n",
        "     xaxt = 'n',  # turn off default x-axis ticks\n",
        "     main = \"Distribution of Song Tempos\",  # main title\n",
        "     cex.lab=1.5, cex.axis=1.5, cex.main=1.5)  # increase font size on labels\n",
        "\n",
        "\n",
        "# Fill area from 0 to 85 BPM\n",
        "value <- 85\n",
        "\n",
        "polygon(c(den$x[den$x <= value ], value),\n",
        "        c(den$y[den$x <= value ], 0),\n",
        "        col = \"slateblue1\",\n",
        "        border = 1)\n",
        "axis(1, at = seq(0, value, value),  # set custom ticks on x-axis\n",
        "     cex.axis=1.5, cex.main=1.5)  # increase font size on ticks"
      ],
      "id": "a22e0173-ca34-4f9c-ba92-f8a4770f78d9"
    },
    {
      "cell_type": "markdown",
      "metadata": {
        "id": "bec562a2-d439-4200-adc6-7571ef5dea3b"
      },
      "source": [
        "# <a name=\"05cont-dist\">Continuous Probability Distributions</a>\n",
        "\n",
        "---\n",
        "\n"
      ],
      "id": "bec562a2-d439-4200-adc6-7571ef5dea3b"
    },
    {
      "cell_type": "markdown",
      "source": [
        "## <a name=\"05cont-pdf\">Probability Density Function (pdf)</a>\n",
        "\n",
        "---\n",
        "\n",
        "If $X$ is a **continuous** random variable, the\n",
        "<font color=\"dodgerblue\">**probability density function (pdf)**</font>, denoted $f(x)$, satisfies the following properties:\n",
        "\n",
        "-   $f(x) \\geq 0$ for all $x$,\n",
        "-   $\\displaystyle \\int_{-\\infty}^{\\infty} f(x) = 1$, and\n",
        "-   $\\displaystyle P(a < x < b) = \\int_a^b f(x) \\, dx$\n",
        "\n"
      ],
      "metadata": {
        "id": "CHNrpdQ5zqkf"
      },
      "id": "CHNrpdQ5zqkf"
    },
    {
      "cell_type": "markdown",
      "source": [
        "## <a name=\"05cont-cdf\">Cumulative Distribution Function (cdf)</a>\n",
        "\n",
        "---\n",
        "\n",
        "If $X$ is a **continuous** random variable, the\n",
        "<font color=\"dodgerblue\">**cumulative distribution function(cdf)**</font>, denoted $F(x)$, is\n",
        "\n",
        "$$\\color{dodgerblue}{F(x) = P(X < x) = \\int_{-\\infty}^x f(t) \\, dt}.$$\n",
        "\n",
        "Thus we have the important relations between a pdf and cdf of a\n",
        "continuous random variable X:\n",
        "\n",
        "-   <font color=\"mediumseagreen\">**The cdf $F(x)$ is an antiderivative of the pdf $f$.**</font>\n",
        "-   <font color=\"tomato\">**The pdf $f(x)$ is the derivative of $F(x)$.**</font>\n",
        "\n"
      ],
      "metadata": {
        "id": "ZtTsaSCmzogj"
      },
      "id": "ZtTsaSCmzogj"
    },
    {
      "cell_type": "markdown",
      "source": [
        "## <a name=\"05q8\">Question 8</a>\n",
        "\n",
        "---\n",
        "\n",
        "The figure below contains 8 plots of either a probability density\n",
        "function or a cumulative distribution function of a continuous random\n",
        "variable. Match each probability density function shown in (a)-(d) with\n",
        "a corresponding graph of a cumulative distribution function (I)-(IV).\n",
        "Explain how you determined your answers.\n",
        "\n",
        "<figure>\n",
        "<img\n",
        "src=\"https://upload.wikimedia.org/wikipedia/commons/6/6e/05fig-match.png\"\n",
        "alt=\"Image Credit: Adam Spiegler, CC BY-SA 4.0.\" />\n",
        "<figcaption aria-hidden=\"true\">\n",
        "Image Credit: Adam Spiegler, CC BY-SA 4.0\n",
        "<https://creativecommons.org/licenses/by-sa/4.0>, via Wikimedia Commons\n",
        "</figcaption>\n",
        "</figure>\n",
        "\n",
        "### <a name=\"05sol8\">Solution to Question 8</a>\n",
        "\n",
        "---\n",
        "\n",
        "| <font size=3>Graph (a)</font> | <font size=3>Graph (b)</font> | <font size=3>Graph (c)</font> | <font size=3>Graph (d)</font> |\n",
        "|-----------|-----------|-----------|-----------|\n",
        "| ??        | ??        | ??        | ??        |\n",
        "\n",
        "<br> <br> <br>\n",
        "\n"
      ],
      "metadata": {
        "id": "m6lYMpl6zgSg"
      },
      "id": "m6lYMpl6zgSg"
    },
    {
      "cell_type": "markdown",
      "source": [
        "## <a name=\"05prop-cont\">Properties of Continuous Random Variables</a>\n",
        "\n",
        "---\n",
        "\n"
      ],
      "metadata": {
        "id": "87oy8weA5_AP"
      },
      "id": "87oy8weA5_AP"
    },
    {
      "cell_type": "markdown",
      "source": [
        "## <a name=\"05q9\">Question 9</a>\n",
        "\n",
        "---\n",
        "\n",
        "Let $X$ is a continuous random variable with pdf and cdf denoted $f(x)$ and $F(x)$, respectively. Determine if each statement is True or False.\n",
        "\n",
        "a. $0 \\leq f(x) \\leq 1$ for all $x$.\n",
        "\n",
        "b.  $0 \\leq F(x) \\leq 1$ for all $x$.\n",
        "\n",
        "c.  $\\displaystyle \\int_{\\infty}^{-\\infty} f(x) \\, dx= 1$.\n",
        "\n",
        "d.  $\\displaystyle \\int_{\\infty}^{-\\infty} F(x) \\, dx = 1$.\n",
        "\n",
        "e.  $\\displaystyle \\lim_{x \\to \\infty} f(x) = 1$.\n",
        "\n",
        "f.  $\\displaystyle \\lim_{x \\to \\infty} F(x) = 1$.\n",
        "\n",
        "g.  The pdf must be a nondecreasing function.\n",
        "\n",
        "h.  The cdf must be a nondecreasing function.\n",
        "\n",
        "### <a name=\"05sol9\">Solution to Question 9</a>\n",
        "\n",
        "---\n",
        "\n",
        "List the properties (a)-(h) that are indeed TRUE.\n",
        "\n",
        "<br> <br> <br>\n",
        "\n"
      ],
      "metadata": {
        "id": "IrbIoM-HzLBS"
      },
      "id": "IrbIoM-HzLBS"
    },
    {
      "cell_type": "markdown",
      "source": [
        "## <a name=\"05q10\">Question 10\n",
        "\n",
        "---\n",
        "\n",
        "The probability of a Lithium-ion battery failing at time $x$ (in years)\n",
        "is given by the probability density function below.\n",
        "\n",
        "$$f(x) = \\left\\{ \\begin{array}{ll}\n",
        "\\frac{1}{3}e^{-\\frac{x}{3}} & x \\geq 0 \\\\\n",
        "0 & \\mbox{otherwise}\n",
        "\\end{array} \\right.$$\n",
        "\n"
      ],
      "metadata": {
        "id": "FZLBWWF-yz-A"
      },
      "id": "FZLBWWF-yz-A"
    },
    {
      "cell_type": "markdown",
      "source": [
        "### <a name=\"05q10a\">Question 10a</a>\n",
        "\n",
        "---\n",
        "\n",
        "Compute the probability that a Lithium-ion battery lasts more than 2\n",
        "years.\n",
        "\n",
        "#### <a name=\"05sol10a\">Solution to Question 10a</a>\n",
        "\n",
        "---\n",
        "\n",
        "<br> <br> <br>\n",
        "\n"
      ],
      "metadata": {
        "id": "cWiBI2F9yx20"
      },
      "id": "cWiBI2F9yx20"
    },
    {
      "cell_type": "markdown",
      "source": [
        "### <a name=\"05q10b\">Question 10b</a>\n",
        "\n",
        "---\n",
        "\n",
        "What is the value of P(X=2), i.e. the probability that the battery lasts exactly 2 years?  \n",
        "\n",
        "#### <a name=\"05sol10b\">Solution to Question 10b</a>\n",
        "\n",
        "---\n",
        "\n",
        "<br> <br> <br>\n",
        "\n"
      ],
      "metadata": {
        "id": "eulX55iHyv5q"
      },
      "id": "eulX55iHyv5q"
    },
    {
      "cell_type": "markdown",
      "source": [
        "# <a name=\"CC License\">Creative Commons License Information</a>\n",
        "---\n",
        "\n",
        "\n",
        "![Creative Commons\n",
        "License](https://i.creativecommons.org/l/by-nc-sa/4.0/88x31.png)\n",
        "\n",
        "*Statistical Methods: Exploring the Uncertain* by [Adam\n",
        "Spiegler (University of Colorado Denver)](https://github.com/CU-Denver-MathStats-OER/Statistical-Theory)\n",
        "is licensed under a [Creative Commons\n",
        "Attribution-NonCommercial-ShareAlike 4.0 International\n",
        "License](http://creativecommons.org/licenses/by-nc-sa/4.0/). This work is funded by an [Institutional OER Grant from the Colorado Department of Higher Education (CDHE)](https://cdhe.colorado.gov/educators/administration/institutional-groups/open-educational-resources-in-colorado).\n",
        "\n",
        "For similar interactive OER materials in other courses funded by this project in the Department of Mathematical and Statistical Sciences at the University of Colorado Denver, visit <https://github.com/CU-Denver-MathStats-OER>."
      ],
      "metadata": {
        "id": "XYaPzcSoGgEu"
      },
      "id": "XYaPzcSoGgEu"
    }
  ],
  "nbformat": 4,
  "nbformat_minor": 5,
  "metadata": {
    "kernelspec": {
      "name": "ir",
      "display_name": "R",
      "language": "R"
    },
    "colab": {
      "provenance": [],
      "toc_visible": true,
      "include_colab_link": true
    }
  }
}