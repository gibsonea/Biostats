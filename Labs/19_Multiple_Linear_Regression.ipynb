{
  "cells": [
    {
      "cell_type": "markdown",
      "metadata": {
        "id": "view-in-github",
        "colab_type": "text"
      },
      "source": [
        "<a href=\"https://colab.research.google.com/github/gibsonea/Biostats/blob/main/Labs/19_Multiple_Linear_Regression.ipynb\" target=\"_parent\"><img src=\"https://colab.research.google.com/assets/colab-badge.svg\" alt=\"Open In Colab\"/></a>"
      ]
    },
    {
      "cell_type": "markdown",
      "metadata": {
        "id": "9a2d4a8a-f07b-419b-ac52-441accf5032f"
      },
      "source": [
        "# <a name=\"25intro\">7.2 Multiple Linear Regression</a>\n",
        "\n",
        "---\n",
        "\n",
        "In linear regression we are modeling a variable, y, relative to a predictor variable (or variables): $x_1$, $x_2$, etc.  The variable y is a continuous variable that is normally descributed.  The predictor variables can either be continuous or categorical variables.  Taking the simple example of two predictor variables: $x_1$ and $x_2$, the linear model can be described as:\n",
        "\n",
        "$$y = \\alpha + \\beta_1 x_1 + \\beta_2 x_2$$\n",
        "\n",
        "This can be generalized for any number of predictor variables.\n"
      ],
      "id": "9a2d4a8a-f07b-419b-ac52-441accf5032f"
    },
    {
      "cell_type": "markdown",
      "source": [
        "# <a name=\"Lab19q1\">Question 1: </a>\n",
        "\n",
        "---\n",
        "\n",
        "From the homework, we are looking at Forced expiratory volume (FEV), an index of pulmonary function that measures the volume of air expelled after 1 second of constant effort.  The dataset FEV which contains determinations of FEV in 1980 on 654 children ages 3 through 19 who were seen in the Childhood Respiratory Disease (CRD) Study in East Boston, Massachusetts. These data are part of a longitudinal study to follow the change in pulmonary function over time in children.\n",
        "\n",
        "\n",
        "<br>\n",
        "<figure>\n",
        "<img\n",
        "src=\"https://raw.githubusercontent.com/gibsonea/Biostats/main/Images/FEVdatatableinfo.png\" width=\"300\">\n",
        "\n"
      ],
      "metadata": {
        "id": "N_jihXs-iCNN"
      },
      "id": "N_jihXs-iCNN"
    },
    {
      "cell_type": "code",
      "source": [
        "#load in dataset\n",
        "FEV <- read.csv(\"https://raw.githubusercontent.com/gibsonea/Biostats/main/Datasets/FEV.csv\")\n",
        "str(FEV)"
      ],
      "metadata": {
        "id": "6Hh5nRxp8L_D"
      },
      "execution_count": null,
      "outputs": [],
      "id": "6Hh5nRxp8L_D"
    },
    {
      "cell_type": "markdown",
      "source": [
        "The parameters for Sex and Smoke are integers.  We can change those to categorical variables in the code cell below."
      ],
      "metadata": {
        "id": "nDHcrlGd-Cwl"
      },
      "id": "nDHcrlGd-Cwl"
    },
    {
      "cell_type": "code",
      "source": [
        "FEV$Sex = factor(FEV$Sex, levels = c(0, 1), labels = c(\"Female\", \"Male\"))\n",
        "FEV$Smoke = factor(FEV$Smoke,levels = c(0, 1), labels = c(\"Nonsmoker\", \"Smoker\"))\n",
        "\n",
        "str(FEV)\n",
        "\n"
      ],
      "metadata": {
        "id": "Rm0BnHuJ-WGz"
      },
      "id": "Rm0BnHuJ-WGz",
      "execution_count": null,
      "outputs": []
    },
    {
      "cell_type": "markdown",
      "source": [
        "Here, we use lm() to solve for the simple linear regression with one predictor variable, x = Age.  Summary command shows the statistics for the regression.  We are testing the following hypothesis.\n",
        "\n",
        "$H_0: \\beta = 0$\n",
        "\n",
        "$H_1: \\beta \\neq 0$"
      ],
      "metadata": {
        "id": "zYmWO4eE__ZM"
      },
      "id": "zYmWO4eE__ZM"
    },
    {
      "cell_type": "code",
      "source": [
        "lmFEVage = lm(FEV ~ Age, data = FEV)\n",
        "summary(lmFEVage)\n",
        "\n"
      ],
      "metadata": {
        "id": "y6MoNCab046u"
      },
      "execution_count": null,
      "outputs": [],
      "id": "y6MoNCab046u"
    },
    {
      "cell_type": "markdown",
      "source": [
        "## <a name=\"Lab19q1a\">Question 1a</a>\n",
        "\n",
        "Answer the following:\n",
        "\n",
        "(i) What is the test statistic for the F test?  What is the p-value?\n",
        "\n",
        "(ii) What is the test statistic for the t test and the p-value?\n",
        "\n",
        "(iii) What do you conclude from these results?\n",
        "\n",
        "### Solution to Question 1a\n",
        "\n",
        "---\n",
        "\n",
        "<br>\n",
        "(i)\n",
        "\n",
        "(ii)\n",
        "\n",
        "(iii)\n",
        "<br>"
      ],
      "metadata": {
        "id": "p6FsF_YdA_kR"
      },
      "id": "p6FsF_YdA_kR"
    },
    {
      "cell_type": "markdown",
      "source": [
        "In the following code cell, we create a scatter plot and show the regression fit line and the 99% Confidence Interval for y.\n"
      ],
      "metadata": {
        "id": "eSXSg4GsBdvE"
      },
      "id": "eSXSg4GsBdvE"
    },
    {
      "cell_type": "code",
      "source": [
        "plot(FEV$Age,FEV$FEV,xlab = 'Age (years)', ylab = 'FEV (liters)' ,main = 'FEV versus Age',\n",
        "cex = 1.2, cex.lab=1.5, cex.axis=1.5)\n",
        "\n",
        "abline(lmFEVage, col=\"blue\")\n",
        "\n",
        "newx = unique(FEV$Age) # create a vector of values for Age (created with the unique values from our original sample data) that we will use to calculate the CI using predict() and then plot.\n",
        "conf_interval <- predict(lmFEVage, newdata=data.frame(Age=newx), interval=\"confidence\",\n",
        "                         level = 0.99)\n",
        "\n",
        "lines(newx, conf_interval[,2], col=\"blue\", lty=2)\n",
        "lines(newx, conf_interval[,3], col=\"blue\", lty=2)"
      ],
      "metadata": {
        "id": "Fj9hopRTBfIA"
      },
      "id": "Fj9hopRTBfIA",
      "execution_count": null,
      "outputs": []
    },
    {
      "cell_type": "markdown",
      "source": [
        "## <a name=\"Lab19q1b\">Question 1b</a>\n",
        "\n",
        "Why is the 99% confidence interval wider at the minimum and maximum values of Age compared to the center (closer to the mean Age)?\n",
        "\n",
        "### Solution to Question 1b\n",
        "\n",
        "---\n",
        "\n",
        "<br>\n",
        "<br>"
      ],
      "metadata": {
        "id": "er1RUPMhDbb3"
      },
      "id": "er1RUPMhDbb3"
    },
    {
      "cell_type": "markdown",
      "source": [
        "# <a name=\"Lab19q2\">Question 2: </a>\n",
        "\n",
        "---\n",
        "\n",
        "Now we want to perform a multiple linear regression with more than one predictors in our fit.  Below we perform a regression of y on Age and Height."
      ],
      "metadata": {
        "id": "CGzyDvr6D9Sq"
      },
      "id": "CGzyDvr6D9Sq"
    },
    {
      "cell_type": "code",
      "source": [
        "\n",
        "lmFEVagesex = lm(FEV ~ Age + Hgt, data = FEV)\n",
        "summary(lmFEVagesex)\n"
      ],
      "metadata": {
        "id": "AWgQQZKoX0EJ"
      },
      "id": "AWgQQZKoX0EJ",
      "execution_count": null,
      "outputs": []
    },
    {
      "cell_type": "markdown",
      "source": [
        "## <a name=\"Lab19q2a\">Question 2a</a>\n",
        "\n",
        "For these questions, you can consult the lecture notes, recording or Rosner Ch. 11.\n",
        "\n",
        "(i) What is the estimate and standard error of the slope for Age, $\\beta_A$?\n",
        "\n",
        "(ii) What is the is the estimate and standard error of the slope for Height, $\\beta_H$?\n",
        "\n",
        "(iii) What hypothesis are you testing with the Multiple Regression F test.  Write down the null/alternative hypotheses, define your variables and describe in a few sentences.\n",
        "\n",
        "(iv) What is the p value from your F test and what do you conclude?\n",
        "\n",
        "(v) What hypothesis are you testing with the Multiple Regression t test?  Write down the null/alternative hypotheses, define your variables and describe in a few sentences.\n",
        "\n",
        "(vi) What are the p-value(s) from your t test(s) and what do you conclude?\n",
        "\n",
        "(vii) What does the Multiple R-squared value tell you?\n",
        "\n",
        "### Solution to Question 2a\n",
        "\n",
        "---\n",
        "\n",
        "<br>\n",
        "(i)\n",
        "\n",
        "(ii)\n",
        "\n",
        "(iii)\n",
        "\n",
        "(iv)\n",
        "\n",
        "(v)\n",
        "\n",
        "(vi)\n",
        "\n",
        "(vii)"
      ],
      "metadata": {
        "id": "Oibm1M5XEb5d"
      },
      "id": "Oibm1M5XEb5d"
    }
  ],
  "nbformat": 4,
  "nbformat_minor": 5,
  "metadata": {
    "kernelspec": {
      "name": "ir",
      "display_name": "R",
      "language": "R"
    },
    "colab": {
      "provenance": [],
      "include_colab_link": true
    }
  }
}