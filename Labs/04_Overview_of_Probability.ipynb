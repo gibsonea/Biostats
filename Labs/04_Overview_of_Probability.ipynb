{
  "cells": [
    {
      "cell_type": "markdown",
      "metadata": {
        "id": "view-in-github",
        "colab_type": "text"
      },
      "source": [
        "<a href=\"https://colab.research.google.com/github/gibsonea/Biostats/blob/main/Labs/04_Overview_of_Probability.ipynb\" target=\"_parent\"><img src=\"https://colab.research.google.com/assets/colab-badge.svg\" alt=\"Open In Colab\"/></a>"
      ]
    },
    {
      "cell_type": "markdown",
      "metadata": {
        "id": "825f5128-6e33-469d-b8e8-b8e030ea1f56"
      },
      "source": [
        "# <a name=\"04intro\">2.1: An Overview of Probability</a>\n",
        "\n",
        "----\n",
        "\n",
        "Statistical inference is the process of using data from a sample to\n",
        "describe characteristics of the population. Our conclusions are going to\n",
        "be based on randomness in the sampling process, and we will need to\n",
        "account for some uncertainty in our predictions. Statistics relies on\n",
        "theory and applications from probability to help quantify the\n",
        "uncertainty in our models and estimates.\n",
        "\n",
        "-   <font color=\"mediumseagreen\">**If we know the make up of a\n",
        "    population, we can use probability to predict the likelihood that\n",
        "    certain outcomes occur.**</font >\n",
        "    -   If we know a six-sided is fair, what is the probability of\n",
        "        rolling the die 10 times and getting exactly 4 rolls that land\n",
        "        on 1?\n",
        "-   <font color=\"tomato\">**We use statistics to go in the\n",
        "    reverse direction. Namely, how can we make predictions about a\n",
        "    population from a random sample of data.**</font >\n",
        "    -   We want to determine whether or not a six-sided die is fair. We\n",
        "        roll the die 100 times and get 40 rolls that land on 1. Is the\n",
        "        die fair?\n",
        "    -   We will need to use probability to answer statistical questions\n",
        "        and make inferences about a population.\n"
      ],
      "id": "825f5128-6e33-469d-b8e8-b8e030ea1f56"
    },
    {
      "cell_type": "markdown",
      "source": [
        "\n",
        "## <a name=\"04sample-space\">Sample Space, Outcomes and Events</a>\n",
        "\n",
        "----\n",
        "\n",
        "A <font color=\"dodgerblue\">**statistical experiment or\n",
        "observation**</font > is any random activity that results in a definite\n",
        "outcome.\n",
        "\n",
        "-   The <font color=\"dodgerblue\">**sample space**</font >, $\\color{dodgerblue}{\\Omega}$, is the set of all possible outcomes of an experiment.\n",
        "-   An <font color=\"dodgerblue\">**outcome**</font >, $\\color{dodgerblue}{\\omega}$, is a result from an experiment or observation.\n",
        "-   An <font color=\"dodgerblue\">**event**</font >, $\\color{dodgerblue}{A}$, is a collection of one or more outcomes from an experiment or observation.\n",
        "\n"
      ],
      "metadata": {
        "id": "R7lliDF-MdTW"
      },
      "id": "R7lliDF-MdTW"
    },
    {
      "cell_type": "markdown",
      "source": [
        "## <a name=\"04ex-roll\">Example: Rolling a Fair Six-Sided Die</a>\n",
        "\n",
        "----\n",
        "\n",
        "<figure>\n",
        "<img\n",
        "src=\"https://upload.wikimedia.org/wikipedia/commons/c/c4/2-Dice-Icon.svg\"\n",
        "alt=\"Image Credit: Adam Spiegler, CC BY-SA 4.0.\" width = \"20%\"/>\n",
        "<figcaption aria-hidden=\"true\">\n",
        "<a href=\"https://commons.wikimedia.org/wiki/File:2-Dice-Icon.svg\">Steaphan\n",
        "Greene</a>, <a href=\"https://creativecommons.org/licenses/by-sa/3.0\">CC\n",
        "BY-SA 3.0</a>, via Wikimedia\n",
        "Commons\n",
        "</figcaption>\n",
        "</figure>\n",
        "\n",
        "\n",
        "The study of probability was initially inspired by calculating odds of\n",
        "outcomes from card and dice games. For example, consider rolling a\n",
        "fair six-sided die.\n",
        "\n",
        "-   The sample space is $\\Omega = \\left\\{ 1, 2, 3, 4, 5, 6 \\right\\}$\n",
        "-   For a fair die, each of the six possible outcomes has an equally likely chance of occurring.\n",
        "-   One possible outcome is rolling a 4, $\\omega = 4$\n",
        "-   Let $A$ denote the event that the roll is a multiple of 3, $A = \\left\\{ 3, 6 \\right\\}$.\n",
        "\n"
      ],
      "metadata": {
        "id": "-P_34gWHMfzH"
      },
      "id": "-P_34gWHMfzH"
    },
    {
      "cell_type": "markdown",
      "source": [
        "## <a name=\"04equal-likelihood\">Probabilities with Equally Likely Outcomes</a>\n",
        "\n",
        "----\n",
        "\n",
        "For finite sample spaces, we often use counting to determine\n",
        "probabilities. A special case which we will encounter often is when each\n",
        "outcome in the sample space $\\Omega$ is equally likely to occur, and\n",
        "therefore\n",
        "\n",
        "$$ P(A) = \\frac{\\mbox{Number of outcomes in event $A$}}{\\mbox{Total number of outcomes in $\\Omega$}} $$\n",
        "\n",
        "We use the notation $P(A)$ to denote the probability that event $A$\n",
        "occurs.\n",
        "\n",
        "-   Probabilities are proportions between $0$ (impossible to occur) and $1$ (certain to occur) that we typically represent as decimals or fractions.\n",
        "-   Sometimes we convert the proportion to a percentage when giving a probability.\n",
        "\n"
      ],
      "metadata": {
        "id": "-k9BDD4Cs0m5"
      },
      "id": "-k9BDD4Cs0m5"
    },
    {
      "cell_type": "markdown",
      "source": [
        "## <a name=\"04q1\">Question 1</a>\n",
        "\n",
        "----\n",
        "\n",
        "If a person rolls a fair, six-sided die, what is the probability the\n",
        "result of the roll is a number that is divisible by 3?\n",
        "\n",
        "### <a name=\"04ans1\">Solution to Question 1</a>\n",
        "\n",
        "----\n",
        "\n",
        "<br>  \n",
        "<br>  \n",
        "<br>\n",
        "\n"
      ],
      "metadata": {
        "id": "W1HxAH3OsxRs"
      },
      "id": "W1HxAH3OsxRs"
    },
    {
      "cell_type": "markdown",
      "source": [
        "### <a name=\"04cardata\">Installing and Loading `carData` Package</a>\n",
        "\n",
        "----\n",
        "\n",
        "The data set `Arrests` is in the `carData` package in R which is not\n",
        "installed in Google Colaboratory.\n",
        "\n",
        "-   First run the code cell below to to install the `carData` package."
      ],
      "metadata": {
        "id": "whPTSqpAsqvH"
      },
      "id": "whPTSqpAsqvH"
    },
    {
      "cell_type": "code",
      "execution_count": null,
      "metadata": {
        "id": "a67c99be-d970-4c63-adbd-aae4a624eeb0"
      },
      "outputs": [],
      "source": [
        "install.packages(\"carData\")"
      ],
      "id": "a67c99be-d970-4c63-adbd-aae4a624eeb0"
    },
    {
      "cell_type": "markdown",
      "metadata": {
        "id": "6f51afeb-203f-4817-9f49-3ae7fb9c1cc9"
      },
      "source": [
        "-   Next load the package with the library command so we can access the\n",
        "    `Arrests` data set."
      ],
      "id": "6f51afeb-203f-4817-9f49-3ae7fb9c1cc9"
    },
    {
      "cell_type": "code",
      "execution_count": null,
      "metadata": {
        "id": "33b8247e-d8b5-4f2a-8a3f-5cace4bd9d73"
      },
      "outputs": [],
      "source": [
        "library(carData)"
      ],
      "id": "33b8247e-d8b5-4f2a-8a3f-5cace4bd9d73"
    },
    {
      "cell_type": "markdown",
      "metadata": {
        "id": "a7f13a87-8994-4edc-815a-9190318bf7b6"
      },
      "source": [
        "- **We can now access and explore the data set `Arrests` in `carData`.**\n",
        "\n"
      ],
      "id": "a7f13a87-8994-4edc-815a-9190318bf7b6"
    },
    {
      "cell_type": "markdown",
      "source": [
        "## <a name=\"04q2\">Question 2</a>\n",
        "\n",
        "----\n",
        "\n",
        "Use R functions such as `summary()`, `str()`, and/or `?Arrests` to\n",
        "answer some questions about the data:\n",
        "\n",
        "-   What data is included in the `Arrests` data set?\n",
        "-   How many observations are in the data?\n",
        "-   What is the population of interest?\n",
        "-   What is the source of the data?\n",
        "-   What are the categorical variables in the data set?\n",
        "-   What are the quantitative variables in the data set?\n",
        "-   Are the variable data types accurate, or do some variables need to\n",
        "    be converted to other data types?\n",
        "\n"
      ],
      "metadata": {
        "id": "Ax-9GCS2siMu"
      },
      "id": "Ax-9GCS2siMu"
    },
    {
      "cell_type": "code",
      "execution_count": null,
      "metadata": {
        "id": "426b3507-d294-4e69-9e43-6f18ada677f4"
      },
      "outputs": [],
      "source": [
        "# Use code cell to summarize and/or get help with Arrests data"
      ],
      "id": "426b3507-d294-4e69-9e43-6f18ada677f4"
    },
    {
      "cell_type": "markdown",
      "source": [
        "### <a name=\"O4ans2\">Solution to Question 2</a>\n",
        "\n",
        "----\n",
        "\n",
        "<br>  \n",
        "<br>  \n",
        "<br>"
      ],
      "metadata": {
        "id": "UR4rhvLBr5ms"
      },
      "id": "UR4rhvLBr5ms"
    },
    {
      "cell_type": "markdown",
      "metadata": {
        "id": "5a900ecf-f8c4-4424-9368-06a58820f786"
      },
      "source": [
        "## <a name=\"O4q3\">Question 3</a>\n",
        "\n",
        "----\n",
        "\n",
        "Suppose you would like to analyze whether female arrestees are more or\n",
        "less likely to be not released with a summons (and therefore detained in\n",
        "jail) compared to male arrestees. The two variables of interest are\n",
        "therefore `sex` and `released`.\n",
        "\n"
      ],
      "id": "5a900ecf-f8c4-4424-9368-06a58820f786"
    },
    {
      "cell_type": "markdown",
      "source": [
        "### <a name=\"O4q3a\">Question 3a</a>\n",
        "\n",
        "----\n",
        "\n",
        "Use the `table()` function, create a two-way table to summarize the\n",
        "relation between `sex` and `released`.\n",
        "\n",
        "#### <a name=\"O4ans3a\">Solution to Question 3a</a>\n",
        "\n",
        "----"
      ],
      "metadata": {
        "id": "AZS3Bj65sOLY"
      },
      "id": "AZS3Bj65sOLY"
    },
    {
      "cell_type": "code",
      "execution_count": null,
      "metadata": {
        "id": "907a43d3-220c-478b-85ec-58e8b14f9053"
      },
      "outputs": [],
      "source": [
        "table(?)"
      ],
      "id": "907a43d3-220c-478b-85ec-58e8b14f9053"
    },
    {
      "cell_type": "markdown",
      "metadata": {
        "id": "d871d6d1-5565-45aa-bae3-e93aa5e13abe"
      },
      "source": [
        "### <a name=\"O4q3b\">Question 3b</a>\n",
        "\n",
        "----\n",
        "\n",
        "You should see from your output in Question 3a that more Male arrestees\n",
        "were not released (829) compared the female arrestees that were not released\n",
        "(63). Why is it problematic to compare counts of female and male\n",
        "arrestees and conclude female arrestees are more likely to be detained\n",
        "(not be released)?\n",
        "\n",
        "#### <a name=\"O4ans3b\">Solution to Question 3b</a>\n",
        "\n",
        "----\n",
        "\n",
        "<br>  \n",
        "<br>  \n",
        "<br>\n",
        "\n"
      ],
      "id": "d871d6d1-5565-45aa-bae3-e93aa5e13abe"
    },
    {
      "cell_type": "markdown",
      "source": [
        "### <a name=\"O4q3c\">Question 3c</a>\n",
        "\n",
        "----\n",
        "\n",
        "What is the probability that a randomly selected arrestee in the study:\n",
        "\n",
        "1.  Was not released?\n",
        "2.  Was male?\n",
        "3.  Was not released and was male?\n",
        "4.  Was not released or was male?\n",
        "5.  Given that a person was male, what is the probability they were not\n",
        "    released?\n",
        "6. Given that a person was female, what is the probability they were not released?\n",
        "\n",
        "#### <a name=\"O4ans3c\">Solution to Question 3c</a>\n",
        "\n",
        "----\n",
        "\n",
        "Use the code cell below to compute each of the probabilities (1)-(5)."
      ],
      "metadata": {
        "id": "jyP3Hxl7sLDt"
      },
      "id": "jyP3Hxl7sLDt"
    },
    {
      "cell_type": "code",
      "execution_count": null,
      "metadata": {
        "id": "87da6f8b-c72f-45be-b0ed-b13628b3df6c"
      },
      "outputs": [],
      "source": [
        "# Enter code to compute each of the following\n",
        "# Be sure to print results to screen!\n",
        "# Find the probability that a randomly selected person in the study:\n",
        "\n",
        "# (1) was not released\n",
        "\n",
        "\n",
        "# (2) was Male\n",
        "\n",
        "\n",
        "# (3) was not released and was Male\n",
        "\n",
        "\n",
        "# (4) was not released or was Male\n",
        "\n",
        "\n",
        "# (5) was not released given they were Male\n",
        "\n"
      ],
      "id": "87da6f8b-c72f-45be-b0ed-b13628b3df6c"
    },
    {
      "cell_type": "markdown",
      "metadata": {
        "id": "1ca3f893-6b61-4d35-baf2-338a4d0b8a69"
      },
      "source": [
        "Summarize results below\n",
        "\n",
        "1.  The probability that a randomly selected person in the study was not released is $\\color{dodgerblue}{P(N)=??}$.\n",
        "\n",
        "2.  The probability that a randomly selected person in the study was Male is $\\color{dodgerblue}{P(M)=??}$.\n",
        "\n",
        "3.  The probability that a randomly selected person in the study was not released and was Male is $\\color{dodgerblue}{P(N \\cap M)=??}.$\n",
        "\n",
        "4.  The probability that a randomly selected person in the study was not released or was Male is $\\color{dodgerblue}{P(N \\cup M)=??}$.\n",
        "\n",
        "5.  Given that a person was Male, what is the probability they were not released?\n",
        "\n",
        "$$\\color{dodgerblue}{P(N \\ | \\ M)=??}$$\n",
        "\n"
      ],
      "id": "1ca3f893-6b61-4d35-baf2-338a4d0b8a69"
    },
    {
      "cell_type": "markdown",
      "source": [
        "### <a name=\"O4q3d\">Question 3d</a>\n",
        "\n",
        "----\n",
        "\n",
        "Based on the data from this study, do you believe Male arrestees are\n",
        "more, less, or equally likely to be detained (not be released) than\n",
        "Female arrestees? Support your answer using probabilities. You may want\n",
        "to compute additional probabilities that were not asked in [Question\n",
        "3c](#04q3c) before reaching your conclusion.\n",
        "\n",
        "#### <a name=\"O4ans3d\">Solution to Question 3d</a>\n",
        "\n",
        "----\n",
        "\n",
        "<br>  \n",
        "<br>  \n",
        "<br>\n",
        "\n"
      ],
      "metadata": {
        "id": "EoKxjCO2rw-9"
      },
      "id": "EoKxjCO2rw-9"
    },
    {
      "cell_type": "markdown",
      "source": [
        "# <a name=\"O4notation\">Simple and Conditional Probabilities</a>\n",
        "\n",
        "----\n",
        "\n",
        "Let $A$ and $B$ denote two events in sample space $\\Omega$, then\n",
        "\n",
        "-   $\\color{dodgerblue}{P(A)}$ is the probability that event $A$ occurs.\n",
        "-   $\\color{dodgerblue}{P(\\bar{A}) }$ is the probability that event $A$ <font color=\"dodgerblue\">**does NOT occur**</font >.\n",
        "-   The notation $\\color{dodgerblue}{\\bar{A}}$, is used to denote the <font color=\"dodgerblue\">**complement**</font > of $A$.\n",
        "-   $\\color{dodgerblue}{P(A \\cap B)}$ is the probability that events $A$ <font color=\"dodgerblue\">**and**</font > $B$ both occur.\n",
        "-   $\\color{dodgerblue}{P(A \\cap \\bar{B})}$ is the probability that <font color=\"dodgerblue\">**event A occurs and event B does not occur**</font >.\n",
        "-   $\\color{dodgerblue}{P(A \\cup B)}$ is the probability that either event $A$ <font color=\"dodgerblue\">**or**</font > event $B$ occurs (or both $A$ and $B$ occur).\n",
        "-   $\\color{dodgerblue}{P(B \\ | \\ A )}$ is the <font color=\"dodgerblue\">**conditional probability**</font > that event $B$ occurs <font color=\"dodgerblue\">**given that**</font > event $A$ occurs.\n",
        "\n",
        "\n"
      ],
      "metadata": {
        "id": "C2Kc_PAYrvla"
      },
      "id": "C2Kc_PAYrvla"
    },
    {
      "cell_type": "markdown",
      "source": [
        "# <a name=\"04prop\">Properties of Probability</a>\n",
        "\n",
        "----\n",
        "\n",
        "We can generalize the calculations from the previous study on people\n",
        "arrested for small quantities of marijuana to obtain the following\n",
        "results:\n",
        "\n",
        "Let $A$ and $B$ denote two events in sample space $\\Omega$, then\n",
        "\n",
        "-   <font color=\"dodgerblue\">**Additive property**</font >:\n",
        "    $P(A \\cup B) = P(A) + P(B) - P(A \\cap B)$.\n",
        "-   <font color=\"dodgerblue\">**Conditional Probability**</font >:\n",
        "    $\\displaystyle P(B | A) = \\frac{P(A \\cap B)}{P(A)}$\n",
        "-   <font color=\"dodgerblue\">**Multiplicative property**</font >:\n",
        "    $P(A \\cap B) = P(A) \\cdot P(B | A)$\n",
        "-   <font color=\"dodgerblue\">**Complement property**</font >:\n",
        "    $P(\\bar{A}) = 1 - P(A)$\n",
        "\n"
      ],
      "metadata": {
        "id": "p96Qj_4hrt9w"
      },
      "id": "p96Qj_4hrt9w"
    },
    {
      "cell_type": "markdown",
      "source": [
        "## <a name=\"04q4\">Question 4</a>\n",
        "\n",
        "----\n",
        "\n",
        "Match one of the <font color=\"dodgerblue\">**Venn\n",
        "diagrams**</font > labelled (i)-(vi) in the table below to one of the set\n",
        "operations below. Note that two of the Venn Diagrams do not match any of\n",
        "the set operations.\n",
        "\n",
        "| <font size=3>diagram (i)</font>  | <font size=3>diagram (ii)</font>  | <font size=3>diagram (iii)</font> |\n",
        "|--------------|---------------|----------------|\n",
        "| <img src=\"https://upload.wikimedia.org/wikipedia/commons/6/60/04fig-venn-001.png\" alt=\"Image Credit: Adam Spiegler, CC BY-SA 4.0.\"  /> | <img src=\"https://upload.wikimedia.org/wikipedia/commons/0/0f/04fig-venn-002.png\" alt=\"Image Credit: Adam Spiegler, CC BY-SA 4.0.\" /> | <img src=\"https://upload.wikimedia.org/wikipedia/commons/c/c4/04fig-venn-003.png\" alt=\"Image Credit: Adam Spiegler, CC BY-SA 4.0.\"  />  |\n",
        "\n",
        "\n",
        "| <font size=3>diagram (iv)</font>  | <font size=3>diagram (v)</font> | <font size=3>diagram (vi)</font>   |\n",
        "|---------------|-------------|----------------|\n",
        "| <img src=\"https://upload.wikimedia.org/wikipedia/commons/7/73/04fig-venn-004.png\" alt=\"Image Credit: Adam Spiegler, CC BY-SA 4.0.\"  /> | <img src=\"https://upload.wikimedia.org/wikipedia/commons/7/77/04fig-venn-008.png\" alt=\"Image Credit: Adam Spiegler, CC BY-SA 4.0.\"  />| <img src=\"https://upload.wikimedia.org/wikipedia/commons/9/9e/04fig-venn-005.png\" alt=\"Image Credit: Adam Spiegler, CC BY-SA 4.0.\"  /> |\n",
        "\n",
        "Image credit: Adam Spiegler, [CC BY-SA\n",
        "4.0](https://creativecommons.org/licenses/by-sa/4.0), via Wikimedia\n",
        "Commons\n",
        "\n",
        "### <a name=\"04ans4\">Solution to Question 4</a>\n",
        "\n",
        "----\n",
        "\n",
        "| $\\large{\\bar{A}}$      | $\\large{A \\cup B}$ | $\\large{A \\cap B}$ | $\\large{A \\cap \\bar{B}}$   |\n",
        "|------------|------------|------------|------------|\n",
        "| <font size=3>Diagram ??</font> | <font size=3>Diagram ??</font> | <font size=3>Diagram ??</font> | <font size=3>Diagram ??</font> |\n",
        "\n",
        "<br> <br> <br>\n",
        "\n"
      ],
      "metadata": {
        "id": "XNV0Tf9Rrr2l"
      },
      "id": "XNV0Tf9Rrr2l"
    },
    {
      "cell_type": "markdown",
      "source": [
        "## <a name=\"04q5\">Question 5</a>\n",
        "\n",
        "----\n",
        "\n",
        "Suppose the probability that CU football will beat CSU is 70%, while the probability that CU will beat Kansas is 40%.  \n",
        "\n",
        "$$ P(A) = 0.7, P(B) = 0.4 $$\n",
        "\n",
        "Where the event A = {CU beats CSU} and event B = {CU beats KU}.\n",
        "\n",
        "\n"
      ],
      "metadata": {
        "id": "zxTm5pVgypHh"
      },
      "id": "zxTm5pVgypHh"
    },
    {
      "cell_type": "markdown",
      "source": [
        "### <a name=\"04q5a\">Question 5a</a>\n",
        "\n",
        "----\n",
        "\n",
        "What is the probability that CU football wins both games?  How would you write this in probability notation?\n",
        "\n",
        "#### <a name=\"04ans5a\">Solution to Question 5a</a>\n",
        "\n",
        "----\n",
        "\n",
        "<br>  \n",
        "<br>  \n",
        "<br>\n",
        "\n"
      ],
      "metadata": {
        "id": "8ByjpvFZN64r"
      },
      "id": "8ByjpvFZN64r"
    },
    {
      "cell_type": "markdown",
      "source": [
        "### <a name=\"04q5b\">Question 5b</a>\n",
        "\n",
        "----\n",
        "\n",
        "What is the probability that CU wins **at least** one game?  How would you write this in probability notation?\n",
        "\n",
        "#### <a name=\"04ans5b\">Solution to Question 5b</a>\n",
        "\n",
        "----\n",
        "\n",
        "<br>  \n",
        "<br>  \n",
        "<br>\n",
        "\n"
      ],
      "metadata": {
        "id": "BDeJEd47N5fD"
      },
      "id": "BDeJEd47N5fD"
    },
    {
      "cell_type": "markdown",
      "source": [
        "### <a name=\"04q5c\">Question 5c</a>\n",
        "\n",
        "----\n",
        "\n",
        "What is the probability that CU wins only one game?  Again, write in probability notation.\n",
        "\n",
        "#### <a name=\"04ans5c\">Solution to Question 5c</a>\n",
        "\n",
        "----\n",
        "\n",
        "<br>  \n",
        "<br>  \n",
        "<br>\n",
        "\n"
      ],
      "metadata": {
        "id": "RVRunuLnN3ZF"
      },
      "id": "RVRunuLnN3ZF"
    },
    {
      "cell_type": "markdown",
      "source": [
        "### <a name=\"04ans5d\">Question 5d</a>\n",
        "\n",
        "----\n",
        "\n",
        "What is the probability that CU wins no games?  Again, write in probability notation.\n",
        "\n",
        "#### <a name=\"04q5d\">Solution to Question 5d</a>\n",
        "\n",
        "----\n",
        "\n",
        "<br>  \n",
        "<br>  \n",
        "<br>\n",
        "\n"
      ],
      "metadata": {
        "id": "-k678ZMhN1gL"
      },
      "id": "-k678ZMhN1gL"
    },
    {
      "cell_type": "markdown",
      "source": [
        "# <a name=\"04ind\">Independent Events</a>\n",
        "\n",
        "----\n",
        "\n",
        "Often in statistics we want to investigate questions such as:\n",
        "\n",
        "-   Is a newly developed vaccine effective?\n",
        "-   Do certain sentencing laws have an effect on crime rates?\n",
        "-   Did increasing the minimum wage for fast food workers effect fast food prices?\n",
        "-   **Does the occurrence of one event** $M$ (being male) **effect the likelihood that another event** $N$ (being detained after arrest) **occurs**?\n",
        "\n"
      ],
      "metadata": {
        "id": "-_geZkxXNxz2"
      },
      "id": "-_geZkxXNxz2"
    },
    {
      "cell_type": "markdown",
      "source": [
        "## <a name=\"04def-ind\">Definition of Independent Events</a>\n",
        "\n",
        "----\n",
        "\n",
        "Two events $A$ and $B$ are\n",
        "<font color=\"dodgerblue\">**independent**</font > if the\n",
        "occurrence of one has no effect on the occurrence of the other:\n",
        "\n",
        "$$ P(B) = P(B \\ | \\ A) \\quad \\mbox{or} \\quad P(A) = P(A \\ | \\ B).$$\n",
        "\n",
        "**Special case:** If events $A$ and $B$ are independent events then we\n",
        "have $P(A \\cap B) = P(A)P(B)$.\n",
        "\n"
      ],
      "metadata": {
        "id": "TX1hdbKPNwQC"
      },
      "id": "TX1hdbKPNwQC"
    },
    {
      "cell_type": "markdown",
      "source": [
        "## <a name=\"04q6\">Question 6</a>\n",
        "\n",
        "----\n",
        "\n",
        "Consider the board game picture below. You begin at the start position\n",
        "and flip a fair coin. If the result of the flip is tails, you move\n",
        "forward one space on the board. If the result is heads, you move forward\n",
        "two spaces on the board. Keep flipping a fair coin (with tails moving\n",
        "one space and heads two spaces) until you reach the winner position.\n",
        "\n",
        "<figure>\n",
        "<img\n",
        "src=\"https://upload.wikimedia.org/wikipedia/commons/d/d9/Simple-boardgame.png\"\n",
        "alt=\"Image Credit: Adam Spiegler, CC BY-SA 4.0.\" />\n",
        "<figcaption aria-hidden=\"true\">\n",
        "Image Credit: Adam Spiegler, CC BY-SA 4.0\n",
        "<https://creativecommons.org/licenses/by-sa/4.0>, via Wikimedia Commons\n",
        "</figcaption>\n",
        "</figure>\n",
        "\n",
        "-   What is the probability that you win in each exactly two flips?\n",
        "-   What is the probability that you win in each exactly three flips?\n",
        "-   What is the probability that you win in each exactly four flips?\n",
        "\n",
        "### <a name=\"04ans6\">Solution to Question 6</a>\n",
        "\n",
        "----\n",
        "\n",
        "<br>  \n",
        "<br>  \n",
        "<br>\n",
        "\n"
      ],
      "metadata": {
        "id": "KiImJYieNtcB"
      },
      "id": "KiImJYieNtcB"
    },
    {
      "cell_type": "markdown",
      "source": [
        "## <a name=\"04q7\">Question 7</a>\n",
        "\n",
        "----\n",
        "\n",
        "Does having health insurance help avoid bankruptcies? Let $B$ denote the\n",
        "event a person goes bankrupt. Let $H$ denote the event a person has\n",
        "health insurance.\n",
        "\n"
      ],
      "metadata": {
        "id": "uR26c6uRNrXS"
      },
      "id": "uR26c6uRNrXS"
    },
    {
      "cell_type": "markdown",
      "source": [
        "### <a name=\"04q7a\">Question 7a</a>\n",
        "\n",
        "----\n",
        "\n",
        "What is the difference in the practical meaning $P(H \\ | \\ B)$ and\n",
        "$P(B \\ | \\  H )$? Explain in practical terms that a non-statistician\n",
        "could understand, and avoiding technical language.\n",
        "\n",
        "#### <a name=\"04ans7a\">Solution to Question 7a</a>\n",
        "\n",
        "----\n",
        "\n",
        "\n",
        "<br>  \n",
        "<br>  \n",
        "<br>\n",
        "\n"
      ],
      "metadata": {
        "id": "tACl_LvBNp2u"
      },
      "id": "tACl_LvBNp2u"
    },
    {
      "cell_type": "markdown",
      "source": [
        "### <a name=\"04q7b\">Question 7b</a>\n",
        "\n",
        "----\n",
        "\n",
        "Can you determine whether having health insurance has any affect on the\n",
        "likelihood that a person goes bankrupt by comparing $P(H \\ | \\ B)$ and\n",
        "$P(B \\ | \\ H )$?\n",
        "\n",
        "-   If so, explain how you would compare those to probabilities to help\n",
        "    answer the question.\n",
        "-   If not, what additional probability (or probabilities) would be\n",
        "    useful to know in order to answer this question.\n",
        "\n",
        "#### <a name=\"04ans7b\">Solution to Question 7b</a>\n",
        "\n",
        "----\n",
        "\n",
        "\n",
        "<br>  \n",
        "<br>  \n",
        "<br>\n",
        "\n"
      ],
      "metadata": {
        "id": "3t5pU5vQNoOM"
      },
      "id": "3t5pU5vQNoOM"
    },
    {
      "cell_type": "markdown",
      "source": [
        "# <a name=\"04excl\">Mutually Exclusive Events</a>\n",
        "\n",
        "----\n",
        "\n",
        "Two events $A$ and $B$ are <font color=\"dodgerblue\">**mutually\n",
        "exclusive**</font > (or\n",
        "<font color=\"dodgerblue\">**disjoint**</font >) if they cannot\n",
        "occur at the same time, and therefore $P(A \\cap B) = 0$.\n",
        "\n",
        "**Special case:** If events $A$ and $B$ are disjoint then we have\n",
        "$P(A \\cup B) = P(A)+P(B)$.\n",
        "\n"
      ],
      "metadata": {
        "id": "vvuKNYYbNlvV"
      },
      "id": "vvuKNYYbNlvV"
    },
    {
      "cell_type": "markdown",
      "source": [
        "## <a name=\"04q8\">Question 8</a>\n",
        "\n",
        "----\n",
        "\n",
        "Give an example of two events that are mutually exclusive, and give an\n",
        "example of two events that are not mutually exclusive.\n",
        "\n",
        "#### <a name=\"04ans8\">Solution to Question 8</a>\n",
        "\n",
        "----\n",
        "\n",
        "\n",
        "<br>  \n",
        "<br>  \n",
        "<br>\n",
        "\n"
      ],
      "metadata": {
        "id": "TrseoBUmNjGH"
      },
      "id": "TrseoBUmNjGH"
    },
    {
      "cell_type": "markdown",
      "source": [
        "# <a name=\"04prob-dist\">Probability Distributions</a>\n",
        "\n",
        "----\n",
        "\n",
        "A function $P$ that assigns a real number $P(A)$ to each event $A$ is a\n",
        "<font color=\"dodgerblue\">**probability distribution**</font > or\n",
        "a <font color=\"dodgerblue\">**probability measure**</font > if it\n",
        "satisfies the following three axioms:\n",
        "\n",
        "-   $0 \\leq P(A) \\leq 1$ for all $A$.\n",
        "-   $P(\\mbox{full sample space})=P(\\Omega) = 1$.\n",
        "-   If $A$ and $B$ are disjoint, then\n",
        "\n",
        "$$P \\left( A \\cup B \\right) = P(A) + P(B).$$\n",
        "\n"
      ],
      "metadata": {
        "id": "ncx9qHMRNht_"
      },
      "id": "ncx9qHMRNht_"
    },
    {
      "cell_type": "markdown",
      "source": [
        "# <a name=\"CC License\">Creative Commons License Information</a>\n",
        "---\n",
        "\n",
        "\n",
        "![Creative Commons\n",
        "License](https://i.creativecommons.org/l/by-nc-sa/4.0/88x31.png)\n",
        "\n",
        "*Statistical Methods: Exploring the Uncertain* by [Adam\n",
        "Spiegler (University of Colorado Denver)](https://github.com/CU-Denver-MathStats-OER/Statistical-Theory)\n",
        "is licensed under a [Creative Commons\n",
        "Attribution-NonCommercial-ShareAlike 4.0 International\n",
        "License](http://creativecommons.org/licenses/by-nc-sa/4.0/). This work is funded by an [Institutional OER Grant from the Colorado Department of Higher Education (CDHE)](https://cdhe.colorado.gov/educators/administration/institutional-groups/open-educational-resources-in-colorado).\n",
        "\n",
        "For similar interactive OER materials in other courses funded by this project in the Department of Mathematical and Statistical Sciences at the University of Colorado Denver, visit <https://github.com/CU-Denver-MathStats-OER>."
      ],
      "metadata": {
        "id": "XYaPzcSoGgEu"
      },
      "id": "XYaPzcSoGgEu"
    }
  ],
  "nbformat": 4,
  "nbformat_minor": 5,
  "metadata": {
    "kernelspec": {
      "name": "ir",
      "display_name": "R",
      "language": "R"
    },
    "colab": {
      "provenance": [],
      "include_colab_link": true
    }
  }
}