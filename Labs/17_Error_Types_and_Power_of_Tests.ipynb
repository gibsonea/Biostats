{
  "cells": [
    {
      "cell_type": "markdown",
      "metadata": {
        "id": "view-in-github",
        "colab_type": "text"
      },
      "source": [
        "<a href=\"https://colab.research.google.com/github/gibsonea/Biostats/blob/main/Labs/17_Error_Types_and_Power_of_Tests.ipynb\" target=\"_parent\"><img src=\"https://colab.research.google.com/assets/colab-badge.svg\" alt=\"Open In Colab\"/></a>"
      ]
    },
    {
      "cell_type": "markdown",
      "metadata": {
        "id": "9a2d4a8a-f07b-419b-ac52-441accf5032f"
      },
      "source": [
        "# <a name=\"25intro\">6.5 Error Types and Power of Tests</a>\n",
        "\n",
        "---\n",
        "\n",
        "The result of a hypothesis test has one of two possibilities:\n",
        "\n",
        "-   If <font color=\"mediumseagreen\">**p-value $\\leq \\alpha$, we reject $H_0$**</font>, and we have enough evidence to support the claim in $H_a$.\n",
        "-   If <font color=\"tomato\">**p-value $> \\alpha$, we fail to reject $H_0$**</font>. However, in this case we do not accept $H_0$. The test is inconclusive.\n",
        "\n",
        "As with confidence intervals, it is possible we do all of our analysis perfectly without any mistakes, but our conclusion is incorrect due to the variability in sampling. Even if we choose our sample randomly, there is a small possibility we are unlucky and pick a sample that is not representative of the population and arrive at an incorrect conclusion.\n",
        "\n",
        "\n",
        "In this section, we explore the following questions:\n",
        "\n",
        "-   What type of errors are possible with hypothesis testing?\n",
        "-   What are the practical implications of making errors?\n",
        "-   How can we calculate the probability of *correctly* rejecting $H_0$?"
      ],
      "id": "9a2d4a8a-f07b-419b-ac52-441accf5032f"
    },
    {
      "cell_type": "markdown",
      "metadata": {
        "id": "b5a3e1af-a5dc-4893-8199-0e24c81d68f1"
      },
      "source": [
        "# <a name=\"25error-types\">Type I and Type II Errors</a>\n",
        "\n",
        "---\n",
        "\n",
        "There are two possible errors in a hypothesis test:\n",
        "\n",
        "-   A <font color=\"dodgerblue\">**type I error**</font> occurs if we incorrectly reject $H_0$ when it is true.\n",
        "    -   This is known as a <font color=\"dodgerblue\">**false positive**</font>.\n",
        "-   A <font color=\"tomato\">**type II error**</font> occurs if we incorrectly fail to reject $H_0$ when it is false.\n",
        "    -   This is known as a <font color=\"tomato\">**false negative**</font>.\n",
        "\n",
        "\n",
        "For example, when a jury is deciding a case in court, the hypotheses would be:\n",
        "\n",
        "- $H_0$: The accused person is innocent (we assume the person is innocent).\n",
        "- $H_a$: The accused person is guilty (requires evidence beyond a reasonable doubt).\n",
        "\n",
        "A jury can make two possible errors:\n",
        "\n",
        "- If they falsely convict an innocent person, they have made a <font color=\"dodgerblue\">type I error</font>.\n",
        "- If they do not convict a guilty person, they have made a <font color=\"tomato\">type II error</font>.\n",
        "\n"
      ],
      "id": "b5a3e1af-a5dc-4893-8199-0e24c81d68f1"
    },
    {
      "cell_type": "markdown",
      "metadata": {
        "id": "589c1d9f-7fa3-489f-89d0-07e39c413026"
      },
      "source": [
        "## <a name=\"25q1\"> Question 1</a>\n",
        "\n",
        "---\n",
        "\n",
        "A hospital is testing to see whether a donated organ is a match for a\n",
        "recipient in need of an organ transplant.\n",
        "\n",
        "-   $H_0$: The organ is not a match (boring).\n",
        "-   $H_a$: The organ is a match (interesting).\n",
        "\n",
        "Describe the type I and type II errors in this context. What are the\n",
        "practical consequences of making these errors?\n",
        "\n",
        "### <a name=\"25sol1\">Solution to  Question 1</a>\n",
        "\n",
        "---\n",
        "\n",
        "<br>  \n",
        "<br>  \n",
        "<br>"
      ],
      "id": "589c1d9f-7fa3-489f-89d0-07e39c413026"
    },
    {
      "cell_type": "markdown",
      "metadata": {
        "id": "a7ca3448-01d2-4df4-b0dc-5e2dc9474958"
      },
      "source": [
        "## <a name=\"25q2\"> Question 2</a>\n",
        "\n",
        "---\n",
        "\n",
        "A lab runs viral tests to see whether a person is currently infected\n",
        "with COVID-19.\n",
        "\n",
        "-   $H_0$: The person is not currently infected with COVID-19 (boring).\n",
        "-   $H_a$: The person is currently infected with COVID-19 (interesting).\n",
        "\n",
        "Describe the type I and type II errors in this context. What are the\n",
        "practical consequences of making these errors?\n",
        "\n",
        "### <a name=\"25sol2\">Solution to  Question 2</a>\n",
        "\n",
        "---\n",
        "\n",
        "<br>  \n",
        "<br>  \n",
        "<br>"
      ],
      "id": "a7ca3448-01d2-4df4-b0dc-5e2dc9474958"
    },
    {
      "cell_type": "markdown",
      "metadata": {
        "id": "7a5a1a81-a7e7-4cea-9873-da62e0261fd1"
      },
      "source": [
        "## <a name=\"25q3\"> Question 3</a>\n",
        "\n",
        "---\n",
        "\n",
        "The cholesterol level of healthy men is normally distributed with a mean\n",
        "of 180 mg/dL and a standard deviation of 20 mg/dL, whereas men\n",
        "predisposed to heart disease have a mean cholesterol level of 300 mg/dL\n",
        "with a standard deviation of 30 mg/dL. The cholesterol level 225 mg/dL\n",
        "is used to demarcate healthy from predisposed men."
      ],
      "id": "7a5a1a81-a7e7-4cea-9873-da62e0261fd1"
    },
    {
      "cell_type": "markdown",
      "metadata": {
        "id": "7593261f-8297-4aa3-a1f9-b55617667079"
      },
      "source": [
        "### <a name=\"25q3a\"> Question 3a</a>\n",
        "\n",
        "---\n",
        "\n",
        "Given that a man is healthy, what is the probability they are diagnosed\n",
        "as predisposed?\n",
        "\n",
        "#### <a name=\"25sol3a\">Solution to  Question 3a</a>\n",
        "\n",
        "---"
      ],
      "id": "7593261f-8297-4aa3-a1f9-b55617667079"
    },
    {
      "cell_type": "code",
      "execution_count": null,
      "metadata": {
        "id": "f1ed4d93-13c9-466d-a25f-b880cb7f58d5"
      },
      "outputs": [],
      "source": [
        "# code cell to help with calculations\n"
      ],
      "id": "f1ed4d93-13c9-466d-a25f-b880cb7f58d5"
    },
    {
      "cell_type": "markdown",
      "metadata": {
        "id": "39c23376-b7de-44ca-a4f1-ee5b8d51e744"
      },
      "source": [
        "<br>  \n",
        "<br>"
      ],
      "id": "39c23376-b7de-44ca-a4f1-ee5b8d51e744"
    },
    {
      "cell_type": "markdown",
      "metadata": {
        "id": "ac021659-40d0-4fac-93c9-acb7b31cabdd"
      },
      "source": [
        "### <a name=\"25q3b\"> Question 3b</a>\n",
        "\n",
        "---\n",
        "\n",
        "Given that a man is not healthy, what is the probability they are not\n",
        "diagnosed as predisposed?\n",
        "\n",
        "#### <a name=\"25sol3b\">Solution to  Question 3b</a>\n",
        "\n",
        "---"
      ],
      "id": "ac021659-40d0-4fac-93c9-acb7b31cabdd"
    },
    {
      "cell_type": "code",
      "execution_count": null,
      "metadata": {
        "id": "b18018f3-5e9c-414b-a69e-d1d8fbd88e7e"
      },
      "outputs": [],
      "source": [
        "# code cell to help with calculations\n"
      ],
      "id": "b18018f3-5e9c-414b-a69e-d1d8fbd88e7e"
    },
    {
      "cell_type": "markdown",
      "metadata": {
        "id": "546f5328-e136-458d-842c-3558e835714c"
      },
      "source": [
        "<br>  \n",
        "<br>"
      ],
      "id": "546f5328-e136-458d-842c-3558e835714c"
    },
    {
      "cell_type": "markdown",
      "metadata": {
        "id": "95516ccf-6ad5-48c3-9d7c-2990bf4330b9"
      },
      "source": [
        "### <a name=\"25q3c\"> Question 3c</a>\n",
        "\n",
        "---\n",
        "\n",
        "Which of the previous answers gives the probability of a type I error and\n",
        "which is for a type II error? Explain.\n",
        "\n",
        "#### <a name=\"25sol3c\">Solution to  Question 3c</a>\n",
        "\n",
        "---\n",
        "\n",
        "<br>  \n",
        "<br>  \n",
        "<br>"
      ],
      "id": "95516ccf-6ad5-48c3-9d7c-2990bf4330b9"
    },
    {
      "cell_type": "markdown",
      "metadata": {
        "id": "4b1648f7-3161-43ba-b635-304b9f3cbe70"
      },
      "source": [
        "## <a name=\"25q4\"> Question 4</a>\n",
        "\n",
        "---\n",
        "\n",
        "Suppose we want to test whether a ten-sided die is fair (with sides\n",
        "numbered 0 to 9). Let $p$ be the proportion of all rolls that land on an\n",
        "even number."
      ],
      "id": "4b1648f7-3161-43ba-b635-304b9f3cbe70"
    },
    {
      "cell_type": "markdown",
      "metadata": {
        "id": "6e441206-7995-4a5f-b9fe-fe803bb24229"
      },
      "source": [
        "### <a name=\"25q4a\"> Question 4a</a>\n",
        "\n",
        "---\n",
        "\n",
        "Set up the hypotheses to test our claim.\n",
        "\n",
        "#### <a name=\"25sol4a\">Solution to  Question 4a</a>\n",
        "\n",
        "---\n",
        "\n",
        "-   $H_0$:\n",
        "\n",
        "-   $H_a$:\n",
        "\n",
        "<br>  \n",
        "<br>"
      ],
      "id": "6e441206-7995-4a5f-b9fe-fe803bb24229"
    },
    {
      "cell_type": "markdown",
      "metadata": {
        "id": "c79160f5-acc9-416b-85e3-cabf641a5c66"
      },
      "source": [
        "### <a name=\"25q4b\"> Question 4b</a>\n",
        "\n",
        "---\n",
        "\n",
        "Roll the die 20 times, and record how many times it lands on an even\n",
        "number (0, 2, 4, 6, or 8).  *If you do not have a ten-sided die, use the code cell below to simulate rolling a fair, ten-sided die $n=20$ times.*\n",
        "\n",
        "#### <a name=\"25sol4b\">Solution to  Question 4b</a>\n",
        "\n",
        "---\n",
        "\n"
      ],
      "id": "c79160f5-acc9-416b-85e3-cabf641a5c66"
    },
    {
      "cell_type": "code",
      "source": [
        "# run code cell if you do not have a 10-sided die\n",
        "sample(0:9, 20, replace = TRUE)"
      ],
      "metadata": {
        "id": "IVSmEWD3AY0j"
      },
      "id": "IVSmEWD3AY0j",
      "execution_count": null,
      "outputs": []
    },
    {
      "cell_type": "markdown",
      "source": [
        "\n",
        "\n",
        "<br>  \n",
        "<br>"
      ],
      "metadata": {
        "id": "6slHIp7uAXxv"
      },
      "id": "6slHIp7uAXxv"
    },
    {
      "cell_type": "markdown",
      "metadata": {
        "id": "5617827b-a4d0-425e-bf73-f6462d23cf96"
      },
      "source": [
        "### <a name=\"25q4c\"> Question 4c</a>\n",
        "\n",
        "---\n",
        "\n",
        "Calculate the p-value of your sample.\n",
        "\n",
        "#### <a name=\"25sol4c\">Solution to  Question 4c</a>\n",
        "\n",
        "---"
      ],
      "id": "5617827b-a4d0-425e-bf73-f6462d23cf96"
    },
    {
      "cell_type": "code",
      "execution_count": null,
      "metadata": {
        "id": "74641e26-c971-4256-9b92-d5a42abb2c5a"
      },
      "outputs": [],
      "source": [
        "# code cell to help with calculations\n"
      ],
      "id": "74641e26-c971-4256-9b92-d5a42abb2c5a"
    },
    {
      "cell_type": "markdown",
      "metadata": {
        "id": "3a3dce5e-7555-4cca-b528-3e30b644cceb"
      },
      "source": [
        "<br>  \n",
        "<br>"
      ],
      "id": "3a3dce5e-7555-4cca-b528-3e30b644cceb"
    },
    {
      "cell_type": "markdown",
      "metadata": {
        "id": "b4f01478-3776-4018-9edc-8ae0c3c5e676"
      },
      "source": [
        "### <a name=\"25q4d\"> Question 4d</a>\n",
        "\n",
        "---\n",
        "\n",
        "What (if anything) can you conclude about the hypothesis at 10%\n",
        "significance level?\n",
        "\n",
        "#### <a name=\"25sol4d\">Solution to  Question 4d</a>\n",
        "\n",
        "---\n",
        "\n",
        "<br>  \n",
        "<br>  \n",
        "<br>"
      ],
      "id": "b4f01478-3776-4018-9edc-8ae0c3c5e676"
    },
    {
      "cell_type": "markdown",
      "metadata": {
        "id": "c2ff4efd-a94b-431f-aafb-45e40e21315b"
      },
      "source": [
        "# <a name=\"25sig\">The Significance Level Revisited</a>\n",
        "\n",
        "---\n",
        "\n",
        "The <font color=\"dodgerblue\">**significance level**</font> of a\n",
        "hypothesis test is the **largest value of $\\mathbf{\\alpha}$ we\n",
        "find acceptable for the probability for a type I error**."
      ],
      "id": "c2ff4efd-a94b-431f-aafb-45e40e21315b"
    },
    {
      "cell_type": "markdown",
      "metadata": {
        "id": "07a13b62-11d9-4b21-990b-b760ff20bcba"
      },
      "source": [
        "## <a name=\"25q5\"> Question 5</a>\n",
        "\n",
        "---\n",
        "\n",
        "<figure>\n",
        "<img\n",
        "src=\"https://www.seobility.net/en/wiki/images/5/54/Social-Sharing.png\"\n",
        "width = \"45.0%\" alt=\"Social Sharing\"\n",
        "alt=\"Credit: Seobility CC BY-SA 4.0\" />\n",
        "<figcaption aria-hidden=\"true\">\n",
        "Credit: Seobility <a href=\"https://creativecommons.org/licenses/by-sa/4.0/deed.en\">CC BY-SA 4.0</a>\n",
        "</figcaption>\n",
        "</figure>\n",
        "\n",
        "A company claims that only 3% of people who use their facial lotion\n",
        "develop an allergic reaction (a rash). You are suspicious of their claim\n",
        "based on hearing some of your friends had an allergic reaction, and you\n",
        "believe it is more than 3%. You pick a random sample of 50 people and\n",
        "have them try the lotion. **If more than 3 out of the 50 people develop\n",
        "the rash, you will blow up social media with posts about the dishonesty\n",
        "of the company's claim.**"
      ],
      "id": "07a13b62-11d9-4b21-990b-b760ff20bcba"
    },
    {
      "cell_type": "markdown",
      "metadata": {
        "id": "7363e9d4-869c-439f-9446-ea1ab1b84687"
      },
      "source": [
        "### <a name=\"25q5a\"> Question 5a</a>\n",
        "\n",
        "---\n",
        "\n",
        "Set up hypotheses for this test.\n",
        "\n",
        "#### <a name=\"25sol5a\">Solution to  Question 5a</a>\n",
        "\n",
        "---\n",
        "\n",
        "-   $H_0$:\n",
        "\n",
        "-   $H_a$:\n",
        "\n",
        "<br>  \n",
        "<br>"
      ],
      "id": "7363e9d4-869c-439f-9446-ea1ab1b84687"
    },
    {
      "cell_type": "markdown",
      "metadata": {
        "id": "9865f951-0ffb-41c1-8eaa-edc891fa1c7e"
      },
      "source": [
        "### <a name=\"25q5b\"> Question 5b</a>\n",
        "\n",
        "---\n",
        "\n",
        "Explain what type I and type II errors are in this case. Make sure you\n",
        "explain in the context of this example.\n",
        "\n",
        "#### <a name=\"25sol5b\">Solution to  Question 5b</a>\n",
        "\n",
        "---\n",
        "\n",
        "<br>  \n",
        "<br>  \n",
        "<br>"
      ],
      "id": "9865f951-0ffb-41c1-8eaa-edc891fa1c7e"
    },
    {
      "cell_type": "markdown",
      "metadata": {
        "id": "7c14609c-5237-44f7-907b-bf0b11d53f18"
      },
      "source": [
        "### <a name=\"25q5c\"> Question 5c</a>\n",
        "\n",
        "---\n",
        "\n",
        "What is the probability of making a type I error?\n",
        "\n",
        "#### <a name=\"25sol5c\">Solution to  Question 5c</a>\n",
        "\n",
        "---"
      ],
      "id": "7c14609c-5237-44f7-907b-bf0b11d53f18"
    },
    {
      "cell_type": "code",
      "execution_count": null,
      "metadata": {
        "id": "f3b142e1-ad0d-44bf-894d-ad9ebbafac4c"
      },
      "outputs": [],
      "source": [
        "# code cell to help with calculations\n"
      ],
      "id": "f3b142e1-ad0d-44bf-894d-ad9ebbafac4c"
    },
    {
      "cell_type": "markdown",
      "metadata": {
        "id": "3eadcf48-e380-460e-901c-eb7621c09125"
      },
      "source": [
        "<br>  \n",
        "<br>  \n",
        "<br>"
      ],
      "id": "3eadcf48-e380-460e-901c-eb7621c09125"
    },
    {
      "cell_type": "markdown",
      "metadata": {
        "id": "f84ec411-2e59-437c-936f-1a290df8d1e2"
      },
      "source": [
        "### <a name=\"25q5d\"> Question 5d</a>\n",
        "\n",
        "---\n",
        "\n",
        "If you were to perform the hypothesis test at a 5% significance level,\n",
        "and you observe $X=4$, what would be the result of the test?\n",
        "\n",
        "#### <a name=\"25sol5d\">Solution to  Question 5d</a>\n",
        "\n",
        "---\n",
        "\n",
        "<br>  \n",
        "<br>  \n",
        "<br>"
      ],
      "id": "f84ec411-2e59-437c-936f-1a290df8d1e2"
    },
    {
      "cell_type": "markdown",
      "metadata": {
        "id": "47f8b190-aac2-4dd0-a99d-c6f36742c9c2"
      },
      "source": [
        "### <a name=\"25q6e\"> Question 5e</a>\n",
        "\n",
        "---\n",
        "\n",
        "For what values of $X$ would you reject $H_0$ at a 5% significance\n",
        "level?\n",
        "\n",
        "#### <a name=\"25sol6e\">Solution to  Question 5e</a>\n",
        "\n",
        "---\n",
        "\n",
        "<br>  \n",
        "<br>  \n",
        "<br>"
      ],
      "id": "47f8b190-aac2-4dd0-a99d-c6f36742c9c2"
    },
    {
      "cell_type": "markdown",
      "metadata": {
        "id": "34ce2077-a905-423a-a62b-24b37f53ab84"
      },
      "source": [
        "# <a name=\"25reject\">Rejection Regions</a>\n",
        "\n",
        "---\n",
        "\n",
        "When performing a hypothesis test at a significance level of $\\alpha$,\n",
        "the <font color=\"dodgerblue\">**rejection or critical region**</font>, denoted <font color=\"dodgerblue\">$\\mathscr{R}$</font>, is the set of all values of the test statistic for which we reject $H_0$. The endpoint(s) of the region are\n",
        "called <font color=\"dodgerblue\">**critical values**</font>."
      ],
      "id": "34ce2077-a905-423a-a62b-24b37f53ab84"
    },
    {
      "cell_type": "markdown",
      "metadata": {
        "id": "a963d509-ae57-40c5-b3dd-112f23607f6d"
      },
      "source": [
        "## <a name=\"25q6\"> Question 6</a>\n",
        "\n",
        "---\n",
        "\n",
        "In [Question 4](#25q4) we tested whether or not a ten-sided die is fair by rolling it 20 times and counting the number of rolls that land on an even number. If $p$ is the proportion of all rolls that land on an even number, then\n",
        "we have\n",
        "\n",
        "$$H_0: p = 0.5 \\qquad \\mbox{vs.} \\qquad H_a: p \\ne 0.5.$$"
      ],
      "id": "a963d509-ae57-40c5-b3dd-112f23607f6d"
    },
    {
      "cell_type": "markdown",
      "metadata": {
        "id": "fc8eb299-285a-41ac-ab4d-581a3d0db7a9"
      },
      "source": [
        "### <a name=\"25q6a\"> Question 6a</a>\n",
        "\n",
        "---\n",
        "\n",
        "If you found only $X=7$ rolls landed on an even number, what is the\n",
        "p-value?\n",
        "\n",
        "#### <a name=\"25sol6a\">Solution to  Question 6a</a>\n",
        "\n",
        "---"
      ],
      "id": "fc8eb299-285a-41ac-ab4d-581a3d0db7a9"
    },
    {
      "cell_type": "code",
      "execution_count": null,
      "metadata": {
        "id": "f20f96d1-e761-42bf-9a0b-ee555ffad4b4"
      },
      "outputs": [],
      "source": [
        "# code cell to help with calculations\n"
      ],
      "id": "f20f96d1-e761-42bf-9a0b-ee555ffad4b4"
    },
    {
      "cell_type": "markdown",
      "metadata": {
        "id": "59b61b33-067b-4f86-921f-e9d65569bb56"
      },
      "source": [
        "<br>  \n",
        "<br>"
      ],
      "id": "59b61b33-067b-4f86-921f-e9d65569bb56"
    },
    {
      "cell_type": "markdown",
      "metadata": {
        "id": "079a0bfe-a2ff-4010-bc13-e3a4dd6496ba"
      },
      "source": [
        "### <a name=\"25q6b\"> Question 6b</a>\n",
        "\n",
        "---\n",
        "\n",
        "Find the critical values and rejection region if we use a significance\n",
        "level of 10%.\n",
        "\n",
        "#### <a name=\"25sol6b\">Solution to  Question 6b</a>\n",
        "\n",
        "---"
      ],
      "id": "079a0bfe-a2ff-4010-bc13-e3a4dd6496ba"
    },
    {
      "cell_type": "code",
      "execution_count": null,
      "metadata": {
        "id": "cf379691-ff91-4190-8a1f-8377575132e7"
      },
      "outputs": [],
      "source": [
        "# code cell to help with calculations\n"
      ],
      "id": "cf379691-ff91-4190-8a1f-8377575132e7"
    },
    {
      "cell_type": "markdown",
      "metadata": {
        "id": "128f26da-85a7-4dbb-a3bd-d013f4af9fd1"
      },
      "source": [
        "<br>  \n",
        "<br>"
      ],
      "id": "128f26da-85a7-4dbb-a3bd-d013f4af9fd1"
    },
    {
      "cell_type": "markdown",
      "metadata": {
        "id": "126dca9c-f0cd-40fc-bc1f-10145e3eaede"
      },
      "source": [
        "# <a name=\"25power\">The Power of a Test</a>\n",
        "\n",
        "---"
      ],
      "id": "126dca9c-f0cd-40fc-bc1f-10145e3eaede"
    },
    {
      "cell_type": "markdown",
      "metadata": {
        "id": "7f803948-7552-41e0-a6a5-eb61ad86f5ae"
      },
      "source": [
        "## <a name=\"25q7\"> Question 7</a>\n",
        "\n",
        "---\n",
        "\n",
        "Suppose you are interested in the lengths of a certain species of snake\n",
        "in an ecosystem. Assume the lengths (in cm.) are normally distributed\n",
        "with unknown mean $\\mu$, but the standard deviation of the population is\n",
        "known to be $\\sigma = 4$ cm. It has been claimed that the mean length of\n",
        "this species is 25 cm. You believe the actual mean length is greater\n",
        "than 25 cm. You collect a random sample of 30 snakes. You will test\n",
        "using a significance level of $\\alpha = 0.05$."
      ],
      "id": "7f803948-7552-41e0-a6a5-eb61ad86f5ae"
    },
    {
      "cell_type": "markdown",
      "metadata": {
        "id": "797e661b-d5c6-4bba-b437-68b4929e3b59"
      },
      "source": [
        "### <a name=\"25q7a\"> Question 7a</a>\n",
        "\n",
        "---\n",
        "\n",
        "Set up hypotheses for the test.\n",
        "\n",
        "#### <a name=\"25sol7a\">Solution to  Question 7a</a>\n",
        "\n",
        "---\n",
        "\n",
        "-   $H_0$:\n",
        "\n",
        "-   $H_a$:\n",
        "\n",
        "<br>  \n",
        "<br>"
      ],
      "id": "797e661b-d5c6-4bba-b437-68b4929e3b59"
    },
    {
      "cell_type": "markdown",
      "metadata": {
        "id": "28610a7a-06b4-4bce-8137-36c0e88d6ced"
      },
      "source": [
        "### <a name=\"25q7b\"> Question 7b</a>\n",
        "\n",
        "---\n",
        "\n",
        "Find the critical value, and give the rejection region.\n",
        "\n",
        "#### <a name=\"25sol7b\">Solution to  Question 7b</a>\n",
        "\n",
        "---"
      ],
      "id": "28610a7a-06b4-4bce-8137-36c0e88d6ced"
    },
    {
      "cell_type": "code",
      "execution_count": null,
      "metadata": {
        "id": "920e2e2c-09a6-4238-8344-66305d911390"
      },
      "outputs": [],
      "source": [
        "# code cell to help with calculations\n"
      ],
      "id": "920e2e2c-09a6-4238-8344-66305d911390"
    },
    {
      "cell_type": "markdown",
      "metadata": {
        "id": "e88087f3-93c1-4e42-8a2a-16788552fc19"
      },
      "source": [
        "<br>  \n",
        "<br>"
      ],
      "id": "e88087f3-93c1-4e42-8a2a-16788552fc19"
    },
    {
      "cell_type": "markdown",
      "metadata": {
        "id": "270e35ad-6a4b-4fd8-a40b-2c6b06190549"
      },
      "source": [
        "### <a name=\"25q7c\"> Question 7c</a>\n",
        "\n",
        "---\n",
        "\n",
        "If in fact $\\mu = 27$ cm, what is the probability of making a type II\n",
        "error?\n",
        "\n",
        "#### <a name=\"25sol7c\">Solution to  Question 7c</a>\n",
        "\n",
        "---"
      ],
      "id": "270e35ad-6a4b-4fd8-a40b-2c6b06190549"
    },
    {
      "cell_type": "code",
      "execution_count": null,
      "metadata": {
        "id": "6723dba6-5614-489b-8bfe-1e34938d23c9"
      },
      "outputs": [],
      "source": [
        "# code cell to help with calculations\n"
      ],
      "id": "6723dba6-5614-489b-8bfe-1e34938d23c9"
    },
    {
      "cell_type": "markdown",
      "metadata": {
        "id": "efc2b621-b29b-4b98-850d-594e24e79967"
      },
      "source": [
        "<br>  \n",
        "<br>"
      ],
      "id": "efc2b621-b29b-4b98-850d-594e24e79967"
    },
    {
      "cell_type": "markdown",
      "metadata": {
        "id": "88d59395-7bc9-448a-b366-4279ae9da1c4"
      },
      "source": [
        "### <a name=\"25q7d\"> Question 7d</a>\n",
        "\n",
        "---\n",
        "\n",
        "What is the probability of correctly rejecting $H_0$ when $H_a$ is true?\n",
        "\n",
        "#### <a name=\"25sol7d\">Solution to  Question 7d</a>\n",
        "\n",
        "---\n",
        "\n",
        "<br>  \n",
        "<br>  \n",
        "<br>"
      ],
      "id": "88d59395-7bc9-448a-b366-4279ae9da1c4"
    },
    {
      "cell_type": "markdown",
      "metadata": {
        "id": "xTr4E8rMsG7w"
      },
      "source": [
        "# <a name=\"25defpower\">Definition of the power of a test</a>\n",
        "\n",
        "---\n",
        "\n",
        "The <font color=\"dodgerblue\">**power**</font> of a test is the\n",
        "**probability of correctly rejecting $H_0$**.\n",
        "\n",
        "$${\\color{dodgerblue}{\\mbox{power} = P(\\mbox{Reject } H_0 \\  | \\  H_a \\mbox{ is true}) = 1 - {\\color{tomato}{\\beta}}}},$$\n",
        "\n",
        "where <font color=\"tomato\">$\\beta$</font> denotes the <font color=\"tomato\">probability of a type II error</font>.\n",
        "\n",
        "In biostatistics, the calculation of power is used to plan a study, usually before any data have been obtained, except possibly from a small preliminary study called a pilot study.\n",
        "\n",
        "Why should power concern us? The power of a test tells us how likely it is that a statistically significant difference will be detected based on a finite sample size n, if the alternative hypothesis is true (i.e., if $\\mu = \\mu_{1}$) that is, if the true mean $\\mu$ differs from the mean under the null hypothesis ($\\mu_{0}$). If the power is too low, then there is little chance of finding a significant difference and nonsignificant results are likely even if real differences exist between the true mean $\\mu$ of the group being studied and the null mean $\\mu_{0}$. An inadequate sample size is usually the cause of low power to detect a scientifically meaningful difference.\n"
      ],
      "id": "xTr4E8rMsG7w"
    },
    {
      "cell_type": "markdown",
      "metadata": {
        "id": "H5oYFa4DsNDL"
      },
      "source": [
        "# <a name=\"25prac\">Sample Size and Power</a>\n",
        "\n",
        "---"
      ],
      "id": "H5oYFa4DsNDL"
    },
    {
      "cell_type": "markdown",
      "metadata": {
        "id": "oG1HOaeUsP-z"
      },
      "source": [
        "## <a name=\"25q8\"> Question 8</a>\n",
        "\n",
        "---\n",
        "\n",
        "Suppose we want to test the hypothesis that mothers with low socio- economic status (SES) deliver babies whose birthweights are lower than “normal.” To test this hypothesis, a list is obtained of birthweights from 10 consecutive, full-term, live-born deliveries from the maternity ward of a hospital in a low-SES area. The mean birthweight ($\\bar{x}$) is found to be 115 oz with a sample standard deviation (s) of 24 oz. Suppose we know from nationwide surveys based on millions of deliveries that the mean birthweight in the United States is 120 oz. Can we actually say the underlying mean birthweight from this hospital is lower than the national average?\n",
        "\n",
        "We are testing the following hypothesis:\n",
        "\n",
        "$$H_0: \\mu=120 \\qquad \\mbox{versus} \\qquad H_a: \\mu < 120$$\n",
        "\n"
      ],
      "id": "oG1HOaeUsP-z"
    },
    {
      "cell_type": "markdown",
      "metadata": {
        "id": "_KQq_liKsTI5"
      },
      "source": [
        "### <a name=\"25q8a\"> Question 8a</a>\n",
        "\n",
        "---\n",
        "\n",
        "Find the critical value of the test at the 5% significance level and the rejection region.  Do you accept or reject the null hypothesis?"
      ],
      "id": "_KQq_liKsTI5"
    },
    {
      "cell_type": "markdown",
      "metadata": {
        "id": "HDSbcOyCsfum"
      },
      "source": [
        "#### <a name=\"25sol8a\">Solution to  Question 8a</a>\n",
        "\n",
        "---\n",
        "\n",
        "<br>\n",
        "<br>"
      ],
      "id": "HDSbcOyCsfum"
    },
    {
      "cell_type": "code",
      "source": [
        "#code cell for calculations"
      ],
      "metadata": {
        "id": "FYSzu4ZYsYJK"
      },
      "id": "FYSzu4ZYsYJK",
      "execution_count": null,
      "outputs": []
    },
    {
      "cell_type": "markdown",
      "metadata": {
        "id": "A6gIicGZsXhW"
      },
      "source": [
        "### <a name=\"25q8b\"> Question 8b</a>\n",
        "\n",
        "---\n",
        "\n",
        "Assume that the alternative hypothesis is true: $\\mu = 115$ and assume the standard deviation is the sample standard deviation, $\\sigma = 24$.  Find the probability of a Type II error and the power of the test.\n",
        "\n",
        "#### <a name=\"25sol8b\">Solution to  Question 8b</a>\n",
        "\n",
        "---\n",
        "\n",
        "<br>\n",
        "<br>"
      ],
      "id": "A6gIicGZsXhW"
    },
    {
      "cell_type": "code",
      "source": [
        "#code cell for calculations"
      ],
      "metadata": {
        "id": "BmeYgeUhsmP_"
      },
      "id": "BmeYgeUhsmP_",
      "execution_count": null,
      "outputs": []
    },
    {
      "cell_type": "markdown",
      "metadata": {
        "id": "b9LsWQy8k9Li"
      },
      "source": [
        "### <a name=\"25q8c\"> Question 8c</a>\n",
        "\n",
        "---\n",
        "\n",
        "Increasing the sample size of the study will increase the power of the test.  Assume you now have 100 birthweight measurements, what would the power of your test be?  Note that changing the sample size also changes the critical value so you will need to re-calculate that first.\n",
        "\n",
        "#### <a name=\"25sol8c\">Solution to  Question 8c</a>\n",
        "\n",
        "---\n",
        "<br>\n",
        "<br>\n"
      ],
      "id": "b9LsWQy8k9Li"
    },
    {
      "cell_type": "code",
      "source": [
        "#code cell for calculations"
      ],
      "metadata": {
        "id": "CSzmFyP8swKZ"
      },
      "id": "CSzmFyP8swKZ",
      "execution_count": null,
      "outputs": []
    },
    {
      "cell_type": "markdown",
      "metadata": {
        "id": "64090734-5cb8-44ca-8b66-ed5d90fa8a9e"
      },
      "source": [
        "# <a name=\"25append\">Appendix: Summary of Hypothesis Testing</a>\n",
        "\n",
        "---\n",
        "\n",
        "1.  State the <font color=\"dodgerblue\">**hypotheses**</font> and identify (from the alternative claim in $H_a$) if it is a one or two-tailed test.\n",
        "\n",
        "    -   $H_0$ is the “boring” claim. Express using an equal sign $=$.\n",
        "    -   $H_a$ is the claim we want to show is likely true. Use inequality sign ($>$, $<$, or $\\ne$).\n",
        "    -   State both $H_0$ and $H_a$ in terms of population parameters such as $\\mu_1-\\mu_2$ and $p_1-p_2$.\n",
        "\n",
        "2.  Compute the <font color=\"dodgerblue\">**test statistic**</font>.\n",
        "\n",
        "    -   If the observed sample contradicts the null claim, the result is significant.\n",
        "    -   A standardized test statistic measures how many SE's the observed stat is from the null claim.\n",
        "    -   A standardized test statistic with a large absolute value is supporting evidence to reject $H_0$.\n",
        "\n",
        "3.  Using the null distribution, compute the <font color=\"dodgerblue\">**p-value**</font>. The p-value is the probability of getting a sample with a test statistic as or more extreme than the observed sample assuming $H_0$ is true.\n",
        "\n",
        "    -   The p-value is the area in one or both tails beyond the test statistic.\n",
        "    -   The p-value is a probability, so we have $0 < \\mbox{p-value} < 1$.\n",
        "    -   The smaller the p-value, the stronger the evidence to reject $H_0$.\n",
        "\n",
        "4.  Based on the <font color=\"dodgerblue\">**significance level**</font>, $\\alpha$, make a decision to reject or not reject the null hypothesis\n",
        "\n",
        "    -   If p-value $\\leq \\alpha$, we reject $H_0$.\n",
        "    -   If p-value $> \\alpha$, we do not reject $H_0$.\n",
        "\n",
        "5.  <font color=\"dodgerblue\">**Summarize the results**</font> in practical terms, **in the context of the example**.\n",
        "\n",
        "    -   If we reject $H_0$, this means there is enough evidence to support the claim in $H_a$.\n",
        "    -   If we do not reject $H_0$, this means there is not evidence to reject $H_0$ nor support $H_a$. The test is inconclusive."
      ],
      "id": "64090734-5cb8-44ca-8b66-ed5d90fa8a9e"
    },
    {
      "cell_type": "markdown",
      "source": [
        "# <a name=\"25CC License\">Creative Commons License Information</a>\n",
        "---\n",
        "\n",
        "![Creative Commons\n",
        "License](https://i.creativecommons.org/l/by-nc-sa/4.0/88x31.png)\n",
        "\n",
        "*Statistical Methods: Exploring the Uncertain* by [Adam\n",
        "Spiegler (University of Colorado Denver)](https://github.com/CU-Denver-MathStats-OER/Statistical-Theory)\n",
        "is licensed under a [Creative Commons\n",
        "Attribution-NonCommercial-ShareAlike 4.0 International\n",
        "License](http://creativecommons.org/licenses/by-nc-sa/4.0/). This work is funded by an [Institutional OER Grant from the Colorado Department of Higher Education (CDHE)](https://cdhe.colorado.gov/educators/administration/institutional-groups/open-educational-resources-in-colorado).\n",
        "\n",
        "For similar interactive OER materials in other courses funded by this project in the Department of Mathematical and Statistical Sciences at the University of Colorado Denver, visit <https://github.com/CU-Denver-MathStats-OER>."
      ],
      "metadata": {
        "id": "o4bR8timX770"
      },
      "id": "o4bR8timX770"
    }
  ],
  "nbformat": 4,
  "nbformat_minor": 5,
  "metadata": {
    "kernelspec": {
      "name": "ir",
      "display_name": "R",
      "language": "R"
    },
    "colab": {
      "provenance": [],
      "toc_visible": true,
      "include_colab_link": true
    }
  }
}