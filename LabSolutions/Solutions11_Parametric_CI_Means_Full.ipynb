{
  "cells": [
    {
      "cell_type": "markdown",
      "metadata": {
        "id": "view-in-github",
        "colab_type": "text"
      },
      "source": [
        "<a href=\"https://colab.research.google.com/github/gibsonea/Biostats/blob/main/LabSolutions/Solutions11_Parametric_CI_Means_Full.ipynb\" target=\"_parent\"><img src=\"https://colab.research.google.com/assets/colab-badge.svg\" alt=\"Open In Colab\"/></a>"
      ]
    },
    {
      "cell_type": "markdown",
      "source": [
        "# <a name=\"19intro\">3.2: Parametric Confidence Intervals for Means</a>\n",
        "\n",
        "---\n",
        "\n",
        "We have been investigating [resampling methods](https://githubtocolab.com/CU-Denver-MathStats-OER/Statistical-Theory/blob/main/Chap5/16-Bootstrap-Dist.ipynb) as a tool to estimate the variability in sample statistics. Statistics such as means and proportions are linear combinations of random variables, and using [theory from probability](https://githubtocolab.com/CU-Denver-MathStats-OER/Statistical-Theory/blob/main/Chap2/06-Expected-Value-and-Variance.ipynb#06prop-ex), we are able the derive the [Central Limit Theorem (CLT)\n",
        "formulas](https://githubtocolab.com/CU-Denver-MathStats-OER/Statistical-Theory/blob/main/Chap3/10-Sampling-Dist-Mean.ipynb#10CLT) to model sampling distributions for means and proportions. In this section we will construct confidence intervals by applying a *parametric* approach that uses formulas from the CLT to measure the uncertainty (standard error)\n",
        "in our estimate.\n",
        "\n",
        "-   With  <font color=\"dodgerblue\">**parametric methods**</font>, we perform inference using formulas derived from theory to model the shape, center and spread of sampling distributions.\n",
        "- Monte Carlo methods such as bootstrap resampling are non-parametric since they use simulations to estimate sampling distributions.\n",
        "\n",
        "For statistics that are not linear combinations of independent random variables (such as medians, variances, and ratios of means) deriving\n",
        "formulas to model the sampling distribution is more complicated or not even possible. We can try [bootstrapping in these situations](https://githubtocolab.com/CU-Denver-MathStats-OER/Statistical-Theory/blob/main/Chap5/18-Bootstrap-Other-Stats.ipynb) instead!"
      ],
      "metadata": {
        "id": "1y1wepYnqyYT"
      },
      "id": "1y1wepYnqyYT"
    },
    {
      "cell_type": "markdown",
      "metadata": {
        "id": "ed1af2e8-9bbc-46aa-bb95-5ec728d66a0c"
      },
      "source": [
        "# <a name=\"19wind-intro\">Case Study: Average Wind Speed of Storms</a>\n",
        "\n",
        "---\n",
        "\n",
        "\n",
        "<figure>\n",
        "<img\n",
        "src=\"https://cdn.pixabay.com/photo/2012/09/26/17/26/winter-storm-58025_1280.jpg\"\n",
        "alt=\"Satellite Image of Hurricane\" width = \"40%\"/>\n",
        "<figcaption aria-hidden=\"true\">\n",
        "Credit: WikiImages, CC0 via <a\n",
        "href=\"https://pixabay.com/photos/hurricane-cyclone-typhoon-wind-58025/\">Pixabay</a>\n",
        "</figcaption>\n",
        "</figure>\n",
        "\n",
        "\n",
        "Suppose a climatologist has contacted us for help estimating the average wind speed of all storms in the North Atlantic. They have collected a random sample of $n=36$ wind speeds from North Atlantic storms over the past 5 years."
      ],
      "id": "ed1af2e8-9bbc-46aa-bb95-5ec728d66a0c"
    },
    {
      "cell_type": "markdown",
      "metadata": {
        "id": "8979cd89-bff0-49db-bb74-bef9b44ce424"
      },
      "source": [
        "## <a name=\"19wind-load\">Loading Storms Data</a>\n",
        "\n",
        "---\n",
        "\n",
        "When practicing [exploratory data analysis earlier](https://githubtocolab.com/CU-Denver-MathStats-OER/Statistical-Theory/blob/main/Chap1/03-EDA-Quantitative.ipynb#03data), we accessed the `dplyr` package that contains a data set from the [NOAA Hurricane Best Track\n",
        "Data](https://www.nhc.noaa.gov/data/#hurdat), called `storms`, with data on many different storm attributes. We will begin analyzing the variable `wind` that gives the wind speed in knots. Run the code cell below to:\n",
        "\n",
        "-   Load the `dplyr` package (which should already be installed), and\n",
        "-   Store the wind speeds to a new vector called `population`.\n"
      ],
      "id": "8979cd89-bff0-49db-bb74-bef9b44ce424"
    },
    {
      "cell_type": "code",
      "execution_count": null,
      "metadata": {
        "id": "e291a7b9-302f-48f7-b5fa-f41938a9f30c"
      },
      "outputs": [],
      "source": [
        "library(dplyr)\n",
        "population <- storms$wind"
      ],
      "id": "e291a7b9-302f-48f7-b5fa-f41938a9f30c"
    },
    {
      "cell_type": "markdown",
      "metadata": {
        "id": "f694dc13-64c5-4f8f-948c-6f2c095a210a"
      },
      "source": [
        "## <a name=\"19wind-samp\">Picking a Random Sample of Storms</a>\n",
        "\n",
        "---\n",
        "\n",
        "When performing statistical inference, we do not have complete data from the entire population. We typically have data from one sample picked randomly from the population. Based on the sample data, we try to estimate unknown parameters for the population. To begin our exploration of confidence intervals, suppose the 19,066 wind speeds in the `population` data represents the full population of all storms at all times in the North Atlantic. We investigate the following statistical question:\n",
        "\n",
        "> <font color=\"dodgerblue\">What is the average wind speed of all storms in the North Atlantic, $\\mu_{\\rm{wind}}$?</font>\n",
        "\n",
        "-   Assume we do not have access to all the `population` data and cannot directly calculate $\\mu_{\\rm{wind}}$.\n",
        "-   We will pick one random sample of 36 wind speeds from the `population`.\n",
        "-   We will use our sample to estimate the mean wind speed of all storms in the North Atlantic."
      ],
      "id": "f694dc13-64c5-4f8f-948c-6f2c095a210a"
    },
    {
      "cell_type": "markdown",
      "metadata": {
        "id": "35933f3e-bd43-479c-99da-5d75341756e0"
      },
      "source": [
        "## <a name=\"19q1\">Question 1</a>\n",
        "\n",
        "---\n",
        "\n",
        "Pick a random sample of $n=36$ wind speeds from the `population`. In picking your original sample, sample without replacement. Store your sample to a vector named `my.sample`.\n",
        "\n",
        "### <a name=\"19sol1\">Solution to Question 1</a>\n",
        "\n",
        "---"
      ],
      "id": "35933f3e-bd43-479c-99da-5d75341756e0"
    },
    {
      "cell_type": "code",
      "execution_count": null,
      "metadata": {
        "id": "2a6bd601-df94-46be-8f49-d02860861e78"
      },
      "outputs": [],
      "source": [
        "set.seed(14)  # fix randomization\n",
        "\n",
        "# pick one random sample of 36 wind speeds without replacement\n",
        "my.sample <- sample(population, size = 36 , replace = FALSE)"
      ],
      "id": "2a6bd601-df94-46be-8f49-d02860861e78"
    },
    {
      "cell_type": "markdown",
      "metadata": {
        "id": "4724113a-4342-4f7b-970f-851ab4595aaf"
      },
      "source": [
        "<br>  \n",
        "<br>"
      ],
      "id": "4724113a-4342-4f7b-970f-851ab4595aaf"
    },
    {
      "cell_type": "markdown",
      "metadata": {
        "id": "1cd6e768-aa8b-4641-83c1-d171ae7df246"
      },
      "source": [
        "## <a name=\"19q2\">Question 2</a>\n",
        "\n",
        "---\n",
        "\n",
        "Using the random sample `my.sample`, give a possible point estimate for $\\mu_{\\rm{wind}}$, the mean wind speed of all storms in the North Atlantic. The parameter $\\mu_{\\rm{wind}}$ is unknown since we assume the full `population` data is not available.\n",
        "\n",
        "### <a name=\"19sol2\">Solution to Question 2</a>\n",
        "\n",
        "---"
      ],
      "id": "1cd6e768-aa8b-4641-83c1-d171ae7df246"
    },
    {
      "cell_type": "code",
      "execution_count": null,
      "metadata": {
        "colab": {
          "base_uri": "https://localhost:8080/",
          "height": 34
        },
        "outputId": "25139c8d-1f48-4e48-f8fd-e4e345005849",
        "id": "wO8hkzmhB4Bs"
      },
      "outputs": [
        {
          "output_type": "display_data",
          "data": {
            "text/html": [
              "61.5277777777778"
            ],
            "text/markdown": "61.5277777777778",
            "text/latex": "61.5277777777778",
            "text/plain": [
              "[1] 61.52778"
            ]
          },
          "metadata": {}
        }
      ],
      "source": [
        "# use your sample to give a point estimate\n",
        "xbar <- mean(my.sample)\n",
        "\n",
        "xbar"
      ],
      "id": "wO8hkzmhB4Bs"
    },
    {
      "cell_type": "markdown",
      "metadata": {
        "id": "1lICLhDFB4Bt"
      },
      "source": [
        "<br>  \n",
        "\n",
        "$\\mu_{\\rm{wind}} \\approx \\bar{x} = 61.5$ knots.\n",
        "\n",
        "<br>"
      ],
      "id": "1lICLhDFB4Bt"
    },
    {
      "cell_type": "markdown",
      "metadata": {
        "id": "72d2abd3-96ec-4f69-8715-bb840fd8ebf5"
      },
      "source": [
        "# <a name=\"19wind-boot\">A Bootstrap Confidence Interval</a>\n",
        "\n",
        "---\n",
        "\n",
        "Before introducing parametric methods for constructing a confidence interval estimate, we first review resampling methods to construct a [bootstrap distribution](https://githubtocolab.com/CU-Denver-MathStats-OER/Statistical-Theory/blob/main/Chap5/16-Bootstrap-Dist.ipynb) from the sample `my.sample` that we can use to construct a [bootstrap confidence interval](https://githubtocolab.com/CU-Denver-MathStats-OER/Statistical-Theory/blob/main/Chap5/17-Bootstrap-Confidence-Int.ipynb). The code below uses the original sample `my.sample` to generate a bootstrap distribution for the sample mean wind speed (with $n=36$) that is stored in `boot.wind` for the next step.\n",
        "\n",
        "<br>\n",
        "\n",
        "<font color=\"mediumseagreen\">*Note: If you are not familiar with bootstrapping methods, but you would like to learn more about parametric methods, feel free to jump to the next section on [parametric methods](#19param-intro).*</span>"
      ],
      "id": "72d2abd3-96ec-4f69-8715-bb840fd8ebf5"
    },
    {
      "cell_type": "code",
      "execution_count": null,
      "metadata": {
        "id": "360f28b6-404a-4113-8467-3e505a71d84c"
      },
      "outputs": [],
      "source": [
        "# pick one random sample of 36 wind speeds without replacement\n",
        "set.seed(14)  # fixing seeding for randomization\n",
        "my.sample <- sample(population, size = 36, replace = FALSE)\n",
        "\n",
        "N <- 10^5  # Number of bootstrap samples\n",
        "boot.wind <- numeric(N)  # create vector to store bootstrap means\n",
        "n <- 36  # sample size\n",
        "\n",
        "# for loop that creates bootstrap dist\n",
        "for (i in 1:N)\n",
        "{\n",
        "  x <- sample(my.sample, size = n, replace = TRUE)  # pick a bootstrap resample\n",
        "  boot.wind[i] <- mean(x)  # compute bootstrap sample mean\n",
        "}\n",
        "\n",
        "boot.wind.est <- mean(boot.wind)  # mean of bootstrap dist\n",
        "boot.wind.se <- sd(boot.wind)  # bootstrap standard error\n",
        "my.mean <- mean(my.sample)  # original sample mean"
      ],
      "id": "360f28b6-404a-4113-8467-3e505a71d84c"
    },
    {
      "cell_type": "markdown",
      "metadata": {
        "id": "4a37338d-0105-4487-87ab-1aaa3f1ce974"
      },
      "source": [
        "In the code cell below, we use the bootstrap sample means (stored in `boot.wind` above) to construct a 95% bootstrap percentile confidence interval estimate for the mean wind speed of all North Atlantic storms."
      ],
      "id": "4a37338d-0105-4487-87ab-1aaa3f1ce974"
    },
    {
      "cell_type": "code",
      "execution_count": null,
      "metadata": {
        "colab": {
          "base_uri": "https://localhost:8080/",
          "height": 52
        },
        "id": "295fd0c5-1169-42a3-995d-a3dc488415cd",
        "outputId": "16c08a6b-c92f-4638-a1d9-c4db57a47339"
      },
      "outputs": [
        {
          "output_type": "display_data",
          "data": {
            "text/html": [
              "<strong>2.5%:</strong> 51.25"
            ],
            "text/markdown": "**2.5%:** 51.25",
            "text/latex": "\\textbf{2.5\\textbackslash{}\\%:} 51.25",
            "text/plain": [
              " 2.5% \n",
              "51.25 "
            ]
          },
          "metadata": {}
        },
        {
          "output_type": "display_data",
          "data": {
            "text/html": [
              "<strong>97.5%:</strong> 72.3611111111111"
            ],
            "text/markdown": "**97.5%:** 72.3611111111111",
            "text/latex": "\\textbf{97.5\\textbackslash{}\\%:} 72.3611111111111",
            "text/plain": [
              "   97.5% \n",
              "72.36111 "
            ]
          },
          "metadata": {}
        }
      ],
      "source": [
        "lower.boot.wind <- quantile(boot.wind, 0.025)  # lower 95% cutoff\n",
        "upper.boot.wind <- quantile(boot.wind, 0.975)  # upper 95% cutoff\n",
        "\n",
        "# print to screen\n",
        "lower.boot.wind\n",
        "upper.boot.wind"
      ],
      "id": "295fd0c5-1169-42a3-995d-a3dc488415cd"
    },
    {
      "cell_type": "markdown",
      "metadata": {
        "id": "f1f03f90-fe8f-4abc-9074-1090e26723bf"
      },
      "source": [
        "Based on the output from the previous code cell, we have a 95% bootstrap percentile confidence interval for the mean wind speed of all North Atlantic storms, namely from 51.25 knots to 72.36 knots. *Note the interval estimates may vary, so you likely have a slightly different interval estimate if you are working with a different sample.*\n",
        "\n",
        "In the code cell below, we plot the bootstrap distribution with the <font color=\"tomato\">original sample mean</font> of `my.sample` marked with a red vertical line and the <font color=\"dodgerblue\">cutoffs for the confidence\n",
        "interval</font> marked with blue vertical lines."
      ],
      "id": "f1f03f90-fe8f-4abc-9074-1090e26723bf"
    },
    {
      "cell_type": "code",
      "execution_count": null,
      "metadata": {
        "colab": {
          "base_uri": "https://localhost:8080/",
          "height": 437
        },
        "id": "a31d1c9e-a940-4dcb-9fe4-f47136d6e2f8",
        "outputId": "12d91e16-7081-48be-f7dd-0969fcf6a741"
      },
      "outputs": [
        {
          "output_type": "display_data",
          "data": {
            "text/plain": [
              "Plot with title “Bootstrap Distribution for Sample Mean”"
            ],
            "image/png": "[encoded data removed]"
          },
          "metadata": {
            "image/png": {
              "width": 420,
              "height": 420
            }
          }
        }
      ],
      "source": [
        "#################################\n",
        "# code is ready to run!\n",
        "# no need to edit the code cell\n",
        "#################################\n",
        "\n",
        "# plot bootstrap distribution\n",
        "hist(boot.wind,\n",
        "     breaks=20,\n",
        "     xlab = \"x.bar, sample mean wind speed (in knots)\",\n",
        "     main = \"Bootstrap Distribution for Sample Mean\",\n",
        "     cex.lab=1.5, cex.axis=1.5, cex.main=1.5)  # increase font size on labels\n",
        "\n",
        "# red line at the observed sample proportion\n",
        "abline(v = my.mean, col = \"firebrick2\", lwd = 2, lty = 1)\n",
        "\n",
        "# blue lines marking cutoffs\n",
        "abline(v = lower.boot.wind, col = \"blue\", lwd = 2, lty = 2)\n",
        "abline(v = upper.boot.wind, col = \"blue\", lwd = 2, lty = 2)"
      ],
      "id": "a31d1c9e-a940-4dcb-9fe4-f47136d6e2f8"
    },
    {
      "cell_type": "markdown",
      "metadata": {
        "id": "8dda3c35-6137-4408-8644-f392b629767d"
      },
      "source": [
        "# <a name=\"19param-intro\">A Parametric Method for Interval Estimates</a>\n",
        "\n",
        "---\n",
        "\n",
        "Recall the [68%-95%-99.7% empirical rule](https://githubtocolab.com/CU-Denver-MathStats-OER/Statistical-Theory/blob/main/Chap2/08-Common-Continuous-Distributions.ipynb#08empirical) for normal distributions that states approximately:\n",
        "\n",
        "-   68% of all values fall within one standard deviation (both above and below) from the mean.\n",
        "-   95% of all values fall within two standard deviations of the mean.\n",
        "-   99.7% of all values fall within three standard deviations of the mean."
      ],
      "id": "8dda3c35-6137-4408-8644-f392b629767d"
    },
    {
      "cell_type": "markdown",
      "metadata": {
        "id": "4c456f73-2151-4c46-ade4-c5a747fe4916"
      },
      "source": [
        "## <a name=\"19q3\">Question 3</a>\n",
        "\n",
        "---\n",
        "\n",
        "Check the accuracy of the empirical rule for normal distributions."
      ],
      "id": "4c456f73-2151-4c46-ade4-c5a747fe4916"
    },
    {
      "cell_type": "markdown",
      "metadata": {
        "id": "d1b9b1a5-7781-492f-9ae7-3fbe1b703d89"
      },
      "source": [
        "### <a name=\"19q3a\">Question 3a</a>\n",
        "\n",
        "---\n",
        "\n",
        "Using the R code cell below, check the accuracy of the approximation\n",
        "that 68% of the data is within $\\pm 1$ standard deviation from the mean.\n",
        "\n",
        "<font color=\"mediumseagreen\">*Hint: Using the standard normal distribution $Z \\sim N(0,1)$, compute $P(-1 < Z < 1)$.*</font>\n",
        "\n",
        "<br>\n",
        "\n",
        "#### <a name=\"19sol3a\">Solution to Question 3a</a>\n",
        "\n",
        "---"
      ],
      "id": "d1b9b1a5-7781-492f-9ae7-3fbe1b703d89"
    },
    {
      "cell_type": "code",
      "execution_count": null,
      "metadata": {
        "colab": {
          "base_uri": "https://localhost:8080/",
          "height": 34
        },
        "outputId": "42fb6da6-33b0-443c-f5bc-28e978eaf498",
        "id": "mKEOesP5CLMo"
      },
      "outputs": [
        {
          "output_type": "display_data",
          "data": {
            "text/html": [
              "0.682689492137086"
            ],
            "text/markdown": "0.682689492137086",
            "text/latex": "0.682689492137086",
            "text/plain": [
              "[1] 0.6826895"
            ]
          },
          "metadata": {}
        }
      ],
      "source": [
        "# how much data is within +/- 1 standard deviation?\n",
        "pnorm(1, 0, 1) - pnorm(-1, 0, 1)"
      ],
      "id": "mKEOesP5CLMo"
    },
    {
      "cell_type": "markdown",
      "metadata": {
        "id": "9P5sq20CCLM0"
      },
      "source": [
        "<br>  \n",
        "\n",
        "$$P(-1 < Z < 1) \\approx 0.6827$$\n",
        "\n",
        "<br>"
      ],
      "id": "9P5sq20CCLM0"
    },
    {
      "cell_type": "markdown",
      "metadata": {
        "id": "icjbI0TpCLM0"
      },
      "source": [
        "### <a name=\"19q3b\">Question 3b</a>\n",
        "\n",
        "---\n",
        "\n",
        "Using the R code cell below, check the accuracy of the approximation\n",
        "that 95% of the data is within $\\pm 2$ standard deviation from the mean.\n",
        "\n",
        "#### <a name=\"19sol3b\">Solution to Question 3b</a>\n",
        "\n",
        "---"
      ],
      "id": "icjbI0TpCLM0"
    },
    {
      "cell_type": "code",
      "execution_count": null,
      "metadata": {
        "colab": {
          "base_uri": "https://localhost:8080/",
          "height": 34
        },
        "outputId": "3eeb6403-8028-4a1a-c24f-98d5c6803bc0",
        "id": "4SdD73Y-CLM1"
      },
      "outputs": [
        {
          "output_type": "display_data",
          "data": {
            "text/html": [
              "0.954499736103642"
            ],
            "text/markdown": "0.954499736103642",
            "text/latex": "0.954499736103642",
            "text/plain": [
              "[1] 0.9544997"
            ]
          },
          "metadata": {}
        }
      ],
      "source": [
        "# how much data is within +/- 2 standard deviations?\n",
        "pnorm(2, 0, 1) - pnorm(-2, 0, 1)"
      ],
      "id": "4SdD73Y-CLM1"
    },
    {
      "cell_type": "markdown",
      "metadata": {
        "id": "SUm6Y2viCLM1"
      },
      "source": [
        "<br>  \n",
        "\n",
        "$$P(-2 < Z < 2) \\approx 0.9545$$\n",
        "\n",
        "<br>"
      ],
      "id": "SUm6Y2viCLM1"
    },
    {
      "cell_type": "markdown",
      "metadata": {
        "id": "-Ds6A1jUCLM1"
      },
      "source": [
        "### <a name=\"19q3c\">Question 3c</a>\n",
        "\n",
        "---\n",
        "\n",
        "Using the R code cell below, check the accuracy of the approximation\n",
        "that $99.7$% of the data is within $\\pm 3$ standard deviation from the\n",
        "mean.\n",
        "\n",
        "#### <a name=\"19sol3c\">Solution to Question 3c</a>\n",
        "\n",
        "---"
      ],
      "id": "-Ds6A1jUCLM1"
    },
    {
      "cell_type": "code",
      "execution_count": null,
      "metadata": {
        "colab": {
          "base_uri": "https://localhost:8080/",
          "height": 34
        },
        "outputId": "1d657b3c-639f-43c6-d1a9-1655c62edf2d",
        "id": "kf_H3s_SCLM1"
      },
      "outputs": [
        {
          "output_type": "display_data",
          "data": {
            "text/html": [
              "0.99730020393674"
            ],
            "text/markdown": "0.99730020393674",
            "text/latex": "0.99730020393674",
            "text/plain": [
              "[1] 0.9973002"
            ]
          },
          "metadata": {}
        }
      ],
      "source": [
        "# how much data is within +/- 3 standard deviations\n",
        "pnorm(3, 0, 1) - pnorm(-3, 0, 1)"
      ],
      "id": "kf_H3s_SCLM1"
    },
    {
      "cell_type": "markdown",
      "metadata": {
        "id": "e-GuBMXGCLM1"
      },
      "source": [
        "<br>  \n",
        "\n",
        "$$P(-3 < Z < 3) \\approx 0.9973$$\n",
        "\n",
        "<br>"
      ],
      "id": "e-GuBMXGCLM1"
    },
    {
      "cell_type": "markdown",
      "metadata": {
        "id": "pA3uf9DaCLM1"
      },
      "source": [
        "### <a name=\"19q3d\">Question 3d</a>\n",
        "\n",
        "---\n",
        "\n",
        "Let's improve the approximation that 95% of the data is withing $\\pm 2$ standard deviations from the mean. Find a more accurate approximation for $z^*$ such that $P( -z^* < Z < z^* ) = 0.95$.\n",
        "\n",
        "<font color=\"mediumseagreen\">*Hint: Sketch a picture to help determine how much area is in the left tail below $-z^*$ if 95% of the area is between $-z^*$ and $z^*$. Then use the `qnorm()` command.*</font>\n",
        "\n",
        "<br>\n",
        "\n",
        "#### <a name=\"19sol3d\">Solution to Question 3d</a>\n",
        "\n",
        "---"
      ],
      "id": "pA3uf9DaCLM1"
    },
    {
      "cell_type": "code",
      "execution_count": null,
      "metadata": {
        "colab": {
          "base_uri": "https://localhost:8080/",
          "height": 34
        },
        "id": "3ayirB-ICLM2",
        "outputId": "7927fdd3-7644-4457-b154-56b91e36ed71"
      },
      "outputs": [
        {
          "output_type": "display_data",
          "data": {
            "text/html": [
              "1.95996398454005"
            ],
            "text/markdown": "1.95996398454005",
            "text/latex": "1.95996398454005",
            "text/plain": [
              "[1] 1.959964"
            ]
          },
          "metadata": {}
        }
      ],
      "source": [
        "# find more accurate cutoffs for the middle 95%\n",
        "qnorm(0.975, 0, 1)"
      ],
      "id": "3ayirB-ICLM2"
    },
    {
      "cell_type": "markdown",
      "metadata": {
        "id": "5LQQBbE3CLM2"
      },
      "source": [
        "<br>  \n",
        "\n",
        "Since $P(Z < 1.96) = 0.975$, we have\n",
        "\n",
        "$$P(-1.96 < Z < 1.96) = 0.95.$$\n",
        "\n",
        "<br>"
      ],
      "id": "5LQQBbE3CLM2"
    },
    {
      "cell_type": "markdown",
      "metadata": {
        "id": "512a1122-02a4-40bb-b562-c6291d5cb7a8"
      },
      "source": [
        "## <a name=\"19q4\">Question 4</a>\n",
        "\n",
        "---\n",
        "\n",
        "Let $X$ denote the wind speed of a randomly selected North Atlantic\n",
        "storm. We use $\\mu$ and $\\sigma$ to denote the mean and standard\n",
        "deviation, respectively, of the wind speed of the population of all\n",
        "storms in the North Atlantic. Answer the questions below to investigate\n",
        "a different approach to constructing an interval estimate for $\\mu$."
      ],
      "id": "512a1122-02a4-40bb-b562-c6291d5cb7a8"
    },
    {
      "cell_type": "markdown",
      "metadata": {
        "id": "Ifh-XTE-CY2h"
      },
      "source": [
        "### <a name=\"19q4a\">Question 4a</a>\n",
        "\n",
        "---\n",
        "\n",
        "Let $\\overline{X}$ denote the distribution of sample means for samples\n",
        "size $n$. Recall we denote the mean and standard error of the sampling\n",
        "distribution as $\\mu_{\\overline{X}}$ and $\\sigma_{\\overline{X}}$,\n",
        "respectively.\n",
        "\n",
        "Justify each of the steps below.\n",
        "\n",
        "$$\\begin{aligned}\n",
        "0.95 &= P \\left( -1.96 < Z < 1.96 \\right) & \\mbox{from Question 3d}\\\\\n",
        "0.95 &= P \\left( -1.96 < \\frac{\\overline{X} - \\mu_{\\overline{X}}}{\\sigma_{\\overline{X}}} < 1.96 \\right) & \\mbox{Explanation 1}\\\\\n",
        "0.95 &=  P \\left( -1.96 < \\frac{\\overline{X} - \\mu}{\\frac{\\sigma}{\\sqrt{n}}} < 1.96 \\right) & \\mbox{Explanation 2}\\\\\n",
        "0.95 &= P \\left( -1.96 \\cdot \\frac{\\sigma}{\\sqrt{n}} < \\overline{X} - \\mu <  1.96 \\cdot \\frac{\\sigma}{\\sqrt{n}} \\right) & \\mbox{Explanation 3} \\\\\n",
        "0.95 &= P \\left( - \\overline{X} -1.96 \\cdot \\frac{\\sigma}{\\sqrt{n}} < - \\mu <  - \\overline{X} + 1.96 \\cdot \\frac{\\sigma}{\\sqrt{n}} \\right) & \\mbox{Explanation 4} \\\\\n",
        "0.95 &= P \\left( \\overline{X} - 1.96 \\cdot \\frac{\\sigma}{\\sqrt{n}} < \\mu < \\overline{X}+1.96 \\cdot \\frac{\\sigma}{\\sqrt{n}} \\right) & \\mbox{Explanation 5}\\\\\n",
        "\\end{aligned}$$\n",
        "\n",
        "#### <a name=\"19sol4a\">Solution to Question 4a</a>\n",
        "\n",
        "---\n",
        "\n",
        "Explanation 1:  <mark>Definition of $z$-score.</mark>\n",
        "\n",
        "<br>\n",
        "\n",
        "Explanation 2: <mark>Using the Central Limit Theorem for a Mean.</mark>\n",
        "\n",
        "<br>\n",
        "\n",
        "Explanation 3: <mark>Multiplying each term by $\\frac{\\sigma}{\\sqrt{n}}$.</mark>\n",
        "\n",
        "<br>\n",
        "\n",
        "Explanation 4: <mark>Subtracting $\\bar{X}$ from each term.</mark>\n",
        "\n",
        "<br>\n",
        "\n",
        "Explanation 5: <mark>Multiplying inequalities by $-1$,which also results in changing the direction of the inequalities.</mark>\n",
        "\n",
        "<br>  \n",
        "<br>"
      ],
      "id": "Ifh-XTE-CY2h"
    },
    {
      "cell_type": "markdown",
      "metadata": {
        "id": "SpUxxub1Ct_2"
      },
      "source": [
        "### <a name=\"19q4b\">Question 4b</a>\n",
        "\n",
        "---\n",
        "\n",
        "Let $\\mu_{\\rm{wind}}$ denote the mean wind speed of all North Atlantic\n",
        "storms which we assume is unknown. How can we use the result that\n",
        "$P \\left( \\overline{X} - 1.96\\cdot \\sigma_{\\overline{X}} < \\mu_{\\rm{wind}} < \\overline{X}+1.96 \\cdot \\sigma_{\\overline{X}} \\right)=0.95$\n",
        "to help construct a confidence interval for $\\mu_{\\rm{wind}}$?\n",
        "\n",
        "#### <a name=\"19sol4b\">Solution to Question 4b</a>\n",
        "\n",
        "---\n",
        "\n",
        "<br>  \n",
        "\n",
        "\n",
        "For a random sample with mean $\\bar{x}$, we see there is a 95% chance the interval  $\\overline{x} - 1.96\\cdot \\sigma_{\\overline{X}}$ to $\\overline{x}+1.96 \\cdot \\sigma_{\\overline{X}}$ contains the actual value of the population parameter $\\mu_{\\rm{wind}}$.\n",
        "\n",
        "<br>\n",
        "\n",
        "- Pick a random sample from the population.\n",
        "- Compute the sample mean $\\bar{x}$.\n",
        "- Calculate the standard error $\\sigma_{\\bar{X}} = \\frac{\\sigma_{X}}{\\sqrt{n}}$.\n",
        "- Find the cutoffs $\\bar{x} \\pm 1.96 \\cdot \\frac{\\sigma_{X}}{\\sqrt{n}}$.\n",
        "\n",
        "<br>"
      ],
      "id": "SpUxxub1Ct_2"
    },
    {
      "cell_type": "markdown",
      "metadata": {
        "id": "-x0FIHlhCuAA"
      },
      "source": [
        "### <a name=\"19q4c\">Question 4c</a>\n",
        "\n",
        "---\n",
        "\n",
        "You will use the original random sample of $n=36$ wind speeds stored in\n",
        "`my.sample` in [Question 1](#19q1) to construct an interval estimate using\n",
        "the result from [Question 4b](#19q4b). If you have not already loaded the\n",
        "`population` data and created a sample size $n=36$ stored in\n",
        "`my.sample`, be sure to answer [Question 1](#19q1) before continuing. Create\n",
        "a histogram to display the wind speeds in `my.sample`.\n",
        "\n",
        "#### <a name=\"19sol4c\">Solution to Question 4c</a>\n",
        "\n",
        "---"
      ],
      "id": "-x0FIHlhCuAA"
    },
    {
      "cell_type": "code",
      "execution_count": null,
      "metadata": {
        "colab": {
          "base_uri": "https://localhost:8080/",
          "height": 437
        },
        "outputId": "fe1d8c48-78a8-4d9c-98a7-e63a3d4fdfc8",
        "id": "bB58MvP1CuAB"
      },
      "outputs": [
        {
          "output_type": "display_data",
          "data": {
            "text/plain": [
              "Plot with title “Histogram of my.sample”"
            ],
            "image/png": "[encoded data removed]"
          },
          "metadata": {
            "image/png": {
              "width": 420,
              "height": 420
            }
          }
        }
      ],
      "source": [
        "# Enter code to create a histogram to display your sample\n",
        "hist(my.sample)"
      ],
      "id": "bB58MvP1CuAB"
    },
    {
      "cell_type": "markdown",
      "metadata": {
        "id": "7jmLIWCrCuAB"
      },
      "source": [
        "<br>  \n",
        "<br>"
      ],
      "id": "7jmLIWCrCuAB"
    },
    {
      "cell_type": "markdown",
      "metadata": {
        "id": "XJ-9sMxgCuAC"
      },
      "source": [
        "### <a name=\"19q4d\">Question 4d</a>\n",
        "\n",
        "---\n",
        "\n",
        "Are the assumptions for the CLT for means satisfied by the data in\n",
        "`my.sample`? Explain why or why not.\n",
        "\n",
        "#### <a name=\"19sol4d\">Solution to Question 4d</a>\n",
        "\n",
        "---\n",
        "\n",
        "<br>  \n",
        "\n",
        "Yes. The random sample is skewed to the right, so likely it has been selected from a population that is skewed to the right. However, since the sample size $n = 36 \\geq 30$ we can apply CLT even if the population is skewed.\n",
        "\n",
        "<br>"
      ],
      "id": "XJ-9sMxgCuAC"
    },
    {
      "cell_type": "markdown",
      "metadata": {
        "id": "Ch1V7fnYCuAC"
      },
      "source": [
        "### <a name=\"19q4e\">Question 4e</a>\n",
        "\n",
        "---\n",
        "\n",
        "We assume the `population` data is unknown and we do not know the actual\n",
        "value of the parameter $\\mu_{\\rm{wind}}$. However, **suppose we do know\n",
        "the population variance** $\\mbox{Var}(X) = \\sigma^2_{\\rm{wind}} = 650$\n",
        "square knots. Using the CLT for means, what is the value of\n",
        "$\\sigma_{\\overline{X}}$, the standard error of the sampling distribution\n",
        "for $\\overline{X}$? Show your work below either doing calculations by\n",
        "hand or in R. <font color=\"mediumseagreen\">*Tip: In R, the square root function is `sqrt()`.*\n",
        "\n",
        "#### <a name=\"19sol4e\">Solution to Question 4e</a>\n",
        "\n",
        "---"
      ],
      "id": "Ch1V7fnYCuAC"
    },
    {
      "cell_type": "code",
      "execution_count": null,
      "metadata": {
        "colab": {
          "base_uri": "https://localhost:8080/",
          "height": 34
        },
        "outputId": "56e1f080-965a-4ab8-8809-fdbfa39cd9dc",
        "id": "vKsVJSS8CuAC"
      },
      "outputs": [
        {
          "output_type": "display_data",
          "data": {
            "text/html": [
              "4.24918292799399"
            ],
            "text/markdown": "4.24918292799399",
            "text/latex": "4.24918292799399",
            "text/plain": [
              "[1] 4.249183"
            ]
          },
          "metadata": {}
        }
      ],
      "source": [
        "# compute standard error using CLT\n",
        "se <- sqrt(650) / sqrt(36)\n",
        "se"
      ],
      "id": "vKsVJSS8CuAC"
    },
    {
      "cell_type": "markdown",
      "metadata": {
        "id": "AORZr9TiCuAC"
      },
      "source": [
        "<br>  \n",
        "$$\\sigma_{\\bar{X}} = \\frac{\\sqrt{\\sigma^2_{\\rm{wind}}}}{\\sqrt{n}} = \\frac{\\sqrt{650}}{\\sqrt{36}} = 4.2492 \\mbox{ knots.}$$\n",
        "<br>"
      ],
      "id": "AORZr9TiCuAC"
    },
    {
      "cell_type": "markdown",
      "metadata": {
        "id": "v1xybIFkCuAC"
      },
      "source": [
        "### <a name=\"19q4f\">Question 4f</a>\n",
        "\n",
        "---\n",
        "\n",
        "Give an interval of values $?? < \\mu_{\\rm{wind}} < ??$ that has a 95%\n",
        "chance of containing the actual value of $\\mu_{\\rm{wind}}$. Include\n",
        "supporting work/code to explain how you determined your answer.\n",
        "\n",
        "#### <a name=\"19sol4f\">Solution to Question 4f</a>\n",
        "\n",
        "---\n",
        "\n",
        "For a random sample with sample mean $\\bar{X}$, we have:\n",
        "\n",
        "$$\\overline{X} - 1.96 \\frac{\\sigma}{\\sqrt{n}} < \\mu <  \\overline{X} + 1.96 \\frac{\\sigma}{\\sqrt{n}}.$$\n",
        "\n",
        "From `my.sample` (size $n=36$), we have ${\\color{dodgerblue}{\\bar{x} = 61.5}}$ knots. Since we know $\\sigma^{2}_{\\rm{wind}} = 650$, we have standard error ${\\color{tomato}{\\sigma_{\\bar{X}} = 4.2492}}$ knots.\n",
        "\n",
        "$${\\color{dodgerblue}{61.5}} - (1.96) ({\\color{tomato}{4.2492}}) < \\mu <  {\\color{dodgerblue}{61.5}} + (1.96)( {\\color{tomato}{4.2492}}) .$$\n"
      ],
      "id": "v1xybIFkCuAC"
    },
    {
      "cell_type": "code",
      "execution_count": null,
      "metadata": {
        "colab": {
          "base_uri": "https://localhost:8080/",
          "height": 52
        },
        "outputId": "596af1f2-52d8-4c6f-8a06-182a4850b7a5",
        "id": "0PLJwHpQCuAD"
      },
      "outputs": [
        {
          "output_type": "display_data",
          "data": {
            "text/html": [
              "53.1993792389096"
            ],
            "text/markdown": "53.1993792389096",
            "text/latex": "53.1993792389096",
            "text/plain": [
              "[1] 53.19938"
            ]
          },
          "metadata": {}
        },
        {
          "output_type": "display_data",
          "data": {
            "text/html": [
              "69.856176316646"
            ],
            "text/markdown": "69.856176316646",
            "text/latex": "69.856176316646",
            "text/plain": [
              "[1] 69.85618"
            ]
          },
          "metadata": {}
        }
      ],
      "source": [
        "# compute upper and lower cutoffs for interval estimate\n",
        "lower <- xbar - 1.96 * se\n",
        "upper <- xbar + 1.96 * se\n",
        "\n",
        "lower\n",
        "upper"
      ],
      "id": "0PLJwHpQCuAD"
    },
    {
      "cell_type": "markdown",
      "metadata": {
        "id": "fURWyVadCuAD"
      },
      "source": [
        "## A 95% Confidence Interval for the Mean\n",
        "<br>  \n",
        "\n",
        "Thus, a 95% confidence interval for the mean wind speed of all North Atlantic storms is\n",
        "\n",
        "$$\\boxed{53.20 \\mbox{ knots} < \\mu_{\\rm{wind}} < 69.86 \\mbox{ knots}}.$$\n",
        "\n",
        "<br>"
      ],
      "id": "fURWyVadCuAD"
    },
    {
      "cell_type": "markdown",
      "metadata": {
        "id": "84dde592-fdfc-454e-994d-b293c12fbb0e"
      },
      "source": [
        "# <a name=\"19ci-95\">95% Confidence Interval for a Mean</a>\n",
        "\n",
        "---\n",
        "\n",
        "For a sample of size $n$ randomly picked from a normal distribution with\n",
        "unknown $\\mu$ and known $\\mbox{Var}(X)=\\sigma^2$, a\n",
        " <font color=\"dodgerblue\">**95% confidence interval for the\n",
        "mean**</font> is\n",
        "\n",
        "$${\\color{dodgerblue}{\\boxed{ \\large \\overline{X} - 1.96 \\frac{\\sigma}{\\sqrt{n}} < \\mu <  \\overline{X} + 1.96 \\frac{\\sigma}{\\sqrt{n}}}}}.$$\n",
        "\n",
        "If we draw 1000's of random samples each size $n$ from a normal\n",
        "distribution with parameters $\\mu$ and $\\sigma^2$ and compute a 95%\n",
        "confidence interval from each sample, then\n",
        " <font color=\"dodgerblue\">**about 95% of the intervals would\n",
        "successfully contain** $\\mu$</font>. The 95% is the <font color=\"dodgerblue\">**confidence level**</font> of the interval and gives the success rate of the interval estimate."
      ],
      "id": "84dde592-fdfc-454e-994d-b293c12fbb0e"
    },
    {
      "cell_type": "markdown",
      "metadata": {
        "id": "1abe40f0-aedd-4383-a1b2-2653bc30b0bd"
      },
      "source": [
        "## <a name=\"19q5\">Question 5</a>\n",
        "\n",
        "---\n",
        "\n",
        "A another climatologist collects their own random sample of $n=36$ wind\n",
        "speeds of North Atlantic storms."
      ],
      "id": "1abe40f0-aedd-4383-a1b2-2653bc30b0bd"
    },
    {
      "cell_type": "markdown",
      "metadata": {
        "id": "636160f3-3769-43f3-ab04-d4929f711aef"
      },
      "source": [
        "### <a name=\"19q5a\">Question 5a</a>\n",
        "\n",
        "---\n",
        "\n",
        "Pick their random sample (without replacement) of $n=36$ wind speeds\n",
        "from the `population`. Store the other sample to a vector named\n",
        "`their.sample`.\n",
        "\n",
        "#### <a name=\"19sol5a\">Solution to Question 5a</a>\n",
        "\n",
        "---"
      ],
      "id": "636160f3-3769-43f3-ab04-d4929f711aef"
    },
    {
      "cell_type": "code",
      "execution_count": null,
      "metadata": {
        "id": "042dea87-4c14-4c1b-9f28-69fb1c26ed9d"
      },
      "outputs": [],
      "source": [
        "set.seed(001)\n",
        "# pick another random sample of 36 wind speeds without replacement\n",
        "their.sample <- sample(population, size = 36, replace = FALSE)"
      ],
      "id": "042dea87-4c14-4c1b-9f28-69fb1c26ed9d"
    },
    {
      "cell_type": "markdown",
      "metadata": {
        "id": "1bc8f903-bc1f-4684-9a1d-112bcc6d56c2"
      },
      "source": [
        "<br>  \n",
        "<br>"
      ],
      "id": "1bc8f903-bc1f-4684-9a1d-112bcc6d56c2"
    },
    {
      "cell_type": "markdown",
      "metadata": {
        "id": "ecf0c76e-e0bd-4823-8d65-9845e75ab4df"
      },
      "source": [
        "### <a name=\"19q5b\">Question 5b</a>\n",
        "\n",
        "---\n",
        "\n",
        "Using the random sample `their.sample`, give a possible point estimate\n",
        "for $\\mu_{\\rm{wind}}$, the mean wind speed of all storms in\n",
        "`population`.\n",
        "\n",
        "#### <a name=\"19sol5b\">Solution to Question 5b</a>\n",
        "\n",
        "---"
      ],
      "id": "ecf0c76e-e0bd-4823-8d65-9845e75ab4df"
    },
    {
      "cell_type": "code",
      "execution_count": null,
      "metadata": {
        "id": "09abe05d-9bc4-472c-b4e0-74bff3615420",
        "colab": {
          "base_uri": "https://localhost:8080/",
          "height": 34
        },
        "outputId": "c4a56e70-4a9a-406e-c5c2-7d86b746f8c2"
      },
      "outputs": [
        {
          "output_type": "display_data",
          "data": {
            "text/html": [
              "47.7777777777778"
            ],
            "text/markdown": "47.7777777777778",
            "text/latex": "47.7777777777778",
            "text/plain": [
              "[1] 47.77778"
            ]
          },
          "metadata": {}
        }
      ],
      "source": [
        "# use their sample to give another point estimate\n",
        "xbar.their <- mean(their.sample)\n",
        "xbar.their"
      ],
      "id": "09abe05d-9bc4-472c-b4e0-74bff3615420"
    },
    {
      "cell_type": "markdown",
      "metadata": {
        "id": "Fkx4fjblDHns"
      },
      "source": [
        "<br>  \n",
        "\n",
        "$\\mu_{\\rm{wind}} \\approx \\bar{x} = 47.78$ knots.\n",
        "\n",
        "<br>"
      ],
      "id": "Fkx4fjblDHns"
    },
    {
      "cell_type": "markdown",
      "metadata": {
        "id": "57e5e342-73ad-4047-8acf-c64d2ac6135b"
      },
      "source": [
        "### <a name=\"19q5c\">Question 5c</a>\n",
        "\n",
        "---\n",
        "\n",
        "Are the two point estimates in [Question 2](#19q2) and [Question 5b](#19q5b) equal?\n",
        "\n",
        "#### <a name=\"19sol5c\">Solution to Question 5c</a>\n",
        "\n",
        "---\n",
        "\n",
        "<br>  \n",
        "No!\n",
        "\n",
        "- In [Question 2](#19q2), we have $\\mu_{\\rm{wind}} \\approx \\bar{x} = 61.5$ knots.\n",
        "- In [Question 5b](#19q5b), we have $\\mu_{\\rm{wind}} \\approx \\bar{x} = 47.78$ knots.\n",
        "<br>"
      ],
      "id": "57e5e342-73ad-4047-8acf-c64d2ac6135b"
    },
    {
      "cell_type": "markdown",
      "metadata": {
        "id": "f89947ae-25cb-40a8-8e68-a8b578ad03cc"
      },
      "source": [
        "### <a name=\"19q5d\">Question 5d</a>\n",
        "\n",
        "---\n",
        "\n",
        "Are the true values of the population parameter different or the same\n",
        "for both climatologists?\n",
        "\n",
        "#### <a name=\"19sol5d\">Solution to Question 5d</a>\n",
        "\n",
        "---\n",
        "\n",
        "<br>  \n",
        "\n",
        "The population parameter is constant and the same for both people. The population parameter's value is not random at all, it is just unknown.\n",
        "\n",
        "<br>"
      ],
      "id": "f89947ae-25cb-40a8-8e68-a8b578ad03cc"
    },
    {
      "cell_type": "markdown",
      "metadata": {
        "id": "c5a8a710-c660-4c32-a60e-5648da391689"
      },
      "source": [
        "### <a name=\"19q5e\">Question 5e</a>\n",
        "\n",
        "---\n",
        "\n",
        "Without checking, which point estimate ([Question 2](#19q2) or [Question\n",
        "5b](#19q5b)) do you believe is “better”?\n",
        "\n",
        "#### <a name=\"19sol5e\">Solution to Question 5e</a>\n",
        "\n",
        "---\n",
        "\n",
        "<br>  \n",
        "\n",
        "We have no idea! They were both picked randomly using the same exact process.  \n",
        "\n",
        "<br>"
      ],
      "id": "c5a8a710-c660-4c32-a60e-5648da391689"
    },
    {
      "cell_type": "markdown",
      "metadata": {
        "id": "5f5997ab-5b25-461b-a766-b8fc2f476ec7"
      },
      "source": [
        "# <a name=\"19unknown\">What is Uncertain and What is Unknown?</a>\n",
        "\n",
        "---\n",
        "\n",
        "It can be easy to confuse the terms *uncertain* and *unknown*. In a less\n",
        "formal setting, people may use these terms interchangeably. In\n",
        "statistical inference, there is a clear distinction in their meaning\n",
        "that is important to clarify:\n",
        "\n",
        "-   Each  <font color=\"dodgerblue\">**sample statistic is a known value that is uncertain**</font> due to sampling.\n",
        "    -   Each climatologist has a different sample.\n",
        "    -   The sample means will be different for different researchers.\n",
        "-   The  <font color=\"dodgerblue\">**population parameter is an unknown value that is certain**</font> (not variable).\n",
        "    -   The parameter we are trying to estimate is a fixed (certain) value.\n",
        "    -   The value of the parameter is however unknown.\n",
        "-   Each climatologist has a different estimate but both are trying to hit the same fixed target.\n",
        "-   We cannot be certain whether our estimate is successful or not if $\\mu_{\\rm{wind}}$ is unknown!"
      ],
      "id": "5f5997ab-5b25-461b-a766-b8fc2f476ec7"
    },
    {
      "cell_type": "markdown",
      "metadata": {
        "id": "d8674fa5-34d2-419d-be60-2349087133f9"
      },
      "source": [
        "# <a name=\"19int-ci\">Interpreting Confidence Intervals</a>\n",
        "\n",
        "---"
      ],
      "id": "d8674fa5-34d2-419d-be60-2349087133f9"
    },
    {
      "cell_type": "markdown",
      "metadata": {
        "id": "2b9b62f4-a3eb-47aa-98ea-30d9ed9e29df"
      },
      "source": [
        "## <a name=\"19q6\">Question 6</a>\n",
        "\n",
        "---\n",
        "\n",
        "A researcher collects a random sample of size $n=36$ of wind\n",
        "speeds for storms in the North Atlantic and calculates a 95% confidence\n",
        "interval for the mean wind speed that is from $48.75$ knots to $65.41$\n",
        "knots. **For each statement, determine whether the interpretation is\n",
        "correct or not. If not, explain why not.**"
      ],
      "id": "2b9b62f4-a3eb-47aa-98ea-30d9ed9e29df"
    },
    {
      "cell_type": "markdown",
      "metadata": {
        "id": "435c1d02-f399-4056-bbff-c57535c88be9"
      },
      "source": [
        "### <a name=\"19q6a\">Question 6a</a>\n",
        "\n",
        "---\n",
        "\n",
        "There is a 95% chance that a randomly selected storm in the North\n",
        "Atlantic has a wind speed between $48.75$ and $65.41$ knots.\n",
        "\n",
        "#### <a name=\"19sol6a\">Solution to Question 6a</a>\n",
        "\n",
        "---\n",
        "\n",
        "<br>  \n",
        "\n",
        "95% confidence intervals are used to estimate the value of the mean wind speed of all storms (population parameter), not the value the wind speed of one randomly selected storm.\n",
        "\n",
        "<br>"
      ],
      "id": "435c1d02-f399-4056-bbff-c57535c88be9"
    },
    {
      "cell_type": "markdown",
      "metadata": {
        "id": "c21e05c6-6b0e-4af6-b68f-edb5d00a965b"
      },
      "source": [
        "### <a name=\"19q6b\">Question 6b</a>\n",
        "\n",
        "---\n",
        "\n",
        "There is a 95% chance that the mean wind speed of all storms in the\n",
        "North Atlantic is between $48.75$ and $65.41$ knots.\n",
        "\n",
        "#### <a name=\"19sol6b\">Solution to Question 6b</a>\n",
        "\n",
        "---\n",
        "\n",
        "<br>  \n",
        "\n",
        "Close, but NOT QUITE. <font color=\"dodgerblue\">**The uncertainty of the estimate is attached to the interval and not the population parameter.**</font>\n",
        "\n",
        "\n",
        "- The mean wind speed of all storms is not random or uncertain, it is a constant (certain) value which is unknown.\n",
        "\n",
        "- The interval estimate is uncertain due to the randomness in the sample selection.\n",
        "\n",
        "- Thus, attached the uncertainty of the estimate to the interval and not the population parameter!\n",
        "\n",
        "\n",
        "<br>"
      ],
      "id": "c21e05c6-6b0e-4af6-b68f-edb5d00a965b"
    },
    {
      "cell_type": "markdown",
      "metadata": {
        "id": "a008ab42-ead7-49c0-a7bd-c47ac0819945"
      },
      "source": [
        "### <a name=\"19q6c\">Question 6c</a>\n",
        "\n",
        "---\n",
        "\n",
        "There is a 95% chance the interval from $48.75$ to $65.41$ knots\n",
        "contains the mean wind speed of all storms in the North Atlantic.\n",
        "\n",
        "#### <a name=\"19sol6c\">Solution to Question 6c</a>\n",
        "\n",
        "---\n",
        "\n",
        "<br>  \n",
        "\n",
        "YES! This is a correct interpretation since:\n",
        "\n",
        "1. The interval is being interpreted as an estimate for the population paramter (mean wind speed of all storms).\n",
        "\n",
        "2. The uncertainty is correctly attached to the interval.\n",
        "\n",
        "\n",
        "<br>"
      ],
      "id": "a008ab42-ead7-49c0-a7bd-c47ac0819945"
    },
    {
      "cell_type": "markdown",
      "metadata": {
        "id": "422ddfe7-6eec-425f-922d-679f3fa05ecc"
      },
      "source": [
        "### <a name=\"19q6d\">Question 6d</a>\n",
        "\n",
        "---\n",
        "\n",
        "95% of all random samples of size $n=36$ North Atlantic storms have a\n",
        "sample mean wind speed between $48.75$ and $65.41$ knots.\n",
        "\n",
        "#### <a name=\"19sol6d\">Solution to Question 6d</a>\n",
        "\n",
        "---\n",
        "\n",
        "<br>  \n",
        "\n",
        "Not correct. Though mathematically this is approximately accurate, conceptually, this is not the goal of a confidence interval.\n",
        "\n",
        "- The goal of a confidence intervals is to estimate the value of a population parameter (the mean wind speed of all storms).\n",
        "\n",
        "- Confidence intervals are not used to describe the distribution of sample statistics.\n",
        "\n",
        "<br>"
      ],
      "id": "422ddfe7-6eec-425f-922d-679f3fa05ecc"
    },
    {
      "cell_type": "markdown",
      "metadata": {
        "id": "f9f972b4-e12b-4cb6-879a-400d48239a20"
      },
      "source": [
        "### <a name=\"19q6e\">Question 6e</a>\n",
        "\n",
        "---\n",
        "\n",
        "There is a 95% chance the interval from $48.75$ to $65.41$ knots\n",
        "contains the mean wind speed of a random sample of $n=36$ storms.\n",
        "\n",
        "#### <a name=\"19sol6e\">Solution to Question 6e</a>\n",
        "\n",
        "---\n",
        "\n",
        "<br>  \n",
        "\n",
        "This is not correct.\n",
        "\n",
        "- Confidence intervals are used to estimate the value of a population parameter (the mean wind speed of all storms).\n",
        "\n",
        "- Confidence intervals are not used to estimate the probability of picking a random sample with a certain statistic.\n",
        "\n",
        "<br>"
      ],
      "id": "f9f972b4-e12b-4cb6-879a-400d48239a20"
    },
    {
      "cell_type": "markdown",
      "metadata": {
        "id": "cdf6e4ea-5776-4d19-b7df-6fc5f5235761"
      },
      "source": [
        "## <a name=\"19attach\">Attaching Uncertainty to the Intervals</a>\n",
        "\n",
        "---\n",
        "\n",
        "The plot generated by the code below constructs 100 different confidence\n",
        "intervals based on 100 different random samples each size $n=36$ storms\n",
        "selected from the `population`. For each sample mean $\\overline{X}$, we\n",
        "follow the same process of constructing a 95% confidence interval using:\n",
        "\n",
        "$$\\overline{X} - 1.96 \\frac{\\sigma}{\\sqrt{n}} < \\mu_{\\rm{wind}} <  \\overline{X} + 1.96 \\frac{\\sigma}{\\sqrt{n}}.$$\n",
        "\n",
        "-   Each sample results is a different interval estimate (all with the same width).\n",
        "-   The true population mean is marked with a blue vertical line at $\\mu_{\\rm{wind}} = 50.02$ knots.\n",
        "-   The goal of each interval is to contain the same, fixed value of the population parameter.\n",
        "    -   The confidence intervals that  <font color=\"mediumseagreen\">successfully contain $\\mu_{\\rm{wind}} = 50.02$</font> are marked in green.\n",
        "    -   The unsuccessful confidence intervals that  <font color=\"tomato\">do not contain $\\mu_{\\rm{wind}} = 50.02$</font> are marked in red.\n",
        "        -    <font color=\"tomato\">2 out of the 100 interval estimates are underestimates.</font>\n",
        "        -    <font color=\"tomato\">2 out of the 100 interval estimates are overestimates.</font>\n",
        "    -    <font color=\"mediumseagreen\">We have a success rate of 96 out of 100 in this simulation.</font>\n",
        "-   If we ran this simulation many more times, the success rate would converge to 95%."
      ],
      "id": "cdf6e4ea-5776-4d19-b7df-6fc5f5235761"
    },
    {
      "cell_type": "code",
      "source": [
        "####################\n",
        "# run code\n",
        "# nothing to edit\n",
        "#####################\n",
        "set.seed(16)\n",
        "counter <- 0\n",
        "plot(x = c(30, 70),\n",
        "     y = c(1, 100),\n",
        "     type = \"n\",\n",
        "     xlab = \"wind speed (in knots)\",\n",
        "     ylab = \"Confidence Intervals\",\n",
        "     cex.lab=1.5, cex.axis=1.5, cex.main=1.5)  # increase font size on labels\n",
        "\n",
        "for (i in 1:100)\n",
        "{\n",
        "  x <- sample(population, size = 36, replace = FALSE)\n",
        "  L <- mean(x) - 1.96*sqrt(650/36)\n",
        "  U <- mean(x) + 1.96*sqrt(650/36)\n",
        "  if ( L < mean(population) && mean(population) < U)\n",
        "  {\n",
        "    counter <- counter + 1\n",
        "    plot.color  <- \"green\"\n",
        "  }\n",
        "  else\n",
        "    plot.color  <- \"red\"\n",
        "  segments(L, i, U, i, col = plot.color)\n",
        "}\n",
        "\n",
        "abline(v = mean(population), col = \"blue\")"
      ],
      "metadata": {
        "colab": {
          "base_uri": "https://localhost:8080/",
          "height": 437
        },
        "id": "yAUzQvinuoQr",
        "outputId": "9b5928f7-b0a8-47a7-c7e5-b360a1668685"
      },
      "id": "yAUzQvinuoQr",
      "execution_count": null,
      "outputs": [
        {
          "output_type": "display_data",
          "data": {
            "text/plain": [
              "plot without title"
            ],
            "image/png": "[encoded data removed]"
          },
          "metadata": {
            "image/png": {
              "width": 420,
              "height": 420
            }
          }
        }
      ]
    },
    {
      "cell_type": "markdown",
      "metadata": {
        "id": "ed7cca56-69b2-4abd-b319-14d6eb50567f"
      },
      "source": [
        "## <a name=\"19q7\">Question 7</a>\n",
        "\n",
        "---\n",
        "\n",
        "What are some warnings to keep in mind when interpreting confidence\n",
        "intervals?\n",
        "\n",
        "### <a name=\"19sol7\">Solution to Question 7</a>\n",
        "\n",
        "---\n",
        "\n",
        "Warning 1: Confidence intervals are used to estimate the value of a population parameter.\n",
        "\n",
        "<br>\n",
        "\n",
        "Warning 2: The uncertainty of the estimate is attached to the interval and not the population parameter that is being estimated.\n",
        "\n",
        "<br>\n",
        "\n",
        "Warning 3: The confidence level gives the success rate of the estimate.\n",
        "\n",
        "<br>  \n",
        "<br>"
      ],
      "id": "ed7cca56-69b2-4abd-b319-14d6eb50567f"
    },
    {
      "cell_type": "markdown",
      "metadata": {
        "id": "4dff66a7-d3e2-4b53-a209-0ea07fec4c6e"
      },
      "source": [
        "## <a name=\"19q8\">Question 8</a>\n",
        "\n",
        "---\n",
        "\n",
        "You will use the original random sample of $n=36$ wind speeds stored in\n",
        "`my.sample` in [Question 1](#19q1) to construct a new confidence interval\n",
        "estimate for the mean wind speed of all North Atlantic storms. If you\n",
        "have not already loaded the `population` data and created a sample size\n",
        "$n=36$ stored in `my.sample`, be sure to answer [Question 1](#19q1) before\n",
        "continuing."
      ],
      "id": "4dff66a7-d3e2-4b53-a209-0ea07fec4c6e"
    },
    {
      "cell_type": "markdown",
      "metadata": {
        "id": "2e6fb5bb-e3ec-4f6b-94cf-fad4722e2bcc"
      },
      "source": [
        "### <a name=\"19q8a\">Question 8a</a>\n",
        "\n",
        "---\n",
        "\n",
        "Based on your sample data in `my.sample`, give a **90% confidence\n",
        "interval** for the mean wind speed of all North Atlantic storms using\n",
        "the parametric method. As with earlier, suppose we know population\n",
        "variance is $\\sigma^2_X = 650$. **Interpret the practical meaning of\n",
        "your 90% confidence interval in the context of this example.**\n",
        "\n",
        "#### <a name=\"19sol8a\">Solution to Question 8a</a>\n",
        "\n",
        "---"
      ],
      "id": "2e6fb5bb-e3ec-4f6b-94cf-fad4722e2bcc"
    },
    {
      "cell_type": "code",
      "execution_count": null,
      "metadata": {
        "id": "00d3eea7-983d-45d8-98e6-5d4c381cd5e4",
        "colab": {
          "base_uri": "https://localhost:8080/",
          "height": 52
        },
        "outputId": "d1324d35-ac6f-4af7-ab37-c382ff51a05b"
      },
      "outputs": [
        {
          "output_type": "display_data",
          "data": {
            "text/html": [
              "54.5384938270866"
            ],
            "text/markdown": "54.5384938270866",
            "text/latex": "54.5384938270866",
            "text/plain": [
              "[1] 54.53849"
            ]
          },
          "metadata": {}
        },
        {
          "output_type": "display_data",
          "data": {
            "text/html": [
              "68.517061728469"
            ],
            "text/markdown": "68.517061728469",
            "text/latex": "68.517061728469",
            "text/plain": [
              "[1] 68.51706"
            ]
          },
          "metadata": {}
        }
      ],
      "source": [
        "new.z <- qnorm(0.95, 0, 1)  # Enter a command to calculate z value for 90% Conf Level\n",
        "wind.lower90 <- xbar - new.z * se   # Enter a command to calculate the lower limit\n",
        "wind.upper90 <- xbar + new.z * se    # Enter a command to calculate the upper limit\n",
        "\n",
        "# Print your answers\n",
        "wind.lower90\n",
        "wind.upper90"
      ],
      "id": "00d3eea7-983d-45d8-98e6-5d4c381cd5e4"
    },
    {
      "cell_type": "markdown",
      "metadata": {
        "id": "8ede2915-57cc-478d-b2ba-35ed4897e886"
      },
      "source": [
        "<br>  \n",
        "<br>\n",
        "\n",
        "**Practical interpretation of your 90% confidence interval:**\n",
        "\n",
        "<br>  \n",
        "\n",
        "There is a 90% chance the interval from $54.54$ knots to $68.52$ knots contains the mean wind speed of all storms.\n",
        "\n",
        "<br>"
      ],
      "id": "8ede2915-57cc-478d-b2ba-35ed4897e886"
    },
    {
      "cell_type": "markdown",
      "metadata": {
        "id": "2a24fa09-d03c-4ac9-997c-a1829b04e130"
      },
      "source": [
        "### <a name=\"19q8b\">Question 8b</a>\n",
        "\n",
        "---\n",
        "\n",
        "As we **decrease the confidence level of the interval** from 95% in\n",
        "[Question 4f](#19q4f) to 90% in [Question 8a](#19q8a), what happened to the width of\n",
        "the interval estimate?\n",
        "\n",
        "#### <a name=\"19sol8b\">Solution to Question 8b</a>\n",
        "\n",
        "---\n",
        "\n",
        "<br>  \n",
        "As the confidence level (success rate) is decreased, the interval becomes more narrow.\n",
        "<br>"
      ],
      "id": "2a24fa09-d03c-4ac9-997c-a1829b04e130"
    },
    {
      "cell_type": "markdown",
      "metadata": {
        "id": "2c3a7c2f-3033-4219-80b2-dda3c270d8eb"
      },
      "source": [
        "# <a name=\"19change-cl\">Changing the Confidence Level</a>\n",
        "\n",
        "---\n",
        "\n",
        "For a sample of size $n$ randomly picked from a normal distribution with\n",
        "unknown $\\mu$ and known $\\mbox{Var}(X)=\\sigma^2$, then a\n",
        " <font color=\"dodgerblue\">**confidence interval for the\n",
        "mean**</font> is given by\n",
        "\n",
        "$$\\boxed{ \\large \\overline{X} - {\\color{tomato}{z_{\\alpha/2}}} \\cdot \\frac{\\sigma}{\\sqrt{n}} < \\mu < \\overline{X} + {\\color{tomato}{z_{\\alpha/2}}} \\cdot \\frac{\\sigma}{\\sqrt{n}}},$$\n",
        "\n",
        "where the area under $N(0,1)$ between $\\pm z_{\\alpha/2}$ is equal to the\n",
        " <font color=\"dodgerblue\">**confidence level**</font> of the\n",
        "estimate.\n",
        "\n",
        "-   The confidence level is the success rate of the estimate.\n",
        "-   The distance ${\\color{dodgerblue}{\\mbox{MoE} = z_{\\alpha/2} \\cdot \\frac{\\sigma}{\\sqrt{n}}}}$ is called the  <font color=\"dodgerblue\">**Margin of Error (MoE)**</font> of the confidence interval.\n",
        "\n",
        "$$\\boxed{ \\large  \\mu \\approx  \\overline{X} \\pm {\\color{dodgerblue}{\\mbox{MoE}}}}$$\n",
        "\n",
        "Let  <font color=\"dodgerblue\">**CL**</font> denote a selected\n",
        " <font color=\"dodgerblue\">**confidence level**</font> that is the\n",
        "proportion of  <font color=\"dodgerblue\">**area in the\n",
        "middle**</font>.\n",
        "\n",
        "-   We have ${\\color{mediumseagreen}{\\alpha = 1 - CL}}$ is the  <font color=\"mediumseagreen\">**area in the two tails**</font>.\n",
        "-   The  <font color=\"tomato\">**area in each tail**</font> is therefore $\\color{tomato}{\\dfrac{\\alpha}{2}}$.\n",
        "\n",
        "<center>\n",
        "<figure>\n",
        "<img\n",
        "src=\"https://upload.wikimedia.org/wikipedia/commons/1/1c/19fig-cl.png\"\n",
        "alt=\"Identifying Z Values for Confidence Interval\" width = \"75%\"/>\n",
        "<figcaption aria-hidden=\"true\">\n",
        "Credit: Adam Spiegler, <a href=\"https://creativecommons.org/licenses/by-sa/4.0\">CC BY-SA 4.0</a>\n",
        "</figcaption>\n",
        "</figure>\n",
        "</center>"
      ],
      "id": "2c3a7c2f-3033-4219-80b2-dda3c270d8eb"
    },
    {
      "cell_type": "markdown",
      "source": [
        "# <a name=\"19var-unknown\">Confidence Intervals When the Variance Is Unknown</a>\n",
        "\n",
        "---\n",
        "\n",
        "When estimating a population mean, in addition to $\\mu$ being unknown, we often **do not know the population variance, $\\sigma^2$, either.** We pick a random sample size $n$, and we can plug-in the sample mean $\\bar{x}$ as our point estimate for $\\mu$. How can we find the margin of error if $\\sigma$ is unknown?\n",
        "\n",
        "-   We can use the  <font color=\"tomato\">**sample standard deviation**</font> $\\color{tomato}{s}$ in place of $\\sigma$.\n",
        "\n",
        "From the CLT for means, as long as the sample is normally distributed or if $n \\geq 30$, then we know the distribution of sample means $\\overline{X}$ is normally distributed with mean ${\\color{mediumseagreen}{\\mu_{\\overline{X}} = \\mu_X}}$ and standard error ${\\color{dodgerblue}{\\sigma_{\\overline{X}} = \\frac{\\sigma}{\\sqrt{n}}}}$. Thus, the standardized distribution of $z$-scores corresponding the sampling distribution for the sample mean $\\overline{X}$ is normal:\n",
        "\n",
        "$$Z = \\frac{\\overline{X} - \\color{mediumseagreen}{\\mu_{\\overline{X}}}}{{\\color{dodgerblue}{\\sigma_{\\overline{X}}}}} = \\frac{\\overline{X} - \\color{mediumseagreen}{\\mu_{X}}}{{\\color{dodgerblue}{\\sigma_{X}/\\sqrt{n}}}} \\sim N(0,1).$$\n",
        "\n",
        "Let's apply our  <font color=\"tomato\">substitution of $s$ in place of $\\sigma_{X}$</font> and consider the resulting distribution of standardized statistics denoted $W$:\n",
        "\n",
        "$$Z = \\frac{\\overline{X} - \\mu_{X}}{{\\color{tomato}{\\sigma_{X}}}/\\sqrt{n}} \\quad \\xrightarrow{\\text{plug-in } {\\color{tomato}{s}} \\text{ for } {\\color{tomato}{\\sigma_{X}}}}  \\quad W = \\frac{\\overline{X}-\\mu_X}{{\\color{tomato}{s}}/\\sqrt{n}} \\sim \\mbox{ ?}$$\n",
        "\n",
        "-   The plot on the left gives a histogram for the standardized sampling distribution $W$.\n",
        "-   The plot on the right is a QQ-plot comparing the distribution of $W$ to $Z \\sim N(0,1)$.\n",
        "\n",
        "\n",
        "<figure>\n",
        "<img\n",
        "src=\"https://upload.wikimedia.org/wikipedia/commons/e/ef/19fig-plotw.png\"\n",
        "alt=\"Standardized Distribution When Variance Unknown\" width = 90%/>\n",
        "<figcaption aria-hidden=\"true\">\n",
        "Credit: Adam Spiegler, <a href=\"https://creativecommons.org/licenses/by-sa/4.0\">CC BY-SA 4.0</a>\n",
        "</figcaption>\n",
        "</figure>\n",
        "\n",
        "\n",
        "The distribution $W$ is symmetric and bell-shaped. From the QQ-plot, we see $W$ is approximately normal in the middle of the distribution. However, the tails of distribution $W$ are not similar to tails of a normal distribution. Distribution $W$ has **fatter tails** than a normal distribution.\n",
        "\n",
        "-   The fatter tails are due to the **added uncertainty** with using $s$ to estimate the value of $\\sigma$.\n",
        "\n",
        "<center>\n",
        "<figure>\n",
        "<img\n",
        "src=\"https://upload.wikimedia.org/wikipedia/commons/b/b9/19fig-tdist.png\"\n",
        "alt=\"Plots of t-distributions with different degrees of freedom\" width = \"80%\"/>\n",
        "<figcaption aria-hidden=\"true\">\n",
        "Credit: Adam Spiegler, <a href=\"https://creativecommons.org/licenses/by-sa/4.0\">CC BY-SA 4.0</a>\n",
        "</figcaption>\n",
        "</figure>\n",
        "</center>\n",
        "\n"
      ],
      "metadata": {
        "id": "ZwB8D7nlvNSJ"
      },
      "id": "ZwB8D7nlvNSJ"
    },
    {
      "cell_type": "markdown",
      "source": [
        "## <a name=\"19t-dist\">The $t$-Distribution</a>\n",
        "\n",
        "---\n",
        "\n",
        "When the population is known to be normally distributed, the\n",
        "distribution $W$ is a  <font color=\"dodgerblue\">**$t$-distribution\n",
        "with $n-1$ degrees of freedom**</font>, where $n$ denotes the sample\n",
        "size. If the underlying population is known to be symmetric (but not\n",
        "necessarily normal), a $t$-distribution with $n-1$ degrees of freedom is\n",
        "still a good estimate.\n",
        "\n",
        "-   The larger our sample size $n$, the better (less biased) the estimate $s$ is for $\\sigma$.\n",
        "-   The larger the sample size $n$, the closer the $t$-distribution is to $Z \\sim N(0,1)$.\n",
        "\n",
        "If a random sample of data is skewed, then the population is likely\n",
        "skewed. The more skewed the population is, the less accurate a\n",
        "$t$-distribution is to estimate the distribution of the standardized\n",
        "statistic $W$.\n",
        "\n",
        "<br>\n",
        "\n",
        "<font color=\"mediumseagreen\">*Note: In cases where the sample is small ($n < 30$) and skewed, a bootstrap confidence interval is typically preferred to using a $t$-distribution to approximate the margin of error.*</font>"
      ],
      "metadata": {
        "id": "fPgeWatovJKN"
      },
      "id": "fPgeWatovJKN"
    },
    {
      "cell_type": "markdown",
      "metadata": {
        "id": "fb2e7b00-e7c9-4c2a-87e3-f43d3fd70875"
      },
      "source": [
        "## <a name=\"19using-t\">Using a $t$-Distribution When Variance is Unknown</a>\n",
        "\n",
        "---\n",
        "\n",
        "For a sample of size $n$ randomly picked from a normal distribution with\n",
        "unknown $\\mu$ and unknown $\\mbox{Var}(X)=\\sigma^2$, we construct a\n",
        "confidence interval for $\\mu$ using:\n",
        "\n",
        "-   The  <font color=\"tomato\">sample standard deviation $s$</font> in place of $\\sigma$, and  \n",
        "-   A  <font color=\"dodgerblue\">$t$-distribution to find $t_{\\alpha/2}$</font> instead of using $N(0,1)$ to find $z_{\\alpha/2}$\n",
        "\n",
        "A corresponding $t$-distribution confidence interval is given by\n",
        "\n",
        "$${\\large \\boxed{ \\overline{X} - {\\color{dodgerblue}{t_{\\alpha/2}}} \\cdot \\frac{{\\color{tomato}{s}}}{\\sqrt{n}} < \\mu < \\overline{X} + {\\color{dodgerblue}{t_{\\alpha/2}}} \\cdot \\frac{{\\color{tomato}{s}}}{\\sqrt{n}}}},$$\n",
        "\n",
        "where the area under the $t$-distribution with $n-1$ degrees of freedom\n",
        "between ${\\color{dodgerblue}{\\pm t_{\\alpha/2}}}$ is equal to the\n",
        "confidence level."
      ],
      "id": "fb2e7b00-e7c9-4c2a-87e3-f43d3fd70875"
    },
    {
      "cell_type": "markdown",
      "metadata": {
        "id": "82307b09-e2d5-4728-9630-eb1ab4da2332"
      },
      "source": [
        "## <a name=\"19q9\">Question 9</a>\n",
        "\n",
        "---\n",
        "\n",
        "\n",
        "\n",
        "<figure>\n",
        "<img\n",
        "src=\"https://upload.wikimedia.org/wikipedia/commons/9/96/Komodo_dragon_%28Varanus_komodoensis%29_2.jpg\"\n",
        "alt=\"Komodo dragon (Varanus_komodoensis)\" width = \"45%\"/>\n",
        "<figcaption aria-hidden=\"true\">\n",
        "Credit: Charles J. Sharp, <a href=\"https://creativecommons.org/licenses/by-sa/4.0\">CC BY-SA 4.0</a>, via <a href=\"https://upload.wikimedia.org/wikipedia/commons/9/96/Komodo_dragon_%28Varanus_komodoensis%29_2.jpg\">Wikimedia Commons</a>\n",
        "</figcaption>\n",
        "</figure>\n",
        "\n",
        "\n",
        "Researchers want to estimate the average length of all adult female\n",
        "Komodo dragons. The pick a random sample of $n=8$ adult female Komodo\n",
        "dragons with the following weights (in pounds). They believe the\n",
        "distribution in weights will by normally distributed, but otherwise, the\n",
        "population variance is unknown."
      ],
      "id": "82307b09-e2d5-4728-9630-eb1ab4da2332"
    },
    {
      "cell_type": "code",
      "execution_count": null,
      "metadata": {
        "id": "b843a46c-2866-44a5-8378-ea1297b4f53b",
        "colab": {
          "base_uri": "https://localhost:8080/",
          "height": 34
        },
        "outputId": "e033faf7-e745-485f-f776-be558d1cecc3"
      },
      "outputs": [
        {
          "output_type": "display_data",
          "data": {
            "text/html": [
              "<style>\n",
              ".list-inline {list-style: none; margin:0; padding: 0}\n",
              ".list-inline>li {display: inline-block}\n",
              ".list-inline>li:not(:last-child)::after {content: \"\\00b7\"; padding: 0 .5ex}\n",
              "</style>\n",
              "<ol class=list-inline><li>145</li><li>178</li><li>142</li><li>139</li><li>160</li><li>190</li><li>168</li><li>122</li></ol>\n"
            ],
            "text/markdown": "1. 145\n2. 178\n3. 142\n4. 139\n5. 160\n6. 190\n7. 168\n8. 122\n\n\n",
            "text/latex": "\\begin{enumerate*}\n\\item 145\n\\item 178\n\\item 142\n\\item 139\n\\item 160\n\\item 190\n\\item 168\n\\item 122\n\\end{enumerate*}\n",
            "text/plain": [
              "[1] 145 178 142 139 160 190 168 122"
            ]
          },
          "metadata": {}
        }
      ],
      "source": [
        "dragon.wt <- c(145, 178, 142, 139, 160, 190, 168, 122)  # load sample of weights\n",
        "dragon.wt  # print to screen"
      ],
      "id": "b843a46c-2866-44a5-8378-ea1297b4f53b"
    },
    {
      "cell_type": "markdown",
      "metadata": {
        "id": "9fe3dabb-e408-4610-9928-b9539b20a445"
      },
      "source": [
        "### <a name=\"19q9a\">Question 9a</a>\n",
        "\n",
        "---\n",
        "\n",
        "Use the R code cell below to construct a 95% confidence interval for\n",
        "mean weight of all female Komodo dragons using the sample weights in\n",
        "`dragon.wt`.\n",
        "\n",
        "<br>\n",
        "\n",
        "<font color=\"mediumseagreen\">*Hint: Using the data in `dragon.wt`, calculate the statistics $\\bar{x}$ and $s$. To find $t_{\\alpha/2}$, use the `qt()` function similar to how you use the `qnorm()` to calculate $z_{\\alpha/2}$. For more help using the `qt()` function, run `?qt()`.*</font>\n",
        "\n",
        "#### <a name=\"19sol9a\">Solution to Question 9a</a>\n",
        "\n",
        "---"
      ],
      "id": "9fe3dabb-e408-4610-9928-b9539b20a445"
    },
    {
      "cell_type": "code",
      "execution_count": null,
      "metadata": {
        "id": "0393fca1-f0bd-43e5-a0be-eda53f9198cc",
        "colab": {
          "base_uri": "https://localhost:8080/",
          "height": 52
        },
        "outputId": "52d39d2e-b1a2-4bb2-d800-93f03b428704"
      },
      "outputs": [
        {
          "output_type": "display_data",
          "data": {
            "text/html": [
              "174.353549471777"
            ],
            "text/markdown": "174.353549471777",
            "text/latex": "174.353549471777",
            "text/plain": [
              "[1] 174.3535"
            ]
          },
          "metadata": {}
        },
        {
          "output_type": "display_data",
          "data": {
            "text/html": [
              "136.646450528223"
            ],
            "text/markdown": "136.646450528223",
            "text/latex": "136.646450528223",
            "text/plain": [
              "[1] 136.6465"
            ]
          },
          "metadata": {}
        }
      ],
      "source": [
        "# construct a 95% confidence interval\n",
        "xbar.wt <- mean(dragon.wt)  # sample mean (point estimate)\n",
        "s.wt <- sd(dragon.wt)  # sample standard deviation (in place of sigma)\n",
        "n.wt <- length(dragon.wt)  # sample size\n",
        "se.wt <- s.wt / sqrt(n.wt)  # standard error\n",
        "tstar.wt <- qt(0.975, n.wt - 1)  # t_alpha/2\n",
        "\n",
        "upper.wt <- xbar.wt + tstar.wt * se.wt\n",
        "lower.wt <- xbar.wt - tstar.wt * se.wt\n",
        "\n",
        "upper.wt\n",
        "lower.wt"
      ],
      "id": "0393fca1-f0bd-43e5-a0be-eda53f9198cc"
    },
    {
      "cell_type": "markdown",
      "metadata": {
        "id": "312a9b32-e1e2-4b83-8d86-7ac2f30e266e"
      },
      "source": [
        "<br>\n",
        "\n",
        "<br>"
      ],
      "id": "312a9b32-e1e2-4b83-8d86-7ac2f30e266e"
    },
    {
      "cell_type": "markdown",
      "metadata": {
        "id": "1573bc2b-2255-450c-b651-8bcfac06daad"
      },
      "source": [
        "### <a name=\"19q9b\">Question 9b</a>\n",
        "\n",
        "---\n",
        "\n",
        "Interpret the practical meaning of the confidence interval in [Question\n",
        "9a](#19q9a) in this context.\n",
        "\n",
        "#### <a name=\"19sol9b\">Solution to Question 9b</a>\n",
        "\n",
        "---\n",
        "\n",
        "<br>  \n",
        "\n",
        "There is a 95% chance the interval from $136.65$ pounds to $174.35$ knots contains the mean weight of all adult female Komodo dragons.\n",
        "\n",
        "<br>"
      ],
      "id": "1573bc2b-2255-450c-b651-8bcfac06daad"
    },
    {
      "cell_type": "markdown",
      "metadata": {
        "id": "e37c6532-bb2e-4525-87e2-e948b235c7eb"
      },
      "source": [
        "### <a name=\"19q9c\">Question 9c</a>\n",
        "\n",
        "---\n",
        "\n",
        "Use the R code cell below to construct a 99% confidence interval for\n",
        "mean weight of all female Komodo dragons using the sample weights in\n",
        "`dragon.wt`.\n",
        "\n",
        "#### <a name=\"19sol9c\">Solution to Question 9c</a>\n",
        "\n",
        "---"
      ],
      "id": "e37c6532-bb2e-4525-87e2-e948b235c7eb"
    },
    {
      "cell_type": "code",
      "execution_count": null,
      "metadata": {
        "id": "b22836e9-1b9a-43e8-b30b-58125435d7f3",
        "colab": {
          "base_uri": "https://localhost:8080/",
          "height": 52
        },
        "outputId": "b43e0e59-3187-4635-9874-e9831bdb91fe"
      },
      "outputs": [
        {
          "output_type": "display_data",
          "data": {
            "text/html": [
              "183.401972767053"
            ],
            "text/markdown": "183.401972767053",
            "text/latex": "183.401972767053",
            "text/plain": [
              "[1] 183.402"
            ]
          },
          "metadata": {}
        },
        {
          "output_type": "display_data",
          "data": {
            "text/html": [
              "127.598027232947"
            ],
            "text/markdown": "127.598027232947",
            "text/latex": "127.598027232947",
            "text/plain": [
              "[1] 127.598"
            ]
          },
          "metadata": {}
        }
      ],
      "source": [
        "# construct a 99% confidence interval\n",
        "tstar.wt <- qt(0.995, n.wt - 1)  # t_alpha/2\n",
        "\n",
        "upper.wt <- xbar.wt + tstar.wt * se.wt\n",
        "lower.wt <- xbar.wt - tstar.wt * se.wt\n",
        "\n",
        "upper.wt\n",
        "lower.wt"
      ],
      "id": "b22836e9-1b9a-43e8-b30b-58125435d7f3"
    },
    {
      "cell_type": "markdown",
      "metadata": {
        "id": "ad3d0c52-a5f8-4977-b950-971dc7c9153a"
      },
      "source": [
        "<br>  \n",
        "<br>"
      ],
      "id": "ad3d0c52-a5f8-4977-b950-971dc7c9153a"
    },
    {
      "cell_type": "markdown",
      "metadata": {
        "id": "fc7ebfc1-d815-449a-bbc1-4b4120800b01"
      },
      "source": [
        "## <a name=\"19methods\">Different Methods for $t$-Distribution Confidence Intervals</a>\n",
        "\n",
        "---\n",
        "\n",
        "-   Use the formula $\\displaystyle \\overline{X} - {\\color{dodgerblue}{t_{\\alpha/2}}} \\cdot \\frac{{\\color{tomato}{s}}}{\\sqrt{n}} < \\mu < \\overline{X} + {\\color{dodgerblue}{t_{\\alpha/2}}} \\cdot \\frac{{\\color{tomato}{s}}}{\\sqrt{n}}$.\n",
        "\n",
        "    -   Use the `qt()` function in R to find the value of $t_{\\alpha/2}$, or\n",
        "    -   Use a [$t$-distribution table](https://www.sjsu.edu/faculty/gerstman/StatPrimer/t-table.pdf) to estimate values for $t_{\\alpha/2}$.\n",
        "\n",
        "-   Use the R function `t.test(x, conf.level)$conf.int`.\n",
        "\n",
        "    -   `x` is the vector of sample data.\n",
        "    -   Set the confidence level with the `conf.level` option.\n",
        "    -   Open the help manual with `?t.test` for further information."
      ],
      "id": "fc7ebfc1-d815-449a-bbc1-4b4120800b01"
    },
    {
      "cell_type": "markdown",
      "metadata": {
        "id": "53cfa1cc-e23b-414d-9188-70203731554d"
      },
      "source": [
        "## <a name=\"19q10\">Question 10</a>\n",
        "\n",
        "---\n",
        "\n",
        "Using the Komodo dragon sample data in `dragon.wt` and the `t.test()`\n",
        "function, find a 95% confidence interval. Compare the results with the\n",
        "95% confidence interval from [Question 9a](#19q9a).\n",
        "\n",
        "### <a name=\"19sol10\">Solution to Question 10</a>\n",
        "\n",
        "---"
      ],
      "id": "53cfa1cc-e23b-414d-9188-70203731554d"
    },
    {
      "cell_type": "code",
      "execution_count": null,
      "metadata": {
        "id": "f99279a6-4b61-4249-8673-7afb51d1b972",
        "colab": {
          "base_uri": "https://localhost:8080/",
          "height": 34
        },
        "outputId": "747bcf70-6d0f-4c28-ad23-b498810560c8"
      },
      "outputs": [
        {
          "output_type": "display_data",
          "data": {
            "text/html": [
              "<style>\n",
              ".list-inline {list-style: none; margin:0; padding: 0}\n",
              ".list-inline>li {display: inline-block}\n",
              ".list-inline>li:not(:last-child)::after {content: \"\\00b7\"; padding: 0 .5ex}\n",
              "</style>\n",
              "<ol class=list-inline><li>136.646450528223</li><li>174.353549471777</li></ol>\n"
            ],
            "text/markdown": "1. 136.646450528223\n2. 174.353549471777\n\n\n",
            "text/latex": "\\begin{enumerate*}\n\\item 136.646450528223\n\\item 174.353549471777\n\\end{enumerate*}\n",
            "text/plain": [
              "[1] 136.6465 174.3535\n",
              "attr(,\"conf.level\")\n",
              "[1] 0.95"
            ]
          },
          "metadata": {}
        }
      ],
      "source": [
        "t.test(dragon.wt, conf.level = 0.95)$conf.int"
      ],
      "id": "f99279a6-4b61-4249-8673-7afb51d1b972"
    },
    {
      "cell_type": "markdown",
      "metadata": {
        "id": "x8yzfSy5qRl5"
      },
      "source": [
        "<br>  \n",
        "<br>"
      ],
      "id": "x8yzfSy5qRl5"
    },
    {
      "cell_type": "markdown",
      "metadata": {
        "id": "7c21c2c2-d9a1-4f22-82b8-a5d0709ea851"
      },
      "source": [
        "# <a name=\"19diff-means\">Confidence Interval for a Difference in Two Means</a>\n",
        "\n",
        "---"
      ],
      "id": "7c21c2c2-d9a1-4f22-82b8-a5d0709ea851"
    },
    {
      "cell_type": "markdown",
      "metadata": {
        "id": "04386ead-c1ff-4aaa-9a79-7f847e51497f"
      },
      "source": [
        "## <a name=\"19q11\">Question 11</a>\n",
        "\n",
        "---\n",
        "\n",
        "Let $X$ and $Y$ be independent random variables with\n",
        "$X \\sim N(\\mu_1, \\sigma_1)$ and $Y \\sim N(\\mu_2, \\sigma_2)$. Using\n",
        "[properties of expected value](https://githubtocolab.com/CU-Denver-MathStats-OER/Statistical-Theory/blob/main/Chap2/06-Expected-Value-and-Variance.ipynb#06prop-ex)\n",
        "and [variance](https://githubtocolab.com/CU-Denver-MathStats-OER/Statistical-Theory/blob/main/Chap2/06-Expected-Value-and-Variance.ipynb#06prop-var), show for sample\n",
        "sizes $n_1$ and $n_2$, respectively, that\n",
        "\n",
        "$$E(\\overline{X}-\\overline{Y}) = \\mu_1-\\mu_2 \\qquad \\mbox{and} \\qquad \\mbox{Var}(\\overline{X}-\\overline{Y}) = \\frac{\\sigma_1^2}{n_1} +  \\frac{\\sigma_2^2}{n_2}.$$\n",
        "\n",
        "### <a name=\"19sol11\">Solution to Question 11</a>\n",
        "\n",
        "---\n",
        "\n",
        "<br>  \n",
        "\n",
        "For any two random variables $X$ and $Y$, we have $E(aX + bY) = aE(X) + bE(Y)$. Applying this property to random variables $\\overline{X}$ and $\\overline{Y}$, we have\n",
        "\n",
        "$$E(\\overline{X}-\\overline{Y}) =E (\\overline{X}) - E (\\overline{Y}).$$\n",
        "\n",
        "From the CLT, we know $E(\\overline{X}) = \\mu_X$, thus\n",
        "\n",
        "$$E(\\overline{X}-\\overline{Y}) =E (\\overline{X}) - E (\\overline{Y}) = \\mu_1 - \\mu_2.$$\n",
        "\n",
        "<br>  \n",
        "\n",
        "---\n",
        "\n",
        "<br>  \n",
        "\n",
        "For any two independent random variables $X$ and $Y$, we have $\\mbox{Var}(aX + bY) = a^2 \\mbox{Var}(X) + b^2 \\mbox{Var}(Y)$. Applying this property to independent random variables $\\overline{X}$ and $\\overline{Y}$, we have\n",
        "\n",
        "$$\\mbox{Var} (\\overline{X}-\\overline{Y}) = \\mbox{Var} (\\overline{X}) + (-1)^2  \\mbox{Var} (\\overline{Y}) = \\mbox{Var} (\\overline{X}) + \\mbox{Var} (\\overline{Y}).$$\n",
        "\n",
        "From the CLT, we know $\\mbox{Var}(\\overline{X}) = \\big( \\mbox{SE}(\\overline{X}) \\big)^2 =  \\dfrac{\\sigma^2_X}{n_X}$, thus\n",
        "\n",
        "$$\\mbox{Var}(\\overline{X}-\\overline{Y}) =\\mbox{Var} (\\overline{X}) + \\mbox{Var} (\\overline{Y}) = \\frac{\\sigma^2_1}{n_1} + \\frac{\\sigma^2_2}{n_2}.$$\n"
      ],
      "id": "04386ead-c1ff-4aaa-9a79-7f847e51497f"
    },
    {
      "cell_type": "markdown",
      "metadata": {
        "id": "8bbbbf0d-373f-4f16-aa98-e3205379ca7d"
      },
      "source": [
        "## <a name=\"19ci-diff\">Confidence Intervals for a Difference in Means</a>\n",
        "\n",
        "---\n",
        "\n",
        "Let $X_1, X_2, \\ldots , X_{n_1}$ be independent and identically\n",
        "distributed (i.i.d.) random variables picked from\n",
        "$X \\sim N(\\mu_1, \\sigma_1^2)$ and let $Y_1, Y_2, \\ldots , Y_{n_2}$ be\n",
        "i.i.d. random variables picked from $Y \\sim N(\\mu_2, \\sigma_1^2)$. An\n",
        "approximate confidence interval for the difference in means\n",
        "$\\mu_1 - \\mu_2$ is given by:\n",
        "\n",
        "$${\\large \\boxed{ {\\color{mediumseagreen}{(\\overline{X} - \\overline{Y})}} -  {\\color{tomato}{t_{\\alpha/2}}} \\cdot  {\\color{dodgerblue}{\\sqrt{\\frac{s_1^2}{n_1} +  \\frac{s_2^2}{n_2}}}} < \\mu_1 - \\mu_2 < {\\color{mediumseagreen}{(\\overline{X} - \\overline{Y})}} +  {\\color{tomato}{t_{\\alpha/2}}} \\cdot  {\\color{dodgerblue}{\\sqrt{\\frac{s_1^2}{n_1} +  \\frac{s_2^2}{n_2}}}}}}. $$\n",
        "\n",
        "-    <font color=\"mediumseagreen\">Use $\\bar{x} - \\bar{y}$ as the point estimate for $\\mu_1 - \\mu_2$.</font>\n",
        "-    <font color=\"dodgerblue\">Approximate the standard error using $s_1$ and $s_2$ in place of unknown standard deviations $\\sigma_1$ and $\\sigma_2$.</font>\n",
        "-    <font color=\"tomato\">The area under the $t$-distribution with $df$ degrees of freedom between $\\pm t_{\\alpha/2}$ is equal to the confidence level.</font>\n",
        "    -   Informally, we can use the smaller of $n_1-1$ and $n_2-1$ as the degrees of freedom.\n",
        "    -   Many R functions use the more accurate *Welch's approximation* for the degrees of freedom,\n",
        "\n",
        "    $$ df = \\dfrac{\\left( \\dfrac{s_1^2}{n_1}+ \\dfrac{s_2^2}{n_2} \\right)^2}{ \\dfrac{(s_1^2/n_1)^2}{n_1-1} + \\dfrac{(s_2^2/n_2)^2}{n_2-1}}.$$\n",
        "    -   We do not need to memorize Welch's approximation since `t.test()` uses this method."
      ],
      "id": "8bbbbf0d-373f-4f16-aa98-e3205379ca7d"
    },
    {
      "cell_type": "markdown",
      "metadata": {
        "id": "1da42c15-828c-49a7-9689-ce80f33b61ce"
      },
      "source": [
        "# <a name=\"19strong\">Which Month Has the Strongest Storms?</a>\n",
        "\n",
        "---\n",
        "\n",
        "In our analysis of [North Atlantic storm wind speeds](#19wind-intro), we\n",
        "used data stored in the `storms` data frame in the `dplyr` package. In\n",
        "our initial analysis, we assumed the data in `storms` represented the\n",
        "population, and we did not have access to the population data in\n",
        "`storms`. **The data in `storms` is actually a sample** of 19066 storm\n",
        "observations taken for North Atlantic storms that are measured every six\n",
        "hours during the lifetime of the storm. The population of interest is\n",
        "all storms that occur at all times in the North Atlantic.\n",
        "\n",
        "-   Consider data in `storms` as a random sample of 19066 observations picked from the population.\n",
        "-   We have access to the sample `storms` that we will use estimate parameters for the population.\n",
        "-   Below, we load `dplyr` and generate side-by-side box plots of the distribution of wind speeds in the `storms` sample by month."
      ],
      "id": "1da42c15-828c-49a7-9689-ce80f33b61ce"
    },
    {
      "cell_type": "code",
      "execution_count": null,
      "metadata": {
        "colab": {
          "base_uri": "https://localhost:8080/",
          "height": 437
        },
        "id": "abf730f5-30a8-4169-a6d6-70cbf58075d1",
        "outputId": "bc40cceb-4600-4f8a-cbc7-ef26d1e7e67f"
      },
      "outputs": [
        {
          "output_type": "display_data",
          "data": {
            "text/plain": [
              "Plot with title “Distribution of Wind Speeds by Month”"
            ],
            "image/png": "[encoded data removed]"
          },
          "metadata": {
            "image/png": {
              "width": 420,
              "height": 420
            }
          }
        }
      ],
      "source": [
        "library(dplyr)\n",
        "storms$month <- factor(storms$month)  # convert month to categorical factor\n",
        "boxplot(wind ~ month,\n",
        "        data = storms,\n",
        "        main = \"Distribution of Wind Speeds by Month\",\n",
        "        xlab = \"Month\",\n",
        "        ylab = \"Wind speed (in knots)\",\n",
        "        cex.lab=1.5, cex.axis=1.5, cex.main=1.5)  # increase font size on labels"
      ],
      "id": "abf730f5-30a8-4169-a6d6-70cbf58075d1"
    },
    {
      "cell_type": "markdown",
      "metadata": {
        "id": "ba580403-2d42-4f24-a29c-fb0a677eb444"
      },
      "source": [
        "## <a name=\"19q12\">Question 12</a>\n",
        "\n",
        "---\n",
        "\n",
        "Based on the plots in the figure above, in which month do you suspect\n",
        "storms have the greatest wind speed? Explain how you determined your\n",
        "answer.\n",
        "\n",
        "### <a name=\"19so12l\">Solution to Question 12</a>\n",
        "\n",
        "---\n",
        "\n",
        "<br>  \n",
        "\n",
        "Answers will vary. The months with the two greatest medians are September and October. These two months also have the biggest (and most) outliers, so they have the greatest mean wind speeds.\n",
        "\n",
        "<br>"
      ],
      "id": "ba580403-2d42-4f24-a29c-fb0a677eb444"
    },
    {
      "cell_type": "markdown",
      "metadata": {
        "id": "33a5b0e5-a9ee-402a-a235-00cc221082b3"
      },
      "source": [
        "## <a name=\"19refine\">Refining Our Question</a>\n",
        "\n",
        "---\n",
        "\n",
        "There are different statistics for assessing “greatest wind speed”. From\n",
        "the box plots, we have a good visual comparison of medians. With storms,\n",
        "outliers are typically the most important observations we do want to\n",
        "emphasize in our analysis. Thus, we use the *mean* as our measurement of\n",
        "center instead of a median or trimmed mean.\n",
        "\n",
        "Side-by-side box plots give a nice graphical summary of the distribution\n",
        "of winds speeds by month. As we might suspect, from this first plot we\n",
        "rule out some months from this analysis. Some months appear to have very\n",
        "similar distributions upon inspection of box plots. We dig a little into\n",
        "the sample data to determine which months have the greatest sample mean\n",
        "wind speeds.\n",
        "\n",
        "-   We use the `tapply()` function below to calculate and compare sample mean wind speeds by month.\n",
        "-   Here is a [nice introduction](https://www.statology.org/tapply-r/) to the `tapply()` function."
      ],
      "id": "33a5b0e5-a9ee-402a-a235-00cc221082b3"
    },
    {
      "cell_type": "code",
      "execution_count": null,
      "metadata": {
        "id": "dd578fae-6d83-4014-a2e7-b348489cd5b4",
        "colab": {
          "base_uri": "https://localhost:8080/",
          "height": 69
        },
        "outputId": "ec463c81-a3a0-46f5-eb6f-8a93a7d313b7"
      },
      "outputs": [
        {
          "output_type": "display_data",
          "data": {
            "text/html": [
              "<style>\n",
              ".dl-inline {width: auto; margin:0; padding: 0}\n",
              ".dl-inline>dt, .dl-inline>dd {float: none; width: auto; display: inline-block}\n",
              ".dl-inline>dt::after {content: \":\\0020\"; padding-right: .5ex}\n",
              ".dl-inline>dt:not(:first-of-type) {padding-left: .5ex}\n",
              "</style><dl class=dl-inline><dt>1</dt><dd>49.8571428571429</dd><dt>4</dt><dd>38.8636363636364</dd><dt>5</dt><dd>35.1741293532338</dd><dt>6</dt><dd>35.3209242618742</dd><dt>7</dt><dd>41.394260761073</dd><dt>8</dt><dd>48.1441441441441</dd><dt>9</dt><dd>54.5601278465841</dd><dt>10</dt><dd>51.5810854728632</dd><dt>11</dt><dd>49.4274120829576</dd><dt>12</dt><dd>45.5424528301887</dd></dl>\n"
            ],
            "text/markdown": "1\n:   49.85714285714294\n:   38.86363636363645\n:   35.17412935323386\n:   35.32092426187427\n:   41.3942607610738\n:   48.14414414414419\n:   54.560127846584110\n:   51.581085472863211\n:   49.427412082957612\n:   45.5424528301887\n\n",
            "text/latex": "\\begin{description*}\n\\item[1] 49.8571428571429\n\\item[4] 38.8636363636364\n\\item[5] 35.1741293532338\n\\item[6] 35.3209242618742\n\\item[7] 41.394260761073\n\\item[8] 48.1441441441441\n\\item[9] 54.5601278465841\n\\item[10] 51.5810854728632\n\\item[11] 49.4274120829576\n\\item[12] 45.5424528301887\n\\end{description*}\n",
            "text/plain": [
              "       1        4        5        6        7        8        9       10 \n",
              "49.85714 38.86364 35.17413 35.32092 41.39426 48.14414 54.56013 51.58109 \n",
              "      11       12 \n",
              "49.42741 45.54245 "
            ]
          },
          "metadata": {}
        }
      ],
      "source": [
        "tapply(storms$wind, storms$month, mean)"
      ],
      "id": "dd578fae-6d83-4014-a2e7-b348489cd5b4"
    },
    {
      "cell_type": "markdown",
      "metadata": {
        "id": "3f048c43-685e-4259-8c7b-f42006a40a8d"
      },
      "source": [
        "Notice September (9) and October (10) are the two months with the\n",
        "highest mean wind speeds of $54.56$ knots and $51.58$ knots,\n",
        "respectively. The two means are close, and we only have a subset of\n",
        "population data. Is the observed difference in sample means greater than\n",
        "the margin of error we can expect due to the uncertainty of sampling? We\n",
        "can use a confidence interval to answer this question!\n",
        "\n",
        ">  <font color=\"dodgerblue\">Give a 95% confidence interval to\n",
        "> estimate the difference in the mean wind speed of storms in September\n",
        "> compared to October?</font>"
      ],
      "id": "3f048c43-685e-4259-8c7b-f42006a40a8d"
    },
    {
      "cell_type": "markdown",
      "metadata": {
        "id": "639ecb11-23a5-443a-9c58-a4b316342f24"
      },
      "source": [
        "## <a name=\"19subset\">Subsetting into Two Independent Samples</a>\n",
        "\n",
        "---\n",
        "\n",
        "Run the code cell below to create two data frames, `sep.wind` and\n",
        "`oct.wind`, containing separate samples of wind speeds for North\n",
        "Atlantic storms in September and October, respectively. Both `sep.wind`\n",
        "and `oct.wind` are data frames with just one variable, `wind`."
      ],
      "id": "639ecb11-23a5-443a-9c58-a4b316342f24"
    },
    {
      "cell_type": "code",
      "execution_count": null,
      "metadata": {
        "id": "44fb528c-a02b-451d-aad3-aebf22c91f28"
      },
      "outputs": [],
      "source": [
        "# create a vector of sep wind\n",
        "sep.wind <- subset(storms,\n",
        "              month == \"9\",\n",
        "              select = wind)\n",
        "\n",
        "# create a vector of oct wind\n",
        "oct.wind <- subset(storms,\n",
        "              month == \"10\",\n",
        "              select = wind)"
      ],
      "id": "44fb528c-a02b-451d-aad3-aebf22c91f28"
    },
    {
      "cell_type": "markdown",
      "metadata": {
        "id": "d4139b1f-c39e-4f2b-a3ee-a34b064db4b3"
      },
      "source": [
        "## <a name=\"19q13\">Question 13</a>\n",
        "\n",
        "---\n",
        "\n",
        "Answer the questions below to construct a 95% confidence interval for\n",
        "the difference in mean wind speeds of North Atlantic storms in September\n",
        "compared to October."
      ],
      "id": "d4139b1f-c39e-4f2b-a3ee-a34b064db4b3"
    },
    {
      "cell_type": "markdown",
      "metadata": {
        "id": "2b0d3109-fa5c-4fd7-bcf7-66a09811b5e6"
      },
      "source": [
        "### <a name=\"19q13a\">Question 13a</a>\n",
        "\n",
        "---\n",
        "\n",
        "Calculate $n_s$ and $n_o$, the number of observations in September and\n",
        "October samples, respectively. Store the results in `n.s` and `n.o`.\n",
        "\n",
        "#### <a name=\"19sol13a\">Solution to Question 13a</a>\n",
        "\n",
        "---"
      ],
      "id": "2b0d3109-fa5c-4fd7-bcf7-66a09811b5e6"
    },
    {
      "cell_type": "code",
      "execution_count": null,
      "metadata": {
        "id": "6bfa9053-344f-4f73-9b91-93764937c9ee",
        "colab": {
          "base_uri": "https://localhost:8080/",
          "height": 52
        },
        "outputId": "9fd54b0c-c802-489d-e1e6-5e087e0582c8"
      },
      "outputs": [
        {
          "output_type": "display_data",
          "data": {
            "text/html": [
              "7509"
            ],
            "text/markdown": "7509",
            "text/latex": "7509",
            "text/plain": [
              "[1] 7509"
            ]
          },
          "metadata": {}
        },
        {
          "output_type": "display_data",
          "data": {
            "text/html": [
              "3077"
            ],
            "text/markdown": "3077",
            "text/latex": "3077",
            "text/plain": [
              "[1] 3077"
            ]
          },
          "metadata": {}
        }
      ],
      "source": [
        "# calculate n_s\n",
        "n.s <- nrow(sep.wind)\n",
        "# calculate n_o\n",
        "n.o <- nrow(oct.wind)\n",
        "\n",
        "# print to screen\n",
        "n.s\n",
        "n.o"
      ],
      "id": "6bfa9053-344f-4f73-9b91-93764937c9ee"
    },
    {
      "cell_type": "markdown",
      "metadata": {
        "id": "99384471-5eb8-4ce7-a114-dfd68de1a622"
      },
      "source": [
        "<br>  \n",
        "\n",
        "<font color=\"tomato\">Caution: Notice the `nrow()` command is applied since `oct.wind` and `sep.wind` are both data frames.\n",
        "\n",
        "\n",
        "- <font color=\"dodgerblue\">If `x` is a **vector**, `length(x)` gives the number of entries in the vector `x`.</font>\n",
        "\n",
        "- <font color=\"dodgerblue\">If `x` is a **data frame**, `length(x)` gives the number of variables (or columns) in data frame `x`.</font>\n",
        "\n",
        "- <font color=\"mediumseagreen\">To count the number of observations in a **data frame**, count the number of rows using the `nrow()` command.\n",
        "\n",
        "<br>"
      ],
      "id": "99384471-5eb8-4ce7-a114-dfd68de1a622"
    },
    {
      "cell_type": "markdown",
      "metadata": {
        "id": "299b7a6e-dec1-46f9-bdfb-5a9aff7b6bdc"
      },
      "source": [
        "### <a name=\"19q13b\">Question 13b</a>\n",
        "\n",
        "---\n",
        "\n",
        "Using the sample data in `sep.wind` and `oct.wind`, give a point\n",
        "estimate for the difference in population means, $\\mu_s - \\mu_o$. Store\n",
        "the result to `point.est`\n",
        "\n",
        "#### <a name=\"19sol13b\">Solution to Question 13b</a>\n",
        "\n",
        "---"
      ],
      "id": "299b7a6e-dec1-46f9-bdfb-5a9aff7b6bdc"
    },
    {
      "cell_type": "code",
      "execution_count": null,
      "metadata": {
        "id": "177f4d4d-7b86-4e73-a593-c62eb060ad5d",
        "colab": {
          "base_uri": "https://localhost:8080/",
          "height": 34
        },
        "outputId": "3d593b9c-f189-4870-df54-248956bcdb4a"
      },
      "outputs": [
        {
          "output_type": "display_data",
          "data": {
            "text/html": [
              "2.97904237372092"
            ],
            "text/markdown": "2.97904237372092",
            "text/latex": "2.97904237372092",
            "text/plain": [
              "[1] 2.979042"
            ]
          },
          "metadata": {}
        }
      ],
      "source": [
        "# calculate point estimate\n",
        "point.est <- mean(sep.wind$wind) - mean(oct.wind$wind)\n",
        "point.est  # print to screen"
      ],
      "id": "177f4d4d-7b86-4e73-a593-c62eb060ad5d"
    },
    {
      "cell_type": "markdown",
      "metadata": {
        "id": "de785809-4f8c-45a6-87f3-bba146cefc4a"
      },
      "source": [
        "<br>\n",
        "\n",
        "We have\n",
        "\n",
        "$$\\mu_{\\rm{sep}} - \\mu_{\\rm{oct}} \\approx \\bar{x}_{\\rm{sep}} - \\bar{x}_{\\rm{oct}} = 2.979 \\mbox{ knots}.$$\n",
        "\n",
        "<br>"
      ],
      "id": "de785809-4f8c-45a6-87f3-bba146cefc4a"
    },
    {
      "cell_type": "markdown",
      "metadata": {
        "id": "93248963-ca89-4a8e-bb47-e8ac3b455923"
      },
      "source": [
        "### <a name=\"19q13c\">Question 13c</a>\n",
        "\n",
        "---\n",
        "\n",
        "Using a $t$-distribution, calculate the margin of error of a 95%\n",
        "confidence interval for the difference in means.\n",
        "\n",
        "<br>\n",
        "\n",
        "<font color=\"mediumseagreen\">*Use the `sd()` function to calculate each sample standard deviation. Use the `qt()` function to identify $t_{\\alpha/2}$ using the [informal count](#19ci-diff) for the degrees of freedom.*</font>\n",
        "\n",
        "#### <a name=\"19sol13c\">Solution to Question 13c</a>\n",
        "\n",
        "---"
      ],
      "id": "93248963-ca89-4a8e-bb47-e8ac3b455923"
    },
    {
      "cell_type": "code",
      "execution_count": null,
      "metadata": {
        "id": "e4004f10-ed8a-4a4b-a1e3-4e27f05f1b0d",
        "colab": {
          "base_uri": "https://localhost:8080/",
          "height": 52
        },
        "outputId": "d8cf8857-09d9-401e-d17d-950299581681"
      },
      "outputs": [
        {
          "output_type": "display_data",
          "data": {
            "text/html": [
              "4.05123159463531"
            ],
            "text/markdown": "4.05123159463531",
            "text/latex": "4.05123159463531",
            "text/plain": [
              "[1] 4.051232"
            ]
          },
          "metadata": {}
        },
        {
          "output_type": "display_data",
          "data": {
            "text/html": [
              "1.90685315280654"
            ],
            "text/markdown": "1.90685315280654",
            "text/latex": "1.90685315280654",
            "text/plain": [
              "[1] 1.906853"
            ]
          },
          "metadata": {}
        }
      ],
      "source": [
        "# use code cell to construct a 95% confidence interval\n",
        "tstar.diff <- qt(0.975, min(n.o, n.s) -1 )\n",
        "s.o <- sd(oct.wind$wind)\n",
        "s.s <- sd(sep.wind$wind)\n",
        "\n",
        "se.diff <- sqrt( s.s^2 / n.s + s.o^2 / n.o)\n",
        "\n",
        "upper.diff <- point.est + tstar.diff * se.diff\n",
        "lower.diff <- point.est - tstar.diff * se.diff\n",
        "\n",
        "upper.diff\n",
        "lower.diff"
      ],
      "id": "e4004f10-ed8a-4a4b-a1e3-4e27f05f1b0d"
    },
    {
      "cell_type": "markdown",
      "metadata": {
        "id": "463c7768-7820-4816-990a-2afb8c896182"
      },
      "source": [
        "<br>\n",
        "\n",
        "**Based on the output above, a 95% confidence interval is from $1.9069$ knots to\n",
        "$4.0512$ knots**.\n",
        "\n",
        "<br>  \n",
        "<br>"
      ],
      "id": "463c7768-7820-4816-990a-2afb8c896182"
    },
    {
      "cell_type": "markdown",
      "metadata": {
        "id": "6be6fd37-d25e-4ba3-8d29-4f8064de5fe8"
      },
      "source": [
        "### <a name=\"19q13d\">Question 13d</a>\n",
        "\n",
        "---\n",
        "\n",
        "Interpret the meaning of your interval in [Question 13c](#19q13c). In\n",
        "particular, can we conclude that wind speeds are on average greater in\n",
        "one month or the other?\n",
        "\n",
        "#### <a name=\"19sol13d\">Solution to Question 13d</a>\n",
        "\n",
        "---\n",
        "\n",
        "<br>\n",
        "There's a 95% chance the interval from $1.9069$ knots to $4.0512$ knots contains the difference in the mean wind speeds of all storms in September and the mean wind speeds of all storms in October.\n",
        "\n",
        "<br>\n",
        "\n",
        "Since the only plausible values for the difference are positive, we can conclude that the mean wind speed of storms in September is greater than the mean wind speed of storms in October.\n",
        "\n",
        "<br> <br>"
      ],
      "id": "6be6fd37-d25e-4ba3-8d29-4f8064de5fe8"
    },
    {
      "cell_type": "markdown",
      "metadata": {
        "id": "55ef97fb-cad9-4ddb-b55d-b946898394ac"
      },
      "source": [
        "# <a name=\"19ttest\">Using `t.test()` for a Difference in Means</a>\n",
        "\n",
        "---\n",
        "\n",
        "The `t.test()` function in R can used to construct a confidence interval\n",
        "for a difference in means from two independent populations using a\n",
        "$t$-distribution with Welch's approximation for the degree's for\n",
        "freedom. Let `x` and `y` denote vectors containing data from each of the\n",
        "two independent samples.\n",
        "\n",
        "-   The command `t.test(x, y, conf.level = 0.95)$conf.int` will give a 95% confidence level for the difference in means using Welch's approximation."
      ],
      "id": "55ef97fb-cad9-4ddb-b55d-b946898394ac"
    },
    {
      "cell_type": "markdown",
      "metadata": {
        "id": "6f8ef144-a090-4092-bccb-23ab64a14485"
      },
      "source": [
        "## <a name=\"19q14\">Question 14</a>\n",
        "\n",
        "---\n",
        "\n",
        "Use the `t.test()` function with the samples `sep.wind` and `oct.wind`\n",
        "to construct a 95% confidence interval for the difference in mean wind\n",
        "speeds of North Atlantic storms in September compared to October. How\n",
        "does your answer compare to your confidence interval in [Question\n",
        "13c](#19q13c)? If the two answers are different, which confidence interval do\n",
        "you believe is more accurate?\n",
        "\n",
        "### <a name=\"19sol14\">Solution to Question 14</a>\n",
        "\n",
        "---\n",
        "\n",
        "Complete the command below and then compare result to answer in\n",
        "[Question 13c](#19q13c)."
      ],
      "id": "6f8ef144-a090-4092-bccb-23ab64a14485"
    },
    {
      "cell_type": "code",
      "execution_count": null,
      "metadata": {
        "id": "0af9823c-80d9-4bea-be09-507b97ad6543",
        "colab": {
          "base_uri": "https://localhost:8080/",
          "height": 34
        },
        "outputId": "1330fb79-48c3-4543-85e7-50dfbb1a838f"
      },
      "outputs": [
        {
          "output_type": "display_data",
          "data": {
            "text/html": [
              "<style>\n",
              ".list-inline {list-style: none; margin:0; padding: 0}\n",
              ".list-inline>li {display: inline-block}\n",
              ".list-inline>li:not(:last-child)::after {content: \"\\00b7\"; padding: 0 .5ex}\n",
              "</style>\n",
              "<ol class=list-inline><li>1.90707501812644</li><li>4.05100972931541</li></ol>\n"
            ],
            "text/markdown": "1. 1.90707501812644\n2. 4.05100972931541\n\n\n",
            "text/latex": "\\begin{enumerate*}\n\\item 1.90707501812644\n\\item 4.05100972931541\n\\end{enumerate*}\n",
            "text/plain": [
              "[1] 1.907075 4.051010\n",
              "attr(,\"conf.level\")\n",
              "[1] 0.95"
            ]
          },
          "metadata": {}
        }
      ],
      "source": [
        "t.test(sep.wind$wind, oct.wind$wind, conf.level = 0.95)$conf.int"
      ],
      "id": "0af9823c-80d9-4bea-be09-507b97ad6543"
    },
    {
      "cell_type": "markdown",
      "metadata": {
        "id": "2323d86c-3905-4c9d-90fa-78178d41c7a4"
      },
      "source": [
        "<br>  \n",
        "The result above is consistent with the previous confidence interval.\n",
        "\n",
        "<br>"
      ],
      "id": "2323d86c-3905-4c9d-90fa-78178d41c7a4"
    },
    {
      "cell_type": "markdown",
      "metadata": {
        "id": "856fcd32-b4f9-4be0-a501-6b6d2dbd7c8f"
      },
      "source": [
        "## <a name=\"19subset-ttest\">Subsetting with `t.test`</a>\n",
        "\n",
        "---\n",
        "\n",
        "Frequently, we would like to compare the distributions of a quantitative\n",
        "variable, denoted `quant`, for two different groups based on a\n",
        "categorical variable in the data set, denoted `categorical`. If our\n",
        "sample data is stored in a data frame called `data.name` with this\n",
        "structure, we can use `t.test()` without having to first split the\n",
        "sample into independent samples according to category group. `t.test()`\n",
        "can subset the data into independent samples for us and construct a\n",
        "confidence interval for the difference in two means. Using the\n",
        "`t.test()` function\n",
        "\n",
        "<center>\n",
        "\n",
        "`t.test(quant ~ categorical, data = data.name, conf.level = 0.95)$conf.int`\n",
        "\n",
        "</center>\n",
        "\n",
        "will give a 95% confidence level for the difference in means of a\n",
        "specified quantitative variable between the two different groups of the\n",
        "categorical variable."
      ],
      "id": "856fcd32-b4f9-4be0-a501-6b6d2dbd7c8f"
    },
    {
      "cell_type": "markdown",
      "metadata": {
        "id": "5d08943b-f75d-4077-bcf8-3c31085c0170"
      },
      "source": [
        "## <a name=\"19q15\">Question 15</a>\n",
        "\n",
        "---\n",
        "\n",
        "The code cell below subsets the sample data for all months in `storms`\n",
        "to a new data frame named `pooled` that:\n",
        "\n",
        "-   Includes only storm observations from September or October.\n",
        "-   Selects only two variables, `wind` and `month`, to keep from `storms`.\n",
        "-   The first six rows of the data frame `pooled` are printed to the screen with `head(pooled)`.\n",
        "-   Run the code cell below and inspect the first six rows of `pooled`."
      ],
      "id": "5d08943b-f75d-4077-bcf8-3c31085c0170"
    },
    {
      "cell_type": "code",
      "execution_count": null,
      "metadata": {
        "id": "e9a87d55-b031-4dc2-ac90-52018c1bbe3c",
        "colab": {
          "base_uri": "https://localhost:8080/",
          "height": 286
        },
        "outputId": "9f89b0c6-98e2-4890-a4e4-5306e73f84dc"
      },
      "outputs": [
        {
          "output_type": "display_data",
          "data": {
            "text/html": [
              "<table class=\"dataframe\">\n",
              "<caption>A tibble: 6 × 2</caption>\n",
              "<thead>\n",
              "\t<tr><th scope=col>wind</th><th scope=col>month</th></tr>\n",
              "\t<tr><th scope=col>&lt;int&gt;</th><th scope=col>&lt;fct&gt;</th></tr>\n",
              "</thead>\n",
              "<tbody>\n",
              "\t<tr><td>30</td><td>9</td></tr>\n",
              "\t<tr><td>20</td><td>9</td></tr>\n",
              "\t<tr><td>20</td><td>9</td></tr>\n",
              "\t<tr><td>75</td><td>9</td></tr>\n",
              "\t<tr><td>75</td><td>9</td></tr>\n",
              "\t<tr><td>75</td><td>9</td></tr>\n",
              "</tbody>\n",
              "</table>\n"
            ],
            "text/markdown": "\nA tibble: 6 × 2\n\n| wind &lt;int&gt; | month &lt;fct&gt; |\n|---|---|\n| 30 | 9 |\n| 20 | 9 |\n| 20 | 9 |\n| 75 | 9 |\n| 75 | 9 |\n| 75 | 9 |\n\n",
            "text/latex": "A tibble: 6 × 2\n\\begin{tabular}{ll}\n wind & month\\\\\n <int> & <fct>\\\\\n\\hline\n\t 30 & 9\\\\\n\t 20 & 9\\\\\n\t 20 & 9\\\\\n\t 75 & 9\\\\\n\t 75 & 9\\\\\n\t 75 & 9\\\\\n\\end{tabular}\n",
            "text/plain": [
              "  wind month\n",
              "1 30   9    \n",
              "2 20   9    \n",
              "3 20   9    \n",
              "4 75   9    \n",
              "5 75   9    \n",
              "6 75   9    "
            ]
          },
          "metadata": {}
        }
      ],
      "source": [
        "pooled <- subset(storms,\n",
        "               month == \"9\" | month == \"10\",   # month is 9 OR month is 10\n",
        "               select = c(wind, month))  # select wind and month variables\n",
        "\n",
        "head(pooled)  # print first 6 rows of pooled to screen"
      ],
      "id": "e9a87d55-b031-4dc2-ac90-52018c1bbe3c"
    },
    {
      "cell_type": "markdown",
      "metadata": {
        "id": "72cbc7d3-a09a-4014-95e5-f103fc53979d"
      },
      "source": [
        "Use the `t.test()` function with the pooled sample `pooled` to\n",
        "construct a 95% confidence interval for the difference in mean wind\n",
        "speeds of North Atlantic storms in September compared to October. How\n",
        "does your answer compare to your confidence intervals in [Question\n",
        "13c](#19q13c) and [Question 14](#19q14)? If the intervals are different, which\n",
        "confidence interval do you believe is most accurate?\n",
        "\n",
        "### <a name=\"19sol15\">Solution to Question 15</a>\n",
        "\n",
        "---\n",
        "\n",
        "Complete the command below and then compare the result to your answers\n",
        "in [Question 13c](#19q13c) and [Question 14](#19q14)."
      ],
      "id": "72cbc7d3-a09a-4014-95e5-f103fc53979d"
    },
    {
      "cell_type": "code",
      "execution_count": null,
      "metadata": {
        "id": "cdd33062-5b44-4670-97ff-8b5ac7fa7067",
        "colab": {
          "base_uri": "https://localhost:8080/",
          "height": 34
        },
        "outputId": "b7f330e3-58e6-43e1-b514-a42a041d8059"
      },
      "outputs": [
        {
          "output_type": "display_data",
          "data": {
            "text/html": [
              "<style>\n",
              ".list-inline {list-style: none; margin:0; padding: 0}\n",
              ".list-inline>li {display: inline-block}\n",
              ".list-inline>li:not(:last-child)::after {content: \"\\00b7\"; padding: 0 .5ex}\n",
              "</style>\n",
              "<ol class=list-inline><li>1.90707501812644</li><li>4.05100972931541</li></ol>\n"
            ],
            "text/markdown": "1. 1.90707501812644\n2. 4.05100972931541\n\n\n",
            "text/latex": "\\begin{enumerate*}\n\\item 1.90707501812644\n\\item 4.05100972931541\n\\end{enumerate*}\n",
            "text/plain": [
              "[1] 1.907075 4.051010\n",
              "attr(,\"conf.level\")\n",
              "[1] 0.95"
            ]
          },
          "metadata": {}
        }
      ],
      "source": [
        "t.test(wind ~ month, data = pooled, conf.level = 0.95)$conf.int"
      ],
      "id": "cdd33062-5b44-4670-97ff-8b5ac7fa7067"
    },
    {
      "cell_type": "markdown",
      "metadata": {
        "id": "WYV5Uc0xFJyQ"
      },
      "source": [
        "<br>\n",
        "The result above is consistent with previous confidence intervals.\n",
        "<br>"
      ],
      "id": "WYV5Uc0xFJyQ"
    },
    {
      "cell_type": "markdown",
      "metadata": {
        "id": "b8e3a746-8f07-459e-aa2e-e5e2552e662e"
      },
      "source": [
        "## <a name=\"19caution-ttest\">Caution Using `t.test()` for a Difference in Two Means</a>\n",
        "\n",
        "---\n",
        "\n",
        "The variable `month` in the original sample `storms` has observations\n",
        "from **10 different months**. If you try running the command\n",
        "`t.test(wind ~ month, data = storms, conf.level = 0.95)$conf.int` you\n",
        "will receive an error since the categorical variable `month` has more\n",
        "than two classes.  <font color=\"dodgerblue\">**The categorical\n",
        "variable used to split the data must have exactly 2 different\n",
        "classes**</font>. In solving [Question 15](#19q15) we avoided this error by:\n",
        "\n",
        "-   First creating the `pooled` sample that included only two months, September and October.\n",
        "-   Then using `t.test()` with the `pooled` sample instead of the full `storms` data set.\n",
        "\n",
        "Otherwise, we can split the original sample into two independent samples\n",
        "`x` and `y` and use the `t.test()` function as we did in [Question 14](#19q14)\n",
        "with independent wind speed samples `sep.wind` and `oct.wind`."
      ],
      "id": "b8e3a746-8f07-459e-aa2e-e5e2552e662e"
    },
    {
      "cell_type": "markdown",
      "source": [
        "# <a name=\"19CC License\">Creative Commons License Information</a>\n",
        "---\n",
        "\n",
        "![Creative Commons\n",
        "License](https://i.creativecommons.org/l/by-nc-sa/4.0/88x31.png)\n",
        "\n",
        "*Statistical Methods: Exploring the Uncertain* by [Adam\n",
        "Spiegler (University of Colorado Denver)](https://github.com/CU-Denver-MathStats-OER/Statistical-Theory)\n",
        "is licensed under a [Creative Commons\n",
        "Attribution-NonCommercial-ShareAlike 4.0 International\n",
        "License](http://creativecommons.org/licenses/by-nc-sa/4.0/). This work is funded by an [Institutional OER Grant from the Colorado Department of Higher Education (CDHE)](https://cdhe.colorado.gov/educators/administration/institutional-groups/open-educational-resources-in-colorado).\n",
        "\n",
        "For similar interactive OER materials in other courses funded by this project in the Department of Mathematical and Statistical Sciences at the University of Colorado Denver, visit <https://github.com/CU-Denver-MathStats-OER>."
      ],
      "metadata": {
        "id": "o4bR8timX770"
      },
      "id": "o4bR8timX770"
    }
  ],
  "nbformat": 4,
  "nbformat_minor": 5,
  "metadata": {
    "kernelspec": {
      "name": "ir",
      "display_name": "R",
      "language": "R"
    },
    "colab": {
      "provenance": [],
      "include_colab_link": true
    }
  }
}