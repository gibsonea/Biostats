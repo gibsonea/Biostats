{
  "cells": [
    {
      "cell_type": "markdown",
      "metadata": {
        "id": "view-in-github",
        "colab_type": "text"
      },
      "source": [
        "<a href=\"https://colab.research.google.com/github/gibsonea/Biostats/blob/main/LabSolutions/Solutions05_BayesRule_ScreeningTest.ipynb\" target=\"_parent\"><img src=\"https://colab.research.google.com/assets/colab-badge.svg\" alt=\"Open In Colab\"/></a>"
      ]
    },
    {
      "cell_type": "markdown",
      "id": "825f5128-6e33-469d-b8e8-b8e030ea1f56",
      "metadata": {
        "id": "825f5128-6e33-469d-b8e8-b8e030ea1f56"
      },
      "source": [
        "# <a name=\"05intro\">2.2: Bayes' Rule and Screening Tests</a>\n",
        "\n",
        "----\n",
        "\n",
        "Medical screening is an essential part of disease prevention.  Primary care screening tests are less invasive, for example mammograms or blood tests, but do not have the best accuracy, for example, there may be false positives (i.e. someone received a positive test when they don't have the disease).  If a patient tests positive in primary care, they will typically undergo a secondary care test which is more invasive, but also more accurate, for example biopsy.  Understanding the statistics behind screening tests and how these tests are used in medical decisions is important for any biomedical engineer.  \n",
        "\n",
        "The two main properties of a diagnostic test are <font color=\"mediumseagreen\">**sensitivity**</font> and <font color=\"mediumseagreen\">**specificity**</font>.\n",
        "\n",
        "- <font color=\"mediumseagreen\">**Sensitivity**</font> is the probability that a patient will have a positive test result if they have the disease.  We can describe this as a conditional probability: $P(T+|D+)$.  \n",
        "- <font color=\"mediumseagreen\">**Specificity**</font> is the probability that a patient will have a negative result if they do not have the disease.  It is described by: $P(T-|D-)$.\n",
        "\n",
        "<br>\n",
        "\n",
        "These test properties can be measured by a clinical study using a sample of patients who are known to have the disease and a sample of healthy controls.  \n",
        "\n",
        "\n"
      ]
    },
    {
      "cell_type": "markdown",
      "id": "-P_34gWHMfzH",
      "metadata": {
        "id": "-P_34gWHMfzH"
      },
      "source": [
        "### <a name=\"05ex-roll\">Example: Calculating sensitivity and specificity of a new diagnostic test</a>\n",
        "\n",
        "----\n",
        "\n",
        "A noninvasive test for pulmonary hypertension would enable clinicians to perform fewer catheterizations, which in turn would save time and money and greatly reduce patient stress. Researchers at CU Anschutz developed one such noninvasive test based on echocardiographic imaging measurements (EI).\n",
        "\n",
        "- A small clinical trial was conducted to determine how well this new noninvasive test worked.\n",
        "- The study involved 41 patients with pulmonary hypertension and 12 healthy controls.\n",
        "- Out of 41 patients who have the disease, 30 tested positive (True Positives) while 11 tested negative (False Negatives).  And out of 12 healthy controls, 6 tested positive (False Positives) and 6 tested negative (True Negatives).  The results of the trial are summarized in the table below.  \n",
        "\n",
        "<br>\n",
        "\n",
        "<figure>\n",
        "<img\n",
        "src=\"https://raw.githubusercontent.com/gibsonea/Biostats/main/Images/SensSpecImage.png\" width=\"400\">\n",
        "\n",
        "</figure>\n",
        "\n",
        "<br>\n",
        "\n"
      ]
    },
    {
      "cell_type": "markdown",
      "id": "W1HxAH3OsxRs",
      "metadata": {
        "id": "W1HxAH3OsxRs"
      },
      "source": [
        "## <a name=\"05q1\">Question 1</a>\n",
        "\n",
        "----\n",
        "\n",
        "Calculate the sensitivity of the diagnostic test $P(T+|D+)$.  Remember the property of conditional probability: $\\displaystyle P(B | A) = \\frac{P(A \\cap B)}{P(A)}$\n",
        "\n",
        "### <a name=\"05ans1\">Solution to Question 1</a>\n",
        "\n",
        "----\n",
        "\n",
        "<br>  \n",
        "Sensitivity = 30/(30+11) = 30/41 = 0.73\n",
        "<br>\n",
        "\n"
      ]
    },
    {
      "cell_type": "code",
      "source": [
        "sens = 30/(30+11)\n",
        "sens"
      ],
      "metadata": {
        "colab": {
          "base_uri": "https://localhost:8080/",
          "height": 34
        },
        "id": "JfQLfGcjojwX",
        "outputId": "1c550442-453f-43eb-af92-17951cd1501c"
      },
      "id": "JfQLfGcjojwX",
      "execution_count": null,
      "outputs": [
        {
          "output_type": "display_data",
          "data": {
            "text/html": [
              "0.731707317073171"
            ],
            "text/markdown": "0.731707317073171",
            "text/latex": "0.731707317073171",
            "text/plain": [
              "[1] 0.7317073"
            ]
          },
          "metadata": {}
        }
      ]
    },
    {
      "cell_type": "markdown",
      "id": "Ax-9GCS2siMu",
      "metadata": {
        "id": "Ax-9GCS2siMu"
      },
      "source": [
        "## <a name=\"05q2\">Question 2</a>\n",
        "\n",
        "----\n",
        "\n",
        "Calculate the specificity of the diagnostic test $P(T-|D-)$.\n",
        "\n"
      ]
    },
    {
      "cell_type": "markdown",
      "id": "UR4rhvLBr5ms",
      "metadata": {
        "id": "UR4rhvLBr5ms"
      },
      "source": [
        "### <a name=\"O5ans2\">Solution to Question 2</a>\n",
        "\n",
        "----\n",
        "\n",
        "<br>  \n",
        "Specificity = 6/(6+6) = 0.5\n",
        "<br>"
      ]
    },
    {
      "cell_type": "code",
      "source": [
        "spec = 6/(6+6)\n",
        "spec"
      ],
      "metadata": {
        "colab": {
          "base_uri": "https://localhost:8080/",
          "height": 34
        },
        "id": "TqyuTx64ouQ1",
        "outputId": "a9c32ae0-c0e5-4e28-c5bf-91e596b907f9"
      },
      "id": "TqyuTx64ouQ1",
      "execution_count": null,
      "outputs": [
        {
          "output_type": "display_data",
          "data": {
            "text/html": [
              "0.5"
            ],
            "text/markdown": "0.5",
            "text/latex": "0.5",
            "text/plain": [
              "[1] 0.5"
            ]
          },
          "metadata": {}
        }
      ]
    },
    {
      "cell_type": "markdown",
      "id": "C2Kc_PAYrvla",
      "metadata": {
        "id": "C2Kc_PAYrvla"
      },
      "source": [
        "# <a name=\"O5notation\">Predictive Values</a>\n",
        "\n",
        "----\n",
        "\n",
        "If a patient receives a positive test result from a screening test, they would like to know the probability that they do have the disease.  This probability is called the Positive Predictive Value (PPV): $P(D+|T+)$.  This is **not** the same as the sensitivity of the test: $P(T+|D+)$.\n",
        "\n",
        "<br>\n",
        "\n",
        "Likewise, if they test negative, they would like to know what is the probability that they do not have the disease.  This is the negative predictive value (NPV): $P(D-|T-)$.\n",
        "\n",
        "<br>\n",
        "\n",
        "In order to find these predictive values, we need not only the sensitivity and specificity of the test, but the disease prevalence, $P(D+)$.  The equations relating these comes from Bayes' Rule and are as follows:\n",
        "\n",
        "<br>\n",
        "\n",
        "$$PPV = \\frac{\\text{Sensitivity} \\cdot P(D+)}{\\text{Sensitivity} \\cdot P(D+) + (1 - \\text{Specificity}) \\cdot (1 - P(D+))}$$\n",
        "\n",
        "<br>\n",
        "\n",
        "$$NPV = \\frac{\\text{Specificity} \\cdot (1-P(D+))}{\\text{Specificity} \\cdot (1-P(D+)) + (1-\\text{Sensitivity}) \\cdot P(D+) }$$\n",
        "\n"
      ]
    },
    {
      "cell_type": "markdown",
      "id": "OnsWlfoX7Otp",
      "metadata": {
        "id": "OnsWlfoX7Otp"
      },
      "source": [
        "## <a name=\"O5q3\">Question 3</a>\n",
        "\n",
        "----\n",
        "\n",
        "\n",
        "A rapid flu test based on a saliva sample has a sensitivity of 89% and a specificity of 95%. The prevalence of flu in the county in which you live is 5%.\n",
        "- If you have a positive test result, what is the probability you have flu?\n",
        "\n",
        "\n",
        "\n",
        "<br>\n",
        "\n"
      ]
    },
    {
      "cell_type": "markdown",
      "id": "s6BApl1n8QET",
      "metadata": {
        "id": "s6BApl1n8QET"
      },
      "source": [
        "### <a name=\"O5ans3\">Solution to Question 3</a>\n",
        "\n",
        "----\n",
        "\n",
        "<br>  \n",
        "The probability of having the flu is 48.4%\n",
        "<br>"
      ]
    },
    {
      "cell_type": "code",
      "source": [
        "sens = 0.89\n",
        "spec = 0.95\n",
        "PPV = sens*(0.05)/(sens*(0.05)+(1-spec)*(1-0.05))\n",
        "PPV"
      ],
      "metadata": {
        "colab": {
          "base_uri": "https://localhost:8080/",
          "height": 34
        },
        "id": "0U2E_beLpAHK",
        "outputId": "448ab737-786b-41f1-85a8-c9a62addf459"
      },
      "id": "0U2E_beLpAHK",
      "execution_count": null,
      "outputs": [
        {
          "output_type": "display_data",
          "data": {
            "text/html": [
              "0.483695652173913"
            ],
            "text/markdown": "0.483695652173913",
            "text/latex": "0.483695652173913",
            "text/plain": [
              "[1] 0.4836957"
            ]
          },
          "metadata": {}
        }
      ]
    },
    {
      "cell_type": "markdown",
      "id": "734LqHrQ8hnn",
      "metadata": {
        "id": "734LqHrQ8hnn"
      },
      "source": [
        "## <a name=\"O5q4\">Question 4</a>\n",
        "\n",
        "----\n",
        "\n",
        "\n",
        "Let's say instead that you live in a county with a higher prevalence of flu of 15%.\n",
        "- If you have a positive test result, what is the probability you have flu?\n",
        "\n",
        "\n",
        "\n",
        "<br>\n",
        "\n"
      ]
    },
    {
      "cell_type": "markdown",
      "id": "jKknBSiF82jo",
      "metadata": {
        "id": "jKknBSiF82jo"
      },
      "source": [
        "### <a name=\"O5ans4\">Solution to Question 4</a>\n",
        "\n",
        "----\n",
        "\n",
        "<br>  \n",
        "The probability of having the flu is 75.9%\n",
        "<br>"
      ]
    },
    {
      "cell_type": "code",
      "source": [
        "sens = 0.89\n",
        "spec = 0.95\n",
        "PPV = sens*(0.15)/(sens*(0.15)+(1-spec)*(1-0.15))\n",
        "PPV"
      ],
      "metadata": {
        "colab": {
          "base_uri": "https://localhost:8080/",
          "height": 34
        },
        "id": "NB_NdaVkpXux",
        "outputId": "79505eb4-5f2e-47bf-8341-25b120016c31"
      },
      "id": "NB_NdaVkpXux",
      "execution_count": null,
      "outputs": [
        {
          "output_type": "display_data",
          "data": {
            "text/html": [
              "0.758522727272727"
            ],
            "text/markdown": "0.758522727272727",
            "text/latex": "0.758522727272727",
            "text/plain": [
              "[1] 0.7585227"
            ]
          },
          "metadata": {}
        }
      ]
    },
    {
      "cell_type": "markdown",
      "id": "OTPSvDHGGY0d",
      "metadata": {
        "id": "OTPSvDHGGY0d"
      },
      "source": [
        "# <a name=\"O5notation\">Aside on Bayesian Inference</a>\n",
        "\n",
        "----\n",
        "\n",
        "The probability of an event is the relative frequency of the event occuring over an indefinitely large number of trials.  \n",
        "\n",
        "For example, if you toss a fair coin and calculate the # of heads/total # of tosses, it will approach 1/2 for many tosses (trials).\n",
        "\n",
        "This definition above forms the basis for the frequentist method of inference, which is the main approach to statistical inference used in statistical practice. However, Bayesian inference is an alternative method of inference. The Bayesian school of inference rejects the idea of the frequency definition of probability, considering that it is a theoretical concept that can never be realized in practice. Instead, Bayesians conceive of two types of probability: a prior probability and a posterior probability.\n",
        "\n",
        "The **prior probability** of an event is the best guess by the observer of an event's likelihood in the absence of data.\n",
        "\n",
        "The **posterior probability** of an event is the likelihood that an event will occur after collecting some empirical data. It is obtained by integrating information from the prior probability with additional data related to the event in question.\n",
        "\n",
        "From the previous flu example, the probability that a random person from the county you live has the flu is given by the prevelence of flu or P(D+) = 0.15 and is the **prior probability**.  If the person then is tested and receives a positive test result, their probability of having the flu increases.  This is called the **posterior probability**."
      ]
    },
    {
      "cell_type": "markdown",
      "id": "ZM9NAvj49CV4",
      "metadata": {
        "id": "ZM9NAvj49CV4"
      },
      "source": [
        "# <a name=\"O5notation\">Receiver Operator Characteristics (ROC) Curve</a>\n",
        "\n",
        "----\n",
        "\n",
        "Consider the previous example concerning a non-invasive diagnostic test for pulmonary hypertension (PH).  The test uses Echocardiographic Imaging (EI) to measure the pulmonary artery diameter $X_{d}$ which ranges from 0.5 to 4.  A larger artery diameter means the person is at risk of having PH. For clinical testing purposes, one needs to choose a diagnostic cutoff value for $X_{d}$ to decide if the test result is positive or negative.  Instead of arbitrarily choosing such a \"cutoff\" value, one can create a Receiver Operator Characteristics (ROC) curve to get a better idea of the accuracy of the test.\n",
        "\n",
        "To create a ROC curve, one varies the cutoff value and calculates the test sensitivity and specificity.  Let's do an example with the non-invasive test for PH.\n",
        "\n",
        " We construct the ROC curve by first allowing our cutoff value to be $X_{d}$ = 4.  In this case, the cutoff is set so high that no one in the study tests positive and everyone tests negative.\n",
        "\n",
        " <br>\n",
        "\n",
        "<figure>\n",
        "<img\n",
        "src=\"https://raw.githubusercontent.com/gibsonea/Biostats/main/Images/ROCcurveXd4.png\" width=\"400\">\n",
        "\n",
        "</figure>\n",
        "\n",
        "<br>\n",
        "\n",
        "Sensitivity is the number of true positives (i.e. both disease positive and test positive) divided by number of disease positives:\n",
        "\n",
        "- Sensitivity = 0/(0+41) = 0\n",
        "\n",
        "Specificity is the number of true negatives (i.e. both disease negative and test negative) divided by the number of disease negatives:\n",
        "\n",
        "- Specificity = 12/(0+12) = 1\n",
        "\n",
        "<br>\n",
        "\n",
        "For cutoff of 4,\n",
        "- Sensitivity = 0\n",
        "- 1 - Specificity = 1 - 1 = 0\n",
        "\n",
        "Our point on the ROC curve would be **(0,0)**.\n",
        "\n",
        "<br>\n",
        "\n",
        "\n",
        "Next, we can choose a cutoff value that is at the lowest value of $X_{d}$ so that everyone is test positive (i.e. cutoff of $X_{d}$ = 0)\n",
        "\n",
        "Our contingency table would then be:\n",
        "\n",
        " <br>\n",
        "\n",
        "<figure>\n",
        "<img\n",
        "src=\"https://raw.githubusercontent.com/gibsonea/Biostats/main/Images/ROCcurveXd0.png\" width=\"400\">\n",
        "\n",
        "</figure>\n",
        "\n",
        "<br>\n",
        "\n",
        "- Sensitivity = 41/(41+0) = 1\n",
        "- Specificity = 0/(12+0) = 0\n",
        "\n",
        "<br>\n",
        "\n",
        "For cutoff of 0,\n",
        "- Sensitivity = 1\n",
        "- 1 - Specificity = 1 - 0 = 1\n",
        "\n",
        "Our point on the ROC curve would be **(1,1)**.\n",
        "\n",
        "<br>\n",
        "\n",
        "Note that all ROC curves include the points **(0,0)** and **(1,1)**.\n",
        "\n",
        "<br>\n",
        "\n",
        "One then varies the cutoff value incrementally and computes the sensitivity and sensitivity with each change building up the ROC curve.\n",
        "\n",
        "For cutoff $X_d$ = 2.5, 1:\n",
        "\n",
        " <br>\n",
        "\n",
        "<figure>\n",
        "<img\n",
        "src=\"https://raw.githubusercontent.com/gibsonea/Biostats/main/Images/ROCcurveXd1and2p5.png\" width=\"400\">\n",
        "\n",
        "</figure>\n",
        "\n",
        "<br>\n",
        "\n"
      ]
    },
    {
      "cell_type": "markdown",
      "id": "sSOzRAF2ZRSn",
      "metadata": {
        "id": "sSOzRAF2ZRSn"
      },
      "source": [
        "## <a name=\"O5q5\">Question 5</a>\n",
        "\n",
        "----\n",
        "\n",
        "\n",
        "What are the points on the ROC curve for cutoffs of $X_d$ = 1 and 2.5.\n",
        "\n",
        "\n",
        "<br>"
      ]
    },
    {
      "cell_type": "markdown",
      "id": "3vA66MThZr4J",
      "metadata": {
        "id": "3vA66MThZr4J"
      },
      "source": [
        "### <a name=\"O5ans5\">Solution to Question 5</a>\n",
        "\n",
        "----\n",
        "\n",
        "<br>  \n",
        "The points on the ROC curve are:\n",
        "(0.25,0.585) for $X_d$ = 2.5 and\n",
        "\n",
        "(0.667,0.927) for $X_d$ = 1\n",
        "<br>"
      ]
    },
    {
      "cell_type": "code",
      "source": [
        "# for Xd = 2.5\n",
        "sens = 24/(24+17)\n",
        "sens\n",
        "spec = 9/(3+9)\n",
        "spec\n",
        "1-spec"
      ],
      "metadata": {
        "colab": {
          "base_uri": "https://localhost:8080/",
          "height": 69
        },
        "id": "QpXtID4LK4xx",
        "outputId": "5e5db289-ba8e-4843-e34e-ad8b0d9d2726"
      },
      "id": "QpXtID4LK4xx",
      "execution_count": null,
      "outputs": [
        {
          "output_type": "display_data",
          "data": {
            "text/html": [
              "0.585365853658537"
            ],
            "text/markdown": "0.585365853658537",
            "text/latex": "0.585365853658537",
            "text/plain": [
              "[1] 0.5853659"
            ]
          },
          "metadata": {}
        },
        {
          "output_type": "display_data",
          "data": {
            "text/html": [
              "0.75"
            ],
            "text/markdown": "0.75",
            "text/latex": "0.75",
            "text/plain": [
              "[1] 0.75"
            ]
          },
          "metadata": {}
        },
        {
          "output_type": "display_data",
          "data": {
            "text/html": [
              "0.25"
            ],
            "text/markdown": "0.25",
            "text/latex": "0.25",
            "text/plain": [
              "[1] 0.25"
            ]
          },
          "metadata": {}
        }
      ]
    },
    {
      "cell_type": "code",
      "source": [
        "# for Xd = 1\n",
        "sens = 38/(38+3)\n",
        "sens\n",
        "spec = 4/(8+4)\n",
        "spec\n",
        "1-spec"
      ],
      "metadata": {
        "colab": {
          "base_uri": "https://localhost:8080/",
          "height": 69
        },
        "id": "R6yEZ4CWLM4O",
        "outputId": "89a31535-eba2-4b1b-ca47-11327b2b89cc"
      },
      "id": "R6yEZ4CWLM4O",
      "execution_count": null,
      "outputs": [
        {
          "output_type": "display_data",
          "data": {
            "text/html": [
              "0.926829268292683"
            ],
            "text/markdown": "0.926829268292683",
            "text/latex": "0.926829268292683",
            "text/plain": [
              "[1] 0.9268293"
            ]
          },
          "metadata": {}
        },
        {
          "output_type": "display_data",
          "data": {
            "text/html": [
              "0.333333333333333"
            ],
            "text/markdown": "0.333333333333333",
            "text/latex": "0.333333333333333",
            "text/plain": [
              "[1] 0.3333333"
            ]
          },
          "metadata": {}
        },
        {
          "output_type": "display_data",
          "data": {
            "text/html": [
              "0.666666666666667"
            ],
            "text/markdown": "0.666666666666667",
            "text/latex": "0.666666666666667",
            "text/plain": [
              "[1] 0.6666667"
            ]
          },
          "metadata": {}
        }
      ]
    },
    {
      "cell_type": "markdown",
      "id": "FTNFBZ8mcQof",
      "metadata": {
        "id": "FTNFBZ8mcQof"
      },
      "source": [
        "## <a name=\"O5q6\">Question 6</a>\n",
        "\n",
        "----\n",
        "\n",
        "\n",
        "Create a plot of the ROC curve from the points you calculated.\n",
        "\n",
        "\n",
        "<br>"
      ]
    },
    {
      "cell_type": "code",
      "execution_count": null,
      "id": "GlGI5ihCci25",
      "metadata": {
        "id": "GlGI5ihCci25",
        "colab": {
          "base_uri": "https://localhost:8080/",
          "height": 437
        },
        "outputId": "769b83f6-18ca-4568-e22b-07a2e36c6486"
      },
      "outputs": [
        {
          "output_type": "display_data",
          "data": {
            "text/plain": [
              "plot without title"
            ],
            "image/png": "[encoded data removed]"
          },
          "metadata": {
            "image/png": {
              "width": 420,
              "height": 420
            }
          }
        }
      ],
      "source": [
        "#code cell for creating ROC curve.  Use plot().  Can use ?plot to find different plot options\n",
        "\n",
        "ROC.y <-c(0,0.585,0.927,1) #Format for creating vector - sensitivity\n",
        "ROC.x <- c(0,0.25,0.667,1) # 1 - specificity\n",
        "\n",
        "plot(ROC.x,ROC.y,type = \"b\",xlab = \"1 - Specificity\", ylab = \"Sensitivity\")\n"
      ]
    },
    {
      "cell_type": "markdown",
      "id": "7ojiodGYb-Xd",
      "metadata": {
        "id": "7ojiodGYb-Xd"
      },
      "source": [
        "# <a name=\"O4notation\">Area under the Curve</a>\n",
        "\n",
        "---\n",
        "\n",
        "Suppose you did many tests and plotted the frequency distribution of all $X_d$ values taken from people who have PH and those who do not.  The plot below shows two different distributions below for those who do have the disease and who do not.\n",
        "\n",
        " <br>\n",
        "\n",
        "<figure>\n",
        "<img\n",
        "src=\"https://raw.githubusercontent.com/gibsonea/Biostats/main/Images/ROCexplanation.png\" width=\"600\">\n",
        "\n",
        "</figure>\n",
        "\n",
        "<br>\n",
        "\n",
        "\n",
        "Figure A and B show the same distributions but with different threshold values.  Changing the threshold changes the # of true positives (TP), true negatives (TN), false positives (FP), and false negatives (FN) as can be seen in the plot.  The ROC curve can better describe these two distributions.\n",
        "\n",
        "The area under the ROC curve (AUC) is a useful property that can tell you more about whether your test is accurate.  If the test is perfect, the area under the curve would be 1, or an accuracy of 100% - i.e. always correctly identifies whether the person has the disease or not.  If you have a test that has some false positives and false negatives, then the AUC is less than 1.  The plot below describes how different distributions change the ROC curve.\n",
        "\n",
        " <br>\n",
        "\n",
        "<figure>\n",
        "<img\n",
        "src=\"https://raw.githubusercontent.com/gibsonea/Biostats/main/Images/ROCarea.png\" width=\"600\">\n",
        "\n",
        "</figure>\n",
        "\n",
        "<br>"
      ]
    },
    {
      "cell_type": "markdown",
      "source": [
        "## <a name=\"O5q7\">Question 7</a>\n",
        "\n",
        "----\n",
        "\n",
        "\n",
        "Use the points on the ROC curve from Question 6 to calculate the area under the curve (AUC) using the trapezoidal rule.\n",
        "\n",
        "\n",
        "<br>"
      ],
      "metadata": {
        "id": "njz8_6kH-a9W"
      },
      "id": "njz8_6kH-a9W"
    },
    {
      "cell_type": "code",
      "source": [
        "#First you will need to install the library which contains trapz() function\n",
        "\n",
        "install.packages(\"pracma\")\n",
        "library(pracma)\n"
      ],
      "metadata": {
        "id": "Djy0EtxC-4bT",
        "colab": {
          "base_uri": "https://localhost:8080/"
        },
        "outputId": "0475525e-16fa-4196-8b82-b13532540aa9"
      },
      "id": "Djy0EtxC-4bT",
      "execution_count": null,
      "outputs": [
        {
          "output_type": "stream",
          "name": "stderr",
          "text": [
            "Installing package into ‘/usr/local/lib/R/site-library’\n",
            "(as ‘lib’ is unspecified)\n",
            "\n"
          ]
        }
      ]
    },
    {
      "cell_type": "code",
      "source": [
        "# Use this code cell to calculate the AUC\n",
        "\n",
        "AUC = trapz(ROC.x,ROC.y)\n",
        "AUC"
      ],
      "metadata": {
        "id": "qJ3Jq4puAG-0",
        "colab": {
          "base_uri": "https://localhost:8080/",
          "height": 34
        },
        "outputId": "8a80623f-f8dc-4f70-9354-1a27c653f942"
      },
      "id": "qJ3Jq4puAG-0",
      "execution_count": null,
      "outputs": [
        {
          "output_type": "display_data",
          "data": {
            "text/html": [
              "0.7092225"
            ],
            "text/markdown": "0.7092225",
            "text/latex": "0.7092225",
            "text/plain": [
              "[1] 0.7092225"
            ]
          },
          "metadata": {}
        }
      ]
    },
    {
      "cell_type": "markdown",
      "source": [
        "Note that in this example, we have only calculated points on the ROC for just a few values of the threshold.  Typically you would want to include every data point in your sample in the calculation of a ROC curve."
      ],
      "metadata": {
        "id": "zQhbVNmlBlv-"
      },
      "id": "zQhbVNmlBlv-"
    },
    {
      "cell_type": "markdown",
      "source": [
        "## <a name=\"O5q8\">Question 8</a>\n",
        "\n",
        "----\n",
        "\n",
        "\n",
        "What is the accuracy of the test?  Do you think this would be a good clinical test and why?\n",
        "\n",
        "\n",
        "\n",
        "<br>\n"
      ],
      "metadata": {
        "id": "TLmPwMV0Cwja"
      },
      "id": "TLmPwMV0Cwja"
    },
    {
      "cell_type": "markdown",
      "source": [
        "### <a name=\"O5ans8\">Solution to Question 8</a>\n",
        "\n",
        "----\n",
        "\n",
        "<br>  \n",
        "The accuracy of the test is 70.9% which mean that the test can distinguish whether a person has the disease or not 70.9% of the time.  A value of AUC between 70 and 80% is considered \"good\".  \n",
        "<br>"
      ],
      "metadata": {
        "id": "BQBtcg7YC9TT"
      },
      "id": "BQBtcg7YC9TT"
    },
    {
      "cell_type": "markdown",
      "id": "XYaPzcSoGgEu",
      "metadata": {
        "id": "XYaPzcSoGgEu"
      },
      "source": [
        "# <a name=\"CC License\">Creative Commons License Information</a>\n",
        "---\n",
        "\n",
        "\n",
        "![Creative Commons\n",
        "License](https://i.creativecommons.org/l/by-nc-sa/4.0/88x31.png)\n",
        "\n",
        "Developed by Emily Gibson\n",
        "\n",
        "For similar interactive OER materials in other courses funded by this project in the Department of Mathematical and Statistical Sciences at the University of Colorado Denver, visit <https://github.com/CU-Denver-MathStats-OER>."
      ]
    }
  ],
  "metadata": {
    "colab": {
      "provenance": [],
      "include_colab_link": true
    },
    "kernelspec": {
      "display_name": "R",
      "language": "R",
      "name": "ir"
    }
  },
  "nbformat": 4,
  "nbformat_minor": 5
}