{
  "cells": [
    {
      "cell_type": "markdown",
      "metadata": {
        "id": "view-in-github",
        "colab_type": "text"
      },
      "source": [
        "<a href=\"https://colab.research.google.com/github/gibsonea/Biostats/blob/main/LabSolutions/Solutions14_Parametric_CI_Proportions_Full.ipynb\" target=\"_parent\"><img src=\"https://colab.research.google.com/assets/colab-badge.svg\" alt=\"Open In Colab\"/></a>"
      ]
    },
    {
      "cell_type": "markdown",
      "source": [
        "# <a name=\"20intro\">3.4: Parametric Confidence Intervals for Proportions</a>\n",
        "\n",
        "---"
      ],
      "metadata": {
        "id": "T4AuBbW83Zyt"
      },
      "id": "T4AuBbW83Zyt"
    },
    {
      "cell_type": "markdown",
      "source": [
        "# <a name=\"20poll-intro\">Public Opinion Polls</a>\n",
        "\n",
        "---\n",
        "\n",
        "Confidence intervals are frequently used when polling public opinion.\n",
        "Rather than give a point estimate alone, poll results are typically\n",
        "given along with a <font color=\"dodgerblue\">**margin of error**</font> corresponding to a specified <font color=\"dodgerblue\">**confidence level**</font>, which is typically 95%. For example, summarized in the bar plot and table below are the results of a PBS NewsHour/NPR/Marist poll<sup>1</sup> that surveyed ${\\color{tomato}{n=1,\\!227}}$ randomly selected adults in the US and gauged their opinions on how the US is handling the COVID pandemic\n",
        "approximately one year after the initial outbreak in the United States.\n",
        "\n",
        "\n",
        "<figure>\n",
        "<img\n",
        "src=\"https://raw.githubusercontent.com/CU-Denver-MathStats-OER/Statistical-Theory/main/Images/20fig-vaccination-poll1.png\"\n",
        "alt=\"A stacked bar plot summary of poll results\" width = \"70%\"/>\n",
        "<figcaption aria-hidden=\"true\">\n",
        "A stacked bar plot summary of poll results\n",
        "</figcaption>\n",
        "</figure>\n",
        "\n",
        "<figure>\n",
        "<img\n",
        "src=\"https://raw.githubusercontent.com/CU-Denver-MathStats-OER/Statistical-Theory/main/Images/20fig-vaccination-table1.png\"\n",
        "alt=\"A table summary of the poll\n",
        "results\" width = \"90%\"/>\n",
        "<figcaption aria-hidden=\"true\">\n",
        "A table summary of the poll results\n",
        "</figcaption>\n",
        "</figure>\n",
        "\n",
        "<br>\n",
        "\n",
        "<font size=2>1. “Politics still drives how Americans fell about COVID response, one year in”, [PBS/News\n",
        "Hour](https://www.pbs.org/newshour/politics/politics-still-drives-how-americans-feel-about-covid-response-one-year-in) March 11, 2021</font>"
      ],
      "metadata": {
        "id": "bPQNgRdX3YEo"
      },
      "id": "bPQNgRdX3YEo"
    },
    {
      "cell_type": "markdown",
      "metadata": {
        "id": "NsDXvEgc67TY"
      },
      "source": [
        "## <a name=\"20q1\">Question 1</a>\n",
        "\n",
        "---\n",
        "\n",
        "Based on the poll summaries above, approximately what proportion of ALL\n",
        "adults in the US do NOT plan to get vaccinated?\n",
        "\n",
        "### <a name=\"20sol1\">Solution to Question 1</a>\n",
        "\n",
        "---\n",
        "\n",
        "<br>  \n",
        "$$p \\approx \\widehat{p} = 0.3$$\n",
        "<br>"
      ],
      "id": "NsDXvEgc67TY"
    },
    {
      "cell_type": "markdown",
      "metadata": {
        "id": "psgsimcg67Tm"
      },
      "source": [
        "# <a name=\"20general-sum\">A General Summary of Confidence Intervals</a>\n",
        "\n",
        "---\n",
        "\n",
        "A confidence interval is an interval estimate for a population parameter\n",
        "with a rate of success given by the confidence level of the interval. We\n",
        "can construct confidence intervals for all sorts of statistics, and we\n",
        "can use confidence intervals as a tool for analyzing possible\n",
        "associations between two different variables. In general, a confidence\n",
        "interval has three components:\n",
        "\n",
        "-   A point estimate is calculated from a sample.\n",
        "-   A confidence level is chosen.\n",
        "-   A margin of error (MoE) to account for the uncertainty due to   sampling.\n",
        "    -   The MoE depends on the confidence level that is chosen.\n",
        "    -   Careful, the MoE is different from the standard error, but they  are related!\n",
        "    -   **The MoE is a multiple of the standard error, SE.**\n",
        "\n",
        "If we want to construct a confidence interval estimate for parameter\n",
        "$\\theta$, then we have\n",
        "\n",
        "$$({\\color{dodgerblue}{\\mbox{point estimate}}}) - {\\color{tomato}{\\mbox{MoE}}} < \\theta < ({\\color{dodgerblue}{\\mbox{point estimate}}}) + {\\color{tomato}{\\mbox{MoE}}}.$$\n",
        "\n",
        "All confidence intervals have this same general structure that we can\n",
        "construct using similar steps:\n",
        "\n",
        "1.  <font color=\"dodgerblue\">Choose a point estimate.</font>\n",
        "2.  Using the CLT, estimate the standard error.\n",
        "3.  Based on the confidence level, find the appropriate multiple   ($z_{\\alpha/2}$ or $t_{\\alpha/2}$).\n",
        "4.  <font color=\"tomato\">The margin of error (MoE) is the of   product the SE and either $z_{\\alpha/2}$ or $t_{\\alpha/2}$.</font>"
      ],
      "id": "psgsimcg67Tm"
    },
    {
      "cell_type": "markdown",
      "metadata": {
        "id": "6J2LjdLp67Tm"
      },
      "source": [
        "#### <a name=\"20single-mean\">Confidence Intervals for a Single Mean with Known $\\sigma^2$</a>\n",
        "\n",
        "---\n",
        "\n",
        "If we would like to estimate a population mean $\\mu$ of a population\n",
        "that has known variance $\\sigma^2$, we can pick a random sample of $n$\n",
        "values from the population. As long as the [sample is large enough](#20samp-size) or symmetric, we have:\n",
        "\n",
        "1.  <font color=\"dodgerblue\">A reasonable point estimate is the   corresponding sample mean, $\\bar{x}$.</font>\n",
        "2.  From CLT, the standard error is   $\\mbox{SE} = \\frac{\\sigma}{\\sqrt{n}}$.\n",
        "3.  Using the standard normal distribution, find the value of   $z_{\\alpha/2}$.\n",
        "4.  <font color=\"tomato\">The MoE   $= z_{\\alpha/2} \\cdot \\frac{\\sigma}{\\sqrt{n}}$.</font>\n",
        "\n",
        "$$ {\\color{dodgerblue}{\\overline{X}}} - {\\color{tomato}{z_{\\alpha/2} \\cdot \\frac{\\sigma}{\\sqrt{n}}}} < \\mu < {\\color{dodgerblue}{\\overline{X}}} + {\\color{tomato}{z_{\\alpha/2} \\cdot \\frac{\\sigma}{\\sqrt{n}}}} .$$"
      ],
      "id": "6J2LjdLp67Tm"
    },
    {
      "cell_type": "markdown",
      "metadata": {
        "id": "8YQy2DKU67Tm"
      },
      "source": [
        "#### <a name=\"20var-known\">Confidence Intervals for a Single Mean with Unknown $\\sigma^2$</a>\n",
        "\n",
        "---\n",
        "\n",
        "If we would like to estimate a population mean $\\mu$ of a population\n",
        "that has unknown variance $\\sigma^2$, we can pick a random sample of $n$\n",
        "values from the population. As long as the [sample is large enough](#20samp-size) or symmetric, we have:\n",
        "\n",
        "1.  <font color=\"dodgerblue\">A reasonable point estimate is the   corresponding sample mean, $\\bar{x}$.</font>\n",
        "2.  We use CLT, <font color=\"mediumseagreen\">plugging $s$ in place   of $\\sigma$</font>, to get   $\\mbox{SE} = \\frac{{\\color{mediumseagreen}{s}}}{\\sqrt{n}}$.\n",
        "3.  Using a <font color=\"mediumseagreen\">$t$-distribution</font>,   find the value of ${\\color{mediumseagreen}{t_{\\alpha/2}}}$.\n",
        "4.  <font color=\"tomato\">The MoE   $= {\\color{mediumseagreen}{t_{\\alpha/2}}} \\cdot \\frac{{\\color{mediumseagreen}{s}}}{\\sqrt{n}}$.</font>\n",
        "\n",
        "$${\\color{dodgerblue}{\\overline{X}}} - {\\color{tomato}{t_{\\alpha/2} \\cdot \\frac{s}{\\sqrt{n}}}} < \\mu < {\\color{dodgerblue}{\\overline{X}}} + {\\color{tomato}{t_{\\alpha/2} \\cdot \\frac{s}{\\sqrt{n}}}} .$$"
      ],
      "id": "8YQy2DKU67Tm"
    },
    {
      "cell_type": "markdown",
      "metadata": {
        "id": "M2q8QqTM67Tm"
      },
      "source": [
        "#### <a name=\"20diff-means\">Confidence Interval for a Difference in Two Means</a>\n",
        "\n",
        "---\n",
        "\n",
        "If we would like to estimate the difference in means from two independent populations that have unknown variances, we can pick random samples of sizes $n_1$ and $n_2$ from each respective population. As long as the [samples are large enough](#20samp-size) or symmetric, we have:\n",
        "\n",
        "1.  <font color=\"dodgerblue\">A reasonable point estimate is the   corresponding difference in sample means,   $\\bar{x}_1 - \\bar{x}_2$.</font>\n",
        "2.  We use CLT, <font color=\"mediumseagreen\">plugging $s_1$ and   $s_2$ in place of $\\sigma_1$ and $\\sigma_2$</font>, to get\n",
        "\n",
        "$${\\color{mediumseagreen}{\\mbox{SE} = \\sqrt{ \\frac{s_1^2}{n_1} + \\frac{s_2^2}{n_2}}}}.$$\n",
        "\n",
        "3.  Using a <font color=\"mediumseagreen\">$t$-distribution</font>,   find the value of ${\\color{mediumseagreen}{t_{\\alpha/2}}}$.\n",
        "4.  <font color=\"tomato\">The MoE   $= {\\color{mediumseagreen}{t_{\\alpha/2}}} \\cdot \\sqrt{ \\frac{{\\color{mediumseagreen}{s_1}}^2}{n_1} + \\frac{{\\color{mediumseagreen}{s_2}}^2}{n_2}}$.</font>\n",
        "\n",
        "$$\\left( {\\color{dodgerblue}{\\overline{X}-\\overline{Y}}} \\right) - {\\color{tomato}{t_{\\alpha/2} \\cdot \\sqrt{ \\frac{s_1^2}{n_1} + \\frac{s_2^2}{n_2}}}} < \\mu_1 - \\mu_2 < \\left( {\\color{dodgerblue}{\\overline{X}-\\overline{Y}}} \\right) + {\\color{tomato}{t_{\\alpha/2} \\cdot \\sqrt{ \\frac{s_1^2}{n_1} + \\frac{s_2^2}{n_2}}}} .$$"
      ],
      "id": "M2q8QqTM67Tm"
    },
    {
      "cell_type": "markdown",
      "metadata": {
        "id": "WoFHHaL567Tm"
      },
      "source": [
        "## <a name=\"20q2\">Question 2</a>\n",
        "\n",
        "---\n",
        "\n",
        "We would like to estimate the parameter $p$, the proportion of all\n",
        "adults in the US that do not plan on getting vaccinated. From the\n",
        "vaccination poll in [Question 1](#20q1), we have one random sample of 1,227\n",
        "adults. From our sample, we observe that 30% said they do not intend to\n",
        "get vaccinated. Let’s apply the same general process summarized above to\n",
        "construct a 95% confidence interval to estimate the **proportion** of\n",
        "all adults in the US that do not plan on getting vaccinated."
      ],
      "id": "WoFHHaL567Tm"
    },
    {
      "cell_type": "markdown",
      "metadata": {
        "id": "OWI6Z4CT67Tm"
      },
      "source": [
        "### <a name=\"20q2a\">Question 2a</a>\n",
        "\n",
        "---\n",
        "\n",
        "Based on the sample of polled adults, what is a reasonable point\n",
        "estimate for $p$, the proportion of all adults in the US that do not\n",
        "plan on getting vaccinated?\n",
        "\n",
        "#### <a name=\"20sol2a\">Solution to Question 2a</a>\n",
        "\n",
        "---\n",
        "\n",
        "<br>  \n",
        "$$p \\approx \\widehat{p} = 0.3$$\n",
        "<br>"
      ],
      "id": "OWI6Z4CT67Tm"
    },
    {
      "cell_type": "markdown",
      "metadata": {
        "id": "5ec0M26767Tm"
      },
      "source": [
        "### <a name=\"20q2b\">Question 2b</a>\n",
        "\n",
        "---\n",
        "\n",
        "Using the [Central Limit Theorem for proportions](https://githubtocolab.com/CU-Denver-MathStats-OER/Statistical-Theory/blob/main/Chap3/11-Sampling-Dist-Prop.ipynb#11clt), estimate the\n",
        "standard error for the sampling distribution of sample proportions.\n",
        "\n",
        "<br>\n",
        "\n",
        "<font color=\"mediumseagreen\">*Hint: To calculate the standard error, we need to know the population proportion $p$. Plug an appropriate sample statistic in place of $p$ to estimate the standard error.*</font>\n",
        "\n",
        "#### <a name=\"20sol2b\">Solution to Question 2b</a>\n",
        "\n",
        "---\n",
        "\n",
        "<br>  \n",
        "$$\\sigma_{\\widehat{P}} = \\sqrt{\\frac{p(1-p)}{n}} \\approx \\sqrt{\\frac{{\\color{tomato}{\\widehat{p}}}(1- {\\color{tomato}{\\widehat{p}}})}{n}} = \\sqrt{\\frac{{\\color{tomato}{0.3}}(1- {\\color{tomato}{0.3}})}{1,227}} = 0.01308$$\n",
        "<br>"
      ],
      "id": "5ec0M26767Tm"
    },
    {
      "cell_type": "code",
      "source": [
        "se.no <- sqrt( 0.3*(1 - 0.3) / 1227)\n",
        "se.no"
      ],
      "metadata": {
        "colab": {
          "base_uri": "https://localhost:8080/",
          "height": 34
        },
        "outputId": "05e1ffc2-eb08-4f79-d6e7-c465a0612a82",
        "id": "IcQYWbVU67Tn"
      },
      "execution_count": null,
      "outputs": [
        {
          "output_type": "display_data",
          "data": {
            "text/html": [
              "0.0130823982608037"
            ],
            "text/markdown": "0.0130823982608037",
            "text/latex": "0.0130823982608037",
            "text/plain": [
              "[1] 0.0130824"
            ]
          },
          "metadata": {}
        }
      ],
      "id": "IcQYWbVU67Tn"
    },
    {
      "cell_type": "markdown",
      "metadata": {
        "id": "GvitP7a767Tn"
      },
      "source": [
        "### <a name=\"20q2c\">Question 2c</a>\n",
        "\n",
        "---\n",
        "\n",
        "Next, we identify the value ($z_{\\alpha/2}$ or $t_{\\alpha/2}$) we\n",
        "multiply the standard error by to get the margin of error. For\n",
        "proportions, as long as [the sample is large enough](#20samp-size), a normal distribution is an accurate model for\n",
        "the underlying sampling distribution.\n",
        "\n",
        "From the poll in [Question 1](#20q1), we have $n=1227$. Since we do not know\n",
        "$p$, we substitute $\\hat{p} = 0.3$ instead. Since both\n",
        "$n\\hat{p} \\geq 10$ and $n(1-\\hat{p}) \\geq 10$, we can **use a normal\n",
        "distribution to calculate the margin of error** for the confidence interval.\n",
        "\n",
        "What is the value of $z_{\\alpha/2}$ for a 95% confidence interval for a\n",
        "proportion?\n",
        "\n",
        "#### <a name=\"20sol2c\">Solution to Question 2c</a>\n",
        "\n",
        "---\n",
        "\n",
        "<br>  \n",
        "\n",
        "$$z_{\\alpha/2} = 1.96$$\n",
        "\n",
        "<br>"
      ],
      "id": "GvitP7a767Tn"
    },
    {
      "cell_type": "code",
      "source": [
        "z.95 <- qnorm(0.975, 0, 1)\n",
        "z.95\n",
        "\n",
        "moe <- z.95 * se.no\n",
        "moe"
      ],
      "metadata": {
        "colab": {
          "base_uri": "https://localhost:8080/",
          "height": 52
        },
        "outputId": "70c833ad-6643-4e72-9501-02f91c91ca41",
        "id": "Vl66kkFL67Tn"
      },
      "execution_count": null,
      "outputs": [
        {
          "output_type": "display_data",
          "data": {
            "text/html": [
              "1.95996398454005"
            ],
            "text/markdown": "1.95996398454005",
            "text/latex": "1.95996398454005",
            "text/plain": [
              "[1] 1.959964"
            ]
          },
          "metadata": {}
        },
        {
          "output_type": "display_data",
          "data": {
            "text/html": [
              "0.0256410294225846"
            ],
            "text/markdown": "0.0256410294225846",
            "text/latex": "0.0256410294225846",
            "text/plain": [
              "[1] 0.02564103"
            ]
          },
          "metadata": {}
        }
      ],
      "id": "Vl66kkFL67Tn"
    },
    {
      "cell_type": "markdown",
      "metadata": {
        "id": "eSyFKaXz67Tn"
      },
      "source": [
        "### <a name=\"20q2d\">Question 2d</a>\n",
        "\n",
        "---\n",
        "\n",
        "Based on your previous answers in [Question 2](#20q2), give a 95% confidence\n",
        "interval to estimate $p$, the proportion of all adults in the US that do\n",
        "not plan on getting vaccinated.\n",
        "\n",
        "#### <a name=\"20sol2d\">Solution to Question 2d</a>\n",
        "\n",
        "---\n",
        "\n",
        "<br>  \n",
        "The margin of error for a 95% confidence interval is therefore\n",
        "\n",
        "$$\\mbox{MoE} = (1.96)(0.01308) = 0.02564.$$\n",
        "\n",
        "The lower cutoff for a 95% confidence interval is therefore\n",
        "\n",
        "$$\\hat{p} - z_{\\alpha /2} \\cdot \\sqrt{\\frac{{\\color{tomato}{\\widehat{p}}}(1- {\\color{tomato}{\\widehat{p}}})}{n}} = 0.3 - 0.02564 = 0.27436.$$\n",
        "\n",
        "Similarly, the upper cutoff for a 95% confidence interval is\n",
        "\n",
        "$$\\hat{p} + z_{\\alpha /2} \\cdot \\sqrt{\\frac{{\\color{tomato}{\\widehat{p}}}(1- {\\color{tomato}{\\widehat{p}}})}{n}} = 0.3 + 0.02564 = 0.32564.$$\n",
        "\n",
        "\n",
        "A 95% confidence interval for the proportion of all adults in the US that do not plan on getting vaccinated is\n",
        "\n",
        "$$\\boxed{ 0.27436 < p <  0.32564}.$$\n",
        "\n",
        "<br>"
      ],
      "id": "eSyFKaXz67Tn"
    },
    {
      "cell_type": "markdown",
      "metadata": {
        "id": "pqzruUdB67To"
      },
      "source": [
        "### <a name=\"20q2e\">Question 2e</a>\n",
        "\n",
        "---\n",
        "\n",
        "Interpret the practical meaning of your confidence interval in\n",
        "[Question 2d](#20q2d) in the context of COVID vaccinations in the US.\n",
        "\n",
        "#### <a name=\"20sol2e\">Solution to Question 2e</a>\n",
        "\n",
        "---\n",
        "\n",
        "<br>  \n",
        "\n",
        "There is a 95% chance that the interval from $27.436\\%$ to $32.564\\%$ contains the actual percent of all adults in the US that do not plan on getting vaccinated.\n",
        "\n",
        "<br>"
      ],
      "id": "pqzruUdB67To"
    },
    {
      "cell_type": "markdown",
      "metadata": {
        "id": "R5cYKdyb67To"
      },
      "source": [
        "# <a name=\"20wald-one\">Wald Confidence Interval for a Proportion</a>\n",
        "\n",
        "---\n",
        "\n",
        "The <font color=\"dodgerblue\">**Wald confidence interval for a\n",
        "proportion**</font> is given by\n",
        "\n",
        "$${\\large \\boxed{ \\mbox{Wald:} \\qquad {\\color{tomato}{\\hat{p}}} - z_{\\alpha/2} \\cdot \\sqrt{ \\frac{{\\color{tomato}{\\hat{p}}}(1-{\\color{tomato}{\\hat{p}}})}{n}}  < p <  {\\color{tomato}{\\hat{p}}} + z_{\\alpha/2} \\cdot \\sqrt{ \\frac{{\\color{tomato}{\\hat{p}}}(1-{\\color{tomato}{\\hat{p}}})}{n}}}}$$\n",
        "\n",
        "We use the **plug-in principle** and <font color=\"tomato\">use\n",
        "$\\hat{p}$ for the unknown value of $p$</font> when calculating the\n",
        "standard error.\n",
        "\n",
        "-   The advantage of this estimate is we can do it by hand.\n",
        "-   The downside is we have introduced additional uncertainty using $\\hat{p}$ in place of $p$ when estimating the standard error.\n",
        "\n",
        "We <font color=\"mediumseagreen\">**use the standard normal distribution**</font> to identify  ${\\color{mediumseagreen}{z_{\\alpha/2}}}$ when finding the margin of error since we are using a <font color=\"mediumseagreen\">continuous distribution</font> (proportions) to approximate a <font color=\"mediumseagreen\">binomial distribution</font> (counts)."
      ],
      "id": "R5cYKdyb67To"
    },
    {
      "cell_type": "markdown",
      "metadata": {
        "id": "LNovG57y67Tp"
      },
      "source": [
        "# <a name=\"20score\">Score Confidence Interval For a Proportion</a>\n",
        "\n",
        "---\n",
        "\n",
        "From the [CLT for proportions](https://githubtocolab.com/CU-Denver-MathStats-OER/Statistical-Theory/blob/main/Chap3/11-Sampling-Dist-Prop.ipynb#11clt), we have\n",
        "$\\widehat{P} \\sim N \\left( \\mu_{\\widehat{P}} , \\sigma_{\\widehat{P}} \\right) = N\\left( p, \\sqrt{\\frac{ p (1-p)}{n}} \\right)$.\n",
        "A standardized sample proportion has $z$-score\n",
        "$z = \\frac{\\hat{p} - p}{\\sqrt{\\frac{ p (1-p)}{n}}}$. Thus, for\n",
        "confidence level $CL$, we have\n",
        "\n",
        "$$P \\left( -z_{\\alpha/2} < \\frac{\\hat{p} -\\color{tomato}{p}}{\\sqrt{\\frac{\\color{tomato}{p}(1-\\color{tomato}{p})}{n}}} < z_{\\alpha/2} \\right) =CL.$$\n",
        "\n",
        "In the equation above, the <font color=\"tomato\">unknown population\n",
        "parameter $p$ is in red</font>. All the other values ($\\hat{p}$, $n$,\n",
        "and $z_{\\alpha/2}$) in the formula are known values. Given a confidence\n",
        "level, we can algebraically solve for the cutoff values for\n",
        "${\\color{tomato}{p}}$ by solving the equations:\n",
        "\n",
        "$$\\dfrac{\\hat{p} -{\\color{tomato}{p}}}{\\sqrt{\\dfrac{{\\color{tomato}{p}}(1-{\\color{tomato}{p}})}{n}}} = z_{\\alpha/2} \\qquad \\mbox{and} \\qquad \\dfrac{\\hat{p} - {\\color{tomato}{p}}}{\\sqrt{\\dfrac{{\\color{tomato}{p}}(1-{\\color{tomato}{p})}}{n}}} = -z_{\\alpha/2}$$"
      ],
      "id": "LNovG57y67Tp"
    },
    {
      "cell_type": "markdown",
      "metadata": {
        "id": "iVmTHQRq67Tq"
      },
      "source": [
        "## <a name=\"20score-form\">Score Confidence Interval Formulas</a>\n",
        "\n",
        "---\n",
        "\n",
        "The confidence interval estimate resulting from the algebraic solution\n",
        "is called the <font color=\"dodgerblue\">**score confidence interval\n",
        "for a proportion**</font>. The algebraic work involved in solving the\n",
        "equations above is provided in the [Appendix](#20append-score). The\n",
        "corresponding lower ($L$) and upper ($U$) cutoffs are:\n",
        "\n",
        "$$\\begin{aligned}\n",
        "&L= \\dfrac{\\hat{p} + \\dfrac{z_{\\alpha/2}^2}{2n} - z_{\\alpha/2} \\cdot \\sqrt{ \\dfrac{\\hat{p}(1-\\hat{p})}{n} + \\dfrac{z_{\\alpha/2}^2}{4n^2}}}{1+ \\dfrac{z_{\\alpha/2}^2}{n}} \\\\\n",
        "\\\\\n",
        "&U= \\dfrac{\\hat{p} + \\dfrac{z_{\\alpha/2}^2}{2n} + z_{\\alpha/2} \\cdot \\sqrt{ \\dfrac{\\hat{p}(1-\\hat{p})}{n} + \\dfrac{z_{\\alpha/2}^2}{4n^2}}}{1+ \\dfrac{z_{\\alpha/2}^2}{n}}\n",
        "\\end{aligned}$$\n",
        "\n",
        "-   **Pro:** There is no additional uncertainty beyond the initial   variability in sampling.\n",
        "-   **Con:** The formulas are quite complicated. Calculating by hand is   not really practical.\n",
        "-   Typically we use technology to calculate score confidence intervals."
      ],
      "id": "iVmTHQRq67Tq"
    },
    {
      "cell_type": "markdown",
      "metadata": {
        "id": "5hsBroOa67Tq"
      },
      "source": [
        "## <a name=\"20score-r\">Score Confidence Intervals in R</a>\n",
        "\n",
        "---\n",
        "\n",
        "R has a built in function `prop.test()$conf.int` that calculates a score\n",
        "confidence interval for a proportion.\n",
        "\n",
        "-   In R, use the command   `prop.test(X, n, conf.level = CL, correct = FALSE)$conf.int`\n",
        "  -   $X$ denotes the number of “successes” observed in the sample.\n",
        "  -   $n$ denotes the total number of observations in the sample.\n",
        "  -   `CL` is a chosen confidence level (as a proportion).\n",
        "  -   The option `correct = FALSE` means no [continuity correction](#20append-corr) is applied."
      ],
      "id": "5hsBroOa67Tq"
    },
    {
      "cell_type": "markdown",
      "metadata": {
        "id": "TONyEdTU67Tq"
      },
      "source": [
        "## <a name=\"20q4\">Question 4</a>\n",
        "\n",
        "---\n",
        "\n",
        "Using the poll data in [Question 1](#20q1), find a 95% score confidence interval for the proportion of all adults in the US that do not plan to get vaccinated by completing the `prop.test()` command in the code\n",
        "cell below.\n",
        "\n",
        "### <a name=\"20sol4\">Solution to Question 4</a>\n",
        "\n",
        "---"
      ],
      "id": "TONyEdTU67Tq"
    },
    {
      "cell_type": "code",
      "execution_count": null,
      "metadata": {
        "colab": {
          "base_uri": "https://localhost:8080/",
          "height": 34
        },
        "outputId": "7e190acc-1a56-4e07-f40f-b66432f57cbb",
        "id": "7Jcu9TNb67Tq"
      },
      "outputs": [
        {
          "output_type": "display_data",
          "data": {
            "text/html": [
              "<style>\n",
              ".list-inline {list-style: none; margin:0; padding: 0}\n",
              ".list-inline>li {display: inline-block}\n",
              ".list-inline>li:not(:last-child)::after {content: \"\\00b7\"; padding: 0 .5ex}\n",
              "</style>\n",
              "<ol class=list-inline><li>0.275015606664326</li><li>0.326232794189631</li></ol>\n"
            ],
            "text/markdown": "1. 0.275015606664326\n2. 0.326232794189631\n\n\n",
            "text/latex": "\\begin{enumerate*}\n\\item 0.275015606664326\n\\item 0.326232794189631\n\\end{enumerate*}\n",
            "text/plain": [
              "[1] 0.2750156 0.3262328\n",
              "attr(,\"conf.level\")\n",
              "[1] 0.95"
            ]
          },
          "metadata": {}
        }
      ],
      "source": [
        "#code to help with calculations\n",
        "\n",
        "p.hat <- 0.3\n",
        "n.no <- 1227\n",
        "x.no <- p.hat * n.no\n",
        "\n",
        "prop.test(x.no, n.no, conf.level = 0.95, correct = FALSE)$conf.int"
      ],
      "id": "7Jcu9TNb67Tq"
    },
    {
      "cell_type": "markdown",
      "metadata": {
        "id": "VNmItdr-67Tq"
      },
      "source": [
        "<br>\n",
        "\n",
        "A 95% score confidence interval (without a continuity correction) for the proportion of all adults in the US that do not plan on getting vaccinated is\n",
        "\n",
        "$$\\boxed{ 0.27502 < p <  0.32623}.$$\n",
        "\n",
        "<br>"
      ],
      "id": "VNmItdr-67Tq"
    },
    {
      "cell_type": "markdown",
      "metadata": {
        "id": "IcqRzAx967Tq"
      },
      "source": [
        "#### <a name=\"20check4\">Checking Your Solution to Question 4</a>\n",
        "\n",
        "---\n",
        "\n",
        "Based on the polling sample data, enter the values for `X`, `n`, and\n",
        "`z.star` in the first code cell below. Then run the code cell."
      ],
      "id": "IcqRzAx967Tq"
    },
    {
      "cell_type": "code",
      "execution_count": null,
      "metadata": {
        "id": "02gbItuj67Tq"
      },
      "outputs": [],
      "source": [
        "##################################################\n",
        "# Replace the ?? in the three lines of code below\n",
        "# with appropriate values or commands\n",
        "##################################################\n",
        "X <- 0.3 * 1227  # number of successes in sample (do not plan to get vax)\n",
        "n <- 1227  # sample size\n",
        "z.star <- qnorm(0.975, 0, 1)  # find z_alpha/2 for 95% confidence level"
      ],
      "id": "02gbItuj67Tq"
    },
    {
      "cell_type": "markdown",
      "metadata": {
        "id": "XtzCbwxX67Tq"
      },
      "source": [
        "Next, run the code cell below to calculate the upper and lower cutoffs\n",
        "for a 95% score confidence interval for a proportion."
      ],
      "id": "XtzCbwxX67Tq"
    },
    {
      "cell_type": "code",
      "execution_count": null,
      "metadata": {
        "colab": {
          "base_uri": "https://localhost:8080/",
          "height": 52
        },
        "outputId": "6e5ba654-eaef-498d-eec0-ee726c56f465",
        "id": "-0lMwbrh67Tq"
      },
      "outputs": [
        {
          "output_type": "display_data",
          "data": {
            "text/html": [
              "0.275015606664326"
            ],
            "text/markdown": "0.275015606664326",
            "text/latex": "0.275015606664326",
            "text/plain": [
              "[1] 0.2750156"
            ]
          },
          "metadata": {}
        },
        {
          "output_type": "display_data",
          "data": {
            "text/html": [
              "0.326232794189631"
            ],
            "text/markdown": "0.326232794189631",
            "text/latex": "0.326232794189631",
            "text/plain": [
              "[1] 0.3262328"
            ]
          },
          "metadata": {}
        }
      ],
      "source": [
        "#########################################\n",
        "# first run the code cell above\n",
        "# nothing to edit in this code cell\n",
        "# run as is\n",
        "#########################################\n",
        "phat <- X/n  # Compute sample proportion\n",
        "\n",
        "# Computes Cutoffs for Score Confidence Interval\n",
        "lower.score95 <- (phat+z.star^2/(2*n) -\n",
        "                z.star*sqrt( (phat*(1-phat))/n + z.star^2/(4*n^2) ) )/(1+z.star^2/n)\n",
        "upper.score95 <- (phat+z.star^2/(2*n) +\n",
        "                z.star*sqrt( (phat*(1-phat))/n + z.star^2/(4*n^2) ) )/(1+z.star^2/n)\n",
        "\n",
        "# Print cutoffs to screen\n",
        "lower.score95\n",
        "upper.score95"
      ],
      "id": "-0lMwbrh67Tq"
    },
    {
      "cell_type": "markdown",
      "metadata": {
        "id": "jMvdXPWl67Tq"
      },
      "source": [
        "## <a name=\"20cont-corr\">Applying the Continuity Correction</a>\n",
        "\n",
        "---\n",
        "\n",
        "In our construction of a score confidence interval, we have used a\n",
        "normal distribution to estimate a discrete (binomial) distribution.\n",
        "Recall when using a continuous, normal distribution to approximate a\n",
        "discrete, binomial distribution (as with the Central Limit Theorem for\n",
        "proportions), we miss some area under the curve resulting in an\n",
        "underestimate. We can improve estimates resulting from using a normal distribution instead of a binomial distribution by\n",
        "applying a [continuity correction](https://githubtocolab.com/CU-Denver-MathStats-OER/Statistical-Theory/blob/main/Chap3/11-Sampling-Dist-Prop#11correct).\n",
        "\n",
        "Similarly, we can obtain a more accurate score confidence interval for a\n",
        "proportion by applying a continuity correction. The [Appendix\n",
        "explains how the continuity correction is applied](#20append-corr) and\n",
        "provides the corresponding formulas. In practice, we can simply change\n",
        "the `correct = FALSE` option in `prop.test()$conf.int` to\n",
        "`correct = TRUE`.\n",
        "\n",
        "-  `prop.test(X, n, conf.level = CL, correct = TRUE)$conf.int`\n",
        "-  The default for `prop.test` if no `correct` option is specified is   `correct = TRUE`.\n",
        "-  <font color=\"dodgerblue\">**Applying the continuity correction   results in a more precise confidence interval.**</font>"
      ],
      "id": "jMvdXPWl67Tq"
    },
    {
      "cell_type": "markdown",
      "metadata": {
        "id": "cmMUo8f567Tr"
      },
      "source": [
        "### <a name=\"20corr-r\">Applying the Continuity Correction in Code</a>\n",
        "\n",
        "---\n",
        "\n",
        "Below we perform the direct calculations using the [continuity\n",
        "correction formulas derived in the Appendix](#20append-corr)."
      ],
      "id": "cmMUo8f567Tr"
    },
    {
      "cell_type": "code",
      "execution_count": null,
      "metadata": {
        "colab": {
          "base_uri": "https://localhost:8080/",
          "height": 52
        },
        "outputId": "cf8877e9-5851-4fef-dd9e-eebb70299a7f",
        "id": "-1HHJbR_67Tr"
      },
      "outputs": [
        {
          "output_type": "display_data",
          "data": {
            "text/html": [
              "0.274619294129104"
            ],
            "text/markdown": "0.274619294129104",
            "text/latex": "0.274619294129104",
            "text/plain": [
              "[1] 0.2746193"
            ]
          },
          "metadata": {}
        },
        {
          "output_type": "display_data",
          "data": {
            "text/html": [
              "0.326648909972467"
            ],
            "text/markdown": "0.326648909972467",
            "text/latex": "0.326648909972467",
            "text/plain": [
              "[1] 0.3266489"
            ]
          },
          "metadata": {}
        }
      ],
      "source": [
        "##############################################\n",
        "# Be sure you have run previous code cells\n",
        "# And have already defined X, n, and z.star\n",
        "# Run this code cell without any edits needed\n",
        "##############################################\n",
        "\n",
        "# Continuity corrections applied to sample proportion\n",
        "cc.phat.L <- (X - 0.5)/n\n",
        "cc.phat.U <- (X + 0.5)/n\n",
        "\n",
        "# Plugged into formulas for Score Conf Interval\n",
        "cc.lower <- (cc.phat.L + z.star^2/(2*n) -\n",
        "            z.star*sqrt( (cc.phat.L*(1-cc.phat.L))/n + z.star^2/(4*n^2) ) )/(1+z.star^2/n)\n",
        "cc.upper <- (cc.phat.U + z.star^2/(2*n) +\n",
        "            z.star*sqrt( (cc.phat.U*(1-cc.phat.U))/n + z.star^2/(4*n^2) ) )/(1+z.star^2/n)\n",
        "\n",
        "# Print results to screen to check\n",
        "cc.lower\n",
        "cc.upper"
      ],
      "id": "-1HHJbR_67Tr"
    },
    {
      "cell_type": "markdown",
      "metadata": {
        "id": "wbNFPgtB67Tr"
      },
      "source": [
        "In the code cell below, we apply the continuity correction using the\n",
        "`correct = TRUE` option in `prop.test()` to compare with the previous result."
      ],
      "id": "wbNFPgtB67Tr"
    },
    {
      "cell_type": "code",
      "execution_count": null,
      "metadata": {
        "colab": {
          "base_uri": "https://localhost:8080/",
          "height": 34
        },
        "outputId": "be6c4c09-255e-4901-8bad-fae6f1b0402d",
        "id": "HQivyZIw67Tr"
      },
      "outputs": [
        {
          "output_type": "display_data",
          "data": {
            "text/html": [
              "<style>\n",
              ".list-inline {list-style: none; margin:0; padding: 0}\n",
              ".list-inline>li {display: inline-block}\n",
              ".list-inline>li:not(:last-child)::after {content: \"\\00b7\"; padding: 0 .5ex}\n",
              "</style>\n",
              "<ol class=list-inline><li>0.274540034504866</li><li>0.3265656887348</li></ol>\n"
            ],
            "text/markdown": "1. 0.274540034504866\n2. 0.3265656887348\n\n\n",
            "text/latex": "\\begin{enumerate*}\n\\item 0.274540034504866\n\\item 0.3265656887348\n\\end{enumerate*}\n",
            "text/plain": [
              "[1] 0.2745400 0.3265657\n",
              "attr(,\"conf.level\")\n",
              "[1] 0.95"
            ]
          },
          "metadata": {}
        }
      ],
      "source": [
        "prop.test(368, 1227, conf.level = 0.95, correct = TRUE)$conf.int"
      ],
      "id": "HQivyZIw67Tr"
    },
    {
      "cell_type": "markdown",
      "metadata": {
        "id": "4u8YmTRB67Tr"
      },
      "source": [
        "<br>  \n",
        "A 95% score confidence interval, with a continuity correction, for the proportion of all adults in the US that do not plan on getting vaccinated is\n",
        "\n",
        "$$\\boxed{ 0.27454 < p <  0.32657}.$$\n",
        "<br>"
      ],
      "id": "4u8YmTRB67Tr"
    },
    {
      "cell_type": "markdown",
      "metadata": {
        "id": "951bc723-d199-4c3c-b6de-4a058328a852"
      },
      "source": [
        "# <a name=\"20diff-prop\">A Difference in Two Proportions</a>\n",
        "\n",
        "---"
      ],
      "id": "951bc723-d199-4c3c-b6de-4a058328a852"
    },
    {
      "cell_type": "markdown",
      "metadata": {
        "id": "91e8c54d-b629-44dd-aad0-3d80f631312d"
      },
      "source": [
        "## <a name=\"20clt-prop\">Central Limit Theorem for $\\widehat{P}_1 - \\widehat{P}_2$</a>\n",
        "\n",
        "---\n",
        "\n",
        "For a difference in two proportions, we can derive a Central Limit\n",
        "Theorem to model the sampling distribution for the difference in two\n",
        "sample proportions, $\\widehat{P}_1 - \\widehat{P}_2$. See the [Appendix\n",
        "for a proof of the CLT for a difference in two\n",
        "proportions](#20append-clt) which is stated below:\n",
        "\n",
        "$$\\widehat{P}_1 - \\widehat{P}_2  \\sim N \\left( \\mu_{\\widehat{P}_1 - \\widehat{P}_2} , \\mbox{SE}(\\widehat{P}_1 - \\widehat{P}_2) \\right) = N \\left( p_1 - p_2  , \\sqrt{\\frac{p_1(1-p_1)}{n_1} + \\frac{p_2(1-p_2)}{n_2}} \\right).$$"
      ],
      "id": "91e8c54d-b629-44dd-aad0-3d80f631312d"
    },
    {
      "cell_type": "markdown",
      "metadata": {
        "id": "bf27abbc-b011-4b7b-a4b3-cb7497948a45"
      },
      "source": [
        "## <a name=\"20ci-diff\">Confidence Interval for $\\widehat{P}_1 - \\widehat{P}_2$</a>\n",
        "\n",
        "---\n",
        "\n",
        "We can modify the <font color=\"dodgerblue\">**Wald confidence\n",
        "interval**</font> to give an approximation for a confidence interval for\n",
        "a difference in two proportions\n",
        "\n",
        "-   The <font color=\"dodgerblue\">point estimate</font> is the   difference in the two sample proportions,   $\\color{dodgerblue}{\\hat{p}_1 - \\hat{p}_2}$.\n",
        "-   The standard error we estimate by   <font color=\"mediumseagreen\">plugging $\\hat{p}_1$ and   $\\hat{p}_2$ in place of $p_1$ and $p_2$</font> in the formula for   the standard error from the Central Limit Theorem:\n",
        "\n",
        "$$\\mbox{SE} \\left( \\widehat{P}_1 - \\widehat{P}_2 \\right) = \\sqrt{ \\frac{p_1(1-p_1)}{n_1} + \\frac{p_2(1-p_2)}{n_2}} \\approx \\sqrt{ \\frac{{\\color{mediumseagreen}{\\hat{p}_1}}(1-{\\color{mediumseagreen}{\\hat{p}_1}})}{n_1} + \\frac{{\\color{mediumseagreen}{\\hat{p}_2}}(1-{\\color{mediumseagreen}{\\hat{p}_2}})}{n_2}}$$\n",
        "\n",
        "-   Since we are using a continuous distribution (proportions) to approximate a binomial distribution (counts), we **use the standard normal distribution** to identify   $z_{\\alpha/2}$ to find the <font color=\"tomato\">margin of error</font>.\n",
        "  - Note: A normal distribution is an accurate model assuming <font color=\"tomato\">**all four**</font> of the conditions are true: <font color=\"tomato\">$n_1 p_1 \\geq 10$, $n_1(1-p_1) \\geq 10$, $n_2 p_2 \\geq 10$, and $n_2(1-p_2) \\geq 10$</font>.\n",
        "\n",
        "- Thus, we have a <font color=\"dodgerblue\">**Wald confidence interval for a difference in proportions**</font>.\n",
        "\n",
        "$$({\\color{dodgerblue}{\\hat{p}_1 - \\hat{p}_2}}) - {\\color{tomato}{z_{\\alpha/2} \\cdot \\sqrt{ \\dfrac{\\hat{p}_1(1-\\hat{p}_1)}{n_1} + \\dfrac{\\hat{p}_2 (1-\\hat{p}_2) }{n_2}}}}  < p_1-p_2 < ({\\color{dodgerblue}{\\hat{p}_1 - \\hat{p}_2}}) + {\\color{tomato}{z_{\\alpha/2} \\cdot \\sqrt{ \\dfrac{\\hat{p}_1(1-\\hat{p}_1)}{n_1} + \\dfrac{\\hat{p}_2 (1-\\hat{p}_2) }{n_2}}}}$$\n",
        "\n"
      ],
      "id": "bf27abbc-b011-4b7b-a4b3-cb7497948a45"
    },
    {
      "cell_type": "markdown",
      "source": [
        "### <a name=\"20prop-tes-diff\">A Wald Confidence Interval for $p_1 - p_2$ Using `prop.test()`</a>\n",
        "\n",
        "---\n",
        "\n",
        "The formulas above give a Wald confidence intervals for a difference in two proportions. Be aware there are other variations of confidence intervals for a\n",
        "difference in two proportions similar to the score\n",
        "confidence intervals.\n",
        "\n",
        "In R, the command\n",
        "\n",
        "<center>\n",
        "\n",
        "`prop.test(c(x1, x2), c(n1, n2), conf.level = CL, correct = FALSE)$conf.int`\n",
        "\n",
        "</center>\n",
        "\n",
        "computes a **Wald confidence interval** for a difference in two\n",
        "proportions without a continuity correction applied. If we want to apply a continuity correction<sup>2</sup>, we use the option `correct = TRUE`.\n",
        "\n",
        "<br>\n",
        "\n",
        "<font color=\"mediumseagreen\">*Note: In R, the `prop.test()` function uses different methods depending on whether the confidence interval is for a single proportion or a difference in two proportions.*</font>\n",
        "\n",
        "-   <font color=\"mediumseagreen\">*For a single proportion, `prop.test()` gives a score confidence interval.*</font>\n",
        "-   <font color=\"mediumseagreen\">*For a difference in two proportions, `prop.test()` gives a Wald confidence interval.*</font>\n",
        "\n",
        "<br>\n",
        "\n",
        "<font size=2>2. See [Colab Notebook](https://colab.research.google.com/drive/1su7go-u4AAUtPS_CLeCIVSJjYx1gaqbY?usp=sharing) for an explanation of how a continuity correction is applied to a difference in proportions with `prop.test()` in R.</font>"
      ],
      "metadata": {
        "id": "JSQ9Eeewdpz1"
      },
      "id": "JSQ9Eeewdpz1"
    },
    {
      "cell_type": "markdown",
      "metadata": {
        "id": "SUfJ_iOD7O60"
      },
      "source": [
        "## <a name=\"20q5\">Question 5</a>\n",
        "\n",
        "---\n",
        "\n",
        "Using the data below collected from the poll in [Question 1](#20q1),\n",
        "construct a 90% Wald confidence interval for the difference in the\n",
        "proportion of all Democrats and the proportion of all Republicans that\n",
        "do not plan to be vaccinated.\n",
        "\n",
        "| <font size=3>Party</font> | <font size=3>Yes, will</font> | <font size=3>Yes, already</font> | <font size=3>No</font>  | <font size=3>Unsure</font> | <font size=3>Total</font> |\n",
        "|------------|-----------|--------------|-----|--------|-------|\n",
        "| <font size=3>Democrat</font> | <font size=3>213</font> | <font size=3>108</font> | <font size=3>40</font> | <font size=3>7</font>  | <font size=3>368</font>   |\n",
        "| <font size=3>Republican</font> | <font size=3>93</font> | <font size=3>70</font> | <font size=3>120</font> | <font size=3>9</font> | <font size=3>292</font>   |\n",
        "| <font size=3>Total</font> | <font size=3>306</font> | <font size=3>178</font> | <font size=3>160</font> | <font size=3>16</font> | <font size=3>660</font> |\n",
        "\n",
        "### <a name=\"20sol5\">Solution to Question 5</a>\n",
        "\n",
        "---"
      ],
      "id": "SUfJ_iOD7O60"
    },
    {
      "cell_type": "code",
      "execution_count": null,
      "metadata": {
        "id": "esX_O9ly7O7C",
        "colab": {
          "base_uri": "https://localhost:8080/",
          "height": 34
        },
        "outputId": "69f49122-4b0b-4383-a35d-26d6a9e3dc2b"
      },
      "outputs": [
        {
          "output_type": "display_data",
          "data": {
            "text/html": [
              "<style>\n",
              ".list-inline {list-style: none; margin:0; padding: 0}\n",
              ".list-inline>li {display: inline-block}\n",
              ".list-inline>li:not(:last-child)::after {content: \"\\00b7\"; padding: 0 .5ex}\n",
              "</style>\n",
              "<ol class=list-inline><li>-0.370110298765166</li><li>-0.234416205106186</li></ol>\n"
            ],
            "text/markdown": "1. -0.370110298765166\n2. -0.234416205106186\n\n\n",
            "text/latex": "\\begin{enumerate*}\n\\item -0.370110298765166\n\\item -0.234416205106186\n\\end{enumerate*}\n",
            "text/plain": [
              "[1] -0.3701103 -0.2344162\n",
              "attr(,\"conf.level\")\n",
              "[1] 0.95"
            ]
          },
          "metadata": {}
        }
      ],
      "source": [
        "# use code cell to help\n",
        "prop.test(c(40, 120), c(368, 292), conf.level = 0.95, correct = TRUE)$conf.int"
      ],
      "id": "esX_O9ly7O7C"
    },
    {
      "cell_type": "markdown",
      "metadata": {
        "id": "KJJLzOGd7O7C"
      },
      "source": [
        "<br>  \n",
        "\n",
        "A 95% Wald confidence interval for the difference in the proportion of all Democrats and the proportion of all Republicans that do not plan on getting vaccinated is\n",
        "\n",
        "$$\\boxed{ -0.3701 < p_D - p_R <  -0.2344}.$$\n",
        "<br>\n",
        "\n",
        "In particular, since the only plausible values for $p_D - p_R$ are less than zero, our data indicates $p_D < p_R$. The proportion of all Democrats that do not plan on getting vaccinated is less than the proportion of all Republicans that do not plan on getting vaccinated.\n",
        "\n",
        "<br>"
      ],
      "id": "KJJLzOGd7O7C"
    },
    {
      "cell_type": "markdown",
      "metadata": {
        "id": "c0e70da4-5c99-4d5c-90e4-27fe0b21adf8"
      },
      "source": [
        "# <a name=\"20summary\">Summarizing Results of Confidence Intervals</a>\n",
        "\n",
        "---\n",
        "\n",
        "| <font size=3>Parameter(s) of Interest</font> | <font size=3>Point Estimate</font> |<font size=3>Distribution</font> | <font size=3>Margin of Error</font> &nbsp; &nbsp; &nbsp; &nbsp; &nbsp; &nbsp; &nbsp; &nbsp; &nbsp; &nbsp; &nbsp; &nbsp; &nbsp; &nbsp; &nbsp; &nbsp; &nbsp; &nbsp; &nbsp; &nbsp; &nbsp; &nbsp; &nbsp; &nbsp; &nbsp; &nbsp; |\n",
        "|--------------------------|-----------------|--------------|-----------------|\n",
        "| <font size=3>A single mean <br> ($\\sigma^2$ known)</font> | <font size=3>$\\bar{x}$</font>  | <font size=3>$N(0,1)$</font>  | <font size=3>$z_{\\alpha/2} \\cdot \\dfrac{\\sigma}{\\sqrt{n}}$</font> |\n",
        "| <font size=3>A single mean <br> ($\\sigma^2$ unknown) | <font size=3>$\\bar{x}$</font>  | <font size=3><font color=\"mediumseagreen\">$t$-dist</font></font> | <font size=3>${\\color{mediumseagreen}{t_{\\alpha/2}}} \\cdot \\dfrac{{\\color{tomato}{s}}}{\\sqrt{n}}$</font> |\n",
        "| <font size=3>A difference in two means <br> (with unknown variances) | <font size=3>$\\bar{x}_1 - \\bar{x_2}$</font> | <font size=3><font color=\"mediumseagreen\">$t$-dist</font></font> | <font size=3>${\\color{mediumseagreen}{t_{\\alpha/2}}} \\cdot \\sqrt{ \\dfrac{{\\color{tomato}{s_1}}^2}{n_1} + \\dfrac{{\\color{tomato}{s_2}}^2}{n_2}}$</font> |\n",
        "| <font size=3>Wald for single <br> proportion</font>  | <font size=3>$\\hat{p}=\\dfrac{X}{n}$</font>  | <font size=3>$N(0,1)$</font>  | <font size=3>$z_{\\alpha/2} \\cdot \\sqrt{ \\dfrac{{\\color{tomato}{\\widehat{p}}}(1-{\\color{tomato}{\\widehat{p}}})}{n}}$</font> |\n",
        "| <font size=3>Wald for a difference <br> in two proportions</font> | <font size=3> $\\hat{p}_{1} - \\hat{p}_{2}$ </font> | <font size=3>$N(0,1)$</font>  | <font size=3>$z_{\\alpha/2} \\cdot \\sqrt{ \\dfrac{{\\color{tomato}{\\hat{p}_1}}(1-{\\color{tomato}{\\hat{p}_1}})}{n_1} + \\dfrac{{\\color{tomato}{\\hat{p}_2}}(1-{\\color{tomato}{\\hat{p}_2}})}{n_2}}$</font> |"
      ],
      "id": "c0e70da4-5c99-4d5c-90e4-27fe0b21adf8"
    },
    {
      "cell_type": "markdown",
      "metadata": {
        "id": "fdad247e-df99-49ef-9b36-734a00d58d7c"
      },
      "source": [
        "## <a name=\"20samp-size\">A Note About Sample Sizes</a>\n",
        "\n",
        "---\n",
        "\n",
        "-   For a **single mean**, we can use the CTL to construct a parametric   confidence interval as long as:\n",
        "\n",
        "  -   Either the population is symmetric or $n \\geq 30$.\n",
        "  -   If the sample is symmetric, we can assume the population is  symmetric.\n",
        "\n",
        "-   For a **difference in two means** , we can use the CTL to construct   a parametric confidence interval as long as:\n",
        "\n",
        "  -   Population 1 is either symmetric or $n_1 \\geq 30$, and\n",
        "  -   Population 2 is either symmetric or $n_2 \\geq 30$.\n",
        "\n",
        "-   For a **single proportion**, we can use the CTL to construct a   parametric confidence interval as long as:\n",
        "\n",
        "  -   Both $n\\hat{p} \\geq 10$ and $n(1-\\hat{p}) \\geq 10$.\n",
        "\n",
        "-   For a **difference in two proportions**, we can use the CTL to   construct a parametric confidence interval as long as:\n",
        "\n",
        "  -   All of $n_1\\hat{p}_1 \\geq 10$, $n_1(1-\\hat{p}_1) \\geq 10$,  $n_2\\hat{p}_2 \\geq 10$, and $n_2(1-\\hat{p}_2) \\geq 10$ are  satisfied."
      ],
      "id": "fdad247e-df99-49ef-9b36-734a00d58d7c"
    },
    {
      "cell_type": "markdown",
      "metadata": {
        "id": "315ddc85-dbf9-4033-98cb-bbeed1e856fe"
      },
      "source": [
        "## <a name=\"20r-functions\">Useful R Functions</a>\n",
        "\n",
        "---\n",
        "\n",
        "In R, we have the functions:\n",
        "\n",
        "-   `t.test()$conf.int` constructs a $t$-confidence interval for a   single or difference in two means.\n",
        "-   `prop.test()$conf.int` constructs a score confidence interval for a   single proportion.\n",
        "-   `prop.test()$conf.int` constructs a Wald confidence interval for a   difference in two proportions."
      ],
      "id": "315ddc85-dbf9-4033-98cb-bbeed1e856fe"
    },
    {
      "cell_type": "markdown",
      "metadata": {
        "id": "1fc1c288-b925-4f63-bec9-a633f22af34b"
      },
      "source": [
        "# <a name=\"20append\">Appendix</a>\n",
        "\n",
        "---"
      ],
      "id": "1fc1c288-b925-4f63-bec9-a633f22af34b"
    },
    {
      "cell_type": "markdown",
      "metadata": {
        "id": "159594f9-e351-446d-ba45-c81b893f00ce"
      },
      "source": [
        "## <a name=\"20append-score\">Deriving the Score Confidence Interval Formulas</a>\n",
        "\n",
        "---\n",
        "\n",
        "Let $X \\sim \\mbox{Binom}(n,p)$ and consider the distribution of sample\n",
        "proportions, $\\widehat{P} = \\frac{X}{n}$. From the [CLT for proportions](https://githubtocolab.com/CU-Denver-MathStats-OER/Statistical-Theory/blob/main/Chap3/11-Sampling-Dist-Prop.ipynb#11clt)\n",
        "we know $\\widehat{P} \\sim N \\left( p, \\sqrt{\\frac{p(1-p)}{n}} \\right)$.\n",
        "Thus, for confidence level CL, we have\n",
        "\n",
        "$$P(-z_{\\alpha/2}< Z < z_{\\alpha/2}) = P \\left( -z_{\\alpha/2} < \\frac{\\hat{p} -{\\color{tomato}{p}}}{\\sqrt{\\frac{{\\color{tomato}{p}}(1-{\\color{tomato}{p}})}{n}}} < z_{\\alpha/2} \\right) =CL.$$\n",
        "\n",
        "The <font color=\"dodgerblue\">**upper cutoff, $U$**</font> is a\n",
        "value for ${\\color{tomato}{p}}$ such that\n",
        "\n",
        "$$\\dfrac{\\hat{p} -{\\color{tomato}{p}}}{\\sqrt{\\dfrac{{\\color{tomato}{p}}(1-{\\color{tomato}{p}})}{n}}} = z_{\\alpha/2}.$$\n",
        "\n",
        "To solve for ${\\color{tomato}{p}}$, we multiply both sides of the\n",
        "equation above by\n",
        "$\\sqrt{\\dfrac{{\\color{tomato}{p}}(1-{\\color{tomato}{p}})}{n}}$ and then\n",
        "square both sides giving\n",
        "\n",
        "$$\\big( \\hat{p} - {\\color{tomato}{p}} \\big)^2 = (z_{\\alpha/2})^2 \\left( \\frac{{\\color{tomato}{p}}(1-{\\color{tomato}{p}})}{n} \\right).$$\n",
        "\n",
        "Next we distribute terms on both sides of the equation and have\n",
        "\n",
        "$$\\hat{p}^2 - 2 {\\color{tomato}{p}}\\hat{p} + {\\color{tomato}{p}}^2 = {\\color{tomato}{p}} \\left( \\frac{z_{\\alpha/2}^2}{n} \\right) - {\\color{tomato}{p}}^2 \\left( \\frac{z_{\\alpha/2}^2}{n} \\right).$$\n",
        "\n",
        "We have a quadratic equation for the unknown ${\\color{tomato}{p}}$. We\n",
        "group all like terms together on one side of the equation,\n",
        "\n",
        "$${\\color{dodgerblue}{\\left( 1+ \\frac{z_{\\alpha/2}^2}{n} \\right)}} p^2 + {\\color{tomato}{\\left(-2\\hat{p}-\\frac{z_{\\alpha/2}^2}{n} \\right)}} p + {\\color{mediumseagreen}{\\hat{p}^2}} = {\\color{dodgerblue}{a}}p^2 + {\\color{tomato}{b}} p + {\\color{mediumseagreen}{c}} = 0.$$\n",
        "We use the quadratic formula to solve for $p$. The quadratic equation\n",
        "has two real solutions, the larger of the two solution is the upper\n",
        "limit for a 95% score confidence interval\n",
        "\n",
        "$${\\large \\boxed{ U = \\frac{ \\hat{p} + \\dfrac{z_{\\alpha/2}^2}{2n} + z_{\\alpha/2} \\cdot \\sqrt{ \\dfrac{\\hat{p}(1-\\hat{p})}{n} + \\dfrac{z_{\\alpha/2}^2}{4n^2}}}{1+\\dfrac{z_{\\alpha/2}^2}{n}}}}$$\n",
        "\n",
        "The smaller of the two solutions is the\n",
        "<font color=\"dodgerblue\">**lower cutoff, $L$**</font>\n",
        "\n",
        "$${\\large \\boxed{ L = \\frac{ \\hat{p} + \\dfrac{z_{\\alpha/2}^2}{2n} - z_{\\alpha/2} \\cdot \\sqrt{ \\dfrac{\\hat{p}(1-\\hat{p})}{n} + \\dfrac{z_{\\alpha/2}^2}{4n^2}}}{1+\\dfrac{z_{\\alpha/2}^2}{n}}}}$$\n",
        "\n",
        "We also consider the equation\n",
        "\n",
        "$$\\dfrac{\\hat{p} -{\\color{tomato}{p}}}{\\sqrt{\\dfrac{{\\color{tomato}{p}}(1-{\\color{tomato}{p}})}{n}}} = -z_{\\alpha/2}.$$\n",
        "\n",
        "If we multiply both sides of the equation above by\n",
        "$\\sqrt{\\dfrac{{\\color{tomato}{p}}(1-{\\color{tomato}{p}})}{n}}$ and then\n",
        "square both sides, we get\n",
        "\n",
        "$$\\big( \\hat{p} - {\\color{tomato}{p}} \\big)^2 = (-z_{\\alpha/2})^2 \\left( \\frac{{\\color{tomato}{p}}(1-{\\color{tomato}{p}})}{n} \\right).$$\n",
        "\n",
        "The resulting equation is the same as with the first case we solved.\n",
        "Thus, solving the equation above gives the same expressions for $U$ and\n",
        "$L$."
      ],
      "id": "159594f9-e351-446d-ba45-c81b893f00ce"
    },
    {
      "cell_type": "markdown",
      "metadata": {
        "id": "f479f87d-19a5-4bd2-82ec-ca6e888da6b7"
      },
      "source": [
        "## <a name=\"20append-corr\">Applying a Continuity Correction to a Score Confidence Interval</a>\n",
        "\n",
        "---\n",
        "\n",
        "Recall, when using a normal distribution to approximate a discrete,\n",
        "binomial distribution $X \\sim \\mbox{Binom}(n,p)$, we can improve the\n",
        "estimate by using a [continuity\n",
        "correction](https://githubtocolab.com/CU-Denver-MathStats-OER/Statistical-Theory/blob/main/Chap3/11-Sampling-Dist-Prop.ipynb#11correct).\n",
        "\n",
        "In the case of a score confidence interval for a proportion, the\n",
        "continuity correction is applied as follows:\n",
        "\n",
        "-   In the formula for the corrected lower cutoff $L^*$, we use the corrected sample   proportion ${\\color{dodgerblue}{\\hat{p}_L^*= \\dfrac{X-0.5}{n}}}$.\n",
        "-   In the formula for the corrected upper cutoff $U^*$, we use the corrected sample   proportion ${\\color{tomato}{\\hat{p}_U^* = \\dfrac{X+0.5}{n}}}$.\n",
        "\n",
        "$$\\begin{aligned}\n",
        "&L^* = \\dfrac{{\\color{dodgerblue}{\\hat{p}_L^*}} + \\dfrac{z_{\\alpha/2}^2}{2n} - z_{\\alpha/2} \\cdot \\sqrt{ \\dfrac{{\\color{dodgerblue}{\\hat{p}_L^*}}(1-{\\color{dodgerblue}{\\hat{p}_L^*}})}{n} + \\dfrac{z_{\\alpha/2}^2}{4n^2}}}{1+ \\dfrac{z_{\\alpha/2}^2}{n}} \\\\\n",
        "\\\\\n",
        "&U^* = \\dfrac{{\\color{tomato}{\\hat{p}_U^*}} + \\dfrac{z_{\\alpha/2}^2}{2n} + z_{\\alpha/2} \\cdot \\sqrt{ \\dfrac{{\\color{tomato}{\\hat{p}_U^*}}(1-{\\color{tomato}{\\hat{p}_U^*}})}{n} + \\dfrac{z_{\\alpha/2}^2}{4n^2}}}{1+ \\dfrac{z_{\\alpha/2}^2}{n}}\n",
        "\\end{aligned}$$"
      ],
      "id": "f479f87d-19a5-4bd2-82ec-ca6e888da6b7"
    },
    {
      "cell_type": "markdown",
      "metadata": {
        "id": "c7059823-9408-4cb2-b0a2-204cc2409dbb"
      },
      "source": [
        "## <a name=\"20append-clt\">CLT: Difference in Two Proportions</a>\n",
        "\n",
        "---\n",
        "\n",
        "Let $X_1 \\sim \\mbox{Binom}(n_1,p_1)$ and\n",
        "$X_2 \\sim \\mbox{Binom}(n_2,p_2)$ be two independent binomial random\n",
        "variables with distribution of sample proportions\n",
        "$\\widehat{P}_1 = \\frac{X_1}{n_1}$ and $\\widehat{P}_2 = \\frac{X_2}{n_2}$,\n",
        "respectively. As long as [both samples are large\n",
        "enough](#20samp-size), the sampling distribution for the difference in\n",
        "sample proportions $\\widehat{P_1}-\\widehat{P_2}$ will:\n",
        "\n",
        "-   Be approximately <font color=\"dodgerblue\">**normally   distributed**</font>.\n",
        "-   Have mean   ${\\color{dodgerblue}{E(\\widehat{P_1}-\\widehat{P_2}) = \\mu_{\\widehat{P}_1 - \\widehat{P}_2} =p_1 - p_2}}$.\n",
        "-   Have <font color=\"dodgerblue\">**standard error**</font>   $${\\color{dodgerblue}{\\mbox{SE}(\\widehat{P}_1 - \\widehat{P}_2) =  \\sqrt{\\frac{p_1(1-p_1)}{n_1} + \\frac{p_2(1-p_2)}{n_2}}}}.$$\n",
        "\n",
        "We summarize the results of the <font color=\"dodgerblue\">**Central\n",
        "Limit Theorem (CLT) for a Difference in Two Proportions**</font> more\n",
        "concisely below:\n",
        "\n",
        "$${\\color{dodgerblue}{\\boxed{ \\widehat{P}_1 - \\widehat{P}_2  \\sim N \\left( \\mu_{\\widehat{P}_1 - \\widehat{P}_2} , \\mbox{SE}(\\widehat{P}_1 - \\widehat{P}_2) \\right) = N \\left( p_1 - p_2  , \\sqrt{\\frac{p_1(1-p_1)}{n_1} + \\frac{p_2(1-p_2)}{n_2}} \\right)}}}.$$"
      ],
      "id": "c7059823-9408-4cb2-b0a2-204cc2409dbb"
    },
    {
      "cell_type": "markdown",
      "metadata": {
        "id": "g51t7R6VdxvO"
      },
      "source": [
        "### <a name=\"20append-proof\">Proof of CLT for Difference in Two Proportions</a>\n",
        "\n",
        "---\n",
        "\n",
        "Below we prove both $E(\\widehat{P_1}-\\widehat{P_2}) = \\mu_{\\widehat{P}_1 - \\widehat{P}_2} =p_1 - p_2$ and $\\mbox{SE}(\\widehat{P}_1 - \\widehat{P}_2) = \\sqrt{\\frac{p_1(1-p_1)}{n_1} + \\frac{p_2(1-p_2)}{n_2}}$.\n",
        "\n",
        "<br>\n",
        "\n",
        "In proving the claims about a difference in proportions, we use the results of the Central Limit Theorem for a single proportion. If $X \\sim \\mbox{Binom}(n,p)$ and $\\widehat{P} = \\frac{X}{n}$, then\n",
        "\n",
        "$$E \\left( \\widehat{P} \\right) = p \\qquad \\mbox{and} \\qquad \\mbox{Var} \\left( \\widehat{P} \\right) = \\sqrt{\\frac{p(1-p)}{n}}.$$\n",
        "\n",
        "\n"
      ],
      "id": "g51t7R6VdxvO"
    },
    {
      "cell_type": "markdown",
      "metadata": {
        "id": "dfqJNesedxva"
      },
      "source": [
        "#### <a name=\"20append-proof1\">Expected Value of Sampling Distribution for $\\widehat{P}_1 - \\widehat{P}_2$</a>\n",
        "\n",
        "---\n",
        "\n",
        "\n",
        "<br>\n",
        "\n",
        "Using [properties of\n",
        "expected value](https://githubtocolab.com/CU-Denver-MathStats-OER/Statistical-Theory/blob/main/Chap2/06-Expected-Value-and-Variance.ipynb#06prop-ex), we have\n",
        "\n",
        "\n",
        "<br>\n",
        "\n",
        "$$E \\left( \\widehat{P}_1 - \\widehat{P}_2 \\right) = E \\left( \\widehat{P}_1 \\right) - E \\left( \\widehat{P}_2 \\right) = p_1 - p_2.$$\n",
        "\n",
        "\n"
      ],
      "id": "dfqJNesedxva"
    },
    {
      "cell_type": "markdown",
      "metadata": {
        "id": "dUukiuV2dxva"
      },
      "source": [
        "#### <a name=\"20append-proof2\">Standard Error of Sampling Distribution for $\\widehat{P}_1 - \\widehat{P}_2$</a>\n",
        "\n",
        "---\n",
        "\n",
        "Using [properties of\n",
        "variance](https://githubtocolab.com/CU-Denver-MathStats-OER/Statistical-Theory/blob/main/Chap2/06-Expected-Value-and-Variance.ipynb#06prop-var), we have\n",
        "\n",
        "$$\\mbox{Var} \\left( \\widehat{P}_1 - \\widehat{P}_2 \\right) = \\mbox{Var} \\left( \\widehat{P}_1 \\right) + (-1)^2 \\cdot \\mbox{Var} \\left( \\widehat{P}_2 \\right) = \\frac{p_1(1-p_1)}{n_1} + \\frac{p_2(1-p_2)}{n_2}.$$\n",
        "\n",
        "Therefore, the standard error for the sampling distribution of the difference in sample proportions is\n",
        "\n",
        "$$\\mbox{SE}\\left( \\widehat{P}_1 - \\widehat{P}_2 \\right) = \\sqrt{ \\frac{p_1(1-p_1)}{n_1} + \\frac{p_2(1-p_2)}{n_2}}.$$\n"
      ],
      "id": "dUukiuV2dxva"
    },
    {
      "cell_type": "markdown",
      "source": [
        "# <a name=\"20CC License\">Creative Commons License Information</a>\n",
        "---\n",
        "\n",
        "![Creative Commons\n",
        "License](https://i.creativecommons.org/l/by-nc-sa/4.0/88x31.png)\n",
        "\n",
        "*Statistical Methods: Exploring the Uncertain* by [Adam\n",
        "Spiegler (University of Colorado Denver)](https://github.com/CU-Denver-MathStats-OER/Statistical-Theory)\n",
        "is licensed under a [Creative Commons\n",
        "Attribution-NonCommercial-ShareAlike 4.0 International\n",
        "License](http://creativecommons.org/licenses/by-nc-sa/4.0/). This work is funded by an [Institutional OER Grant from the Colorado Department of Higher Education (CDHE)](https://cdhe.colorado.gov/educators/administration/institutional-groups/open-educational-resources-in-colorado).\n",
        "\n",
        "For similar interactive OER materials in other courses funded by this project in the Department of Mathematical and Statistical Sciences at the University of Colorado Denver, visit <https://github.com/CU-Denver-MathStats-OER>."
      ],
      "metadata": {
        "id": "o4bR8timX770"
      },
      "id": "o4bR8timX770"
    }
  ],
  "nbformat": 4,
  "nbformat_minor": 5,
  "metadata": {
    "kernelspec": {
      "name": "ir",
      "display_name": "R",
      "language": "R"
    },
    "colab": {
      "provenance": [],
      "include_colab_link": true
    }
  }
}