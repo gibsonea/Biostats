{
  "cells": [
    {
      "cell_type": "markdown",
      "metadata": {
        "id": "view-in-github",
        "colab_type": "text"
      },
      "source": [
        "<a href=\"https://colab.research.google.com/github/gibsonea/Biostats/blob/main/LabSolutions/Solutions04_Overview_of_Probability.ipynb\" target=\"_parent\"><img src=\"https://colab.research.google.com/assets/colab-badge.svg\" alt=\"Open In Colab\"/></a>"
      ]
    },
    {
      "cell_type": "markdown",
      "metadata": {
        "id": "825f5128-6e33-469d-b8e8-b8e030ea1f56"
      },
      "source": [
        "# <a name=\"04intro\">2.1: An Overview of Probability</a>\n",
        "\n",
        "----\n",
        "\n",
        "Statistical inference is the process of using data from a sample to\n",
        "describe characteristics of the population. Our conclusions are going to\n",
        "be based on randomness in the sampling process, and we will need to\n",
        "account for some uncertainty in our predictions. Statistics relies on\n",
        "theory and applications from probability to help quantify the\n",
        "uncertainty in our models and estimates.\n",
        "\n",
        "-   <font color=\"mediumseagreen\">**If we know the make up of a\n",
        "    population, we can use probability to predict the likelihood that\n",
        "    certain outcomes occur.**</font >\n",
        "    -   If we know a six-sided is fair, what is the probability of\n",
        "        rolling the die 10 times and getting exactly 4 rolls that land\n",
        "        on 1?\n",
        "-   <font color=\"tomato\">**We use statistics to go in the\n",
        "    reverse direction. Namely, how can we make predictions about a\n",
        "    population from a random sample of data.**</font >\n",
        "    -   We want to determine whether or not a six-sided die is fair. We\n",
        "        roll the die 100 times and get 40 rolls that land on 1. Is the\n",
        "        die fair?\n",
        "    -   We will need to use probability to answer statistical questions\n",
        "        and make inferences about a population.\n"
      ],
      "id": "825f5128-6e33-469d-b8e8-b8e030ea1f56"
    },
    {
      "cell_type": "markdown",
      "source": [
        "\n",
        "## <a name=\"04sample-space\">Sample Space, Outcomes and Events</a>\n",
        "\n",
        "----\n",
        "\n",
        "A <font color=\"dodgerblue\">**statistical experiment or\n",
        "observation**</font > is any random activity that results in a definite\n",
        "outcome.\n",
        "\n",
        "-   The <font color=\"dodgerblue\">**sample space**</font >, $\\color{dodgerblue}{\\Omega}$, is the set of all possible outcomes of an experiment.\n",
        "-   An <font color=\"dodgerblue\">**outcome**</font >, $\\color{dodgerblue}{\\omega}$, is a result from an experiment or observation.\n",
        "-   An <font color=\"dodgerblue\">**event**</font >, $\\color{dodgerblue}{A}$, is a collection of one or more outcomes from an experiment or observation.\n",
        "\n"
      ],
      "metadata": {
        "id": "R7lliDF-MdTW"
      },
      "id": "R7lliDF-MdTW"
    },
    {
      "cell_type": "markdown",
      "source": [
        "## <a name=\"04ex-roll\">Example: Rolling a Fair Six-Sided Die</a>\n",
        "\n",
        "----\n",
        "\n",
        "<figure>\n",
        "<img\n",
        "src=\"https://upload.wikimedia.org/wikipedia/commons/c/c4/2-Dice-Icon.svg\"\n",
        "alt=\"Image Credit: Adam Spiegler, CC BY-SA 4.0.\" width = \"20%\"/>\n",
        "<figcaption aria-hidden=\"true\">\n",
        "<a href=\"https://commons.wikimedia.org/wiki/File:2-Dice-Icon.svg\">Steaphan\n",
        "Greene</a>, <a href=\"https://creativecommons.org/licenses/by-sa/3.0\">CC\n",
        "BY-SA 3.0</a>, via Wikimedia\n",
        "Commons\n",
        "</figcaption>\n",
        "</figure>\n",
        "\n",
        "\n",
        "The study of probability was initially inspired by calculating odds of\n",
        "outcomes from card and dice games. For example, consider rolling a\n",
        "fair six-sided die.\n",
        "\n",
        "-   The sample space is $\\Omega = \\left\\{ 1, 2, 3, 4, 5, 6 \\right\\}$\n",
        "-   For a fair die, each of the six possible outcomes has an equally likely chance of occurring.\n",
        "-   One possible outcome is rolling a 4, $\\omega = 4$\n",
        "-   Let $A$ denote the event that the roll is a multiple of 3, $A = \\left\\{ 3, 6 \\right\\}$.\n",
        "\n"
      ],
      "metadata": {
        "id": "-P_34gWHMfzH"
      },
      "id": "-P_34gWHMfzH"
    },
    {
      "cell_type": "markdown",
      "source": [
        "## <a name=\"04equal-likelihood\">Probabilities with Equally Likely Outcomes</a>\n",
        "\n",
        "----\n",
        "\n",
        "For finite sample spaces, we often use counting to determine\n",
        "probabilities. A special case which we will encounter often is when each\n",
        "outcome in the sample space $\\Omega$ is equally likely to occur, and\n",
        "therefore\n",
        "\n",
        "$$ P(A) = \\frac{\\mbox{Number of outcomes in event $A$}}{\\mbox{Total number of outcomes in $\\Omega$}} $$\n",
        "\n",
        "We use the notation $P(A)$ to denote the probability that event $A$\n",
        "occurs.\n",
        "\n",
        "-   Probabilities are proportions between $0$ (impossible to occur) and $1$ (certain to occur) that we typically represent as decimals or fractions.\n",
        "-   Sometimes we convert the proportion to a percentage when giving a probability.\n",
        "\n"
      ],
      "metadata": {
        "id": "-k9BDD4Cs0m5"
      },
      "id": "-k9BDD4Cs0m5"
    },
    {
      "cell_type": "markdown",
      "source": [
        "## <a name=\"04q1\">Question 1</a>\n",
        "\n",
        "----\n",
        "\n",
        "If a person rolls a fair, six-sided die, what is the probability the\n",
        "result of the roll is a number that is divisible by 3?\n",
        "\n",
        "### <a name=\"04ans1\">Solution to Question 1</a>\n",
        "\n",
        "----\n",
        "\n",
        "<br>  \n",
        "\n",
        "\n",
        "We have\n",
        "\n",
        "-   The sample space is $\\Omega = \\left\\{ 1, 2, 3, 4, 5, 6 \\right\\}$\n",
        "-   Let $A$ denote the event that the roll is a multiple of 3, $A = \\left\\{ 3, 6 \\right\\}$.\n",
        "\n",
        "$$P(A) = \\frac{ 2}{ 6 }  = \\frac{1}{3} \\approx 0.3333 \\quad \\mbox{or} \\quad 33.33\\%$$\n",
        "\n",
        "<br>  \n",
        "\n",
        "<br>\n",
        "\n"
      ],
      "metadata": {
        "id": "W1HxAH3OsxRs"
      },
      "id": "W1HxAH3OsxRs"
    },
    {
      "cell_type": "markdown",
      "source": [
        "### <a name=\"04cardata\">Installing and Loading `carData` Package</a>\n",
        "\n",
        "----\n",
        "\n",
        "The data set `Arrests` is in the `carData` package in R which is not\n",
        "installed in Google Colaboratory.\n",
        "\n",
        "-   First run the code cell below to to install the `carData` package."
      ],
      "metadata": {
        "id": "whPTSqpAsqvH"
      },
      "id": "whPTSqpAsqvH"
    },
    {
      "cell_type": "code",
      "execution_count": null,
      "metadata": {
        "id": "a67c99be-d970-4c63-adbd-aae4a624eeb0",
        "colab": {
          "base_uri": "https://localhost:8080/"
        },
        "outputId": "91c38b5c-d5c3-4c7f-9660-9d2adbee4a43"
      },
      "outputs": [
        {
          "output_type": "stream",
          "name": "stderr",
          "text": [
            "Installing package into ‘/usr/local/lib/R/site-library’\n",
            "(as ‘lib’ is unspecified)\n",
            "\n"
          ]
        }
      ],
      "source": [
        "install.packages(\"carData\")"
      ],
      "id": "a67c99be-d970-4c63-adbd-aae4a624eeb0"
    },
    {
      "cell_type": "markdown",
      "metadata": {
        "id": "6f51afeb-203f-4817-9f49-3ae7fb9c1cc9"
      },
      "source": [
        "-   Next load the package with the library command so we can access the\n",
        "    `Arrests` data set."
      ],
      "id": "6f51afeb-203f-4817-9f49-3ae7fb9c1cc9"
    },
    {
      "cell_type": "code",
      "execution_count": null,
      "metadata": {
        "id": "33b8247e-d8b5-4f2a-8a3f-5cace4bd9d73"
      },
      "outputs": [],
      "source": [
        "library(carData)"
      ],
      "id": "33b8247e-d8b5-4f2a-8a3f-5cace4bd9d73"
    },
    {
      "cell_type": "markdown",
      "metadata": {
        "id": "a7f13a87-8994-4edc-815a-9190318bf7b6"
      },
      "source": [
        "- **We can now access and explore the data set `Arrests` in `carData`.**\n",
        "\n"
      ],
      "id": "a7f13a87-8994-4edc-815a-9190318bf7b6"
    },
    {
      "cell_type": "markdown",
      "source": [
        "## <a name=\"04q2\">Question 2</a>\n",
        "\n",
        "----\n",
        "\n",
        "Use R functions such as `summary()`, `str()`, and/or `?Arrests` to\n",
        "answer some questions about the data:\n",
        "\n",
        "-   What data is included in the `Arrests` data set?\n",
        "-   How many observations are in the data?\n",
        "-   What is the population of interest?\n",
        "-   What is the source of the data?\n",
        "-   What are the categorical variables in the data set?\n",
        "-   What are the quantitative variables in the data set?\n",
        "-   Are the variable data types accurate, or do some variables need to\n",
        "    be converted to other data types?\n",
        "\n"
      ],
      "metadata": {
        "id": "Ax-9GCS2siMu"
      },
      "id": "Ax-9GCS2siMu"
    },
    {
      "cell_type": "code",
      "execution_count": null,
      "metadata": {
        "id": "426b3507-d294-4e69-9e43-6f18ada677f4",
        "colab": {
          "base_uri": "https://localhost:8080/"
        },
        "outputId": "78f38ea7-295e-443e-9ebf-6ffafa2824ca"
      },
      "outputs": [
        {
          "output_type": "stream",
          "name": "stdout",
          "text": [
            "'data.frame':\t5226 obs. of  8 variables:\n",
            " $ released: Factor w/ 2 levels \"No\",\"Yes\": 2 1 2 1 2 2 2 2 2 2 ...\n",
            " $ colour  : Factor w/ 2 levels \"Black\",\"White\": 2 1 2 1 1 1 2 2 1 2 ...\n",
            " $ year    : int  2002 1999 2000 2000 1999 1998 1999 1998 2000 2001 ...\n",
            " $ age     : int  21 17 24 46 27 16 40 34 23 30 ...\n",
            " $ sex     : Factor w/ 2 levels \"Female\",\"Male\": 2 2 2 2 1 1 2 1 2 2 ...\n",
            " $ employed: Factor w/ 2 levels \"No\",\"Yes\": 2 2 2 2 2 2 1 2 2 2 ...\n",
            " $ citizen : Factor w/ 2 levels \"No\",\"Yes\": 2 2 2 2 2 2 2 2 2 2 ...\n",
            " $ checks  : int  3 3 3 1 1 0 0 1 4 3 ...\n"
          ]
        }
      ],
      "source": [
        "# Use code cell to summarize and/or get help with Arrests data\n",
        "?Arrests\n",
        "str(Arrests)"
      ],
      "id": "426b3507-d294-4e69-9e43-6f18ada677f4"
    },
    {
      "cell_type": "markdown",
      "source": [
        "### <a name=\"O4ans2\">Solution to Question 2</a>\n",
        "\n",
        "----\n",
        "\n",
        "Data on police treatment of individuals arrested in Toronto for simple possession of small quantities of marijuana.  There are 5226 observations with 8 variables. The variables are stored correctly.\n",
        "\n",
        "<br>\n",
        "\n",
        "The population of interest is all White and Black people arrested for simple possession of small quantities of marijuana in Toronto.\n",
        "\n",
        "<br>\n",
        "\n",
        "T\n",
        "There are 5 categorical variables:\n",
        "\n",
        "- `released` is whether or not the arrestee was released with a summons. The two levels are `No` and `Yes`.\n",
        "- `colour` is the arrestee's race. Thre are two levels `Black` and `White`.\n",
        "- `sex` has levels `Female` and `Male`.\n",
        "- `employed` has levels `No` and `Yes`.\n",
        "- `citizen` has levels `No` and `Yes`.\n",
        "\n",
        "<br>\n",
        "\n",
        "There are three numerical variables, each stored as an integer:\n",
        "\n",
        "- `year` is from 1997 through 2002\n",
        "- `age` in years\n",
        "- `checks` is the number of police databases on which the arrestee's name appeared.\n",
        "\n",
        "<br>\n",
        "\n",
        "The data is from a series of articles in the Toronto Star Newspaper. The data source is listed as \"Personal communication from Michael Friendly, York University.\".\n",
        "\n",
        "<br>\n"
      ],
      "metadata": {
        "id": "J1Z8V9JMG9_Y"
      },
      "id": "J1Z8V9JMG9_Y"
    },
    {
      "cell_type": "markdown",
      "metadata": {
        "id": "5a900ecf-f8c4-4424-9368-06a58820f786"
      },
      "source": [
        "## <a name=\"O4q3\">Question 3</a>\n",
        "\n",
        "----\n",
        "\n",
        "Suppose you would like to analyze whether female arrestees are more or\n",
        "less likely to be not released with a summons (and therefore detained in\n",
        "jail) compared to male arrestees. The two variables of interest are\n",
        "therefore `sex` and `released`.\n",
        "\n"
      ],
      "id": "5a900ecf-f8c4-4424-9368-06a58820f786"
    },
    {
      "cell_type": "markdown",
      "source": [
        "### <a name=\"O4q3a\">Question 3a</a>\n",
        "\n",
        "----\n",
        "\n",
        "Use the `table()` function, create a two-way table to summarize the\n",
        "relation between `sex` and `released`.\n",
        "\n",
        "#### <a name=\"O4ans3a\">Solution to Question 3a</a>\n",
        "\n",
        "----"
      ],
      "metadata": {
        "id": "AZS3Bj65sOLY"
      },
      "id": "AZS3Bj65sOLY"
    },
    {
      "cell_type": "code",
      "source": [
        "summary(Arrests)"
      ],
      "metadata": {
        "colab": {
          "base_uri": "https://localhost:8080/",
          "height": 274
        },
        "id": "u844J3UjH2Ve",
        "outputId": "a7d81df8-f48f-44a7-ae33-f906f3a342dd"
      },
      "id": "u844J3UjH2Ve",
      "execution_count": null,
      "outputs": [
        {
          "output_type": "display_data",
          "data": {
            "text/plain": [
              " released     colour          year           age            sex      \n",
              " No : 892   Black:1288   Min.   :1997   Min.   :12.00   Female: 443  \n",
              " Yes:4334   White:3938   1st Qu.:1998   1st Qu.:18.00   Male  :4783  \n",
              "                         Median :2000   Median :21.00                \n",
              "                         Mean   :2000   Mean   :23.85                \n",
              "                         3rd Qu.:2001   3rd Qu.:27.00                \n",
              "                         Max.   :2002   Max.   :66.00                \n",
              " employed   citizen        checks     \n",
              " No :1115   No : 771   Min.   :0.000  \n",
              " Yes:4111   Yes:4455   1st Qu.:0.000  \n",
              "                       Median :1.000  \n",
              "                       Mean   :1.636  \n",
              "                       3rd Qu.:3.000  \n",
              "                       Max.   :6.000  "
            ]
          },
          "metadata": {}
        }
      ]
    },
    {
      "cell_type": "code",
      "execution_count": null,
      "metadata": {
        "id": "907a43d3-220c-478b-85ec-58e8b14f9053",
        "colab": {
          "base_uri": "https://localhost:8080/",
          "height": 90
        },
        "outputId": "7afb626d-cdcb-43da-96e3-d2f5008afe9a"
      },
      "outputs": [
        {
          "output_type": "display_data",
          "data": {
            "text/plain": [
              "        \n",
              "           No  Yes\n",
              "  Female   63  380\n",
              "  Male    829 3954"
            ]
          },
          "metadata": {}
        }
      ],
      "source": [
        "table(Arrests$sex,Arrests$released)"
      ],
      "id": "907a43d3-220c-478b-85ec-58e8b14f9053"
    },
    {
      "cell_type": "markdown",
      "metadata": {
        "id": "d871d6d1-5565-45aa-bae3-e93aa5e13abe"
      },
      "source": [
        "### <a name=\"O4q3b\">Question 3b</a>\n",
        "\n",
        "----\n",
        "\n",
        "You should see from your output in Question 3a that more Male arrestees\n",
        "were not released (829) compared the female arrestees that were not released\n",
        "(63). Why is it problematic to compare counts of female and male\n",
        "arrestees and conclude female arrestees are more likely to be detained\n",
        "(not be released)?\n",
        "\n",
        "#### <a name=\"O4ans3b\">Solution to Question 3b</a>\n",
        "\n",
        "----\n",
        "\n",
        "\n",
        "There are about ten times as many male arrestees (4783) in the sample compared to female arrestees (443). If being released is independent of gender, we'd expected more male arrestees in both the released and not released groups just because we have more male observations in the data.\n",
        "<br>\n",
        "\n"
      ],
      "id": "d871d6d1-5565-45aa-bae3-e93aa5e13abe"
    },
    {
      "cell_type": "markdown",
      "source": [
        "### <a name=\"O4q3c\">Question 3c</a>\n",
        "\n",
        "----\n",
        "\n",
        "What is the probability that a randomly selected arrestee in the study:\n",
        "\n",
        "1.  Was not released?\n",
        "2.  Was male?\n",
        "3.  Was not released and was male?\n",
        "4.  Was not released or was male?\n",
        "5.  Given that a person was male, what is the probability they were not\n",
        "    released?\n",
        "6. Given that a person was female, what is the probability they were not released?\n",
        "\n",
        "#### <a name=\"O4ans3c\">Solution to Question 3c</a>\n",
        "\n",
        "----\n",
        "\n",
        "Use the code cell below to compute each of the probabilities (1)-(5)."
      ],
      "metadata": {
        "id": "jyP3Hxl7sLDt"
      },
      "id": "jyP3Hxl7sLDt"
    },
    {
      "cell_type": "code",
      "execution_count": null,
      "metadata": {
        "id": "87da6f8b-c72f-45be-b0ed-b13628b3df6c",
        "colab": {
          "base_uri": "https://localhost:8080/",
          "height": 195
        },
        "outputId": "54ec05bf-27c3-4e9d-d493-9918dd06bc3e"
      },
      "outputs": [
        {
          "output_type": "display_data",
          "data": {
            "text/html": [
              "5226"
            ],
            "text/markdown": "5226",
            "text/latex": "5226",
            "text/plain": [
              "[1] 5226"
            ]
          },
          "metadata": {}
        },
        {
          "output_type": "display_data",
          "data": {
            "text/html": [
              "0.170685036356678"
            ],
            "text/markdown": "0.170685036356678",
            "text/latex": "0.170685036356678",
            "text/plain": [
              "[1] 0.170685"
            ]
          },
          "metadata": {}
        },
        {
          "output_type": "display_data",
          "data": {
            "text/html": [
              "0.91523153463452"
            ],
            "text/markdown": "0.91523153463452",
            "text/latex": "0.91523153463452",
            "text/plain": [
              "[1] 0.9152315"
            ]
          },
          "metadata": {}
        },
        {
          "output_type": "display_data",
          "data": {
            "text/plain": [
              "     \n",
              "      Female Male\n",
              "  No      63  829\n",
              "  Yes    380 3954"
            ]
          },
          "metadata": {}
        },
        {
          "output_type": "display_data",
          "data": {
            "text/html": [
              "0.158629927286644"
            ],
            "text/markdown": "0.158629927286644",
            "text/latex": "0.158629927286644",
            "text/plain": [
              "[1] 0.1586299"
            ]
          },
          "metadata": {}
        },
        {
          "output_type": "display_data",
          "data": {
            "text/html": [
              "0.927286643704554"
            ],
            "text/markdown": "0.927286643704554",
            "text/latex": "0.927286643704554",
            "text/plain": [
              "[1] 0.9272866"
            ]
          },
          "metadata": {}
        },
        {
          "output_type": "display_data",
          "data": {
            "text/html": [
              "0.173322182730504"
            ],
            "text/markdown": "0.173322182730504",
            "text/latex": "0.173322182730504",
            "text/plain": [
              "[1] 0.1733222"
            ]
          },
          "metadata": {}
        }
      ],
      "source": [
        "# Enter code to compute each of the following\n",
        "# Be sure to print results to screen!\n",
        "# Find the probability that a randomly selected person in the study:\n",
        "\n",
        "total <- nrow(Arrests)  # count number or rows (observations) in Arrests\n",
        "total\n",
        "\n",
        "# (1) was not released\n",
        "\n",
        "notrel <- Arrests$released == \"No\"\n",
        "P.notrel = sum(notrel)/total\n",
        "P.notrel\n",
        "\n",
        "# (2) was Male\n",
        "\n",
        "male <- Arrests$sex == \"Male\"\n",
        "P.male = sum(male)/total\n",
        "P.male\n",
        "\n",
        "# (3) was not released and was Male\n",
        "my.tbl = table(Arrests$released,Arrests$sex)\n",
        "my.tbl\n",
        "my.tbl[1,2]/total\n",
        "\n",
        "# (4) was not released or was Male\n",
        "(sum(notrel)+sum(male)-my.tbl[1,2])/total\n",
        "\n",
        "# (5) was not released given they were Male\n",
        "my.tbl[1,2]/sum(male)\n"
      ],
      "id": "87da6f8b-c72f-45be-b0ed-b13628b3df6c"
    },
    {
      "cell_type": "markdown",
      "metadata": {
        "id": "1ca3f893-6b61-4d35-baf2-338a4d0b8a69"
      },
      "source": [
        "Summarize results below\n",
        "\n",
        "1.  The probability that a randomly selected person in the study was not released is $\\color{dodgerblue}{P(N)=0.171}$.\n",
        "\n",
        "2.  The probability that a randomly selected person in the study was Male is $\\color{dodgerblue}{P(M)=0.915}$.\n",
        "\n",
        "3.  The probability that a randomly selected person in the study was not released and was Male is $\\color{dodgerblue}{P(N \\cap M)=0.159}.$\n",
        "\n",
        "4.  The probability that a randomly selected person in the study was not released or was Male is $\\color{dodgerblue}{P(N \\cup M)=0.927}$.\n",
        "\n",
        "5.  Given that a person was Male, what is the probability they were not released?\n",
        "\n",
        "$$\\color{dodgerblue}{P(N \\ | \\ M)=0.173}$$\n",
        "\n"
      ],
      "id": "1ca3f893-6b61-4d35-baf2-338a4d0b8a69"
    },
    {
      "cell_type": "markdown",
      "source": [
        "### <a name=\"O4q3d\">Question 3d</a>\n",
        "\n",
        "----\n",
        "\n",
        "Based on the data from this study, do you believe Male arrestees are\n",
        "more, less, or equally likely to be detained (not be released) than\n",
        "Female arrestees? Support your answer using probabilities. You may want\n",
        "to compute additional probabilities that were not asked in [Question\n",
        "3c](#04q3c) before reaching your conclusion.\n",
        "\n",
        "#### <a name=\"O4ans3d\">Solution to Question 3d</a>\n",
        "\n",
        "----\n",
        "\n",
        "One way to analyze this question is to compare the number female arrestees that were not released relative to size of the female sample size, $P( N \\ | \\ F)$, to the number of male arrestees that were not released relative to size of the male sample size $P( N \\ | \\ M)$\n",
        "\n",
        "Using the frequency two way table above, we have\n",
        "\n",
        "- $P(N \\ | \\ F)= \\frac{63}{443} \\approx 0.142$\n",
        "- $P(N \\ | \\ M)= \\frac{829}{4783} \\approx 0.173$\n",
        "\n",
        "<font color=\"dodgerblue\">Comparing the two conditional probabilities above, we see male arrests are more likely to not be released than female arrestees.</font>\n",
        "\n",
        "The table stored in `my.tbl` has each gender as a different column, so if we construct a `prop.table` that gives the proportions relative to the columns (using option `2`), we can check our previous answers.\n",
        "<br>\n",
        "\n"
      ],
      "metadata": {
        "id": "EoKxjCO2rw-9"
      },
      "id": "EoKxjCO2rw-9"
    },
    {
      "cell_type": "code",
      "source": [
        "#additional calculations\n",
        "\n",
        "# was not released given that they are female\n",
        "\n",
        "female <- Arrests$sex == \"Female\"\n",
        "my.tbl[1,1]/sum(female)\n",
        "\n",
        "prop.table(my.tbl,2)"
      ],
      "metadata": {
        "colab": {
          "base_uri": "https://localhost:8080/",
          "height": 108
        },
        "id": "8z5QcYYLRdzC",
        "outputId": "2790c0f4-d237-4c39-dbdf-f07aa2b61d3b"
      },
      "id": "8z5QcYYLRdzC",
      "execution_count": null,
      "outputs": [
        {
          "output_type": "display_data",
          "data": {
            "text/html": [
              "0.142212189616253"
            ],
            "text/markdown": "0.142212189616253",
            "text/latex": "0.142212189616253",
            "text/plain": [
              "[1] 0.1422122"
            ]
          },
          "metadata": {}
        },
        {
          "output_type": "display_data",
          "data": {
            "text/plain": [
              "     \n",
              "         Female      Male\n",
              "  No  0.1422122 0.1733222\n",
              "  Yes 0.8577878 0.8266778"
            ]
          },
          "metadata": {}
        }
      ]
    },
    {
      "cell_type": "markdown",
      "source": [
        "# <a name=\"O4notation\">Simple and Conditional Probabilities</a>\n",
        "\n",
        "----\n",
        "\n",
        "Let $A$ and $B$ denote two events in sample space $\\Omega$, then\n",
        "\n",
        "-   $\\color{dodgerblue}{P(A)}$ is the probability that event $A$ occurs.\n",
        "-   $\\color{dodgerblue}{P(\\bar{A}) }$ is the probability that event $A$ <font color=\"dodgerblue\">**does NOT occur**</font >.\n",
        "-   The notation $\\color{dodgerblue}{\\bar{A}}$, is used to denote the <font color=\"dodgerblue\">**complement**</font > of $A$.\n",
        "-   $\\color{dodgerblue}{P(A \\cap B)}$ is the probability that events $A$ <font color=\"dodgerblue\">**and**</font > $B$ both occur.\n",
        "-   $\\color{dodgerblue}{P(A \\cap \\bar{B})}$ is the probability that <font color=\"dodgerblue\">**event A occurs and event B does not occur**</font >.\n",
        "-   $\\color{dodgerblue}{P(A \\cup B)}$ is the probability that either event $A$ <font color=\"dodgerblue\">**or**</font > event $B$ occurs (or both $A$ and $B$ occur).\n",
        "-   $\\color{dodgerblue}{P(B \\ | \\ A )}$ is the <font color=\"dodgerblue\">**conditional probability**</font > that event $B$ occurs <font color=\"dodgerblue\">**given that**</font > event $A$ occurs.\n",
        "\n",
        "\n"
      ],
      "metadata": {
        "id": "C2Kc_PAYrvla"
      },
      "id": "C2Kc_PAYrvla"
    },
    {
      "cell_type": "markdown",
      "source": [
        "# <a name=\"04prop\">Properties of Probability</a>\n",
        "\n",
        "----\n",
        "\n",
        "We can generalize the calculations from the previous study on people\n",
        "arrested for small quantities of marijuana to obtain the following\n",
        "results:\n",
        "\n",
        "Let $A$ and $B$ denote two events in sample space $\\Omega$, then\n",
        "\n",
        "-   <font color=\"dodgerblue\">**Additive property**</font >:\n",
        "    $P(A \\cup B) = P(A) + P(B) - P(A \\cap B)$.\n",
        "-   <font color=\"dodgerblue\">**Conditional Probability**</font >:\n",
        "    $\\displaystyle P(B | A) = \\frac{P(A \\cap B)}{P(A)}$\n",
        "-   <font color=\"dodgerblue\">**Multiplicative property**</font >:\n",
        "    $P(A \\cap B) = P(A) \\cdot P(B | A)$\n",
        "-   <font color=\"dodgerblue\">**Complement property**</font >:\n",
        "    $P(\\bar{A}) = 1 - P(A)$\n",
        "\n"
      ],
      "metadata": {
        "id": "p96Qj_4hrt9w"
      },
      "id": "p96Qj_4hrt9w"
    },
    {
      "cell_type": "markdown",
      "source": [
        "## <a name=\"04q4\">Question 4</a>\n",
        "\n",
        "----\n",
        "\n",
        "Match one of the <font color=\"dodgerblue\">**Venn\n",
        "diagrams**</font > labelled (i)-(vi) in the table below to one of the set\n",
        "operations below. Note that two of the Venn Diagrams do not match any of\n",
        "the set operations.\n",
        "\n",
        "| <font size=3>diagram (i)</font>  | <font size=3>diagram (ii)</font>  | <font size=3>diagram (iii)</font> |\n",
        "|--------------|---------------|----------------|\n",
        "| <img src=\"https://upload.wikimedia.org/wikipedia/commons/6/60/04fig-venn-001.png\" alt=\"Image Credit: Adam Spiegler, CC BY-SA 4.0.\"  /> | <img src=\"https://upload.wikimedia.org/wikipedia/commons/0/0f/04fig-venn-002.png\" alt=\"Image Credit: Adam Spiegler, CC BY-SA 4.0.\" /> | <img src=\"https://upload.wikimedia.org/wikipedia/commons/c/c4/04fig-venn-003.png\" alt=\"Image Credit: Adam Spiegler, CC BY-SA 4.0.\"  />  |\n",
        "\n",
        "\n",
        "| <font size=3>diagram (iv)</font>  | <font size=3>diagram (v)</font> | <font size=3>diagram (vi)</font>   |\n",
        "|---------------|-------------|----------------|\n",
        "| <img src=\"https://upload.wikimedia.org/wikipedia/commons/7/73/04fig-venn-004.png\" alt=\"Image Credit: Adam Spiegler, CC BY-SA 4.0.\"  /> | <img src=\"https://upload.wikimedia.org/wikipedia/commons/7/77/04fig-venn-008.png\" alt=\"Image Credit: Adam Spiegler, CC BY-SA 4.0.\"  />| <img src=\"https://upload.wikimedia.org/wikipedia/commons/9/9e/04fig-venn-005.png\" alt=\"Image Credit: Adam Spiegler, CC BY-SA 4.0.\"  /> |\n",
        "\n",
        "Image credit: Adam Spiegler, [CC BY-SA\n",
        "4.0](https://creativecommons.org/licenses/by-sa/4.0), via Wikimedia\n",
        "Commons\n",
        "\n",
        "### <a name=\"04ans4\">Solution to Question 4</a>\n",
        "\n",
        "----\n",
        "\n",
        "| $\\large{\\bar{A}}$      | $\\large{A \\cup B}$ | $\\large{A \\cap B}$ | $\\large{A \\cap \\bar{B}}$   |\n",
        "|------------|------------|------------|------------|\n",
        "| <font size=3>Diagram (vi)</font> | <font size=3>Diagram (ii)</font> | <font size=3>Diagram (i)</font> | <font size=3>Diagram (iii)</font> |\n",
        "\n",
        "\n",
        "<br> <br> <br>\n",
        "\n"
      ],
      "metadata": {
        "id": "XNV0Tf9Rrr2l"
      },
      "id": "XNV0Tf9Rrr2l"
    },
    {
      "cell_type": "markdown",
      "source": [
        "# <a name=\"04ind\">Independent Events</a>\n",
        "\n",
        "----\n",
        "\n",
        "Often in statistics we want to investigate questions such as:\n",
        "\n",
        "-   Is a newly developed vaccine effective?\n",
        "-   Do certain sentencing laws have an effect on crime rates?\n",
        "-   Did increasing the minimum wage for fast food workers effect fast food prices?\n",
        "-   **Does the occurrence of one event** $M$ (being male) **effect the likelihood that another event** $N$ (being detained after arrest) **occurs**?\n",
        "\n"
      ],
      "metadata": {
        "id": "-_geZkxXNxz2"
      },
      "id": "-_geZkxXNxz2"
    },
    {
      "cell_type": "markdown",
      "source": [
        "## <a name=\"04def-ind\">Definition of Independent Events</a>\n",
        "\n",
        "----\n",
        "\n",
        "Two events $A$ and $B$ are\n",
        "<font color=\"dodgerblue\">**independent**</font > if the\n",
        "occurrence of one has no effect on the occurrence of the other:\n",
        "\n",
        "$$ P(B) = P(B \\ | \\ A) \\quad \\mbox{or} \\quad P(A) = P(A \\ | \\ B).$$\n",
        "\n",
        "**Special case:** If events $A$ and $B$ are independent events then we\n",
        "have $P(A \\cap B) = P(A)P(B)$.\n",
        "\n"
      ],
      "metadata": {
        "id": "TX1hdbKPNwQC"
      },
      "id": "TX1hdbKPNwQC"
    },
    {
      "cell_type": "markdown",
      "source": [
        "## <a name=\"04q5\">Question 5</a>\n",
        "\n",
        "----\n",
        "\n",
        "Suppose the probability that CU football will beat CSU is 70%, while the probability that CU will beat Kansas is 40%.  \n",
        "\n",
        "$$ P(A) = 0.7, P(B) = 0.4 $$\n",
        "\n",
        "Where the event A = {CU beats CSU} and event B = {CU beats KU}.\n",
        "\n",
        "\n"
      ],
      "metadata": {
        "id": "zxTm5pVgypHh"
      },
      "id": "zxTm5pVgypHh"
    },
    {
      "cell_type": "markdown",
      "source": [
        "### <a name=\"04q5a\">Question 5a</a>\n",
        "\n",
        "----\n",
        "\n",
        "What is the probability that CU football wins both games?  How would you write this in probability notation?\n",
        "\n",
        "#### <a name=\"04ans5a\">Solution to Question 5a</a>\n",
        "\n",
        "----\n",
        "\n",
        "Assume that each event is independent.  We want to calculate the probability of A **and** B or the overlap:\n",
        "$P(A \\cap B) = P(A) \\cdot P(B) = 0.7 \\cdot 0.4 = 0.28$  or $28 \\%$\n",
        "<br>\n",
        "\n"
      ],
      "metadata": {
        "id": "8ByjpvFZN64r"
      },
      "id": "8ByjpvFZN64r"
    },
    {
      "cell_type": "markdown",
      "source": [
        "### <a name=\"04q5b\">Question 5b</a>\n",
        "\n",
        "----\n",
        "\n",
        "What is the probability that CU wins **at least** one game?  How would you write this in probability notation?\n",
        "\n",
        "#### <a name=\"04ans5b\">Solution to Question 5b</a>\n",
        "\n",
        "----\n",
        "\n",
        "We want to calculate the probability of A **or** B which is expressed as $P(A \\cup B)$.  Remember you have to sum the probabilities but then subtract the overlap so it isn't counted twice.\n",
        "<br>  \n",
        "$P(A \\cup B) = P(A) + P(B) - P(A \\cap B) = 0.7 + 0.4 - (0.7 \\cdot 0.4) =$\n",
        "$ 1.1 - 0.28 = 0.82 $ or $ 82\\% $\n",
        "<br>\n",
        "\n"
      ],
      "metadata": {
        "id": "BDeJEd47N5fD"
      },
      "id": "BDeJEd47N5fD"
    },
    {
      "cell_type": "markdown",
      "source": [
        "### <a name=\"04q5c\">Question 5c</a>\n",
        "\n",
        "----\n",
        "\n",
        "What is the probability that CU wins only one game?  Again, write in probability notation.\n",
        "\n",
        "#### <a name=\"04ans5c\">Solution to Question 5c</a>\n",
        "\n",
        "----\n",
        "\n",
        "We want to sum the probability of A and probability of B but subtract the overlap:\n",
        "<br>\n",
        "\n",
        "$P(A \\cup B) - P(A \\cap B) = [P(A) + P(B) - P(A \\cap B)] - P(A \\cap B) = $\n",
        "$[0.7 + 0.4 - 0.7 \\cdot 0.4] - 0.7 \\cdot 0.4 = 0.82 - 0.28 = 0.54$ or $54 \\% $\n",
        "<br>\n",
        "<br>\n",
        "\n"
      ],
      "metadata": {
        "id": "RVRunuLnN3ZF"
      },
      "id": "RVRunuLnN3ZF"
    },
    {
      "cell_type": "markdown",
      "source": [
        "### <a name=\"04ans5d\">Question 5d</a>\n",
        "\n",
        "----\n",
        "\n",
        "What is the probability that CU wins no games?  Again, write in probability notation.\n",
        "\n",
        "#### <a name=\"04q5d\">Solution to Question 5d</a>\n",
        "\n",
        "----\n",
        "\n",
        "Option #1: Probability of event A not occuring **and** event B not occuring: $ P(\\bar{A} \\cap \\bar{B})$.  Using the property of complements:\n",
        "$$ P( \\bar{A}) = 1 - P(A) = 1 - 0.7 = 0.3$$\n",
        "$$ P(\\bar{B}) = 1 - P(B) = 1 - 0.4 = 0.6$$\n",
        "\n",
        "\n",
        "$$ P(\\bar{A} \\cap \\bar{B}) = Pr(\\bar{A}) \\cdot Pr(\\bar{B}) = 0.3 \\cdot 0.6 = 0.18$$\n",
        "<br>\n",
        "Option #2: The probability of CU winning no games is also the same as the complement of the probability of CU winning at least one game:\n",
        "$$ 1 - P(A \\cup B) = 1 - 0.82 = 0.18 $$\n"
      ],
      "metadata": {
        "id": "-k678ZMhN1gL"
      },
      "id": "-k678ZMhN1gL"
    },
    {
      "cell_type": "markdown",
      "source": [
        "## <a name=\"04q6\">Question 6</a>\n",
        "\n",
        "----\n",
        "\n",
        "Consider the board game picture below. You begin at the start position\n",
        "and flip a fair coin. If the result of the flip is tails, you move\n",
        "forward one space on the board. If the result is heads, you move forward\n",
        "two spaces on the board. Keep flipping a fair coin (with tails moving\n",
        "one space and heads two spaces) until you reach the winner position.\n",
        "\n",
        "<figure>\n",
        "<img\n",
        "src=\"https://upload.wikimedia.org/wikipedia/commons/d/d9/Simple-boardgame.png\"\n",
        "alt=\"Image Credit: Adam Spiegler, CC BY-SA 4.0.\" />\n",
        "<figcaption aria-hidden=\"true\">\n",
        "Image Credit: Adam Spiegler, CC BY-SA 4.0\n",
        "<https://creativecommons.org/licenses/by-sa/4.0>, via Wikimedia Commons\n",
        "</figcaption>\n",
        "</figure>\n",
        "\n",
        "-   What is the probability that you win in each exactly two flips?\n",
        "-   What is the probability that you win in each exactly three flips?\n",
        "-   What is the probability that you win in each exactly four flips?\n",
        "\n",
        "### <a name=\"04ans6\">Solution to Question 6</a>\n",
        "\n",
        "----\n",
        "\n",
        "In order to win in exactly two flips, that requires first rolling a tail and then rolling a head.\n",
        "\n",
        "$$P( \\mbox{win in exactly two flips} ) = P(TH) = P(T) P(H) = 0.25.$$\n",
        "\n",
        "In order to win in exactly three flips, a person could roll $HTH$: a head, then a tail, and then a head.\n",
        "\n",
        "$$P( \\mbox{win in exactly three flips} ) = P(HTH) = P(H) P(T) P(H) = 0.125.$$\n",
        "\n",
        "In order to win in exactly four flips, a person could roll:\n",
        "\n",
        "- $HHTH$ - Heads, Heads, Tails, then Heads.\n",
        "- $TTTH$ - Tails, Tails, Tails, then Heads.\n",
        "\n",
        "$$P (\\mbox{win in exactly four flips} ) = P(HHTH) + P(TTTH) = 0.125.$$\n",
        "<br>\n",
        "\n"
      ],
      "metadata": {
        "id": "KiImJYieNtcB"
      },
      "id": "KiImJYieNtcB"
    },
    {
      "cell_type": "markdown",
      "source": [
        "## <a name=\"04q7\">Question 7</a>\n",
        "\n",
        "----\n",
        "\n",
        "Does having health insurance help avoid bankruptcies? Let $B$ denote the\n",
        "event a person goes bankrupt. Let $H$ denote the event a person has\n",
        "health insurance.\n",
        "\n"
      ],
      "metadata": {
        "id": "uR26c6uRNrXS"
      },
      "id": "uR26c6uRNrXS"
    },
    {
      "cell_type": "markdown",
      "source": [
        "### <a name=\"04q7a\">Question 7a</a>\n",
        "\n",
        "----\n",
        "\n",
        "What is the difference in the practical meaning $P(H \\ | \\ B)$ and\n",
        "$P(B \\ | \\  H )$? Explain in practical terms that a non-statistician\n",
        "could understand, and avoiding technical language.\n",
        "\n",
        "#### <a name=\"04ans7a\">Solution to Question 7a</a>\n",
        "\n",
        "----\n",
        "\n",
        "\n",
        "- $P(H \\ | \\ B)$ is the probability that a person has health insurance given they have gone bankrupt.\n",
        "\n",
        "- $P(B\\ | \\ H)$ is the probability that a person has gone bankrupt given they have health insurance.\n",
        "<br>\n",
        "\n"
      ],
      "metadata": {
        "id": "tACl_LvBNp2u"
      },
      "id": "tACl_LvBNp2u"
    },
    {
      "cell_type": "markdown",
      "source": [
        "### <a name=\"04q7b\">Question 7b</a>\n",
        "\n",
        "----\n",
        "\n",
        "Can you determine whether having health insurance has any affect on the\n",
        "likelihood that a person goes bankrupt by comparing $P(H \\ | \\ B)$ and\n",
        "$P(B \\ | \\ H )$?\n",
        "\n",
        "-   If so, explain how you would compare those to probabilities to help\n",
        "    answer the question.\n",
        "-   If not, what additional probability (or probabilities) would be\n",
        "    useful to know in order to answer this question.\n",
        "\n",
        "#### <a name=\"04ans7b\">Solution to Question 7b</a>\n",
        "\n",
        "----\n",
        "\n",
        "\n",
        "No, it is not very useful to only compare $P(H \\ | \\ B)$ with $P(B\\ | \\ H)$ as they are measuring different probabilities that are not relevant to compare. If we want to know whether $H$ and $B$ are independent, then we could compare $P(H \\ | \\ B)$ with $P(H)$ and/or $P(H \\ | \\ \\bar{B})$. Otherwise, we could choose to compare $P(B \\ | \\ H)$ with $P(B)$ and/or $P(B \\ | \\ \\bar{H})$ instead.\n",
        "<br>\n",
        "\n"
      ],
      "metadata": {
        "id": "3t5pU5vQNoOM"
      },
      "id": "3t5pU5vQNoOM"
    },
    {
      "cell_type": "markdown",
      "source": [
        "# <a name=\"04excl\">Mutually Exclusive Events</a>\n",
        "\n",
        "----\n",
        "\n",
        "Two events $A$ and $B$ are <font color=\"dodgerblue\">**mutually\n",
        "exclusive**</font > (or\n",
        "<font color=\"dodgerblue\">**disjoint**</font >) if they cannot\n",
        "occur at the same time, and therefore $P(A \\cap B) = 0$.\n",
        "\n",
        "**Special case:** If events $A$ and $B$ are disjoint then we have\n",
        "$P(A \\cup B) = P(A)+P(B)$.\n",
        "\n"
      ],
      "metadata": {
        "id": "vvuKNYYbNlvV"
      },
      "id": "vvuKNYYbNlvV"
    },
    {
      "cell_type": "markdown",
      "source": [
        "## <a name=\"04q8\">Question 8</a>\n",
        "\n",
        "----\n",
        "\n",
        "Give an example of two events that are mutually exclusive, and give an\n",
        "example of two events that are not mutually exclusive.\n",
        "\n",
        "#### <a name=\"04ans8\">Solution to Question 8</a>\n",
        "\n",
        "----\n",
        "\n",
        "Many possible answers to give. Below is one possible answer (for each).\n",
        "\n",
        "- Mutually Exclusive: The events \"a person is born in May\" and \"a person is born in June\" would be mutually exclusive events. A person cannot be born in two different months.\n",
        "\n",
        "- Not Mutually Exclusive: The events \"a person is born in May\" and \"a person has brown eyes\". A person can both have brown eyes and be born in May.\n",
        "<br>\n",
        "\n"
      ],
      "metadata": {
        "id": "TrseoBUmNjGH"
      },
      "id": "TrseoBUmNjGH"
    },
    {
      "cell_type": "markdown",
      "source": [
        "# <a name=\"04prob-dist\">Probability Distributions</a>\n",
        "\n",
        "----\n",
        "\n",
        "A function $P$ that assigns a real number $P(A)$ to each event $A$ is a\n",
        "<font color=\"dodgerblue\">**probability distribution**</font > or\n",
        "a <font color=\"dodgerblue\">**probability measure**</font > if it\n",
        "satisfies the following three axioms:\n",
        "\n",
        "-   $0 \\leq P(A) \\leq 1$ for all $A$.\n",
        "-   $P(\\mbox{full sample space})=P(\\Omega) = 1$.\n",
        "-   If $A$ and $B$ are disjoint, then\n",
        "\n",
        "$$P \\left( A \\cup B \\right) = P(A) + P(B).$$\n",
        "\n"
      ],
      "metadata": {
        "id": "ncx9qHMRNht_"
      },
      "id": "ncx9qHMRNht_"
    },
    {
      "cell_type": "markdown",
      "source": [
        "# <a name=\"CC License\">Creative Commons License Information</a>\n",
        "---\n",
        "\n",
        "\n",
        "![Creative Commons\n",
        "License](https://i.creativecommons.org/l/by-nc-sa/4.0/88x31.png)\n",
        "\n",
        "*Statistical Methods: Exploring the Uncertain* by [Adam\n",
        "Spiegler (University of Colorado Denver)](https://github.com/CU-Denver-MathStats-OER/Statistical-Theory)\n",
        "is licensed under a [Creative Commons\n",
        "Attribution-NonCommercial-ShareAlike 4.0 International\n",
        "License](http://creativecommons.org/licenses/by-nc-sa/4.0/). This work is funded by an [Institutional OER Grant from the Colorado Department of Higher Education (CDHE)](https://cdhe.colorado.gov/educators/administration/institutional-groups/open-educational-resources-in-colorado).\n",
        "\n",
        "For similar interactive OER materials in other courses funded by this project in the Department of Mathematical and Statistical Sciences at the University of Colorado Denver, visit <https://github.com/CU-Denver-MathStats-OER>."
      ],
      "metadata": {
        "id": "XYaPzcSoGgEu"
      },
      "id": "XYaPzcSoGgEu"
    }
  ],
  "nbformat": 4,
  "nbformat_minor": 5,
  "metadata": {
    "kernelspec": {
      "name": "ir",
      "display_name": "R",
      "language": "R"
    },
    "colab": {
      "provenance": [],
      "toc_visible": true,
      "include_colab_link": true
    }
  }
}