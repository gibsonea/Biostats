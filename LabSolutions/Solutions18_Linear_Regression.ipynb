{
  "cells": [
    {
      "cell_type": "markdown",
      "metadata": {
        "id": "view-in-github",
        "colab_type": "text"
      },
      "source": [
        "<a href=\"https://colab.research.google.com/github/gibsonea/Biostats/blob/main/LabSolutions/Solutions18_Linear_Regression.ipynb\" target=\"_parent\"><img src=\"https://colab.research.google.com/assets/colab-badge.svg\" alt=\"Open In Colab\"/></a>"
      ]
    },
    {
      "cell_type": "markdown",
      "metadata": {
        "id": "9a2d4a8a-f07b-419b-ac52-441accf5032f"
      },
      "source": [
        "# <a name=\"25intro\">7.1 Linear Regression</a>\n",
        "\n",
        "---\n",
        "\n",
        "In linear regression we are modeling a variable, y, relative to a predictor variable (or variables): $x_1$, $x_2$, etc.  The variable y is a continuous variable that is normally descributed.  The predictor variables can either be continuous or categorical variables.  Taking the simple example of two continuous variables: x and y, the linear model can be described as:\n",
        "\n",
        "$$y = \\alpha + \\beta x$$\n",
        "\n",
        "$y = E(y|x)$ is the expected (or average) value of $y$ for a given value of $x$.\n",
        "\n",
        "-  $x$ is the <font color=\"tomato\"> predictor variable or independent variable </font>\n",
        "-  $y$ is the <font color=\"mediumseagreen\">response variable or dependent variable</font>\n",
        "\n",
        "In this section, we will learn more about linear models and how to make statistical inferences about our fits to the model.\n"
      ],
      "id": "9a2d4a8a-f07b-419b-ac52-441accf5032f"
    },
    {
      "cell_type": "markdown",
      "metadata": {
        "id": "589c1d9f-7fa3-489f-89d0-07e39c413026"
      },
      "source": [
        "## <a name=\"71q1\"> Question 1</a>\n",
        "\n",
        "---\n",
        "\n",
        "A study was conducted to determine if there is a relationship between birthweight and estriol level in pregnant women.  The study measured this in 31 participants.  Let y = birthweight and x = estriol level.  Load the study data and make a scatter plot with labels (Hint: Use the plot command).  Do you think a linear fit would work for this data?\n",
        "\n",
        "### <a name=\"25sol1\">Solution to  Question 1</a>\n",
        "\n",
        "---\n",
        "\n",
        "The data has a lot of variation but seems to follow a linear trend.\n",
        "<br>"
      ],
      "id": "589c1d9f-7fa3-489f-89d0-07e39c413026"
    },
    {
      "cell_type": "code",
      "source": [
        "#Load in dataset\n",
        "estriol <- read.csv(\"https://raw.githubusercontent.com/gibsonea/Biostats/main/Datasets/Estriol.csv\")\n",
        "str(estriol)"
      ],
      "metadata": {
        "id": "EHARnX2Wjbmv",
        "colab": {
          "base_uri": "https://localhost:8080/"
        },
        "outputId": "73d317ed-a8f8-4628-8f26-1f7e678bf90c"
      },
      "id": "EHARnX2Wjbmv",
      "execution_count": 1,
      "outputs": [
        {
          "output_type": "stream",
          "name": "stdout",
          "text": [
            "'data.frame':\t32 obs. of  3 variables:\n",
            " $ Patient.ID : int  1 2 3 4 5 6 7 8 9 10 ...\n",
            " $ Estriol    : int  7 9 9 12 14 16 16 14 16 16 ...\n",
            " $ Birthweight: int  25 25 25 27 27 27 24 30 30 31 ...\n"
          ]
        }
      ]
    },
    {
      "cell_type": "code",
      "source": [
        "#code cell for Question 1\n",
        "\n",
        "\n",
        "plot(estriol$Estriol,estriol$Birthweight, xlab = 'Estriol (mg)', ylab = 'Birthweight (g/100)' ,\n",
        "cex = 1.2, cex.lab=1.5, cex.axis=1.5)\n",
        "\n"
      ],
      "metadata": {
        "id": "18D57FYOmbYg",
        "colab": {
          "base_uri": "https://localhost:8080/",
          "height": 437
        },
        "outputId": "1b6d9283-3e54-44be-cedd-629373447f63"
      },
      "id": "18D57FYOmbYg",
      "execution_count": 2,
      "outputs": [
        {
          "output_type": "display_data",
          "data": {
            "text/plain": [
              "plot without title"
            ],
            "image/png": "[encoded data removed]"
          },
          "metadata": {
            "image/png": {
              "width": 420,
              "height": 420
            }
          }
        }
      ]
    },
    {
      "cell_type": "markdown",
      "source": [
        "# <a name=\"leastsq\">Method of Least Squares</a>\n",
        "\n",
        "---\n",
        "\n",
        "Given some sampled data $(x, y)$, we can use the method of least squares to fit a regression line: $y = a + b x$ and find our model parameters, $a$ and $b$.\n",
        "\n",
        "\n",
        "We want to find a line that would best fit this data.  How do we do that?  Assume we draw a line with coefficients a and b corresponding to the intercept and slope: $y = a + b x$.  \n",
        "\n",
        "For each data point $(x_i,y_i)$ we can express $y_i$ as:\n",
        "\n",
        "$$y_i = a + b x_i + d_i$$\n",
        "\n",
        "where $a + b x_i$ is the point on the regression line at $x_i$, and $d_i$ is the displacement of $y_i$ from the regression line as shown in the plot below.\n",
        "\n",
        "<figure>\n",
        "<img\n",
        "src=\"https://raw.githubusercontent.com/gibsonea/Biostats/main/Images/RegressionLine.png\" width=\"600\">\n",
        "\n",
        "\n",
        "To find the best fit, we want to find the values of our coefficients, a and b, that minimizes the displacements from the line to each of the data points, $d_i$.  To do this, we will take the sum over all the datapoints of the square of the displacements and minimize this with respect to a and b.\n",
        "\n",
        "$$\\sum_{i=1}^{n} {d_i}^2 = \\sum_{i=1}^{n} (a + b x_i - y_i)^2 $$\n",
        "\n",
        "To minimize, we take the derivative and set it equal to zero.\n",
        "\n",
        "$$ \\frac {\\partial \\sum{d_i}^2}{\\partial a} = 0$$\n",
        "$$ \\frac {\\partial \\sum{d_i}^2}{\\partial b} = 0 $$\n",
        "\n",
        "We get the following simultaneous equations:\n",
        "\n",
        "(1) $$ b \\sum x_i + a n = \\sum y_i $$\n",
        "(2) $$ b \\sum{x_i}^2 + a \\sum x_i = \\sum x_i y_i $$\n",
        "\n",
        "Equation (1) simplifies to:\n",
        "\n",
        "$$ b \\bar{x} +a = \\bar{y}$$\n",
        "\n",
        "Equation (2) can be expressed as:\n",
        "\n",
        "$$b = \\frac{L_{xy}}{L_{xx}} $$\n",
        "\n",
        "where\n",
        "\n",
        "$$ L_{xx} = \\sum_{i=1}^{n} (x_i - \\bar{x})^2$$ and\n",
        "$$ L_{xy} = \\sum_{i=1}^{n} (x_i - \\bar{x}) (y_i - \\bar{y})$$\n"
      ],
      "metadata": {
        "id": "OQ_SKOkh_jk0"
      },
      "id": "OQ_SKOkh_jk0"
    },
    {
      "cell_type": "markdown",
      "metadata": {
        "id": "iadEEjsjMrQy"
      },
      "source": [
        "## <a name=\"71q1b\"> Question 1b</a>\n",
        "\n",
        "---\n",
        "\n",
        "Using the method of least squares, solve for the coefficients a and b by filling in the code below.\n",
        "\n",
        "### <a name=\"71sol1b\">Solution to  Question 1b</a>\n",
        "\n",
        "---\n",
        "\n",
        "The coefficients are:\n",
        "\n",
        "a = 21.57\n",
        "\n",
        "b = 0.607"
      ],
      "id": "iadEEjsjMrQy"
    },
    {
      "cell_type": "code",
      "source": [
        "#Define x and y\n",
        "\n",
        "x = estriol$Estriol\n",
        "y = estriol$Birthweight\n",
        "\n",
        "#define the mean\n",
        "\n",
        "x.mean = mean(x)\n",
        "y.mean = mean(y)\n",
        "\n",
        "Lxx = sum((x-x.mean)^2)\n",
        "Lxy = sum((x-x.mean)*(y-y.mean))\n",
        "\n",
        "b = Lxy/Lxx\n",
        "b\n",
        "a = y.mean - b*x.mean\n",
        "a\n",
        "\n"
      ],
      "metadata": {
        "id": "ABCtDdo5ate6",
        "colab": {
          "base_uri": "https://localhost:8080/",
          "height": 52
        },
        "outputId": "c0045af8-fd29-4a2e-a5a0-eceb07944f7f"
      },
      "id": "ABCtDdo5ate6",
      "execution_count": 3,
      "outputs": [
        {
          "output_type": "display_data",
          "data": {
            "text/html": [
              "0.606886392929479"
            ],
            "text/markdown": "0.606886392929479",
            "text/latex": "0.606886392929479",
            "text/plain": [
              "[1] 0.6068864"
            ]
          },
          "metadata": {}
        },
        {
          "output_type": "display_data",
          "data": {
            "text/html": [
              "21.5691401215246"
            ],
            "text/markdown": "21.5691401215246",
            "text/latex": "21.5691401215246",
            "text/plain": [
              "[1] 21.56914"
            ]
          },
          "metadata": {}
        }
      ]
    },
    {
      "cell_type": "code",
      "source": [
        "#You can have R automatically solve for the coefficients using lsfit.  Do this to check on your answers above.\n",
        "\n",
        "lsfit(x,y)$coefficients\n"
      ],
      "metadata": {
        "id": "kpVBlU7kNT9b",
        "colab": {
          "base_uri": "https://localhost:8080/",
          "height": 34
        },
        "outputId": "901c4345-7e07-4d9b-8ae7-edbeb7cca456"
      },
      "id": "kpVBlU7kNT9b",
      "execution_count": 4,
      "outputs": [
        {
          "output_type": "display_data",
          "data": {
            "text/html": [
              "<style>\n",
              ".dl-inline {width: auto; margin:0; padding: 0}\n",
              ".dl-inline>dt, .dl-inline>dd {float: none; width: auto; display: inline-block}\n",
              ".dl-inline>dt::after {content: \":\\0020\"; padding-right: .5ex}\n",
              ".dl-inline>dt:not(:first-of-type) {padding-left: .5ex}\n",
              "</style><dl class=dl-inline><dt>Intercept</dt><dd>21.5691401215246</dd><dt>X</dt><dd>0.606886392929479</dd></dl>\n"
            ],
            "text/markdown": "Intercept\n:   21.5691401215246X\n:   0.606886392929479\n\n",
            "text/latex": "\\begin{description*}\n\\item[Intercept] 21.5691401215246\n\\item[X] 0.606886392929479\n\\end{description*}\n",
            "text/plain": [
              " Intercept          X \n",
              "21.5691401  0.6068864 "
            ]
          },
          "metadata": {}
        }
      ]
    },
    {
      "cell_type": "markdown",
      "metadata": {
        "id": "e1nBeEKvOKwQ"
      },
      "source": [
        "## <a name=\"71q1c\"> Question 1c</a>\n",
        "\n",
        "---\n",
        "\n",
        "Now that you have the coefficients, make a plot of your data with the fit line.  Fill in the ?? in the code cell below.\n",
        "\n",
        "### <a name=\"71sol1c\">Solution to  Question 1c</a>\n",
        "\n",
        "---\n"
      ],
      "id": "e1nBeEKvOKwQ"
    },
    {
      "cell_type": "code",
      "source": [
        "#replot your data from question 1a.\n",
        "plot(x,y,xlab = 'Estriol (mg)', ylab = 'Birthweight (g/100)' ,\n",
        "cex = 1.2, cex.lab=1.5, cex.axis=1.5)\n",
        "abline(a,b, col = \"blue\") # adds a line on the plot"
      ],
      "metadata": {
        "id": "-y9RH8Ugp72r",
        "colab": {
          "base_uri": "https://localhost:8080/",
          "height": 437
        },
        "outputId": "5e332c67-1a5c-4283-f299-b3d2f3561345"
      },
      "id": "-y9RH8Ugp72r",
      "execution_count": 5,
      "outputs": [
        {
          "output_type": "display_data",
          "data": {
            "text/plain": [
              "plot without title"
            ],
            "image/png": "[encoded data removed]"
          },
          "metadata": {
            "image/png": {
              "width": 420,
              "height": 420
            }
          }
        }
      ]
    },
    {
      "cell_type": "markdown",
      "source": [
        "# <a name=\"residuals\">Residual Plots</a>\n",
        "\n",
        "---\n",
        "\n",
        "After we have fit a regression line: $y = a + b x$ and found our coefficients, $a$ and $b$, we can graphically check our residuals (or displacement) values, $d_i$.  If it is a good fit, the residuals should be normally distributed with a mean of zero.   You can also use the residual plot to look for any outliers which can skew your fit values.\n",
        "\n",
        "- We calculate our residuals with the following equation:\n",
        "\n",
        "$$d_i = y_i - \\hat{y_i}$$\n",
        "\n",
        "Where $\\hat{y_i}$ is the value on the regression line.\n",
        "\n",
        "<figure>\n",
        "<img\n",
        "src=\"https://raw.githubusercontent.com/gibsonea/Biostats/main/Images/Residual.png\" width=\"600\">\n",
        "\n"
      ],
      "metadata": {
        "id": "yjk8L5YJ1wCn"
      },
      "id": "yjk8L5YJ1wCn"
    },
    {
      "cell_type": "markdown",
      "metadata": {
        "id": "KLQ40a3SPE9K"
      },
      "source": [
        "## <a name=\"71q1d\"> Question 1d</a>\n",
        "\n",
        "---\n",
        "\n",
        "In the code cell below, you calculate the residuals (or displacement) values from your fit.  Make a scatter plot of $d_i$ versus $x_i$ and overlay a line at y = 0.  Do you think this is a good fit?\n",
        "\n",
        "### <a name=\"71sol1d\">Solution to  Question 1d</a>\n",
        "\n",
        "---\n",
        "\n",
        "<br>\n",
        "\n",
        "It appears to be a reasonable fit, although at lower x values, there are more points below zero instead of uniformly scattered about zero.\n"
      ],
      "id": "KLQ40a3SPE9K"
    },
    {
      "cell_type": "code",
      "source": [
        "#find the residuals\n",
        "y_hat = a+b*x\n",
        "res = y-y_hat\n",
        "\n",
        "plot(x,res)\n",
        "abline(0,0)\n"
      ],
      "metadata": {
        "id": "BqoAxdhlfAUJ",
        "colab": {
          "base_uri": "https://localhost:8080/",
          "height": 437
        },
        "outputId": "0e169275-8067-4a6b-82eb-f71b56caa014"
      },
      "id": "BqoAxdhlfAUJ",
      "execution_count": 8,
      "outputs": [
        {
          "output_type": "display_data",
          "data": {
            "text/plain": [
              "plot without title"
            ],
            "image/png": "[encoded data removed]"
          },
          "metadata": {
            "image/png": {
              "width": 420,
              "height": 420
            }
          }
        }
      ]
    },
    {
      "cell_type": "markdown",
      "source": [
        "# <a name=\"Infer\">Inferences about regression parameters</a>\n",
        "\n",
        "---\n",
        "\n",
        "The least squares method can fit a line to any set of data points.  But we really want to know in a quantitative manner the answer to the following questions:\n",
        "\n",
        "- Are the variables dependent?\n",
        "- How can we calculate the standard deviation and confidence interval for our fit parameters?\n",
        "- How well does our data fit to a linear model versus another functional relationship (quadratic, exponential, etc)?\n",
        "\n",
        "We will start to answer this by looking at the variance in our data, $y$, and how much of this variance is attributed to its dependence on the predictor variable, $x$.  \n",
        "\n",
        "<figure>\n",
        "<img\n",
        "src=\"https://raw.githubusercontent.com/gibsonea/Biostats/main/Images/RegressionComponents.png\" width=\"300\">\n",
        "\n",
        "We can break down our datapoints $y_i$ into three different deviations from the mean $\\bar{y}$.  \n",
        "\n",
        "- The **residual (or error) component** is $y_i - \\hat{y_i}$\n",
        "- The **regression component** is $\\hat{y_i} - \\bar{y}$\n",
        "- The **total component** is $y_i - \\bar{y}$\n",
        "\n",
        "For each of these deviations (total, residual, regression), we can calculate a variance given by the sum of the squares divided by the respective degrees of freedom.\n",
        "\n",
        "- Total Mean Square = $\\frac{\\sum_{i=1}^{n} (y_i - \\bar{y})^2}{n-1}$ which is the variance of y.\n",
        "\n",
        "- Regression Mean Square = $\\frac{\\sum_{i=1}^{n} (\\hat{y_i} - \\bar{y})^2}{k}$\n",
        "\n",
        "- Residual (Error) Mean Square = $\\frac{\\sum_{i=1}^{n} (y_i - \\hat{y_i} )^2}{n-k-1}$\n",
        "\n",
        "n = the number of observations and k = the number of predictors.  For simple linear regression (y versus x), $k = 1$.\n",
        "\n",
        "The regression mean square tells how much of the variation in y is due to the predictor x.  The residual mean square tells how much of the variation in y is due to independent effects.  The total mean square is the total amount of variation in y including both dependent and independent effects."
      ],
      "metadata": {
        "id": "FRKGIYZq8pxw"
      },
      "id": "FRKGIYZq8pxw"
    },
    {
      "cell_type": "markdown",
      "metadata": {
        "id": "a7ca3448-01d2-4df4-b0dc-5e2dc9474958"
      },
      "source": [
        "## <a name=\"71q2\"> Question 2</a>\n",
        "\n",
        "---\n",
        "\n",
        "The figure below shows scatter plots of different datasets.  In each case, indicate whether the Regression Mean Square (RegMS) is greater than or less than the Residual (Error) Mean Square (MSE).\n",
        "\n",
        "<figure>\n",
        "<img\n",
        "src=\"https://raw.githubusercontent.com/gibsonea/Biostats/main/Images/Correlation.png\" width=\"600\">\n",
        "\n",
        "### <a name=\"71sol2\">Solution to  Question 2</a>\n",
        "\n",
        "---\n",
        "\n",
        "<br>  \n",
        "(a) RegMS > MSE\n",
        "\n",
        "(b) RegMS ~ or < MSE, kind of hard to say without calculating but looks like it could be roughly equal.\n",
        "\n",
        "(c) RegMS > MSE\n",
        "\n",
        "(d) RegMS ~ or < MSE\n",
        "\n",
        "<br>"
      ],
      "id": "a7ca3448-01d2-4df4-b0dc-5e2dc9474958"
    },
    {
      "cell_type": "markdown",
      "metadata": {
        "id": "7a5a1a81-a7e7-4cea-9873-da62e0261fd1"
      },
      "source": [
        "## <a name=\"25q3\"> Question 3</a>\n",
        "\n",
        "---\n",
        "\n",
        "You want to determine if there is a dependence of birthweight on estriol levels using statistics.  To do this, you will use a one-sided F test as discussed in the lecture. In R, you will use these commands for the F-distribution: qf(), pf()"
      ],
      "id": "7a5a1a81-a7e7-4cea-9873-da62e0261fd1"
    },
    {
      "cell_type": "markdown",
      "metadata": {
        "id": "7593261f-8297-4aa3-a1f9-b55617667079"
      },
      "source": [
        "### <a name=\"25q3a\"> Question 3a</a>\n",
        "\n",
        "---\n",
        "State the hypotheses and describe in a few sentences.  \n",
        "\n",
        "#### <a name=\"25sol3a\">Solution to  Question 3a</a>\n",
        "\n",
        "---\n",
        "\n",
        "$H_0$: $\\beta = 0$\n",
        "\n",
        "$H_1$: $\\beta \\neq 0$\n",
        "\n",
        "The null hypothesis states that there is no dependence of birthweight on estriol levels, so slope is zero.  The alternative states that there is a dependence (slope is not equal to zero)."
      ],
      "id": "7593261f-8297-4aa3-a1f9-b55617667079"
    },
    {
      "cell_type": "markdown",
      "metadata": {
        "id": "ac021659-40d0-4fac-93c9-acb7b31cabdd"
      },
      "source": [
        "### <a name=\"25q3b\"> Question 3b</a>\n",
        "\n",
        "---\n",
        "\n",
        "Calculate the RegMS and ResidualMS values from your data.\n",
        "\n",
        "#### <a name=\"25sol3b\">Solution to  Question 3b</a>\n",
        "\n",
        "---\n",
        "\n",
        "RegMS = 250.04\n",
        "\n",
        "MSE = 13.68"
      ],
      "id": "ac021659-40d0-4fac-93c9-acb7b31cabdd"
    },
    {
      "cell_type": "code",
      "execution_count": 13,
      "metadata": {
        "id": "b18018f3-5e9c-414b-a69e-d1d8fbd88e7e",
        "colab": {
          "base_uri": "https://localhost:8080/",
          "height": 52
        },
        "outputId": "944c350e-a626-4fbb-a4fe-e8f51c310e7d"
      },
      "outputs": [
        {
          "output_type": "display_data",
          "data": {
            "text/html": [
              "250.037193886945"
            ],
            "text/markdown": "250.037193886945",
            "text/latex": "250.037193886945",
            "text/plain": [
              "[1] 250.0372"
            ]
          },
          "metadata": {}
        },
        {
          "output_type": "display_data",
          "data": {
            "text/html": [
              "13.676219552034"
            ],
            "text/markdown": "13.676219552034",
            "text/latex": "13.676219552034",
            "text/plain": [
              "[1] 13.67622"
            ]
          },
          "metadata": {}
        }
      ],
      "source": [
        "# code cell to help with calculations\n",
        "\n",
        "k = 1\n",
        "n = length(y)\n",
        "RegMS = sum((y_hat - y.mean)^2)/k\n",
        "MSE = sum((y - y_hat)^2)/(n-1)\n",
        "\n",
        "RegMS\n",
        "MSE"
      ],
      "id": "b18018f3-5e9c-414b-a69e-d1d8fbd88e7e"
    },
    {
      "cell_type": "markdown",
      "metadata": {
        "id": "95516ccf-6ad5-48c3-9d7c-2990bf4330b9"
      },
      "source": [
        "### <a name=\"25q3c\"> Question 3c</a>\n",
        "\n",
        "---\n",
        "\n",
        "Find the test statistic and critical value for a significance level of 5% for your one-sided F test.  Do you accept or reject the null hypothesis.\n",
        "\n",
        "#### <a name=\"25sol3c\">Solution to  Question 3c</a>\n",
        "\n",
        "---\n",
        "\n",
        "\n",
        "F = 18.28\n",
        "\n",
        "Critical Value = 4.16\n",
        "<br>\n",
        "Since F > Critical Value, we reject the null hypothesis and conclude that there is a dependence of birthweight on estriol levels."
      ],
      "id": "95516ccf-6ad5-48c3-9d7c-2990bf4330b9"
    },
    {
      "cell_type": "code",
      "source": [
        "#code for calculations\n",
        "\n",
        "F = RegMS/MSE\n",
        "F\n",
        "\n",
        "qf(0.95,k,n-1)"
      ],
      "metadata": {
        "id": "71SuBlF1qWfJ",
        "colab": {
          "base_uri": "https://localhost:8080/",
          "height": 52
        },
        "outputId": "53c67aba-9828-4a99-ec6b-861f4b52e975"
      },
      "id": "71SuBlF1qWfJ",
      "execution_count": 15,
      "outputs": [
        {
          "output_type": "display_data",
          "data": {
            "text/html": [
              "18.2826250292068"
            ],
            "text/markdown": "18.2826250292068",
            "text/latex": "18.2826250292068",
            "text/plain": [
              "[1] 18.28263"
            ]
          },
          "metadata": {}
        },
        {
          "output_type": "display_data",
          "data": {
            "text/html": [
              "4.15961509803175"
            ],
            "text/markdown": "4.15961509803175",
            "text/latex": "4.15961509803175",
            "text/plain": [
              "[1] 4.159615"
            ]
          },
          "metadata": {}
        }
      ]
    },
    {
      "cell_type": "markdown",
      "metadata": {
        "id": "ecU_o-K_qdDa"
      },
      "source": [
        "### <a name=\"25q3d\"> Question 3d</a>\n",
        "\n",
        "---\n",
        "\n",
        "Calculate the p-value for your test\n",
        "\n",
        "#### <a name=\"25sol3c\">Solution to  Question 3d</a>\n",
        "\n",
        "---\n",
        "\n",
        "p = 0.00017\n",
        "<br>"
      ],
      "id": "ecU_o-K_qdDa"
    },
    {
      "cell_type": "code",
      "source": [
        "#code for your calculations\n",
        "\n",
        "1-pf(F,k,n-1)"
      ],
      "metadata": {
        "id": "_-AE3_qUqmMW",
        "colab": {
          "base_uri": "https://localhost:8080/",
          "height": 34
        },
        "outputId": "2d528836-0483-4735-9b81-8c7f6bde283c"
      },
      "id": "_-AE3_qUqmMW",
      "execution_count": 16,
      "outputs": [
        {
          "output_type": "display_data",
          "data": {
            "text/html": [
              "0.000168783737233613"
            ],
            "text/markdown": "0.000168783737233613",
            "text/latex": "0.000168783737233613",
            "text/plain": [
              "[1] 0.0001687837"
            ]
          },
          "metadata": {}
        }
      ]
    }
  ],
  "nbformat": 4,
  "nbformat_minor": 5,
  "metadata": {
    "kernelspec": {
      "name": "ir",
      "display_name": "R",
      "language": "R"
    },
    "colab": {
      "provenance": [],
      "include_colab_link": true
    }
  }
}