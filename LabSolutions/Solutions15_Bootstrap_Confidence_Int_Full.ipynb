{
  "cells": [
    {
      "cell_type": "markdown",
      "metadata": {
        "id": "view-in-github",
        "colab_type": "text"
      },
      "source": [
        "<a href=\"https://colab.research.google.com/github/gibsonea/Biostats/blob/main/LabSolutions/Solutions15_Bootstrap_Confidence_Int_Full.ipynb\" target=\"_parent\"><img src=\"https://colab.research.google.com/assets/colab-badge.svg\" alt=\"Open In Colab\"/></a>"
      ]
    },
    {
      "cell_type": "markdown",
      "source": [
        "# <a name=\"17intro\">5.2: Bootstrap Confidence Intervals</a>\n",
        "\n",
        "---\n",
        "\n",
        "In our [work with bootstrap distributions](https://githubtocolab.com/CU-Denver-MathStats-OER/Statistical-Theory/blob/main/Chap5/16-Bootstrap-Dist.ipynb), we explored how we can use data from one random sample that is picked from a population with unknown parameters to construct an approximation for a sampling distribution. From a bootstrap distribution, we can define a new estimator:\n",
        "\n",
        "-   We defined the <font color=\"dodgerblue\">bootstrap estimator, $\\hat{\\theta}_{\\rm{boot}}$</font>, as the mean (expected) value of the bootstrap distribution.\n",
        "-   We use the <font color=\"dodgerblue\">bootstrap standard error, $\\mbox{SE}_{\\rm{boot}}$,</font> to estimate the variability in sample statistics.\n",
        "-   In the case of estimating a population mean $\\mu$ with a bootstrap estimator, we defined the <font color=\"dodgerblue\">bootstrap estimate of bias</font> as\n",
        "\n",
        "$${\\color{dodgerblue}{\\mbox{Bias}_{\\rm{boot}} \\big( \\hat{\\mu}_{\\rm{boot}} \\big) = \\hat{\\mu}_{\\rm{boot}} - \\bar{x}}}.$$\n",
        "\n",
        "In this section we will bootstrap a sample proportion and a difference of two means. Then we use bootstrap distributions to account for the uncertainty that we build into our estimates using intervals.\n",
        "\n"
      ],
      "metadata": {
        "id": "0cQvCXIzJY1G"
      },
      "id": "0cQvCXIzJY1G"
    },
    {
      "cell_type": "markdown",
      "source": [
        "# <a name=\"17nyc\">Case Study: Ozone Concentration in New York City</a>\n",
        "\n",
        "---\n",
        "\n",
        "\n",
        "<figure>\n",
        "<img\n",
        "src=\"https://www-f.nescaum.org/documents/listos/AQI_Map_170518.png\"\n",
        "alt=\"Map of Air Quality in Northeastern US\" width = \"55%\"/>\n",
        "<figcaption aria-hidden=\"true\">\n",
        "Credit: <a href=\"https://www-f.nescaum.org/documents/listos\">Northeast States for Coordinated Air Use Management (NESCAUM)</a>\n",
        "</figcaption>\n",
        "</figure>\n",
        "\n",
        "\n",
        "According to the Unites States Environmental Protection Agency (EPA)<sup>1</sup>:\n",
        "\n",
        "> Ozone (O3) is a highly reactive gas composed of three oxygen atoms. It is both a natural and a man-made product that occurs in the Earth's upper atmosphere (the stratosphere) and lower atmosphere (the troposphere). Depending on where it is in the atmosphere, ozone affects life on Earth in either good or bad ways.\n",
        "\n",
        "When the ozone concentration is high, respiratory illnesses such as asthma, pneumonia, and bronchitis can become exacerbated. While the effects of short-term exposure to high ozone concentration are reversible, long-term exposure may not be reversible. The EPA sets [Ozone National Ambient Air Quality Standards (NAAQS)](https://www.epa.gov/naaqs/ozone-o3-air-quality-standards). The existing primary and secondary standards, established in 2015, are 70 parts per billion (ppb).\n",
        "We will begin today's work with bootstrap distributions by investigating the following question:\n",
        "\n",
        "> <font color=\"dodgerblue\">Is the population of New York City experiencing long-term exposure to unhealthy levels of ozone?</font>\n",
        "\n",
        "\n",
        "<br>\n",
        "\n",
        "<font size=\"2\">1. [Ozone pollution and your patient's health](https://www.epa.gov/ozone-pollution-and-your-patients-health/what-ozone), by the EPA accessed June 26, 2023.</font>\n",
        "\n"
      ],
      "metadata": {
        "id": "8YR7cFJx0k8V"
      },
      "id": "8YR7cFJx0k8V"
    },
    {
      "cell_type": "markdown",
      "metadata": {
        "id": "6564f4be-90d6-442a-bc20-8655e6261521"
      },
      "source": [
        "## <a name=\"17store-nyc\">Loading and Summarizing NYC Ozone Data</a>\n",
        "\n",
        "---\n",
        "\n",
        "In the code cell below we summarize a data frame<sup>2</sup> named `environmental` from the `lattice` package and store the ozone concentration data `environmental$ozone` to a vector named `nyc.oz`.\n",
        "\n",
        "<br>\n",
        "\n",
        "<font size=2>2. Bruntz, Cleveland, Kleiner, and Warner (1974). \"The Dependence of Ambient Ozone on Solar Radiation, Wind, Temperature, and Mixing Height\". In *Symposium on Atmospheric Diffusion and Air Pollution*. American Meteorological Society, Boston.</font>"
      ],
      "id": "6564f4be-90d6-442a-bc20-8655e6261521"
    },
    {
      "cell_type": "code",
      "execution_count": null,
      "metadata": {
        "id": "b2b72f19-dfb0-46c6-b201-a32eeae05320",
        "colab": {
          "base_uri": "https://localhost:8080/",
          "height": 139
        },
        "outputId": "a9f51e2d-083b-452f-cef1-670f698a4eb2"
      },
      "outputs": [
        {
          "output_type": "display_data",
          "data": {
            "text/plain": [
              "     ozone         radiation      temperature         wind       \n",
              " Min.   :  1.0   Min.   :  7.0   Min.   :57.00   Min.   : 2.300  \n",
              " 1st Qu.: 18.0   1st Qu.:113.5   1st Qu.:71.00   1st Qu.: 7.400  \n",
              " Median : 31.0   Median :207.0   Median :79.00   Median : 9.700  \n",
              " Mean   : 42.1   Mean   :184.8   Mean   :77.79   Mean   : 9.939  \n",
              " 3rd Qu.: 62.0   3rd Qu.:255.5   3rd Qu.:84.50   3rd Qu.:11.500  \n",
              " Max.   :168.0   Max.   :334.0   Max.   :97.00   Max.   :20.700  "
            ]
          },
          "metadata": {}
        }
      ],
      "source": [
        "library(lattice)  # loading lattice package\n",
        "summary(environmental)  # numerical summary of each variable\n",
        "nyc.oz <- environmental$ozone  # store ozone data to a vector"
      ],
      "id": "b2b72f19-dfb0-46c6-b201-a32eeae05320"
    },
    {
      "cell_type": "markdown",
      "metadata": {
        "id": "254a2d2b-74a5-409a-a530-a807980f83a4"
      },
      "source": [
        "## <a name=\"17q1\">Question 1</a>\n",
        "\n",
        "---\n",
        "\n",
        "We will use the sample data stored in `nyc.oz` to construct a bootstrap distribution that we can use to make predictions about the ozone concentration for the population of all times in New York City. Answer the questions below to get acquainted with the sample data.\n",
        "\n",
        "*Hint: Open the help manual in a side panel with the command `?environmental` for more details about the data.*\n",
        "\n"
      ],
      "id": "254a2d2b-74a5-409a-a530-a807980f83a4"
    },
    {
      "cell_type": "markdown",
      "source": [
        "### <a name=\"17q1a\">Question 1a</a>\n",
        "\n",
        "---\n",
        "\n",
        "How many observations are in the sample stored in `nyc.oz`? Describe the shape of the data in `nyc.oz`.\n",
        "\n",
        "#### <a name=\"17sol1a\">Solution to Question 1a</a>\n",
        "\n",
        "---\n",
        "\n",
        "<br>  \n",
        "\n",
        "There are $n=111$ ozone concentration observations in `nyc.oz`. See the histogram and box plot below.\n",
        "\n",
        "<br>\n",
        "\n"
      ],
      "metadata": {
        "id": "ZBmk60Vy0v6X"
      },
      "id": "ZBmk60Vy0v6X"
    },
    {
      "cell_type": "code",
      "source": [
        "length(nyc.oz) # count number of entries in vector"
      ],
      "metadata": {
        "colab": {
          "base_uri": "https://localhost:8080/",
          "height": 34
        },
        "id": "IYrhuYgUyUEI",
        "outputId": "c3e466df-c312-4156-b210-b855834c983d"
      },
      "id": "IYrhuYgUyUEI",
      "execution_count": null,
      "outputs": [
        {
          "output_type": "display_data",
          "data": {
            "text/html": [
              "111"
            ],
            "text/markdown": "111",
            "text/latex": "111",
            "text/plain": [
              "[1] 111"
            ]
          },
          "metadata": {}
        }
      ]
    },
    {
      "cell_type": "code",
      "source": [
        "# create a plot to summarize shape of data in sample\n",
        "hist(nyc.oz)"
      ],
      "metadata": {
        "id": "0oLYYV-C_0I-",
        "colab": {
          "base_uri": "https://localhost:8080/",
          "height": 437
        },
        "outputId": "c24a354d-3905-423d-f69e-614a42a66d53"
      },
      "id": "0oLYYV-C_0I-",
      "execution_count": null,
      "outputs": [
        {
          "output_type": "display_data",
          "data": {
            "text/plain": [
              "Plot with title “Histogram of nyc.oz”"
            ],
            "image/png": "[encoded data removed]"
          },
          "metadata": {
            "image/png": {
              "width": 420,
              "height": 420
            }
          }
        }
      ]
    },
    {
      "cell_type": "code",
      "source": [
        "boxplot(nyc.oz, horizontal = TRUE, xlab = \"Ozone Concentration (in ppb)\")"
      ],
      "metadata": {
        "colab": {
          "base_uri": "https://localhost:8080/",
          "height": 437
        },
        "id": "e1rr6VjnyZah",
        "outputId": "4896756c-431c-44b3-d2a7-4f0e7c8d4e90"
      },
      "id": "e1rr6VjnyZah",
      "execution_count": null,
      "outputs": [
        {
          "output_type": "display_data",
          "data": {
            "text/plain": [
              "plot without title"
            ],
            "image/png": "[encoded data removed]"
          },
          "metadata": {
            "image/png": {
              "width": 420,
              "height": 420
            }
          }
        }
      ]
    },
    {
      "cell_type": "markdown",
      "source": [
        "### <a name=\"17q1b\">Question 1b</a>\n",
        "\n",
        "---\n",
        "\n",
        "Based on the sample data in `nyc.oz`, give an estimate for $\\mu$, the mean ozone concentration in New York City (over all days and times).\n",
        "\n",
        "#### <a name=\"17sol1b\">Solution to Question 1b</a>\n",
        "\n",
        "---\n",
        "\n",
        "<br>  \n",
        "\n",
        "We have studied properties of different estimators (such as median, trimmed mean, midrange) for a population mean $\\mu$. The sample mean $\\bar{X}$:\n",
        "\n",
        "- Makes the practical sense.\n",
        "- Is an unbiased estimator for $\\mu$.\n",
        "- Has the smallest variance (most precise) of all unbiased estimators.\n",
        "- Has the smallest Mean Squared Error (MSE).\n",
        "\n",
        "A good point estimate for the population mean $\\mu$ is therefore $\\bar{x} = 42.1$ ppb, the mean of the sample `nyc.oz`.\n",
        "\n",
        "<br>\n",
        "\n"
      ],
      "metadata": {
        "id": "H5SPragY0xRv"
      },
      "id": "H5SPragY0xRv"
    },
    {
      "cell_type": "code",
      "source": [
        "xbar <- mean(nyc.oz)  # sample mean\n",
        "xbar"
      ],
      "metadata": {
        "colab": {
          "base_uri": "https://localhost:8080/",
          "height": 34
        },
        "id": "_fLCO2db1IuU",
        "outputId": "3cb9120c-f5de-4940-d291-83478a650aa6"
      },
      "id": "_fLCO2db1IuU",
      "execution_count": null,
      "outputs": [
        {
          "output_type": "display_data",
          "data": {
            "text/html": [
              "42.0990990990991"
            ],
            "text/markdown": "42.0990990990991",
            "text/latex": "42.0990990990991",
            "text/plain": [
              "[1] 42.0991"
            ]
          },
          "metadata": {}
        }
      ]
    },
    {
      "cell_type": "markdown",
      "source": [
        "# <a name=\"17boot-prop\">Bootstrap Distribution for a Proportion</a>\n",
        "\n",
        "---\n",
        "\n",
        "The sample mean for ozone concentration is below the 70 ppb limit. However, from the plot in [Question 1a](#17q1a), we see there are number of observations in the sample with an ozone concentration over 70 ppb."
      ],
      "metadata": {
        "id": "QuklBYG70zYV"
      },
      "id": "QuklBYG70zYV"
    },
    {
      "cell_type": "code",
      "execution_count": null,
      "metadata": {
        "id": "8a58ae7d-8a28-43e6-9852-fba41540f84c",
        "colab": {
          "base_uri": "https://localhost:8080/",
          "height": 34
        },
        "outputId": "370094c0-329e-44ff-b1c2-5ead1c74f6bb"
      },
      "outputs": [
        {
          "output_type": "display_data",
          "data": {
            "text/html": [
              "24"
            ],
            "text/markdown": "24",
            "text/latex": "24",
            "text/plain": [
              "[1] 24"
            ]
          },
          "metadata": {}
        }
      ],
      "source": [
        "# count the number of observations with ozone > 70 ppb\n",
        "sum(nyc.oz > 70)"
      ],
      "id": "8a58ae7d-8a28-43e6-9852-fba41540f84c"
    },
    {
      "cell_type": "markdown",
      "metadata": {
        "id": "33e63aae-60c1-4b6b-bafe-1691ec15a4ca"
      },
      "source": [
        "> <font color=\"dodgerblue\">What **proportion of all time** in NYC is\n",
        "> the ozone concentration greater than 70 ppb?</font>\n",
        "\n",
        "The sample proportion of observations with an ozone concentration greater than 70 ppb is $\\hat{p} = 24/111 \\approx 0.2162$.\n",
        "\n",
        "We calculate the sample proportion in two different ways below. In both methods, we use the logical test `nyc.oz > 70` to help count the number of observations greater than 70 ppb, and then use:\n",
        "\n",
        "1.  A `sum()` command and divide by the sample size `n`.\n",
        "2.  A `mean()` command that both sums and divides by $n$."
      ],
      "id": "33e63aae-60c1-4b6b-bafe-1691ec15a4ca"
    },
    {
      "cell_type": "code",
      "execution_count": null,
      "metadata": {
        "id": "819cb418-1333-4e2c-be36-2c2b629eb721",
        "colab": {
          "base_uri": "https://localhost:8080/",
          "height": 34
        },
        "outputId": "c33b2e26-c1d5-4ba6-b662-0639306c8bea"
      },
      "outputs": [
        {
          "output_type": "display_data",
          "data": {
            "text/html": [
              "0.216216216216216"
            ],
            "text/markdown": "0.216216216216216",
            "text/latex": "0.216216216216216",
            "text/plain": [
              "[1] 0.2162162"
            ]
          },
          "metadata": {}
        }
      ],
      "source": [
        "# method 1 for computing a sample proportion\n",
        "n <- length(nyc.oz)  # number of observations in sample\n",
        "sum(nyc.oz > 70) / n  # sample proportion over 70 ppb"
      ],
      "id": "819cb418-1333-4e2c-be36-2c2b629eb721"
    },
    {
      "cell_type": "code",
      "execution_count": null,
      "metadata": {
        "id": "9dc1ba07-644b-430a-9cd4-e2cbe3e253a2",
        "colab": {
          "base_uri": "https://localhost:8080/",
          "height": 34
        },
        "outputId": "b60a8395-60af-4e45-c762-93c641f245cc"
      },
      "outputs": [
        {
          "output_type": "display_data",
          "data": {
            "text/html": [
              "0.216216216216216"
            ],
            "text/markdown": "0.216216216216216",
            "text/latex": "0.216216216216216",
            "text/plain": [
              "[1] 0.2162162"
            ]
          },
          "metadata": {}
        }
      ],
      "source": [
        "# method 2 for computing a sample proportion\n",
        "mean(nyc.oz > 70)  # sample proportion over 70 ppb"
      ],
      "id": "9dc1ba07-644b-430a-9cd4-e2cbe3e253a2"
    },
    {
      "cell_type": "markdown",
      "metadata": {
        "id": "34f5cca9-b44a-4530-9cea-484c7b1dab54"
      },
      "source": [
        "Both methods are equivalent and we see that\n",
        "\n",
        "$$\\hat{p} = 0.2162 = 21.62 \\%.$$\n",
        "\n",
        "Using the [plug-in principle](https://githubtocolab.com/CU-Denver-MathStats-OER/Statistical-Theory/blob/main/Chap5/16-Bootstrap-Dist.ipynb#16plug-in), a reasonable estimate for the proportion of all time that the ozone concentration in NYC is over 70 ppb (we denote the population proportion $p$) is\n",
        "\n",
        "$$ p \\approx \\hat{p} = 0.2612.$$\n",
        "\n",
        "**How certain can we be in this estimate?** Most likely, the sample proportion is not equal to the *exact* value of the population proportion $p$, but it should be “close”. How close should we expect the sample proportion to be to the actual value of $p$?\n",
        "\n"
      ],
      "id": "34f5cca9-b44a-4530-9cea-484c7b1dab54"
    },
    {
      "cell_type": "markdown",
      "source": [
        "## <a name=\"17q2\">Question 2</a>\n",
        "\n",
        "---\n",
        "\n",
        "Answer each part below to construct a bootstrap distribution for the sample proportion. Then use the result to answer the questions that follow.\n",
        "\n"
      ],
      "metadata": {
        "id": "WJAWOmgv01dG"
      },
      "id": "WJAWOmgv01dG"
    },
    {
      "cell_type": "markdown",
      "source": [
        "### <a name=\"17q2a\">Question 2a</a>\n",
        "\n",
        "---\n",
        "\n",
        "Complete the code cell below to construct a bootstrap distribution for the sample proportion of observations with ozone concentration greater than 70 ppb.\n",
        "\n",
        "<br>\n",
        "\n",
        "#### <font color=\"mediumseagreen\">Hint</font>\n",
        "\n",
        "---\n",
        "\n",
        "<font color=\"mediumseagreen\">*There are two operations to complete inside the for loop:*</font>\n",
        "\n",
        "<font color=\"mediumseagreen\">1.  *Pick a bootstrap resample from the observed sample `nyc.oz`.*</font>\n",
        "\n",
        "<font color=\"mediumseagreen\">2.  *Calculate the proportion of observations in the bootstrap resample with ozone concentration greater than 70 ppb.*</font>\n",
        "\n",
        "<br>\n",
        "\n",
        "#### <a name=\"17sol2a\">Solution to Question 2a</a>\n",
        "\n",
        "---\n",
        "\n",
        "Replace all six `??` in the code cell below with appropriate code. Then run the completed code to generate a bootstrap distribution and mark the observed sample proportion (in red) and the mean of the bootstrap distribution (in blue) with vertical lines."
      ],
      "metadata": {
        "id": "FWqSUkWC02hW"
      },
      "id": "FWqSUkWC02hW"
    },
    {
      "cell_type": "code",
      "execution_count": null,
      "metadata": {
        "id": "b9b3b68f-c596-49d2-a66f-5d72a190fc4f",
        "colab": {
          "base_uri": "https://localhost:8080/",
          "height": 437
        },
        "outputId": "ff984fe5-08a6-416a-9e88-f58769005a24"
      },
      "outputs": [
        {
          "output_type": "display_data",
          "data": {
            "text/plain": [
              "Plot with title “Bootstrap Distribution for Sample Proportion”"
            ],
            "image/png": "[encoded data removed]"
          },
          "metadata": {
            "image/png": {
              "width": 420,
              "height": 420
            }
          }
        }
      ],
      "source": [
        "set.seed(076)\n",
        "\n",
        "N <- 10^5  # Number of bootstrap samples\n",
        "boot.prop <- numeric(N)  # create vector to store bootstrap proportions\n",
        "\n",
        "# compute and store outside of loop for more efficient code\n",
        "n <- length(nyc.oz)\n",
        "\n",
        "# for loop that creates bootstrap dist\n",
        "for (i in 1:N)\n",
        "{\n",
        "  x <- sample(nyc.oz, size = n, replace = TRUE)  # pick a bootstrap resample\n",
        "  boot.prop[i] <- mean(x > 70)  # compute bootstrap sample proportion\n",
        "}\n",
        "\n",
        "# plot bootstrap distribution\n",
        "hist(boot.prop,\n",
        "     breaks=20,\n",
        "     xlab = \"p-hat, sample proportion\",\n",
        "     main = \"Bootstrap Distribution for Sample Proportion\",\n",
        "     cex.lab=1.5, cex.axis=1.5, cex.main=1.5)  # increase font size on labels\n",
        "\n",
        "# red line at the observed sample proportion\n",
        "abline(v = mean(nyc.oz > 70), col = \"firebrick2\", lwd = 2, lty = 1)\n",
        "\n",
        "# blue line at the center of bootstrap dist\n",
        "abline(v = mean(boot.prop), col = \"blue\", lwd = 2, lty = 2)"
      ],
      "id": "b9b3b68f-c596-49d2-a66f-5d72a190fc4f"
    },
    {
      "cell_type": "markdown",
      "metadata": {
        "id": "578c6a98-41a4-4c00-9785-c49d88c6e32c"
      },
      "source": [
        "### <a name=\"17q2b\">Question 2b</a>\n",
        "\n",
        "---\n",
        "\n",
        "Based on your answer to [Question 2a](#17q2a), calculate [bootstrap estimate for bias](#17intro). *Note that answers will vary due to the randomness of bootstrapping in [Question 2a](#17q2a).*\n",
        "\n",
        "#### <a name=\"17sol2b\">Solution to Question 2b</a>\n",
        "\n",
        "---"
      ],
      "id": "578c6a98-41a4-4c00-9785-c49d88c6e32c"
    },
    {
      "cell_type": "code",
      "execution_count": null,
      "metadata": {
        "id": "124405be-e037-4c04-9696-0a8eb4ffce4c",
        "colab": {
          "base_uri": "https://localhost:8080/",
          "height": 69
        },
        "outputId": "ba0b8683-d8ed-476a-a43a-7993c2add4e5"
      },
      "outputs": [
        {
          "output_type": "display_data",
          "data": {
            "text/html": [
              "0.216216216216216"
            ],
            "text/markdown": "0.216216216216216",
            "text/latex": "0.216216216216216",
            "text/plain": [
              "[1] 0.2162162"
            ]
          },
          "metadata": {}
        },
        {
          "output_type": "display_data",
          "data": {
            "text/html": [
              "0.216330900900901"
            ],
            "text/markdown": "0.216330900900901",
            "text/latex": "0.216330900900901",
            "text/plain": [
              "[1] 0.2163309"
            ]
          },
          "metadata": {}
        },
        {
          "output_type": "display_data",
          "data": {
            "text/html": [
              "0.000114684684684674"
            ],
            "text/markdown": "0.000114684684684674",
            "text/latex": "0.000114684684684674",
            "text/plain": [
              "[1] 0.0001146847"
            ]
          },
          "metadata": {}
        }
      ],
      "source": [
        "# calculate bootstrap estimate of bias\n",
        "samp.prop <- mean(nyc.oz > 70)\n",
        "boot.prop.est <- mean(boot.prop)\n",
        "\n",
        "boot.bias <- boot.prop.est - samp.prop\n",
        "\n",
        "samp.prop\n",
        "boot.prop.est\n",
        "boot.bias"
      ],
      "id": "124405be-e037-4c04-9696-0a8eb4ffce4c"
    },
    {
      "cell_type": "markdown",
      "metadata": {
        "id": "0f55a800-363d-488b-80a6-cfebb98727bb"
      },
      "source": [
        "<br>  \n",
        "\n",
        "- The bootstrap estimator for $p$ is the mean of the bootstrap distribution for the proportion, $E \\left( \\hat{P}_{\\rm{boot}} \\right) =$ `mean(boot.prop)` $= 0.21633$.\n",
        "\n",
        "- The observed sample proportion is $\\hat{p} =$ `mean(nyc.oz > 70)` $= 0.21622$.\n",
        "\n",
        "- Thus, the bootstrap estimate for bias is\n",
        "\n",
        "$$\\boxed{\\mbox{Bias}_{\\rm{boot}} = E \\left( \\hat{P}_{\\rm{boot}} \\right) - \\hat{p} = 0.00011}.$$\n",
        "\n",
        "<br>\n",
        "\n"
      ],
      "id": "0f55a800-363d-488b-80a6-cfebb98727bb"
    },
    {
      "cell_type": "markdown",
      "source": [
        "### <a name=\"17q2c\">Question 2c</a>\n",
        "\n",
        "---\n",
        "\n",
        "Based on your answer to [Question 2a](#17q2a), calculate the bootstrap estimate for the standard error of the sampling distribution for sample proportions. *Note that answers will vary due to the randomness of bootstrapping in [Question 2a](#17q2a).*\n",
        "\n",
        "#### <a name=\"17sol2c\">Solution to Question 2c</a>\n",
        "\n",
        "---"
      ],
      "metadata": {
        "id": "UXS0uO0t04zw"
      },
      "id": "UXS0uO0t04zw"
    },
    {
      "cell_type": "code",
      "execution_count": null,
      "metadata": {
        "id": "cbc137bf-38b7-4a48-a5ce-25737d03aa65",
        "colab": {
          "base_uri": "https://localhost:8080/",
          "height": 34
        },
        "outputId": "af419821-aef3-4b54-b9ff-82634e0f737e"
      },
      "outputs": [
        {
          "output_type": "display_data",
          "data": {
            "text/html": [
              "0.0389917520764806"
            ],
            "text/markdown": "0.0389917520764806",
            "text/latex": "0.0389917520764806",
            "text/plain": [
              "[1] 0.03899175"
            ]
          },
          "metadata": {}
        }
      ],
      "source": [
        "# calculate bootstrap standard error\n",
        "boot.prop.se <- sd(boot.prop)\n",
        "boot.prop.se"
      ],
      "id": "cbc137bf-38b7-4a48-a5ce-25737d03aa65"
    },
    {
      "cell_type": "markdown",
      "metadata": {
        "id": "40db53e9-1005-41a9-95b3-729f2cd2cce6"
      },
      "source": [
        "<br>  \n",
        "\n",
        "We have\n",
        "\n",
        "$$\\boxed{\\mbox{SE} \\left( \\hat{P}_{\\rm{boot}} \\right) = 0.03899}.$$\n",
        "\n",
        "<br>\n",
        "\n"
      ],
      "id": "40db53e9-1005-41a9-95b3-729f2cd2cce6"
    },
    {
      "cell_type": "markdown",
      "source": [
        "# <a name=\"17clt\">Comparing Bootstrapping to CLT</a>\n",
        "\n",
        "---\n",
        "\n",
        "Recall the [Central Limit Theorem (CLT) for\n",
        "Proportions](https://githubtocolab.com/CU-Denver-MathStats-OER/Statistical-Theory/blob/main/Chap3/11-Sampling-Dist-Prop.ipynb),\n",
        "\n",
        "$$\\widehat{P} \\sim N \\left( \\mu_{\\hat{P}}, \\mbox{SE}(\\widehat{P}) \\right) = \\left( {\\color{tomato}{p}}, \\sqrt{\\frac{{\\color{tomato}{p}}(1-{\\color{tomato}{p}})}{n}} \\right).$$\n",
        "\n",
        "The population proportion $p$ is unknown, but we can use the [plug-in\n",
        "principle](https://githubtocolab.com/CU-Denver-MathStats-OER/Statistical-Theory/blob/main/Chap5/16-Bootstrap-Dist.ipynb#16plug-in) and “plug-in” the sample\n",
        "proportion ${\\color{tomato}{\\hat{p} = 0.2162}}$ in place of $p$ to estimate the sampling distribution for the sample proportion:\n",
        "\n",
        "$$\\begin{aligned}\n",
        "\\widehat{P} \\sim N \\left( \\mu_{\\hat{P}}, \\mbox{SE}(\\widehat{P}) \\right) &= \\left( {\\color{tomato}{p}}, \\sqrt{\\frac{{\\color{tomato}{p}}(1-{\\color{tomato}{p}})}{n}} \\right) \\\\\n",
        "\\widehat{P} & \\approx N\\left( {\\color{tomato}{0.2162}}, \\sqrt{\\frac{{\\color{tomato}{0.2162}}(1-{\\color{tomato}{0.2162}})}{111}} \\right) \\\\\n",
        "\\widehat{P} & \\approx N( 0.2162, 0.0391).\n",
        "\\end{aligned}$$\n",
        "\n",
        "<br>\n",
        "<br>\n",
        "\n",
        "| <font size=\"3\">Method</font> | <font size=\"3\">Mean of Sampling Distribution</font> | <font size=\"3\">Standard Error</font> |\n",
        "|------------------|-------------------|--------------|\n",
        "| <font size=\"3\">Bootstrap<sup>*</sup></fonr> |  <center> ${\\large 0.2164}$ </center> | <center> ${\\large 0.0390}$ </center> |\n",
        "| <font size=\"3\">CLT with $\\hat{p}$ in place of $p$</font> | <center> ${\\large 0.2162}$ </center> | <center> ${\\large 0.0391}$ </center> |\n",
        "\n",
        "<font size=2>* Bootstrap estimates from [Question 2](#17q2) will slightly vary.</font>\n",
        "\n",
        "<br>\n",
        "\n",
        "The two methods, bootstrap distribution and the estimate from using the CLT, give us consistent results!\n",
        "\n",
        "\n"
      ],
      "metadata": {
        "id": "pxUMVoQGSdc6"
      },
      "id": "pxUMVoQGSdc6"
    },
    {
      "cell_type": "markdown",
      "source": [
        "# <a name=\"17point-int\">Point and Interval Estimates</a>\n",
        "\n",
        "---\n",
        "\n",
        "Estimators obtained using maximum likelihood estimates (MLE), method of moments (MoM), or plug-in principle are examples of <font color=\"tomato\">**point estimates**</font> since they result in a <font color=\"tomato\">**single value**</font> to estimate the unknown population parameter.\n",
        "\n",
        "-   For example, using the plug-in principle, we have a point estimate ${\\color{tomato}{p \\approx \\hat{p} = 0.2162}}$.\n",
        "-   Since there is variability from sample to sample, it is not very likely that our point estimate is perfectly accurate, but it is likely close.\n",
        "-   We get a very specific estimate that is unlikely to be exactly equal to the actual parameter value.\n",
        "-   <font color=\"tomato\">**Point estimates are like trying to catch a fish with a spear.**</font>\n",
        "\n",
        "Usually when estimating an unknown population parameter, we give an <font color=\"dodgerblue\">**interval estimate**</font> that gives a <font color=\"dodgerblue\">**range of plausible values**</font> for the parameter by accounting for the uncertainty due to the variability in sampling.\n",
        "\n",
        "-   Using both the mean and standard error from the bootstrap distribution in [Question 2c](#17q2c), one possible interval estimate is $$p \\approx \\hat{p}_{\\rm boot} \\pm \\mbox{SE}_{\\rm boot}  = 0.216 \\pm 0.039.$$\n",
        "    -   <font color=\"dodgerblue\">An interval of plausible values for $p$ is from $0.177$ to $0.255$</font>.  \n",
        "-   It is more likely the actual value of the parameter is somewhere inside the interval estimate than it is to be exactly equal to a   point estimate.\n",
        "-   However, interval estimates are less precise.\n",
        "-   <font color=\"dodgerblue\">**Interval estimates are like trying to catch a fish with a net.**</font>\n",
        "-   We are more likely to catch a fish even if we do not know specifically where the fish is located!\n",
        "-   <font color=\"dodgerblue\">**We frequently estimate parameters with an interval to account for the variability of sample statistics.**</font>\n",
        "\n",
        "\n",
        "<figure>\n",
        "<img\n",
        "src=\"https://i0.wp.com/pixahive.com/wp-content/uploads/2020/09/Man-Throwing-a-Fishing-Net-79117-pixahive.jpg?fit=778%2C518&ssl=1\"\n",
        "alt=\"Man Throwing a Fishing Net\" width = \"45%\"/> &nbsp;&nbsp;&nbsp;\n",
        "<img\n",
        "src=\"https://cdn2.picryl.com/photo/1898/12/31/fmib-48360-indian-sealing-canoe-showing-method-of-throwing-spear-7cbd5a-1024.jpeg\"\n",
        "alt=\"Sealing Canoe Showing Method of Throwing Spear\" width = \"50%\"/>\n",
        "<figcaption aria-hidden=\"true\">\n",
        "Left Credit:  Rahil, <a href=\"https://creativecommons.org/share-your-work/public-domain/cc0/\">Public Domain</a>, <a href=\"https://pixahive.com/photo/man-throwing-a-fishing-net/\">Pixahive</a> <br> Right Credit: <href=\"https://garystockbridge617.getarchive.net/amp/media/fmib-48360-indian-sealing-canoe-showing-method-of-throwing-spear-7cbd5a\">Townsend, C. H</a>, 1898. Public Domain\n",
        "</figcaption>\n",
        "</figure>\n",
        "\n",
        "\n"
      ],
      "metadata": {
        "id": "jvHoJFlbScGq"
      },
      "id": "jvHoJFlbScGq"
    },
    {
      "cell_type": "markdown",
      "source": [
        "# <a name=\"17ci-95\">A 95% Bootstrap Percentile Confidence Interval</a>\n",
        "\n",
        "---\n",
        "\n",
        "The interval between the $2.5$ and $97.5$ percentiles (or $0.025$ and $0.975$ quantiles) of the bootstrap distribution of a statistic is a <font color=\"dodgerblue\">**95% bootstrap percentile confidence interval**</font> for the corresponding parameter.\n",
        "\n",
        "\n",
        "<center>\n",
        "<figure>\n",
        "<img\n",
        "src=\"https://upload.wikimedia.org/wikipedia/commons/e/e9/17fig-boot-ci.png\"\n",
        "alt=\"A 95% Bootstrap Percentile Confidence Interval\" width = \"75%\"/>\n",
        "<figcaption aria-hidden=\"true\">\n",
        "Credit: Adam Spiegler, <a href=\"https://creativecommons.org/licenses/by-sa/4.0\">CC BY-SA 4.0</a>\n",
        "</figcaption>\n",
        "</figure>\n",
        "</center>\n",
        "\n",
        "-   If most of the sample statistics are located in a certain interval of the bootstrap distribution, it seems plausible the true value of the parameter is in this interval!\n",
        "-   We are 95% confident that the interval contains the actual value of the population parameter since 95% of the bootstrap resamples are inside this interval.\n",
        "-   <font color=\"dodgerblue\">**Confidence interval estimates give a range of plausible values for an unknown parameter.**</font>\n",
        "\n"
      ],
      "metadata": {
        "id": "hepEr3KkX4sX"
      },
      "id": "hepEr3KkX4sX"
    },
    {
      "cell_type": "markdown",
      "source": [
        "## <a name=\"17q3\">Question 3</a>\n",
        "\n",
        "---\n",
        "\n",
        "In [Question 2](#17q2), we created a bootstrap distribution (stored in the vector `boot.prop`) for the sample proportion of times the ozone concentration exceeds 70 ppb. One possible bootstrap distribution is plotted below. *Note that bootstrap distributions will vary slightly depending on the 100,000 bootstrap resamples that are randomly selected.*\n"
      ],
      "metadata": {
        "id": "YUx23TvP082f"
      },
      "id": "YUx23TvP082f"
    },
    {
      "cell_type": "code",
      "execution_count": null,
      "metadata": {
        "colab": {
          "base_uri": "https://localhost:8080/",
          "height": 437
        },
        "id": "b4e1a605-5d6e-4f82-ae24-6630118fb06d",
        "outputId": "370ddb99-f931-47cf-ebfc-42cc090d48f4"
      },
      "outputs": [
        {
          "output_type": "display_data",
          "data": {
            "text/plain": [
              "Plot with title “Bootstrap Distribution for Sample Proportion”"
            ],
            "image/png": "[encoded data removed]"
          },
          "metadata": {
            "image/png": {
              "width": 420,
              "height": 420
            }
          }
        }
      ],
      "source": [
        "##########################\n",
        "# cell is ready to run\n",
        "# no need for edits\n",
        "##########################\n",
        "\n",
        "set.seed(14)  # fix seed for randomization\n",
        "N <- 10^5  # Number of bootstrap samples\n",
        "boot.prop <- numeric(N)  # create vector to store bootstrap proportions\n",
        "n <- length(nyc.oz)\n",
        "\n",
        "# for loop that creates bootstrap dist\n",
        "for (i in 1:N)\n",
        "{\n",
        "  x <- sample(nyc.oz, size = n, replace = TRUE)  # pick a bootstrap resample\n",
        "  boot.prop[i] <- mean(x > 70)  # compute bootstrap sample proportion\n",
        "}\n",
        "\n",
        "boot.prop.est <- mean(boot.prop)\n",
        "boot.prop.se <- sd(boot.prop)\n",
        "samp.prop <- mean(nyc.oz > 70)\n",
        "\n",
        "# plot bootstrap distribution\n",
        "hist(boot.prop,\n",
        "     breaks=20,\n",
        "     xlab = \"p-hat, sample proportion\",\n",
        "     main = \"Bootstrap Distribution for Sample Proportion\",\n",
        "     cex.lab=1.5, cex.axis=1.5, cex.main=1.5)  # increase font size on labels\n",
        "\n",
        "# red line at the observed sample proportion\n",
        "abline(v = samp.prop, col = \"firebrick2\", lwd = 2, lty = 1)\n",
        "\n",
        "# blue line at the center of bootstrap dist\n",
        "abline(v = boot.prop.est, col = \"blue\", lwd = 2, lty = 2)"
      ],
      "id": "b4e1a605-5d6e-4f82-ae24-6630118fb06d"
    },
    {
      "cell_type": "markdown",
      "metadata": {
        "id": "3d4392af-cdd4-43fc-a815-4d3d40a979cb"
      },
      "source": [
        "### <a name=\"17q3a\">Question 3a</a>\n",
        "\n",
        "---\n",
        "\n",
        "Using the bootstrap statistics stored in `boot.prop`, find the lower and upper cutoffs for a 95% bootstrap percentile confidence interval for the proportion of all times the ozone concentration in NYC exceeds 70 ppb.\n",
        "\n",
        "<font color=\"mediumseagreen\">*Hint*: Recall the `quantile()` function in R. Run the command `?quantile` for a refresher!</a>\n",
        "\n",
        "#### <a name=\"17sol3a\">Solution to Question 3a</a>\n",
        "\n",
        "---\n",
        "\n",
        "Replace all four `??` in the code cell below with appropriate code. Then run the completed code to compute lower and upper cutoffs for a 95% bootstrap percentile confidence interval."
      ],
      "id": "3d4392af-cdd4-43fc-a815-4d3d40a979cb"
    },
    {
      "cell_type": "code",
      "execution_count": null,
      "metadata": {
        "id": "8bac744b-63fb-47cb-a91a-4ad2ba764fa0",
        "colab": {
          "base_uri": "https://localhost:8080/",
          "height": 52
        },
        "outputId": "74112f3e-ecde-4344-a7da-771a72bc7beb"
      },
      "outputs": [
        {
          "output_type": "display_data",
          "data": {
            "text/html": [
              "<strong>2.5%:</strong> 0.144144144144144"
            ],
            "text/markdown": "**2.5%:** 0.144144144144144",
            "text/latex": "\\textbf{2.5\\textbackslash{}\\%:} 0.144144144144144",
            "text/plain": [
              "     2.5% \n",
              "0.1441441 "
            ]
          },
          "metadata": {}
        },
        {
          "output_type": "display_data",
          "data": {
            "text/html": [
              "<strong>97.5%:</strong> 0.297297297297297"
            ],
            "text/markdown": "**97.5%:** 0.297297297297297",
            "text/latex": "\\textbf{97.5\\textbackslash{}\\%:} 0.297297297297297",
            "text/plain": [
              "    97.5% \n",
              "0.2972973 "
            ]
          },
          "metadata": {}
        }
      ],
      "source": [
        "# find cutoffs for 95% bootstrap CI\n",
        "lower.boot.95 <- quantile(boot.prop, probs = 0.025)  # find lower cutoff\n",
        "upper.boot.95 <- quantile(boot.prop, probs = 0.975)  # find upper cutoff\n",
        "\n",
        "# print values to screen\n",
        "lower.boot.95\n",
        "upper.boot.95"
      ],
      "id": "8bac744b-63fb-47cb-a91a-4ad2ba764fa0"
    },
    {
      "cell_type": "markdown",
      "metadata": {
        "id": "60fe7a77-1801-4afe-bca3-2cff5f157ca7"
      },
      "source": [
        "**Based on the output above, a 95% bootstrap percentile confidence interval is from $0.1441$ to $0.2973$.**\n",
        "\n",
        "<br>  \n",
        "\n",
        "\n"
      ],
      "id": "60fe7a77-1801-4afe-bca3-2cff5f157ca7"
    },
    {
      "cell_type": "markdown",
      "source": [
        "### <a name=\"17q3b\">Question 3b</a>\n",
        "\n",
        "---\n",
        "\n",
        "The code cell below plots a bootstrap distribution corresponding to the sample proportions stored in `boot.prop` along with two blue vertical lines to mark the lower and upper cutoffs for a 95% bootstrap percentile confidence interval. A red vertical line marks the value of the sample proportion we calculated from the original sample.\n",
        "\n",
        "Run the code cell below to illustrate the confidence interval on the bootstrap distribution. There is nothing to edit in the code cell. Then in the space below, explain the practical meaning of the interval to a person with little to no background in statistics."
      ],
      "metadata": {
        "id": "wPSUqvCT1AkW"
      },
      "id": "wPSUqvCT1AkW"
    },
    {
      "cell_type": "code",
      "execution_count": null,
      "metadata": {
        "colab": {
          "base_uri": "https://localhost:8080/",
          "height": 437
        },
        "id": "3ed90096-5c3c-4b6d-8061-64802c55a645",
        "outputId": "90833d9a-2149-49a5-c4a2-be92002cff67"
      },
      "outputs": [
        {
          "output_type": "display_data",
          "data": {
            "text/plain": [
              "Plot with title “Bootstrap Distribution for Sample Proportion”"
            ],
            "image/png": "[encoded data removed]"
          },
          "metadata": {
            "image/png": {
              "width": 420,
              "height": 420
            }
          }
        }
      ],
      "source": [
        "#################################\n",
        "# code is ready to run!\n",
        "# no need to edit the code cell\n",
        "#################################\n",
        "\n",
        "# plot bootstrap distribution\n",
        "hist(boot.prop,\n",
        "     breaks=20,\n",
        "     xlab = \"p-hat, sample proportion\",\n",
        "     main = \"Bootstrap Distribution for Sample Proportion\",\n",
        "     cex.lab=1.5, cex.axis=1.5, cex.main=1.5)  # increase font size on labels\n",
        "\n",
        "# red line at the observed sample proportion\n",
        "abline(v = mean(nyc.oz > 70), col = \"firebrick2\", lwd = 2, lty = 1)\n",
        "\n",
        "# blue lines marking cutoffs\n",
        "lower.boot.95 <- quantile(boot.prop, probs = 0.025)  # find lower cutoff\n",
        "upper.boot.95 <- quantile(boot.prop, probs = 0.975)  # find upper cutoff\n",
        "abline(v = lower.boot.95, col = \"blue\", lwd = 2, lty = 2)\n",
        "abline(v = upper.boot.95, col = \"blue\", lwd = 2, lty = 2)"
      ],
      "id": "3ed90096-5c3c-4b6d-8061-64802c55a645"
    },
    {
      "cell_type": "markdown",
      "metadata": {
        "id": "dd3feef7-189d-4932-a952-2ddc2f0a564f"
      },
      "source": [
        "#### <a name=\"17sol3b\">Solution to Question 3b</a>\n",
        "\n",
        "---\n",
        "\n",
        "Interpret the confidence interval from [Question 3a](#17q3a).\n",
        "\n",
        "<br>\n",
        "\n",
        "- A plausible range of values for the percentage of all time the ozone concentration in New York City is greater than 70 ppb is from $14.41\\%$ to $29.73\\%$ of the time.\n",
        "\n",
        "- We can be about 95% certain the percentage of time that the ozone concentration in New York City is greater than 70 ppb is between $14.41\\%$ and $29.73\\%$ of the time.\n",
        "\n",
        "- There is a 95% chance the interval from $14.41\\%$ to $29.73\\%$ contains the actual percentage of time that the ozone concentration in New York City is greater than 70 ppb.\n",
        "\n",
        "<br>\n",
        "\n"
      ],
      "id": "dd3feef7-189d-4932-a952-2ddc2f0a564f"
    },
    {
      "cell_type": "markdown",
      "source": [
        "### <a name=\"17q3c\">Question 3c</a>\n",
        "\n",
        "---\n",
        "\n",
        "Sometimes, it is desirable to describe the interval as some value plus or minus some margin of error:\n",
        "\n",
        "$$\\mbox{Symmetric Interval:} \\qquad \\mbox{point estimate} \\pm \\mbox{margin of error}$$\n",
        "\n",
        "Construct a\n",
        "<font color=\"dodgerblue\">**symmetric 95% bootstrap confidence interval**</font> for the proportion of time the ozone concentration in NYC exceeds 70 ppb. Compare the symmetric confidence interval to your percentile confidence interval in [Question 3a](#17q3a).\n",
        "\n",
        "\n",
        "<font color=\"mediumseagreen\">*Hint: Recall for normal distributions, approximately 95% of the data is within 2 standard deviations of center of the distribution.*</font>\n",
        "\n",
        "#### <a name=\"17sol3c\">Solution to Question 3c</a>\n",
        "\n",
        "---\n",
        "\n",
        "Replace each `??` in the code cell below with appropriate code."
      ],
      "metadata": {
        "id": "e0Cy-fuS1CaP"
      },
      "id": "e0Cy-fuS1CaP"
    },
    {
      "cell_type": "code",
      "execution_count": null,
      "metadata": {
        "id": "dafb7be5-f0c2-49f8-9c57-254e20a46ed5",
        "colab": {
          "base_uri": "https://localhost:8080/",
          "height": 52
        },
        "outputId": "e34dc2f8-aaff-4c8f-85e4-77858b8a1ed1"
      },
      "outputs": [
        {
          "output_type": "display_data",
          "data": {
            "text/html": [
              "0.138215285909996"
            ],
            "text/markdown": "0.138215285909996",
            "text/latex": "0.138215285909996",
            "text/plain": [
              "[1] 0.1382153"
            ]
          },
          "metadata": {}
        },
        {
          "output_type": "display_data",
          "data": {
            "text/html": [
              "0.294217146522436"
            ],
            "text/markdown": "0.294217146522436",
            "text/latex": "0.294217146522436",
            "text/plain": [
              "[1] 0.2942171"
            ]
          },
          "metadata": {}
        }
      ],
      "source": [
        "samp.prop - 2 * boot.prop.se  # going 2 SE's below the observed sample proportion\n",
        "samp.prop + 2 * boot.prop.se   # going 2 SE's above the observed sample proportion"
      ],
      "id": "dafb7be5-f0c2-49f8-9c57-254e20a46ed5"
    },
    {
      "cell_type": "markdown",
      "metadata": {
        "id": "0c8b376e-23d4-4e31-b299-3ba68c880772"
      },
      "source": [
        "**Based on the output above, a symmetric 95% bootstrap confidence\n",
        "interval is from $0.1382$ to $0.2942$.**\n",
        "\n",
        "<br>  \n",
        "\n",
        "\n",
        "<br>\n",
        "\n"
      ],
      "id": "0c8b376e-23d4-4e31-b299-3ba68c880772"
    },
    {
      "cell_type": "code",
      "execution_count": null,
      "metadata": {
        "colab": {
          "base_uri": "https://localhost:8080/",
          "height": 52
        },
        "outputId": "35f18893-2588-4e50-e90a-6da744883f6c",
        "id": "zoj_zEJR7Paj"
      },
      "outputs": [
        {
          "output_type": "display_data",
          "data": {
            "text/html": [
              "0.138342493117204"
            ],
            "text/markdown": "0.138342493117204",
            "text/latex": "0.138342493117204",
            "text/plain": [
              "[1] 0.1383425"
            ]
          },
          "metadata": {}
        },
        {
          "output_type": "display_data",
          "data": {
            "text/html": [
              "0.294344353729643"
            ],
            "text/markdown": "0.294344353729643",
            "text/latex": "0.294344353729643",
            "text/plain": [
              "[1] 0.2943444"
            ]
          },
          "metadata": {}
        }
      ],
      "source": [
        "# or we can choose to center estimate at the center of the bootstrap dist\n",
        "boot.prop.est - 2 * boot.prop.se  # going 2 SE's below the mean of bootstrap dist\n",
        "boot.prop.est + 2 * boot.prop.se   # going 2 SE's above the mean of bootstrap dist"
      ],
      "id": "zoj_zEJR7Paj"
    },
    {
      "cell_type": "markdown",
      "metadata": {
        "id": "aTm0VCy67Pau"
      },
      "source": [
        "**Based on the output above, another symmetric 95% bootstrap confidence\n",
        "interval is from $0.1383$ to $0.2943$.**\n",
        "\n",
        "<br>  \n",
        "\n",
        "\n",
        "<br>\n",
        "\n"
      ],
      "id": "aTm0VCy67Pau"
    },
    {
      "cell_type": "markdown",
      "source": [
        "# <a name=\"17adjust-cl\">Adjusting the Confidence Level</a>\n",
        "\n",
        "---\n",
        "\n",
        "We would expect the actual value of the unknown population parameter to equal the corresponding statistic calculated from one of the 100,000 bootstrap resamples in our distribution. Since 95% of the bootstrap statistics are inside the confidence interval:\n",
        "\n",
        "> **There is about a 95% chance the bootstrap percentile confidence interval contains the actual value of the population paramter.**\n",
        "\n",
        "The <font color=\"dodgerblue\">**confidence level**</font> is the <font color=\"dodgerblue\">**success rate**</font> of the interval estimate. We can choose different confidence levels for an interval estimate.\n",
        "\n",
        "-   A 95% confidence level is most common.\n",
        "-   Other common confidence levels are 80%, 90%, 99% and 99.9%.\n",
        "-   We choose a confidence level. It is not something we calculate.\n",
        "-   **What happens to an interval estimate when we change the confidence level?**\n",
        "\n"
      ],
      "metadata": {
        "id": "gNkBBw3g1F-u"
      },
      "id": "gNkBBw3g1F-u"
    },
    {
      "cell_type": "markdown",
      "source": [
        "## <a name=\"17q4\">Question 4</a>\n",
        "\n",
        "---\n",
        "\n",
        "In [Question 2](#17q2), we created a bootstrap distribution (stored in the vector `boot.prop`) for the sample proportion of times the ozone concentration exceeds 70 ppb. In [Question 3](#17q3), we used the bootstrap distribution to construct a 95% bootstrap percentile confidence interval. In this question, we will investigate what happens when we change the confidence level.\n",
        "\n"
      ],
      "metadata": {
        "id": "r_pRoiV21HQt"
      },
      "id": "r_pRoiV21HQt"
    },
    {
      "cell_type": "markdown",
      "source": [
        "### <a name=\"17q4a\">Question 4a</a>\n",
        "\n",
        "---\n",
        "\n",
        "Complete the first code cell below to give a 90% bootstrap percentile confidence interval to estimate the proportion of all time in NYC when the ozone concentration exceeds 70 ppb.\n",
        "\n",
        "Then complete the second code cell to plot a histogram of the bootstrap distribution from [Question 2](#17q2) with the upper and lower 90% bootstrap confidence interval cutoffs marked with vertical lines similar to the plot in [Question 3b](#17q3b).\n",
        "\n",
        "#### <a name=\"17sol4a\">Solution to Question 4a</a>\n",
        "\n",
        "---\n",
        "\n",
        "**Based on the output below, a 90% bootstrap percentile confidence interval is from $0.1532$ to $0.2793$.**\n",
        "\n",
        "Why do we use `probs = 0.05` and `probs = 0.95` in the code cell below? If we want to identify the middle 90% of the bootstrap statistics, the other 10% of the bootstrap statistics are split evenly between the two tails.\n",
        "  - 5% is below the lower cutoff, or the area to the left is $0.05$.\n",
        "  - 5% is above the upper cutoff, so the area to the left is $0.95$.\n",
        "\n",
        "<br>  \n",
        "<br>\n",
        "\n",
        "Replace all four `??` in the code cell below with appropriate code. Then run the completed code to compute lower and upper cutoffs for a 90% bootstrap percentile confidence interval."
      ],
      "metadata": {
        "id": "bRHaJxJM1IV2"
      },
      "id": "bRHaJxJM1IV2"
    },
    {
      "cell_type": "code",
      "execution_count": null,
      "metadata": {
        "id": "8394771b-dee0-4b29-b4b8-b2726c4e7685",
        "colab": {
          "base_uri": "https://localhost:8080/",
          "height": 52
        },
        "outputId": "686873e9-7b94-479d-a6f7-75988965b4f3"
      },
      "outputs": [
        {
          "output_type": "display_data",
          "data": {
            "text/html": [
              "<strong>5%:</strong> 0.153153153153153"
            ],
            "text/markdown": "**5%:** 0.153153153153153",
            "text/latex": "\\textbf{5\\textbackslash{}\\%:} 0.153153153153153",
            "text/plain": [
              "       5% \n",
              "0.1531532 "
            ]
          },
          "metadata": {}
        },
        {
          "output_type": "display_data",
          "data": {
            "text/html": [
              "<strong>95%:</strong> 0.279279279279279"
            ],
            "text/markdown": "**95%:** 0.279279279279279",
            "text/latex": "\\textbf{95\\textbackslash{}\\%:} 0.279279279279279",
            "text/plain": [
              "      95% \n",
              "0.2792793 "
            ]
          },
          "metadata": {}
        }
      ],
      "source": [
        "# find cutoffs for 90% bootstrap CI\n",
        "lower.prop.90 <- quantile(boot.prop, probs = 0.05)  # find lower cutoff\n",
        "upper.prop.90 <- quantile(boot.prop, probs = 0.95)  # find upper cutoff\n",
        "\n",
        "# print to screen\n",
        "lower.prop.90\n",
        "upper.prop.90"
      ],
      "id": "8394771b-dee0-4b29-b4b8-b2726c4e7685"
    },
    {
      "cell_type": "markdown",
      "metadata": {
        "id": "b9aa56a3-5db1-45cf-8202-f845b84dd7e6"
      },
      "source": [
        "Nothing to edit in the code cell below. Just be sure you first run the\n",
        "code cell above to calculate and store the cutoffs `lower.prop.90` and\n",
        "`upper.prop.90`."
      ],
      "id": "b9aa56a3-5db1-45cf-8202-f845b84dd7e6"
    },
    {
      "cell_type": "code",
      "execution_count": null,
      "metadata": {
        "id": "d3edc0b7-56f1-44aa-a09e-479c9b7380ab",
        "colab": {
          "base_uri": "https://localhost:8080/",
          "height": 437
        },
        "outputId": "fc892608-8211-4a76-e6d6-40c5f0a044e7"
      },
      "outputs": [
        {
          "output_type": "display_data",
          "data": {
            "text/plain": [
              "Plot with title “Bootstrap Distribution for Sample Proportion”"
            ],
            "image/png": "[encoded data removed]"
          },
          "metadata": {
            "image/png": {
              "width": 420,
              "height": 420
            }
          }
        }
      ],
      "source": [
        "##################################\n",
        "# code is ready to run!\n",
        "# no need to edit the code cell\n",
        "##################################\n",
        "\n",
        "# plot bootstrap distribution\n",
        "hist(boot.prop,\n",
        "     breaks=20,\n",
        "     xlab = \"p-hat, sample proportion\",\n",
        "     main = \"Bootstrap Distribution for Sample Proportion\",\n",
        "     cex.lab=1.5, cex.axis=1.5, cex.main=1.5)  # increase font size on labels\n",
        "\n",
        "# red line at the observed sample proportion\n",
        "abline(v = mean(nyc.oz > 70), col = \"firebrick2\", lwd = 2, lty = 1)\n",
        "\n",
        "# blue lines marking cutoffs\n",
        "abline(v = lower.prop.90, col = \"blue\", lwd = 2, lty = 2)\n",
        "abline(v = upper.prop.90, col = \"blue\", lwd = 2, lty = 2)"
      ],
      "id": "d3edc0b7-56f1-44aa-a09e-479c9b7380ab"
    },
    {
      "cell_type": "markdown",
      "metadata": {
        "id": "6449bd8b-40c9-41ee-9b47-e6eb0cb7409a"
      },
      "source": [
        "### <a name=\"17q4b\">Question 4b</a>\n",
        "\n",
        "---\n",
        "\n",
        "Complete the first code cell below to give a 99% bootstrap percentile confidence interval to estimate the proportion of all time in NYC when the ozone concentration exceeds 70 ppb.\n",
        "\n",
        "Then complete the second code cell to plot a histogram of the bootstrap distribution from [Question 2](#17q2) with the upper and lower 99% bootstrap confidence interval cutoffs marked with vertical lines similar to the plot in [Question 3b](#17q3b).\n",
        "\n",
        "#### <a name=\"17sol4b\">Solution to Question 4b</a>\n",
        "\n",
        "---\n",
        "\n",
        "**Based on the output below, a 99% bootstrap percentile confidence interval is from $0.1171$ to $0.3243$.**\n",
        "\n",
        "<br>  \n",
        "\n",
        "Why do we use `probs = 0.005` and `probs = 0.995` in the code cell below? If we want to identify the middle 99% of the bootstrap statistics, the other 1% of the bootstrap statistics are split evenly between the two tails.\n",
        "  - 0.5% is below the lower cutoff, or the area to the left is $0.005$.\n",
        "  - 0.5% is above the upper cutoff, so the area to the left is $0.995$.\n",
        "\n",
        "<br>  \n",
        "<br>\n",
        "\n",
        "Replace all four `??` in the code cell below with appropriate code. Then run the completed code to compute lower and upper cutoffs for a 99% bootstrap percentile confidence interval."
      ],
      "id": "6449bd8b-40c9-41ee-9b47-e6eb0cb7409a"
    },
    {
      "cell_type": "code",
      "execution_count": null,
      "metadata": {
        "id": "d9e975c6-3d7f-4e66-b575-683fba4c5cbb",
        "colab": {
          "base_uri": "https://localhost:8080/",
          "height": 52
        },
        "outputId": "583be338-55be-482f-c7ff-f9621471e6ac"
      },
      "outputs": [
        {
          "output_type": "display_data",
          "data": {
            "text/html": [
              "<strong>0.5%:</strong> 0.117117117117117"
            ],
            "text/markdown": "**0.5%:** 0.117117117117117",
            "text/latex": "\\textbf{0.5\\textbackslash{}\\%:} 0.117117117117117",
            "text/plain": [
              "     0.5% \n",
              "0.1171171 "
            ]
          },
          "metadata": {}
        },
        {
          "output_type": "display_data",
          "data": {
            "text/html": [
              "<strong>99.5%:</strong> 0.324324324324324"
            ],
            "text/markdown": "**99.5%:** 0.324324324324324",
            "text/latex": "\\textbf{99.5\\textbackslash{}\\%:} 0.324324324324324",
            "text/plain": [
              "    99.5% \n",
              "0.3243243 "
            ]
          },
          "metadata": {}
        }
      ],
      "source": [
        "# find cutoffs for 99% bootstrap CI\n",
        "lower.prop.99 <- quantile(boot.prop, probs = 0.005)  # find lower cutoff\n",
        "upper.prop.99 <- quantile(boot.prop, probs = 0.995)  # find upper cutoff\n",
        "\n",
        "# print to screen\n",
        "lower.prop.99\n",
        "upper.prop.99"
      ],
      "id": "d9e975c6-3d7f-4e66-b575-683fba4c5cbb"
    },
    {
      "cell_type": "markdown",
      "metadata": {
        "id": "56c1c688-7c3b-49c2-827c-2aa02708f029"
      },
      "source": [
        "Nothing to edit in the code cell below. Just be sure you first run the\n",
        "code cell above to calculate and store the cutoffs `lower.prop.99` and\n",
        "`upper.prop.99`."
      ],
      "id": "56c1c688-7c3b-49c2-827c-2aa02708f029"
    },
    {
      "cell_type": "code",
      "execution_count": null,
      "metadata": {
        "id": "8110bb75-ccc0-4317-9fe4-58fe7f8006eb",
        "colab": {
          "base_uri": "https://localhost:8080/",
          "height": 437
        },
        "outputId": "969b03e0-7ee3-4822-9e37-02427eff91b2"
      },
      "outputs": [
        {
          "output_type": "display_data",
          "data": {
            "text/plain": [
              "Plot with title “Bootstrap Distribution for Sample Proportion”"
            ],
            "image/png": "[encoded data removed]"
          },
          "metadata": {
            "image/png": {
              "width": 420,
              "height": 420
            }
          }
        }
      ],
      "source": [
        "##################################\n",
        "# code is ready to run!\n",
        "# no need to edit the code cell\n",
        "##################################\n",
        "\n",
        "# plot bootstrap distribution\n",
        "hist(boot.prop,\n",
        "     breaks=20,\n",
        "     xlab = \"p-hat, sample proportion\",\n",
        "     main = \"Bootstrap Distribution for Sample Proportion\",\n",
        "     cex.lab=1.5, cex.axis=1.5, cex.main=1.5)  # increase font size on labels\n",
        "\n",
        "# red line at the observed sample proportion\n",
        "abline(v = mean(nyc.oz > 70), col = \"firebrick2\", lwd = 2, lty = 1)\n",
        "\n",
        "# blue lines marking cutoffs\n",
        "abline(v = lower.prop.99, col = \"blue\", lwd = 2, lty = 2)\n",
        "abline(v = upper.prop.99, col = \"blue\", lwd = 2, lty = 2)"
      ],
      "id": "8110bb75-ccc0-4317-9fe4-58fe7f8006eb"
    },
    {
      "cell_type": "markdown",
      "metadata": {
        "id": "c0506227-09a3-4954-b26d-9b3af20ba5ad"
      },
      "source": [
        "### <a name=\"17q4c\">Question 4c</a>\n",
        "\n",
        "---\n",
        "\n",
        "When we decreased the confidence level from 95% in [Question 3a](#17q3a) to 90% in [Question 4a](#17q4a), did the interval estimate get wider or more narrow? Explain why this makes practical sense. Feel free to explain using the [fishing analogy](#17point-int) from earlier.\n",
        "\n",
        "#### <a name=\"17sol4c\">Solution to Question 4c</a>\n",
        "\n",
        "---\n",
        "\n",
        "<br>  \n",
        "\n",
        "- If we decrease the confidence level, the resulting interval estimate becomes more narrow.\n",
        "  - If we use a smaller net, we are less likely to catch a fish.\n",
        "\n",
        "Conversely:\n",
        "\n",
        "- If we increase the confidence level, the resulting interval estimate becomes wider.\n",
        "  - If we use a wider net, we are more likely to catch a fish.\n",
        "\n",
        "<br>\n",
        "\n"
      ],
      "id": "c0506227-09a3-4954-b26d-9b3af20ba5ad"
    },
    {
      "cell_type": "markdown",
      "source": [
        "### <a name=\"17q4d\">Question 4d</a>\n",
        "\n",
        "---\n",
        "\n",
        "Explain the trade-off between choosing a confidence level and the precision of the interval estimate. In particular, why choose a 95% confidence interval over an interval that has a greater chance of success, such as a 99% confidence interval?\n",
        "\n",
        "#### <a name=\"17sol4d\">Solution to Question 4d</a>\n",
        "\n",
        "---\n",
        "\n",
        "<br>  \n",
        "\n",
        "If we choose a larger confidence level, then the resulting interval is more likely to succesfully contain the population parameter. However, since interval is wider, we end up with a less accurate estimate.\n",
        "\n",
        "<br>\n",
        "\n",
        "If we choose a smaller confidence level, then the resulting interval is less likely to succesfully contain the population parameter. However, since interval is more narrow, we end up with a more accurate estimate that is less likely to contain the actual value of the population parameter.\n",
        "\n",
        "\n",
        "\n",
        "<br>\n",
        "\n"
      ],
      "metadata": {
        "id": "bcgUAHc41PI3"
      },
      "id": "bcgUAHc41PI3"
    },
    {
      "cell_type": "markdown",
      "source": [
        "# <a name=\"17ind-pop\">Comparing Two Independent Populations</a>\n",
        "\n",
        "---\n",
        "\n",
        "\n",
        "\n",
        "<figure>\n",
        "<img\n",
        "src=\"https://static01.nyt.com/images/2020/01/28/well/physed-babies/physed-babies-jumbo.jpg?quality=75&amp;auto=webp\"\n",
        "alt=\"Toddlers\" width = \"50%\"/>\n",
        "<figcaption aria-hidden=\"true\">\n",
        "Credit: iStock</a>\n",
        "</figcaption>\n",
        "</figure>\n",
        "\n",
        "\n",
        "Thus far, we have been bootstrapping from a sample that has just one variable of interest. For example, in `nyc.oz` we have $n=111$ observed ozone concentrations in NYC. For each observation in our sample, we have one variable of interest, namely the ozone concentration (in ppb). In statistics, we are often interested in determining whether there is an association between two or more different variables. For example, we can ask:\n",
        "\n",
        "> Does smoking during pregnancy have an affect on the weight of the baby at birth?\n",
        "\n",
        "To answer this question, we can collect data from a random sample of newborn babies. However, we need to collect more than one variable for each newborn in our sample to answer the question above.\n",
        "\n"
      ],
      "metadata": {
        "id": "tYT34J-q1NUd"
      },
      "id": "tYT34J-q1NUd"
    },
    {
      "cell_type": "markdown",
      "source": [
        "## <a name=\"17q5\">Question 5</a>\n",
        "\n",
        "---\n",
        "\n",
        "Explain how you could design a study to collect data that could help determine whether smoking during pregnancy has an affect on the weight of the baby at birth.\n",
        "\n",
        "### <a name=\"17sol5\">Solution to Question 5</a>\n",
        "\n",
        "---\n",
        "\n",
        "<br>  \n",
        "\n",
        "Answers will vary, and certainly there are moral, ethic, and logistical hurdles that might make such a study impossible or unethical.\n",
        "\n",
        "<br>\n",
        "\n"
      ],
      "metadata": {
        "id": "lG6FkzhV1L2F"
      },
      "id": "lG6FkzhV1L2F"
    },
    {
      "cell_type": "markdown",
      "source": [
        "# <a name=\"17smoke-wt\">Case Study: Smoking and Birth Weights</a>\n",
        "\n",
        "---\n",
        "\n",
        "To help explore this question, we will use the sample in the data frame<sup>3</sup> `birthwt` that is in the package `MASS`. In the code cell below, the `MASS` package is loaded and numerical summaries for all variables in `birthwt` are computed and displayed.\n",
        "\n",
        "<br>\n",
        "\n",
        "<font size=2>3. Baystate Medical Center, Springfield, Massachusetts.</font>"
      ],
      "metadata": {
        "id": "ttImUEFZV98g"
      },
      "id": "ttImUEFZV98g"
    },
    {
      "cell_type": "markdown",
      "source": [
        "## <a name=\"17load-wt\">Loading the Birth Weight Sample</a>\n",
        "\n",
        "---\n"
      ],
      "metadata": {
        "id": "CVvYsrfDWALU"
      },
      "id": "CVvYsrfDWALU"
    },
    {
      "cell_type": "code",
      "execution_count": null,
      "metadata": {
        "id": "b1f0a65a-9164-4695-bf13-215e61e65769",
        "colab": {
          "base_uri": "https://localhost:8080/",
          "height": 382
        },
        "outputId": "9a19015a-879e-40e5-fbaf-c757a9eb08f1"
      },
      "outputs": [
        {
          "output_type": "display_data",
          "data": {
            "text/plain": [
              "      low              age             lwt             race      \n",
              " Min.   :0.0000   Min.   :14.00   Min.   : 80.0   Min.   :1.000  \n",
              " 1st Qu.:0.0000   1st Qu.:19.00   1st Qu.:110.0   1st Qu.:1.000  \n",
              " Median :0.0000   Median :23.00   Median :121.0   Median :1.000  \n",
              " Mean   :0.3122   Mean   :23.24   Mean   :129.8   Mean   :1.847  \n",
              " 3rd Qu.:1.0000   3rd Qu.:26.00   3rd Qu.:140.0   3rd Qu.:3.000  \n",
              " Max.   :1.0000   Max.   :45.00   Max.   :250.0   Max.   :3.000  \n",
              "     smoke             ptl               ht                ui        \n",
              " Min.   :0.0000   Min.   :0.0000   Min.   :0.00000   Min.   :0.0000  \n",
              " 1st Qu.:0.0000   1st Qu.:0.0000   1st Qu.:0.00000   1st Qu.:0.0000  \n",
              " Median :0.0000   Median :0.0000   Median :0.00000   Median :0.0000  \n",
              " Mean   :0.3915   Mean   :0.1958   Mean   :0.06349   Mean   :0.1481  \n",
              " 3rd Qu.:1.0000   3rd Qu.:0.0000   3rd Qu.:0.00000   3rd Qu.:0.0000  \n",
              " Max.   :1.0000   Max.   :3.0000   Max.   :1.00000   Max.   :1.0000  \n",
              "      ftv              bwt      \n",
              " Min.   :0.0000   Min.   : 709  \n",
              " 1st Qu.:0.0000   1st Qu.:2414  \n",
              " Median :0.0000   Median :2977  \n",
              " Mean   :0.7937   Mean   :2945  \n",
              " 3rd Qu.:1.0000   3rd Qu.:3487  \n",
              " Max.   :6.0000   Max.   :4990  "
            ]
          },
          "metadata": {}
        }
      ],
      "source": [
        "library(MASS)  # load MASS package\n",
        "summary(birthwt)  # summary of data frame"
      ],
      "id": "b1f0a65a-9164-4695-bf13-215e61e65769"
    },
    {
      "cell_type": "markdown",
      "metadata": {
        "id": "1b9ffce7-e560-41cb-a065-660201e3d36e"
      },
      "source": [
        "## <a name=\"17q6\">Question 6</a>\n",
        "\n",
        "---\n",
        "\n",
        "How many observations are in the data set? How many variables? Which variables are categorical and which are quantitative? Which variables are most important in helping determine whether smoking during pregnancy has an affect on the weight of the baby at birth?\n",
        "\n",
        "### <a name=\"17sol6\">Solution to Question 6</a>\n",
        "\n",
        "---\n",
        "\n",
        "<br>  \n",
        "\n",
        "The command `nrow(birthwt)` counts the number of rows (observations) in the data frame `birthwt`. From the output below, we see there are $n=189$ total observations in sample.\n",
        "\n",
        "<br>\n",
        "\n",
        "There 10 variables, all of which are being stored as quantitative variables at first. However, after looking at the help manual for `birthwt`, the following variables should actually be converted to categorical factors:\n",
        "\n",
        "- `low`\n",
        "- `race`\n",
        "- `smoke`\n",
        "- `ht`\n",
        "- `ui`\n",
        "\n",
        "The most useful variables to focus our attention would be `smoke`, `low`, and `bwt`.\n",
        "\n",
        "<br>\n",
        "\n"
      ],
      "id": "1b9ffce7-e560-41cb-a065-660201e3d36e"
    },
    {
      "cell_type": "code",
      "source": [
        "?birthwt"
      ],
      "metadata": {
        "id": "BnshCIPwAe3P"
      },
      "id": "BnshCIPwAe3P",
      "execution_count": null,
      "outputs": []
    },
    {
      "cell_type": "code",
      "source": [
        "nrow(birthwt)"
      ],
      "metadata": {
        "colab": {
          "base_uri": "https://localhost:8080/",
          "height": 34
        },
        "id": "yFaLnp0s_6BD",
        "outputId": "05437794-3d09-40d7-f571-239db0e6da80"
      },
      "id": "yFaLnp0s_6BD",
      "execution_count": null,
      "outputs": [
        {
          "output_type": "display_data",
          "data": {
            "text/html": [
              "189"
            ],
            "text/markdown": "189",
            "text/latex": "189",
            "text/plain": [
              "[1] 189"
            ]
          },
          "metadata": {}
        }
      ]
    },
    {
      "cell_type": "markdown",
      "source": [
        "## <a name=\"17clean-wt\">Cleaning the Birth Weight Data</a>\n",
        "\n",
        "---\n",
        "\n",
        "The variable `smoke` is being stored as a quantitative variable.\n",
        "\n",
        "-   Pregnant parents that did not smoke have a `smoke` value equal to `0`.\n",
        "-   Pregnant parents that were smokers have a `smoke` value equal to `1`.\n",
        "-   Run the code cell below to make these categories more clearly labeled.\n",
        "    -   Non-smokers are assigned the character string `\"no\"`.\n",
        "    -   Smokers are assigned the character string `\"smoker\"`.\n",
        "    -   We use the `factor()` command to convert the `smoke` variable to   a categorical variable.\n",
        "    -   The output tells us out of 189 parents, 115 self-identified as       non-smokers and 74 as smokers."
      ],
      "metadata": {
        "id": "OGZv1kkh1VoF"
      },
      "id": "OGZv1kkh1VoF"
    },
    {
      "cell_type": "code",
      "execution_count": null,
      "metadata": {
        "id": "7333348d-1683-470d-b358-7dfc4ca2ebff",
        "colab": {
          "base_uri": "https://localhost:8080/",
          "height": 34
        },
        "outputId": "7ad0c4f9-d572-4ada-be52-07e1a956524d"
      },
      "outputs": [
        {
          "output_type": "display_data",
          "data": {
            "text/html": [
              "<style>\n",
              ".dl-inline {width: auto; margin:0; padding: 0}\n",
              ".dl-inline>dt, .dl-inline>dd {float: none; width: auto; display: inline-block}\n",
              ".dl-inline>dt::after {content: \":\\0020\"; padding-right: .5ex}\n",
              ".dl-inline>dt:not(:first-of-type) {padding-left: .5ex}\n",
              "</style><dl class=dl-inline><dt>no</dt><dd>115</dd><dt>smoker</dt><dd>74</dd></dl>\n"
            ],
            "text/markdown": "no\n:   115smoker\n:   74\n\n",
            "text/latex": "\\begin{description*}\n\\item[no] 115\n\\item[smoker] 74\n\\end{description*}\n",
            "text/plain": [
              "    no smoker \n",
              "   115     74 "
            ]
          },
          "metadata": {}
        }
      ],
      "source": [
        "birthwt$smoke[birthwt$smoke == 0]  <- \"no\"\n",
        "birthwt$smoke[birthwt$smoke == 1]  <- \"smoker\"\n",
        "birthwt$smoke <- factor(birthwt$smoke)\n",
        "summary(birthwt$smoke)"
      ],
      "id": "7333348d-1683-470d-b358-7dfc4ca2ebff"
    },
    {
      "cell_type": "markdown",
      "metadata": {
        "id": "d237bb3e-4244-4e8a-ad9e-fa6eafde8786"
      },
      "source": [
        "## <a name=\"17q7\">Question 7</a>\n",
        "\n",
        "---\n",
        "\n",
        "Complete the code cell below to create a side-by-side box plots to compare the distribution of weights for smokers and non-smokers.\n",
        "\n",
        "#### <a name=\"17sol7\">Solution to Question 7</a>\n",
        "\n",
        "---\n",
        "\n",
        "Replace each `??` in the code cell below to generate side-by-side box plots for comparison."
      ],
      "id": "d237bb3e-4244-4e8a-ad9e-fa6eafde8786"
    },
    {
      "cell_type": "code",
      "execution_count": null,
      "metadata": {
        "id": "7ae2fdde-1674-4503-acf1-906775064141",
        "colab": {
          "base_uri": "https://localhost:8080/",
          "height": 437
        },
        "outputId": "4e7a429e-edfc-4041-e425-eb51ac60131e"
      },
      "outputs": [
        {
          "output_type": "display_data",
          "data": {
            "text/plain": [
              "Plot with title “Birth Weights from Smokers and Non-Smokers”"
            ],
            "image/png": "[encoded data removed]"
          },
          "metadata": {
            "image/png": {
              "width": 420,
              "height": 420
            }
          }
        }
      ],
      "source": [
        "# create side by side box plots\n",
        "plot(bwt ~ smoke, data = birthwt,\n",
        "     col = c(\"springgreen4\", \"firebrick2\"),\n",
        "     main = \"Birth Weights from Smokers and Non-Smokers\",\n",
        "     xlab = \"Smoking Status of Pregnant Parent\",\n",
        "     ylab = \"Birth Weight (in grams)\",\n",
        "     names = c(\"Non-smoker\", \"Smoker\"),\n",
        "     cex.lab=1.5, cex.axis=1.5, cex.main=1.5)  # increase font size on labels"
      ],
      "id": "7ae2fdde-1674-4503-acf1-906775064141"
    },
    {
      "cell_type": "markdown",
      "metadata": {
        "id": "683017bf-336d-48a5-9253-425ef91366eb"
      },
      "source": [
        "<br>  \n",
        "<br>\n",
        "\n"
      ],
      "id": "683017bf-336d-48a5-9253-425ef91366eb"
    },
    {
      "cell_type": "markdown",
      "source": [
        "## <a name=\"17-diff-means\">Difference in Two Independent Means</a>\n",
        "\n",
        "---\n",
        "\n",
        "Our statistical question is:\n",
        "\n",
        "> Does smoking during pregnancy have an affect on the weight of the baby at birth?\n",
        "\n",
        "In this example, we have two independent populations of parents to\n",
        "consider.\n",
        "\n",
        "-   All pregnant parents that did not smoke during pregnancy.\n",
        "-   All pregnant parents that smoked during pregnancy.\n",
        "-   A pregnant person is either in one group or the other, but not both.\n",
        "\n",
        "Ideally, if we had access to data on every baby that has ever been born, then we could:\n",
        "\n",
        "-   Calculate $\\mu_{\\rm{non}}$, the mean birth weight of *all* children   of non-smokers.\n",
        "-   Calculate $\\mu_{\\rm{smoker}}$, the mean birth weight of *all*   children of smokers.\n",
        "-   Consider how large is the difference in the two means,   $\\mu_{\\rm{non}} - \\mu_{\\rm{smoker}}$.\n",
        "    -   If the difference in populations means is 0, there is no       difference in mean birth weights.\n",
        "    -   If the difference is not 0, then there is a difference in mean       birth weights.\n",
        "\n",
        "Although we have data from a random sample rather than the entire\n",
        "population, we can perform equivalent analysis comparing two sample\n",
        "means:\n",
        "\n",
        "-   Calculate $\\bar{x}_{\\rm{non}}$, the *sample* mean birth weight of   children of non-smokers in the sample.\n",
        "-   Calculate $\\bar{x}_{\\rm{smoker}}$, the *sample* mean birth weight of   children of smokers in the sample.\n",
        "-   Consider how large is the difference in the two means,   $\\bar{x}_{\\rm{non}} - \\bar{x}_{\\rm{smoker}}$.\n",
        "    -   If the difference is *close to zero*, there is likely no       difference in the population means.\n",
        "    -   If the difference is *not close to zero*, there likely is a       difference in the population means.\n",
        "    -   How can we determine what we mean by “close to zero”?\n",
        "\n"
      ],
      "metadata": {
        "id": "Q1Hy1LSP1YnJ"
      },
      "id": "Q1Hy1LSP1YnJ"
    },
    {
      "cell_type": "markdown",
      "source": [
        "## <a name=\"17subset\">Subsetting Into Two Independent Samples</a>\n",
        "\n",
        "---\n",
        "\n",
        "At the moment, we have all of the sample data for smokers and non-smokers stored in the same data frame named `birthwt`. How can we calculate the sample mean birth weights for the non-smoking group separate from the smoking group? One way to compare the two samples is to split the sample into two independent subsets based on whether or not the child was birthed by a smoker or not.\n",
        "\n"
      ],
      "metadata": {
        "id": "ULgR7QrC1aHX"
      },
      "id": "ULgR7QrC1aHX"
    },
    {
      "cell_type": "markdown",
      "source": [
        "## <a name=\"17q8\">Question 8</a>\n",
        "\n",
        "---\n",
        "\n",
        "Answer the questions to find an initial point estimate for the difference in the mean birth weights of all children born to a non-smoking parent compared to the mean birth weight of all children born to a parent that did smoke while pregnant.\n",
        "\n"
      ],
      "metadata": {
        "id": "2a6iRcCj1cbv"
      },
      "id": "2a6iRcCj1cbv"
    },
    {
      "cell_type": "markdown",
      "source": [
        "### <a name=\"17q8a\">Question 8a</a>\n",
        "\n",
        "---\n",
        "\n",
        "Complete each of the `subset()` commands below to subset the data into two independent samples: parent was a smoker and parent was a non-smoker.\n",
        "\n",
        "#### <a name=\"17sol8a\">Solution to Question 8a</a>\n",
        "\n",
        "---"
      ],
      "metadata": {
        "id": "hr9O8UxL1duW"
      },
      "id": "hr9O8UxL1duW"
    },
    {
      "cell_type": "code",
      "execution_count": null,
      "metadata": {
        "id": "5d72d7ec-5936-4f9f-b897-6bc5bf62df7b"
      },
      "outputs": [],
      "source": [
        "# subset the sample into two independent samples\n",
        "non <- subset(birthwt, smoke == \"no\")\n",
        "smoker <- subset(birthwt, smoke == \"smoker\")"
      ],
      "id": "5d72d7ec-5936-4f9f-b897-6bc5bf62df7b"
    },
    {
      "cell_type": "markdown",
      "metadata": {
        "id": "d8e4ed32-3a88-427e-aef6-0755bd100339"
      },
      "source": [
        "<br>  \n",
        "<br>\n",
        "\n"
      ],
      "id": "d8e4ed32-3a88-427e-aef6-0755bd100339"
    },
    {
      "cell_type": "markdown",
      "source": [
        "### <a name=\"17q8b\">Question 8b</a>\n",
        "\n",
        "---\n",
        "\n",
        "Complete the code cell below to calculate, store, and print the difference in sample means based on the data in our original sample.\n",
        "\n",
        "#### <a name=\"17sol8b\">Solution to Question 8b</a>\n",
        "\n",
        "---"
      ],
      "metadata": {
        "id": "b9PVhCH71fTW"
      },
      "id": "b9PVhCH71fTW"
    },
    {
      "cell_type": "code",
      "execution_count": null,
      "metadata": {
        "id": "0f82f347-2cf9-4966-8718-5e9d5c0311b0",
        "colab": {
          "base_uri": "https://localhost:8080/",
          "height": 34
        },
        "outputId": "d96a0dda-5c94-4b26-9a17-3a84ea0c548d"
      },
      "outputs": [
        {
          "output_type": "display_data",
          "data": {
            "text/html": [
              "283.776733254994"
            ],
            "text/markdown": "283.776733254994",
            "text/latex": "283.776733254994",
            "text/plain": [
              "[1] 283.7767"
            ]
          },
          "metadata": {}
        }
      ],
      "source": [
        "# calculate difference in sample means\n",
        "obs.diff <- mean(non$bwt) - mean(smoker$bwt)\n",
        "obs.diff  # print observed difference to screen"
      ],
      "id": "0f82f347-2cf9-4966-8718-5e9d5c0311b0"
    },
    {
      "cell_type": "code",
      "source": [
        "tapply(birthwt$bwt, birthwt$smoke, mean)"
      ],
      "metadata": {
        "colab": {
          "base_uri": "https://localhost:8080/",
          "height": 34
        },
        "id": "K60FW2PdBvUX",
        "outputId": "9e5c1713-dba4-42b1-b140-408204b4c87a"
      },
      "id": "K60FW2PdBvUX",
      "execution_count": null,
      "outputs": [
        {
          "output_type": "display_data",
          "data": {
            "text/html": [
              "<style>\n",
              ".dl-inline {width: auto; margin:0; padding: 0}\n",
              ".dl-inline>dt, .dl-inline>dd {float: none; width: auto; display: inline-block}\n",
              ".dl-inline>dt::after {content: \":\\0020\"; padding-right: .5ex}\n",
              ".dl-inline>dt:not(:first-of-type) {padding-left: .5ex}\n",
              "</style><dl class=dl-inline><dt>no</dt><dd>3055.69565217391</dd><dt>smoker</dt><dd>2771.91891891892</dd></dl>\n"
            ],
            "text/markdown": "no\n:   3055.69565217391smoker\n:   2771.91891891892\n\n",
            "text/latex": "\\begin{description*}\n\\item[no] 3055.69565217391\n\\item[smoker] 2771.91891891892\n\\end{description*}\n",
            "text/plain": [
              "      no   smoker \n",
              "3055.696 2771.919 "
            ]
          },
          "metadata": {}
        }
      ]
    },
    {
      "cell_type": "code",
      "source": [
        "3055.696 - 2771.919\n"
      ],
      "metadata": {
        "colab": {
          "base_uri": "https://localhost:8080/",
          "height": 34
        },
        "id": "a9O31C2oCkWA",
        "outputId": "cca7d27b-1424-4597-fe80-136dd4a57b40"
      },
      "id": "a9O31C2oCkWA",
      "execution_count": null,
      "outputs": [
        {
          "output_type": "display_data",
          "data": {
            "text/html": [
              "283.777"
            ],
            "text/markdown": "283.777",
            "text/latex": "283.777",
            "text/plain": [
              "[1] 283.777"
            ]
          },
          "metadata": {}
        }
      ]
    },
    {
      "cell_type": "markdown",
      "metadata": {
        "id": "1db98d7a-1344-4717-beb6-9edbb2b08038"
      },
      "source": [
        "<br>\n",
        "We have\n",
        "\n",
        "$$\\bar{x}_{\\rm{non}} - \\bar{x}_{\\rm{smoker}} = 3055.696 - 2771.919 = 283.777 \\mbox{ grams}.$$\n",
        "\n",
        "Newborns birth by a non-smoking parent are on average $283.777$ grams heavier than newborns birthed by a parent that did smoke while pregnant.\n",
        "\n",
        "\n",
        "\n",
        "<br>\n",
        "\n"
      ],
      "id": "1db98d7a-1344-4717-beb6-9edbb2b08038"
    },
    {
      "cell_type": "markdown",
      "source": [
        "### <a name=\"17q8c\">Question 8c</a>\n",
        "\n",
        "---\n",
        "\n",
        "Based on your answer to [Question 8b](#17q8b), given a **point estimate** for the difference in the mean birth weights of all children born to a non-smoking parent compared to the mean birth weight of all children born to a parent that did smoke while pregnant. *Include units in your answer.*\n",
        "\n",
        "\n",
        "#### <a name=\"17sol8c\">Solution to Question 8c</a>\n",
        "\n",
        "---\n",
        "\n",
        "<br>  \n",
        "We use the difference in sample means as a starting point for our estimate for the difference in population means:\n",
        "\n",
        "$$\\boxed{\\mu_{\\rm{non}} - \\mu_{\\rm{smoker}} \\approx \\bar{x}_{\\rm{non}} - \\bar{x}_{\\rm{smoker}} =  283.777 \\mbox{ grams} }.$$\n",
        "<br>\n",
        "\n"
      ],
      "metadata": {
        "id": "filXCDKZ1hcN"
      },
      "id": "filXCDKZ1hcN"
    },
    {
      "cell_type": "markdown",
      "source": [
        "### <a name=\"17q8d\">Question 8d</a>\n",
        "\n",
        "---\n",
        "\n",
        "Based on your estimate in [Question 8c](#17q8c), do you believe there is a difference in the mean birth weight of all babies whose parent smoked while pregnant compared to the mean birth weight of all babies whose parent did not smoke while pregnant?\n",
        "\n",
        "#### <a name=\"17sol8d\">Solution to Question 8d</a>\n",
        "\n",
        "---\n",
        "\n",
        "<br>  \n",
        "\n",
        "On average, it does seem like newborns birth by non-smokers weigh more than newborns birthed by smokers. However, perhaps the difference of approxiately $284$ grams is due to randomness in sampling. Had we chosen a different sample of pregnant parents, the corresponding difference in sample mean birth weights would be different. **Is the observed sample difference of 284 grams beyond the margin of error?**\n",
        "\n",
        "<br>\n",
        "\n"
      ],
      "metadata": {
        "id": "IQoIX9fy1oM-"
      },
      "id": "IQoIX9fy1oM-"
    },
    {
      "cell_type": "markdown",
      "source": [
        "## <a name=\"17uncertain\">Accounting for Uncertainty in Sampling</a>\n",
        "\n",
        "---\n",
        "\n",
        "In the case of comparing samples, we need to be mindful of the randomness involved in the sampling process. If we pick another sample of 189 babies and compare the difference in sample means, we will likely get a different estimate for the difference in mean birth weights. **How can we determine whether or not the point estimate in [Question 8c](#17q8c) is “close enough to zero”?**\n",
        "\n",
        "The code cell is included below to ensure data frames `non` and `smoker` are defined so the code that follows runs. You may not need to run the code cell below if you already defined data frames `non` and `smoker` when answering [Question 8a](#17q8a).\n",
        "\n"
      ],
      "metadata": {
        "id": "w7hBLR6r1wPk"
      },
      "id": "w7hBLR6r1wPk"
    },
    {
      "cell_type": "code",
      "execution_count": null,
      "metadata": {
        "id": "6d8e7aa5-15ad-4995-bb1c-2cfb5200946f"
      },
      "outputs": [],
      "source": [
        "# this was asked in question 8q\n",
        "# need to define these samples for\n",
        "# code cells that follow\n",
        "non <- subset(birthwt, smoke == \"no\")\n",
        "smoker <- subset(birthwt, smoke == \"smoker\")"
      ],
      "id": "6d8e7aa5-15ad-4995-bb1c-2cfb5200946f"
    },
    {
      "cell_type": "markdown",
      "source": [
        "# <a name=\"17boot-two\">Bootstrapping Two Independent Samples</a>\n",
        "\n",
        "---\n",
        "\n",
        "Given independent samples of sizes $m$ and $n$ from two independent populations:\n",
        "\n",
        "1.  Draw a bootstrap resample of size $m$ *with replacement* from the first sample."
      ],
      "metadata": {
        "id": "zvK9prKZ1xyN"
      },
      "id": "zvK9prKZ1xyN"
    },
    {
      "cell_type": "code",
      "source": [
        "m.non <- length(non$bwt)  # m, size of sample 1\n",
        "temp.non <- sample(non$bwt, size = m.non, replace = TRUE)"
      ],
      "metadata": {
        "id": "UhpAuJ6jQTm4"
      },
      "id": "UhpAuJ6jQTm4",
      "execution_count": null,
      "outputs": []
    },
    {
      "cell_type": "markdown",
      "metadata": {
        "id": "2719efa7-8c46-4d4c-a479-c4d57d0e2dca"
      },
      "source": [
        "2.  Draw a bootstrap resample of size $n$ *with replacement* from the second sample."
      ],
      "id": "2719efa7-8c46-4d4c-a479-c4d57d0e2dca"
    },
    {
      "cell_type": "code",
      "execution_count": null,
      "metadata": {
        "id": "659e1ee6-8381-49b2-9480-fc6416c40df0"
      },
      "outputs": [],
      "source": [
        "n.smoker <- length(smoker$bwt)  # n, size of sample 2\n",
        "temp.smoker <- sample(smoker$bwt, size = n.smoker, replace = TRUE)"
      ],
      "id": "659e1ee6-8381-49b2-9480-fc6416c40df0"
    },
    {
      "cell_type": "markdown",
      "metadata": {
        "id": "d1c1ff60-dbc4-42b9-b101-eb267d643c97"
      },
      "source": [
        "3.  Compute a statistic that compares the two groups such as a difference or ratio of two statistics (means, proportions, variances, etc.)."
      ],
      "id": "d1c1ff60-dbc4-42b9-b101-eb267d643c97"
    },
    {
      "cell_type": "code",
      "execution_count": null,
      "metadata": {
        "colab": {
          "base_uri": "https://localhost:8080/",
          "height": 34
        },
        "id": "177717e3-ddc1-406f-bbd5-aa5a66dfad6c",
        "outputId": "06a0e7fb-bc4d-4a21-8181-1b69b6985abc"
      },
      "outputs": [
        {
          "output_type": "display_data",
          "data": {
            "text/html": [
              "209.338190364277"
            ],
            "text/markdown": "209.338190364277",
            "text/latex": "209.338190364277",
            "text/plain": [
              "[1] 209.3382"
            ]
          },
          "metadata": {}
        }
      ],
      "source": [
        "diff.resample <- mean(temp.non) - mean(temp.smoker)\n",
        "diff.resample"
      ],
      "id": "177717e3-ddc1-406f-bbd5-aa5a66dfad6c"
    },
    {
      "cell_type": "markdown",
      "metadata": {
        "id": "bb32f33b-dc7a-431f-83a0-b67d7e0d6637"
      },
      "source": [
        "4.  Repeat this process many (100,000) times.\n",
        "5.  Construct a bootstrap distribution of the comparison statistics from each resample.\n",
        "\n"
      ],
      "id": "bb32f33b-dc7a-431f-83a0-b67d7e0d6637"
    },
    {
      "cell_type": "markdown",
      "source": [
        "## <a name=\"17q9\">Question 9</a>\n",
        "\n",
        "---\n",
        "\n",
        "Follow the steps below to generate a bootstrap distribution for the difference in sample mean birth weights for babies born to non-smokers compared to babies born to smokers. Then use the bootstrap distribution to obtain a 95% bootstrap percentile confidence interval for the corresponding difference in population means.\n",
        "\n"
      ],
      "metadata": {
        "id": "XgU7fVM-1zl2"
      },
      "id": "XgU7fVM-1zl2"
    },
    {
      "cell_type": "markdown",
      "source": [
        "### <a name=\"17q9a\">Question 9a</a>\n",
        "\n",
        "---\n",
        "\n",
        "Complete the code cell below to construct a bootstrap distribution for the difference in the sample mean birth weights of of babies born to non-smokers compared to smokers.\n",
        "\n",
        "#### <a name=\"17sol9a\">Solution to Question 9a</a>\n",
        "\n",
        "---\n",
        "\n",
        "Replace all nine `??` in the code cell below with appropriate code. Then run the completed code to generate a bootstrap distribution and mark the observed difference in sample means (in red) and the mean of the bootstrap distribution (in blue) with vertical lines."
      ],
      "metadata": {
        "id": "6TW6zeet10ut"
      },
      "id": "6TW6zeet10ut"
    },
    {
      "cell_type": "code",
      "execution_count": null,
      "metadata": {
        "id": "340db88d-5884-4a78-b804-213a2c9ff905",
        "colab": {
          "base_uri": "https://localhost:8080/",
          "height": 437
        },
        "outputId": "242250ac-4001-4b4b-e036-4a0f996f2791"
      },
      "outputs": [
        {
          "output_type": "display_data",
          "data": {
            "text/plain": [
              "Plot with title “Bootstrap Distribution for Difference in Means”"
            ],
            "image/png": "[encoded data removed]"
          },
          "metadata": {
            "image/png": {
              "width": 420,
              "height": 420
            }
          }
        }
      ],
      "source": [
        "set.seed(076)\n",
        "\n",
        "N <- 10^5  # Number of bootstrap samples\n",
        "boot.diff.mean <- numeric(N)  # create vector to store bootstrap proportions\n",
        "\n",
        "# for loop that creates bootstrap dist\n",
        "for (i in 1:N)\n",
        "{\n",
        "  x.non <- sample(non$bwt, size = m.non, replace = TRUE)  # pick a bootstrap resample\n",
        "  x.smoker <- sample(smoker$bwt, size = n.smoker, replace = TRUE)  # pick a bootstrap resample\n",
        "  boot.diff.mean[i] <- mean(x.non) - mean(x.smoker)  # compute difference in sample means\n",
        "}\n",
        "\n",
        "# plot bootstrap distribution\n",
        "hist(boot.diff.mean,\n",
        "     breaks=20,\n",
        "     xlab = \"x.bar.non - x.bar.smoker (in grams)\",\n",
        "     main = \"Bootstrap Distribution for Difference in Means\",\n",
        "     cex.lab=1.5, cex.axis=1.5, cex.main=1.5)  # increase font size on labels\n",
        "\n",
        "# red line at the observed  difference in sample means\n",
        "abline(v = mean(non$bwt) - mean(smoker$bwt), col = \"firebrick2\", lwd = 2, lty = 1)\n",
        "\n",
        "# blue line at the center of bootstrap dist\n",
        "abline(v = mean(boot.diff.mean), col = \"blue\", lwd = 2, lty = 2)"
      ],
      "id": "340db88d-5884-4a78-b804-213a2c9ff905"
    },
    {
      "cell_type": "markdown",
      "metadata": {
        "id": "da6864bf-39cc-4399-9e9b-8c1df09508f0"
      },
      "source": [
        "### <a name=\"17q9b\">Question 9b</a>\n",
        "\n",
        "---\n",
        "\n",
        "Complete the code cell below to give a 95% bootstrap percentile confidence interval to estimate the difference in the mean birth weight of all babies born to non-smokers compared the to mean birth of all babies born to smokers. *Include units in your answer.*\n",
        "\n",
        "#### <a name=\"17sol9b\">Solution to Question 9b</a>\n",
        "\n",
        "---\n",
        "\n",
        "**Based on the output below, a 95% bootstrap percentile confidence interval is from $81.0530$ grams to $487.5373$ grams.**\n",
        "\n",
        "<br>  \n",
        "<br>"
      ],
      "id": "da6864bf-39cc-4399-9e9b-8c1df09508f0"
    },
    {
      "cell_type": "code",
      "execution_count": null,
      "metadata": {
        "id": "16a21ec5-c16e-4ad6-927d-b78074d21dc3",
        "colab": {
          "base_uri": "https://localhost:8080/",
          "height": 52
        },
        "outputId": "f2a3e014-3d36-4ee1-a4da-2cd9c50d521a"
      },
      "outputs": [
        {
          "output_type": "display_data",
          "data": {
            "text/html": [
              "<strong>2.5%:</strong> 81.0530376028204"
            ],
            "text/markdown": "**2.5%:** 81.0530376028204",
            "text/latex": "\\textbf{2.5\\textbackslash{}\\%:} 81.0530376028204",
            "text/plain": [
              "    2.5% \n",
              "81.05304 "
            ]
          },
          "metadata": {}
        },
        {
          "output_type": "display_data",
          "data": {
            "text/html": [
              "<strong>97.5%:</strong> 487.537314923619"
            ],
            "text/markdown": "**97.5%:** 487.537314923619",
            "text/latex": "\\textbf{97.5\\textbackslash{}\\%:} 487.537314923619",
            "text/plain": [
              "   97.5% \n",
              "487.5373 "
            ]
          },
          "metadata": {}
        }
      ],
      "source": [
        "# find cutoffs for 95% bootstrap CI\n",
        "lower.bwt.95 <- quantile(boot.diff.mean, probs = 0.025)  # find lower cutoff\n",
        "upper.bwt.95 <- quantile(boot.diff.mean, probs = 0.975)  # find upper cutoff\n",
        "\n",
        "# print to screen\n",
        "lower.bwt.95\n",
        "upper.bwt.95"
      ],
      "id": "16a21ec5-c16e-4ad6-927d-b78074d21dc3"
    },
    {
      "cell_type": "markdown",
      "metadata": {
        "id": "22543789-25ab-4108-95ec-74ff794f6c0e"
      },
      "source": [
        "### <a name=\"17q9c\">Question 9c</a>\n",
        "\n",
        "---\n",
        "\n",
        "Interpret the practical meaning of your interval estimate in [Question 9b](#17q9b). Do you think it is plausible to conclude smoking does have an effect on the weight of a newborn? Explain why or why not.\n",
        "\n",
        "#### <a name=\"17sol9c\">Solution to Question 9c</a>\n",
        "\n",
        "---\n",
        "\n",
        "<br>  \n",
        "\n",
        "- There is a 95% chance the interval from $81.0530$ grams to $487.5373$ grams contains the actual difference in mean birth weights of newborns birthed by non-smoking and smoking parents.\n",
        "\n",
        "- Since the only plausible values for the difference in the two means are all positive, we can conclude smoking during pregnancy does have an effect on birth weight of a newborn.\n",
        "\n",
        "\n",
        "<br>\n"
      ],
      "id": "22543789-25ab-4108-95ec-74ff794f6c0e"
    },
    {
      "cell_type": "markdown",
      "source": [
        "# <a name=\"17CC License\">Creative Commons License Information</a>\n",
        "---\n",
        "\n",
        "![Creative Commons\n",
        "License](https://i.creativecommons.org/l/by-nc-sa/4.0/88x31.png)\n",
        "\n",
        "*Statistical Methods: Exploring the Uncertain* by [Adam\n",
        "Spiegler (University of Colorado Denver)](https://github.com/CU-Denver-MathStats-OER/Statistical-Theory)\n",
        "is licensed under a [Creative Commons\n",
        "Attribution-NonCommercial-ShareAlike 4.0 International\n",
        "License](http://creativecommons.org/licenses/by-nc-sa/4.0/). This work is funded by an [Institutional OER Grant from the Colorado Department of Higher Education (CDHE)](https://cdhe.colorado.gov/educators/administration/institutional-groups/open-educational-resources-in-colorado).\n",
        "\n",
        "For similar interactive OER materials in other courses funded by this project in the Department of Mathematical and Statistical Sciences at the University of Colorado Denver, visit <https://github.com/CU-Denver-MathStats-OER>."
      ],
      "metadata": {
        "id": "o4bR8timX770"
      },
      "id": "o4bR8timX770"
    }
  ],
  "nbformat": 4,
  "nbformat_minor": 5,
  "metadata": {
    "kernelspec": {
      "name": "ir",
      "display_name": "R",
      "language": "R"
    },
    "colab": {
      "provenance": [],
      "include_colab_link": true
    }
  }
}