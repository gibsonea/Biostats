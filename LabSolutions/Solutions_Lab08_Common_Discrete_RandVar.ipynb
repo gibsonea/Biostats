{
  "cells": [
    {
      "cell_type": "markdown",
      "metadata": {
        "id": "view-in-github",
        "colab_type": "text"
      },
      "source": [
        "<a href=\"https://colab.research.google.com/github/gibsonea/Biostats/blob/main/LabSolutions/Solutions_Lab08_Common_Discrete_RandVar.ipynb\" target=\"_parent\"><img src=\"https://colab.research.google.com/assets/colab-badge.svg\" alt=\"Open In Colab\"/></a>"
      ]
    },
    {
      "cell_type": "markdown",
      "metadata": {
        "id": "f64c07e8-5f10-460c-8dae-2a7001c73ab4"
      },
      "source": [
        "# <a name=\"07intro\">2.5: Common Discrete Random Variables</a>\n",
        "\n",
        "---\n",
        "\n",
        "In statistics, we are typically using data from a sample to make inferences about characteristics of a population. We want to may have claims or questions to test. We may want to estimate some characteristics or <font color=\"dodgerblue\">**parameters**</font> of the population. By identifying patterns in the sample data and applying probability, we can build theoretical models to inform\n",
        "predictions about the population. These predictions depend on the level of uncertainty due to sampling, that may be flawed, biased, or simply unlikely. Data and models come in all shapes and levels of complexity.\n",
        "\n",
        "We will take a look at several of the most common and useful\n",
        "distributions when working with discrete random variables, such as counting the frequency of occurrences in certain classes of categorical variables. The Binomial and Poisson distributions are the most widely used discrete distributions in biostatistics applications.\n",
        "\n"
      ],
      "id": "f64c07e8-5f10-460c-8dae-2a7001c73ab4"
    },
    {
      "cell_type": "markdown",
      "source": [
        "# <a name=\"07jury-intro\">A Case Study in Randomness: Jury Duty</a>\n",
        "\n",
        "---\n",
        "\n",
        "<figure>\n",
        "<img\n",
        "src=\"https://thecrimereport.org/wp-content/uploads/2020/08/jury-by-eric-molinsky-computer-assisted-legal-instruction-771x498.jpg\" alt=\"Illustration by Eric Molinsky from the &lt;a http://www.cali.org/&gt;CALI Lesson “Trial Practice, Bringing it to the Jury and Beyond.” CC BY-NC-SA 2.0\" />\n",
        "<figcaption aria-hidden=\"true\">Illustration by Eric Molinsky from the <a href=\"http://www.cali.org/\">CALI</a> Lesson “Trial Practice, Bringing it to the Jury and Beyond.”\n",
        "<a href=\"https://creativecommons.org/licenses/by-nc-sa/2.0/\">CC BY-NC-SA 2.0</a></figcaption>\n",
        "</figure>\n",
        "\n",
        "The jury plays the most crucial role in a trial. They determine how cases are ultimately resolved! The jury serves as an impartial reviewer of the facts presented in criminal and civil cases. The goal of randomly selecting the jury is to remove the bias in the jury selection process.\n",
        "\n",
        "> How can we measure whether a jury that has been selected is “representative”?\n",
        "\n",
        "A random sample of 12 adults cannot be a perfect representative of the population in all ways. No two distinct random samples of 12 adults is going to be same, yet we hope different juries would rule similarly based on the same set of facts if they are truly impartial. The jury\n",
        "system plays a vital role in the system of justice in the United States, and randomness plays a central role in helping reduce bias in court rulings.\n",
        "\n"
      ],
      "metadata": {
        "id": "7vR9UqPB0l8x"
      },
      "id": "7vR9UqPB0l8x"
    },
    {
      "cell_type": "markdown",
      "source": [
        "## <a name=\"07jury-select\">How Jurors Are Selected</a>\n",
        "\n",
        "---\n",
        "\n",
        "The federal judicial branch in the United States decides the\n",
        "constitutionality of federal laws and resolves disputes about federal laws. The federal court system is divided into 94 district courts. The US District Court in the District of Colorado randomly selects jurors from voter registration lists, driver license records, and state-issued\n",
        "adult identification records, by a computerized method. Below is an explanation of how juries are chosen in the District of Colorado. See [The District of Colorado Juror\n",
        "Information](http://www.cod.uscourts.gov/JurorInformation/HowJurorsAreSelected.aspx) for full details.\n",
        "\n",
        "> “This selection process creates the court’s 'Master Jury Wheel'. (This term originated in the days when names were placed into a large barrel-type wheel and turned around to mix them up. Today, computers are used to select names randomly.) From the 'Master Jury Wheel', jurors are randomly selected for a one month term of service or occasionally longer depending on the court’s jury needs.”\n",
        "\n"
      ],
      "metadata": {
        "id": "AxkXRO_W0nu5"
      },
      "id": "AxkXRO_W0nu5"
    },
    {
      "cell_type": "markdown",
      "source": [
        "## <a name=\"07q1\">Question 1</a>\n",
        "\n",
        "---\n",
        "\n",
        "Consider the selection of a jury of 5 people. We want to see whether the jury is representative in terms of political party. Note we initially\n",
        "choose a jury of 5 people to more quickly recognize a pattern. After identifying a pattern, we can extend our results to juries of 12 people. Let $Y$ denote a jury member who identifies as an independent voter. Let\n",
        "$N$ denote a jury member who is not independent (identify as Democrat, Republican, or with another political party).\n",
        "\n",
        "-   There is one possible outcome in the event: 0 people on the jury identify an Independent.\n",
        "-   We can represent that outcome as NNNNN.\n",
        "\n"
      ],
      "metadata": {
        "id": "PGu62rHT0pM-"
      },
      "id": "PGu62rHT0pM-"
    },
    {
      "cell_type": "markdown",
      "source": [
        "### <a name=\"07q1a\">Question 1a</a>\n",
        "\n",
        "---\n",
        "\n",
        "List all possible outcomes in the event: Exactly 1 out of 5 jurors is independent.\n",
        "\n",
        "#### <a name=\"07sol1a\">Solution to Question 1a</a>\n",
        "\n",
        "---\n",
        "\n",
        "There are five such outcomes in this event:\n",
        "\n",
        "1. YNNNN\n",
        "2. NYNNN\n",
        "3. NNYNN\n",
        "4. NNNYN\n",
        "5. NNNNY\n",
        "\n",
        "<br>  \n",
        "\n",
        "\n",
        "\n"
      ],
      "metadata": {
        "id": "sK9GKj7D47nS"
      },
      "id": "sK9GKj7D47nS"
    },
    {
      "cell_type": "markdown",
      "source": [
        "### <a name=\"07q1b\">Question 1b</a>\n",
        "\n",
        "---\n",
        "\n",
        "List all possible outcomes in the event: Exactly 2 out of 5 jurors are independent.\n",
        "\n",
        "#### <a name=\"07sol1b\">Solution to Question 1b</a>\n",
        "\n",
        "---\n",
        "\n",
        "<br>\n",
        "\n",
        "There are ten such outcomes in this event:\n",
        "\n",
        "1. <font color=\"dodgerblue\">YYNNN</font>\n",
        "2. <font color=\"dodgerblue\">YNYNN</font>\n",
        "3. <font color=\"dodgerblue\">YNNYN</font>\n",
        "4. <font color=\"dodgerblue\">YNNNY</font>\n",
        "5. <font color=\"tomato\">NYYNN</font>\n",
        "6. <font color=\"tomato\">NYNYN</font>\n",
        "7. <font color=\"tomato\">NYNNY</font>\n",
        "8. <font color=\"mediumseagreen\">NNYYN</font>\n",
        "9. <font color=\"mediumseagreen\">NNYNY</font>\n",
        "10. NNNYY\n",
        "\n",
        "\n",
        "<br>  \n",
        "\n"
      ],
      "metadata": {
        "id": "Ruz_dY6o5WRx"
      },
      "id": "Ruz_dY6o5WRx"
    },
    {
      "cell_type": "markdown",
      "source": [
        "# <a name=\"07count\">Counting Outcomes</a>\n",
        "\n",
        "---\n",
        "\n",
        "Consider a district with $n$ people eligible for jury duty. On the first\n",
        "of each month the court chooses a new pool of $k$ people from which\n",
        "juries will be selected. How many different jury pools of size $k$ can be selected from a population with size $n$?\n",
        "\n",
        "-   There are $n$ possible people that can be chosen first.\n",
        "-   Then there are $n-1$ remaining possible people that can be selected as person 2.\n",
        "-   Then there are $n-2$ remaining possible people that can be selected as person 3.\n",
        "-   And so until there are $n-(k-1)$ remaining people to select person $k$.\n",
        "\n",
        "$$\\begin{array}{lclclcccl}\n",
        "\\mbox{choice 1} & & \\mbox{choice 2} &  & \\mbox{choice 3}  & & & & \\mbox{choice k} \\\\\n",
        " n & \\times & (n-1) & \\times  & (n-2) & \\times & \\ldots & \\times & (n-(k-1))\n",
        " \\end{array}\n",
        " = \\frac{n!}{(n-k)!}.$$\n",
        "\n",
        "Note the <font color=\"dodgerblue\">**factorial**</font> of a\n",
        "non-negative integer $n$ is denoted $\\color{dodgerblue}{n!}$ and is the product of all positive integers less than or equal to $n$:\n",
        "\n",
        "$$\\color{dodgerblue}{n! = 1 \\times 2 \\times 3 \\times \\ldots \\times (n-1) \\times n}$$\n",
        "\n"
      ],
      "metadata": {
        "id": "7EwYEa_j0sVN"
      },
      "id": "7EwYEa_j0sVN"
    },
    {
      "cell_type": "markdown",
      "source": [
        "## <a name=\"07comb\">Ignoring the Order of Selection: N Choose K</a>\n",
        "\n",
        "---\n",
        "\n",
        "If we want to count the total number of possible jury pools, and we do\n",
        "not care about the order in which the people are selected, then we want\n",
        "to count the number of\n",
        "<font color=\"dodgerblue\">**combinations**</font>.\n",
        "\n",
        "-   First count the possible outcomes as we illustrated above, taking into account the order in which the jury is selected.\n",
        "- Then we ignore the order that people are selected by considering the same set of people (chosen in any order) as the same. Using the result that there are $k!$ ways of permuting the order of the $k$ people selected<sup>1</sup>.\n",
        "\n",
        "Thus, the number of combinations of $k$ items out of a set of $n$,\n",
        "denoted $_nC_k$ also referred to as $n$ choose $k$, is\n",
        "\n",
        "$$\\color{dodgerblue}{\\begin{pmatrix} n \\\\ k \\end{pmatrix} = \\frac{n!}{k! (n-k)!}.}$$\n",
        "\n",
        "<br>\n",
        "\n",
        "<font size=\"2\">1. See the [Appendix: Why Divide By $k!$](#07why-fact) if you are curious why we divide by $k!$ when we do not care about the order that the items are selected.</font>"
      ],
      "metadata": {
        "id": "L_MBoDDm00VX"
      },
      "id": "L_MBoDDm00VX"
    },
    {
      "cell_type": "markdown",
      "source": [
        "## <a name=\"07q2\">Question 2</a>\n",
        "\n",
        "---\n",
        "\n",
        "Use R to calculate the total number of outcomes in the event: Exactly 2 out of 5 jurors are independent voters.\n",
        "\n",
        "<br>\n",
        "\n",
        "<font color=\"mediumseagreen\">*Hint: The function `factorial(x)` calculates $x!$ for a non-negative integer $x$.*</font>\n",
        "\n",
        "### <a name=\"07sol2\">Solution to Question 2</a>\n",
        "\n",
        "---"
      ],
      "metadata": {
        "id": "A3TzZJaV04l5"
      },
      "id": "A3TzZJaV04l5"
    },
    {
      "cell_type": "code",
      "execution_count": null,
      "metadata": {
        "id": "85868c48-a987-4c04-a95e-22a4ff469ea3",
        "colab": {
          "base_uri": "https://localhost:8080/",
          "height": 34
        },
        "outputId": "c9091f80-7b3f-4d3b-d2be-1730a244ea19"
      },
      "outputs": [
        {
          "output_type": "display_data",
          "data": {
            "text/html": [
              "10"
            ],
            "text/markdown": "10",
            "text/latex": "10",
            "text/plain": [
              "[1] 10"
            ]
          },
          "metadata": {}
        }
      ],
      "source": [
        "# solution using factorial(x)\n",
        "factorial(5) / ( factorial(2) * factorial(5-2))"
      ],
      "id": "85868c48-a987-4c04-a95e-22a4ff469ea3"
    },
    {
      "cell_type": "markdown",
      "metadata": {
        "id": "82d25985-7df0-4de8-96f5-9403d42a1e58"
      },
      "source": [
        "<font color=\"mediumseagreen\">*An Even Better Hint: The function `choose(n, k)` calculates $\\begin{pmatrix} n \\\\ k \\end{pmatrix}$ for non-negative integers $n$ and $k$.*</font>"
      ],
      "id": "82d25985-7df0-4de8-96f5-9403d42a1e58"
    },
    {
      "cell_type": "code",
      "execution_count": null,
      "metadata": {
        "id": "853046c6-2fdd-4eca-8b86-b7555b4f1e72",
        "colab": {
          "base_uri": "https://localhost:8080/",
          "height": 34
        },
        "outputId": "1bb33341-710d-457f-8fa8-d681e4a75097"
      },
      "outputs": [
        {
          "output_type": "display_data",
          "data": {
            "text/html": [
              "10"
            ],
            "text/markdown": "10",
            "text/latex": "10",
            "text/plain": [
              "[1] 10"
            ]
          },
          "metadata": {}
        }
      ],
      "source": [
        "# solution using choose(n, k)\n",
        "choose(5, 2)"
      ],
      "id": "853046c6-2fdd-4eca-8b86-b7555b4f1e72"
    },
    {
      "cell_type": "markdown",
      "metadata": {
        "id": "ac2f6fb5-05a9-4da1-a2c1-953810a4500e"
      },
      "source": [
        "# <a name=\"07rand-var\">Defining a Random Variable</a>\n",
        "\n",
        "---\n",
        "\n",
        "Recall random variables map outcomes in a sample space to a subset of the real numbers. In this example, an outcome is 5 randomly selected people for the jury. We define random variable $X$ to be the number of independent voters on a randomly selected jury of 5 people. For example, we have:\n",
        "\n",
        "-   The outcome NNNNN is mapped to $X=0$.\n",
        "-   The outcome YNNNN is mapped to $X=1$.\n",
        "-   The outcome NNNYN is also mapped to $X=1$.\n",
        "-   The outcome YNNYN is mapped to $X=2$.\n",
        "\n",
        "We map each outcome to an integer $X$, and then we can compute values of the corresponding probability mass function (pmf) $p(x) = P(X=x)$.\n",
        "\n"
      ],
      "id": "ac2f6fb5-05a9-4da1-a2c1-953810a4500e"
    },
    {
      "cell_type": "markdown",
      "source": [
        "## <a name=\"07q3\">Question 3</a>\n",
        "\n",
        "---\n",
        "\n",
        "According to a recent article [“Why Independent Voters Are Key To Winning Colorado”, PBS News. Oct 3,\n",
        "2020](https://www.pbs.org/newshour/show/why-independent-voters-are-key-to-winning-colorado),\n",
        "approximately 42% of Colorado’s voters identify as independent.\n",
        "\n",
        "In solving [Question 2](#07q2), there is a general pattern we can model to compute the probability of choose exactly $x$ jurors that identify as an independent voters in a jury of 5 people. In this question, we generalize the pattern to answer questions about a jury of 12 people.\n",
        "\n"
      ],
      "metadata": {
        "id": "hoX9ZHD71A0o"
      },
      "id": "hoX9ZHD71A0o"
    },
    {
      "cell_type": "markdown",
      "source": [
        "### <a name=\"07q3a\">Question 3a</a>\n",
        "\n",
        "---\n",
        "\n",
        "What is the probability of randomly selecting a jury of 12 people with exactly 0 jurors that identify as an independent voter?\n",
        "\n",
        "#### <a name=\"07sol3a\">Solution to Question 3a</a>\n",
        "\n",
        "---\n",
        "\n",
        "\n",
        "<br>\n",
        "\n",
        "There is one such event in this outcome, $NNNNNNNNNNNN$.\n",
        "\n",
        "$$P(X=0) = P(NNNNNNNNNNNN) = \\left( P(N) \\right)^{12} = (1-0.42)^{12} = (0.58)^{12} = 0.0014.$$"
      ],
      "metadata": {
        "id": "1kr_s1yA1CgJ"
      },
      "id": "1kr_s1yA1CgJ"
    },
    {
      "cell_type": "code",
      "execution_count": null,
      "metadata": {
        "id": "e03b4020-4edd-4b00-9dd6-1034eaf442d2",
        "colab": {
          "base_uri": "https://localhost:8080/",
          "height": 34
        },
        "outputId": "65e57a60-5dd5-43c0-f146-f633d6f6f76c"
      },
      "outputs": [
        {
          "output_type": "display_data",
          "data": {
            "text/html": [
              "0.0014492253520096"
            ],
            "text/markdown": "0.0014492253520096",
            "text/latex": "0.0014492253520096",
            "text/plain": [
              "[1] 0.001449225"
            ]
          },
          "metadata": {}
        }
      ],
      "source": [
        "# Use R to help compute P(X=0)\n",
        "(1 - 0.42)^12"
      ],
      "id": "e03b4020-4edd-4b00-9dd6-1034eaf442d2"
    },
    {
      "cell_type": "markdown",
      "metadata": {
        "id": "243ab9d0-2443-427e-89d6-78c4b3ad5b98"
      },
      "source": [
        "### <a name=\"073b\">Question 3b</a>\n",
        "\n",
        "---\n",
        "\n",
        "What is the probability of randomly selecting a jury of 12 people with exactly 1 juror that identify as an independent voter?\n",
        "\n",
        "#### <a name=\"07sol3b\">Solution to Question 3b</a>\n",
        "\n",
        "---\n",
        "\n",
        "There are 12 outcomes in this event. Each of the 12 outcomes has the same likelihood of occurring:\n",
        "\n",
        "$$P(YNNNNNNNNNNN) = (0.42)(0.58)^{11} = 0.00104.$$\n",
        "\n",
        "Therefore, we have $P(X=1) = 12 \\big((0.42)(0.58)^{11} \\big) = 0.01259$\n",
        "\n",
        "<br>  "
      ],
      "id": "243ab9d0-2443-427e-89d6-78c4b3ad5b98"
    },
    {
      "cell_type": "code",
      "execution_count": null,
      "metadata": {
        "id": "033bf04e-24ff-4202-9f66-80142e848ac1",
        "colab": {
          "base_uri": "https://localhost:8080/",
          "height": 52
        },
        "outputId": "33b42249-2e42-45c0-9a22-f58e726aef74"
      },
      "outputs": [
        {
          "output_type": "display_data",
          "data": {
            "text/html": [
              "0.00104943904800695"
            ],
            "text/markdown": "0.00104943904800695",
            "text/latex": "0.00104943904800695",
            "text/plain": [
              "[1] 0.001049439"
            ]
          },
          "metadata": {}
        },
        {
          "output_type": "display_data",
          "data": {
            "text/html": [
              "0.0125932685760834"
            ],
            "text/markdown": "0.0125932685760834",
            "text/latex": "0.0125932685760834",
            "text/plain": [
              "[1] 0.01259327"
            ]
          },
          "metadata": {}
        }
      ],
      "source": [
        "# Use R to help compute P(X=1)\n",
        "p.outcome <- 0.42 * 0.58^(11)\n",
        "p.outcome\n",
        "12 * p.outcome"
      ],
      "id": "033bf04e-24ff-4202-9f66-80142e848ac1"
    },
    {
      "cell_type": "markdown",
      "metadata": {
        "id": "1f3af0c9-5d9d-4738-882e-d31b577cc739"
      },
      "source": [
        "### <a name=\"07q3c\">Question 3c</a>\n",
        "\n",
        "---\n",
        "\n",
        "What is the probability of randomly selecting a jury of 12 people with exactly 2 jurors that identify as independent voters?\n",
        "\n",
        "#### <a name=\"07sol3c\">Solution to Question 3c</a>\n",
        "\n",
        "---\n",
        "\n",
        "$$P(X = 2) = \\left( \\begin{array}{cc} 12 \\\\ 2 \\end{array} \\right) (0.42)^2(1-0.42)^{12-2} = 0.0502$$"
      ],
      "id": "1f3af0c9-5d9d-4738-882e-d31b577cc739"
    },
    {
      "cell_type": "code",
      "execution_count": null,
      "metadata": {
        "id": "f674a225-2021-43b3-aaa5-472c755623c5",
        "colab": {
          "base_uri": "https://localhost:8080/",
          "height": 34
        },
        "outputId": "36c6962a-ae5b-4fac-f482-8556b211e56d"
      },
      "outputs": [
        {
          "output_type": "display_data",
          "data": {
            "text/html": [
              "0.0501559489840564"
            ],
            "text/markdown": "0.0501559489840564",
            "text/latex": "0.0501559489840564",
            "text/plain": [
              "[1] 0.05015595"
            ]
          },
          "metadata": {}
        }
      ],
      "source": [
        "# Use R to help compute P(X=2)\n",
        "choose(12, 2) * (0.42)^2 * (0.58^(12-2))"
      ],
      "id": "f674a225-2021-43b3-aaa5-472c755623c5"
    },
    {
      "cell_type": "markdown",
      "metadata": {
        "id": "eebb90ca-2d48-4dbd-91c1-c06ec3fceb15"
      },
      "source": [
        "### <a name=\"07q3d\">Question 3d</a>\n",
        "\n",
        "---\n",
        "\n",
        "What is the probability of randomly selecting a jury of 12 people with at most 2 jurors that identify as independent voters?\n",
        "\n",
        "#### <a name=\"07sol3d\">Solution to Question 3d</a>\n",
        "\n",
        "---\n",
        "\n",
        "$$P(X \\leq 2) = P(X=0) + P(X=1) + P(X=2) = 0.0642.$$"
      ],
      "id": "eebb90ca-2d48-4dbd-91c1-c06ec3fceb15"
    },
    {
      "cell_type": "code",
      "execution_count": null,
      "metadata": {
        "id": "56d48beb-1923-4812-81bd-2546e35b848b",
        "colab": {
          "base_uri": "https://localhost:8080/",
          "height": 34
        },
        "outputId": "5ad29bf7-94a7-43d5-eb0e-3bf1ddd30bac"
      },
      "outputs": [
        {
          "output_type": "display_data",
          "data": {
            "text/html": [
              "0.0641984429121494"
            ],
            "text/markdown": "0.0641984429121494",
            "text/latex": "0.0641984429121494",
            "text/plain": [
              "[1] 0.06419844"
            ]
          },
          "metadata": {}
        }
      ],
      "source": [
        "# Use R to help compute probability X is at most 2\n",
        "p.2 <- choose(12, 2) * (0.42)^2 * (0.58^(12-2))\n",
        "p.1 <- 12 * (0.42)^1 * (0.58^(12-1))\n",
        "p.0 <- (1 - 0.42)^12\n",
        "\n",
        "p.0 + p.1 + p.2"
      ],
      "id": "56d48beb-1923-4812-81bd-2546e35b848b"
    },
    {
      "cell_type": "markdown",
      "metadata": {
        "id": "e0e100b6-826d-46df-91bd-4bf920f45c89"
      },
      "source": [
        "### <a name=\"07q3e\">Question 3e</a>\n",
        "\n",
        "---\n",
        "\n",
        "What is the probability of randomly selecting a jury of 12 people with at least 2 jurors that identify as independent voters?\n",
        "\n",
        "#### <a name=\"07sol3e\">Solution to Question 3e</a>\n",
        "\n",
        "---\n",
        "\n",
        "We have:\n",
        "\n",
        "$$P( X \\geq 2) = 1 - P(X < 2) = 1 - P(X \\leq 1) = 1 - \\big( P(X=0) + P(X=1) \\big) = 0.9860$$"
      ],
      "id": "e0e100b6-826d-46df-91bd-4bf920f45c89"
    },
    {
      "cell_type": "code",
      "execution_count": null,
      "metadata": {
        "id": "ce01c0db-39d2-4362-a5ec-b00e5af5ad12",
        "colab": {
          "base_uri": "https://localhost:8080/",
          "height": 34
        },
        "outputId": "3c47caba-2b92-492d-e147-8c9f6f56bf02"
      },
      "outputs": [
        {
          "output_type": "display_data",
          "data": {
            "text/html": [
              "0.985957506071907"
            ],
            "text/markdown": "0.985957506071907",
            "text/latex": "0.985957506071907",
            "text/plain": [
              "[1] 0.9859575"
            ]
          },
          "metadata": {}
        }
      ],
      "source": [
        "# Use R to help compute probability X is at least 2\n",
        "1 - (p.0 + p.1)"
      ],
      "id": "ce01c0db-39d2-4362-a5ec-b00e5af5ad12"
    },
    {
      "cell_type": "markdown",
      "metadata": {
        "id": "c5d8e785-b8af-48a8-8d9a-2be1d2f42173"
      },
      "source": [
        "## <a name=\"07q4\">Question 4</a>\n",
        "\n",
        "---\n",
        "\n",
        "A jury of 12 people is randomly selected from a population that is 42% independent voters. Let random variable $X$ denote the number of jurors that identify as an independent voter.\n",
        "\n"
      ],
      "id": "c5d8e785-b8af-48a8-8d9a-2be1d2f42173"
    },
    {
      "cell_type": "markdown",
      "source": [
        "### <a name=\"07q4a\">Question 4a</a>\n",
        "\n",
        "---\n",
        "\n",
        "Using your answers to [Question 3](#07q3), give the values for $p(0)=P(X=0)$, $p(1)=P(X=1)$, $p(2)=P(X=2)$, and $F(2) = P(X \\leq 2)$.\n",
        "\n",
        "#### <a name=\"07sol4a\">Solution to Question 4a</a>\n",
        "\n",
        "---\n",
        "\n",
        "-   $p(0) = (1-0.42)^{12} = 0.0014$.\n",
        "\n",
        "<br>\n",
        "\n",
        "-   $p(1) = \\left( \\begin{array}{cc} 12 \\\\ 1 \\end{array} \\right) (0.42)^1(1-0.42)^{12-1}= 0.01259$\n",
        "\n",
        "<br>\n",
        "\n",
        "\n",
        "-   $p(2) = \\left( \\begin{array}{cc} 12 \\\\ 2 \\end{array} \\right) (0.42)^2(1-0.42)^{12-2} = 0.0502$.\n",
        "\n",
        "<br>\n",
        "\n",
        "-   $F(2) = P(X \\leq 2) = p(0) + p(1) + p(2) = 0.0642$.\n",
        "\n",
        "<br>  \n",
        "\n"
      ],
      "metadata": {
        "id": "s2Mte4Gn1HRp"
      },
      "id": "s2Mte4Gn1HRp"
    },
    {
      "cell_type": "markdown",
      "source": [
        "### <a name=\"07q4b\">Question 4b</a>\n",
        "\n",
        "---\n",
        "\n",
        "Give a possible formula for the pmf of $X$, $p(x)=P(X=x)$.\n",
        "\n",
        "#### <a name=\"07sol4b\">Solution to Question 4b</a>\n",
        "\n",
        "---\n",
        "\n",
        "A formula has been partially completed. Fill in the missing parts.\n",
        "\n",
        "$$P(X=x) = \\begin{pmatrix} 12 \\\\ x \\end{pmatrix} (0.42)^{x} (1-0.42)^{12-x}$$\n",
        "\n",
        "<br>  \n",
        "<br>\n",
        "\n"
      ],
      "metadata": {
        "id": "WRp5xUq41KTQ"
      },
      "id": "WRp5xUq41KTQ"
    },
    {
      "cell_type": "markdown",
      "source": [
        "# <a name=\"07binom-intro\">The Binomial Distribution</a>\n",
        "\n",
        "---\n",
        "\n"
      ],
      "metadata": {
        "id": "mcJWVsvq1Mdo"
      },
      "id": "mcJWVsvq1Mdo"
    },
    {
      "cell_type": "markdown",
      "source": [
        "## <a name=\"07bern\">A Trial with Two Possible Outcomes</a>\n",
        "\n",
        "---\n",
        "\n",
        "A <font color=\"dodgerblue\">**Bernoulli trial**</font> is an\n",
        "experiment that has <font color=\"dodgerblue\">**exactly two\n",
        "possible outcomes**</font>:\n",
        "\n",
        "-   The probability that the outcome of a trial is a\n",
        "    <font color=\"dodgerblue\">success</font>\n",
        "    ($\\color{dodgerblue}{X=1}$) is denoted $\\color{dodgerblue}{p}$.\n",
        "-   Otherwise, the probability of a\n",
        "    <font color=\"tomato\">failure</font> ($\\color{tomato}{X=0}$) is\n",
        "    $\\color{tomato}{q=1-p}$.\n",
        "-   $X$ has a <font color=\"dodgerblue\">**Bernoulli\n",
        "    Distribution**</font> with probability mass function\n",
        "\n",
        "$$f(x) = \\left\\{ \\begin{array}{ll}\n",
        "p^x(1-p)^{1-x} & \\mbox{for } x \\in \\left\\{ 0, 1 \\right \\} \\\\\n",
        "0 , & \\mbox{otherwise}\n",
        "\\end{array} \\right.$$\n",
        "\n"
      ],
      "metadata": {
        "id": "vAbed2Q91OQG"
      },
      "id": "vAbed2Q91OQG"
    },
    {
      "cell_type": "markdown",
      "source": [
        "## <a name=\"07binom-form\">A Formula for the Binomial Distribution</a>\n",
        "\n",
        "---\n",
        "\n",
        "Let random variable $X$ be the number of successes out of $n$ trials,\n",
        "where <font color=\"dodgerblue\">**each trial is identical and\n",
        "independent**</font>.\n",
        "\n",
        "-   $X$ has a <font color=\"dodgerblue\">**Binomial Distribution**</font>, written $\\color{dodgerblue}{X \\sim \\mbox{Binom}(n,p)}$.\n",
        "-   The probability mass function<sup>2</sup> is\n",
        "\n",
        "$$f(x) = \\left\\{ \\begin{array}{ll}\n",
        "\\left( \\begin{array}{c} n\\\\ x \\end{array} \\right) p^x(1-p)^{n-x} & \\mbox{for } x =0,1,2, \\ldots , n \\\\\n",
        "0 & \\mbox{otherwise}\n",
        "\\end{array} \\right. $$\n",
        "\n",
        "<br>\n",
        "\n",
        "<font size=\"2\">2. See [Appendix: Typsetting Arrays in LaTeX](#07latex) for more information on how to typeset formulas such as the piecewise function above using LaTeX.</font>\n"
      ],
      "metadata": {
        "id": "8246HrKr1PxQ"
      },
      "id": "8246HrKr1PxQ"
    },
    {
      "cell_type": "markdown",
      "source": [
        "## <a name=\"07binom-ex\">Expected Value and Variance of Binomial Distributions</a>\n",
        "\n",
        "---\n",
        "\n",
        "-   The expected value can be calculated with the shortcut $\\color{dodgerblue}{E(X) = np}$.\n",
        "-   The variance can be calculated with the shortcut $\\color{dodgerblue}{\\mbox{Var}(X) = np(1-p)=npq}$.\n",
        "\n"
      ],
      "metadata": {
        "id": "_7IjaGRk1Ttp"
      },
      "id": "_7IjaGRk1Ttp"
    },
    {
      "cell_type": "markdown",
      "source": [
        "## <a name=\"07binom-R\">Binomial Distribution Functions in R</a>\n",
        "\n",
        "---\n",
        "\n",
        "In R, the we can use the functions:\n",
        "\n",
        "-   `dbinom(x, n, p)` calculates the probability of <font color=\"dodgerblue\">exactly $x$ successes</font> out $n$ trials, $\\color{dodgerblue}{p(x)=P(X=x)}$.\n",
        "-   `pbinom(x, n, p)` calculates the probability of <font color=\"tomato\">at most $x$ successes</font> out $n$ trials, $\\color{tomato}{F(x)=P(X \\leq x)}$.\n",
        "-   `rbinom(m, n, p)` <font color=\"dodgerblue\">randomly sample</font> $m$ values from $X \\sim \\mbox{Binom}(n, p)$ (with replacement).\n",
        "-   `qbinom(q, n, p)` compute the <font color=\"dodgerblue\">q<sup>th</sup> quantile</font>.\n",
        "\n"
      ],
      "metadata": {
        "id": "CtbujF9j1VYQ"
      },
      "id": "CtbujF9j1VYQ"
    },
    {
      "cell_type": "markdown",
      "source": [
        "## <a name=\"07binom-plot\">Plotting a Binomial Distribution</a>\n",
        "\n",
        "---\n",
        "\n",
        "The code cell below creates plots for the pmf and cdf for a binomial distribution with $n=40$ and $p = 0.25$."
      ],
      "metadata": {
        "id": "7eNdrBE11XOT"
      },
      "id": "7eNdrBE11XOT"
    },
    {
      "cell_type": "code",
      "source": [
        "x <- 0:20  # vector of values 1, 2, ..., 20\n",
        "\n",
        "# plot pmf n=40 and p = 0.25\n",
        "plot(x, dbinom(x, size=40, prob=0.25),\n",
        "     type='p',  # point plot\n",
        "     cex.lab=1.5, cex.axis=1.5, cex.main=1.5)  # increase font size on labels\n",
        "\n",
        "# plot cdf n=40 and p = 0.25\n",
        "plot(x ,pbinom(x, size=40, prob=0.25),\n",
        "     type='s',  # stairs plot\n",
        "     main='X ~ Binom(40, 0.25)',\n",
        "     ylab='Probability',\n",
        "     xlab ='At most x Successes',\n",
        "     lwd=3,\n",
        "     cex.lab=1.5, cex.axis=1.5, cex.main=1.5)  # increase font size on labels"
      ],
      "metadata": {
        "id": "oFtVH5750AkI",
        "outputId": "b5a1b7ed-f897-4273-a620-f41828eb2f18",
        "colab": {
          "base_uri": "https://localhost:8080/",
          "height": 857
        }
      },
      "id": "oFtVH5750AkI",
      "execution_count": null,
      "outputs": [
        {
          "output_type": "display_data",
          "data": {
            "text/plain": [
              "plot without title"
            ],
            "image/png": "[encoded data removed]"
          },
          "metadata": {
            "image/png": {
              "width": 420,
              "height": 420
            }
          }
        },
        {
          "output_type": "display_data",
          "data": {
            "text/plain": [
              "Plot with title “X ~ Binom(40, 0.25)”"
            ],
            "image/png": "[encoded data removed]"
          },
          "metadata": {
            "image/png": {
              "width": 420,
              "height": 420
            }
          }
        }
      ]
    },
    {
      "cell_type": "markdown",
      "source": [
        "## <a name=\"07q5\">Question 5</a>\n",
        "\n",
        "---\n",
        "\n",
        "Suppose a manufacturer of electronic chargers knows that 5% of the chargers it produces are defective. The manufacturer sends a shipment of 20 randomly selected chargers to a customer. Write an R command to compute the probability of each event.\n",
        "\n"
      ],
      "metadata": {
        "id": "VvuVbvLKz-OK"
      },
      "id": "VvuVbvLKz-OK"
    },
    {
      "cell_type": "markdown",
      "source": [
        "### <a name=\"07q5a\">Question 5a</a>\n",
        "\n",
        "---\n",
        "\n",
        "All 20 chargers sent are good (not defective).\n",
        "\n",
        "#### <a name=\"07sol5a\">Solution to Question 5a</a>\n",
        "\n",
        "---\n",
        "\n",
        "Let $X$ denote the number of defective batteries in a shipment of 20. Then we have\n",
        "\n",
        "$$P(X = 0) = 0.3585.$$\n",
        "\n",
        "If instead we let $Y$ denote the number of good (non-defective) batteries in a shipment of 20, then we have\n",
        "\n",
        "$$P(Y=20) = 0.3585.$$\n",
        "\n",
        "What we consider a \"success\" could be the good battery or it could be the defective battery and we can define $p$ accordingly."
      ],
      "metadata": {
        "id": "MVK0otHy162d"
      },
      "id": "MVK0otHy162d"
    },
    {
      "cell_type": "code",
      "execution_count": null,
      "metadata": {
        "id": "089593ab-5125-4e13-b1fb-88bb31f30f10",
        "colab": {
          "base_uri": "https://localhost:8080/",
          "height": 52
        },
        "outputId": "651f7057-d1fa-41dd-98b8-db3ba9c48623"
      },
      "outputs": [
        {
          "output_type": "display_data",
          "data": {
            "text/html": [
              "0.358485922408542"
            ],
            "text/markdown": "0.358485922408542",
            "text/latex": "0.358485922408542",
            "text/plain": [
              "[1] 0.3584859"
            ]
          },
          "metadata": {}
        },
        {
          "output_type": "display_data",
          "data": {
            "text/html": [
              "0.358485922408542"
            ],
            "text/markdown": "0.358485922408542",
            "text/latex": "0.358485922408542",
            "text/plain": [
              "[1] 0.3584859"
            ]
          },
          "metadata": {}
        }
      ],
      "source": [
        "# solution to 5a\n",
        "dbinom(0, 20, 0.05)\n",
        "dbinom(20, 20, 0.95)"
      ],
      "id": "089593ab-5125-4e13-b1fb-88bb31f30f10"
    },
    {
      "cell_type": "markdown",
      "metadata": {
        "id": "4dd01ac0-65aa-48cf-b881-033576389962"
      },
      "source": [
        "### <a name=\"07q5b\">Question 5b</a>\n",
        "\n",
        "---\n",
        "\n",
        "At most 18 batteries are good.\n",
        "\n",
        "#### <a name=\"07sol5b\">Solution to Question 5b</a>\n",
        "\n",
        "---\n",
        "\n",
        "\n",
        "Let $Y$ denote the number of good (non-defective) batteries in a shipment of 20. We are asked to compute $P(Y \\leq 18) = F_Y(18) = 0.2642$.\n",
        "\n"
      ],
      "id": "4dd01ac0-65aa-48cf-b881-033576389962"
    },
    {
      "cell_type": "code",
      "execution_count": null,
      "metadata": {
        "id": "01a02cb5-7348-4237-8f07-7e081648cbd6",
        "colab": {
          "base_uri": "https://localhost:8080/",
          "height": 34
        },
        "outputId": "5d99cd31-279d-47cd-fb6e-af2b303adc04"
      },
      "outputs": [
        {
          "output_type": "display_data",
          "data": {
            "text/html": [
              "0.264160475056151"
            ],
            "text/markdown": "0.264160475056151",
            "text/latex": "0.264160475056151",
            "text/plain": [
              "[1] 0.2641605"
            ]
          },
          "metadata": {}
        }
      ],
      "source": [
        "# solution to 5b\n",
        "pbinom(18, 20, 0.95)"
      ],
      "id": "01a02cb5-7348-4237-8f07-7e081648cbd6"
    },
    {
      "cell_type": "markdown",
      "metadata": {
        "id": "496b3f59-650c-474c-ae90-909cfd1adcc2"
      },
      "source": [
        "### <a name=\"07q5c\">Question 5c</a>\n",
        "\n",
        "---\n",
        "\n",
        "At most 2 batteries are defective.\n",
        "\n",
        "#### <a name=\"07sol5c\">Solution to Question 5c</a>\n",
        "\n",
        "---\n",
        "\n",
        "Let $X$ denote the number of defective batteries in a shipment of 20. We are asked to compute $P(X \\leq 2) = F_X(2) = 0.9245$."
      ],
      "id": "496b3f59-650c-474c-ae90-909cfd1adcc2"
    },
    {
      "cell_type": "code",
      "execution_count": null,
      "metadata": {
        "id": "e8aa006d-6ee3-42f5-a527-2c7ba2782e2f",
        "colab": {
          "base_uri": "https://localhost:8080/",
          "height": 34
        },
        "outputId": "4568c571-a556-4f68-f3b3-359f0b7a5698"
      },
      "outputs": [
        {
          "output_type": "display_data",
          "data": {
            "text/html": [
              "0.924516326211504"
            ],
            "text/markdown": "0.924516326211504",
            "text/latex": "0.924516326211504",
            "text/plain": [
              "[1] 0.9245163"
            ]
          },
          "metadata": {}
        }
      ],
      "source": [
        "# solution to 5c\n",
        "pbinom(2, 20, 0.05)"
      ],
      "id": "e8aa006d-6ee3-42f5-a527-2c7ba2782e2f"
    },
    {
      "cell_type": "markdown",
      "metadata": {
        "id": "2e4a9c6e-abe8-48fb-91ef-cdb945cde295"
      },
      "source": [
        "# <a name=\"07unif\">The Discrete Uniform Distribution</a>\n",
        "\n",
        "---\n",
        "\n"
      ],
      "id": "2e4a9c6e-abe8-48fb-91ef-cdb945cde295"
    },
    {
      "cell_type": "markdown",
      "source": [
        "## <a name=\"07q6\">Question 6</a>\n",
        "\n",
        "---\n",
        "\n",
        "Let $X$ be the value of the result of rolling a fair six-sided die.\n",
        "\n"
      ],
      "metadata": {
        "id": "7j2p4bni1-qB"
      },
      "id": "7j2p4bni1-qB"
    },
    {
      "cell_type": "markdown",
      "source": [
        "### <a name=\"07q6a\">Question 6a</a>\n",
        "\n",
        "---\n",
        "\n",
        "Write out the probability mass function $f(x)$.\n",
        "\n",
        "#### <a name=\"07sol6a\">Solution to Question 6a</a>\n",
        "\n",
        "---\n",
        "\n",
        "<br>\n",
        "\n",
        "$$f(x) = \\left\\{ \\begin{array}{ll}\n",
        "\\dfrac{1}{6} & x = 1, 2, 3, 4, 5, 6 \\\\\n",
        "0 & \\mbox{otherwise}\n",
        "\\end{array} \\right.$$\n",
        "\n",
        "<br>  \n",
        "<br>\n",
        "\n"
      ],
      "metadata": {
        "id": "EhdZpJG2J-ad"
      },
      "id": "EhdZpJG2J-ad"
    },
    {
      "cell_type": "markdown",
      "source": [
        "### <a name=\"07q6b\">Question 6b</a>\n",
        "\n",
        "---\n",
        "\n",
        "What is the expected value of rolling a fair-six sided die?\n",
        "\n",
        "#### <a name=\"07sol6b\">Solution to Question 6b</a>\n",
        "\n",
        "---\n",
        "\n",
        "Let $X$ be the result of a roll of a fair six-sided die.\n",
        "\n",
        "$$E(X) = \\frac{1}{6} (1) +  \\frac{1}{6} (2) +  \\frac{1}{6} (3) +  \\frac{1}{6} (4) +  \\frac{1}{6} (5) +  \\frac{1}{6} (6) = \\frac{1}{6}(1+2+3+4+5+6) = \\frac{21}{6} = 3.5$$\n",
        "\n",
        "<br>  \n",
        "<br>  \n",
        "<br>\n",
        "\n"
      ],
      "metadata": {
        "id": "jMJtYI862AtJ"
      },
      "id": "jMJtYI862AtJ"
    },
    {
      "cell_type": "markdown",
      "source": [
        "### <a name=\"07q6c\">Question 6c</a>\n",
        "\n",
        "---\n",
        "\n",
        "What is the expected value of rolling a fair die with sides\n",
        "$1, 2, 3, \\ldots , k$?\n",
        "\n",
        "<br>\n",
        "\n",
        "<font color=\"mediumseagreen\">*Hint: Recall the sum of the first $k$ integers\n",
        "is $\\displaystyle \\sum_{n=1}^k n = \\frac{k(k+1)}{2}$*.</font>\n",
        "\n",
        "#### <a name=\"07q6c\">Solution to Question 6c</a>\n",
        "\n",
        "---\n",
        "\n",
        "We have\n",
        "\n",
        "$$E(X) = \\frac{1}{k} \\big( 1 + 2 + \\ldots + k \\big) = \\frac{1}{k} \\bigg( \\sum_{n=1}^k n \\bigg) = \\frac{1}{k} \\left( \\frac{k(k+1)}{2} \\right) = \\frac{k+1}{2}. $$\n",
        "\n",
        "\n",
        "<br>\n",
        "\n"
      ],
      "metadata": {
        "id": "LnKvWH_uKFh1"
      },
      "id": "LnKvWH_uKFh1"
    },
    {
      "cell_type": "markdown",
      "source": [
        "<font color=\"mediumseagreen\">**See [Appendix: The Discrete Uniform Distribution](#07append-unif) for a summary of key formulas, graphs, shortcuts, and R functions for working with a Discrete Uniform Distribution.**</font>\n",
        "\n"
      ],
      "metadata": {
        "id": "FjtpkxTDbxH1"
      },
      "id": "FjtpkxTDbxH1"
    },
    {
      "cell_type": "markdown",
      "source": [
        "# <a name=\"07geom\">The Geometric Distribution</a>\n",
        "\n",
        "---\n",
        "\n",
        "If we repeat a Bernoulli trial that has probability of success $p$ for each trial, we can <font color=\"dodgerblue\">count the number of failures, $X$, that occur before the first success</font>. In such cases, $X$ follows a <font color=\"dodgerblue\">**geometric distribution**</font>, and we write $\\color{dodgerblue}{X \\sim \\mbox{Geom}(p)}$.\n",
        "\n",
        "$$f(x) = q^xp \\quad \\mbox{for } x = 0, 1, 2, \\ldots .$$\n",
        "\n",
        "<br>\n",
        "\n",
        "<font color=\"mediumseagreen\">**See [Appendix: The Geometric Distribution](#07append-geom) for a summary of key formulas, graphs, shortcuts, and R functions for working with a Geometric Distribution.**</font>\n",
        "\n"
      ],
      "metadata": {
        "id": "gLUZKqKI2Cgh"
      },
      "id": "gLUZKqKI2Cgh"
    },
    {
      "cell_type": "markdown",
      "source": [
        "# <a name=\"07pois\">The Poisson Distribution</a>\n",
        "\n",
        "---\n",
        "\n",
        "The <font color=\"dodgerblue\">**Poisson distribution**</font>\n",
        "applies when the average frequency of occurrences in a given time period\n",
        "is known to be $\\lambda$, and each occurrence is independent of the\n",
        "others. Let $X$ denote <font color=\"dodgerblue\">the number of\n",
        "times an event occurs in the given time period</font>, then we have\n",
        "$\\color{dodgerblue}{X \\sim \\mbox{Pois}(\\lambda)}$.\n",
        "\n",
        "<br>\n",
        "\n",
        "<font color=\"mediumseagreen\">**See [Appendix: The Poisson Distribution](#07append-pois) for a summary of key formulas, graphs,\n",
        "shortcuts, and R functions for working with a Poisson Distribution.**</font>\n",
        "\n"
      ],
      "metadata": {
        "id": "5yUGKjud2EIu"
      },
      "id": "5yUGKjud2EIu"
    },
    {
      "cell_type": "markdown",
      "source": [
        "## <a name=\"07q7\">Question 7</a>\n",
        "\n",
        "---\n",
        "\n",
        "The average number of episodes per year of otitis media (ear infection) in early childhood is 1.6 episodes per year.  \n",
        "\n"
      ],
      "metadata": {
        "id": "SsRobNMtfCVB"
      },
      "id": "SsRobNMtfCVB"
    },
    {
      "cell_type": "markdown",
      "source": [
        "### <a name=\"07q7a\">Question 7a</a>\n",
        "\n",
        "---\n",
        "\n",
        "What is the probability that a child will get 3 or more ear infections in their first 2 years of life?\n",
        "\n",
        "#### <a name=\"07sol7a\">Solution to Question 7a</a>\n",
        "\n",
        "---\n",
        "\n",
        "<br>\n",
        "\n",
        "P(0 episodes in 2 years) = 0.0408\n",
        "\n",
        "P(1 episode in 2 years) = 0.1304\n",
        "\n",
        "P(2 episodes in 2 years) = 0.2087\n",
        "\n",
        "P(X$\\le$2) = 0.0408+0.1304+0.2087 = 0.380\n",
        "\n",
        "P(X$\\ge$3) = 1 - P(X$\\le$2) = 0.620"
      ],
      "metadata": {
        "id": "3AnQWtwJfCVL"
      },
      "id": "3AnQWtwJfCVL"
    },
    {
      "cell_type": "code",
      "execution_count": 5,
      "metadata": {
        "colab": {
          "base_uri": "https://localhost:8080/",
          "height": 52
        },
        "id": "8WH9vLVJfCVM",
        "outputId": "8a21375b-b0b5-4524-9d4f-a035d47595a8"
      },
      "outputs": [
        {
          "output_type": "display_data",
          "data": {
            "text/html": [
              "<style>\n",
              ".list-inline {list-style: none; margin:0; padding: 0}\n",
              ".list-inline>li {display: inline-block}\n",
              ".list-inline>li:not(:last-child)::after {content: \"\\00b7\"; padding: 0 .5ex}\n",
              "</style>\n",
              "<ol class=list-inline><li>0.0407622039783662</li><li>0.130439052730772</li><li>0.208702484369235</li></ol>\n"
            ],
            "text/markdown": "1. 0.0407622039783662\n2. 0.130439052730772\n3. 0.208702484369235\n\n\n",
            "text/latex": "\\begin{enumerate*}\n\\item 0.0407622039783662\n\\item 0.130439052730772\n\\item 0.208702484369235\n\\end{enumerate*}\n",
            "text/plain": [
              "[1] 0.0407622 0.1304391 0.2087025"
            ]
          },
          "metadata": {}
        },
        {
          "output_type": "display_data",
          "data": {
            "text/html": [
              "0.620096258921627"
            ],
            "text/markdown": "0.620096258921627",
            "text/latex": "0.620096258921627",
            "text/plain": [
              "[1] 0.6200963"
            ]
          },
          "metadata": {}
        }
      ],
      "source": [
        "# solution to 7a\n",
        "lam = 1.6*2\n",
        "k=0:2\n",
        "p = exp(-lam)*lam^k/factorial(k)\n",
        "p\n",
        "\n",
        "p_ge3 = 1-sum(p)\n",
        "p_ge3"
      ],
      "id": "8WH9vLVJfCVM"
    },
    {
      "cell_type": "markdown",
      "metadata": {
        "id": "3eFTo4rofCVM"
      },
      "source": [
        "### <a name=\"07q7b\">Question 7b</a>\n",
        "\n",
        "---\n",
        "\n",
        "What is the probability that a child will not get any ear infections in their first 2 years of life?\n",
        "\n",
        "#### <a name=\"07sol7b\">Solution to Question 7b</a>\n",
        "\n",
        "---\n",
        "\n",
        "P(0 episodes in 2 years) = 0.0408\n",
        "\n"
      ],
      "id": "3eFTo4rofCVM"
    },
    {
      "cell_type": "code",
      "execution_count": 7,
      "metadata": {
        "id": "3EKc_fsAfCVM"
      },
      "outputs": [],
      "source": [
        "# solution to 7b\n"
      ],
      "id": "3EKc_fsAfCVM"
    },
    {
      "cell_type": "markdown",
      "metadata": {
        "id": "CNCcQzAkfCVM"
      },
      "source": [
        "### <a name=\"07q7c\">Question 7c</a>\n",
        "\n",
        "---\n",
        "\n",
        "What is the probability that 2 siblings will **both** have 3 or more ear infections in their first 2 years?\n",
        "\n",
        "#### <a name=\"07sol7c\">Solution to Question 7c</a>\n",
        "\n",
        "---\n",
        "\n",
        "For one child the probability of 3 or more episodes was calculated above as 0.620\n",
        "\n",
        "If the number of episodes for two different siblings are independent random variables, then we multiply the two individual probabilities.\n",
        "\n",
        "Answer is 0.620^2 = 0.385\n"
      ],
      "id": "CNCcQzAkfCVM"
    },
    {
      "cell_type": "code",
      "execution_count": 8,
      "metadata": {
        "colab": {
          "base_uri": "https://localhost:8080/",
          "height": 34
        },
        "id": "O3401femfCVN",
        "outputId": "3e590771-ef2a-4c8a-9e23-eeb3fe7a0929"
      },
      "outputs": [
        {
          "output_type": "display_data",
          "data": {
            "text/html": [
              "0.384519370328597"
            ],
            "text/markdown": "0.384519370328597",
            "text/latex": "0.384519370328597",
            "text/plain": [
              "[1] 0.3845194"
            ]
          },
          "metadata": {}
        }
      ],
      "source": [
        "# solution to 7c\n",
        "\n",
        "p_ge3^2\n"
      ],
      "id": "O3401femfCVN"
    },
    {
      "cell_type": "markdown",
      "source": [
        "## <a name=\"07q8\">Question 8</a>\n",
        "\n",
        "---\n",
        "\n",
        "A sports marketer for the Denver Nuggets randomly calls people in the Denver area until they encounter someone who attended a Nuggets game last season. Suppose we know that 10% of the population attended a Nuggets game last season, and we consider a call to a person who did attend a game last season as a success. What is the probability that the marketer has their first success on their eighth call?\n",
        "\n",
        "### <a name=\"07sol8\">Solution to Question 8</a>\n",
        "\n",
        "---\n",
        "\n",
        "If the first success is on the 8th call, this means they had 7 failures before the first success. We use a geometric distribution to model the probability distribution, $X \\sim \\mbox{Geom}(0.1)$. We therefore have:\n",
        "\n",
        "$$p(7) = P(X = 7) = P(NNNNNNY) = (0.9)^7 (0.1) = 0.0478.$$\n"
      ],
      "metadata": {
        "id": "gVfH0oIb0j6J"
      },
      "id": "gVfH0oIb0j6J"
    },
    {
      "cell_type": "code",
      "execution_count": null,
      "metadata": {
        "id": "420890cd-1803-4d11-97b2-32293f41594c",
        "colab": {
          "base_uri": "https://localhost:8080/",
          "height": 52
        },
        "outputId": "928315ff-d787-406c-ee77-968a5b4f0d2b"
      },
      "outputs": [
        {
          "output_type": "display_data",
          "data": {
            "text/html": [
              "0.04782969"
            ],
            "text/markdown": "0.04782969",
            "text/latex": "0.04782969",
            "text/plain": [
              "[1] 0.04782969"
            ]
          },
          "metadata": {}
        },
        {
          "output_type": "display_data",
          "data": {
            "text/html": [
              "0.04782969"
            ],
            "text/markdown": "0.04782969",
            "text/latex": "0.04782969",
            "text/plain": [
              "[1] 0.04782969"
            ]
          },
          "metadata": {}
        }
      ],
      "source": [
        "# solution to question 8\n",
        "dgeom(7, 0.1)\n",
        "(0.9)^7 * (0.1)"
      ],
      "id": "420890cd-1803-4d11-97b2-32293f41594c"
    },
    {
      "cell_type": "markdown",
      "metadata": {
        "id": "e46636a5-a784-496d-8b60-2887a8ac054f"
      },
      "source": [
        "## <a name=\"07q9\">Question 9</a>\n",
        "\n",
        "---\n",
        "\n",
        "Suppose we know that on average twelve cars cross a certain bridge each\n",
        "minute during rush hour. Find the probability that seventeen or more\n",
        "cars cross the bridge during a one minute span of time in rush hour.\n",
        "\n",
        "### <a name=\"07sol9\">Solution to Question 9</a>\n",
        "\n",
        "---\n",
        "\n",
        "We use a Poisson distribution with $X \\sim \\mbox{Pois}(12)$ to model the probability distribution, and we have\n",
        "\n",
        "$$P(X \\geq 17) = 1- P(X \\leq 16) = 1 - F(16) = 1 - 0.8987 = 0.1013.$$"
      ],
      "id": "e46636a5-a784-496d-8b60-2887a8ac054f"
    },
    {
      "cell_type": "code",
      "execution_count": null,
      "metadata": {
        "id": "974bd036-645e-4c66-8160-712e03256155",
        "colab": {
          "base_uri": "https://localhost:8080/",
          "height": 34
        },
        "outputId": "e2e6169e-cb5f-4a88-87a8-a1ea0d24c170"
      },
      "outputs": [
        {
          "output_type": "display_data",
          "data": {
            "text/html": [
              "0.101291007439838"
            ],
            "text/markdown": "0.101291007439838",
            "text/latex": "0.101291007439838",
            "text/plain": [
              "[1] 0.101291"
            ]
          },
          "metadata": {}
        }
      ],
      "source": [
        "# solution to question 9\n",
        "1- ppois(16, 12)"
      ],
      "id": "974bd036-645e-4c66-8160-712e03256155"
    },
    {
      "cell_type": "markdown",
      "metadata": {
        "id": "fa149768-ed91-4b84-847f-a6a0dee3bf68"
      },
      "source": [
        "## <a name=\"07q10\">Question 10</a>\n",
        "\n",
        "---\n",
        "\n",
        "Recently, a nurse commented that when a patient calls the medical advice\n",
        "line claiming to have the flu, the chance that he or she truly has the\n",
        "flu (and not just a nasty cold) is only about 4%. Of the next 25\n",
        "patients calling in claiming to have the flu, what is the probability\n",
        "that exactly 4 patients will have the flu?\n",
        "\n",
        "### <a name=\"07sol10\">Solution to Question 10</a>\n",
        "\n",
        "---\n",
        "\n",
        "Let $X$ denote the number of patients that do have the flu out of the next 25 callers. We have $X \\sim \\mbox{Binom}(25, 0.04)$. Thus, we have\n",
        "\n",
        "$$P(X = 4) = p(4) = 0.0137.$$"
      ],
      "id": "fa149768-ed91-4b84-847f-a6a0dee3bf68"
    },
    {
      "cell_type": "code",
      "execution_count": null,
      "metadata": {
        "id": "6a15107d-c668-4736-b41e-49f91a21da65",
        "colab": {
          "base_uri": "https://localhost:8080/",
          "height": 34
        },
        "outputId": "aca55762-f957-467c-9e03-abce74fb61f7"
      },
      "outputs": [
        {
          "output_type": "display_data",
          "data": {
            "text/html": [
              "0.0137412545460007"
            ],
            "text/markdown": "0.0137412545460007",
            "text/latex": "0.0137412545460007",
            "text/plain": [
              "[1] 0.01374125"
            ]
          },
          "metadata": {}
        }
      ],
      "source": [
        "# solution to question 10\n",
        "dbinom(4, 25, 0.04)"
      ],
      "id": "6a15107d-c668-4736-b41e-49f91a21da65"
    },
    {
      "cell_type": "markdown",
      "metadata": {
        "id": "cd3af10b-1fb9-45ea-8045-3508c42ea911"
      },
      "source": [
        "## <a name=\"07q11\">Question 11</a>\n",
        "\n",
        "---\n",
        "\n",
        "A online retailer sells an average of 5 big screen TV’s on a given day.\n",
        "What is the probability they sell 9 TV’s in a day?\n",
        "\n",
        "### <a name=\"07sol11\">Solution to Question 11</a>\n",
        "\n",
        "---\n",
        "\n",
        "We use a Poisson distribution to model the distribution, $X \\sim \\mbox{Pois}(5)$. This gives\n",
        "\n",
        "$$P(X = 9) = p(9) = 0.0363.$$\n"
      ],
      "id": "cd3af10b-1fb9-45ea-8045-3508c42ea911"
    },
    {
      "cell_type": "code",
      "execution_count": null,
      "metadata": {
        "id": "44f5e0f7-b351-463d-bea7-0d15a6a68409",
        "colab": {
          "base_uri": "https://localhost:8080/",
          "height": 34
        },
        "outputId": "eaef847c-97b4-4fdb-abd4-f9476e6be41b"
      },
      "outputs": [
        {
          "output_type": "display_data",
          "data": {
            "text/html": [
              "0.0362655774156437"
            ],
            "text/markdown": "0.0362655774156437",
            "text/latex": "0.0362655774156437",
            "text/plain": [
              "[1] 0.03626558"
            ]
          },
          "metadata": {}
        }
      ],
      "source": [
        "# solution to question 11\n",
        "dpois(9, 5)"
      ],
      "id": "44f5e0f7-b351-463d-bea7-0d15a6a68409"
    },
    {
      "cell_type": "markdown",
      "metadata": {
        "id": "72716ae7-8cac-46c9-92b9-ad7876e6e8e4"
      },
      "source": [
        "## <a name=\"07q12\">Question 12</a>\n",
        "\n",
        "---\n",
        "\n",
        "It is known that 3% of airbags manufactured by a certain car company are\n",
        "defective. What is the probability that the first defective air bag\n",
        "occurs when the fifth item is inspected?\n",
        "\n",
        "### <a name=\"07sol12\">Solution to Question 12</a>\n",
        "\n",
        "---\n",
        "\n",
        "If the first \"success\" (which in this case is a bad outcome, a defective airbag) occurs on the 5th inspection, this means there were 4 failures (good airbags) before the first defective airbag is encoutered (first \"success\"). We use a geometric distribution to model the probability distribution, $X \\sim \\mbox{Geom}(0.03)$. We therefore have:\n",
        "\n",
        "$$P(X = 4) = p(4) = P(NNNNY) = (0.97)^4 (0.03) = 0.0266.$$"
      ],
      "id": "72716ae7-8cac-46c9-92b9-ad7876e6e8e4"
    },
    {
      "cell_type": "code",
      "execution_count": null,
      "metadata": {
        "id": "091e6b12-80fd-49eb-b1d7-e4dbda8d020d",
        "colab": {
          "base_uri": "https://localhost:8080/",
          "height": 52
        },
        "outputId": "0c5aebad-beeb-40f2-83b4-4244f9e97b5c"
      },
      "outputs": [
        {
          "output_type": "display_data",
          "data": {
            "text/html": [
              "0.0265587843"
            ],
            "text/markdown": "0.0265587843",
            "text/latex": "0.0265587843",
            "text/plain": [
              "[1] 0.02655878"
            ]
          },
          "metadata": {}
        },
        {
          "output_type": "display_data",
          "data": {
            "text/html": [
              "0.0265587843"
            ],
            "text/markdown": "0.0265587843",
            "text/latex": "0.0265587843",
            "text/plain": [
              "[1] 0.02655878"
            ]
          },
          "metadata": {}
        }
      ],
      "source": [
        "# solution to question 12\n",
        "(0.97)^4 * (0.03)\n",
        "dgeom(4, 0.03)"
      ],
      "id": "091e6b12-80fd-49eb-b1d7-e4dbda8d020d"
    },
    {
      "cell_type": "markdown",
      "metadata": {
        "id": "4255b8dd-c78a-495d-8a4d-6fcb0939fd0d"
      },
      "source": [
        "# <a name=\"07append\">Appendix A: Summary of Common Discrete Random Variables</a>\n",
        "\n",
        "---\n",
        "\n"
      ],
      "id": "4255b8dd-c78a-495d-8a4d-6fcb0939fd0d"
    },
    {
      "cell_type": "markdown",
      "source": [
        "## <a name=\"07append-binom\">The Binomial Distribution</a>\n",
        "\n",
        "---\n",
        "\n",
        "$X \\sim \\mbox{Binom}(n,p)$ is number of successes from $n$ identical and\n",
        "independent trials each with probability of success $p$.\n",
        "\n",
        "$$f(x; n, p) = \\left\\{ \\begin{array}{ll} \\left( \\begin{array}{c} n\\\\ x \\end{array} \\right) p^x(1-p)^{n-x} \\ \\ & \\mbox{for } x =0,1,2, \\ldots , n\\\\    & \\\\    0 \\ \\ & \\mbox{otherwise} \\end{array} \\right.$$\n",
        "\n",
        "-   The expected value is $E(X) = \\mu_X = np$.\n",
        "-   Variance $\\mbox{Var} (X) = \\sigma_X^2 = np(1-p)$.\n",
        "-   Use `dbinom(x, n, p)` to calculate $p(x) = P(X = x)$.\n",
        "-   Use `pbinom(x, n, p)` to calculate $F(x) = P(X \\leq x)$.\n",
        "-   Use `rbinom(m, n, p)` to generate a random sample of size $m$ from population $X \\sim \\mbox{Binom}(n,p)$.\n",
        "-   Use `qbinom(q, n, p)` to find the q<sup>th</sup> percentile of $X \\sim \\mbox{Binom}(n,p)$.\n",
        "\n"
      ],
      "metadata": {
        "id": "pHTotbfa0adq"
      },
      "id": "pHTotbfa0adq"
    },
    {
      "cell_type": "code",
      "source": [
        "x <- 0:20  # vector of values 1, 2, ..., 20\n",
        "\n",
        "# plot pmf n=40 and p = 0.25\n",
        "plot(x, dbinom(x, size=40, prob=0.25),\n",
        "     type='p',  # point plot\n",
        "     cex.lab=1.5, cex.axis=1.5, cex.main=1.5)  # increase font size on labels\n",
        "\n",
        "# plot cdf n=40 and p = 0.25\n",
        "plot(x ,pbinom(x, size=40, prob=0.25),\n",
        "     type='s',  # stairs plot\n",
        "     main='X ~ Binom(40, 0.25)',\n",
        "     ylab='Probability',\n",
        "     xlab ='At most x Successes',\n",
        "     lwd=3,\n",
        "     cex.lab=1.5, cex.axis=1.5, cex.main=1.5)  # increase font size on labels"
      ],
      "metadata": {
        "id": "PoVtGX5q0b8d",
        "outputId": "d2a77500-ce69-43f1-ba9a-b24a0d54e1ef",
        "colab": {
          "base_uri": "https://localhost:8080/",
          "height": 857
        }
      },
      "id": "PoVtGX5q0b8d",
      "execution_count": null,
      "outputs": [
        {
          "output_type": "display_data",
          "data": {
            "text/plain": [
              "plot without title"
            ],
            "image/png": "[encoded data removed]"
          },
          "metadata": {
            "image/png": {
              "width": 420,
              "height": 420
            }
          }
        },
        {
          "output_type": "display_data",
          "data": {
            "text/plain": [
              "Plot with title “X ~ Binom(40, 0.25)”"
            ],
            "image/png": "[encoded data removed]"
          },
          "metadata": {
            "image/png": {
              "width": 420,
              "height": 420
            }
          }
        }
      ]
    },
    {
      "cell_type": "code",
      "source": [
        "# calculates prob of exactly 15 successes\n",
        "# height of the pmf\n",
        "dbinom(15, 40, 0.25)"
      ],
      "metadata": {
        "id": "Ii6Fx4ma70bU",
        "colab": {
          "base_uri": "https://localhost:8080/",
          "height": 34
        },
        "outputId": "37a0ea4c-437d-4202-98a0-30b96a2912c1"
      },
      "execution_count": null,
      "outputs": [
        {
          "output_type": "display_data",
          "data": {
            "text/html": [
              "0.0281923639348919"
            ],
            "text/markdown": "0.0281923639348919",
            "text/latex": "0.0281923639348919",
            "text/plain": [
              "[1] 0.02819236"
            ]
          },
          "metadata": {}
        }
      ],
      "id": "Ii6Fx4ma70bU"
    },
    {
      "cell_type": "code",
      "source": [
        "# calculates prob of at most 15 successes\n",
        "# height of the cdf\n",
        "pbinom(15, 40, 0.25)"
      ],
      "metadata": {
        "id": "FJQTsQEk8Myc",
        "colab": {
          "base_uri": "https://localhost:8080/",
          "height": 34
        },
        "outputId": "2aa944c0-df32-4a3b-f19d-ed47a0a16791"
      },
      "execution_count": null,
      "outputs": [
        {
          "output_type": "display_data",
          "data": {
            "text/html": [
              "0.973755115916257"
            ],
            "text/markdown": "0.973755115916257",
            "text/latex": "0.973755115916257",
            "text/plain": [
              "[1] 0.9737551"
            ]
          },
          "metadata": {}
        }
      ],
      "id": "FJQTsQEk8Myc"
    },
    {
      "cell_type": "code",
      "source": [
        "# 97% of values of X are less than what value?\n",
        "# find x-coord on graph of cdf with height = 0.97\n",
        "qbinom(0.97, 40, 0.25)"
      ],
      "metadata": {
        "id": "-8K8mxXn8y0C"
      },
      "execution_count": null,
      "outputs": [],
      "id": "-8K8mxXn8y0C"
    },
    {
      "cell_type": "code",
      "source": [
        "# randomly select 4 values from Binom(40, 0.25)\n",
        "rbinom(4, 40, 0.25)"
      ],
      "metadata": {
        "id": "LuSe3Igy8lBO",
        "colab": {
          "base_uri": "https://localhost:8080/",
          "height": 34
        },
        "outputId": "f47d7104-b60e-47d5-e243-0bde47132c2e"
      },
      "execution_count": null,
      "outputs": [
        {
          "output_type": "display_data",
          "data": {
            "text/html": [
              "<style>\n",
              ".list-inline {list-style: none; margin:0; padding: 0}\n",
              ".list-inline>li {display: inline-block}\n",
              ".list-inline>li:not(:last-child)::after {content: \"\\00b7\"; padding: 0 .5ex}\n",
              "</style>\n",
              "<ol class=list-inline><li>15</li><li>14</li><li>14</li><li>13</li></ol>\n"
            ],
            "text/markdown": "1. 15\n2. 14\n3. 14\n4. 13\n\n\n",
            "text/latex": "\\begin{enumerate*}\n\\item 15\n\\item 14\n\\item 14\n\\item 13\n\\end{enumerate*}\n",
            "text/plain": [
              "[1] 15 14 14 13"
            ]
          },
          "metadata": {}
        }
      ],
      "id": "LuSe3Igy8lBO"
    },
    {
      "cell_type": "markdown",
      "source": [
        "## <a name=\"07append-unif\">The Discrete Uniform Distribution</a>\n",
        "\n",
        "---\n",
        "\n",
        "There are $k$ distinct outcomes each with an equal likelihood of\n",
        "occurring.\n",
        "\n",
        "$$f(x; k) = \\left\\{ \\begin{array}{ll} \\dfrac{1}{k} \\ \\ & \\mbox{for } x = 1, 2, \\ldots,  k\\\\ 0 \\ \\ & \\mbox{otherwise} \\end{array} \\right.$$\n",
        "\n",
        "-   The expected value is $\\displaystyle E(X) = \\mu_X = \\frac{k+1}{2}$.\n",
        "-   The variance is $\\displaystyle \\mbox{Var} (X) = \\sigma_X^2 = \\frac{k^2-1}{12}$.\n",
        "-   Note functions such as `dunif()`, `punif()`, `runif()`, and `qunif()` are for the **continuous** (not discrete) uniform distribution.\n",
        "-   It is typically easier to calculate probabilities directly rather than use technology.\n",
        "\n"
      ],
      "metadata": {
        "id": "C2-VXSLX0Yk9"
      },
      "id": "C2-VXSLX0Yk9"
    },
    {
      "cell_type": "code",
      "source": [
        "x.min <- 1\n",
        "x.max <- 6\n",
        "x <- x.min:x.max  # vector of integers  x.min,  ..., x.max\n",
        "p.x <- rep(1/(x.max - x.min+1), length(x) )\n",
        "c.x <- p.x * (x)\n",
        "\n",
        "plot(x, p.x,\n",
        "     type='p',  # point plot\n",
        "     main='PMF',\n",
        "     cex.lab=1.5, cex.axis=1.5, cex.main=1.5)  # increase font size on labels\n",
        "\n",
        "plot(x, c.x,\n",
        "     type='s',  # stairs plot\n",
        "     main='CDF',\n",
        "     cex.lab=1.5, cex.axis=1.5, cex.main=1.5)  # increase font size on labels"
      ],
      "metadata": {
        "id": "9iECa2ig0clm",
        "outputId": "aeec3578-b00e-4341-8495-2a26aab6b15d",
        "colab": {
          "base_uri": "https://localhost:8080/",
          "height": 857
        }
      },
      "id": "9iECa2ig0clm",
      "execution_count": null,
      "outputs": [
        {
          "output_type": "display_data",
          "data": {
            "text/plain": [
              "Plot with title “PMF”"
            ],
            "image/png": "[encoded data removed]"
          },
          "metadata": {
            "image/png": {
              "width": 420,
              "height": 420
            }
          }
        },
        {
          "output_type": "display_data",
          "data": {
            "text/plain": [
              "Plot with title “CDF”"
            ],
            "image/png": "[encoded data removed]"
          },
          "metadata": {
            "image/png": {
              "width": 420,
              "height": 420
            }
          }
        }
      ]
    },
    {
      "cell_type": "markdown",
      "source": [
        "## <a name=\"07append-geom\">The Geometric Distribution</a>\n",
        "\n",
        "---\n",
        "\n",
        "$X \\sim \\mbox{Geom}(p)$ is the number of failures that occur before the first success, where $p$ denotes the probability of a success and $q=1-p$ is the probability of a failure.\n",
        "\n",
        "$$f(x; p) = \\left\\{ \\begin{array}{ll} q^xp  \\ \\ & \\mbox{for }  x = 0, 1, 2, \\ldots \\\\\n",
        "0 & \\mbox{otherwise} \\end{array} \\right.  .$$\n",
        "\n",
        "-   The expected value is $E(X) = \\mu_X = \\dfrac{q}{p}$.\n",
        "-   The variance is $\\mbox{Var} (X) = \\sigma_X^2 = \\dfrac{q}{p^2}$.\n",
        "-   Use `dgeom(x, p)` to calculate $p(x) = P(X = x)$.\n",
        "-   Use `pgeom(x, p)` to calculate $F(x) = P(X \\leq x)$.\n",
        "-   Use `rgeom(m, p)` to generate a random sample of size $m$ from population $X \\sim \\mbox{Geom}(p)$.\n",
        "-   Use `qgeom(q, p)` to find the q<sup>th</sup> percentile of $X \\sim \\mbox{Geom}(p)$.\n",
        "\n"
      ],
      "metadata": {
        "id": "xG4UpvDk0Wui"
      },
      "id": "xG4UpvDk0Wui"
    },
    {
      "cell_type": "code",
      "source": [
        "x <- 0:8\n",
        "\n",
        "plot(x, dgeom(x, prob=0.75),\n",
        "     type='p',  # point plot\n",
        "     main='PMF',\n",
        "     cex.lab=1.5, cex.axis=1.5, cex.main=1.5)  # increase font size on labels\n",
        "\n",
        "plot(x, pgeom(x, prob=0.75),\n",
        "     type='s',  # stairs plot\n",
        "     main='CDF',\n",
        "     cex.lab=1.5, cex.axis=1.5, cex.main=1.5)  # increase font size on labels"
      ],
      "metadata": {
        "id": "uhcThVgW0dVg",
        "outputId": "a65b8243-2430-4fee-f96d-a07798e94fab",
        "colab": {
          "base_uri": "https://localhost:8080/",
          "height": 857
        }
      },
      "id": "uhcThVgW0dVg",
      "execution_count": null,
      "outputs": [
        {
          "output_type": "display_data",
          "data": {
            "text/plain": [
              "Plot with title “PMF”"
            ],
            "image/png": "[encoded data removed]"
          },
          "metadata": {
            "image/png": {
              "width": 420,
              "height": 420
            }
          }
        },
        {
          "output_type": "display_data",
          "data": {
            "text/plain": [
              "Plot with title “CDF”"
            ],
            "image/png": "[encoded data removed]"
          },
          "metadata": {
            "image/png": {
              "width": 420,
              "height": 420
            }
          }
        }
      ]
    },
    {
      "cell_type": "markdown",
      "source": [
        "## <a name=\"07append-pois\">The Poisson Distribution</a>\n",
        "\n",
        "---\n",
        "\n",
        "$X \\sim \\mbox{Pois}(\\lambda)$ is the number of times an event occurs in\n",
        "a fixed time period, where $\\lambda$ denotes the mean number of\n",
        "occurrences in the given time period.\n",
        "\n",
        "$$f(x; \\lambda) = \\left\\{ \\begin{array}{ll}  e^{-\\lambda} \\dfrac{\\lambda^x}{x!} \\ \\ & \\mbox{for } x =  0, 1, 2, \\ldots  \\\\\n",
        "0 & \\mbox{otherwise} \\end{array} \\right. .$$\n",
        "\n",
        "-   The expected value is $E(X) = \\mu_X = \\lambda$.\n",
        "-   The variance is $\\mbox{Var} (X) = \\sigma_X^2 = \\lambda$.\n",
        "-   Use `dpois(x, lambda)` to calculate $p(x) = P(X = x)$.\n",
        "-   Use `ppois(x, lambda)` to calculate $F(x) = P(X \\leq x)$.\n",
        "-   Use `rpois(m, lambda)` to generate a random sample of size $m$ from\n",
        "    population $X \\sim \\mbox{Pois}(\\lambda)$.\n",
        "-   Use `qpois(q, lambda)` to find the q<sup>th</sup> percentile of\n",
        "    $X \\sim \\mbox{Pois}(\\lambda)$."
      ],
      "metadata": {
        "id": "ng7gL8110VFQ"
      },
      "id": "ng7gL8110VFQ"
    },
    {
      "cell_type": "code",
      "source": [
        "x <- 0:15  # creates vector of possible occurrences\n",
        "lam <- 5  # on average 5 occurrence per time period\n",
        "\n",
        "plot(x, dpois(x, lam),\n",
        "     type='p',  # point plot\n",
        "     main='PMF',\n",
        "     cex.lab=1.5, cex.axis=1.5, cex.main=1.5)  # increase font size on labels\n",
        "\n",
        "plot(x, ppois(x, lam),\n",
        "     type='s',  # stairs plot\n",
        "     main='CDF',\n",
        "     cex.lab=1.5, cex.axis=1.5, cex.main=1.5)  # increase font size on labels"
      ],
      "metadata": {
        "id": "b-pgLf3G0d6w",
        "outputId": "8bae3b8a-cd16-4f6d-fc73-1a465fa8da08",
        "colab": {
          "base_uri": "https://localhost:8080/",
          "height": 857
        }
      },
      "id": "b-pgLf3G0d6w",
      "execution_count": null,
      "outputs": [
        {
          "output_type": "display_data",
          "data": {
            "text/plain": [
              "Plot with title “PMF”"
            ],
            "image/png": "[encoded data removed]"
          },
          "metadata": {
            "image/png": {
              "width": 420,
              "height": 420
            }
          }
        },
        {
          "output_type": "display_data",
          "data": {
            "text/plain": [
              "Plot with title “CDF”"
            ],
            "image/png": "[encoded data removed]"
          },
          "metadata": {
            "image/png": {
              "width": 420,
              "height": 420
            }
          }
        }
      ]
    },
    {
      "cell_type": "markdown",
      "source": [
        "# <a name=\"07append-b\">Appendix B: Additional Notes</a>\n",
        "\n",
        "---"
      ],
      "metadata": {
        "id": "hu-rB0DMZn0B"
      },
      "id": "hu-rB0DMZn0B"
    },
    {
      "cell_type": "markdown",
      "source": [
        "## <a name=\"07why-fact\">Why Divide By $k!$?</a>\n",
        "\n",
        "---\n",
        "\n",
        "Where does $k!$ possible ways of permuting the order come from?\n",
        "\n",
        "-   The <font color=\"dodgerblue\">**symmetric group**</font> $\\color{dodgerblue}{S_k}$ on $k$ items consists of all the possible ways of permuting the order of the $k$ items.\n",
        "-   Each element corresponds to a permutation applied to the group of k items.\n",
        "- For example $S_3$ is the symmetric group on three items.\n",
        "    -   The identity element is $(1,2,3)$ which does not change the ordering of items $1, 2, 3$.\n",
        "    -   The element $(1, \\color{tomato}{3}, \\color{tomato}{2})$ is the transpose of items 2 and 3.\n",
        "    -   The element $(3, 1, 2)$ is a composition of two transpositions:\n",
        "      - First transpose items 1 and 2, that is element $(\\color{tomato}{2}, \\color{tomato}{1}, 3)$.\n",
        "      - Then transpose items 1 and 3 to get $(\\color{tomato}{3}, 1, \\color{tomato}{2})$.\n",
        "-   The number of elements in the group is called the <font color=\"dodgerblue\">**order of the group**</font> and denoted $\\color{dodgerblue}{|S_k|}$.\n",
        "-   For example, $S_3$ has $|S_3|=6=3!$ elements that can be represented as\n",
        "$$(1,2,3), (1,3,2), (2, 1, 3), (2, 3, 1), (3, 2, 1), \\mbox{ and } (3, 1, 2).$$\n",
        "- In fact, for any symmetric group we have $\\color{dodgerblue}{|S_k|=k!}$.\n",
        "- <font color=\"dodgerblue\">**Thus, there are $k!$ ways of permutating the order of $k$ items.**</font>\n",
        "\n",
        "\n",
        "\n"
      ],
      "metadata": {
        "id": "0XoF1gRZ03Nw"
      },
      "id": "0XoF1gRZ03Nw"
    },
    {
      "cell_type": "markdown",
      "source": [
        "## <a name=\"07latex\">Typsetting Arrays in LaTeX</a>\n",
        "\n",
        "---\n",
        "\n",
        "-   The `array` environment is started with `\\begin{array}`.\n",
        "-   Next we indicate how many columns and how each column is aligned.\n",
        "    -   `{ll}` means two columns aligned to the left.\n",
        "    -   `{lrc}` would be three columns: the first aligned left, then right, then the last column is centered.\n",
        "    -   We use the `&` symbol to indicate a column break.\n",
        "    -   We use `\\\\` to indicate a row break.\n",
        "-   If we want a big curly brace on the left of the array, enter `\\left\\{` before beginning the array.\n",
        "-   We do not want a brace on the other side of the array, so we use `\\right.` to close off the left brace without using any matching symbol on the right.\n",
        "-   We use `\\mbox{otherwise}` to type the text *otherwise* inside the equation.\n",
        "\n"
      ],
      "metadata": {
        "id": "HycvCXGZ1R0V"
      },
      "id": "HycvCXGZ1R0V"
    },
    {
      "cell_type": "markdown",
      "source": [
        "# <a name=\"CC License\">Creative Commons License Information</a>\n",
        "---\n",
        "\n",
        "\n",
        "![Creative Commons\n",
        "License](https://i.creativecommons.org/l/by-nc-sa/4.0/88x31.png)\n",
        "\n",
        "*Statistical Methods: Exploring the Uncertain* by [Adam\n",
        "Spiegler (University of Colorado Denver)](https://github.com/CU-Denver-MathStats-OER/Statistical-Theory)\n",
        "is licensed under a [Creative Commons\n",
        "Attribution-NonCommercial-ShareAlike 4.0 International\n",
        "License](http://creativecommons.org/licenses/by-nc-sa/4.0/). This work is funded by an [Institutional OER Grant from the Colorado Department of Higher Education (CDHE)](https://cdhe.colorado.gov/educators/administration/institutional-groups/open-educational-resources-in-colorado).\n",
        "\n",
        "For similar interactive OER materials in other courses funded by this project in the Department of Mathematical and Statistical Sciences at the University of Colorado Denver, visit <https://github.com/CU-Denver-MathStats-OER>."
      ],
      "metadata": {
        "id": "XYaPzcSoGgEu"
      },
      "id": "XYaPzcSoGgEu"
    }
  ],
  "nbformat": 4,
  "nbformat_minor": 5,
  "metadata": {
    "kernelspec": {
      "name": "ir",
      "display_name": "R",
      "language": "R"
    },
    "colab": {
      "provenance": [],
      "include_colab_link": true
    }
  }
}