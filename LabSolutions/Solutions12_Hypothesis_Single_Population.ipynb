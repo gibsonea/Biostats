{
  "cells": [
    {
      "cell_type": "markdown",
      "metadata": {
        "id": "view-in-github",
        "colab_type": "text"
      },
      "source": [
        "<a href=\"https://colab.research.google.com/github/gibsonea/Biostats/blob/main/LabSolutions/Solutions12_Hypothesis_Single_Population.ipynb\" target=\"_parent\"><img src=\"https://colab.research.google.com/assets/colab-badge.svg\" alt=\"Open In Colab\"/></a>"
      ]
    },
    {
      "cell_type": "markdown",
      "metadata": {
        "id": "974942e0-89ba-4448-afb8-cabbc23e5ea0"
      },
      "source": [
        "# <a name=\"23intro\">4.1: Parametric Hypothesis Tests</a>\n",
        "\n",
        "---\n",
        "\n",
        "Hypothesis tests and confidence intervals are two examples of\n",
        "statistical inference. There is an unknown population parameter, and we\n",
        "would like estimate or assess claims about the parameter. We collect\n",
        "sample data, and:\n",
        "\n",
        "-   With **confidence intervals (CI)**, we **estimate** the value of a population parameter building in a **margin of error** that is derived from a sampling distribution.\n",
        "-   With **hypothesis tests**, we use a null distribution to measure whether a sample test statistic sufficiently contradicts the null claim. Then we **assess the competing claims** in $H_0$ and $H_1$.\n",
        "\n",
        "We can apply [Monte Carlo resampling (bootstrapping) methods](https://githubtocolab.com/CU-Denver-MathStats-OER/Statistical-Theory/blob/main/Chap5/17-Bootstrap-Confidence-Int.ipynb) and/or\n",
        "[parametric methods](https://githubtocolab.com/CU-Denver-MathStats-OER/Statistical-Theory/blob/main/Chap5/19-Parametric-CI-Means.ipynb) (using the Central\n",
        "Limit Theorem) to model a sampling distribution that is the foundation\n",
        "for constructing a confidence interval. Similarly, for hypothesis tests\n",
        "we have both resampling and parametric methods for measuring the\n",
        "significance of test statistics.\n",
        "\n",
        "-   We explored [permutation distributions](https://githubtocolab.com/CU-Denver-MathStats-OER/Statistical-Theory/blob/main/Chap6/22-Permutation-Tests.ipynb) as one resampling method for calculating p-values.\n",
        "-   We can use the Central Limit Theorem (CLT) to model null distributions and calculate p-values."
      ],
      "id": "974942e0-89ba-4448-afb8-cabbc23e5ea0"
    },
    {
      "cell_type": "markdown",
      "metadata": {
        "id": "24fb2d2f-841e-4acc-8190-2fa2fb181b9a"
      },
      "source": [
        "# <a name=\"23what-sig\">What is Significant Enough?</a>\n",
        "\n",
        "---\n",
        "\n",
        "The general process form performing a hypothesis test is informally:\n",
        "\n",
        "1.  State the null and alternative hypotheses in terms of population parameter(s).\n",
        "2.  Collect data from a sample and calculate a test statistic.\n",
        "3.  Calculate the p-value to measure the significance of the test statistic.\n",
        "4.  Make a conclusion (if possible).\n",
        "5.  Clearly summarize the results for a general audience.\n",
        "\n",
        "We have discussed [Steps 1 and 2](https://githubtocolab.com/CU-Denver-MathStats-OER/Statistical-Theory/blob/main/Chap6/21-Intro-Hypothesis-Tests.ipynb) and\n",
        "used [resampling methods](https://githubtocolab.com/CU-Denver-MathStats-OER/Statistical-Theory/blob/main/Chap6/22-Permutation-Tests.ipynb) as one method to\n",
        "calculate p-values in Step 3. Refer to [Appendix A](#23appenda)\n",
        "for a summary of the steps outlined above. Before investigating\n",
        "parametric methods for computing p-values, let's discuss steps and 4 and\n",
        "5:\n",
        "\n",
        "> How do we use p-values to decide whether the evidence is significant\n",
        "> enough to reject $H_0$ and accept the claim we hoped to prove in\n",
        "> $H_1$?\n",
        "\n",
        "-   The **smaller the p-value**, the **stronger the evidence** contradicting $H_0$.\n",
        "-   How small does the p-value need to be in order to claim the evidence is strong enough to reject $H_0$?"
      ],
      "id": "24fb2d2f-841e-4acc-8190-2fa2fb181b9a"
    },
    {
      "cell_type": "markdown",
      "metadata": {
        "id": "9fc3ef6f-c7b7-4763-a07b-b6a67447dc1b"
      },
      "source": [
        "## <a name=\"23sig-level\">The Significance Level</a>\n",
        "\n",
        "---\n",
        "\n",
        "The <font color=\"dodgerblue\">**significance level**</font> of a\n",
        "test, denoted ${\\color{dodgerblue}{\\alpha}}$, is the value **we choose**\n",
        "that is used to **determine whether the p-value is small enough** to\n",
        "claim the result is statistically significant and reject $H_0$.\n",
        "\n",
        "- <font color=\"mediumseagreen\">If p-value $\\leq \\alpha$, we reject $H_0$.</font>\n",
        "- <font color=\"tomato\">If p-value $> \\alpha$, we do not reject $H_0$.</font>\n",
        "\n",
        "Generally speaking, $H_0$ is a claim we currently accept as true. $H_a$\n",
        "is some new and interesting result that if true would contradict the\n",
        "currently accepted belief in $H_0$. We typically require compelling\n",
        "evidence, beyond a “reasonable doubt”, to reject the currently accepted\n",
        "claim in $H_0$ in favor of a new and competing claim in $H_a$.\n",
        "\n",
        "-  The default significance level is typically 5% (or $\\alpha = 0.05$).\n",
        "-  Some other (less) common significance levels are $\\alpha = 0.1$, $0.01$ or $0.001$.\n",
        "-  The smaller we set $\\alpha$, the more certainty we require to reject $H_0$.\n",
        "\n",
        "<br>\n",
        "\n",
        "<font color=\"mediumseagreen\">*Note: The significance level is not something we compute. We choose the significance level for the test, and the significance level should be determined prior to our analysis. Do not first calculate the p-value, and then retroactively choose the significance level to ensure the result is significant.*</font>"
      ],
      "id": "9fc3ef6f-c7b7-4763-a07b-b6a67447dc1b"
    },
    {
      "cell_type": "markdown",
      "metadata": {
        "id": "91f8f884-1875-4659-9475-d6452a3fe4a0"
      },
      "source": [
        "## <a name=\"23sum-results\">Summarizing the Results</a>\n",
        "\n",
        "---\n",
        "\n",
        "There are two possible results with hypothesis tests:\n",
        "\n",
        "-   If  <font color=\"mediumseagreen\">p-value $\\leq \\alpha$</font>, the test is  <font color=\"mediumseagreen\">statistically significant</font>.\n",
        "\n",
        "    -   There is strong enough evidence to reject $H_0$.\n",
        "    -   And thus, we accept the competing claim in $H_1$.\n",
        "\n",
        "-   If <font color=\"tomato\">p-value $> \\alpha$</font>, the test is <font color=\"tomato\">not statistically significant</font> and   there is not sufficient evidence to reject $H_0$:\n",
        "\n",
        "    -   We fail to reject $H_0$ (which is different from accepting $H_0$).\n",
        "    -   The test is inconclusive regarding the claims in $H_0$ and $H_1$.\n",
        "\n",
        "In the end, we want to be sure we communicate the results **clearly**,\n",
        "in **proper context**, to a more **general audience** that may not have\n",
        "an advanced background in statistics and mathematics."
      ],
      "id": "91f8f884-1875-4659-9475-d6452a3fe4a0"
    },
    {
      "cell_type": "markdown",
      "metadata": {
        "id": "b0d441cd-2baa-4a40-a555-0257864a28ed"
      },
      "source": [
        "## <a name=\"23q1\">Question 1</a>\n",
        "\n",
        "---\n",
        "\n",
        "\n",
        "<figure>\n",
        "<img\n",
        "src=\"https://upload.wikimedia.org/wikipedia/commons/4/4f/Hurricane-en.svg\"\n",
        "alt=\"Tropical Cyclone Structure\" width = \"60%\"/>\n",
        "<figcaption aria-hidden=\"true\">\n",
        "Credit: Kelvinsong, <a\n",
        "href=\"https://creativecommons.org/licenses/by/3.0\">CC BY 3.0</a>, via\n",
        "Wikimedia Commons\n",
        "</figcaption>\n",
        "</figure>\n",
        "\n",
        "\n",
        "Pressure is a common measurement used to characterize the strength of a\n",
        "storm. The lower the storm pressure, the higher the wind speeds, and the\n",
        "more dangerous the storm. Let $\\mu$ denote the mean pressure (in\n",
        "millibars) of all storms in the North Atlantic. Suppose we set up the\n",
        "following hypothesis to test claims about the value of $\\mu$.\n",
        "\n",
        "-   $H_0$: $\\mu = 950$. The mean pressure of all storms in the North Atlantic is 950 millibars.\n",
        "-   $H_1$: $\\mu \\ne 950$. The mean pressure of all storms in the North Atlantic is not 950 millibars.\n",
        "\n",
        "We collect a random sample of $n$ storm pressure observations with a sample mean larger than 950 millibars that has a p-value equal to $0.012$."
      ],
      "id": "b0d441cd-2baa-4a40-a555-0257864a28ed"
    },
    {
      "cell_type": "markdown",
      "metadata": {
        "id": "3da49c18-dae3-411b-a620-ba1960ad97ce"
      },
      "source": [
        "### <a name=\"23q1a1a\">Question 1a</a>\n",
        "\n",
        "---\n",
        "\n",
        "Summarize the results if we perform the hypothesis test using a 5%\n",
        "significance level. Be sure to explain in the context of the example\n",
        "using terminology a more general audience would understand.\n",
        "\n",
        "#### <a name=\"23sol1a\">Solution to Question 1a</a>\n",
        "\n",
        "---\n",
        "\n",
        "<br>  \n",
        "\n",
        "Since $p$-value $= 0.012 \\leq 0.05 = \\alpha$, the test is statistically significant at the a 5% significance level. We can reject $H_0$ and accept $H_a$.\n",
        "\n",
        "<br>\n",
        "\n",
        "<font color=\"dodgerblue\">In this context, we can conclude that the mean pressure of all storms in the North Atlantic is not 950 millibars.</font>\n",
        "\n",
        "<br>  \n",
        "<br>"
      ],
      "id": "3da49c18-dae3-411b-a620-ba1960ad97ce"
    },
    {
      "cell_type": "markdown",
      "metadata": {
        "id": "aba97305-eebb-4f18-afa3-4c96d78e428b"
      },
      "source": [
        "### <a name=\"23q1b\">Question 1b</a>\n",
        "\n",
        "---\n",
        "\n",
        "Summarize the results if we perform the hypothesis test using a 10%\n",
        "significance level. Be sure to explain in the context of the example\n",
        "using terminology a more general audience would understand.\n",
        "\n",
        "#### <a name=\"23sol1b\">Solution to Question 1b</a>\n",
        "\n",
        "---\n",
        "\n",
        "<br>  \n",
        "\n",
        "Since $p$-value $= 0.012 \\leq 0.10 = \\alpha$, the test is statistically significant at the a 10% significance level. We can reject $H_0$ and accept $H_1$.\n",
        "\n",
        "<br>\n",
        "\n",
        "<font color=\"dodgerblue\">In this context, we can conclude that the mean pressure of all storms in the North Atlantic is not 950 millibars.</font>\n",
        "\n",
        "<br>  \n"
      ],
      "id": "aba97305-eebb-4f18-afa3-4c96d78e428b"
    },
    {
      "cell_type": "markdown",
      "metadata": {
        "id": "608e41be-835f-46e4-a6b1-13397b63c42f"
      },
      "source": [
        "### <a name=\"23q1c\">Question 1c</a>\n",
        "\n",
        "---\n",
        "\n",
        "Summarize the results if we perform the hypothesis test using a 1%\n",
        "significance level. Be sure to explain in the context of the example\n",
        "using terminology a more general audience would understand.\n",
        "\n",
        "#### <a name=\"23sol1c\">Solution to Question 1c</a>\n",
        "\n",
        "---\n",
        "\n",
        "<br>  \n",
        "\n",
        "Since $p$-value $= 0.012 > 0.01 = \\alpha$, the test is NOT statistically significant at the a 1% significance level. We fail to reject $H_0$. The test is inconclusive\n",
        "\n",
        "<br>\n",
        "\n",
        "<font color=\"dodgerblue\">In this context, we cannot conclude whether or not the mean pressure of all storms in the North Atlantic is or is not equal to 950 millibars.</font>\n",
        "\n",
        "<br>  \n"
      ],
      "id": "608e41be-835f-46e4-a6b1-13397b63c42f"
    },
    {
      "cell_type": "markdown",
      "metadata": {
        "id": "19065c4d-0c27-4d41-b488-7ff4b2d2ba7a"
      },
      "source": [
        "### <a name=\"23q1d\">Question 1d</a>\n",
        "\n",
        "---\n",
        "\n",
        "Suppose we instead we want to show the mean storm pressure is **greater than** 950 millibars.\n",
        "\n",
        "-   $H_0$: $\\mu = 950$. The mean pressure of all storms in the North Atlantic is 950 millibars.\n",
        "-   $H_1$: $\\mu > 950$. The mean pressure of all storms in the North Atlantic is greater than 950 millibars.\n",
        "\n",
        "Assume we still have the same sample of size $n$ with the same sample mean (which is greater than 950 millibars) as in [Question 1](#23q1). Recall this sample has a p-value equal to $0.012$ for a two-tailed test. Using the same sample, we now test the one-tailed hypotheses instead.\n",
        "\n",
        "-   What would be the p-value for this same sample if we use the hypotheses for a one-tailed test stated above?\n",
        "-   Summarize the result of the one-tailed test in practical terms if we use a significance level of 5%.\n",
        "-   Summarize the result of the one-tailed test in practical terms if we use a significance level of 1%.\n",
        "\n",
        "#### <a name=\"23sol1d\">Solution to Question 1d</a>\n",
        "\n",
        "---\n",
        "\n",
        "<br>  \n",
        "\n",
        "If the $p$-value for a two-tail test is $0.012$, this means the area in the left tail is $0.006$ and the area in the right tail is $0.006$. If $H_1$ claims $\\mu > 950$, then the $p$-value is the area in the right tail, $0.006$. Since $0.006 \\leq 0.05$ and $0.006 \\leq 0.01$, the test is statistically significant at the 1% significance level (and thus the 5% as well).\n",
        "\n",
        "<br>\n",
        "\n",
        "Using either a 5% or 1% significance level, we therefore reach the same conclusion to reject $H_0$ and accept $H_1$.\n",
        "\n",
        "<br>\n",
        "\n",
        "<font color=\"dodgerblue\">In this context, we can conclude that the mean pressure of all storms in the North Atlantic is greater than 950 millibars.</font>\n",
        "\n",
        "\n",
        "<br>"
      ],
      "id": "19065c4d-0c27-4d41-b488-7ff4b2d2ba7a"
    },
    {
      "cell_type": "markdown",
      "metadata": {
        "id": "e95d5a15-3e39-4eee-97bd-0cb84e7bc15d"
      },
      "source": [
        "# <a name=\"23test-known\">Test for a Single Mean: Known $\\sigma^2$</a>\n",
        "\n",
        "---"
      ],
      "id": "e95d5a15-3e39-4eee-97bd-0cb84e7bc15d"
    },
    {
      "cell_type": "markdown",
      "metadata": {
        "id": "683d8744-54cf-4a9c-a862-9ac9ad9b116b"
      },
      "source": [
        "## <a name=\"23q3\">Question 3</a>\n",
        "\n",
        "---\n",
        "\n",
        "The mean height of all adult males in the United Kingdom is claimed<sup>2</sup> to be $68.5$ inches ($5$ foot $8.5$ inches or $173.9$ cm) with a standard deviation of $2.5$ inches (or $6.35$ cm). A physician suspects males in her town seem to be taller than average when compared to the population of all adult males in the UK. She collects data from a random sample of $n=25$ adult males from the town and calculates the mean\n",
        "height of the sample is $69.25$ inches.\n",
        "\n",
        "<br>\n",
        "\n",
        "<font size=2>2. [“Height, Weight, and Body Mass of the British Population Since 1820”](https://www.nber.org/system/files/working_papers/h0108/h0108.pdf) by Roderick Floud, National Bureau of of Economic Research, October 1998.</font>"
      ],
      "id": "683d8744-54cf-4a9c-a862-9ac9ad9b116b"
    },
    {
      "cell_type": "markdown",
      "metadata": {
        "id": "1d8222b9-4aaf-4703-86fe-00cc5b6fac26"
      },
      "source": [
        "### <a name=\"23q3a\">Question 3a</a>\n",
        "\n",
        "---\n",
        "\n",
        "Set up the null and alternative hypotheses (both in words and using\n",
        "appropriate notation) to test the physician's claim that adult males in\n",
        "the town are taller than the national average height for all adult males\n",
        "in the UK.\n",
        "\n",
        "#### <a name=\"23sol3a\">Solution to Question 3a</a>\n",
        "\n",
        "---\n",
        "\n",
        "-   $H_0$: Adult males in the town are of average height. $\\mu = 68.5$ inches.\n",
        "\n",
        "-   $H_1$: Adult males in the town are taller than average. $\\mu > 68.5$ inches.\n",
        "\n",
        "<br>  \n",
        "<br>"
      ],
      "id": "1d8222b9-4aaf-4703-86fe-00cc5b6fac26"
    },
    {
      "cell_type": "markdown",
      "metadata": {
        "id": "da13cccd-c4c4-45a4-b850-d5aaabd209f2"
      },
      "source": [
        "### <a name=\"23q3b\">Question 3b</a>\n",
        "\n",
        "---\n",
        "\n",
        "Compute the test statistic.\n",
        "\n",
        "#### <a name=\"23sol3b\">Solution to Question 3b</a>\n",
        "\n",
        "---\n",
        "\n",
        "<br>  \n",
        "\n",
        "\n",
        "We have $\\bar{x} = 69.25$ inches which is $0.75$ inches taller than the average.\n",
        "It is hard to determine whether this is significantly higher based on this statistic alone.\n",
        "\n",
        "<br>"
      ],
      "id": "da13cccd-c4c4-45a4-b850-d5aaabd209f2"
    },
    {
      "cell_type": "markdown",
      "metadata": {
        "id": "9h9qiWeq1Jlu"
      },
      "source": [
        "### <a name=\"23q3c3c\">Question 3c</a>\n",
        "\n",
        "---\n",
        "\n",
        "What is a reasonable null distribution to use to perform this test?\n",
        "Standardize the test statistic (give the $z$-score) from [Question\n",
        "3b](#23q3b). Interpret the meaning of the standardized test statistic.\n",
        "\n",
        "#### <a name=\"23sol3c\">Solution to Question 3c</a>\n",
        "\n",
        "---\n",
        "\n",
        "<br>  \n",
        "\n",
        "The null distribution is the distribution of test statistics ($\\bar{X}$ in the case of a test for a single mean), assuming $H_0$ is true. Thus, we assume $\\mu = 68.5$ inches. We are told the population standard deviation is believed to be $\\sigma_X = 2.5$ inches. Since it is reasonable to assume heights are normally distributed, we can apply the CLT even if $n < 30$. Apply CLT, we have a null distribution\n",
        "\n",
        "$$\\bar{X} \\sim N \\left( \\mu_X , \\frac{\\sigma_X}{\\sqrt{n}} \\right) = N \\left( 68.5 , \\frac{2.5}{\\sqrt{25}} \\right) = N( 68.5, 0.5).$$\n",
        "\n",
        "Thus, the $z$-score of the observed test statistic $\\bar{x} = 69.25$ is therefore\n",
        "\n",
        "$$z = \\frac{\\bar{x} - \\mu_{\\bar{X}}}{\\mbox{SE}(\\bar{X})} = \\frac{69.25 - 68.5}{0.5} = 1.5$$\n",
        "\n",
        "<font color=\"dodgerblue\">If $H_0$ is true, the observed sample mean of $\\bar{x} = 69.25$ inches is 1.5 standard errors above the population mean $\\mu_X = 68.5$ inches.</font>\n",
        "\n",
        "\n",
        "\n",
        "<br>"
      ],
      "id": "9h9qiWeq1Jlu"
    },
    {
      "cell_type": "markdown",
      "metadata": {
        "id": "ClrsA-ye1Jlv"
      },
      "source": [
        "### <a name=\"23q3d\">Question 3d</a>\n",
        "\n",
        "---\n",
        "\n",
        "Compute the p-value and interpret the meaning in practical terms.\n",
        "\n",
        "#### <a name=\"23sol3d\">Solution to Question 3d</a>\n",
        "\n",
        "---\n",
        "\n",
        "<br>  \n",
        "\n",
        "We have:\n",
        "\n",
        "$$p\\mbox{-value} = P( \\bar{X} \\geq 69.25) = 0.0668.$$\n",
        "\n",
        "<br>\n",
        "\n",
        "<font color=\"dodgerblue\">If the adult males in the town are average height ($H_0$ is true), then there would be a 6.68% chance of getting a sample of 25 adult males in the town that has a mean of $69.25$ inches or more.</font>\n",
        "\n",
        "\n",
        "<br>  "
      ],
      "id": "ClrsA-ye1Jlv"
    },
    {
      "cell_type": "code",
      "source": [
        "1-pnorm(1.5, 0, 1)\n",
        "1-pnorm(69.25, 68.5, 0.5)"
      ],
      "metadata": {
        "colab": {
          "base_uri": "https://localhost:8080/",
          "height": 52
        },
        "outputId": "0309ca33-0dbd-47d0-f3a0-61c6f77bbf0f",
        "id": "tQLoeOvo1Jlw"
      },
      "execution_count": null,
      "outputs": [
        {
          "output_type": "display_data",
          "data": {
            "text/html": [
              "0.0668072012688581"
            ],
            "text/markdown": "0.0668072012688581",
            "text/latex": "0.0668072012688581",
            "text/plain": [
              "[1] 0.0668072"
            ]
          },
          "metadata": {}
        },
        {
          "output_type": "display_data",
          "data": {
            "text/html": [
              "0.0668072012688581"
            ],
            "text/markdown": "0.0668072012688581",
            "text/latex": "0.0668072012688581",
            "text/plain": [
              "[1] 0.0668072"
            ]
          },
          "metadata": {}
        }
      ],
      "id": "tQLoeOvo1Jlw"
    },
    {
      "cell_type": "markdown",
      "metadata": {
        "id": "UuKgee6B1Jlw"
      },
      "source": [
        "### <a name=\"23q3e\">Question 3e</a>\n",
        "\n",
        "---\n",
        "\n",
        "Shade area(s) under the graph of a null distribution corresponding to\n",
        "the p-value. Either make an informal sketch on paper or see [Appendix\n",
        "B](#23appendb-known) to plot in R.\n",
        "\n",
        "#### <a name=\"23sol3e\">Solution to Question 3e</a>\n",
        "\n",
        "---\n",
        "\n",
        "<br>  \n",
        "<br>  \n",
        "<br>"
      ],
      "id": "UuKgee6B1Jlw"
    },
    {
      "cell_type": "code",
      "source": [
        "library(ggplot2)"
      ],
      "metadata": {
        "id": "D0nbYaka1Jlx"
      },
      "execution_count": null,
      "outputs": [],
      "id": "D0nbYaka1Jlx"
    },
    {
      "cell_type": "code",
      "execution_count": null,
      "metadata": {
        "id": "_cwc6g321Jlx"
      },
      "outputs": [],
      "source": [
        "null.mean <- 68.5  # mean of the null distribution\n",
        "null.se <- 0.5  # standard error of the null distribution\n",
        "test.stat <- 69.25  # test statistic"
      ],
      "id": "_cwc6g321Jlx"
    },
    {
      "cell_type": "code",
      "source": [
        "################################################\n",
        "# for a right-tailed test run the code cell below\n",
        "################################################\n",
        "xmax <- max(null.mean + 4*null.se, test.stat)\n",
        "xmin <- null.mean - 4*null.se\n",
        "\n",
        "\n",
        "ggplot(NULL, aes(c(xmin, xmax))) +\n",
        "  geom_area(stat = \"function\",   fun = dnorm,\n",
        "            args = list(mean = null.mean, sd = null.se),\n",
        "            color = \"black\", fill = NA,\n",
        "            xlim = c(xmin, test.stat)) +\n",
        "  geom_area(stat = \"function\",   fun = dnorm,\n",
        "            args = list(mean = null.mean, sd = null.se),\n",
        "            color = \"black\", fill = \"firebrick2\",\n",
        "            xlim = c(test.stat, xmax)) +\n",
        "  geom_vline(xintercept = test.stat, linetype=\"dashed\",\n",
        "                color = \"firebrick2\", linewidth = 1) +\n",
        "  labs(x = \"test statistic\", y = \"\") +\n",
        "  scale_y_continuous(breaks = NULL) +\n",
        "  scale_x_continuous(breaks=test.stat) +\n",
        "  geom_hline(yintercept=0) +\n",
        "  theme_bw() +\n",
        "  theme(axis.text.x=element_text(size=15, color = \"firebrick2\"))"
      ],
      "metadata": {
        "colab": {
          "base_uri": "https://localhost:8080/",
          "height": 437
        },
        "outputId": "9beb18e4-507c-4398-c67b-b57eee73a173",
        "id": "p0_9zaFt1Jlx"
      },
      "execution_count": null,
      "outputs": [
        {
          "output_type": "display_data",
          "data": {
            "text/plain": [
              "plot without title"
            ],
            "image/png": "[encoded data removed]"
          },
          "metadata": {
            "image/png": {
              "width": 420,
              "height": 420
            }
          }
        }
      ],
      "id": "p0_9zaFt1Jlx"
    },
    {
      "cell_type": "markdown",
      "metadata": {
        "id": "uC70ruGq1Jly"
      },
      "source": [
        "### <a name=\"23q3f\">Question 3f</a>\n",
        "\n",
        "---\n",
        "\n",
        "-   If a 5% significance level is chosen, summarize the result in practical terms.\n",
        "-   If a 10% significance level is chosen, summarize the result in practical terms.\n",
        "\n",
        "#### <a name=\"23sol3f\">Solution to Question 3f</a>\n",
        "\n",
        "---\n",
        "\n",
        "<br>  \n",
        "\n",
        "<br>  \n",
        "\n",
        "At a significance level of $\\alpha = 0.05$, we have $p$-value $= 0.0668 > \\alpha = 0.05$. Thus, the test is not statistically significant. We do not reject the null hypothesis. We cannot conclude whether or not the adult males in this town are taller than the national average in the UK.\n",
        "\n",
        "<br>  \n",
        "\n",
        "At a significance level of $\\alpha = 0.10$, we have $p$-value $= 0.0668 \\leq \\alpha = 0.10$. Thus, the test is statistically significant. We can reject $H_0$ and have evidence to accept $H_1$. We can conclude that the adult males in the town are taller than average.\n",
        "\n",
        "\n",
        "<br>"
      ],
      "id": "uC70ruGq1Jly"
    },
    {
      "cell_type": "markdown",
      "metadata": {
        "id": "853a3471-13e1-4d52-93b7-24182fb7f1d9"
      },
      "source": [
        "## <a name=“23p-known\\>p-value for a Single Mean: Known $\\sigma^2$</a>\n",
        "\n",
        "---\n",
        "\n",
        "Suppose a random sample size $n$ is picked from a population with known\n",
        "population variance $\\sigma^2$ but unknown mean $\\mu$. If we are doing a\n",
        "hypothesis test on a single mean with null claim\n",
        "${\\color{tomato}{H_0: \\mu = \\mu_0}}$, then as long as the population is\n",
        "symmetric or the sample size is large enough $(n \\geq 30)$, we can\n",
        "use the Central Limit Theorem for means to:\n",
        "\n",
        "-   Model the **null distribution** with the sampling distribution ${\\color{dodgerblue}{\\overline{X} \\sim N \\left( {\\color{tomato}{\\mu_0}}, \\frac{\\sigma}{\\sqrt{n}} \\right)}}$.\n",
        "-   Calculate the **standardized test statistic** which is the $z$-score of the sample mean:\n",
        "\n",
        "$${\\color{dodgerblue}{z = \\frac{\\mbox{sample stat}- {\\color{tomato}{\\mbox{null claim}}}}{\\mbox{SE}(\\overline{X})} = \\dfrac{\\bar{x} - {\\color{tomato}{\\mu_0}}}{\\frac{\\sigma}{\\sqrt{n}}}}}.$$"
      ],
      "id": "853a3471-13e1-4d52-93b7-24182fb7f1d9"
    },
    {
      "cell_type": "markdown",
      "metadata": {
        "id": "91068018-a543-4662-ab7d-e768ebdbe73a"
      },
      "source": [
        "# <a name=\"23test-unknown\">Test for a Single Mean: Unknown $\\sigma^2$</a>\n",
        "\n",
        "---\n",
        "\n",
        "As with confidence intervals, when estimating an unknown population\n",
        "mean, we often do not know the population variance. Nevertheless, we can\n",
        "still conduct a hypothesis test on a single mean, but there will be some\n",
        "additional uncertainty due to our need to estimate $\\sigma^2$. Below we work through an example using the `storms` data frame\n",
        "in the `dplyr` package to devise a method for computing p-values under\n",
        "these circumstances."
      ],
      "id": "91068018-a543-4662-ab7d-e768ebdbe73a"
    },
    {
      "cell_type": "markdown",
      "metadata": {
        "id": "eaf5eee0-9a41-4f50-a3fa-b14f2d1918fd"
      },
      "source": [
        "## <a name=\"23sample-press\">Picking a Random Sample of Storm Pressures</a>\n",
        "\n",
        "---\n",
        "\n",
        "The `storms` data set is from the [NOAA Hurricane Best Track\n",
        "Data](https://www.nhc.noaa.gov/data/#hurdat). We will perform a\n",
        "hypothesis test to test claims about the mean storm pressure, so we will\n",
        "need to analyze the variable `pressure`.\n",
        "\n",
        "-   Run the code cell below to load the `dplyr` package."
      ],
      "id": "eaf5eee0-9a41-4f50-a3fa-b14f2d1918fd"
    },
    {
      "cell_type": "code",
      "execution_count": null,
      "metadata": {
        "id": "87bd63e0-9f3d-4005-863b-56ed79823850",
        "colab": {
          "base_uri": "https://localhost:8080/"
        },
        "outputId": "245eb270-ceed-4d8a-b39a-d54a1aa8b099"
      },
      "outputs": [
        {
          "output_type": "stream",
          "name": "stderr",
          "text": [
            "\n",
            "Attaching package: ‘dplyr’\n",
            "\n",
            "\n",
            "The following objects are masked from ‘package:stats’:\n",
            "\n",
            "    filter, lag\n",
            "\n",
            "\n",
            "The following objects are masked from ‘package:base’:\n",
            "\n",
            "    intersect, setdiff, setequal, union\n",
            "\n",
            "\n"
          ]
        }
      ],
      "source": [
        "library(dplyr)  # load dplyr package"
      ],
      "id": "87bd63e0-9f3d-4005-863b-56ed79823850"
    },
    {
      "cell_type": "markdown",
      "metadata": {
        "id": "337e2b0d-8d94-4ae3-8cce-7b19b16d2312"
      },
      "source": [
        "-   Run the code cell below to pick a random sample of $n=32$ storm pressures from `storms`."
      ],
      "id": "337e2b0d-8d94-4ae3-8cce-7b19b16d2312"
    },
    {
      "cell_type": "code",
      "execution_count": null,
      "metadata": {
        "id": "5898b53f-741f-4b09-8125-0efff6677ee6"
      },
      "outputs": [],
      "source": [
        "set.seed(210)  # fixes output for consistent results\n",
        "\n",
        "my.sample <- sample(storms$pressure, size=32, replace=FALSE)"
      ],
      "id": "5898b53f-741f-4b09-8125-0efff6677ee6"
    },
    {
      "cell_type": "markdown",
      "metadata": {
        "id": "d7e59a6b-d225-47c8-ab13-3215f521ddda"
      },
      "source": [
        "## <a name=\"23q4\">Question 4</a>\n",
        "\n",
        "---\n",
        "\n",
        "It is claimed<sup>3</sup> that the average pressure of all North Atlantic storms is 950 millibars. You believe this claim is inaccurate and would like to show the average pressure of all storms is not 950 millibars.\n",
        "\n",
        "<br>\n",
        "\n",
        "<font size=2>3. [The University of Arizona Hydrology and Atmospheric Sciences](http://www.atmo.arizona.edu/students/courselinks/fall10/atmo336/lectures/sec2/hurricanes.html),\n",
        "accessed July 13, 2023.</font>"
      ],
      "id": "d7e59a6b-d225-47c8-ab13-3215f521ddda"
    },
    {
      "cell_type": "markdown",
      "metadata": {
        "id": "5c8b7fa8-9a22-4e9a-864d-82e54e39b6b2"
      },
      "source": [
        "### <a name=\"23q4a\">Question 4a</a>\n",
        "\n",
        "---\n",
        "\n",
        "Set up the null and alternative hypotheses both in words and using\n",
        "appropriate notation.\n",
        "\n",
        "#### <a name=\"23sol4a\">Solution to Question 4a</a>\n",
        "\n",
        "---\n",
        "\n",
        "-   $H_0$: $\\mu = 950$. The mean pressure of all storms in the North Atlantic is 950 millibars.\n",
        "-   $H_1$: $\\mu \\ne 950$. The mean pressure of all storms in the North Atlantic is not 950 millibars.\n",
        "\n",
        "<br>  \n",
        "<br>"
      ],
      "id": "5c8b7fa8-9a22-4e9a-864d-82e54e39b6b2"
    },
    {
      "cell_type": "markdown",
      "metadata": {
        "id": "ffab0db5-bcd5-44e4-a6a0-6313edd7d3b0"
      },
      "source": [
        "### <a name=\"23q4b\">Question 4b</a>\n",
        "\n",
        "---\n",
        "\n",
        "Compute the test statistic.\n",
        "\n",
        "#### <a name=\"23sol4b\">Solution to Question 4b</a>\n",
        "\n",
        "---\n",
        "\n",
        "<br>  \n",
        "\n",
        "The test statistic is the mean of the sample, $\\bar{x} = 991.5$ millibars.\n",
        "\n",
        "<br>"
      ],
      "id": "ffab0db5-bcd5-44e4-a6a0-6313edd7d3b0"
    },
    {
      "cell_type": "code",
      "source": [
        "test.pressure <- mean(my.sample)\n",
        "test.pressure"
      ],
      "metadata": {
        "colab": {
          "base_uri": "https://localhost:8080/",
          "height": 34
        },
        "id": "KA0NPTViUmFG",
        "outputId": "bb9b50f2-d65d-423f-e744-dcf4da92b322"
      },
      "id": "KA0NPTViUmFG",
      "execution_count": null,
      "outputs": [
        {
          "output_type": "display_data",
          "data": {
            "text/html": [
              "991.5"
            ],
            "text/markdown": "991.5",
            "text/latex": "991.5",
            "text/plain": [
              "[1] 991.5"
            ]
          },
          "metadata": {}
        }
      ]
    },
    {
      "cell_type": "markdown",
      "metadata": {
        "id": "74ba2c51-a851-40af-971a-ea1ead7c40c1"
      },
      "source": [
        "### <a name=\"23q4c\">Question 4c</a>\n",
        "\n",
        "---\n",
        "\n",
        "What is a reasonable standardized null distribution to use to perform\n",
        "this test? Standardize the test statistic from [Question 4b](#23q4b) and interpret its meaning.\n",
        "\n",
        "#### <a name=\"23sol4c\">Solution to Question 4c</a>\n",
        "\n",
        "---\n",
        "\n",
        "<br>  \n",
        "\n",
        "The null distribution is the distribution of test statistics ($\\bar{X}$ in the case of a test for a single mean), assuming $H_0$ is true. Thus, we assume $\\mu = 950$ millibars.\n",
        "\n",
        "<font color=\"tomato\">In this setting, we have no idea what is the value of $\\sigma_X$. We can use the sample standard deviation as an estimate, $\\sigma_X \\approx s = 18.1961$ millibars.</font>\n",
        "\n",
        "We can apply CLT since $n=32 \\geq 30$, and we have:\n",
        "\n",
        "$$\\bar{X} \\sim N \\left( \\mu_X , \\frac{\\sigma_X}{\\sqrt{n}} \\right) \\approx N \\left( \\mu_X , \\frac{{\\color{tomato}{s}}}{\\sqrt{n}} \\right) = N \\left( 950, \\frac{{\\color{tomato}{18.1961}}}{\\sqrt{32}} \\right) = N(950, 3.2166)$$\n",
        "\n",
        " Thus, the standardized test statistic is\n",
        "\n",
        "$$\\frac{\\bar{x} - \\mu_{\\bar{X}}}{\\mbox{SE}(\\bar{X})} = \\frac{991.5 - 950}{3.2166} = 12.9017.$$\n",
        "\n",
        "<font color=\"dodgerblue\">If $H_0$ is true, the observed sample mean of $\\bar{x} = 991.5$ millibars is  $12.9017$ standard errors above the population mean $\\mu_X = 950$ millibars.</font>\n",
        "<br>"
      ],
      "id": "74ba2c51-a851-40af-971a-ea1ead7c40c1"
    },
    {
      "cell_type": "code",
      "source": [
        "s.pressure <- sd(my.sample)\n",
        "s.pressure"
      ],
      "metadata": {
        "colab": {
          "base_uri": "https://localhost:8080/",
          "height": 34
        },
        "id": "wuyLi1NsVsg8",
        "outputId": "3622e780-527b-4d9e-a7a8-af7184bc494a"
      },
      "id": "wuyLi1NsVsg8",
      "execution_count": null,
      "outputs": [
        {
          "output_type": "display_data",
          "data": {
            "text/html": [
              "18.1960647996634"
            ],
            "text/markdown": "18.1960647996634",
            "text/latex": "18.1960647996634",
            "text/plain": [
              "[1] 18.19606"
            ]
          },
          "metadata": {}
        }
      ]
    },
    {
      "cell_type": "code",
      "source": [
        "se.pressure <- s.pressure / sqrt(32)\n",
        "se.pressure"
      ],
      "metadata": {
        "colab": {
          "base_uri": "https://localhost:8080/",
          "height": 34
        },
        "id": "Bm3WLR1ZW6wm",
        "outputId": "4870570b-274b-4039-e8ac-b98d050ff3e0"
      },
      "id": "Bm3WLR1ZW6wm",
      "execution_count": null,
      "outputs": [
        {
          "output_type": "display_data",
          "data": {
            "text/html": [
              "3.21664020268795"
            ],
            "text/markdown": "3.21664020268795",
            "text/latex": "3.21664020268795",
            "text/plain": [
              "[1] 3.21664"
            ]
          },
          "metadata": {}
        }
      ]
    },
    {
      "cell_type": "code",
      "source": [
        "t.pressure <- (test.pressure - 950) / se.pressure\n",
        "t.pressure"
      ],
      "metadata": {
        "colab": {
          "base_uri": "https://localhost:8080/",
          "height": 34
        },
        "id": "MZU6NpcbXlcv",
        "outputId": "07531a9d-ddae-42c9-ae54-867c8bb694fa"
      },
      "id": "MZU6NpcbXlcv",
      "execution_count": null,
      "outputs": [
        {
          "output_type": "display_data",
          "data": {
            "text/html": [
              "12.9016605479596"
            ],
            "text/markdown": "12.9016605479596",
            "text/latex": "12.9016605479596",
            "text/plain": [
              "[1] 12.90166"
            ]
          },
          "metadata": {}
        }
      ]
    },
    {
      "cell_type": "markdown",
      "metadata": {
        "id": "ca2c870a-b0a7-498f-b498-4f978950a973"
      },
      "source": [
        "### <a name=\"23q4d\">Question 4d</a>\n",
        "\n",
        "---\n",
        "\n",
        "Compute the p-value and interpret the meaning in practical terms.\n",
        "\n",
        "#### <a name=\"23sol4d\">Solution to Question 4d</a>\n",
        "\n",
        "---\n",
        "\n",
        "<br>  \n",
        "\n",
        "Since the population variance is unknown and we are using $s=18.1961$ in place of the unknown value of $\\sigma_X$, <font color=\"tomato\">we use a $t$-distribution with $n-1=31$ degrees of freedom</font> in order to compute the $p$-value associated with the standardized test statistic. Since this is a two-tail test, we have\n",
        "\n",
        "$$p\\mbox{-value} = 2 \\cdot P( \\bar{X}  \\geq 991.5) = (2)(2.64 \\times 10^{-14}) = 5.28 \\times 10^{-14}$$\n",
        "\n",
        "<font color=\"dodgerblue\">If the mean pressure of all storms in the North Atlantic is 950 millibars ($H_0$ is true), then there would be a $0.00000000000528\\%$ chance of getting a sample of 32 storms in the North Atlantic that has a mean pressure that differs from $950$ millibars by $41.5$ millibars or more.</font>\n",
        "\n",
        "<br>"
      ],
      "id": "ca2c870a-b0a7-498f-b498-4f978950a973"
    },
    {
      "cell_type": "code",
      "source": [
        "2*(1 - pt(t.pressure, 32 - 1))"
      ],
      "metadata": {
        "colab": {
          "base_uri": "https://localhost:8080/",
          "height": 34
        },
        "id": "5VwKCekoYcjJ",
        "outputId": "2cd8a971-b0df-4feb-fdd2-790c9eb66300"
      },
      "id": "5VwKCekoYcjJ",
      "execution_count": null,
      "outputs": [
        {
          "output_type": "display_data",
          "data": {
            "text/html": [
              "5.28466159721575e-14"
            ],
            "text/markdown": "5.28466159721575e-14",
            "text/latex": "5.28466159721575e-14",
            "text/plain": [
              "[1] 5.284662e-14"
            ]
          },
          "metadata": {}
        }
      ]
    },
    {
      "cell_type": "markdown",
      "metadata": {
        "id": "9a92bf6d-0aec-44c2-803a-4c0afc99ff42"
      },
      "source": [
        "### <a name=\"23q4e\">Question 4e</a>\n",
        "\n",
        "---\n",
        "\n",
        "Shade area(s) under the graph of a null distribution corresponding to\n",
        "the p-value in [Question 4d](#23q4d). Either make an informal sketch on paper\n",
        "or see [Appendix B](#23appendb-unknown) to plot in R.\n",
        "\n",
        "#### <a name=\"23sol4e\">Solution to Question 4e</a>\n",
        "\n",
        "---\n",
        "\n",
        "<br>  \n",
        "\n",
        "\n",
        "\n",
        "<br>"
      ],
      "id": "9a92bf6d-0aec-44c2-803a-4c0afc99ff42"
    },
    {
      "cell_type": "code",
      "execution_count": null,
      "metadata": {
        "id": "brpe-X53Zr-y"
      },
      "outputs": [],
      "source": [
        "test.stat <- 12.9017  # t-test statistic\n",
        "deg.free <- 32 - 1  # degrees of freedom"
      ],
      "id": "brpe-X53Zr-y"
    },
    {
      "cell_type": "code",
      "source": [
        "################################################\n",
        "# for a two-tailed test run the code cell below\n",
        "################################################\n",
        "v <- deg.free\n",
        "end.t <- qt(0.9997, v)\n",
        "test.stat <- abs(test.stat)\n",
        "xmax <- max(end.t, test.stat)\n",
        "xmin <- -xmax\n",
        "\n",
        "\n",
        "ggplot(NULL, aes(c(xmin, xmax))) +\n",
        "  geom_area(stat = \"function\",   fun = dt,\n",
        "            args = list(df = v),\n",
        "            color = \"black\", fill = NA,\n",
        "            xlim = c(-test.stat, test.stat)) +\n",
        "  geom_area(stat = \"function\",   fun = dt,\n",
        "            args = list(df = v),\n",
        "            color = \"black\", fill = \"firebrick2\",\n",
        "            xlim = c(xmin, -test.stat)) +\n",
        "  geom_area(stat = \"function\",   fun = dt,\n",
        "            args = list(df = v),\n",
        "            color = \"black\", fill = \"firebrick2\",\n",
        "            xlim = c(test.stat, xmax)) +\n",
        "  geom_vline(xintercept = c(-test.stat, test.stat), linetype=\"dashed\",\n",
        "                color = \"firebrick2\", linewidth = 1) +\n",
        "  labs(x = \"test statistic\", y = \"\") +\n",
        "  scale_y_continuous(breaks = NULL) +\n",
        "  scale_x_continuous(breaks=c(-test.stat,  test.stat)) +\n",
        "  geom_hline(yintercept=0) +\n",
        "  theme_bw() +\n",
        "  theme(axis.text.x=element_text(size=15, color = \"firebrick2\"))"
      ],
      "metadata": {
        "colab": {
          "base_uri": "https://localhost:8080/",
          "height": 437
        },
        "id": "gA8ekeb-ZyWz",
        "outputId": "12a7d3e6-fa32-4d90-dbcf-5009f798e239"
      },
      "id": "gA8ekeb-ZyWz",
      "execution_count": null,
      "outputs": [
        {
          "output_type": "display_data",
          "data": {
            "text/plain": [
              "plot without title"
            ],
            "image/png": "[encoded data removed]"
          },
          "metadata": {
            "image/png": {
              "width": 420,
              "height": 420
            }
          }
        }
      ]
    },
    {
      "cell_type": "markdown",
      "metadata": {
        "id": "bb5bc365-35db-4e81-973c-6f98a724cae1"
      },
      "source": [
        "### <a name=\"23q4f\">Question 4f</a>\n",
        "\n",
        "---\n",
        "\n",
        "If a 5% significance level is chosen, summarize the result in practical\n",
        "terms.\n",
        "\n",
        "#### <a name=\"23sol4f\">Solution to Question 4f</a>\n",
        "\n",
        "---\n",
        "\n",
        "Since $p$-value $\\leq \\alpha$ if $\\alpha = 0.05$, the test is statistically significant at a 5% significance level. We can reject $H_0$ and accept $H_1$.\n",
        "\n",
        "<br>\n",
        "\n",
        "<font color=\"dodgerblue\">In this context, we can conclude that the mean pressure of all North Atlantic storms is different from 950 millibars.</font>\n",
        "\n",
        "<br>"
      ],
      "id": "bb5bc365-35db-4e81-973c-6f98a724cae1"
    },
    {
      "cell_type": "markdown",
      "metadata": {
        "id": "c493a81a-9d59-48b7-bbef-b3ecaebe533c"
      },
      "source": [
        "## <a name=\"23p-unknown\">p-value for a Single Mean: Unknown $\\sigma^2$</a>\n",
        "\n",
        "---\n",
        "\n",
        "Suppose a random sample size $n$ is picked from a population with\n",
        "unknown population mean and variance. If we are doing a hypothesis test\n",
        "on a single mean with null claim $H_0: \\mu = \\mu_0$, then as long as the\n",
        "population is symmetric or the sample size is large enough\n",
        "$(n \\geq 30)$:\n",
        "\n",
        "-   The **standardized test statistic** is called the  <font color=\"dodgerblue\">**t-test statistic**</font>:\n",
        "\n",
        "$${\\large \\boxed{{\\color{dodgerblue}{{\\color{tomato}{t}} = \\frac{\\mbox{sample stat}-\\mbox{null claim}}{\\mbox{SE}(\\overline{X})} = \\dfrac{\\bar{x} - \\mu_0}{\\frac{{\\color{tomato}{s}}}{\\sqrt{n}}}}}}}.$$\n",
        "\n",
        "-   The **null distribution** is the distribution of t-test statistics that we model using a  <font color=\"dodgerblue\">**$t$-distribution**</font> with  <font color=\"dodgerblue\">**$n-1$ degrees of freedom**</font>.\n",
        "\n",
        "In R, we can use the command\n",
        "`t.test(x, mu = [null], alt = [direction])`.\n",
        "\n",
        "-   Sample data is stored in the vector `x`.\n",
        "-   Set the option `mu` equal to the value, $\\mu_0$, claimed in $H_0$.\n",
        "-   Set the option `alt` based on the inequality used in $H_1$.\n",
        "    -   Use `\"greater\"` for right-tailed test.\n",
        "    -   Use `\"less\"` for left-tailed test.\n",
        "    -   Use `\"two.sided\"` for a two-tailed test.\n",
        "    -   If you do not indicate any `alt` option, the default is a two-tailed test."
      ],
      "id": "c493a81a-9d59-48b7-bbef-b3ecaebe533c"
    },
    {
      "cell_type": "markdown",
      "metadata": {
        "id": "70833e55-3e15-4f09-8726-dc6241b9a8e8"
      },
      "source": [
        "## <a name=\"23q5\">Question 5</a>\n",
        "\n",
        "---\n",
        "\n",
        "Check your results for the hypothesis test in [Question 4](#23q4) using the\n",
        "`t.test()` function.\n",
        "\n",
        "### <a name=\"23sol5\">Solution to Question 5</a>\n",
        "\n",
        "---\n",
        "\n",
        "Fill in the options for the `t.test()` function in the code cell below."
      ],
      "id": "70833e55-3e15-4f09-8726-dc6241b9a8e8"
    },
    {
      "cell_type": "code",
      "execution_count": null,
      "metadata": {
        "id": "a0c3cf7e-d2e4-4f3a-b2fc-168cd42c32e4",
        "colab": {
          "base_uri": "https://localhost:8080/",
          "height": 208
        },
        "outputId": "22138e22-b4c3-47cb-aa42-74dc6ddd0bc9"
      },
      "outputs": [
        {
          "output_type": "display_data",
          "data": {
            "text/plain": [
              "\n",
              "\tOne Sample t-test\n",
              "\n",
              "data:  my.sample\n",
              "t = 12.902, df = 31, p-value = 5.295e-14\n",
              "alternative hypothesis: true mean is not equal to 950\n",
              "95 percent confidence interval:\n",
              " 984.9396 998.0604\n",
              "sample estimates:\n",
              "mean of x \n",
              "    991.5 \n"
            ]
          },
          "metadata": {}
        }
      ],
      "source": [
        "t.test(my.sample, mu = 950, alt = \"two.sided\")"
      ],
      "id": "a0c3cf7e-d2e4-4f3a-b2fc-168cd42c32e4"
    },
    {
      "cell_type": "markdown",
      "metadata": {
        "id": "6ad77f35-7ed7-48d9-ae71-dd170ede2d95"
      },
      "source": [
        "<br>  \n",
        "<br>"
      ],
      "id": "6ad77f35-7ed7-48d9-ae71-dd170ede2d95"
    },
    {
      "cell_type": "markdown",
      "metadata": {
        "id": "021f92a0-9a7b-40e8-ab55-a147d6e601c7"
      },
      "source": [
        "## <a name=\"23q6\">Question 6</a>\n",
        "\n",
        "---\n",
        "\n",
        "The output of `t.test()` gives both a p-value and a 95% confidence\n",
        "interval (by default). Let's interpret the confidence interval and see\n",
        "if we obtain a result that is consistent with our summary in [Question\n",
        "4f](#23q4f)."
      ],
      "id": "021f92a0-9a7b-40e8-ab55-a147d6e601c7"
    },
    {
      "cell_type": "markdown",
      "metadata": {
        "id": "16c2389e-9862-4f50-8535-0583efa994de"
      },
      "source": [
        "### <a name=\"23q6a\">Question 6a</a>\n",
        "\n",
        "---\n",
        "\n",
        "Based on the output of your code in [Question 5](#23q5), what is a 95% confidence interval for the mean pressure of all North Atlantic storms?\n",
        "\n",
        "#### <a name=\"23sol6a\">Solution to Question 6a</a>\n",
        "\n",
        "---\n",
        "\n",
        "<br>  \n",
        "\n",
        "A 95% confidence interval for the mean pressure of all storms is from $984.9396$\n",
        "millibars to $998.0604$ millibars.\n",
        "\n",
        "<br>\n",
        "\n"
      ],
      "id": "16c2389e-9862-4f50-8535-0583efa994de"
    },
    {
      "cell_type": "markdown",
      "metadata": {
        "id": "9000b812-39c4-459d-b388-90e6f591126b"
      },
      "source": [
        "### <a name=\"23q6b\">Question 6b</a>\n",
        "\n",
        "---\n",
        "\n",
        "Based on the 95% confidence interval [Question 6a](#23q6a), is 950 millibars\n",
        "(the null claim for $\\mu$ in $H_0$) a plausible estimate for $\\mu$? Is\n",
        "this consistent with your answer in [Question 4f](#23q4f)? Explain why or why\n",
        "not.\n",
        "\n",
        "#### <a name=\"23sol6b\">Solution to Question 6b</a>\n",
        "\n",
        "---\n",
        "\n",
        "<br>\n",
        "\n",
        "Since a mean pressure of 950 millibars is not in the 95% confidence interval, it is not plausible that $\\mu = 950$. Thus we can conclude $\\mu \\ne 950$. This is consistent with the result of the hypothesis test.\n",
        "\n",
        "<br>"
      ],
      "id": "9000b812-39c4-459d-b388-90e6f591126b"
    },
    {
      "cell_type": "markdown",
      "metadata": {
        "id": "8578b059-aac2-4871-ba2c-40dd86ad47b2"
      },
      "source": [
        "# <a name=\"23ci-test\">Connection Between CI's and Two-Tailed Tests</a>\n",
        "\n",
        "---\n",
        "\n",
        "If we are performing a two-tailed hypothesis test using a significance\n",
        "level $\\alpha=0.05$, then we can reject the null hypothesis if either:\n",
        "\n",
        "-   The $p$-value of our sample is less than or equal to $\\alpha=0.05$, or\n",
        "-   The value $\\mu_0$ claimed in $H_0$ is NOT inside a 95% confidence interval.\n",
        "-   The two statements above are equivalent to one another. We do not need to check both!\n",
        "\n",
        "We can adjust the statements above for a hypothesis test performed at\n",
        "other significance levels. For example, if we are conducting a\n",
        "two-tailed test at a 1% significance level, we can use 99% confidence\n",
        "interval instead of calculating a p-value.\n",
        "\n",
        "<br>\n",
        "\n",
        "#### Be Careful with One-Tailed Tests\n",
        "\n",
        "---\n",
        "\n",
        "Confidence intervals include the middle 95% of samples by excluding the\n",
        "most extreme values in both tails, each with area $\\frac{\\alpha}{2}$. If\n",
        "we are performing a one-tailed test, then we only focus on area in one\n",
        "tail of the null distribution and if the area in one tail is less than\n",
        "or equal to $\\alpha$. Thus,  <font color=\"tomato\">**we cannot\n",
        "interpret confidence intervals in the same fashion for one-tailed\n",
        "tests.**</font>"
      ],
      "id": "8578b059-aac2-4871-ba2c-40dd86ad47b2"
    },
    {
      "cell_type": "markdown",
      "metadata": {
        "id": "f84b4ec0-b6c6-48d3-b37b-503247fcca77"
      },
      "source": [
        "# <a name=\"23appenda\">Appendix A: Summary of Hypothesis Tests</a>\n",
        "\n",
        "---\n",
        "\n",
        "1.  State the  <font color=\"dodgerblue\">**hypotheses**</font> and identify (from the alternative claim in $H_1$) if it is a one or two-tailed test.\n",
        "\n",
        "    -   $H_0$ is the “boring” claim. Express using an equal sign $=$.\n",
        "    -   $H_1$ is the claim we want to show is likely true. Use inequality sign ($>$, $<$, or $\\ne$).\n",
        "    -   State both $H_0$ and $H_a$ in terms of population parameters such as $\\mu$ and $p$.\n",
        "\n",
        "2.  Compute the  <font color=\"dodgerblue\">**test statistic**</font>.\n",
        "\n",
        "    -   If the observed sample contradicts the null claim, the result is significant.\n",
        "    -   A standardized test statistic measures how many SE's the observed stat is from the null claim.\n",
        "    -   A standardized test statistic with a large absolute value is supporting evidence to reject $H_0$.\n",
        "\n",
        "3.  Using the null distribution, compute the  <font color=\"dodgerblue\">**p-value**</font>. The p-value is the probability of getting a sample with a test statistic as or more extreme than the observed sample assuming $H_0$ is true.\n",
        "\n",
        "    -   The p-value is the area in one or both tails beyond the test statistic.\n",
        "    -   The p-value is a probability, so we have $0 < \\mbox{p-value} < 1$.\n",
        "    -   The smaller the p-value, the stronger the evidence to reject $H_0$.\n",
        "\n",
        "4.  Based on the  <font color=\"dodgerblue\">**significance level**</font>, $\\alpha$, make a decision to reject or not reject the null hypothesis\n",
        "\n",
        "    -   If p-value $\\leq \\alpha$, we reject $H_0$.\n",
        "    -   If p-value $> \\alpha$, we do not reject $H_0$.\n",
        "\n",
        "5. <font color=\"dodgerblue\">**Summarize the results**</font> in practical terms, **in the context of the example**.\n",
        "\n",
        "    -   If we reject $H_0$, this means there is enough evidence to support the claim in $H_1$.\n",
        "    -   If we do not reject $H_0$, this means there is not evidence to reject $H_0$ nor support $H_1$. The test is inconclusive."
      ],
      "id": "f84b4ec0-b6c6-48d3-b37b-503247fcca77"
    },
    {
      "cell_type": "markdown",
      "metadata": {
        "id": "d2f5a352-fd7e-497f-af65-28953ee0477f"
      },
      "source": [
        "# <a name=\"23appendb\">Appendix B: Illustrating p-values in R</a>\n",
        "\n",
        "---\n",
        "\n",
        "The plots below require the package `ggplot2` that is loaded in the code\n",
        "cell below. **Be sure to first run the code cell below to load `ggplot2`\n",
        "before running any of the code cells that follow.**"
      ],
      "id": "d2f5a352-fd7e-497f-af65-28953ee0477f"
    },
    {
      "cell_type": "code",
      "execution_count": null,
      "metadata": {
        "id": "1f9f981e-0cb1-4105-8416-208af546d552"
      },
      "outputs": [],
      "source": [
        "library(ggplot2)"
      ],
      "id": "1f9f981e-0cb1-4105-8416-208af546d552"
    },
    {
      "cell_type": "markdown",
      "metadata": {
        "id": "12af8d5d-ee3d-4443-89b2-263d9fec29aa"
      },
      "source": [
        "## <a name=\"23appendb-known\">Illustrating p-values: Known Population Variance</a>\n",
        "\n",
        "---\n",
        "\n",
        "If we are performing a hypothesis test on a single mean for a population\n",
        "whose variance is known, then we can either use:\n",
        "\n",
        "-   The null distribution is ${\\color{dodgerblue}{\\overline{X} \\sim N \\left( \\mu_0, \\frac{\\sigma}{\\sqrt{n}} \\right)}}$ with test statistic is $\\bar{x}$, or\n",
        "-   The standardized normal distribution $Z \\sim N(0,1)$ with standardized test statistic\n",
        "\n",
        "$${\\color{dodgerblue}{z =  \\dfrac{\\bar{x} - \\mu_0}{\\frac{\\sigma}{\\sqrt{n}}}}}.$$\n",
        "\n",
        "-   In the code cell below, enter values for the mean and standard error of the null distribution as well as the test statistic."
      ],
      "id": "12af8d5d-ee3d-4443-89b2-263d9fec29aa"
    },
    {
      "cell_type": "code",
      "execution_count": null,
      "metadata": {
        "id": "1fe4f4a6-0e42-4814-ba8e-aaae76ee296d"
      },
      "outputs": [],
      "source": [
        "null.mean <- ??  # mean of the null distribution\n",
        "null.se <- ??  # standard error of the null distribution\n",
        "test.stat <- ??  # test statistic"
      ],
      "id": "1fe4f4a6-0e42-4814-ba8e-aaae76ee296d"
    },
    {
      "cell_type": "markdown",
      "metadata": {
        "id": "441d043b-507a-4ea9-b7a6-f45ab49dd788"
      },
      "source": [
        "### <a name=\"23two-known\">Two-Tailed Test: Known Variance</a>\n",
        "\n",
        "---\n",
        "\n",
        "To illustrate the p-value for a two-tailed test:\n",
        "\n",
        "-   Be sure you have already loaded the `ggplot2` package and defined `null.mean`, `null.se` and `test.stat`.\n",
        "-   Run the code cell below. No edits are needed."
      ],
      "id": "441d043b-507a-4ea9-b7a6-f45ab49dd788"
    },
    {
      "cell_type": "code",
      "execution_count": null,
      "metadata": {
        "id": "d5a1ed65-1e04-4d45-9cc8-995b5c75462f"
      },
      "outputs": [],
      "source": [
        "################################################\n",
        "# for a two-tailed test run the code cell below\n",
        "################################################\n",
        "x.diff <- abs(null.mean - test.stat)\n",
        "lower.x <- null.mean - x.diff\n",
        "upper.x <- null.mean + x.diff\n",
        "\n",
        "end.diff <- max(x.diff, 4*null.se)\n",
        "xmax <- null.mean + end.diff\n",
        "xmin <- null.mean - end.diff\n",
        "\n",
        "\n",
        "ggplot(NULL, aes(c(xmin, xmax))) +\n",
        "  geom_area(stat = \"function\",   fun = dnorm,\n",
        "            args = list(mean = null.mean, sd = null.se),\n",
        "            color = \"black\", fill = NA,\n",
        "            xlim = c(lower.x, upper.x)) +\n",
        "  geom_area(stat = \"function\",   fun = dnorm,\n",
        "            args = list(mean = null.mean, sd = null.se),\n",
        "            color = \"black\", fill = \"firebrick2\",\n",
        "            xlim = c(xmin, lower.x)) +\n",
        "  geom_area(stat = \"function\",   fun = dnorm,\n",
        "            args = list(mean = null.mean, sd = null.se),\n",
        "            color = \"black\", fill = \"firebrick2\",\n",
        "            xlim = c(upper.x, xmax)) +\n",
        "  geom_vline(xintercept = c(lower.x, upper.x), linetype=\"dashed\",\n",
        "                color = \"firebrick2\", linewidth = 1) +\n",
        "  labs(x = \"test statistic\", y = \"\") +\n",
        "  scale_y_continuous(breaks = NULL) +\n",
        "  scale_x_continuous(breaks=c(lower.x,  upper.x)) +\n",
        "  geom_hline(yintercept=0) +\n",
        "  theme_bw() +\n",
        "  theme(axis.text.x=element_text(size=15, color = \"firebrick2\"))"
      ],
      "id": "d5a1ed65-1e04-4d45-9cc8-995b5c75462f"
    },
    {
      "cell_type": "markdown",
      "metadata": {
        "id": "21038ec3-7155-4b5b-b716-e8f3e618f950"
      },
      "source": [
        "### <a name=\"23left-known\">Left-Tailed Test: Known Variance</a>\n",
        "\n",
        "---\n",
        "\n",
        "To illustrate the p-value for a left-tailed test:\n",
        "\n",
        "-   Be sure you have already loaded the `ggplot2` package and defined `null.mean`, `null.se` and `test.stat`.\n",
        "-   Run the code cell below. No edits are needed."
      ],
      "id": "21038ec3-7155-4b5b-b716-e8f3e618f950"
    },
    {
      "cell_type": "code",
      "execution_count": null,
      "metadata": {
        "id": "0300d31c-33fd-440d-9556-95eba8ea3a7a"
      },
      "outputs": [],
      "source": [
        "################################################\n",
        "# for a left-tailed test run the code cell below\n",
        "################################################\n",
        "xmin <- min(null.mean - 4*null.se, test.stat)\n",
        "xmax <- null.mean + 4*null.se\n",
        "\n",
        "\n",
        "ggplot(NULL, aes(c(xmin, xmax))) +\n",
        "  geom_area(stat = \"function\",   fun = dnorm,\n",
        "            args = list(mean = null.mean, sd = null.se),\n",
        "            color = \"black\", fill = NA,\n",
        "            xlim = c(test.stat, xmax)) +\n",
        "  geom_area(stat = \"function\",   fun = dnorm,\n",
        "            args = list(mean = null.mean, sd = null.se),\n",
        "            color = \"black\", fill = \"firebrick2\",\n",
        "            xlim = c(xmin, test.stat)) +\n",
        "  geom_vline(xintercept = test.stat, linetype=\"dashed\",\n",
        "                color = \"firebrick2\", linewidth = 1) +\n",
        "  labs(x = \"test statistic\", y = \"\") +\n",
        "  scale_y_continuous(breaks = NULL) +\n",
        "  scale_x_continuous(breaks=test.stat) +\n",
        "  geom_hline(yintercept=0) +\n",
        "  theme_bw() +\n",
        "  theme(axis.text.x=element_text(size=15, color = \"firebrick2\"))"
      ],
      "id": "0300d31c-33fd-440d-9556-95eba8ea3a7a"
    },
    {
      "cell_type": "markdown",
      "metadata": {
        "id": "68e0f0be-3da3-4d98-9635-a260949cc7d1"
      },
      "source": [
        "### <a name=\"23right-known\">Right-Tailed Test: Known Variance</a>\n",
        "\n",
        "---\n",
        "\n",
        "To illustrate the p-value for a right-tailed test:\n",
        "\n",
        "-   Be sure you have already loaded the `ggplot2` package and defined `null.mean`, `null.se` and `test.stat`.\n",
        "-   Run the code cell below. No edits are needed."
      ],
      "id": "68e0f0be-3da3-4d98-9635-a260949cc7d1"
    },
    {
      "cell_type": "code",
      "execution_count": null,
      "metadata": {
        "id": "f8f8f09b-49e7-4623-97be-570be6d85edf"
      },
      "outputs": [],
      "source": [
        "################################################\n",
        "# for a right-tailed test run the code cell below\n",
        "################################################\n",
        "xmax <- max(null.mean + 4*null.se, test.stat)\n",
        "xmin <- null.mean - 4*null.se\n",
        "\n",
        "\n",
        "ggplot(NULL, aes(c(xmin, xmax))) +\n",
        "  geom_area(stat = \"function\",   fun = dnorm,\n",
        "            args = list(mean = null.mean, sd = null.se),\n",
        "            color = \"black\", fill = NA,\n",
        "            xlim = c(xmin, test.stat)) +\n",
        "  geom_area(stat = \"function\",   fun = dnorm,\n",
        "            args = list(mean = null.mean, sd = null.se),\n",
        "            color = \"black\", fill = \"firebrick2\",\n",
        "            xlim = c(test.stat, xmax)) +\n",
        "  geom_vline(xintercept = test.stat, linetype=\"dashed\",\n",
        "                color = \"firebrick2\", linewidth = 1) +\n",
        "  labs(x = \"test statistic\", y = \"\") +\n",
        "  scale_y_continuous(breaks = NULL) +\n",
        "  scale_x_continuous(breaks=test.stat) +\n",
        "  geom_hline(yintercept=0) +\n",
        "  theme_bw() +\n",
        "  theme(axis.text.x=element_text(size=15, color = \"firebrick2\"))"
      ],
      "id": "f8f8f09b-49e7-4623-97be-570be6d85edf"
    },
    {
      "cell_type": "markdown",
      "metadata": {
        "id": "e750b5bd-d294-421c-8b8e-cabd00533597"
      },
      "source": [
        "## <a name=\"23appendb-unknown\">Illustrating p-values: Unknown Population Variance</a>\n",
        "\n",
        "---\n",
        "\n",
        "If we are performing a hypothesis test on a single mean for a population\n",
        "whose variance is unknown, then we use <font color=\"dodgerblue\">**$\\mathbf{t_{n-1}}$, a $t$-distribution\n",
        "with $n-1$ degrees of freedoms**</font>, for the null distribution and\n",
        "have  <font color=\"dodgerblue\">**t-test statistic**</font>\n",
        "\n",
        "$${\\color{dodgerblue}{{\\color{tomato}{t}} = \\dfrac{\\bar{x} - \\mu_0}{\\frac{{\\color{tomato}{s}}}{\\sqrt{n}}}}}.$$\n",
        "\n",
        "-   In the code cell below, enter the value of the t-test statistic and the degrees of freedom."
      ],
      "id": "e750b5bd-d294-421c-8b8e-cabd00533597"
    },
    {
      "cell_type": "code",
      "execution_count": null,
      "metadata": {
        "id": "c9416c0f-8f2d-4f06-893c-d3679d2077f6"
      },
      "outputs": [],
      "source": [
        "test.stat <- ??  # t-test statistic\n",
        "deg.free <- ??  # degrees of freedom"
      ],
      "id": "c9416c0f-8f2d-4f06-893c-d3679d2077f6"
    },
    {
      "cell_type": "markdown",
      "metadata": {
        "id": "f9631aa8-5a80-45f6-ae41-b8f7095b3263"
      },
      "source": [
        "### <a name=\"23two-unknown\">Two-Tailed Test: Unknown Variance</a>\n",
        "\n",
        "---\n",
        "\n",
        "To illustrate the p-value for a two-tailed test:\n",
        "\n",
        "-   Be sure you have already loaded the `ggplot2` package and defined `test.stat` and `deg.free`.\n",
        "-   Run the code cell below. No edits are needed."
      ],
      "id": "f9631aa8-5a80-45f6-ae41-b8f7095b3263"
    },
    {
      "cell_type": "code",
      "execution_count": null,
      "metadata": {
        "id": "d113c135-7fb9-4517-9cac-aa162a608eb9"
      },
      "outputs": [],
      "source": [
        "################################################\n",
        "# for a two-tailed test run the code cell below\n",
        "################################################\n",
        "v <- deg.free\n",
        "end.t <- qt(0.9997, v)\n",
        "test.stat <- abs(test.stat)\n",
        "xmax <- max(end.t, test.stat)\n",
        "xmin <- -xmax\n",
        "\n",
        "\n",
        "ggplot(NULL, aes(c(xmin, xmax))) +\n",
        "  geom_area(stat = \"function\",   fun = dt,\n",
        "            args = list(df = v),\n",
        "            color = \"black\", fill = NA,\n",
        "            xlim = c(-test.stat, test.stat)) +\n",
        "  geom_area(stat = \"function\",   fun = dt,\n",
        "            args = list(df = v),\n",
        "            color = \"black\", fill = \"firebrick2\",\n",
        "            xlim = c(xmin, -test.stat)) +\n",
        "  geom_area(stat = \"function\",   fun = dt,\n",
        "            args = list(df = v),\n",
        "            color = \"black\", fill = \"firebrick2\",\n",
        "            xlim = c(test.stat, xmax)) +\n",
        "  geom_vline(xintercept = c(-test.stat, test.stat), linetype=\"dashed\",\n",
        "                color = \"firebrick2\", linewidth = 1) +\n",
        "  labs(x = \"test statistic\", y = \"\") +\n",
        "  scale_y_continuous(breaks = NULL) +\n",
        "  scale_x_continuous(breaks=c(-test.stat,  test.stat)) +\n",
        "  geom_hline(yintercept=0) +\n",
        "  theme_bw() +\n",
        "  theme(axis.text.x=element_text(size=15, color = \"firebrick2\"))"
      ],
      "id": "d113c135-7fb9-4517-9cac-aa162a608eb9"
    },
    {
      "cell_type": "markdown",
      "metadata": {
        "id": "a18187fb-a227-4801-9d71-b20c4466b628"
      },
      "source": [
        "### <a name=\"23left-unknown\">Left-Tailed Test: Unknown Variance</a>\n",
        "\n",
        "---\n",
        "\n",
        "To illustrate the p-value for a left-tailed test:\n",
        "\n",
        "-   Be sure you have already loaded the `ggplot2` package and defined `test.stat` and `deg.free`.\n",
        "-   Run the code cell below. No edits are needed."
      ],
      "id": "a18187fb-a227-4801-9d71-b20c4466b628"
    },
    {
      "cell_type": "code",
      "execution_count": null,
      "metadata": {
        "id": "9de8bd46-3c23-46ce-a560-87a6fa3e355f"
      },
      "outputs": [],
      "source": [
        "################################################\n",
        "# for a left-tailed test run the code cell below\n",
        "################################################\n",
        "v <- deg.free\n",
        "end.t <- qt(0.9997, v)\n",
        "xmin <- min(-end.t, test.stat)\n",
        "xmax <- end.t\n",
        "\n",
        "\n",
        "ggplot(NULL, aes(c(xmin, xmax))) +\n",
        "  geom_area(stat = \"function\",   fun = dt,\n",
        "            args = list(df = v),\n",
        "            color = \"black\", fill = NA,\n",
        "            xlim = c(test.stat, xmax)) +\n",
        "  geom_area(stat = \"function\",   fun = dt,\n",
        "            args = list(df = v),\n",
        "            color = \"black\", fill = \"firebrick2\",\n",
        "            xlim = c(xmin, test.stat)) +\n",
        "  geom_vline(xintercept = test.stat, linetype=\"dashed\",\n",
        "                color = \"firebrick2\", linewidth = 1) +\n",
        "  labs(x = \"test statistic\", y = \"\") +\n",
        "  scale_y_continuous(breaks = NULL) +\n",
        "  scale_x_continuous(breaks=test.stat) +\n",
        "  geom_hline(yintercept=0) +\n",
        "  theme_bw() +\n",
        "  theme(axis.text.x=element_text(size=15, color = \"firebrick2\"))"
      ],
      "id": "9de8bd46-3c23-46ce-a560-87a6fa3e355f"
    },
    {
      "cell_type": "markdown",
      "metadata": {
        "id": "45a3056d-08c9-4ad9-a943-a99bf99f52a4"
      },
      "source": [
        "### <a name=\"23right-unknown\">Right-Tailed Test: Unknown Variance</a>\n",
        "\n",
        "---\n",
        "\n",
        "To illustrate the p-value for a right-tailed test:\n",
        "\n",
        "-   Be sure you have already loaded the `ggplot2` package and defined `test.stat` and `deg.free`.\n",
        "-   Run the code cell below. No edits are needed."
      ],
      "id": "45a3056d-08c9-4ad9-a943-a99bf99f52a4"
    },
    {
      "cell_type": "code",
      "execution_count": null,
      "metadata": {
        "id": "024bdb5e-3b4a-43c0-b9e9-2418ad986d1c"
      },
      "outputs": [],
      "source": [
        "################################################\n",
        "# for a right-tailed test run the code cell below\n",
        "################################################\n",
        "v <- deg.free\n",
        "end.t <- qt(0.9997, v)\n",
        "xmax <- max(end.t, test.stat)\n",
        "xmin <- -end.t\n",
        "\n",
        "ggplot(NULL, aes(c(xmin, xmax))) +\n",
        "  geom_area(stat = \"function\",   fun = dt,\n",
        "            args = list(df = v),\n",
        "            color = \"black\", fill = NA,\n",
        "            xlim = c(xmin, test.stat)) +\n",
        "  geom_area(stat = \"function\",   fun = dt,\n",
        "            args = list(df = v),\n",
        "            color = \"black\", fill = \"firebrick2\",\n",
        "            xlim = c(test.stat, xmax)) +\n",
        "  geom_vline(xintercept = test.stat, linetype=\"dashed\",\n",
        "                color = \"firebrick2\", linewidth = 1) +\n",
        "  labs(x = \"test statistic\", y = \"\") +\n",
        "  scale_y_continuous(breaks = NULL) +\n",
        "  scale_x_continuous(breaks=test.stat) +\n",
        "  geom_hline(yintercept=0) +\n",
        "  theme_bw() +\n",
        "  theme(axis.text.x=element_text(size=15, color = \"firebrick2\"))"
      ],
      "id": "024bdb5e-3b4a-43c0-b9e9-2418ad986d1c"
    },
    {
      "cell_type": "markdown",
      "source": [
        "# <a name=\"23CC License\">Creative Commons License Information</a>\n",
        "---\n",
        "\n",
        "![Creative Commons License](https://i.creativecommons.org/l/by-nc-sa/4.0/88x31.png)\n",
        "\n",
        "*Statistical Methods: Exploring the Uncertain* by [Adam\n",
        "Spiegler (University of Colorado Denver)](https://github.com/CU-Denver-MathStats-OER/Statistical-Theory)\n",
        "is licensed under a [Creative Commons Attribution-NonCommercial-ShareAlike 4.0 International License](http://creativecommons.org/licenses/by-nc-sa/4.0/). This work is funded by an [Institutional OER Grant from the Colorado Department of Higher Education (CDHE)](https://cdhe.colorado.gov/educators/administration/institutional-groups/open-educational-resources-in-colorado).\n",
        "\n",
        "For similar interactive OER materials in other courses funded by this project in the Department of Mathematical and Statistical Sciences at the University of Colorado Denver, visit <https://github.com/CU-Denver-MathStats-OER>."
      ],
      "metadata": {
        "id": "o4bR8timX770"
      },
      "id": "o4bR8timX770"
    },
    {
      "cell_type": "code",
      "source": [],
      "metadata": {
        "id": "e5EDi10cscix"
      },
      "id": "e5EDi10cscix",
      "execution_count": null,
      "outputs": []
    }
  ],
  "nbformat": 4,
  "nbformat_minor": 5,
  "metadata": {
    "kernelspec": {
      "name": "ir",
      "display_name": "R",
      "language": "R"
    },
    "colab": {
      "provenance": [],
      "include_colab_link": true
    }
  }
}