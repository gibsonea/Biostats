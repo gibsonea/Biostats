{
  "cells": [
    {
      "cell_type": "markdown",
      "metadata": {
        "id": "view-in-github",
        "colab_type": "text"
      },
      "source": [
        "<a href=\"https://colab.research.google.com/github/gibsonea/Biostats/blob/main/LabSolutions/Solutions07_Expected_Value_and_Variance.ipynb\" target=\"_parent\"><img src=\"https://colab.research.google.com/assets/colab-badge.svg\" alt=\"Open In Colab\"/></a>"
      ]
    },
    {
      "cell_type": "markdown",
      "metadata": {
        "id": "20f6fd55-56e2-4031-8f85-8baca1711e36"
      },
      "source": [
        "# <a name=\"06intro\">2.4: Expected Value and Variance</a>\n",
        "\n",
        "---\n",
        "\n",
        "**Additional Reference**: See [Introduction to Random\n",
        "Variables](https://githubtocolab.com/CU-Denver-MathStats-OER/Statistical-Theory/blob/main/Chap2/05-Intro-to-Random-Variables.ipynb)\n",
        "where we discovered some important properties for a random variable $X$ that are summarized in the [Appendix](#06append).\n"
      ],
      "id": "20f6fd55-56e2-4031-8f85-8baca1711e36"
    },
    {
      "cell_type": "markdown",
      "source": [
        "# <a name=\"06raffle\">How Much is the Raffle Ticket Worth?</a>\n",
        "\n",
        "---\n",
        "\n",
        "<img\n",
        "src=\"https://live.staticflickr.com/8229/8360300072_0b811f884d_w.jpg\"\n",
        "alt=\"Image Credit: Adam Spiegler, CC BY-SA 4.0.\" width = \"30%\" style=\"left\"/>\n",
        "<figcaption aria-hidden=\"true\">\n",
        "Image credit: Randy Heinitz via <a src=\"(https://www.flickr.com/photos/rheinitz/)\">flickr</a>\n",
        "</figcaption>\n",
        "\n",
        "A raffle sells 1,000 tickets with the following payouts:\n",
        "\n",
        "-   There is one winning randomly selected ticket that will win the grand prize of \\$5,000.\n",
        "-   Two tickets will be randomly selected to win a second prize each worth \\$1,000.\n",
        "-   Ten tickets will be randomly selected to win a third prize each worth \\$200.\n",
        "-   The remaining tickets do not win a prize.\n",
        "\n"
      ],
      "metadata": {
        "id": "wjq50bghcDLl"
      },
      "id": "wjq50bghcDLl"
    },
    {
      "cell_type": "markdown",
      "source": [
        "## <a name=\"06q1\">Question 1</a>\n",
        "\n",
        "---\n",
        "\n",
        "Let random variable $X$ be the amount of money won by a randomly\n",
        "selected raffle ticket. We let $p(x)$ denote the corresponding\n",
        "probability mass function of $X$.\n",
        "\n"
      ],
      "metadata": {
        "id": "TusUyjZucFuM"
      },
      "id": "TusUyjZucFuM"
    },
    {
      "cell_type": "markdown",
      "source": [
        "### <a name=\"06q1a\">Question 1a</a>\n",
        "\n",
        "---\n",
        "\n",
        "Fill in the values of $x$ and $p(x)$ in the table below.\n",
        "\n",
        "#### <a name=\"06sol1a\">Solution to Question 1a</a>\n",
        "\n",
        "---\n",
        "\n",
        "**Fill in the blanks to complete the table.**\n",
        "\n",
        "\n",
        "| $\\Large{x}$    | <font size=\"3\">$0$</font> | <font size=\"3\">$200$</font>  | <font size=\"3\">$1000$</font>  | <font size=\"3\">$5000$</font>  |\n",
        "|--------|-----|-----|-----|-----|\n",
        "| $\\Large{p(x)}$ | <font size=\"3\">$0.987$</font>  | <font size=\"3\">$0.01$</font>  | <font size=\"3\">$0.002$</font>  | <font size=\"3\">$0.001$</font>  |\n",
        "\n",
        "\n",
        "<br>\n",
        "\n"
      ],
      "metadata": {
        "id": "ToZ2m5ZwcIVx"
      },
      "id": "ToZ2m5ZwcIVx"
    },
    {
      "cell_type": "markdown",
      "source": [
        "### <a name=\"06q1b\">Question 1b</a>\n",
        "\n",
        "---\n",
        "\n",
        "Consider another ticket raffle. There are 1,000 tickets with the following\n",
        "payouts:\n",
        "\n",
        "-   500 randomly selected tickets will win a grand prize of \\$15.\n",
        "-   The other 500 tickets do not win a prize.\n",
        "\n",
        "Let random variable $Y$ be the amount of money won by a randomly\n",
        "selected raffle ticket.\n",
        "\n",
        "Somebody offers one free ticket to either raffle $X$ or raffle $Y$ (but\n",
        "not both!), which would you prefer and why?\n",
        "\n",
        "#### <a name=\"06sol1b\">Solution to Question 1b</a>\n",
        "\n",
        "---\n",
        "\n",
        "<br>\n",
        "\n",
        "It helps to similarly organize the pmf for $Y$:\n",
        "\n",
        "| $\\Large{y}$    | <font size=\"3\">$0$</font> | <font size=\"3\">$15$</font>  |\n",
        "|--------|-----|-----|\n",
        "| $\\Large{p_Y(y)}$ | <font size=\"3\">$0.5$</font>  | <font size=\"3\">$0.5$</font>  |\n",
        "\n",
        "<br>\n",
        "\n",
        "Answers as to which is better and why will vary.\n",
        "<br> <br>\n",
        "\n"
      ],
      "metadata": {
        "id": "Qarc4AZccLQr"
      },
      "id": "Qarc4AZccLQr"
    },
    {
      "cell_type": "markdown",
      "source": [
        "# <a name=\"06ex-dis\">The Expected Value of a Discrete Random Variable</a>\n",
        "\n",
        "---\n",
        "\n",
        "The <font color=\"dodgerblue\">**expected value**</font> for a discrete\n",
        "random variable $X$ is denoted $\\color{dodgerblue}{E(X)}$. We compute\n",
        "\n",
        "$$\\color{dodgerblue}{E(X) = \\mu_{X} =  \\sum_x \\left( x \\cdot p(x) \\right)}. $$\n",
        "\n",
        "- $E(X)$ is the <font color=\"dodgerblue\">**average** or **mean**</font> value of random variable $X$.\n",
        "- The expected value of $X$ is denoted $\\color{dodgerblue}{E(X)}$ or $\\color{dodgerblue}{\\mu_X}$.\n",
        "- The expected value of $X$ might not be a possible value of $X$.\n",
        "\n"
      ],
      "metadata": {
        "id": "13PSu9gmcM3D"
      },
      "id": "13PSu9gmcM3D"
    },
    {
      "cell_type": "markdown",
      "source": [
        "# <a name=\"06var-dis\">The Variance of a Discrete Random Variable</a>\n",
        "\n",
        "---\n",
        "\n",
        "The <font color=\"dodgerblue\">**variance**</font> for a discrete random\n",
        "variable $X$ is one common way to measure how spread out (in relation to\n",
        "the expected value) are the values of $X$. We compute\n",
        "\n",
        "$$\\color{dodgerblue}{\\mbox{Var}(X) = \\sigma_X^2 =  E\\big( (x-\\mu_X)^2 \\big) = \\sum_x \\left( (x-\\mu_X)^2 \\cdot p(x) \\right)}. $$\n",
        "\n",
        "- $\\mbox{Var}(X)$ is the expected value of the squared distance from the\n",
        "mean.\n",
        "- The variance is denoted $\\color{dodgerblue}{\\mbox{Var}(X)}$ or $\\color{dodgerblue}{\\sigma_X^2}$.\n",
        "\n"
      ],
      "metadata": {
        "id": "6AxiaLvdcOPs"
      },
      "id": "6AxiaLvdcOPs"
    },
    {
      "cell_type": "markdown",
      "source": [
        "# <a name=\"06sd-dis\">The Standard Deviation of a Discrete Random Variable</a>\n",
        "\n",
        "---\n",
        "\n",
        "The <font color=\"dodgerblue\">**standard deviation**</font> for a\n",
        "discrete random variable $X$ is the square root of the variance,\n",
        "\n",
        "$$ \\mbox{SD}(X) = \\sigma_X  =  \\sqrt{\\mbox{Var}(X)}. $$\n",
        "\n",
        "-   The standard deviation of random variable $X$ is denoted $\\color{dodgerblue}{\\sigma_X}$.\n",
        "-   The standard deviation essentially measures the average distance of the values of $X$ from its mean $\\mu_X$.\n",
        "-   The units of $\\sigma_X$ and $X$ are the same, and thus standard deviation is often a practical way to describe the spread of $X$.\n",
        "\n"
      ],
      "metadata": {
        "id": "hhVntKGvcPVo"
      },
      "id": "hhVntKGvcPVo"
    },
    {
      "cell_type": "markdown",
      "source": [
        "## <a name=\"06q2\">Question 2</a>\n",
        "\n",
        "---\n",
        "\n",
        "Using [properties of the pmf](#06append-discrete) $p(x)$, show that for any discrete random\n",
        "variable $X$ with expected value $E(X) = \\mu$, we have\n",
        "\n",
        "$$\\mbox{Var}(X) = E(X^2)  - \\mu^2.$$\n",
        "\n",
        "### <a name=\"06sol2\">Solution to Question 2</a>\n",
        "\n",
        "---\n",
        "\n",
        "**Finish the proof below!**\n",
        "\n",
        "Let $X$ be a discrete random variable with pmf $p(x)$ and expected value $E(X)=\\mu$. Then we have\n",
        "\n",
        "$$\\begin{array}{rcll}\n",
        "\\mbox{Var}(X) &=&  \\sum_x \\left( (x-\\mu)^2 \\cdot p(x) \\right) & \\mbox{(by definition)}\\\\\n",
        " &=& \\sum_x \\left( (x^2 -2 \\mu x + \\mu^2) \\cdot p(x) \\right) & \\mbox{(distributing squared term)}\\\\\n",
        " &=& \\sum_x \\left( x^2 \\cdot p(x) -2 \\mu x  \\cdot p(x)  + \\mu^2  \\cdot p(x)  \\right) & \\mbox{(distributing $p(x)$)}\\\\\n",
        " &=& {\\color{dodgerblue}{\\sum_x \\left( x^2 \\cdot p(x) \\right)}} - \\sum_x \\left(2 \\mu x  \\cdot p(x) \\right)  + \\sum_x \\left( \\mu^2  \\cdot p(x)  \\right) & \\mbox{(properties of summation)}\\\\\n",
        " &=& {\\color{dodgerblue}{E(X^2)}} - \\sum_x \\left({\\color{tomato}{2 \\mu}} x  \\cdot p(x) \\right)  + \\sum_x \\left( {\\color{tomato}{\\mu^2}}  \\cdot p(x)  \\right)  & \\mbox{(Definition of Expected Value of $X^2$)} \\\\\n",
        " &=& E(X^2) - {\\color{tomato}{2 \\mu}} {\\color{dodgerblue}{\\sum_x \\left( x  \\cdot p(x) \\right)}}  + {\\color{tomato}{ \\mu^2}} \\sum_x p(x)  & \\mbox{(Properties of Summation)} \\\\\n",
        " &=& E(X^2) - 2 \\mu {\\color{dodgerblue}{E(X)}}  + \\mu^2 {\\color{mediumseagreen}{ \\sum_x p(x) }} & \\mbox{(definition of $E(X)$)} \\\\\n",
        " &=&  E(X^2) - 2 \\mu {\\color{dodgerblue}{E(X)}}  + \\mu^2 {\\color{mediumseagreen}{ (1) }} & \\mbox{(Property of pmf)} \\\\\n",
        " &=&  E(X^2) - 2 {\\color{dodgerblue}{\\mu^2}}   + \\mu^2  & \\mbox{(replacing $E(X)$ with $\\mu$)}\\\\\n",
        " &=& \\boxed{E(X^2) - \\mu^2} & \\mbox{(algebra)}\\\\\n",
        "\\end{array}$$\n",
        "<br>\n",
        "\n",
        "Therefore, we see that $\\mbox{Var}(X) = E(X^2)  - \\mu^2$.\n",
        "<br>\n",
        "\n",
        "\n",
        "<br> <br>\n",
        "\n"
      ],
      "metadata": {
        "id": "d_flDJHxcQqz"
      },
      "id": "d_flDJHxcQqz"
    },
    {
      "cell_type": "markdown",
      "source": [
        "## <a name=\"06q3\">Question 3</a>\n",
        "\n",
        "---\n",
        "\n",
        "Let $X$ and $Y$ denote the raffle ticket random variables from [Question\n",
        "1](#06q1).\n",
        "\n",
        "\n"
      ],
      "metadata": {
        "id": "uOX00P-RcSUa"
      },
      "id": "uOX00P-RcSUa"
    },
    {
      "cell_type": "markdown",
      "source": [
        "### <a name=\"06q3a\">Question 3a</a>\n",
        "\n",
        "---\n",
        "\n",
        "Calculate $E(X)$ and $\\mbox{Var}(X)$.\n",
        "\n",
        "#### <a name=\"06sol3a\">Solution to Question 3a</a>\n",
        "\n",
        "---\n",
        "\n",
        "<br>\n",
        "Recall from [Question 1](#06q1) we have:\n",
        "\n",
        "<br>  \n",
        "\n",
        "| $\\Large{x}$    | <font size=\"3\">$0$</font> | <font size=\"3\">$200$</font>  | <font size=\"3\">$1000$</font>  | <font size=\"3\">$5000$</font>  |\n",
        "|--------|-----|-----|-----|-----|\n",
        "| $\\Large{p_X(x)}$ | <font size=\"3\">$0.987$</font>  | <font size=\"3\">$0.01$</font>  | <font size=\"3\">$0.002$</font>  | <font size=\"3\">$0.001$</font>  |\n",
        "\n",
        "<br>  \n",
        "\n",
        "| $\\Large{y}$    | <font size=\"3\">$0$</font> | <font size=\"3\">$15$</font>  |\n",
        "|--------|-----|-----|\n",
        "| $\\Large{p_Y(y)}$ | <font size=\"3\">$0.5$</font>  | <font size=\"3\">$0.5$</font>  |\n",
        "\n",
        "<br> <br>\n",
        "\n"
      ],
      "metadata": {
        "id": "kd9Fq77ycUKr"
      },
      "id": "kd9Fq77ycUKr"
    },
    {
      "cell_type": "code",
      "source": [
        "x <- c(0, 200, 1000, 5000)  # random variable X\n",
        "px <- c(0.987, 0.01, 0.002, 0.001)  # prob of winning x dollars\n",
        "\n",
        "y <- c(0, 15)  # random variable Y\n",
        "py <- c(0.5, 0.5)  # prob of winning y dollars"
      ],
      "metadata": {
        "id": "KqwkwXIuhaYy"
      },
      "execution_count": null,
      "outputs": [],
      "id": "KqwkwXIuhaYy"
    },
    {
      "cell_type": "code",
      "source": [
        "# calculating expected values\n",
        "\n",
        "x.mu <- sum(x * px)  # computing E(X)\n",
        "y.mu <- sum(y * py)  # computing E(Y)\n",
        "\n",
        "x.mu\n",
        "y.mu"
      ],
      "metadata": {
        "colab": {
          "base_uri": "https://localhost:8080/",
          "height": 52
        },
        "id": "Xy7Gi5zcjEzG",
        "outputId": "9c8d02ef-46e1-45f6-929d-10192b2cb46d"
      },
      "execution_count": null,
      "outputs": [
        {
          "output_type": "display_data",
          "data": {
            "text/html": [
              "9"
            ],
            "text/markdown": "9",
            "text/latex": "9",
            "text/plain": [
              "[1] 9"
            ]
          },
          "metadata": {}
        },
        {
          "output_type": "display_data",
          "data": {
            "text/html": [
              "7.5"
            ],
            "text/markdown": "7.5",
            "text/latex": "7.5",
            "text/plain": [
              "[1] 7.5"
            ]
          },
          "metadata": {}
        }
      ],
      "id": "Xy7Gi5zcjEzG"
    },
    {
      "cell_type": "markdown",
      "source": [
        "The code cells above perform the calculations we need to compare expected values. The results are summarized here:\n",
        "\n",
        "\n",
        "$$ E(X) = \\sum_X x \\cdot p_X(x) = \\$9 \\qquad \\mbox{and} \\qquad E(Y) = \\sum_Y y \\cdot p_Y(y) = \\$7.5 $$\n",
        "\n",
        "\n",
        " <br> <br>\n",
        "\n"
      ],
      "metadata": {
        "id": "i5PvwFnOkhe-"
      },
      "id": "i5PvwFnOkhe-"
    },
    {
      "cell_type": "code",
      "source": [
        "# calculating variance using definition\n",
        "\n",
        "x.var <- sum((x - x.mu)^2 * px)  # computing Var(X)\n",
        "y.var <- sum((y - y.mu)^2 * py)  # computing Var(Y)\n",
        "\n",
        "x.var\n",
        "y.var"
      ],
      "metadata": {
        "colab": {
          "base_uri": "https://localhost:8080/",
          "height": 52
        },
        "outputId": "5c5c0b0b-e8f1-4385-c4d3-cd3d1b4490a4",
        "id": "AAEcQtKYkhez"
      },
      "execution_count": null,
      "outputs": [
        {
          "output_type": "display_data",
          "data": {
            "text/html": [
              "27319"
            ],
            "text/markdown": "27319",
            "text/latex": "27319",
            "text/plain": [
              "[1] 27319"
            ]
          },
          "metadata": {}
        },
        {
          "output_type": "display_data",
          "data": {
            "text/html": [
              "56.25"
            ],
            "text/markdown": "56.25",
            "text/latex": "56.25",
            "text/plain": [
              "[1] 56.25"
            ]
          },
          "metadata": {}
        }
      ],
      "id": "AAEcQtKYkhez"
    },
    {
      "cell_type": "code",
      "source": [
        "# calculating variance using previous \"shortcut\"\n",
        "\n",
        "sum(x^2 * px) - x.mu^2  # computes E(X^2) - mu_X\n",
        "sum(y^2 * py) - y.mu^2  # computes E(Y^2) - mu_Y"
      ],
      "metadata": {
        "colab": {
          "base_uri": "https://localhost:8080/",
          "height": 52
        },
        "id": "4RtP_agwlhCL",
        "outputId": "336eb499-e437-48ab-f896-15c61e5b43b8"
      },
      "execution_count": null,
      "outputs": [
        {
          "output_type": "display_data",
          "data": {
            "text/html": [
              "27319"
            ],
            "text/markdown": "27319",
            "text/latex": "27319",
            "text/plain": [
              "[1] 27319"
            ]
          },
          "metadata": {}
        },
        {
          "output_type": "display_data",
          "data": {
            "text/html": [
              "56.25"
            ],
            "text/markdown": "56.25",
            "text/latex": "56.25",
            "text/plain": [
              "[1] 56.25"
            ]
          },
          "metadata": {}
        }
      ],
      "id": "4RtP_agwlhCL"
    },
    {
      "cell_type": "markdown",
      "source": [
        "The code cells above perform the calculations we need to compare variances. The results are summarized here:\n",
        "\n",
        "\n",
        "$$ \\mbox{Var}(X) = \\sum_X (x - \\mu_X)^2 \\cdot p_X(x) = E(X^2) - \\mu_X^2 = 27319 \\qquad \\mbox{and} \\qquad \\mbox{Var}(Y) = \\sum_Y (y - \\mu_Y)^2 \\cdot p_Y(y) = E(Y^2) - \\mu_Y^2 = 56.25$$\n",
        "\n",
        "\n",
        " <br> <br>\n",
        "\n"
      ],
      "metadata": {
        "id": "59T3p44PkJvK"
      },
      "id": "59T3p44PkJvK"
    },
    {
      "cell_type": "markdown",
      "source": [
        "### <a name=\"06q3b\">Question 3b</a>\n",
        "\n",
        "---\n",
        "\n",
        "Calculate $E(Y)$ and $\\mbox{Var}(Y)$.\n",
        "\n",
        "#### <a name=\"06sol3b\">Solution to Question 3b</a>\n",
        "\n",
        "---\n",
        "\n",
        "<br>\n",
        "See solutions to previous part.\n",
        "<br> <br>\n",
        "\n"
      ],
      "metadata": {
        "id": "wh_inx92cVax"
      },
      "id": "wh_inx92cVax"
    },
    {
      "cell_type": "markdown",
      "source": [
        "# <a name=\"06prop-cont\">Mean, Median, and Variance of Continuous Random Variables</a>\n",
        "\n",
        "---\n",
        "\n",
        "Let $f(x)$ and $F(x)$ denote the probability density function and\n",
        "cumulative distribution function for a continuous random variable $X$.\n",
        "\n",
        "-   The <font color=\"dodgerblue\">**expected value**</font> or <font color=\"dodgerblue\">**mean**</font> is\n",
        "\n",
        "$$E(X) = \\mu_X = \\int_{-\\infty}^{\\infty} x \\cdot f(x) \\, dx.$$\n",
        "\n",
        "-   The <font color=\"dodgerblue\">**variance**</font> is\n",
        "\n",
        "$$\\mbox{Var}(X) = E\\big[ (X-\\mu_X)^2 \\big] = E(X^2) - \\mu_X^2.$$\n",
        "\n",
        "-   The <font color=\"dodgerblue\">**median**</font> is the value $x$ such that $P(X < x) = 0.5$. Thus, to find the median we solve the equations below for $x$,\n",
        "\n",
        "$$\\int_{-\\infty}^x f(t) \\, dt = 0.5 \\qquad \\mbox{or equivalently} \\qquad F(x) =0.5.$$\n",
        "\n"
      ],
      "metadata": {
        "id": "1nweDd3ocWy2"
      },
      "id": "1nweDd3ocWy2"
    },
    {
      "cell_type": "markdown",
      "source": [
        "## <a name=\"06q4\">Question 4</a>\n",
        "\n",
        "---\n",
        "\n",
        "Consider the random variable $X$ with pdf\n",
        "\n",
        "$$ f_X(x) = \\left\\{ \\begin{array}{ll}\n",
        "\\frac{x}{8}, &  0 \\leq x \\leq 4 \\\\\n",
        "0, &  \\mbox{otherwise}\n",
        "\\end{array} \\right. .$$\n",
        "\n"
      ],
      "metadata": {
        "id": "BgmxPxDhcYHZ"
      },
      "id": "BgmxPxDhcYHZ"
    },
    {
      "cell_type": "markdown",
      "source": [
        "### <a name=\"06q4a\">Question 4a</a>\n",
        "\n",
        "---\n",
        "\n",
        "Make a plot of the pdf, $f_X$.  See example code below for how to create plots of continuous functions in R.  Also draw the graph by hand on a piece of paper (with axes).\n",
        "\n",
        "#### <a name=\"06sol4a\">Solution to Question 4a</a>\n",
        "\n",
        "---\n",
        "\n",
        "\n",
        "<br> <br>\n",
        "\n"
      ],
      "metadata": {
        "id": "-Uhpc5-6cZjn"
      },
      "id": "-Uhpc5-6cZjn"
    },
    {
      "source": [
        "#example code to plot y = x over a range of x = 0 to 4 and y = x^2 over a range of x = 4 to 10\n",
        "\n",
        "# Define the range of x values\n",
        "x <- seq(0, 10, 0.05)  # Creates a sequence from 0 to 5 with increments of 0.1\n",
        "\n",
        "# Define the function for y values\n",
        "f <- function(x) {\n",
        "  ifelse(x >= 0 & x <= 4, x, x^2) # y = x for 0 <= x <= 4, otherwise y = x^2\n",
        "}\n",
        "\n",
        "# Calculate the y values using the function\n",
        "y <- f(x)\n",
        "\n",
        "# Create the plot\n",
        "plot(x, y,\n",
        "     type = \"l\", # Specifies a line plot\n",
        "     #xlim = c(0, 5), # Sets x-axis limits\n",
        "     #ylim = c(0, 5), # Sets y-axis limits\n",
        "     lty = 1, # Sets line type to solid\n",
        "     col = \"blue\", # Sets line color to blue\n",
        "     xlab = \"x\", # Sets x-axis label\n",
        "     ylab = \"f(x)\", # Sets y-axis label\n",
        "     main = \"Graph of Function, f(x)\") # Sets plot title"
      ],
      "cell_type": "code",
      "metadata": {
        "colab": {
          "base_uri": "https://localhost:8080/",
          "height": 437
        },
        "id": "EgjPRCj_jtD5",
        "outputId": "6e66d3b6-328b-48c2-a492-574cf5932908"
      },
      "id": "EgjPRCj_jtD5",
      "execution_count": null,
      "outputs": [
        {
          "output_type": "display_data",
          "data": {
            "text/plain": [
              "Plot with title “Graph of Function, f(x)”"
            ],
            "image/png": "[encoded data removed]"
          },
          "metadata": {
            "image/png": {
              "width": 420,
              "height": 420
            }
          }
        }
      ]
    },
    {
      "cell_type": "code",
      "source": [
        "# code for Question 4a\n",
        "# Define the range of x values\n",
        "x <- seq(0, 5, 0.05)  # Creates a sequence from 0 to 5 with increments of 0.05\n",
        "\n",
        "# Define the function for y values\n",
        "f <- function(x) {\n",
        "  ifelse(x >= 0 & x <= 4, x/8, 0) # y = x/8 for 0 <= x <= 4, otherwise y = 0\n",
        "}\n",
        "\n",
        "# Calculate the y values using the function\n",
        "y <- f(x)\n",
        "\n",
        "# Create the plot\n",
        "plot(x, y,\n",
        "     type = \"l\", # Specifies a line plot\n",
        "     #xlim = c(0, 5), # Sets x-axis limits\n",
        "     #ylim = c(0, 5), # Sets y-axis limits\n",
        "     lty = 1, # Sets line type to solid\n",
        "     col = \"blue\", # Sets line color to blue\n",
        "     xlab = \"x\", # Sets x-axis label\n",
        "     ylab = \"f(x)\", # Sets y-axis label\n",
        "     main = \"Graph of Probability Density Function, f(x)\") # Sets plot title"
      ],
      "metadata": {
        "id": "t_FO_oD4lUAj",
        "colab": {
          "base_uri": "https://localhost:8080/",
          "height": 437
        },
        "outputId": "262c94a9-5ff1-45aa-a617-a6d2a8c50ae3"
      },
      "id": "t_FO_oD4lUAj",
      "execution_count": null,
      "outputs": [
        {
          "output_type": "display_data",
          "data": {
            "text/plain": [
              "Plot with title “Graph of Probability Density Function, f(x)”"
            ],
            "image/png": "[encoded data removed]"
          },
          "metadata": {
            "image/png": {
              "width": 420,
              "height": 420
            }
          }
        }
      ]
    },
    {
      "cell_type": "markdown",
      "source": [
        "### <a name=\"06q4b\">Question 4b</a>\n",
        "\n",
        "---\n",
        "\n",
        "Enter the formula for $F_X$ below. Then plot $F_X$ and draw the graph by hand on a piece of paper.\n",
        "\n",
        "#### <a name=\"06sol4b\">Solution to Question 4b</a>\n",
        "\n",
        "---\n",
        "\n",
        "$$F_X(x) = \\left\\{ \\begin{array}{ll}\n",
        "0 & x < 0\\\\\n",
        "?? & 0 \\leq x \\leq 4 \\\\\n",
        "1 & x > 4\n",
        "\\end{array} \\right.$$\n",
        "\n",
        "<br>\n",
        "\n",
        "\n",
        "For $0 \\leq x \\leq 4$, we have\n",
        "\n",
        "$$F_X(x) = \\int_0^x f_X(t) \\, dt = \\int_0^x \\frac{t}{8} \\, dt = \\frac{t^2}{16} \\bigg|_{t=0}^{t=x} = \\frac{x^2}{16} - 0 = \\frac{x^2}{16}.$$\n",
        "\n",
        "<br>\n",
        "\n",
        "Thus, we have:\n",
        "\n",
        "<br>\n",
        "\n",
        "$$F_X(x) = \\left\\{ \\begin{array}{ll}\n",
        "0 & x < 0\\\\\n",
        "{\\color{dodgerblue}{\\dfrac{x^2}{16}}} & 0 \\leq x \\leq 4 \\\\\n",
        "1 & x > 4\n",
        "\\end{array} \\right.$$\n",
        "\n",
        "<br>\n",
        "\n",
        "<br> <br>\n",
        "\n"
      ],
      "metadata": {
        "id": "x386u2Ajcb-m"
      },
      "id": "x386u2Ajcb-m"
    },
    {
      "cell_type": "code",
      "source": [
        "#code to plot Fx\n",
        "# Define the range of x values\n",
        "x <- seq(0, 5, 0.05)  # Creates a sequence from 0 to 5 with increments of 0.05\n",
        "\n",
        "# Define the function for y values\n",
        "f <- function(x) {\n",
        "  ifelse(x >= 0 & x <= 4, x^2/16, 1)\n",
        "}\n",
        "\n",
        "# Calculate the y values using the function\n",
        "y <- f(x)\n",
        "\n",
        "# Create the plot\n",
        "plot(x, y,\n",
        "     type = \"l\", # Specifies a line plot\n",
        "     #xlim = c(0, 5), # Sets x-axis limits\n",
        "     #ylim = c(0, 5), # Sets y-axis limits\n",
        "     lty = 1, # Sets line type to solid\n",
        "     col = \"blue\", # Sets line color to blue\n",
        "     xlab = \"x\", # Sets x-axis label\n",
        "     ylab = \"F(x)\", # Sets y-axis label\n",
        "     main = \"Graph of Cummulative Distribution Function, F(x)\") # Sets plot title"
      ],
      "metadata": {
        "id": "J5eLpMH3lq6X",
        "colab": {
          "base_uri": "https://localhost:8080/",
          "height": 437
        },
        "outputId": "1e4dd820-189a-4e33-b0e2-929d41a17166"
      },
      "id": "J5eLpMH3lq6X",
      "execution_count": null,
      "outputs": [
        {
          "output_type": "display_data",
          "data": {
            "text/plain": [
              "Plot with title “Graph of Cummulative Distribution Function, F(x)”"
            ],
            "image/png": "[encoded data removed]"
          },
          "metadata": {
            "image/png": {
              "width": 420,
              "height": 420
            }
          }
        }
      ]
    },
    {
      "cell_type": "markdown",
      "source": [
        "### <a name=\"06q4c\">Question 4c</a>\n",
        "\n",
        "---\n",
        "\n",
        "Calculate $P(X < 1)$ and illustrate this value on each of your graphs in\n",
        "the solutions to [Questions 4a](#06q4a) and [4b](#06q4b).\n",
        "\n",
        "#### <a name=\"06sol4c\">Solution to Question 4c</a>\n",
        "\n",
        "---\n",
        "\n",
        "<br>\n",
        "\n",
        "Using the cumulative distribution function, we have\n",
        "\n",
        "$$P(X < 1) = F_X(1) = \\frac{1^2}{16} = 0.0625.$$\n",
        "\n",
        "- In the graph of $F_X(x)$ in [Question 4b](#06q4b), the point on the graph of $F_X(x)$ at $x=1$ has height $y=0.0625$.\n",
        "\n",
        "\n",
        "\n",
        "---\n",
        "\n",
        "Using the probability density function, we have\n",
        "\n",
        "$$P(X < 1) = \\int_0^1 \\frac{x}{8} \\, dx = \\mbox{Area of Triangle} = \\frac{1}{2}(1)(0.125) = 0.0625.$$\n",
        "\n",
        "- In the graph of $f_X(x)$ in [Question 4a](#06q4a), the area of the triangle below the graph over the interval $0 \\leq x \\leq 1$ is $0.0625$. The area is 6.25\\% of the total area under the larger triangle from $0 \\leq x \\leq 4$.\n",
        "<br> <br>\n",
        "\n"
      ],
      "metadata": {
        "id": "xJB1k925ch92"
      },
      "id": "xJB1k925ch92"
    },
    {
      "cell_type": "markdown",
      "source": [
        "### <a name=\"06q4d\">Question 4d</a>\n",
        "\n",
        "---\n",
        "\n",
        "Calculate $E(X)$ and illustrate this on your graph in the solution to\n",
        "[Question 4a](#06q4a).\n",
        "\n",
        "#### <a name=\"06sol4d\">Solution to Question 4d</a>\n",
        "\n",
        "---\n",
        "\n",
        "<br>\n",
        "We have\n",
        "\n",
        "$$E(X) = \\int_{-\\infty}^{\\infty} x f_X(x) \\, dx = \\int_0^4 x \\cdot \\frac{x}{8} \\, dx = \\frac{x^3}{24} \\bigg|_{0}^4 = \\frac{4^3}{24} \\approx 2.667.$$\n",
        "\n",
        "<br>\n",
        "\n",
        "The \"balance point\" for the area under the graph of $f_X(x)$ in [Question 4a](#06q4a) is at $x = 2.667$.\n",
        "\n",
        "- Consider the region below the graph of $f_X(x)$ as a solid object.\n",
        "- Suppose we would like to balance the weight of the area on the $x$-axis.\n",
        "- If we place a finger at $x = 2.667$ on the $x$-axis, the area will be balanced.\n",
        "<br> <br>\n",
        "\n"
      ],
      "metadata": {
        "id": "ZtnsXFDccjBP"
      },
      "id": "ZtnsXFDccjBP"
    },
    {
      "cell_type": "markdown",
      "source": [
        "### <a name=\"06q4e\">Question 4e</a>\n",
        "\n",
        "---\n",
        "\n",
        "Give the median value and illustrate this value on both of your graphs\n",
        "in the solutions to [Questions 4a](#06q4a) and [4b](#06q4b).\n",
        "\n",
        "#### <a name=\"06sol4e\">Solution to Question 4e</a>\n",
        "\n",
        "---\n",
        "\n",
        "<br>\n",
        "\n",
        "If we know the formula for $F_X(x)$, that is probably the more efficient function to use to find the median. We solve the equation $F_X(x) =0.5$ for $x$. We have\n",
        "\n",
        "$$\\begin{align}\n",
        "\\frac{x^2}{16} &= 0.5 \\\\\n",
        "x^2 &= 8 \\\\\n",
        "x &= \\pm \\sqrt{8}.\n",
        "\\end{align}$$\n",
        "\n",
        "Since $0 \\leq x \\leq 4$, the median is $x = \\sqrt{8} \\approx 2.8284$.\n",
        "\n",
        "- On the graph of the cdf $F_X(x)$ in [Question 4b](#06q4b), the vertical line through $F_X(x) = 0.5$ on the vertical axis intersects the graph of $F_X(x)$ at $x=2.8284$.\n",
        "\n",
        "---\n",
        "\n",
        "Using the probability density function, we have need to solve the following integral equation for $x$:\n",
        "\n",
        "$$\\int_{-\\infty}^x f_X(t) \\, dt = \\int_0^x \\frac{t}{8} \\, dt = 0.5.$$\n",
        "\n",
        "That involves a little more work than previous solution using the cdf, but we can confirm the result $x=\\sqrt{8}$ by solving the equation above as well.\n",
        "\n",
        "- On the graph of the pdf $f_X(x)$ in [Question 4a](#06q4a), the vertical through $x=2.8284$ divides the total area under the graph of $f_X(x)$ into two equal halves.\n",
        "<br> <br>\n",
        "\n"
      ],
      "metadata": {
        "id": "rHSRfG0wckhd"
      },
      "id": "rHSRfG0wckhd"
    },
    {
      "cell_type": "markdown",
      "source": [
        "### <a name=\"06q4f\">Question 4f</a>\n",
        "\n",
        "---\n",
        "\n",
        "Compute $\\mbox{Var}(X)$.\n",
        "\n",
        "#### <a name=\"06sol4f\">Solution to Question 4f</a>\n",
        "\n",
        "---\n",
        "\n",
        "<br>\n",
        "\n",
        "\n",
        "To find $\\mbox{Var}(X)$, we use the formula $\\mbox{Var}(X) = E(X^2) - \\mu_X^2$. In [Question 4c](#064c) we found $\\mu_x = E(X) = \\frac{8}{3}$. Below, we find $E(X^2)$:\n",
        "\n",
        "$$E(X^2) = \\int_0^4 x^2 \\cdot \\frac{x}{8} \\, dx = \\frac{x^4}{32} \\bigg|_{0}^{4} = \\frac{4^4}{32} = 8.$$\n",
        "\n",
        "Thus, we have\n",
        "\n",
        "$$\\mbox{Var}(X) = E(X^2) - \\mu_X^2 = 8 - \\left( \\frac{8}{3} \\right)^2 = \\frac{8}{9} \\approx 0.8889.$$\n",
        "\n",
        "<br> <br>\n",
        "\n"
      ],
      "metadata": {
        "id": "7R4hfpOGcl28"
      },
      "id": "7R4hfpOGcl28"
    },
    {
      "cell_type": "markdown",
      "source": [
        "## <a name=\"06q5\">Question 5</a>\n",
        "\n",
        "---\n",
        "\n",
        "Let $X$ and $Y$ denote the raffle ticket random variables from [Question\n",
        "1](#06q1).\n",
        "\n"
      ],
      "metadata": {
        "id": "VPys6d6LcnG_"
      },
      "id": "VPys6d6LcnG_"
    },
    {
      "cell_type": "markdown",
      "source": [
        "### <a name=\"06q5a\">Question 5a</a>\n",
        "\n",
        "---\n",
        "\n",
        "Do you believe random variables $X$ and $Y$ are independent random\n",
        "variables? Explain why or why not.\n",
        "\n",
        "#### <a name=\"06sol5a\">Solution to Question 5a</a>\n",
        "\n",
        "---\n",
        "\n",
        "<br>\n",
        "\n",
        "Yes, since whatever the winning tickets are in one raffle has no effect on which tickets win in the other raffle.\n",
        "\n",
        "<br> <br>\n",
        "\n"
      ],
      "metadata": {
        "id": "Rftm4sqOcoYe"
      },
      "id": "Rftm4sqOcoYe"
    },
    {
      "cell_type": "markdown",
      "source": [
        "### <a name=\"06q5b\">Question 5b</a>\n",
        "\n",
        "---\n",
        "\n",
        "If you purchase 3 raffle tickets from raffle $X$ and 2 raffle tickets\n",
        "from raffle $Y$, what is the expected value of your winnings?\n",
        "\n",
        "#### <a name=\"06sol5b\">Solution to Question 5b</a>\n",
        "\n",
        "---\n",
        "\n",
        "<br>\n",
        "\n",
        "In the first raffle, we found in [Question 3](#06q3) that $E(X) = 9$. This means for each raffle ticket in the first raffle, we can expect to win $\\$9$. For the 3 tickets from the first lottery, we can expect to win a total of $3(9)=27$ dollars.\n",
        "\n",
        "<br>\n",
        "\n",
        "Similarly, in [Question 3](#06q3) that $E(Y) = 7.50$.  For the 2 tickets from the second lottery, we can expect to win a total of $2(7.50) = 15$ dollars\n",
        "\n",
        "<br>\n",
        "\n",
        "In total, we would expect to win $3E(X) + 2E(Y) = \\$42$.\n",
        "\n",
        "<br> <br>\n",
        "\n"
      ],
      "metadata": {
        "id": "8lZSkcnLcpaO"
      },
      "id": "8lZSkcnLcpaO"
    },
    {
      "cell_type": "markdown",
      "source": [
        "### <a name=\"06q5c\">Question 5c</a>\n",
        "\n",
        "---\n",
        "\n",
        "If you purchase 3 raffle tickets from raffle $X$ and 2 raffle tickets\n",
        "from raffle $Y$, what is the variance of your winnings?\n",
        "\n",
        "#### <a name=\"06sol5c\">Solution to Question 5c</a>\n",
        "\n",
        "---\n",
        "\n",
        "<br>\n",
        "\n",
        "\n",
        "For the variance of the winnings for <font color=\"tomato\">three raffle tickets</font> in raffle $X$, we have\n",
        "\n",
        "$$\\mbox{Var}({\\color{tomato}{3}}X) = E \\big[ ({\\color{tomato}{3}}X - {\\color{tomato}{3}} \\mu_X)^2 \\big] = E \\big[ {\\color{tomato}{3^2}}(X - \\mu_X)^2 \\big] = {\\color{tomato}{9}} E \\big[ (X - \\mu_X)^2 \\big] = {\\color{tomato}{9}} \\mbox{Var}(X) = 9(27319)= 245871.$$\n",
        "\n",
        "<font color=\"tomato\">To compute the variance of $3X$ we multiply $\\mbox{Var}(X)$ by $3^2=9$.\n",
        "\n",
        "\n",
        "<br>\n",
        "\n",
        "---\n",
        "\n",
        "<br>\n",
        "\n",
        "Similarly, for the variance of the winnings for <font color=\"tomato\">two raffle tickets</font> in raffle $Y$, we have\n",
        "\n",
        "$$\\mbox{Var}({\\color{tomato}{2}}Y) = {\\color{tomato}{4}} \\mbox{Var}(Y) = 4(56.25)=225.$$\n",
        "\n",
        "Since random variables $X$ and $Y$ are independent random variables, a reasonable conjecture is\n",
        "\n",
        "$${\\large \\mbox{Var}(3X+2Y) = \\mbox{Var}(3X) + \\mbox{Var}(2Y) = 9\\mbox{Var}(X) + 4 \\mbox{Var}(Y) = 246096}.$$\n",
        "\n",
        "<br>\n",
        "\n",
        "---\n",
        "\n",
        "<br>\n",
        "\n",
        "There may be other possible conjectures on how to use the variances of $X$ and $Y$ to calculate the variances of these combined events. In order to construct a more formula proof to verify a conjecture, we would need study more probability theory, in particular working with combinations of random variable using joint probability distributions.\n",
        "\n",
        "- If curious, see the section on [Joint Distributions](https://githubtocolab.com/CU-Denver-MathStats-OER/Statistical-Theory/blob/main/Chap2/05-Intro-to-Random-Variables.ipynb) for more information.\n",
        "\n",
        "\n",
        "<br> <br>\n",
        "\n"
      ],
      "metadata": {
        "id": "Z_jLT8_ucqV-"
      },
      "id": "Z_jLT8_ucqV-"
    },
    {
      "cell_type": "markdown",
      "source": [
        "# <a name=\"06prop-ex\">Properties of Expected Value</a>\n",
        "\n",
        "---\n",
        "\n",
        "Let $X$ and $Y$ denote a random variables, and let $a$ and $b$ denote\n",
        "constants. Then we have the following properties.\n",
        "\n",
        "-   $E(a) = a$\n",
        "-   $E(aX + bY) = aE(X) + bE(Y)$\n",
        "\n"
      ],
      "metadata": {
        "id": "eRkxzy1pcrmZ"
      },
      "id": "eRkxzy1pcrmZ"
    },
    {
      "cell_type": "markdown",
      "source": [
        "# <a name=\"06prop-var\">Properties of Variance</a>\n",
        "\n",
        "---\n",
        "\n",
        "- For any random variable $X$, we have $\\mbox{Var}(X) = E(X^2) - \\mu_X^2$.\n",
        "\n",
        "-  If $X$ and $Y$ are independent random variables and $a$ and $b$ constants, then $\\mbox{Var}(aX + bY) = a^2 \\mbox{Var}(X) + b^2 \\mbox{Var}(Y)$.\n",
        "\n"
      ],
      "metadata": {
        "id": "JZLMWsrxcsnY"
      },
      "id": "JZLMWsrxcsnY"
    },
    {
      "cell_type": "markdown",
      "source": [
        "## <a name=\"06q6\">Question 6</a>\n",
        "\n",
        "---\n",
        "\n",
        "The data set *spotify-hits.csv*<a name=\"cite_ref-1\"></a>[<sup>[1]</sup>](#cite_note-1) contains audio statistics of the top 2000 tracks on Spotify from 2000-2019. The data is\n",
        "stored in a <font color=\"dodgerblue\">**comma separated file (csv)**</font>.\n",
        "\n",
        "-   We can use the function `read.csv()` to import the csv file into an R data frame we call `hits`.\n",
        "\n",
        "<a name=\"cite_note-1\"></a> [1.](#cite_ref-1) [\"Top Hits Spotify from 2000-2019\"](https://www.kaggle.com/datasets/paradisejoy/top-hits-spotify-from-20002019) from [Kaggle](https://www.kaggle.com).\n"
      ],
      "metadata": {
        "id": "wgH6AWzsctrJ"
      },
      "id": "wgH6AWzsctrJ"
    },
    {
      "cell_type": "code",
      "execution_count": null,
      "metadata": {
        "id": "bc1c84f6-5a5d-48ea-969d-2928c5303662"
      },
      "outputs": [],
      "source": [
        "hits <- read.csv(\"https://raw.githubusercontent.com/CU-Denver-MathStats-OER/Statistical-Theory/main/Data/spotify-hits.csv\")"
      ],
      "id": "bc1c84f6-5a5d-48ea-969d-2928c5303662"
    },
    {
      "cell_type": "markdown",
      "metadata": {
        "id": "03c087f1-251e-467d-b745-f4a17ccdf4c8"
      },
      "source": [
        "In the code cell below:\n",
        "\n",
        "-   We convert `artist`, `song`, and `genre` to categorical variables\n",
        "    using the `factor()` function.\n",
        "-   Extract the variables `artist`, `song`, `energy`, `acousticness`,\n",
        "    and `genre` (ignoring the rest).\n",
        "-   Print the first 6 rows to screen to get a glimpse of the resulting\n",
        "    data frame."
      ],
      "id": "03c087f1-251e-467d-b745-f4a17ccdf4c8"
    },
    {
      "cell_type": "code",
      "execution_count": null,
      "metadata": {
        "id": "72d6aa91-53b5-4b66-bd22-876bfaa2d0cd",
        "colab": {
          "base_uri": "https://localhost:8080/",
          "height": 286
        },
        "outputId": "17635680-0093-4246-e5f2-4abc1bbbe294"
      },
      "outputs": [
        {
          "output_type": "display_data",
          "data": {
            "text/html": [
              "<table class=\"dataframe\">\n",
              "<caption>A data.frame: 6 × 5</caption>\n",
              "<thead>\n",
              "\t<tr><th></th><th scope=col>artist</th><th scope=col>song</th><th scope=col>energy</th><th scope=col>acousticness</th><th scope=col>genre</th></tr>\n",
              "\t<tr><th></th><th scope=col>&lt;fct&gt;</th><th scope=col>&lt;fct&gt;</th><th scope=col>&lt;dbl&gt;</th><th scope=col>&lt;dbl&gt;</th><th scope=col>&lt;fct&gt;</th></tr>\n",
              "</thead>\n",
              "<tbody>\n",
              "\t<tr><th scope=row>1</th><td>Britney Spears</td><td>Oops!...I Did It Again</td><td>0.834</td><td>0.3000</td><td>pop              </td></tr>\n",
              "\t<tr><th scope=row>2</th><td>blink-182     </td><td>All The Small Things  </td><td>0.897</td><td>0.0103</td><td>rock, pop        </td></tr>\n",
              "\t<tr><th scope=row>3</th><td>Faith Hill    </td><td>Breathe               </td><td>0.496</td><td>0.1730</td><td>pop, country     </td></tr>\n",
              "\t<tr><th scope=row>4</th><td>Bon Jovi      </td><td>It's My Life          </td><td>0.913</td><td>0.0263</td><td>rock, metal      </td></tr>\n",
              "\t<tr><th scope=row>5</th><td>*NSYNC        </td><td>Bye Bye Bye           </td><td>0.928</td><td>0.0408</td><td>pop              </td></tr>\n",
              "\t<tr><th scope=row>6</th><td><span style=white-space:pre-wrap>Sisqo         </span></td><td><span style=white-space:pre-wrap>Thong Song            </span></td><td>0.888</td><td>0.1190</td><td>hip hop, pop, R&amp;B</td></tr>\n",
              "</tbody>\n",
              "</table>\n"
            ],
            "text/markdown": "\nA data.frame: 6 × 5\n\n| <!--/--> | artist &lt;fct&gt; | song &lt;fct&gt; | energy &lt;dbl&gt; | acousticness &lt;dbl&gt; | genre &lt;fct&gt; |\n|---|---|---|---|---|---|\n| 1 | Britney Spears | Oops!...I Did It Again | 0.834 | 0.3000 | pop               |\n| 2 | blink-182      | All The Small Things   | 0.897 | 0.0103 | rock, pop         |\n| 3 | Faith Hill     | Breathe                | 0.496 | 0.1730 | pop, country      |\n| 4 | Bon Jovi       | It's My Life           | 0.913 | 0.0263 | rock, metal       |\n| 5 | *NSYNC         | Bye Bye Bye            | 0.928 | 0.0408 | pop               |\n| 6 | Sisqo          | Thong Song             | 0.888 | 0.1190 | hip hop, pop, R&amp;B |\n\n",
            "text/latex": "A data.frame: 6 × 5\n\\begin{tabular}{r|lllll}\n  & artist & song & energy & acousticness & genre\\\\\n  & <fct> & <fct> & <dbl> & <dbl> & <fct>\\\\\n\\hline\n\t1 & Britney Spears & Oops!...I Did It Again & 0.834 & 0.3000 & pop              \\\\\n\t2 & blink-182      & All The Small Things   & 0.897 & 0.0103 & rock, pop        \\\\\n\t3 & Faith Hill     & Breathe                & 0.496 & 0.1730 & pop, country     \\\\\n\t4 & Bon Jovi       & It's My Life           & 0.913 & 0.0263 & rock, metal      \\\\\n\t5 & *NSYNC         & Bye Bye Bye            & 0.928 & 0.0408 & pop              \\\\\n\t6 & Sisqo          & Thong Song             & 0.888 & 0.1190 & hip hop, pop, R\\&B\\\\\n\\end{tabular}\n",
            "text/plain": [
              "  artist         song                   energy acousticness genre            \n",
              "1 Britney Spears Oops!...I Did It Again 0.834  0.3000       pop              \n",
              "2 blink-182      All The Small Things   0.897  0.0103       rock, pop        \n",
              "3 Faith Hill     Breathe                0.496  0.1730       pop, country     \n",
              "4 Bon Jovi       It's My Life           0.913  0.0263       rock, metal      \n",
              "5 *NSYNC         Bye Bye Bye            0.928  0.0408       pop              \n",
              "6 Sisqo          Thong Song             0.888  0.1190       hip hop, pop, R&B"
            ]
          },
          "metadata": {}
        }
      ],
      "source": [
        "hits$artist <- factor(hits$artist)  # artist is categorical\n",
        "hits$song <- factor(hits$song)  # song is categorical\n",
        "hits$genre <- factor(hits$genre)  # genre is categorical\n",
        "hits <- hits[,c(\"artist\", \"song\", \"energy\", \"acousticness\", \"genre\")]\n",
        "head(hits)  # display first 6 rows of data frame"
      ],
      "id": "72d6aa91-53b5-4b66-bd22-876bfaa2d0cd"
    },
    {
      "cell_type": "markdown",
      "metadata": {
        "id": "66f63163-3d08-48a4-91d4-539dd4238dfc"
      },
      "source": [
        "-   **Energy**: A measure of how energetic a song is from $0.0$ to $1.0$\n",
        "    (least to most energy) of. Typically, energetic songs are fast,\n",
        "    loud, and noisy.\n",
        "-   **Acousticness**: A measure from $0.0$ to $1.0$ (least to most\n",
        "    acoustic) of depending on how significant the use of acoustic\n",
        "    instruments are in the song.\n",
        "\n",
        "Let $X$ denote the energy of a randomly selected song, and let $Y$\n",
        "denote the acousticness of a randomly selected song. We define a new\n",
        "song metric, $Z$, that is a weighted mean of score $X$ and $Y$:\n",
        "\n",
        "$$Z = \\frac{3X + 2Y}{5}$$\n",
        "\n"
      ],
      "id": "66f63163-3d08-48a4-91d4-539dd4238dfc"
    },
    {
      "cell_type": "markdown",
      "source": [
        "### <a name=\"06q6a\">Question 6a</a>\n",
        "\n",
        "---\n",
        "\n",
        "Do you believe $X$ and $Y$ are independent random variables? Explain why\n",
        "or why not.\n",
        "\n",
        "#### <a name=\"06sol6a\">Solution to Question 6a</a>\n",
        "\n",
        "---\n",
        "\n",
        "<br>\n",
        "\n",
        "No, since whether or not a song is acoustic would affect how energetic the song is. For example, acoustic songs typically have less energy.\n",
        "\n",
        "<br> <br>\n",
        "\n"
      ],
      "metadata": {
        "id": "mG--mHbTcvdu"
      },
      "id": "mG--mHbTcvdu"
    },
    {
      "cell_type": "markdown",
      "source": [
        "### <a name=\"06q6b\">Question 6b</a>\n",
        "\n",
        "---\n",
        "\n",
        "Use R to compute $E(X)$, $E(Y)$, and $E(Z)$. Check whether or not the\n",
        "property $E(aX + bY) = aE(X) + bE(Y)$ holds in this context.\n",
        "\n",
        "-   Hint: Recall R, the function `mean(x)` calculates the mean (expected\n",
        "    value) of `x`.\n",
        "\n",
        "#### <a name=\"06sol6b\">Solution to Question 6b</a>\n",
        "\n",
        "---"
      ],
      "metadata": {
        "id": "L41xWWqwcwea"
      },
      "id": "L41xWWqwcwea"
    },
    {
      "cell_type": "code",
      "execution_count": null,
      "metadata": {
        "id": "bf5be480-6905-4c04-8988-104dcf8b48ad"
      },
      "outputs": [],
      "source": [
        "x <- hits$energy  # random variable x\n",
        "y <- hits$acousticness  # random variable y\n",
        "z <- (3*x + 2*y) / 5  # random variable z"
      ],
      "id": "bf5be480-6905-4c04-8988-104dcf8b48ad"
    },
    {
      "cell_type": "code",
      "source": [
        "# use code cell to compare expected values\n",
        "mean(x)\n",
        "mean(y)\n",
        "mean(z)\n",
        "\n",
        "(3 / 5) * mean(x) +  (2 / 5) * mean(y)"
      ],
      "metadata": {
        "id": "p2n61ioTGjSd",
        "colab": {
          "base_uri": "https://localhost:8080/",
          "height": 86
        },
        "outputId": "9ad60e6d-8374-46c0-8435-ebca78624310"
      },
      "id": "p2n61ioTGjSd",
      "execution_count": null,
      "outputs": [
        {
          "output_type": "display_data",
          "data": {
            "text/html": [
              "0.720366"
            ],
            "text/markdown": "0.720366",
            "text/latex": "0.720366",
            "text/plain": [
              "[1] 0.720366"
            ]
          },
          "metadata": {}
        },
        {
          "output_type": "display_data",
          "data": {
            "text/html": [
              "0.12895492795"
            ],
            "text/markdown": "0.12895492795",
            "text/latex": "0.12895492795",
            "text/plain": [
              "[1] 0.1289549"
            ]
          },
          "metadata": {}
        },
        {
          "output_type": "display_data",
          "data": {
            "text/html": [
              "0.48380157118"
            ],
            "text/markdown": "0.48380157118",
            "text/latex": "0.48380157118",
            "text/plain": [
              "[1] 0.4838016"
            ]
          },
          "metadata": {}
        },
        {
          "output_type": "display_data",
          "data": {
            "text/html": [
              "0.48380157118"
            ],
            "text/markdown": "0.48380157118",
            "text/latex": "0.48380157118",
            "text/plain": [
              "[1] 0.4838016"
            ]
          },
          "metadata": {}
        }
      ]
    },
    {
      "cell_type": "markdown",
      "metadata": {
        "id": "04c587e0-e87c-48bb-b18b-42db24f7b9fe"
      },
      "source": [
        "<br> <br> <br>\n",
        "\n"
      ],
      "id": "04c587e0-e87c-48bb-b18b-42db24f7b9fe"
    },
    {
      "cell_type": "markdown",
      "source": [
        "### <a name=\"06q6c\">Question 6c</a>\n",
        "\n",
        "---\n",
        "\n",
        "Use R to compute $\\mbox{Var}(X)$, $\\mbox{Var}(Y)$, and $\\mbox{Var}(Z)$.\n",
        "Check whether or not the property\n",
        "$\\mbox{Var}(aX + bY) = a^2\\mbox{Var}(X) + b^2\\mbox{Var}(Y)$ holds in\n",
        "this context.\n",
        "\n",
        "-   Hint: The function `var(x)` calculates the variance of `x`.\n",
        "\n",
        "#### <a name=\"06sol6c\">Solution to Question 6c</a>\n",
        "\n",
        "---"
      ],
      "metadata": {
        "id": "_wugZp-8cx-Q"
      },
      "id": "_wugZp-8cx-Q"
    },
    {
      "cell_type": "code",
      "execution_count": null,
      "metadata": {
        "id": "1bc04a5c-8c03-47dd-bf77-770fac112b59",
        "colab": {
          "base_uri": "https://localhost:8080/",
          "height": 52
        },
        "outputId": "96cd2589-9fda-4aa9-9f50-1f89739da252"
      },
      "outputs": [
        {
          "output_type": "display_data",
          "data": {
            "text/html": [
              "0.00754540669321386"
            ],
            "text/markdown": "0.00754540669321386",
            "text/latex": "0.00754540669321386",
            "text/plain": [
              "[1] 0.007545407"
            ]
          },
          "metadata": {}
        },
        {
          "output_type": "display_data",
          "data": {
            "text/html": [
              "0.0132070135115813"
            ],
            "text/markdown": "0.0132070135115813",
            "text/latex": "0.0132070135115813",
            "text/plain": [
              "[1] 0.01320701"
            ]
          },
          "metadata": {}
        }
      ],
      "source": [
        "# use code cell to compare variances\n",
        "\n",
        "var(z)\n",
        "(3 / 5)^2 * var(x) + (2 / 5)^2 * var(y)"
      ],
      "id": "1bc04a5c-8c03-47dd-bf77-770fac112b59"
    },
    {
      "cell_type": "markdown",
      "metadata": {
        "id": "9181819f-011e-41ad-9a98-599b032cdd62"
      },
      "source": [
        "<br>\n",
        "\n",
        "If $X$ and $Y$ are not independent random variables, then it is NOT necessarily true that $\\mbox{Var}(aX + bY) = a^2\\mbox{Var}(X) + b^2\\mbox{Var}(Y)$.\n",
        "\n",
        "<br>\n",
        "\n",
        "<font color=\"dodgerblue\">In the special case where $X$ and $Y$ are independent random variables, then it does follow that $\\mbox{Var}(aX + bY) = a^2\\mbox{Var}(X) + b^2\\mbox{Var}(Y)$.</font>\n",
        "\n",
        "<br> <br>\n",
        "\n"
      ],
      "id": "9181819f-011e-41ad-9a98-599b032cdd62"
    },
    {
      "cell_type": "markdown",
      "source": [
        "### <a name=\"06q6d\">Question 6d</a>\n",
        "\n",
        "---\n",
        "\n",
        "Determine whether each of the statements below are true or false. If\n",
        "false, explain why.\n",
        "\n",
        "For any two random variables $X$ and $Y$ and constants $a$ and $b$:\n",
        "\n",
        "-   It always follows that $E(aX + bY) = aE(X) + bE(Y)$.\n",
        "-   It always follows that\n",
        "    $\\mbox{Var}(aX + bY) = a^2\\mbox{Var}(X) + b^2\\mbox{Var}(Y)$.\n",
        "\n",
        "#### <a name=\"06sol6d\">Question 6d</a>\n",
        "\n",
        "---\n",
        "\n",
        "<br>\n",
        "\n",
        "Based on the observations from [Question 6b](#06q6b) and [Question 6c](#06q6c):\n",
        "-   TRUE:  It always follows that $E(aX + bY) = aE(X) + bE(Y)$.\n",
        "-   FALSE: It always follows that\n",
        "    $\\mbox{Var}(aX + bY) = a^2\\mbox{Var}(X) + b^2\\mbox{Var}(Y)$.\n",
        "\n",
        "<br> <br>"
      ],
      "metadata": {
        "id": "0HJvKtLNczUY"
      },
      "id": "0HJvKtLNczUY"
    },
    {
      "cell_type": "markdown",
      "source": [
        "# <a name=\"06append\">Appendix: Properties of Random Variables</a>\n",
        "\n",
        "---\n",
        "\n",
        "In [Introduction to Random\n",
        "Variables](https://githubtocolab.com/CU-Denver-MathStats-OER/Statistical-Theory/blob/main/Chap2/05-Intro-to-Random-Variables.ipynb)\n",
        "we discovered the following properties for a random variable $X$.\n",
        "\n"
      ],
      "metadata": {
        "id": "BgK70q3pYpGx"
      },
      "id": "BgK70q3pYpGx"
    },
    {
      "cell_type": "markdown",
      "source": [
        "## <a name=\"06append-discrete\">Discrete Random Variables</a>\n",
        "\n",
        "---\n",
        "\n",
        "For a **discrete** random variable $X$, let $p(x)$ and $F(x)$ denote the pmf and cdf, respectively, we have:\n",
        "\n",
        "-   $0 \\leq p(x) \\leq 1$ for all $x$\n",
        "\n",
        "-   $\\displaystyle \\sum_{\\rm{all}\\  x} p(x) = 1$\n",
        "\n",
        "-   $F(x) = \\displaystyle P(X \\leq x) = \\sum_{k= x_{\\rm min}}^x p(k)$\n",
        "\n",
        "-   $0 \\leq F(x) \\leq 1$ for all $x$\n",
        "\n",
        "-   $\\displaystyle \\lim_{x \\to \\infty} F(x) = 1$\n",
        "\n",
        "-   $F(x)$ is nondecreasing.\n",
        "\n"
      ],
      "metadata": {
        "id": "e-M4siq2ZXlu"
      },
      "id": "e-M4siq2ZXlu"
    },
    {
      "cell_type": "markdown",
      "source": [
        "## <a name=\"06append-cont\">Continuous Random Variables</a>\n",
        "\n",
        "---\n",
        "\n",
        "For a **continuous** random variable $X$, let $f(x)$ and $F(x)$ denote the pdf and cdf, respectively, we have:\n",
        "\n",
        "-   $f(x) \\geq 0$ for all $x$\n",
        "\n",
        "-   $\\displaystyle \\int_{-\\infty}^{\\infty} f(x) = 1$\n",
        "\n",
        "-   $\\displaystyle P(a < x < b) = \\int_a^b f(x) \\, dx$\n",
        "\n",
        "-   $\\displaystyle F(x) = \\int_{-\\infty}^x f(t) \\, dt$\n",
        "\n",
        "-   The $F(x)$ is an antiderivative of $f$.\n",
        "\n",
        "-   The $f(x)$ is the derivative of $F(x)$.\n",
        "\n",
        "-   $0 \\leq F(x) \\leq 1$ for all $x$.\n",
        "\n",
        "-   $\\displaystyle \\lim_{x \\to \\infty} F(x) = 1$.\n",
        "\n",
        "-   $F(x)$ is nondecreasing."
      ],
      "metadata": {
        "id": "sO51Be6OZlm1"
      },
      "id": "sO51Be6OZlm1"
    },
    {
      "cell_type": "markdown",
      "source": [
        "# <a name=\"CC License\">Creative Commons License Information</a>\n",
        "---\n",
        "\n",
        "\n",
        "![Creative Commons\n",
        "License](https://i.creativecommons.org/l/by-nc-sa/4.0/88x31.png)\n",
        "\n",
        "*Statistical Methods: Exploring the Uncertain* by [Adam\n",
        "Spiegler (University of Colorado Denver)](https://github.com/CU-Denver-MathStats-OER/Statistical-Theory)\n",
        "is licensed under a [Creative Commons\n",
        "Attribution-NonCommercial-ShareAlike 4.0 International\n",
        "License](http://creativecommons.org/licenses/by-nc-sa/4.0/). This work is funded by an [Institutional OER Grant from the Colorado Department of Higher Education (CDHE)](https://cdhe.colorado.gov/educators/administration/institutional-groups/open-educational-resources-in-colorado).\n",
        "\n",
        "For similar interactive OER materials in other courses funded by this project in the Department of Mathematical and Statistical Sciences at the University of Colorado Denver, visit <https://github.com/CU-Denver-MathStats-OER>."
      ],
      "metadata": {
        "id": "XYaPzcSoGgEu"
      },
      "id": "XYaPzcSoGgEu"
    },
    {
      "cell_type": "code",
      "source": [],
      "metadata": {
        "id": "kLtjK-qRY2Bf"
      },
      "id": "kLtjK-qRY2Bf",
      "execution_count": null,
      "outputs": []
    }
  ],
  "nbformat": 4,
  "nbformat_minor": 5,
  "metadata": {
    "kernelspec": {
      "name": "ir",
      "display_name": "R",
      "language": "R"
    },
    "colab": {
      "provenance": [],
      "include_colab_link": true
    }
  }
}