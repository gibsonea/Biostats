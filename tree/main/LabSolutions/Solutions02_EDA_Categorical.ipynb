{
  "cells": [
    {
      "cell_type": "markdown",
      "metadata": {
        "id": "view-in-github",
        "colab_type": "text"
      },
      "source": [
        "<a href=\"https://colab.research.google.com/github/gibsonea/Biostats/blob/main/tree/main/LabSolutions/Solutions02_EDA_Categorical.ipynb\" target=\"_parent\"><img src=\"https://colab.research.google.com/assets/colab-badge.svg\" alt=\"Open In Colab\"/></a>"
      ]
    },
    {
      "cell_type": "markdown",
      "metadata": {
        "id": "71171f8b-2ab4-4152-a673-edf8f330ed33"
      },
      "source": [
        "# <a name=\"02intro\">1.2: Exploring Categorical Data</a>\n",
        "---\n",
        "\n",
        "Additional Reading:\n",
        "\n",
        "-   See [Overview of Plotting Data in R](https://githubtocolab.com/CU-Denver-MathStats-OER/Statistical-Theory/blob/main/Appendix/Overview-of-Plots.ipynb) for further reading and examples about plotting in R.\n",
        "-   See [Fundamentals of Working with Data](https://githubtocolab.com/CU-Denver-MathStats-OER/Statistical-Theory/blob/main/Appendix/Intro-to-Vectors-Dataframes.ipynb) for more information about data types and structures in R.\n",
        "-   The [R Graph Gallery](https://r-graph-gallery.com/) has examples of many other types of graphs.\n",
        "\n"
      ],
      "id": "71171f8b-2ab4-4152-a673-edf8f330ed33"
    },
    {
      "cell_type": "markdown",
      "source": [
        "# <a name=\"02eda\">An Overview of Exploratory Data Analysis</a>\n",
        "---\n",
        "\n",
        "<font color=\"dodgerblue\">**Exploratory data analysis**</font>,\n",
        "or <font color=\"dodgerblue\">**EDA**</font> for short, can be\n",
        "thought of as a cycle:\n",
        "\n",
        "-   Generate questions about our data.\n",
        "-   Search for answers by visualizing, transforming, and modeling our data.\n",
        "-   Use what we learn to refine your questions and/or generate new questions.\n",
        "\n",
        "The main goal of EDA is to develop an understanding of your data. When we ask a question, the question focuses our attention on a specific part of the data set and helps us decide which graphs, models, or transformations to make.\n",
        "\n"
      ],
      "metadata": {
        "id": "FrFHa1x27G5W"
      },
      "id": "FrFHa1x27G5W"
    },
    {
      "cell_type": "markdown",
      "source": [
        "# <a name=\"02load\">Loading the `dplyr` Package</a>\n",
        "---\n",
        "\n",
        "The `dplyr` package is perhaps one of the most useful R packages for\n",
        "<font color=\"dodgerblue\">**data wrangling**</font> and EDA. Data\n",
        "wrangling is generally the cleaning, reorganizing, and transforming data\n",
        "so it can be more easily analyzed. `dplyr` also contains data sets that\n",
        "we can use to practice our wrangling and visualization skills. In this\n",
        "lab, we will work with the data set called `storms`.\n",
        "\n",
        "-   See [official dplyr documentation](https://dplyr.tidyverse.org/articles/dplyr.html) for a comprehensive tutorial.\n",
        "-   **Run the code cell below to load the `dplyr` package.**"
      ],
      "metadata": {
        "id": "uHKSSqrH7IN3"
      },
      "id": "uHKSSqrH7IN3"
    },
    {
      "cell_type": "code",
      "execution_count": 1,
      "metadata": {
        "id": "f6594a42-04c5-4ec7-979e-46220a59d39f",
        "colab": {
          "base_uri": "https://localhost:8080/"
        },
        "outputId": "e980f581-efbe-4f12-a54d-ba31dcec20cc"
      },
      "outputs": [
        {
          "output_type": "stream",
          "name": "stderr",
          "text": [
            "\n",
            "Attaching package: ‘dplyr’\n",
            "\n",
            "\n",
            "The following objects are masked from ‘package:stats’:\n",
            "\n",
            "    filter, lag\n",
            "\n",
            "\n",
            "The following objects are masked from ‘package:base’:\n",
            "\n",
            "    intersect, setdiff, setequal, union\n",
            "\n",
            "\n"
          ]
        }
      ],
      "source": [
        "# loads dplyr package\n",
        "library(dplyr)"
      ],
      "id": "f6594a42-04c5-4ec7-979e-46220a59d39f"
    },
    {
      "cell_type": "markdown",
      "metadata": {
        "id": "33e8970d-c4a0-457a-8657-4da4029903a4"
      },
      "source": [
        "## <a name=\"02help\">Finding Help Documentation</a>\n",
        "---\n",
        "\n",
        "-   The code cell below opens a glossary tab of all (most?) functions and data in the package `dplyr`."
      ],
      "id": "33e8970d-c4a0-457a-8657-4da4029903a4"
    },
    {
      "cell_type": "code",
      "execution_count": 2,
      "metadata": {
        "id": "ef2741d4-68bb-4b57-9d26-996fbc867826"
      },
      "outputs": [],
      "source": [
        "# open glossary of dplyr functions\n",
        "help(package = \"dplyr\")"
      ],
      "id": "ef2741d4-68bb-4b57-9d26-996fbc867826"
    },
    {
      "cell_type": "markdown",
      "metadata": {
        "id": "6d93ba12-33c7-4e3f-a644-35e8fd26c816"
      },
      "source": [
        "-   The code cell below opens a help tab with information about the `storms` data set."
      ],
      "id": "6d93ba12-33c7-4e3f-a644-35e8fd26c816"
    },
    {
      "cell_type": "code",
      "execution_count": 3,
      "metadata": {
        "id": "c59097fd-acd4-4e3b-97b8-fd9c2111556e"
      },
      "outputs": [],
      "source": [
        "# opens help tab with info about storms data set\n",
        "?storms"
      ],
      "id": "c59097fd-acd4-4e3b-97b8-fd9c2111556e"
    },
    {
      "cell_type": "markdown",
      "metadata": {
        "id": "d8dc448b-8d1e-4ea7-a3ee-722c9b9db451"
      },
      "source": [
        "# <a name=\"02structure\">The Structure of Data</a>\n",
        "---\n",
        "\n",
        "<font color=\"dodgerblue\">**Data frames**</font> are\n",
        "two-dimensional data objects and are the **fundamental** data structure used by most of R’s libraries of functions and data sets.\n",
        "\n",
        "-   Tabular data is <font color=\"dodgerblue\">**tidy**</font> if each row corresponds to a different observation and each column corresponds to a different variable.\n",
        "\n",
        "Each column of a data frame is a <font color=\"dodgerblue\">**variable**</font> (stored as a **vector**) of possibly different data types.\n",
        "\n",
        "-  If a variable is measured or counted by a number, it is called a <font color=\"dodgerblue\">**quantitative**</font> or <font color=\"dodgerblue\">**numerical**</font> variable.\n",
        "  -  Quantitative variables may be <font color=\"dodgerblue\">**discrete**</font> (integers) or <font color=\"dodgerblue\">**continuous**</font> (decimals).\n",
        "-  If a variable groups observations into different categories or rankings, it is a <font color=\"dodgerblue\">**qualitative**</font> or <font color=\"dodgerblue\">**categorical**</font> variable.\n",
        "  -   The different categories of a qualitative variable are called <font color=\"dodgerblue\">**levels**</font> or <font color=\"dodgerblue\">**classes**</font>.\n",
        "    -   Levels are typically labeled with descriptive character strings or integers.\n",
        "    -   Levels may or may not have an ordering.\n",
        "  - An <font color=\"dodgerblue\">**ordinal variable**</font> is when the levels of a categorical variable do have a specified order.\n"
      ],
      "id": "d8dc448b-8d1e-4ea7-a3ee-722c9b9db451"
    },
    {
      "cell_type": "markdown",
      "source": [
        "# <a name=\"02explore-storms\">Exploring Our Data</a>\n",
        "---\n",
        "\n",
        "Below are some common functions used to get a first introduction to our\n",
        "data:\n",
        "\n",
        "-   `summary(df)` gives numerical summary of all variables in data frame with generic name `df`.\n",
        "-   `glimpse(df)` gives a glimpse of the data frame `df`.\n",
        "-   `str(df)` summarizes the structure of all variables in data frame `df`\n",
        "-   `head(df)` view first 6 rows in data frame.\n",
        "-   `tail(df)` view last 6 rows in data frame.\n",
        "-   `View(df)` to view the full data frame.\n",
        "  -   <font color=\"tomato\">It typically is not recommended to include a `View()` command in your work</font> since that opens the entire data set.\n",
        "  -   The goal of EDA is to provide nice summaries of a data set so we do not need to look at all the raw data!\n",
        "\n"
      ],
      "metadata": {
        "id": "2bCaoVWj7rSu"
      },
      "id": "2bCaoVWj7rSu"
    },
    {
      "cell_type": "markdown",
      "source": [
        "## <a name=\"02q1\">Question 1</a>\n",
        "---\n",
        "\n",
        "Let’s get to know the `storms` data set. Using some (or all) of the\n",
        "commands above, answer the following questions:\n",
        "\n",
        "-   How many observations are in data set `storms`?\n",
        "-   How many variables are `storms`?\n",
        "    -   Which variables are quantitative and which are categorical?\n",
        "    -   Which categorical variables have a ranking? Which do not?\n",
        "-   Hint: Avoid using the `View()` function. Instead, use `head()` or `tail()` if you want to get a sense of what the raw data looks like.\n",
        "\n",
        "<font color=\"dodgerblue\">**Experiment with some of the functions\n",
        "in the code cell below to answer the questions. Then type your answer in\n",
        "the space below.**</font>"
      ],
      "metadata": {
        "id": "tO6NgE1C7tCd"
      },
      "id": "tO6NgE1C7tCd"
    },
    {
      "cell_type": "code",
      "execution_count": null,
      "metadata": {
        "id": "6ddf04e3-2384-42c1-8e86-0c8fc94d0cab",
        "colab": {
          "base_uri": "https://localhost:8080/"
        },
        "outputId": "6f6a74ab-9bfc-44ac-d80d-00aa8df00392"
      },
      "outputs": [
        {
          "output_type": "stream",
          "name": "stdout",
          "text": [
            "tibble [19,537 × 13] (S3: tbl_df/tbl/data.frame)\n",
            " $ name                        : chr [1:19537] \"Amy\" \"Amy\" \"Amy\" \"Amy\" ...\n",
            " $ year                        : int [1:19537] 1975 1975 1975 1975 1975 1975 1975 1975 1975 1975 ...\n",
            " $ month                       : int [1:19537] 6 6 6 6 6 6 6 6 6 6 ...\n",
            " $ day                         : int [1:19537] 27 27 27 27 28 28 28 28 29 29 ...\n",
            " $ hour                        : num [1:19537] 0 6 12 18 0 6 12 18 0 6 ...\n",
            " $ lat                         : num [1:19537] 27.5 28.5 29.5 30.5 31.5 32.4 33.3 34 34.4 34 ...\n",
            " $ long                        : num [1:19537] -79 -79 -79 -79 -78.8 -78.7 -78 -77 -75.8 -74.8 ...\n",
            " $ status                      : Factor w/ 9 levels \"disturbance\",..: 7 7 7 7 7 7 7 7 8 8 ...\n",
            " $ category                    : Factor w/ 5 levels \"1\",\"2\",\"3\",\"4\",..: NA NA NA NA NA NA NA NA NA NA ...\n",
            " $ wind                        : int [1:19537] 25 25 25 25 25 25 25 30 35 40 ...\n",
            " $ pressure                    : int [1:19537] 1013 1013 1013 1013 1012 1012 1011 1006 1004 1002 ...\n",
            " $ tropicalstorm_force_diameter: int [1:19537] NA NA NA NA NA NA NA NA NA NA ...\n",
            " $ hurricane_force_diameter    : int [1:19537] NA NA NA NA NA NA NA NA NA NA ...\n"
          ]
        }
      ],
      "source": [
        "#summary(storms)  # summary of each variable in storms\n",
        "#head(storms)  # prints first 6 rows to screen\n",
        "#tail(storms)  # prints last 6 rows to screen\n",
        "#glimpse(storms)  # gives a glimpse of the data set\n",
        "str(storms)   # summary of data structure"
      ],
      "id": "6ddf04e3-2384-42c1-8e86-0c8fc94d0cab"
    },
    {
      "cell_type": "markdown",
      "metadata": {
        "id": "d073616a-3477-4d67-8c24-fcea0917a70a"
      },
      "source": [
        "### <a name=\"02sol1\">Solution to Question 1</a>\n",
        "---\n",
        "\n",
        "There are 19,537 total observations and 13 variables.\n",
        "\n",
        "There are 10 quantitative variables:\n",
        "\n",
        "-  `year`, `month`, `day` and `hour` tells us when the storm observation was recorded.\n",
        "  - `year`, `month`, and `hour` are **decimals**.\n",
        "  - `hour` is with respect to UTC time.\n",
        "  - `day` is stored as an **integer**.\n",
        "- `lat` and `long` give the latitude and longitude of the location of the storm center. Both are stored as **decimals**.\n",
        "- `wind` is the storm's maximum sustained wind speed (in knots) and is stored as an **integer**.\n",
        "- `pressure` is the air pressure at the storm's center (in millibars) and is stored as an **integer**.\n",
        "- `tropicalstorm_force_diameter` is the diameter (in nautical miles) of the area experiencing tropical storm strength winds (34 knots or above).\n",
        "  - This variable is being stored as an **integer**.\n",
        "  - This was only available starting in 2004, so there are many `NA` values for storm observations prior to 2004.\n",
        "- `hurricane_force_diameter` is the diameter (in nautical miles) of the area experiencing hurricane strength winds (64 knots or above).\n",
        "  - This variable is being stored as an **integer**.\n",
        "  - This was also only available starting in 2004; thus, there are many `NA` for this variable.\n",
        "\n",
        "There are 3 categorical variables.\n",
        "\n",
        "- `name` is the Storm Name and is data type **character**.\n",
        "\n",
        "- `status` gives the storm classification and is <mark>stored as a **factor** which is the preferred data type for a categorical variable.</mark>\n",
        "  - There are a total of 9 classes for `status`.\n",
        "- `category` is the Saffir-Simpson hurricane category calculated from wind speed.\n",
        "  - Any storm which is not a hurricane has `category` value `NA`.\n",
        "  - `category` <mark>is stored as a **decimal**, but for our analysis we want to treat it as a **categorical variable**.</mark>\n",
        "\n",
        "The `category` variable has ranked classes. The other `categorical` variables are names or storm types whose classes are not ordered.\n",
        "\n",
        "<br> <br>\n",
        "  \n",
        "\n"
      ],
      "id": "d073616a-3477-4d67-8c24-fcea0917a70a"
    },
    {
      "cell_type": "markdown",
      "source": [
        "## <a name=\"02q2\">Question 2</a>\n",
        "---\n",
        "\n",
        "What additional information would you like to know about the `storms`\n",
        "data set that you were unable to find? What questions do you have about\n",
        "the data? In particular, what data is missing and why?\n",
        "\n",
        "### <a name=\"02sol2\">Solution to Question 2</a>\n",
        "---\n",
        "\n",
        "Answers will vary. See the solution to [Question 1](#02q1) for information about the missing data (`NA` values).\n",
        "\n",
        "<br> <br>\n",
        "\n",
        "\n"
      ],
      "metadata": {
        "id": "HeY8dDrM8Tja"
      },
      "id": "HeY8dDrM8Tja"
    },
    {
      "cell_type": "markdown",
      "source": [
        "# <a name=\"02data-types\">Data Types</a>\n",
        "---\n",
        "\n",
        "R has 6 basic [data\n",
        "types](https://cran.r-project.org/doc/manuals/r-release/R-lang.html#Basic-types):\n",
        "\n",
        "1.  <font color=\"dodgerblue\">**character**</font>: collections of characters. E.g., `\"a\"`, `\"hello world!\"`\n",
        "2.  <font color=\"dodgerblue\">**double**</font>: decimal numbers. e.g., `1.2`, `1.0`\n",
        "3.  <font color=\"dodgerblue\">**integer**</font>: whole numbers. In R, you must add `L` to the end of a number to specify it as an integer. E.g., `1L` is an integer but `1` is a double.\n",
        "4.  <font color=\"dodgerblue\">**logical**</font>: Boolean values, `TRUE` and `FALSE`\n",
        "5.  <font color=\"dodgerblue\">**complex**</font>: complex numbers. E.g., `1+3i`\n",
        "6.  <font color=\"dodgerblue\">**raw**</font>: a type to hold raw bytes.\n",
        "\n",
        "See [Fundamentals of Working with\n",
        "Data](https://githubtocolab.com/CU-Denver-MathStats-OER/Statistical-Theory/blob/main/Appendix/Intro-to-Vectors-Dataframes.ipynb)\n",
        "for more information.\n",
        "\n"
      ],
      "metadata": {
        "id": "QWADOcEI8VsP"
      },
      "id": "QWADOcEI8VsP"
    },
    {
      "cell_type": "markdown",
      "source": [
        "## <a name=\"02typeof\">Checking Data Types Using `typeof()`</a>\n",
        "---\n",
        "\n",
        "-   The `typeof()` function returns the R internal type or storage mode\n",
        "    of any object."
      ],
      "metadata": {
        "id": "CjaAnUbv8XKm"
      },
      "id": "CjaAnUbv8XKm"
    },
    {
      "cell_type": "code",
      "execution_count": null,
      "metadata": {
        "id": "76327396-a75e-4593-8738-5bce87c6e0de",
        "colab": {
          "base_uri": "https://localhost:8080/",
          "height": 156
        },
        "outputId": "2aeb702b-c45d-4fd9-d6ab-d9f23944e700"
      },
      "outputs": [
        {
          "output_type": "display_data",
          "data": {
            "text/html": [
              "'double'"
            ],
            "text/markdown": "'double'",
            "text/latex": "'double'",
            "text/plain": [
              "[1] \"double\""
            ]
          },
          "metadata": {}
        },
        {
          "output_type": "display_data",
          "data": {
            "text/html": [
              "'double'"
            ],
            "text/markdown": "'double'",
            "text/latex": "'double'",
            "text/plain": [
              "[1] \"double\""
            ]
          },
          "metadata": {}
        },
        {
          "output_type": "display_data",
          "data": {
            "text/html": [
              "'integer'"
            ],
            "text/markdown": "'integer'",
            "text/latex": "'integer'",
            "text/plain": [
              "[1] \"integer\""
            ]
          },
          "metadata": {}
        },
        {
          "output_type": "display_data",
          "data": {
            "text/html": [
              "'character'"
            ],
            "text/markdown": "'character'",
            "text/latex": "'character'",
            "text/plain": [
              "[1] \"character\""
            ]
          },
          "metadata": {}
        },
        {
          "output_type": "display_data",
          "data": {
            "text/html": [
              "'logical'"
            ],
            "text/markdown": "'logical'",
            "text/latex": "'logical'",
            "text/plain": [
              "[1] \"logical\""
            ]
          },
          "metadata": {}
        },
        {
          "output_type": "display_data",
          "data": {
            "text/html": [
              "'integer'"
            ],
            "text/markdown": "'integer'",
            "text/latex": "'integer'",
            "text/plain": [
              "[1] \"integer\""
            ]
          },
          "metadata": {}
        },
        {
          "output_type": "display_data",
          "data": {
            "text/html": [
              "'double'"
            ],
            "text/markdown": "'double'",
            "text/latex": "'double'",
            "text/plain": [
              "[1] \"double\""
            ]
          },
          "metadata": {}
        },
        {
          "output_type": "display_data",
          "data": {
            "text/html": [
              "'integer'"
            ],
            "text/markdown": "'integer'",
            "text/latex": "'integer'",
            "text/plain": [
              "[1] \"integer\""
            ]
          },
          "metadata": {}
        }
      ],
      "source": [
        "typeof(1.0)\n",
        "typeof(2)\n",
        "typeof(3L)\n",
        "typeof(\"hello\")\n",
        "typeof(TRUE)\n",
        "typeof(storms$status)\n",
        "typeof(storms$year)\n",
        "typeof(storms$wind)"
      ],
      "id": "76327396-a75e-4593-8738-5bce87c6e0de"
    },
    {
      "cell_type": "markdown",
      "metadata": {
        "id": "e6a1f3c5-86b9-45a5-8976-5844edccdcc2"
      },
      "source": [
        "## <a name=\"02extract\">Extracting a Variable By Name with `$`</a>\n",
        "---\n",
        "\n",
        "In the command `typeof(storms$status)`, notice we refer to just the `status` variable of the `storms` data frame. <font color=\"dodgerblue\">**A variable from a data frame may be extracted using `$` and then specifying the name of the desired variable**.</font>\n",
        "\n",
        "-   First indicate the name of the data frame, `storms`.\n",
        "-   Followed by a dollar sign `$`.\n",
        "-   Then indicate the name of the variable, for example `wind`.\n",
        "-   The `storms$wind` is a vector that contains the wind speed of each storm."
      ],
      "id": "e6a1f3c5-86b9-45a5-8976-5844edccdcc2"
    },
    {
      "cell_type": "code",
      "execution_count": null,
      "metadata": {
        "id": "4dc89878-f7ee-4b9b-83ce-2f13f9b60269",
        "colab": {
          "base_uri": "https://localhost:8080/",
          "height": 86
        },
        "outputId": "12eec294-2657-4834-e20b-8d1a537cf00c"
      },
      "outputs": [
        {
          "output_type": "display_data",
          "data": {
            "text/html": [
              "FALSE"
            ],
            "text/markdown": "FALSE",
            "text/latex": "FALSE",
            "text/plain": [
              "[1] FALSE"
            ]
          },
          "metadata": {}
        },
        {
          "output_type": "display_data",
          "data": {
            "text/html": [
              "TRUE"
            ],
            "text/markdown": "TRUE",
            "text/latex": "TRUE",
            "text/plain": [
              "[1] TRUE"
            ]
          },
          "metadata": {}
        },
        {
          "output_type": "display_data",
          "data": {
            "text/html": [
              "FALSE"
            ],
            "text/markdown": "FALSE",
            "text/latex": "FALSE",
            "text/plain": [
              "[1] FALSE"
            ]
          },
          "metadata": {}
        },
        {
          "output_type": "display_data",
          "data": {
            "text/html": [
              "TRUE"
            ],
            "text/markdown": "TRUE",
            "text/latex": "TRUE",
            "text/plain": [
              "[1] TRUE"
            ]
          },
          "metadata": {}
        }
      ],
      "source": [
        "is.vector(storms)  # storms is not a vector\n",
        "is.data.frame(storms)  # storms is a data frame\n",
        "is.data.frame(storms$wind)  # status is not a data frame\n",
        "is.vector(storms$wind)  # status is a vector"
      ],
      "id": "4dc89878-f7ee-4b9b-83ce-2f13f9b60269"
    },
    {
      "cell_type": "markdown",
      "metadata": {
        "id": "c39c373a-8001-4126-8222-bac7bda9d628"
      },
      "source": [
        "## <a name=\"02check-type\">Investigating Data Types with `is.numeric()`</a>\n",
        "---\n",
        "\n",
        "-   The `is.numeric(x)` function tests whether or not an object `x` is numeric.\n",
        "-   The `is.character(x)` function tests whether `x` is a character or not.\n",
        "-   The `is.factor(x)` function tests whether `x` is a factor or not.\n",
        "-   <font color=\"dodgerblue\">**Note: Categorical data is typically stored as a `factor` in R.**</font>"
      ],
      "id": "c39c373a-8001-4126-8222-bac7bda9d628"
    },
    {
      "cell_type": "code",
      "execution_count": null,
      "metadata": {
        "id": "9fde6a9f-03cf-4841-9538-1f81c21c1449",
        "colab": {
          "base_uri": "https://localhost:8080/",
          "height": 86
        },
        "outputId": "6827e84a-3283-418a-94d1-07b8ac0c6fa7"
      },
      "outputs": [
        {
          "output_type": "display_data",
          "data": {
            "text/html": [
              "TRUE"
            ],
            "text/markdown": "TRUE",
            "text/latex": "TRUE",
            "text/plain": [
              "[1] TRUE"
            ]
          },
          "metadata": {}
        },
        {
          "output_type": "display_data",
          "data": {
            "text/html": [
              "TRUE"
            ],
            "text/markdown": "TRUE",
            "text/latex": "TRUE",
            "text/plain": [
              "[1] TRUE"
            ]
          },
          "metadata": {}
        },
        {
          "output_type": "display_data",
          "data": {
            "text/html": [
              "FALSE"
            ],
            "text/markdown": "FALSE",
            "text/latex": "FALSE",
            "text/plain": [
              "[1] FALSE"
            ]
          },
          "metadata": {}
        },
        {
          "output_type": "display_data",
          "data": {
            "text/html": [
              "TRUE"
            ],
            "text/markdown": "TRUE",
            "text/latex": "TRUE",
            "text/plain": [
              "[1] TRUE"
            ]
          },
          "metadata": {}
        }
      ],
      "source": [
        "is.numeric(storms$year)  # year is numeric\n",
        "is.numeric(storms$category)  # category is also numeric\n",
        "is.numeric(storms$name)  # name is not numeric\n",
        "is.character(storms$name)  # name is character string"
      ],
      "id": "9fde6a9f-03cf-4841-9538-1f81c21c1449"
    },
    {
      "cell_type": "code",
      "execution_count": null,
      "metadata": {
        "id": "2828a883-877f-442f-b91c-184000bf6b55",
        "colab": {
          "base_uri": "https://localhost:8080/",
          "height": 69
        },
        "outputId": "6ad44c52-006f-4ea9-eae9-6c4e96bc222a"
      },
      "outputs": [
        {
          "output_type": "display_data",
          "data": {
            "text/html": [
              "FALSE"
            ],
            "text/markdown": "FALSE",
            "text/latex": "FALSE",
            "text/plain": [
              "[1] FALSE"
            ]
          },
          "metadata": {}
        },
        {
          "output_type": "display_data",
          "data": {
            "text/html": [
              "FALSE"
            ],
            "text/markdown": "FALSE",
            "text/latex": "FALSE",
            "text/plain": [
              "[1] FALSE"
            ]
          },
          "metadata": {}
        },
        {
          "output_type": "display_data",
          "data": {
            "text/html": [
              "TRUE"
            ],
            "text/markdown": "TRUE",
            "text/latex": "TRUE",
            "text/plain": [
              "[1] TRUE"
            ]
          },
          "metadata": {}
        }
      ],
      "source": [
        "is.numeric(storms$status)  # status is not numeric\n",
        "is.character(storms$status)  # status is not a character\n",
        "is.factor(storms$status)  # status is a factor which is categorical"
      ],
      "id": "2828a883-877f-442f-b91c-184000bf6b55"
    },
    {
      "cell_type": "markdown",
      "source": [
        "## <a name=\"02decimal-integer\">Converting Decimals to Integers</a>\n",
        "---\n",
        "\n",
        "From the summary of the `storms` data set we first found above, we see\n",
        "that the variables `year` and `month` are being stored as `double`. These variables actually are integer values.\n",
        "\n",
        "We can convert another variable of one format into another format using\n",
        "`as.[new_datatype]()`\n",
        "\n",
        "-   For example, to convert to year to `integer`, we use `as.integer(storms$year)`.\n",
        "-   To convert a data type to character, we can use `as.character(x)`.\n",
        "-   To convert to a decimal (`double`), we can use `as.numeric(x)`"
      ],
      "metadata": {
        "id": "AUWbzlGV8zX6"
      },
      "id": "AUWbzlGV8zX6"
    },
    {
      "cell_type": "code",
      "execution_count": null,
      "metadata": {
        "id": "10d5a68a-e070-41bf-9ee7-b1c8653e5a5e",
        "colab": {
          "base_uri": "https://localhost:8080/",
          "height": 86
        },
        "outputId": "25572975-f1ed-4775-f455-f12c42d6f864"
      },
      "outputs": [
        {
          "output_type": "display_data",
          "data": {
            "text/html": [
              "'double'"
            ],
            "text/markdown": "'double'",
            "text/latex": "'double'",
            "text/plain": [
              "[1] \"double\""
            ]
          },
          "metadata": {}
        },
        {
          "output_type": "display_data",
          "data": {
            "text/html": [
              "'double'"
            ],
            "text/markdown": "'double'",
            "text/latex": "'double'",
            "text/plain": [
              "[1] \"double\""
            ]
          },
          "metadata": {}
        },
        {
          "output_type": "display_data",
          "data": {
            "text/html": [
              "'integer'"
            ],
            "text/markdown": "'integer'",
            "text/latex": "'integer'",
            "text/plain": [
              "[1] \"integer\""
            ]
          },
          "metadata": {}
        },
        {
          "output_type": "display_data",
          "data": {
            "text/html": [
              "'integer'"
            ],
            "text/markdown": "'integer'",
            "text/latex": "'integer'",
            "text/plain": [
              "[1] \"integer\""
            ]
          },
          "metadata": {}
        }
      ],
      "source": [
        "typeof(storms$year)\n",
        "typeof(storms$month)\n",
        "storms$year <- as.integer(storms$year)\n",
        "storms$month <- as.integer(storms$month)\n",
        "typeof(storms$year)\n",
        "typeof(storms$month)"
      ],
      "id": "10d5a68a-e070-41bf-9ee7-b1c8653e5a5e"
    },
    {
      "cell_type": "markdown",
      "metadata": {
        "id": "62797f9e-6eae-4f92-9487-3fbc7523af0a"
      },
      "source": [
        "## <a name=\"02factor\">Converting to Categorical Data with `factor()`</a>\n",
        "---\n",
        "\n",
        "Sometimes we think a variable is one data type, but it is actually being stored (and thus interpreted by R) as a different data type. One common issue is categorical data is stored as characters or integers. We would like observations with the same values to be group together.\n",
        "\n",
        "-   The `status` variable in `storms` is being properly stored as a `factor`.\n",
        "-   The `category` variable in `storms` is being stored as a `numeric` since the classes are integers.\n",
        "\n"
      ],
      "id": "62797f9e-6eae-4f92-9487-3fbc7523af0a"
    },
    {
      "cell_type": "markdown",
      "metadata": {
        "id": "515767a2-035a-4472-972f-4b987a8723d1"
      },
      "source": [
        "The summary of `category` computes statistics such as mean and median. <font color=\"dodgerblue\">**Typically with categorical data, we prefer to count how many observations are in each class of the variable.**</font>\n",
        "\n",
        "-   In the code cell below, we convert `category` to a factor, and then observe the resulting summary."
      ],
      "id": "515767a2-035a-4472-972f-4b987a8723d1"
    },
    {
      "cell_type": "code",
      "execution_count": null,
      "metadata": {
        "id": "b65bee76-b0ae-469a-9554-fd4d590aca67",
        "colab": {
          "base_uri": "https://localhost:8080/",
          "height": 34
        },
        "outputId": "25128182-6e9a-4179-deed-6a795a71be13"
      },
      "outputs": [
        {
          "output_type": "display_data",
          "data": {
            "text/html": [
              "<style>\n",
              ".dl-inline {width: auto; margin:0; padding: 0}\n",
              ".dl-inline>dt, .dl-inline>dd {float: none; width: auto; display: inline-block}\n",
              ".dl-inline>dt::after {content: \":\\0020\"; padding-right: .5ex}\n",
              ".dl-inline>dt:not(:first-of-type) {padding-left: .5ex}\n",
              "</style><dl class=dl-inline><dt>1</dt><dd>2548</dd><dt>2</dt><dd>993</dd><dt>3</dt><dd>593</dd><dt>4</dt><dd>553</dd><dt>5</dt><dd>116</dd><dt>NA's</dt><dd>14734</dd></dl>\n"
            ],
            "text/markdown": "1\n:   25482\n:   9933\n:   5934\n:   5535\n:   116NA's\n:   14734\n\n",
            "text/latex": "\\begin{description*}\n\\item[1] 2548\n\\item[2] 993\n\\item[3] 593\n\\item[4] 553\n\\item[5] 116\n\\item[NA's] 14734\n\\end{description*}\n",
            "text/plain": [
              "    1     2     3     4     5  NA's \n",
              " 2548   993   593   553   116 14734 "
            ]
          },
          "metadata": {}
        }
      ],
      "source": [
        "storms$category <- factor(storms$category)\n",
        "summary(storms$category)"
      ],
      "id": "b65bee76-b0ae-469a-9554-fd4d590aca67"
    },
    {
      "cell_type": "markdown",
      "metadata": {
        "id": "4466b981-700e-4b53-a16a-11f7193ee84b"
      },
      "source": [
        "## <a name=\"02assign\">Assignment of New Objects</a>\n",
        "---\n",
        "\n",
        "Notice in the code cell above, we replace the original integers in the\n",
        "`category` column with a integers that are now stored as different levels of a categorical variable.\n",
        "\n",
        "-   To store a data structure in the computer’s memory we must assign it a name.\n",
        "    -   In this case, we choose to give the variable the same name, an therefore overwrite the original `category` column.\n",
        "-   <font color=\"dodgerblue\">**Data structures can be stored using the assignment operator `<-`.**</font>\n",
        "\n"
      ],
      "id": "4466b981-700e-4b53-a16a-11f7193ee84b"
    },
    {
      "cell_type": "markdown",
      "source": [
        "# <a name=\"02tables\">Frequency and Relative Frequency Tables</a>\n",
        "---\n",
        "\n",
        "-   `table(x)` creates a frequency table for categorical variable `x`.\n",
        "-   `table(x, y)` creates a two-way (or contingency) table for two categorical variables `x` and `y`\n",
        "-   `prop.table([table])` creates a relative frequency table relative to the grand total.\n",
        "    -   The input of `prop.table()` must be a table.\n",
        "    -   `prop.table([table], 1)` creates a relative frequency table relative to total in each row.\n",
        "    -   `prop.table([table], 2)` creates a relative frequency table relative to total in each column.\n"
      ],
      "metadata": {
        "id": "iQVDJG-49exi"
      },
      "id": "iQVDJG-49exi"
    },
    {
      "cell_type": "markdown",
      "source": [
        "## <a name=\"02q3\">Question 3</a>\n",
        "---\n",
        "\n",
        "<font color=\"dodgerblue\">a.</font>  Which month over the period from 1975-2022 had the greatest number of **subtropical** storms? Which table did you use to help answer your question?\n",
        "\n",
        "<br>\n",
        "\n",
        "<font color=\"dodgerblue\">b.</font>  Which month over the period from 1975-2022 had the greatest proportion of **subtropical** storms? Which table did you use to help answer your question?\n",
        "\n",
        "<br>\n",
        "\n",
        "**Run each of the four code cells below, and after interpreting the\n",
        "output of each, answer the questions in the space below.**"
      ],
      "metadata": {
        "id": "EplBUxxW9gYi"
      },
      "id": "EplBUxxW9gYi"
    },
    {
      "cell_type": "code",
      "source": [
        "my.table <- table(storms$category)\n",
        "prop.table(my.table)"
      ],
      "metadata": {
        "colab": {
          "base_uri": "https://localhost:8080/",
          "height": 72
        },
        "id": "k-DDk4ySJ9QX",
        "outputId": "7b593dd7-8816-47b0-929a-9fb31ad75ce9"
      },
      "id": "k-DDk4ySJ9QX",
      "execution_count": null,
      "outputs": [
        {
          "output_type": "display_data",
          "data": {
            "text/plain": [
              "\n",
              "         1          2          3          4          5 \n",
              "0.53050177 0.20674578 0.12346450 0.11513637 0.02415157 "
            ]
          },
          "metadata": {}
        }
      ]
    },
    {
      "cell_type": "code",
      "execution_count": null,
      "metadata": {
        "id": "fc31b07b-8d37-460e-9f25-0bb272338bc4",
        "colab": {
          "base_uri": "https://localhost:8080/",
          "height": 458
        },
        "outputId": "e3f6613c-dc66-4f2a-c5ef-6778d54bc5a2"
      },
      "outputs": [
        {
          "output_type": "display_data",
          "data": {
            "text/plain": [
              "    \n",
              "     disturbance extratropical hurricane other low subtropical depression\n",
              "  1            0            29         5         5                      0\n",
              "  4            0            40         0         0                      4\n",
              "  5            0            18         0        49                      5\n",
              "  6           35           130        18        84                     35\n",
              "  7           46           135       221       181                     11\n",
              "  8           25           275      1038       319                     36\n",
              "  9           41           800      2464       473                     34\n",
              "  10          16           527       803       226                     22\n",
              "  11           8           183       221        85                      4\n",
              "  12           0            14        33        31                      0\n",
              "    \n",
              "     subtropical storm tropical depression tropical storm tropical wave\n",
              "  1                  6                   2             23             0\n",
              "  4                  3                   1             18             0\n",
              "  5                 20                  49             60             0\n",
              "  6                 12                 213            282             0\n",
              "  7                  6                 399            645             7\n",
              "  8                 23                 975           1696            55\n",
              "  9                 72                1331           2522            41\n",
              "  10                66                 429           1049             0\n",
              "  11                48                 149            464             8\n",
              "  12                42                  21             71             0"
            ]
          },
          "metadata": {}
        }
      ],
      "source": [
        "my.table <- table(storms$month, storms$status)  # gives counts\n",
        "my.table"
      ],
      "id": "fc31b07b-8d37-460e-9f25-0bb272338bc4"
    },
    {
      "cell_type": "code",
      "execution_count": null,
      "metadata": {
        "id": "08e42e4e-5567-4535-be56-7a5ef7bad343",
        "colab": {
          "base_uri": "https://localhost:8080/",
          "height": 434
        },
        "outputId": "0a9621c0-ae3f-408d-cac3-d2f2c69d2cf2"
      },
      "outputs": [
        {
          "output_type": "display_data",
          "data": {
            "text/plain": [
              "    \n",
              "     disturbance extratropical hurricane other low subtropical depression\n",
              "  1       0.0000        0.0015    0.0003    0.0003                 0.0000\n",
              "  4       0.0000        0.0020    0.0000    0.0000                 0.0002\n",
              "  5       0.0000        0.0009    0.0000    0.0025                 0.0003\n",
              "  6       0.0018        0.0067    0.0009    0.0043                 0.0018\n",
              "  7       0.0024        0.0069    0.0113    0.0093                 0.0006\n",
              "  8       0.0013        0.0141    0.0531    0.0163                 0.0018\n",
              "  9       0.0021        0.0409    0.1261    0.0242                 0.0017\n",
              "  10      0.0008        0.0270    0.0411    0.0116                 0.0011\n",
              "  11      0.0004        0.0094    0.0113    0.0044                 0.0002\n",
              "  12      0.0000        0.0007    0.0017    0.0016                 0.0000\n",
              "    \n",
              "     subtropical storm tropical depression tropical storm tropical wave\n",
              "  1             0.0003              0.0001         0.0012        0.0000\n",
              "  4             0.0002              0.0001         0.0009        0.0000\n",
              "  5             0.0010              0.0025         0.0031        0.0000\n",
              "  6             0.0006              0.0109         0.0144        0.0000\n",
              "  7             0.0003              0.0204         0.0330        0.0004\n",
              "  8             0.0012              0.0499         0.0868        0.0028\n",
              "  9             0.0037              0.0681         0.1291        0.0021\n",
              "  10            0.0034              0.0220         0.0537        0.0000\n",
              "  11            0.0025              0.0076         0.0237        0.0004\n",
              "  12            0.0021              0.0011         0.0036        0.0000"
            ]
          },
          "metadata": {}
        }
      ],
      "source": [
        "prop.grand <- prop.table(my.table)  # gives proportions relative to grand total\n",
        "round(prop.grand, 4)"
      ],
      "id": "08e42e4e-5567-4535-be56-7a5ef7bad343"
    },
    {
      "cell_type": "code",
      "execution_count": null,
      "metadata": {
        "id": "1673bd10-f798-4cd7-9977-50df96f26d40",
        "colab": {
          "base_uri": "https://localhost:8080/",
          "height": 434
        },
        "outputId": "d001cfcc-d877-45b5-81f2-2416e3066cc3"
      },
      "outputs": [
        {
          "output_type": "display_data",
          "data": {
            "text/plain": [
              "    \n",
              "     disturbance extratropical hurricane other low subtropical depression\n",
              "  1       0.0000        0.4143    0.0714    0.0714                 0.0000\n",
              "  4       0.0000        0.6061    0.0000    0.0000                 0.0606\n",
              "  5       0.0000        0.0896    0.0000    0.2438                 0.0249\n",
              "  6       0.0433        0.1607    0.0222    0.1038                 0.0433\n",
              "  7       0.0279        0.0818    0.1339    0.1096                 0.0067\n",
              "  8       0.0056        0.0619    0.2337    0.0718                 0.0081\n",
              "  9       0.0053        0.1029    0.3168    0.0608                 0.0044\n",
              "  10      0.0051        0.1679    0.2559    0.0720                 0.0070\n",
              "  11      0.0068        0.1564    0.1889    0.0726                 0.0034\n",
              "  12      0.0000        0.0660    0.1557    0.1462                 0.0000\n",
              "    \n",
              "     subtropical storm tropical depression tropical storm tropical wave\n",
              "  1             0.0857              0.0286         0.3286        0.0000\n",
              "  4             0.0455              0.0152         0.2727        0.0000\n",
              "  5             0.0995              0.2438         0.2985        0.0000\n",
              "  6             0.0148              0.2633         0.3486        0.0000\n",
              "  7             0.0036              0.2417         0.3907        0.0042\n",
              "  8             0.0052              0.2195         0.3818        0.0124\n",
              "  9             0.0093              0.1711         0.3242        0.0053\n",
              "  10            0.0210              0.1367         0.3343        0.0000\n",
              "  11            0.0410              0.1274         0.3966        0.0068\n",
              "  12            0.1981              0.0991         0.3349        0.0000"
            ]
          },
          "metadata": {}
        }
      ],
      "source": [
        "prop.row <- prop.table(my.table, 1)  # gives proportions relative to row totals\n",
        "round(prop.row, 4)"
      ],
      "id": "1673bd10-f798-4cd7-9977-50df96f26d40"
    },
    {
      "cell_type": "code",
      "execution_count": null,
      "metadata": {
        "id": "3ed55574-c56e-4990-8901-dbc91a1ce1f6",
        "colab": {
          "base_uri": "https://localhost:8080/",
          "height": 434
        },
        "outputId": "75176156-5874-433a-cb06-ced44d106273"
      },
      "outputs": [
        {
          "output_type": "display_data",
          "data": {
            "text/plain": [
              "    \n",
              "     disturbance extratropical hurricane other low subtropical depression\n",
              "  1       0.0000        0.0135    0.0010    0.0034                 0.0000\n",
              "  4       0.0000        0.0186    0.0000    0.0000                 0.0265\n",
              "  5       0.0000        0.0084    0.0000    0.0337                 0.0331\n",
              "  6       0.2047        0.0604    0.0037    0.0578                 0.2318\n",
              "  7       0.2690        0.0628    0.0460    0.1246                 0.0728\n",
              "  8       0.1462        0.1278    0.2161    0.2195                 0.2384\n",
              "  9       0.2398        0.3719    0.5130    0.3255                 0.2252\n",
              "  10      0.0936        0.2450    0.1672    0.1555                 0.1457\n",
              "  11      0.0468        0.0851    0.0460    0.0585                 0.0265\n",
              "  12      0.0000        0.0065    0.0069    0.0213                 0.0000\n",
              "    \n",
              "     subtropical storm tropical depression tropical storm tropical wave\n",
              "  1             0.0201              0.0006         0.0034        0.0000\n",
              "  4             0.0101              0.0003         0.0026        0.0000\n",
              "  5             0.0671              0.0137         0.0088        0.0000\n",
              "  6             0.0403              0.0597         0.0413        0.0000\n",
              "  7             0.0201              0.1118         0.0944        0.0631\n",
              "  8             0.0772              0.2732         0.2483        0.4955\n",
              "  9             0.2416              0.3729         0.3693        0.3694\n",
              "  10            0.2215              0.1202         0.1536        0.0000\n",
              "  11            0.1611              0.0417         0.0679        0.0721\n",
              "  12            0.1409              0.0059         0.0104        0.0000"
            ]
          },
          "metadata": {}
        }
      ],
      "source": [
        "prop.col <- prop.table(my.table, 2)  # gives proportions relative to column totals\n",
        "round(prop.col, 4)"
      ],
      "id": "3ed55574-c56e-4990-8901-dbc91a1ce1f6"
    },
    {
      "cell_type": "markdown",
      "metadata": {
        "id": "bb69ad00-1542-4dfd-bfaa-ad6942739924"
      },
      "source": [
        "### <a name=\"02q3\">Solution to Question 3</a>\n",
        "---\n",
        "\n",
        "a. From the output of the first code cell, looking down the **subtropical storm** column, we see the greatest number occurs in September (month 9).\n",
        "  \n",
        "<br>\n",
        "\n",
        "b. From the output of the third code cell, `prop.table(my.table, 1)`, we see that 19.81% of all storm observations in December were subtropical storms. That is larger than any other month's proportion.\n",
        "\n",
        "Careful when interpreting the output from `prop.table(my.table, 1)` and `prop.table(my.table, 2)`. The largest value in the subtropical storm column is $0.2416$ which tells us out of all subtropical storms, 24.16% occurred in September.\n",
        "\n",
        "- From the output of `prop.table(my.table, 2)`, we see the largest percentage (24.16%) of subtropical storms occur in September.\n",
        "- From the output of `prop.table(my.table, 1)`, we see of all storms in December, 19.81% were subtropical storms which is larger than any other month's proportion of subtropical storms.\n",
        "\n",
        "<br>  \n",
        "<br>  \n",
        "  \n",
        "\n"
      ],
      "id": "bb69ad00-1542-4dfd-bfaa-ad6942739924"
    },
    {
      "cell_type": "markdown",
      "source": [
        "# <a name=\"02visual\">Visualizing Categorical Data</a>\n",
        "---\n",
        "\n",
        "There are many different ways we can great visualizations to gain insight into our data and search for possible patterns and relations between different variables.\n",
        "\n",
        "-   **For one categorical variable:** Bar charts (or bar plots) and pie charts are commonly used.\n",
        "-   **For two categorical variables:** Grouped and stacked bar charts are commonly used.\n",
        "\n"
      ],
      "metadata": {
        "id": "KNzVbhHl-El8"
      },
      "id": "KNzVbhHl-El8"
    },
    {
      "cell_type": "markdown",
      "source": [
        "## <a name=\"02plot\">Creating Bar Charts with `plot()`</a>\n",
        "---\n",
        "\n",
        "-   The `plot()` function is the most broadly used function for plotting different data types.\n",
        "-   The type of plot generated by `plot()` depends on the data type(s) and the number of variable(s) we input.\n",
        "    -   If we input one categorical variable that is stored as `factor`, we get a bar chart.\n",
        "    -   If we input one quantitative variable, the plot is typically not very useful.\n",
        "    -   If a categorical variable is stored incorrectly as quantitative, we do not get an appropriate plot.\n",
        "-   If we use `plot()` to display a categorical variable, the variable must be stored as a factor!\n",
        "    -   Recall we converted `category` to a `factor` in a previous code cell.\n",
        "    -   The variable `month` is a quantitative variable."
      ],
      "metadata": {
        "id": "YNPWpxU7-Fwp"
      },
      "id": "YNPWpxU7-Fwp"
    },
    {
      "cell_type": "code",
      "execution_count": null,
      "metadata": {
        "id": "aa8d537c-1932-4515-a86c-0a35e49c1a3e",
        "colab": {
          "base_uri": "https://localhost:8080/",
          "height": 437
        },
        "outputId": "f4652742-7d71-4dc5-aebf-e8aaf8174276"
      },
      "outputs": [
        {
          "output_type": "display_data",
          "data": {
            "text/plain": [
              "Plot with title “Not Number of Storms in Month”"
            ],
            "image/png": "[encoded data removed]"
          },
          "metadata": {
            "image/png": {
              "width": 420,
              "height": 420
            }
          }
        }
      ],
      "source": [
        "# plots appear in an array with 1 row and 2 columns\n",
        "par(mfrow = c(1, 2))  # create an array of plots\n",
        "\n",
        "plot(storms$category,  # categorical data\n",
        "     main = \"Hurricanes by Category\",  # main title\n",
        "     xlab = \"Hurricane Category\",  # horizontal axis label\n",
        "     ylab = \"Frequency\",  # vertical axis label\n",
        "     col = \"steelblue\")  # fill color of bars)\n",
        "\n",
        "plot(storms$month,  # quantitative data\n",
        "     main = \"Not Number of Storms in Month\",  # main title\n",
        "     xlab = \"Index (Row of Observation)\",  # horizontal axis label\n",
        "     ylab = \"Month\")  # vertical axis label"
      ],
      "id": "aa8d537c-1932-4515-a86c-0a35e49c1a3e"
    },
    {
      "cell_type": "markdown",
      "metadata": {
        "id": "a45ed021-08ed-45cb-824d-f8e059a92006"
      },
      "source": [
        "## <a name=\"02barplot\">Creating Bar Charts and Pie Charts from a Table</a>\n",
        "---\n",
        "\n",
        "If we want to keep `month` stored as an integer, but would like to create a visualization to display the number of storms that occurred in each month, we can:\n",
        "\n",
        "1.  First use the `table()` function to count how many storms occurred in each month.\n",
        "2.  Then create a bar chart using the `barplot()` function or pie chart using `pie()`."
      ],
      "id": "a45ed021-08ed-45cb-824d-f8e059a92006"
    },
    {
      "cell_type": "code",
      "execution_count": null,
      "metadata": {
        "id": "50099145-4d71-4e96-8c16-2b48ce94bc05",
        "colab": {
          "base_uri": "https://localhost:8080/",
          "height": 437
        },
        "outputId": "88d9eb9b-ceb7-4789-9896-94810650fc68"
      },
      "outputs": [
        {
          "output_type": "display_data",
          "data": {
            "text/plain": [
              "Plot with title “Hurricanes by Category”"
            ],
            "image/png": "[encoded data removed]"
          },
          "metadata": {
            "image/png": {
              "width": 420,
              "height": 420
            }
          }
        }
      ],
      "source": [
        "# plots appear in an array with 1 row and 2 columns\n",
        "par(mfrow = c(1, 2))  # create an array of plots\n",
        "\n",
        "month.table <- table(storms$month)  # create table of month counts\n",
        "category.table <- table(storms$category)  # create table of category counts\n",
        "\n",
        "barplot(month.table,  # input table of month counts\n",
        "        main = \"Storms in Each Month\",  # main title\n",
        "        xlab = \"Month\",  # horizontal axis label\n",
        "        ylab = \"Frequency\",  # vertical axis label\n",
        "        col = \"seagreen\")  # fill color of bars\n",
        "\n",
        "pie(category.table,  # input table of category counts\n",
        "    main = \"Hurricanes by Category\")  # main title"
      ],
      "id": "50099145-4d71-4e96-8c16-2b48ce94bc05"
    },
    {
      "cell_type": "markdown",
      "metadata": {
        "id": "5242c5c3-04d4-4863-8758-5fedb8a6a616"
      },
      "source": [
        "Note, `pie()` and `barplot()` both take tables as inputs. Even if a variable is stored as a `factor`, we need to store the counts in a table first.\n",
        "\n",
        "-   The `category` variable in `storms` is stored as a factor, but the code below still crashes."
      ],
      "id": "5242c5c3-04d4-4863-8758-5fedb8a6a616"
    },
    {
      "cell_type": "code",
      "execution_count": null,
      "metadata": {
        "id": "8fdb85bb-e0f0-4cc0-b9cd-b4cf72cc9acf",
        "colab": {
          "base_uri": "https://localhost:8080/",
          "height": 159
        },
        "outputId": "f3291166-b891-44cf-eb65-a0cdb15366ac"
      },
      "outputs": [
        {
          "output_type": "error",
          "ename": "ERROR",
          "evalue": "Error in pie(storms$category): 'x' values must be positive.\n",
          "traceback": [
            "Error in pie(storms$category): 'x' values must be positive.\nTraceback:\n",
            "1. pie(storms$category)",
            "2. stop(\"'x' values must be positive.\")"
          ]
        }
      ],
      "source": [
        "# see what happens if input is not a table\n",
        "pie(storms$category)"
      ],
      "id": "8fdb85bb-e0f0-4cc0-b9cd-b4cf72cc9acf"
    },
    {
      "cell_type": "markdown",
      "metadata": {
        "id": "e7e45852-3fd5-4ebe-aa27-cd3f7ea110b4"
      },
      "source": [
        "# <a name=\"02two-cat\">Relationship Between Two Categorical Variables</a>\n",
        "---\n",
        "\n",
        "Imagine we would like to compare the number of different category\n",
        "hurricanes that occurred in each month. In this case, we would like to\n",
        "compare two qualitative variables, namely `category` and `month`.\n",
        "\n"
      ],
      "id": "e7e45852-3fd5-4ebe-aa27-cd3f7ea110b4"
    },
    {
      "cell_type": "markdown",
      "source": [
        "## <a name=\"02grouped\">Grouped Frequency Bar Charts</a>\n",
        "---\n",
        "\n",
        "To create a bar chart displaying the number of category hurricanes that occurred in each month:\n",
        "\n",
        "1.  First create a two-way table of counts.\n",
        "  -   The second variable (`month`) is displayed on horizontal axis.\n",
        "  -   We get a separate bar for each level of the first variable (`category`).\n",
        "\n",
        "2.  Input the table into the `barplot()` function.\n",
        "  -   Note the option `beside = TRUE` groups the bars for each month.\n",
        "  -   The default option `beside = FALSE` stacks the bars."
      ],
      "metadata": {
        "id": "CeelEgmX-fOp"
      },
      "id": "CeelEgmX-fOp"
    },
    {
      "cell_type": "code",
      "execution_count": null,
      "metadata": {
        "id": "00208948-6f01-469f-8ed0-b0c7c9807a66"
      },
      "outputs": [],
      "source": [
        "# two-way table of counts of category in each month\n",
        "cat.table <- table(storms$category, storms$month)  # gives counts"
      ],
      "id": "00208948-6f01-469f-8ed0-b0c7c9807a66"
    },
    {
      "cell_type": "code",
      "execution_count": null,
      "metadata": {
        "id": "5d3ef238-e23f-4f79-96a0-74adaa945cea",
        "colab": {
          "base_uri": "https://localhost:8080/",
          "height": 437
        },
        "outputId": "c7fdaed1-f615-47d8-c182-bf4e0cfd4f37"
      },
      "outputs": [
        {
          "output_type": "display_data",
          "data": {
            "text/plain": [
              "Plot with title “Category Hurricanes By Month”"
            ],
            "image/png": "[encoded data removed]"
          },
          "metadata": {
            "image/png": {
              "width": 420,
              "height": 420
            }
          }
        }
      ],
      "source": [
        "# create a vector of colors\n",
        "my.colors <- c(\"green\", \"purple\", \"grey\", \"red\", \"blue\")\n",
        "\n",
        "# create side by side bar chart\n",
        "barplot(cat.table,  # use counts from contingency table\n",
        "        beside = TRUE,  # groups side-by-side\n",
        "        main = \"Category Hurricanes By Month\",  # main title\n",
        "        xlab = \"Month\",  # horizontal axis label\n",
        "        col = my.colors,  # fill color of bars\n",
        "        ylab = \"Frequency\")  # vertical axis label\n",
        "\n",
        "# add a legend to plot\n",
        "legend(x=\"topleft\",  # place legend in top left\n",
        "       legend=rownames(cat.table),  # get labels from row name in contingency table\n",
        "       fill = my.colors)  # use same fill colors"
      ],
      "id": "5d3ef238-e23f-4f79-96a0-74adaa945cea"
    },
    {
      "cell_type": "markdown",
      "metadata": {
        "id": "79b1193c-e431-49c7-93c7-a834b405ee0d"
      },
      "source": [
        "## <a name=\"02stacked\">Stacked Relative Frequency Bar Charts</a>\n",
        "---\n",
        "\n",
        "To create a bar chart displaying the relative frequency (or proportion)\n",
        "of category hurricanes that occurred in each month:\n",
        "\n",
        "1.  First create a two-way table of relative frequencies.\n",
        "  -   Pay attention to whether you want the proportions relative to grand, row, or column totals.\n",
        "\n",
        "2.  Input the table into the `barplot()` function.\n",
        "  -   The default option `beside = FALSE` stacks the bars."
      ],
      "id": "79b1193c-e431-49c7-93c7-a834b405ee0d"
    },
    {
      "cell_type": "code",
      "execution_count": null,
      "metadata": {
        "id": "1b1e21a7-1843-4856-b17c-52298699fa3e"
      },
      "outputs": [],
      "source": [
        "cat.grand <- prop.table(cat.table)  # gives proportions relative to grand total\n",
        "cat.row <- prop.table(cat.table, 1)  # gives proportions relative to row totals\n",
        "cat.col <- prop.table(cat.table, 2)  # gives proportions relative to column totals"
      ],
      "id": "1b1e21a7-1843-4856-b17c-52298699fa3e"
    },
    {
      "cell_type": "code",
      "execution_count": null,
      "metadata": {
        "id": "b214605f-0650-4d2d-8f4a-eeb39b2772ba",
        "colab": {
          "base_uri": "https://localhost:8080/",
          "height": 437
        },
        "outputId": "c63ce89b-c72c-4a07-e16c-8845111267cd"
      },
      "outputs": [
        {
          "output_type": "display_data",
          "data": {
            "text/plain": [
              "Plot with title “Category Hurricanes By Month”"
            ],
            "image/png": "[encoded data removed]"
          },
          "metadata": {
            "image/png": {
              "width": 420,
              "height": 420
            }
          }
        }
      ],
      "source": [
        "# create a vector of colors\n",
        "#my.colors <- c(\"green\", \"purple\", \"grey\", \"red\", \"blue\")\n",
        "\n",
        "par(mfrow = c(1, 3))  # create an array of plots\n",
        "\n",
        "# create stacked bar chart 1\n",
        "barplot(cat.grand,  # use proportions from contingency table\n",
        "        main = \"Category Hurricanes By Month\",  # main title\n",
        "        xlab = \"Month\",  # horizontal axis label\n",
        "        col = my.colors,  # color of bars\n",
        "        ylab = \"Proportion\")  # vertical axis label\n",
        "\n",
        "# add legend to plot\n",
        "legend(x=\"topleft\",  # place legend in top left\n",
        "       legend=rownames(cat.grand),  # get labels\n",
        "       fill = my.colors)  # use same colors\n",
        "\n",
        "##########\n",
        "\n",
        "# create stacked bar chart 2\n",
        "barplot(cat.row,  # use proportions from contingency table\n",
        "        main = \"Category Hurricanes By Month\",  # main title\n",
        "        xlab = \"Month\",  # horizontal axis label\n",
        "        col = my.colors,  # color of bars\n",
        "        ylab = \"Proportion\")  # vertical axis label\n",
        "\n",
        "# add legend to plot\n",
        "legend(x=\"topleft\",  # place legend in top left\n",
        "       legend=rownames(cat.row),  # get labels\n",
        "       fill = my.colors)  # use same colors\n",
        "\n",
        "###########\n",
        "\n",
        "# create stacked bar chart 3\n",
        "barplot(cat.col,  # use proportions from contingency table\n",
        "        main = \"Category Hurricanes By Month\",  # main title\n",
        "        xlab = \"Month\",  # horizontal axis label\n",
        "        col = my.colors,  # color of bars\n",
        "        ylab = \"Proportion\")  # vertical axis label\n",
        "\n",
        "# add legend to plot\n",
        "legend(x=\"topleft\",  # place legend in top left\n",
        "       legend=rownames(cat.col),  # get labels\n",
        "       fill = my.colors)  # use same colors"
      ],
      "id": "b214605f-0650-4d2d-8f4a-eeb39b2772ba"
    },
    {
      "cell_type": "markdown",
      "source": [
        "<font color=\"tomato\">*Note: A proportion greater than 1 in the middle bar chart means, for example, the sum of the all September proportions (one relative to each category total) adds up to $2.8$ since in 4 out of the 5 possible hurricane categories September accounts for over half the total.*</font>"
      ],
      "metadata": {
        "id": "TWp28xh0kV5v"
      },
      "id": "TWp28xh0kV5v"
    },
    {
      "cell_type": "markdown",
      "metadata": {
        "id": "b7ee7409-849a-42b3-a4ea-8509c148d29a"
      },
      "source": [
        "## <a name=\"02q4\">Question 4</a>\n",
        "---\n",
        "\n",
        "Based on the three plots generated in the previous code cell, answer the questions below.\n",
        "\n",
        "<font color=\"dodgerblue\">a.</font>  Which month has the most hurricanes?\n",
        "\n",
        "<font color=\"dodgerblue\">b.</font>  In which month is the proportion of category 1 hurricanes greatest?\n",
        "\n",
        "### <a name=\"02sol4\">Solution to Question 4</a>\n",
        "---\n",
        "\n",
        "\n",
        "a. To answer this question, we can use the first stacked relative frequency bar chart whose proportions are relative to the grand total of all hurricanes observed in `storms`. September (month 9) has the tallest bar, so it has the greatest total number of hurricanes since it's proportion (relative to the total number of hurricanes) is greatest.\n",
        "\n",
        "b. We summarize information from each of the three stacked relative frequency bar charts\n",
        "\n",
        "- In the plot on the left, we see September has the  most category 1 hurricanes, but it also had the most overall hurricanes. Relatively speaking, the bar over July in the left plot has a greater proportion of green (category 1) than September which also has a lot of category 2, 3, 4, and 5 hurricanes.\n",
        "\n",
        "- The proportions in the middle plot are relative to the row, which is the category of the hurricane. Although the bar over September has the most green, this is because September has more hurricanes overall. September has greatest proportion of all category 1 storms since September has the most hurricanes overall.\n",
        "\n",
        "- **The rightmost plot is the most useful since calculating the proportion of category 1 storms relative the number of storms that occur in that month.**\n",
        "  - January, June, and December all have a bar that seems to be entirely green. This means 100% of the hurricanes in each of January, June, and December were category 1 hurricanes.\n",
        "  - In September, roughly 50% of hurricanes where category 1.\n",
        "\n",
        "<br> <br>\n",
        "  \n",
        "  \n",
        "\n"
      ],
      "id": "b7ee7409-849a-42b3-a4ea-8509c148d29a"
    },
    {
      "cell_type": "markdown",
      "source": [
        "## <a name=\"02q5\">Question 5</a>\n",
        "---\n",
        "\n",
        "What are the the differences in the three plots in the output of the\n",
        "previous code cell? Which of the three bar plots above do you believe\n",
        "best visualizes the occurrence of different category hurricanes by\n",
        "month? Which plot do you think is the least useful overall? Explain why.\n",
        "\n",
        "### <a name=\"02sol5\">Solution to Question 5</a>\n",
        "---\n",
        "\n",
        "Since the total number of hurricanes in each month is drastically different, we would want to compare the number category 1 hurricanes relative the total number of hurricanes in each month that is plotted in the rightmost stacked relative frequency bar chart is most useful.\n",
        "\n",
        "The leftmost plot is relative to the grand total of all hurriances in all months. There larger the bar, the more (in terms of absolute counts) observations of that type.\n",
        "\n",
        "The center plot is relative to the total of storms in each category. September has the largest green bar in the center plot. This means out of all category 1 storms, September had the most. However, September had lots of other types of hurricanes. Roughly 50% of all hurricanes in September were category 1 which is actually the smallest proportion out of the months that had hurricanes,\n",
        "\n",
        "<br> <br>"
      ],
      "metadata": {
        "id": "UDOFiiSa_KBH"
      },
      "id": "UDOFiiSa_KBH"
    },
    {
      "cell_type": "markdown",
      "metadata": {
        "id": "a453f72d-3fa7-48b2-b90b-e3ae1e941879"
      },
      "source": [
        "# <a name=\"02gss-intro\">Exploring the General Social Survey Data Set</a>\n",
        "---\n",
        "\n",
        "The data set `gss_cat` can be accessed from the `forcats` package. Below\n",
        "is a quote taken from the website of the [GSS Data Explorer\n",
        "website](https://gssdataexplorer.norc.org/about) maintained by NORC at\n",
        "the University of Chicago\n",
        "\n",
        "> The General Social Survey (GSS) is a project of NORC at the University\n",
        "> of Chicago, with principal funding from the National Science\n",
        "> Foundation. Since 1972, the GSS has been monitoring societal change\n",
        "> and studying the growing complexity of American society.\n",
        "\n",
        "> The GSS is a publicly available national resource, and is one of the\n",
        "> most frequently analyzed sources of information in the social\n",
        "> sciences. GSS Data Explorer is one of many ways that NORC supports the\n",
        "> dissemination of GSS data for use by legislators, policymakers,\n",
        "> researchers, educators and others."
      ],
      "id": "a453f72d-3fa7-48b2-b90b-e3ae1e941879"
    },
    {
      "cell_type": "code",
      "execution_count": null,
      "metadata": {
        "id": "df449420-5ace-4dda-9f4e-1e5f0c76ee42"
      },
      "outputs": [],
      "source": [
        "# load the forcats package\n",
        "library(forcats)"
      ],
      "id": "df449420-5ace-4dda-9f4e-1e5f0c76ee42"
    },
    {
      "cell_type": "code",
      "execution_count": null,
      "metadata": {
        "id": "d50003bd-b15f-4bad-a4de-fc2323a9a3eb"
      },
      "outputs": [],
      "source": [
        "# open help documentation for gss_cat\n",
        "?gss_cat"
      ],
      "id": "d50003bd-b15f-4bad-a4de-fc2323a9a3eb"
    },
    {
      "cell_type": "code",
      "execution_count": null,
      "metadata": {
        "id": "30227b4d-cc96-46d5-9a0b-77a3653a7fb9",
        "colab": {
          "base_uri": "https://localhost:8080/",
          "height": 434
        },
        "outputId": "4d26699e-542b-4efd-8ed0-090d6095f1d9"
      },
      "outputs": [
        {
          "output_type": "display_data",
          "data": {
            "text/plain": [
              "      year               marital           age                    race      \n",
              " Min.   :2000   No answer    :   17   Min.   :18.00   Other         : 1959  \n",
              " 1st Qu.:2002   Never married: 5416   1st Qu.:33.00   Black         : 3129  \n",
              " Median :2006   Separated    :  743   Median :46.00   White         :16395  \n",
              " Mean   :2007   Divorced     : 3383   Mean   :47.18   Not applicable:    0  \n",
              " 3rd Qu.:2010   Widowed      : 1807   3rd Qu.:59.00                         \n",
              " Max.   :2014   Married      :10117   Max.   :89.00                         \n",
              "                                      NA's   :76                            \n",
              "           rincome                   partyid            relig      \n",
              " $25000 or more:7363   Independent       :4119   Protestant:10846  \n",
              " Not applicable:7043   Not str democrat  :3690   Catholic  : 5124  \n",
              " $20000 - 24999:1283   Strong democrat   :3490   None      : 3523  \n",
              " $10000 - 14999:1168   Not str republican:3032   Christian :  689  \n",
              " $15000 - 19999:1048   Ind,near dem      :2499   Jewish    :  388  \n",
              " Refused       : 975   Strong republican :2314   Other     :  224  \n",
              " (Other)       :2603   (Other)           :2339   (Other)   :  689  \n",
              "              denom          tvhours      \n",
              " Not applicable  :10072   Min.   : 0.000  \n",
              " Other           : 2534   1st Qu.: 1.000  \n",
              " No denomination : 1683   Median : 2.000  \n",
              " Southern baptist: 1536   Mean   : 2.981  \n",
              " Baptist-dk which: 1457   3rd Qu.: 4.000  \n",
              " United methodist: 1067   Max.   :24.000  \n",
              " (Other)         : 3134   NA's   :10146   "
            ]
          },
          "metadata": {}
        }
      ],
      "source": [
        "# get numerical summary of variables\n",
        "summary(gss_cat)"
      ],
      "id": "30227b4d-cc96-46d5-9a0b-77a3653a7fb9"
    },
    {
      "cell_type": "markdown",
      "metadata": {
        "id": "3ef8bdfb-c80b-4dc9-991d-12d059541373"
      },
      "source": [
        "## <a name=\"02q6\">Question 6</a>\n",
        "---\n",
        "\n",
        "Create a plot to visualize one categorical variable in the `gss_cat`\n",
        "data set. Based on your plot, comment on any interesting features of the\n",
        "variable you plotted."
      ],
      "id": "3ef8bdfb-c80b-4dc9-991d-12d059541373"
    },
    {
      "cell_type": "code",
      "execution_count": null,
      "metadata": {
        "id": "eaefefce-9bbc-4ed2-ad8a-3ab948595219",
        "colab": {
          "base_uri": "https://localhost:8080/",
          "height": 437
        },
        "outputId": "0a7a3e2f-29d8-4189-ccf9-321d81f18942"
      },
      "outputs": [
        {
          "output_type": "display_data",
          "data": {
            "text/plain": [
              "Plot with title “Distribution of Religions”"
            ],
            "image/png": "[encoded data removed]"
          },
          "metadata": {
            "image/png": {
              "width": 420,
              "height": 420
            }
          }
        }
      ],
      "source": [
        "# create a visualization for one categorical variable\n",
        "plot(gss_cat$relig,\n",
        "     las = 2,  # rotate axis labels\n",
        "     col = \"steelblue1\",\n",
        "     main = \"Distribution of Religions\",  # main title\n",
        "     ylab = \"Frequency\",  # vertical axis label\n",
        "     cex.lab=1.5, cex.axis=1.5, cex.main=1.5)  # increase font size on labels"
      ],
      "id": "eaefefce-9bbc-4ed2-ad8a-3ab948595219"
    },
    {
      "cell_type": "markdown",
      "metadata": {
        "id": "65a19c74-4047-43de-94ef-4c7c1132b074"
      },
      "source": [
        "### <a name=\"02sol6\">Solution to Question 6</a>\n",
        "---\n",
        "\n",
        "- The most common religion is Protestant followed by Catholic and no religion.\n",
        "\n",
        "- Grouping Protestant, Catholic, Christian, and Orthodox-Christian together, we see the vast majority of people identify with some denomination of Christianity.\n",
        "\n",
        "\n",
        "<br> <br>\n",
        "  \n",
        "\n"
      ],
      "id": "65a19c74-4047-43de-94ef-4c7c1132b074"
    },
    {
      "cell_type": "markdown",
      "source": [
        "## <a name=\"02q7\">Question 7\n",
        "---\n",
        "\n",
        "Create a plot to visualize the relationship between two categorical\n",
        "variables in the `gss_cat` data set. Based on your plot, comment on any\n",
        "interesting features or relations between two the variables you plotted."
      ],
      "metadata": {
        "id": "5v-XQ4e6_xWa"
      },
      "id": "5v-XQ4e6_xWa"
    },
    {
      "cell_type": "code",
      "execution_count": null,
      "metadata": {
        "id": "09cf175e-67ee-4258-b0fe-7a891fc42d53",
        "colab": {
          "base_uri": "https://localhost:8080/",
          "height": 437
        },
        "outputId": "90f41bde-3316-428d-c3f8-ca211e1ea032"
      },
      "outputs": [
        {
          "output_type": "display_data",
          "data": {
            "text/plain": [
              "Plot with title “Relation of Marital Status and Politics”"
            ],
            "image/png": "[encoded data removed]"
          },
          "metadata": {
            "image/png": {
              "width": 420,
              "height": 420
            }
          }
        }
      ],
      "source": [
        "# create a visualization to illustrate the relation\n",
        "# between two categorical variables\n",
        "par(mar=c(8,6,4,1)+.1)  # adjust margins\n",
        "\n",
        "gss.table <- table(gss_cat$marital, gss_cat$partyid)  # gives counts\n",
        "gss.row <- prop.table(gss.table, 2)  # gives proportions relative to partyid totals\n",
        "\n",
        "my.colors <- c(\"blue\", \"green\", \"yellow\", \"gray\", \"red\", \"cyan\")\n",
        "\n",
        "\n",
        "# create stacked bar chart\n",
        "barplot(gss.row,  # use proportions from contingency table\n",
        "        main = \"Relation of Marital Status and Politics\",  # main title\n",
        "        col = my.colors,  # color of bars\n",
        "        las = 2,  # rotate axis labels\n",
        "        ylab = \"Relative Frequency\")  # vertical axis label\n",
        "\n",
        "# add legend to plot\n",
        "legend(x=\"topleft\",  # place legend in top left\n",
        "       legend=rownames(gss.table),  # get labels\n",
        "       fill = my.colors)  # use same colors"
      ],
      "id": "09cf175e-67ee-4258-b0fe-7a891fc42d53"
    },
    {
      "cell_type": "markdown",
      "metadata": {
        "id": "6be1f03d-f64a-4801-8327-dbe4fafe960c"
      },
      "source": [
        "### <a name=\"02sol7\">Solution to Question 7</a>\n",
        "---\n",
        "\n",
        "- Roughly 100% of the people who responded they are unsure (don't know) of their political affiliation are married.\n",
        "\n",
        "- The three Republican catgories have a larger proportion of cyan coloring compared to the three categories of Democrats.\n",
        "  - The more strongly a person associates as a Republican, the higher the likelihood they are married.\n",
        "- The three Democrat categories have less cyan (compared to Republican bars) and a larger proportion of green. This means Democrats are a little more likely to be single than Republicans.\n",
        "\n",
        "<br> <br>\n",
        "  \n",
        "\n"
      ],
      "id": "6be1f03d-f64a-4801-8327-dbe4fafe960c"
    },
    {
      "cell_type": "markdown",
      "source": [
        "# <a name=\"CC License\">Creative Commons License Information</a>\n",
        "---\n",
        "\n",
        "![Creative Commons\n",
        "License](https://i.creativecommons.org/l/by-nc-sa/4.0/88x31.png)\n",
        "\n",
        "*Statistical Methods: Exploring the Uncertain* by [Adam\n",
        "Spiegler (University of Colorado Denver)](https://github.com/CU-Denver-MathStats-OER/Statistical-Theory)\n",
        "is licensed under a [Creative Commons\n",
        "Attribution-NonCommercial-ShareAlike 4.0 International\n",
        "License](http://creativecommons.org/licenses/by-nc-sa/4.0/). This work is funded by an [Institutional OER Grant from the Colorado Department of Higher Education (CDHE)](https://cdhe.colorado.gov/educators/administration/institutional-groups/open-educational-resources-in-colorado).\n",
        "\n",
        "For similar interactive OER materials in other courses funded by this project in the Department of Mathematical and Statistical Sciences at the University of Colorado Denver, visit <https://github.com/CU-Denver-MathStats-OER>."
      ],
      "metadata": {
        "id": "J2JfQPEE_lon"
      },
      "id": "J2JfQPEE_lon"
    },
    {
      "cell_type": "code",
      "source": [],
      "metadata": {
        "id": "lJdcnmhb_sv1"
      },
      "id": "lJdcnmhb_sv1",
      "execution_count": null,
      "outputs": []
    }
  ],
  "nbformat": 4,
  "nbformat_minor": 5,
  "metadata": {
    "kernelspec": {
      "name": "ir",
      "display_name": "R",
      "language": "R"
    },
    "colab": {
      "provenance": [],
      "include_colab_link": true
    }
  }
}