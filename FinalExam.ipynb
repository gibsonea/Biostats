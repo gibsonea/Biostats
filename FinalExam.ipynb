{
  "nbformat": 4,
  "nbformat_minor": 0,
  "metadata": {
    "colab": {
      "provenance": [],
      "authorship_tag": "ABX9TyNtIn8Ns0H4wxGkeQrUBNTo",
      "include_colab_link": true
    },
    "kernelspec": {
      "name": "ir",
      "display_name": "R"
    },
    "language_info": {
      "name": "R"
    }
  },
  "cells": [
    {
      "cell_type": "markdown",
      "metadata": {
        "id": "view-in-github",
        "colab_type": "text"
      },
      "source": [
        "<a href=\"https://colab.research.google.com/github/gibsonea/Biostats/blob/main/FinalExam.ipynb\" target=\"_parent\"><img src=\"https://colab.research.google.com/assets/colab-badge.svg\" alt=\"Open In Colab\"/></a>"
      ]
    },
    {
      "cell_type": "markdown",
      "source": [
        "# <a name=\"Exam1intro\">Final Exam: Computer Portion</a>\n",
        "---\n",
        "\n",
        "This portion of the final is open note/internet.  After you are done, upload your file in canvas.  Good luck!!"
      ],
      "metadata": {
        "id": "mbkf1aN5gJaS"
      }
    },
    {
      "cell_type": "markdown",
      "source": [
        "## <a name=\"Exam2\">Question 1</a>\n",
        "\n",
        "---\n",
        "\n",
        "Researchers are working on developing non-invasive methods to characterize the elastic properties of the pulmonary artery towards a better diagnosis of pulmonary hypertension. A new non-invasive diagnostic test to estimate main pulmonary artery vascular elastic modulus from pressure-diameter (PD) data is studied using an animal model. Two groups are tested, healthy (control) and hypoxic mice. Determine if the mean values of PD are different between the two groups.\n",
        "\n",
        "\n",
        "\n"
      ],
      "metadata": {
        "id": "tTa6OEeSqF6h"
      }
    },
    {
      "cell_type": "code",
      "source": [
        "#load in the dataset for Question 1\n",
        "\n",
        "hyper <- read.csv(\"https://raw.githubusercontent.com/gibsonea/Biostats/main/Datasets/Hypertension.csv\")\n",
        "str(hyper) #displays the variable names and types"
      ],
      "metadata": {
        "id": "z6XT4subA5TK"
      },
      "execution_count": null,
      "outputs": []
    },
    {
      "cell_type": "markdown",
      "source": [
        "### <a name=\"Q1a\">Question 1a</a>\n",
        "\n",
        "---\n",
        "\n",
        "Perform your analysis and report the p-value.  What do you conclude?\n",
        "\n",
        "\n",
        "<br>\n",
        "\n",
        "#### <a name=\"01sol\">Solution to 1a</a>\n",
        "\n",
        "---\n",
        "\n",
        "<br>\n",
        "<br>  \n"
      ],
      "metadata": {
        "id": "PZWr9pdO_0HT"
      }
    },
    {
      "cell_type": "code",
      "source": [
        "# code for 1a\n"
      ],
      "metadata": {
        "id": "i7j3TCkUjUvu"
      },
      "execution_count": null,
      "outputs": []
    },
    {
      "cell_type": "markdown",
      "source": [
        "### <a name=\"Q1b\">Question 1b</a>\n",
        "\n",
        "---\n",
        "\n",
        "What is the power of the test?  Would you need to test more mice and if so, how many?\n",
        "\n",
        "\n",
        "<br>\n",
        "\n",
        "#### <a name=\"01bsol\">Solution to 1b</a>\n",
        "\n",
        "---\n",
        "\n",
        "<br>\n",
        "<br>  \n"
      ],
      "metadata": {
        "id": "UpuC-VTmAXfE"
      }
    },
    {
      "cell_type": "code",
      "source": [
        "# code for 1b"
      ],
      "metadata": {
        "id": "ABAWsl33Al_2"
      },
      "execution_count": null,
      "outputs": []
    },
    {
      "cell_type": "markdown",
      "source": [
        "## <a name=\"Exam2\">Question 2</a>\n",
        "\n",
        "---\n",
        "\n",
        "The Organization for Economic Co-operation and Development (www.oecd.org) collects economic data from different countries. The dataset downloaded from their website includes the poverty rate (ratio of people that fall below the poverty line), income inequality (ratio of the 90th percentile over the median income), and percentage of women in parliament. You wish to determine whether poverty is dependent on the other factors (income inequality, women in parliament).\n",
        "\n",
        "<br>\n"
      ],
      "metadata": {
        "id": "gRcaApZAKUXQ"
      }
    },
    {
      "cell_type": "code",
      "source": [
        "#load the dataset for Question 2\n",
        "\n",
        "econ <- read.csv(\"https://raw.githubusercontent.com/gibsonea/Biostats/main/Datasets/Economic.csv\")\n",
        "str(econ) #displays the variable names and types"
      ],
      "metadata": {
        "id": "BQ7i_TFdDwcY"
      },
      "execution_count": null,
      "outputs": []
    },
    {
      "cell_type": "markdown",
      "source": [
        "### <a name=\"Q2a\">Question 2a</a>\n",
        "\n",
        "---\n",
        "\n",
        "What statistical test can you use to answer this question?\n",
        "\n",
        "\n",
        "<br>\n",
        "\n",
        "#### <a name=\"02sola\">Solution to 2a</a>\n",
        "\n",
        "---\n",
        "\n",
        "<br>\n",
        "<br>  \n"
      ],
      "metadata": {
        "id": "ZwrB7VFeDXnR"
      }
    },
    {
      "cell_type": "markdown",
      "source": [
        "### <a name=\"Q2b\">Question 2b</a>\n",
        "\n",
        "---\n",
        "\n",
        "Perform the test and report your results (i.e. p-values) and conclusions.\n",
        "\n",
        "\n",
        "<br>\n",
        "\n",
        "#### <a name=\"02solb\">Solution to 2b</a>\n",
        "\n",
        "---\n",
        "\n",
        "<br>\n",
        "<br>  \n"
      ],
      "metadata": {
        "id": "AjFSwsDzDf3m"
      }
    },
    {
      "cell_type": "code",
      "source": [
        "# code for 2b\n"
      ],
      "metadata": {
        "id": "ycclyJjhM7_-"
      },
      "execution_count": null,
      "outputs": []
    }
  ]
}