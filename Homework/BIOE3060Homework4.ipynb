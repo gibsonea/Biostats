{
  "nbformat": 4,
  "nbformat_minor": 0,
  "metadata": {
    "colab": {
      "provenance": [],
      "include_colab_link": true
    },
    "kernelspec": {
      "name": "ir",
      "display_name": "R"
    },
    "language_info": {
      "name": "R"
    }
  },
  "cells": [
    {
      "cell_type": "markdown",
      "metadata": {
        "id": "view-in-github",
        "colab_type": "text"
      },
      "source": [
        "<a href=\"https://colab.research.google.com/github/gibsonea/Biostats/blob/main/Homework/BIOE3060Homework4.ipynb\" target=\"_parent\"><img src=\"https://colab.research.google.com/assets/colab-badge.svg\" alt=\"Open In Colab\"/></a>"
      ]
    },
    {
      "cell_type": "markdown",
      "source": [
        "# Homework 4\n",
        "\n",
        "---"
      ],
      "metadata": {
        "id": "TLH2NCL-V8J_"
      }
    },
    {
      "cell_type": "markdown",
      "source": [
        "## <a name=\"HW1Inst\">Instructions:</a>\n",
        "---\n",
        "\n",
        "1. <font color=\"tomato\">Either click the COPY TO DRIVE button or use the menu File/Save/Save a Copy to save your own version of the notebook in your own folder in Google Drive.</font>\n",
        "\n",
        "  - If you do not have a Google account, you will need to create a Google account in order to create your own individual copy of this notebook.\n",
        "  - By default, the notebook will be saved in a folder named **Colab Notebooks** in your drive.\n",
        "  - Feel free to name and store the notebook wherever you like!\n",
        "\n",
        "2. <font color=\"mediumseagreen\">After you have copied the notebook into your Drive, you can begin editing and saving your work.</font>\n",
        "\n",
        "**Upload your completed assignment into Canvas as a Google Colab (or Jupyter) Notebook with file extension `.ipynb`.**\n",
        "\n",
        "\n",
        "**You must provide supporting work for your all of your answers.**\n",
        "\n",
        "\n",
        "\n",
        "  - <font color=\"dodgerblue\">That work will include using R code cells.</font>\n",
        "    - **Feel free to insert as much R code as you like.**\n",
        "    - You must interpret or explain how the output of a code cell is being utilized to solve the problem.\n",
        "    - **Code with incomplete or missing explanations of why the output is useful may not receive full credit.**\n",
        "  - <font color=\"dodgerblue\">Your work will also involve writing explanations and justifications in text cells.</font>\n",
        "    - **Be sure to type/write out the steps of your work/explanation so I can see how you arrived at your answer.**\n",
        "  - For any problems that involve typing mathematical expressions:</font>\n",
        "    - **You can type supporting math equations and notation with LaTeX in text cells.**\n",
        "    - The LaTeX used in the Colab notebooks we cover in class provides great examples.\n",
        "    - Here's a helpful [LaTeX math symbol gallery](https://artofproblemsolving.com/wiki/index.php/LaTeX:Symbols).\n",
        "    - **Learning LaTeX is super useful and might even be enjoyable!**\n",
        "  - For any problems that involve typing mathematical expressions, if you prefer to not type answers with LaTeX, you can write your solutions instead.</font>\n",
        "    - I get it, you are busy and doing it by hand might be more efficient? Maybe not? You get to decide!\n",
        "    - If you submit written work, be sure you provide clear and complete solutions.\n",
        "    - **I'm happy to get well written solutions in any form!**\n",
        "\n",
        "\n",
        "## Important Academic Policies:\n",
        "---\n",
        "\n",
        "- **Be your own work.** Though you may collaborate with others, everyone is responsible for writing up the work in their own way using their own methods. Plagiarism of any form is not tolerated.\n",
        "- **Be complete.** You must provide all work and/or explanations needed to find the solution. Answers with insufficient or incomplete supporting work may lose credit.\n",
        "- **Adhere to the Code of Academic Honesty.**\n",
        "- **Be clearly written (and legible if written).** Your solution to a problem must be clear, written in complete sentences. You may lose credit for work that is unclear or hard to follow.\n",
        "\n",
        "## <font color=\"dodgerblue\">Let me know if you need help, and **GOOD LUCK!!!**</font>\n",
        "\n",
        "----"
      ],
      "metadata": {
        "id": "HBtDTIXU_i9z"
      }
    },
    {
      "cell_type": "markdown",
      "source": [
        "# <a name=\"Q1\">Question 1</a>\n",
        "\n",
        "---\n",
        "\n",
        "The plasma cholesterol level (mg/dL) for patients with no prior evidence of heart disease who experience chest pain is normally distributed with mean 200 and standard deviation 35.\n",
        "Consider randomly selecting an individual of this type.\n",
        "\n",
        "\n",
        "<br>"
      ],
      "metadata": {
        "id": "81XXDazgoS01"
      }
    },
    {
      "cell_type": "markdown",
      "source": [
        "## <a name=\"Q1a\">Question 1a</a>\n",
        "\n",
        "---\n",
        "\n",
        "What is the $z$-score of a plasma cholesterol level that is 120 mg/dL?\n",
        "\n",
        "### Solution to Question 1a\n",
        "\n",
        "---\n",
        "\n",
        "Be sure to provide an explanation and/or supporting work to justify how you found your answer, and then **interpret the practical meaning of your answer.** You may use the R code cell below for supporting work.\n",
        "\n",
        "\n",
        "<br>  \n",
        "<br>  \n",
        "<br>\n",
        "\n",
        "**Interpret the practical meaning of the value:**\n",
        "\n",
        "<br>  \n",
        "<br>  \n",
        "<br>  \n",
        "\n",
        "\n"
      ],
      "metadata": {
        "id": "sL663yHr2M4L"
      }
    },
    {
      "cell_type": "code",
      "source": [
        "# optional code cell for supporting work to question 1a\n"
      ],
      "metadata": {
        "id": "7vXTkhFV2hJE"
      },
      "execution_count": null,
      "outputs": []
    },
    {
      "cell_type": "markdown",
      "source": [
        "## <a name=\"Q1b\">Question 1b</a>\n",
        "\n",
        "---\n",
        "\n",
        "If the $z$-score of a person's plasma cholesterol level is $2.3$, then what is their plasma cholesterol level (in mg/dL)?\n",
        "\n",
        "<br>\n",
        "\n",
        "### Solution to Question 1b\n",
        "\n",
        "---\n",
        "\n",
        "Be sure to provide an explanation and/or supporting work to justify how you found your answer. You may use the R code cell below for supporting work.\n",
        "\n",
        "\n",
        "<br>  \n",
        "<br>  \n",
        "<br>\n",
        "\n"
      ],
      "metadata": {
        "id": "xHld_qlH2KIq"
      }
    },
    {
      "cell_type": "code",
      "source": [
        "# optional code cell for supporting work to question 1b\n"
      ],
      "metadata": {
        "id": "nIFQTWMC2bQZ"
      },
      "execution_count": null,
      "outputs": []
    },
    {
      "cell_type": "markdown",
      "source": [
        "Blah\n",
        "\n"
      ],
      "metadata": {
        "id": "cjzdHRoq7pSN"
      }
    },
    {
      "cell_type": "markdown",
      "source": [
        "## <a name=\"Q1c\">Question 1c</a>\n",
        "\n",
        "---\n",
        "\n",
        "What is the probability that the plasma cholesterol level is at most 120 mg/dL?\n",
        "\n",
        "<br>\n",
        "\n",
        "### Solution to Question 1c\n",
        "\n",
        "---\n",
        "\n",
        "Be sure to provide an explanation and/or supporting work (which may be R code entered in the code cell below) to justify how you found your answer.\n",
        "\n",
        "\n",
        "<br>  \n",
        "<br>  \n",
        "<br>\n",
        "\n"
      ],
      "metadata": {
        "id": "si3Ghm0V2IGq"
      }
    },
    {
      "cell_type": "code",
      "source": [
        "# code cell for supporting work to question 1c\n"
      ],
      "metadata": {
        "id": "uH6Pi1jhsb92"
      },
      "execution_count": null,
      "outputs": []
    },
    {
      "cell_type": "markdown",
      "source": [
        "## <a name=\"Q1d\">Question 1d</a>\n",
        "\n",
        "---\n",
        "\n",
        "What is the probability that the plasma cholesterol level is between 250 and 350 mg/dL?\n",
        "\n",
        "<br>\n",
        "\n",
        "### Solution to Question 1d\n",
        "\n",
        "---\n",
        "\n",
        "Be sure to provide an explanation and/or supporting work (which may be R code entered in the code cell below) to justify how you found your answer.\n",
        "\n",
        "\n",
        "<br>  \n",
        "<br>  \n",
        "<br>\n",
        "\n",
        "\n"
      ],
      "metadata": {
        "id": "J6CmgKxosau9"
      }
    },
    {
      "cell_type": "code",
      "source": [
        "# code cell for supporting work to question 1d\n"
      ],
      "metadata": {
        "id": "-0mq3KWFsx_K"
      },
      "execution_count": null,
      "outputs": []
    },
    {
      "cell_type": "markdown",
      "source": [
        "## <a name=\"Q1e\">Question 1e</a>\n",
        "\n",
        "---\n",
        "\n",
        "What is the probability that the plasma cholesterol level differs from the mean by at least $1.5$ standard deviations (cholesterol level is either above or below the mean by $1.5$ standard deviations)?\n",
        "\n",
        "\n",
        "<br>\n",
        "\n",
        "### Solution to Question 1e\n",
        "\n",
        "---\n",
        "\n",
        "Be sure to provide an explanation and/or supporting work (which may be R code entered in the code cell below) to justify how you found your answer.\n",
        "\n",
        "\n",
        "<br>  \n",
        "<br>  \n",
        "<br>\n",
        "\n",
        "\n"
      ],
      "metadata": {
        "id": "Q46erCBssowy"
      }
    },
    {
      "cell_type": "code",
      "source": [
        "# code cell for supporting work to question 1e\n"
      ],
      "metadata": {
        "id": "bKHB1vwXsynJ"
      },
      "execution_count": null,
      "outputs": []
    },
    {
      "cell_type": "markdown",
      "source": [
        "# <a name=\"Q2\">Question 2</a>\n",
        "\n",
        "---\n",
        "\n",
        "In studies of anticancer drugs it was found that if mice are injected with cancer cells, the survival time can be modeled with the exponential distribution. Without treatment the expected survival time was 9 hours.\n",
        "\n",
        "<br>\n",
        "\n"
      ],
      "metadata": {
        "id": "dVXwtyQtsmsF"
      }
    },
    {
      "cell_type": "markdown",
      "source": [
        "## <a name=\"Q2a\">Question 2a</a>\n",
        "\n",
        "---\n",
        "\n",
        "What is the probability that a randomly selected mouse in this study will survive at least 7 hours without receiving any cancer treatment?\n",
        "\n",
        "<br>\n",
        "\n",
        "### Solution to Question 2a\n",
        "\n",
        "---\n",
        "\n",
        "Be sure to provide an explanation and/or supporting work (which may involve some calculus or R code entered in the code cell below) to justify how you found your answer.\n",
        "\n",
        "\n",
        "<br>  \n",
        "<br>  \n",
        "<br>\n",
        "\n",
        "\n"
      ],
      "metadata": {
        "id": "bb-D0yyF38OM"
      }
    },
    {
      "cell_type": "code",
      "source": [
        "# optional code cell for supporting work to question 2a\n"
      ],
      "metadata": {
        "id": "dKen7b2p3_VE"
      },
      "execution_count": null,
      "outputs": []
    },
    {
      "cell_type": "markdown",
      "source": [
        "## <a name=\"Q2b\">Question 2b</a>\n",
        "\n",
        "---\n",
        "\n",
        "What is the probability that a randomly selected mouse in this study will survive at most 11 hours without receiving any cancer treatment?\n",
        "\n",
        "<br>\n",
        "\n",
        "### Solution to Question 2b\n",
        "\n",
        "---\n",
        "\n",
        "Be sure to provide an explanation and/or supporting work (which may involve some calculus or R code entered in the code cell below) to justify how you found your answer.\n",
        "\n",
        "\n",
        "<br>  \n",
        "<br>  \n",
        "<br>\n",
        "\n",
        "\n",
        "\n"
      ],
      "metadata": {
        "id": "5xQXkeN835nv"
      }
    },
    {
      "cell_type": "code",
      "source": [
        "# optional code cell for supporting work to question 2b\n"
      ],
      "metadata": {
        "id": "vRXqm9QC4V5r"
      },
      "execution_count": null,
      "outputs": []
    },
    {
      "cell_type": "markdown",
      "source": [
        "## <a name=\"Q2c\">Question 2c</a>\n",
        "\n",
        "---\n",
        "\n",
        "What is the probability that a randomly selected mouse will survive between 8 and 12 hours without receiving any cancer treatment?\n",
        "\n",
        "<br>\n",
        "\n",
        "### Solution to Question 2c\n",
        "\n",
        "---\n",
        "\n",
        "Be sure to provide an explanation and/or supporting work (which may involve some calculus or R code entered in the code cell below) to justify how you found your answer.\n",
        "\n",
        "\n",
        "<br>  \n",
        "<br>  \n",
        "<br>\n",
        "\n",
        "\n",
        "\n"
      ],
      "metadata": {
        "id": "nXTQ18XR34Ul"
      }
    },
    {
      "cell_type": "code",
      "source": [
        "# optional code cell for supporting work to question 2c\n"
      ],
      "metadata": {
        "id": "2nMvZCcy4BBj"
      },
      "execution_count": null,
      "outputs": []
    },
    {
      "cell_type": "markdown",
      "source": [
        "## <a name=\"Q2d\">Question 2d</a>\n",
        "\n",
        "---\n",
        "\n",
        "Find the values of $E(X)$ and $\\mbox{Var}(X)$.\n",
        "\n",
        "<br>\n",
        "\n",
        "\n",
        "### Solution to Question 2d\n",
        "\n",
        "---\n",
        "\n",
        "Be sure to provide an explanation and/or supporting work to justify how you found your answer. You are welcome to apply\"shortcut\" formulas from the formula sheet for common distributions when justifying your answers as long as you show/explain how you used those formulas to find your answers.\n",
        "\n",
        "\n",
        "<br>  \n",
        "<br>  \n",
        "<br>\n",
        "\n",
        "\n"
      ],
      "metadata": {
        "id": "xuptZFlY32tX"
      }
    },
    {
      "cell_type": "code",
      "source": [
        "# optional code cell for supporting work to question 2d\n"
      ],
      "metadata": {
        "id": "HimH5Vru4hwC"
      },
      "execution_count": null,
      "outputs": []
    },
    {
      "cell_type": "markdown",
      "source": [
        "## <a name=\"Q2e\">Question 2e</a>\n",
        "\n",
        "---\n",
        "\n",
        "Using the value of $\\sigma = \\mbox{SD}(X)= \\sqrt{\\mbox{Var}(X)}$ from the previous part, what is the probability that the survival time of an untreated mouse exceeds the mean survival time by more than 2 standard deviations?\n",
        "\n",
        "\n",
        "<br>  \n",
        "\n",
        "### Solution to Question 2e\n",
        "\n",
        "---\n",
        "\n",
        "Be sure to provide an explanation and/or supporting work (which may involve some calculus or R code entered in the code cell below) to justify how you found your answer.\n",
        "\n",
        "\n",
        "<br>  \n",
        "<br>  \n",
        "<br>\n",
        "\n"
      ],
      "metadata": {
        "id": "_OPu3IsS31Ow"
      }
    },
    {
      "cell_type": "code",
      "source": [
        "# optional code cell for supporting work to question 2e\n"
      ],
      "metadata": {
        "id": "IUzKgGJH4kEs"
      },
      "execution_count": null,
      "outputs": []
    },
    {
      "cell_type": "markdown",
      "source": [
        "# <a name=\"Q3\">Question 3</a>\n",
        "\n",
        "---\n",
        "\n",
        "You will load in the dataset VALID in the code cell below. The dataset includes data taken on food consumption that is either from a diet record (DR) or assessed using a questionnaire, the food-frequency questionnaire (FFQ).  We will take a look at two of the variables:\n",
        "\n",
        "1. Diet record for calories (cal_dr)\n",
        "2. Diet record for alcohol consumption (alco_dr).\n",
        "\n",
        "\n",
        "a.     Compute the observed proportion of women who fall within 1.0, 1.5, 2.0, and 2.5 standard deviations of the mean.  Compare these with the expected proportions based on a normal distribution – show this in table format with the columns being (cal_dr, alco_dr, and normal dist).\n",
        "b.     Show a histogram and quartile-quartile plot for each of these two data sets.\n",
        "c.      Comment on whether a normal distribution is appropriate to describe either of these two data sets.\n",
        " for alcohol consumption (alco_dr)."
      ],
      "metadata": {
        "id": "cM23Db75ttsx"
      }
    },
    {
      "cell_type": "code",
      "source": [
        "#load VALID dataset\n",
        "valid <- read.csv(\"https://raw.githubusercontent.com/gibsonea/Biostats/main/Datasets/VALID.csv\")\n",
        "str(valid)"
      ],
      "metadata": {
        "colab": {
          "base_uri": "https://localhost:8080/"
        },
        "id": "o87ubkftufat",
        "outputId": "5f1ed228-7172-488b-be60-6d711a397285"
      },
      "execution_count": 6,
      "outputs": [
        {
          "output_type": "stream",
          "name": "stdout",
          "text": [
            "'data.frame':\t173 obs. of  9 variables:\n",
            " $ Id      : int  100396 100566 107633 107737 107744 107813 107825 107879 108618 109000 ...\n",
            " $ sfat_dr : num  33.2 17.7 38.7 21.6 21.4 ...\n",
            " $ sfat_ffq: num  21.2 10.6 23.8 22.7 30.4 15.1 17.8 19.1 23.4 16 ...\n",
            " $ tfat_dr : num  81.2 53.3 83.5 49.6 55.2 ...\n",
            " $ tfat_ffq: num  53.8 36.6 47.2 55.3 71 41.1 49.1 48.9 55.4 44.2 ...\n",
            " $ alco_dr : num  8.26 0.83 20.13 11.16 7.18 ...\n",
            " $ alco_ffq: num  1.68 0 15.1 7.49 12.84 ...\n",
            " $ cal_dr  : int  1807 1418 1889 1426 1253 1699 1700 1369 2163 1609 ...\n",
            " $ cal_ffq : num  1242 907 786 1392 1260 ...\n"
          ]
        }
      ]
    },
    {
      "cell_type": "markdown",
      "source": [
        "## <a name=\"Q3a\">Question 3a</a>\n",
        "\n",
        "---\n",
        "\n",
        "\n",
        "Compute the observed proportion of women who fall within 1.0, 1.5, 2.0, and 2.5 standard deviations of the mean.  Compare these with the expected proportions based on a normal distribution.  Show this in table format with the columns being (Calories, Alcohol, and Normal Distribution).\n",
        "\n",
        "<br>  \n",
        "\n",
        "### Solution to Question 3a\n",
        "\n",
        "---\n",
        "\n",
        "Be sure to provide an explanation and/or supporting work which may use the R code entered in the code cell below to justify how you found your answer.\n",
        "\n",
        "\n",
        "<br>  \n",
        "\n",
        "Proportions Table:\n",
        "\n",
        "|    Within (x) Std    | Calories | Alcohol | Normal |\n",
        "|--------|-----------------|---------------------------|-------|\n",
        "| 1.0 | ??              | ??                        | ??    |\n",
        "| 1.5 | ??              | ??                        | ??    |\n",
        "| 2.0 | ??              | ??                        | ??    |\n",
        "| 2.5 | ??              | ??                        | ??    |\n",
        "\n",
        "<br>  \n",
        "<br>\n"
      ],
      "metadata": {
        "id": "jQ66mVWouiE9"
      }
    },
    {
      "cell_type": "code",
      "source": [
        "#code cell to calculate proportions within 1.0, 1.5, 2.0, and 2.5 standard deviations\n"
      ],
      "metadata": {
        "id": "yQT2cmonu-2t"
      },
      "execution_count": null,
      "outputs": []
    },
    {
      "cell_type": "markdown",
      "source": [
        "## <a name=\"Q3b\">Question 3b</a>\n",
        "\n",
        "---\n",
        "\n",
        "\n",
        "Show the shape of the distribution of the two parameters using a histogram and a quartile-quartile plot (qq-plot).  Comment on whether a normal distribution is appropriate to describe either of these two parameters.\n",
        "\n",
        "<br>  \n",
        "\n",
        "### Solution to Question 3b\n",
        "\n",
        "---\n",
        "\n",
        "Be sure to provide an explanation and plots using the R code entered in the code cell below to justify how you found your answer."
      ],
      "metadata": {
        "id": "NN383uyCwgJF"
      }
    },
    {
      "cell_type": "code",
      "source": [
        "#code cell to run histogram and qq-plots"
      ],
      "metadata": {
        "id": "RqmR5qHwxONx"
      },
      "execution_count": null,
      "outputs": []
    },
    {
      "cell_type": "markdown",
      "source": [
        "# <a name=\"Q4\">Question 4</a>\n",
        "\n",
        "---\n",
        "\n",
        "You will load in the dataset Hospital in the code cell below. The dataset includes data taken 25 random patients who are admitted to a typical US hospital.\n",
        "\n",
        "\n",
        "|    Variable   | Description |\n",
        "|--------|-----------------|\n",
        "| Id | Patient ID No.   |\n",
        "| Dur_stay | Duration of hospital stay       |     \n",
        "| Age | Age    |\n",
        "| Sex | 1=male/2=female   |\n",
        "| Temp | First temperature following admission    |\n",
        "| WBC |   First WBC(x1000) following admission  |\n",
        "| Antibio | Received antibiotic 1=yes/2=no   |\n",
        "| Bact_cul | Received bacterial culture 1=yes/2=no    |\n",
        "| Service | Service 1=med/2=surg.    |\n",
        "\n"
      ],
      "metadata": {
        "id": "wSm1_sNuxgGv"
      }
    },
    {
      "cell_type": "code",
      "source": [
        "#load in Hospital dataset\n",
        "hospital <- read.csv(\"https://raw.githubusercontent.com/gibsonea/Biostats/main/Datasets/Hospital.csv\")"
      ],
      "metadata": {
        "id": "mXRKI-KhyHXs"
      },
      "execution_count": 1,
      "outputs": []
    },
    {
      "cell_type": "code",
      "source": [
        "str(hospital)"
      ],
      "metadata": {
        "colab": {
          "base_uri": "https://localhost:8080/"
        },
        "id": "4KoJ87O04HYZ",
        "outputId": "7f8f8841-6721-4cc9-8d81-6258940c506e"
      },
      "execution_count": 3,
      "outputs": [
        {
          "output_type": "stream",
          "name": "stdout",
          "text": [
            "'data.frame':\t25 obs. of  9 variables:\n",
            " $ Id      : int  1 2 3 4 5 6 7 8 9 10 ...\n",
            " $ Dur_stay: int  5 10 6 11 5 14 30 11 17 3 ...\n",
            " $ Age     : int  30 73 40 47 25 82 60 56 43 50 ...\n",
            " $ Sex     : int  2 2 2 2 2 1 1 2 2 1 ...\n",
            " $ Temp    : num  99 98 99 98.2 98.5 96.8 99.5 98.6 98 98 ...\n",
            " $ WBC     : int  8 5 12 4 11 6 8 7 7 12 ...\n",
            " $ Antibio : int  2 2 2 2 2 1 1 2 2 2 ...\n",
            " $ Bact_cul: int  2 1 2 2 2 2 1 2 2 1 ...\n",
            " $ Service : int  1 1 2 2 2 2 1 1 1 2 ...\n"
          ]
        }
      ]
    },
    {
      "cell_type": "markdown",
      "source": [
        "## <a name=\"Q4a\">Question 4a</a>\n",
        "\n",
        "---\n",
        "\n",
        "\n",
        "Compute a 95% confidence interval for the mean age of admitted patients from this sample.\n",
        "\n",
        "<br>  \n",
        "\n",
        "### Solution to Question 4a\n",
        "\n",
        "---\n",
        "\n",
        "Write an explanation for your answer here and use the code cell below for any calculations.\n"
      ],
      "metadata": {
        "id": "7OZA4XLTyMk7"
      }
    },
    {
      "cell_type": "code",
      "source": [
        "#code cell for calculating 95% CI"
      ],
      "metadata": {
        "id": "r_6y3z-9yfHE"
      },
      "execution_count": null,
      "outputs": []
    },
    {
      "cell_type": "markdown",
      "source": [
        "## <a name=\"Q4b\">Question 4b</a>\n",
        "\n",
        "---\n",
        "\n",
        "\n",
        "Compute a 95% confidence interval for the mean white blood cell count following admission.\n",
        "\n",
        "<br>  \n",
        "\n",
        "### Solution to Question 4b\n",
        "\n",
        "---\n",
        "\n",
        "Write an explanation for your answer here and use the code cell below for any calculations.\n"
      ],
      "metadata": {
        "id": "5yCOFdFeyizY"
      }
    },
    {
      "cell_type": "code",
      "source": [
        "# code cell"
      ],
      "metadata": {
        "id": "gUrvYImcy9E4"
      },
      "execution_count": null,
      "outputs": []
    },
    {
      "cell_type": "markdown",
      "source": [
        "## <a name=\"Q4c\">Question 4c</a>\n",
        "\n",
        "---\n",
        "\n",
        "\n",
        "Compute a **90%** confidence interval for the mean white blood cell count following admission.\n",
        "\n",
        "<br>  \n",
        "\n",
        "### Solution to Question 4c\n",
        "\n",
        "---\n",
        "\n",
        "Write an explanation for your answer here and use the code cell below for any calculations.\n"
      ],
      "metadata": {
        "id": "ETE00VGuzDJK"
      }
    },
    {
      "cell_type": "code",
      "source": [
        "#code cell"
      ],
      "metadata": {
        "id": "G7e42uW6zVF9"
      },
      "execution_count": null,
      "outputs": []
    },
    {
      "cell_type": "markdown",
      "source": [
        "## <a name=\"Q4d\">Question 4d</a>\n",
        "\n",
        "---\n",
        "\n",
        "\n",
        "What is the best point estimate and 95% Confidence Interval of the percentage of males among patients admitted?\n",
        "\n",
        "<br>  \n",
        "\n",
        "### Solution to Question 4d\n",
        "\n",
        "---\n",
        "\n",
        "Write an explanation for your answer here and use the code cell below for any calculations.\n"
      ],
      "metadata": {
        "id": "QoLwKJpWzbGv"
      }
    },
    {
      "cell_type": "code",
      "source": [
        "#code cell"
      ],
      "metadata": {
        "id": "pcUNblD6z76u"
      },
      "execution_count": null,
      "outputs": []
    },
    {
      "cell_type": "code",
      "source": [],
      "metadata": {
        "id": "sXP7Xdr4yxUw"
      },
      "execution_count": null,
      "outputs": []
    }
  ]
}