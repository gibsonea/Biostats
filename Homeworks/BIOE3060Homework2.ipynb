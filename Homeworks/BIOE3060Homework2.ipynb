{
  "nbformat": 4,
  "nbformat_minor": 0,
  "metadata": {
    "colab": {
      "provenance": [],
      "toc_visible": true,
      "include_colab_link": true
    },
    "kernelspec": {
      "name": "ir",
      "display_name": "R"
    },
    "language_info": {
      "name": "R"
    }
  },
  "cells": [
    {
      "cell_type": "markdown",
      "metadata": {
        "id": "view-in-github",
        "colab_type": "text"
      },
      "source": [
        "<a href=\"https://colab.research.google.com/github/gibsonea/Biostats/blob/main/Homeworks/BIOE3060Homework2.ipynb\" target=\"_parent\"><img src=\"https://colab.research.google.com/assets/colab-badge.svg\" alt=\"Open In Colab\"/></a>"
      ]
    },
    {
      "cell_type": "markdown",
      "source": [
        "# Homework 2\n",
        "\n",
        "---"
      ],
      "metadata": {
        "id": "TLH2NCL-V8J_"
      }
    },
    {
      "cell_type": "markdown",
      "source": [
        "## <a name=\"HW1Inst\">Instructions:</a>\n",
        "---\n",
        "\n",
        "1. <font color=\"tomato\">Either click the COPY TO DRIVE button or use the menu File/Save/Save a Copy to save your own version of the notebook in your own folder in Google Drive.</font>\n",
        "\n",
        "  - If you do not have a Google account, you will need to create a Google account in order to create your own individual copy of this notebook.\n",
        "  - By default, the notebook will be saved in a folder named **Colab Notebooks** in your drive.\n",
        "  - Feel free to name and store the notebook wherever you like!\n",
        "\n",
        "2. <font color=\"mediumseagreen\">After you have copied the notebook into your Drive, you can begin editing and saving your work.</font>\n",
        "\n",
        "**Upload your completed assignment into Canvas as a Google Colab (or Jupyter) Notebook with file extension `.ipynb`.**\n",
        "\n",
        "Upload your file into the Homework 2 assignment in Canvas.\n",
        "\n",
        "**You must provide supporting work for your all of your answers.**\n",
        "\n",
        "  - <font color=\"dodgerblue\">That work will include using R code cells.</font>\n",
        "    - **Feel free to insert as much R code as you like.**\n",
        "    - You must interpret or explain how the output of a code cell is being utilized to solve the problem.\n",
        "    - **Code with incomplete or missing explanations of why the output is useful may not receive full credit.**\n",
        "  - <font color=\"dodgerblue\">Your work will also involve writing explanations and justifications in text cells.</font>\n",
        "    - **Be sure to type/write out the steps of your work/explanation so I can see how you arrived at your answer.**\n",
        "\n",
        "\n",
        "## Important Academic Policies:\n",
        "---\n",
        "\n",
        "- **Be your own work.** Though you may collaborate with others, everyone is responsible for writing up the work in their own way using their own methods. Plagiarism of any form is not tolerated.\n",
        "- **Be complete.** You must provide all work and/or explanations needed to find the solution. Answers with insufficient or incomplete supporting work may lose credit.\n",
        "- **Adhere to the Code of Academic Honesty.**\n",
        "- **Be clearly written (and legible if written).** Your solution to a problem must be clear, written in complete sentences. You may lose credit for work that is unclear or hard to follow.\n",
        "\n",
        "## <font color=\"dodgerblue\">Let me know if you need help, and **GOOD LUCK!!!**</font>\n",
        "\n",
        "----"
      ],
      "metadata": {
        "id": "gr9nGY7MSp23"
      }
    },
    {
      "cell_type": "markdown",
      "source": [
        "\n",
        "# <a name=\"HW3Q2\">Question 1</a>\n",
        "\n",
        "---\n",
        "\n",
        "Suppose an influenza epidemic strikes a city.  In 10% of families, the mother has influenza; in 10% of families, the father has influenza; and in 2% of families, both the mother and father have influenza.  Answer the following questions.\n",
        "\n",
        "<br>\n",
        "\n",
        "(i)\tAre the events A = {mother has influenza} and B = {father has influenza} independent?\n",
        "\n",
        "- Show this using probability calculations and provide an explanation for your answer.\n",
        "\n",
        "(ii) What is the conditional probability that the father has influenza given that the mother has influenza?\n",
        "\n",
        "(iii)\tWhat is the conditional probability that the father has influenza given that the mother does NOT have influenza?\n",
        "\n",
        "<br>  \n",
        "\n",
        "### Solution to Question 1\n",
        "\n",
        "---\n",
        "Type your answers in the space below.  You can use the code cell below for any calculations.\n",
        "\n",
        "<br>  \n",
        "(i)\n",
        "\n",
        "\n",
        "(ii)\n",
        "\n",
        "\n",
        "(iii)\n",
        "\n",
        "\n",
        "\n",
        "\n",
        "<br>\n"
      ],
      "metadata": {
        "id": "dYNTFAYQ_Eso"
      }
    },
    {
      "cell_type": "code",
      "source": [
        "# code to support answers above"
      ],
      "metadata": {
        "id": "o-y577DCUWvd"
      },
      "execution_count": null,
      "outputs": []
    },
    {
      "cell_type": "markdown",
      "source": [
        "\n",
        "# <a name=\"HW3Q2\">Question 2</a>\n",
        "\n",
        "---\n",
        "\n",
        "The R package `MASS` contains a data set `birthwt` with data from a study on various risk factors associated with low infant birth weights. The `birthwt` data set contains a sample of 189 pregnancies at Baystate Medical Center in Springfield, Massachusetts. In this question, you will consider whether there is any relation between smoking during pregnancy and infant birth weight. The variables we will analyze are:\n",
        "\n",
        "- The smoking status of the pregnant parent.\n",
        "  - `smoke` 0 means non-smoker.\n",
        "  - `smoke` 1 means smoker.\n",
        "- Whether the infant has a low birth weight (less than 2.5 kg).\n",
        "  - `low` 0 means not a low birth weight.\n",
        "  - `low` 1 means did have low birth weight.\n",
        "\n",
        "\n",
        "\n"
      ],
      "metadata": {
        "id": "kes30v1XRdTZ"
      }
    },
    {
      "cell_type": "markdown",
      "source": [
        "\n",
        "# <a name=\"HW3Q2\">Question 2</a>\n",
        "\n",
        "---\n",
        "\n",
        "The R package `MASS` contains a data set `birthwt` with data from a study on various risk factors associated with low infant birth weights. The `birthwt` data set contains a sample of 189 pregnancies at Baystate Medical Center in Springfield, Massachusetts. In this question, you will consider whether there is any relation between smoking during pregnancy and infant birth weight. The variables we will analyze are:\n",
        "\n",
        "- The smoking status of the pregnant parent.\n",
        "  - `smoke` 0 means non-smoker.\n",
        "  - `smoke` 1 means smoker.\n",
        "- Whether the infant has a low birth weight (less than 2.5 kg).\n",
        "  - `low` 0 means not a low birth weight.\n",
        "  - `low` 1 means did have low birth weight.\n",
        "\n",
        "\n",
        "\n"
      ],
      "metadata": {
        "id": "5iqQQLaRRZ9Y"
      }
    },
    {
      "cell_type": "markdown",
      "source": [
        "## <a name=\"HW3Q2a\">Question 2a</a>\n",
        "\n",
        "---\n",
        "\n",
        "The code cell below loads the `MASS` package, extracts data from `birthwt` that is cleaned and stored in a new data frame called `risk`.\n",
        "\n",
        "- **Add comments after each line of code after the # symbol to describe the command.**\n",
        "- Then run the code cell without editing the code further.\n",
        "- The output is stored to `risk` (not printed to screen).\n",
        "\n",
        "\n",
        "<br>  \n",
        "\n",
        "### Solution to Question 2a\n",
        "\n",
        "---\n",
        "\n",
        "<br>  \n",
        "\n",
        "Add comments in the code cell and run.\n",
        "\n",
        "<br>  "
      ],
      "metadata": {
        "id": "DZGedW5VXV1o"
      }
    },
    {
      "cell_type": "code",
      "source": [
        "library(MASS)  # load MASS package\n",
        "risk <- subset(birthwt, select = c(low, smoke))  # extract only low and smoke variables\n",
        "\n",
        "# Enter comments for the rest of lines of code\n",
        "risk$low[risk$low == \"0\"]  <- \"Not low\"  #\n",
        "risk$low[risk$low == \"1\"]  <- \"Low\"  #\n",
        "risk$smoke[risk$smoke == \"0\"]  <- \"Non-smoker\"  #\n",
        "risk$smoke[risk$smoke == \"1\"]  <- \"Smoker\"  #\n",
        "\n",
        "risk$low <- factor(risk$low)  #\n",
        "risk$smoke <- factor(risk$smoke)  #"
      ],
      "metadata": {
        "id": "z0-emP07IaU6"
      },
      "execution_count": null,
      "outputs": []
    },
    {
      "cell_type": "markdown",
      "source": [
        "\n",
        "## <a name=\"HW3Q2b\">Question 2b</a>\n",
        "\n",
        "---\n",
        "\n",
        "\n",
        "Run the code cell below. Based on the output from the  `summary` command, answer the following questions:\n",
        "\n",
        "- How many total observations are in the data set `risk`?\n",
        "- In how many pregnancies did the parent smoke?\n",
        "- In how many pregnancies did the infant have a low birth weight (below 2.5 kg)?\n",
        "\n",
        "\n",
        "<br>  \n",
        "\n"
      ],
      "metadata": {
        "id": "3Hd-ItHmMKkz"
      }
    },
    {
      "cell_type": "code",
      "source": [
        "summary(risk)  # numerical summary for resulting data set"
      ],
      "metadata": {
        "id": "CMfwW1eYJUxn"
      },
      "execution_count": null,
      "outputs": []
    },
    {
      "cell_type": "markdown",
      "source": [
        "### Solution to Question 2b\n",
        "\n",
        "---\n",
        "\n",
        "<br>  \n",
        "\n",
        "- Total number of observations: ??\n",
        "\n",
        "- Total number of smokers: ??\n",
        "\n",
        "- Total number of low birth weights: ??\n",
        "\n",
        "<br>  \n",
        "<br>  "
      ],
      "metadata": {
        "id": "r6FUwSMeVVbt"
      }
    },
    {
      "cell_type": "markdown",
      "source": [
        "\n",
        "## <a name=\"HW3Q2c\">Question 2c</a>\n",
        "\n",
        "---\n",
        "\n",
        "Consider the following notation:\n",
        "\n",
        "- Let $L$ denote the event a randomly selected infant from the study has a low birth weight (less than 2.5 kg).\n",
        "- Let $L'$ denote the event a randomly selected infant in the study does not have low birth weight.\n",
        "\n",
        "- Let $S$ denote the event a randomly selected infant from the study had a parent that smoked during pregnancy.\n",
        "- Let $S'$ denote the event a randomly selected infant from the study had a parent that did not smoke during pregnancy.\n",
        "\n",
        "If we randomly select an infant from the sample stored in `risk`, calculate and interpret the practical meaning of:\n",
        "\n",
        "(i) $P(L)$\n",
        "\n",
        "(ii) $P(S)$\n",
        "\n",
        "(iii) $P(S \\cup L)$\n",
        "\n",
        "(iv) $P(S \\cap L)$\n",
        "\n",
        "\n",
        "<br>  \n",
        "\n",
        "### Solution to Question 2c\n",
        "\n",
        "---\n",
        "\n",
        "\n",
        "You will need to use either or both the `table` and/or `prop.table` function(s) in R to answer this question. **Provide supporting code for your answers in the code cell below.**\n",
        "\n",
        "<br>\n",
        "\n",
        "Type your answers in the space below. **For each proportion, be sure you write a one sentence interpretation of the practical meaning of the value.**\n",
        "\n",
        "<br>\n",
        "\n",
        "(i) $P(L) = ??$\n",
        "\n",
        "Interpretation (i):\n",
        "\n",
        "\n",
        "<br>  \n",
        "\n",
        "(ii) $P(S) = ??$\n",
        "\n",
        "Interpretation (ii):\n",
        "\n",
        "\n",
        "<br>  \n",
        "\n",
        "(iii) $P(S \\cup L) = ??$\n",
        "\n",
        "Interpretation (iii):\n",
        "\n",
        "\n",
        "<br>  \n",
        "\n",
        "(iv) $P(S \\cap L) = ??$\n",
        "\n",
        "Interpretation (iv):\n",
        "\n",
        "\n",
        "<br>  \n",
        "<br>  \n",
        "\n"
      ],
      "metadata": {
        "id": "SpFNGkjF_txZ"
      }
    },
    {
      "cell_type": "code",
      "source": [
        "# code to support answers above\n"
      ],
      "metadata": {
        "id": "uu1B1bLUR0M0"
      },
      "execution_count": null,
      "outputs": []
    },
    {
      "cell_type": "markdown",
      "source": [
        "\n",
        "# <a name=\"HW3Q2d\">Question 2d</a>\n",
        "\n",
        "---\n",
        "\n",
        "Given the infant had a low birth weight, what is the probability the infant had a parent that smoked during their pregnancy?\n",
        "\n",
        "\n",
        "### Solution to Question 2d\n",
        "\n",
        "---\n",
        "\n",
        "<br>\n",
        "\n",
        "You will need to use either or both the `table` and/or `prop.table` function(s) in R to answer this question.\n",
        "\n",
        "- **Provide supporting code for your answer in the code cell below.**\n",
        "- Express your answer using probability notation by completing the equation provided below.\n",
        "\n",
        "\n",
        "$$P( ?? | ?? ) = ?? $$\n",
        "\n",
        "\n",
        "<br>  \n",
        "<br>  \n",
        "\n"
      ],
      "metadata": {
        "id": "9O3_G8Tr_zG5"
      }
    },
    {
      "cell_type": "code",
      "source": [
        "# code to support answer above\n"
      ],
      "metadata": {
        "id": "7kzGvVAwS3Wq"
      },
      "execution_count": null,
      "outputs": []
    },
    {
      "cell_type": "markdown",
      "source": [
        "## <a name=\"HW3Q2e\">Question 2e</a>\n",
        "\n",
        "---\n",
        "\n",
        "Given a parent smoked during their pregnancy, what is the probability that their infant was low birth weight?\n",
        "\n",
        "\n",
        "\n",
        "### Solution to Question 2e\n",
        "\n",
        "---\n",
        "\n",
        "<br>\n",
        "\n",
        "You will need to use either or both the `table` and/or `prop.table` function(s) in R to answer this question.\n",
        "\n",
        "- **Provide supporting code for your answer in the code cell below.**\n",
        "- Express your answer using probability notation by completing the equation provided below.\n",
        "\n",
        "\n",
        "$$P( ?? | ?? ) = ?? $$\n",
        "\n",
        "\n",
        "<br>  \n",
        "<br>  \n",
        "\n"
      ],
      "metadata": {
        "id": "857-LdCvS9z1"
      }
    },
    {
      "cell_type": "code",
      "source": [
        "# code to support answer above\n"
      ],
      "metadata": {
        "id": "ky4fsNgSS90K"
      },
      "execution_count": null,
      "outputs": []
    },
    {
      "cell_type": "markdown",
      "source": [
        "## <a name=\"HW3Q2f\">Question 2f</a>\n",
        "\n",
        "---\n",
        "\n",
        "What is one additional, relevant conditional probability we can compare with the probability from [Question 2e](#HW3Q2e) to help determine whether there is an increased risk in a low birth weight if a parent smokes during pregnancy?\n",
        "\n",
        "<br>\n",
        "\n",
        "### Solution to Question 2f\n",
        "\n",
        "---\n",
        "\n",
        "<br>\n",
        "\n",
        "\n",
        "State the value of a relevant conditional probability to compare with [Question 2e](#HW3Q2e) using the probability notation provided below.\n",
        "\n",
        "$$P( ?? | ?? ) = ?? $$\n",
        "\n",
        "\n",
        "<br>  \n",
        "<br>  \n",
        "\n",
        "Based on the comparison of the probability you stated above and the probability you computed in [Question 2e](#HW3Q2e), do you believe this study supports the claim that smoking during pregnancy increases the risk of having an infant with a low birth weight? **Explain how you determined your answer.**\n",
        "\n",
        "\n",
        "\n",
        "<br>  \n",
        "<br>  \n",
        "<br>  \n"
      ],
      "metadata": {
        "id": "gczyVZ-YTVmW"
      }
    },
    {
      "cell_type": "code",
      "source": [
        "# if needed use additional code to support answer above\n"
      ],
      "metadata": {
        "id": "HF0X-l7iTVmh"
      },
      "execution_count": null,
      "outputs": []
    },
    {
      "cell_type": "markdown",
      "source": [
        "\n",
        "## <a name=\"HW3Q2g\">Question 2g</a>\n",
        "\n",
        "---\n",
        "\n",
        "Create one stacked bar chart to clearly display the conditional probabilities you compared in [Question 2f](#HW3Q2f).\n",
        "\n",
        "<br>  \n",
        "\n",
        "### Solution to Question 2g\n",
        "\n",
        "---\n",
        "\n",
        "Use the code cell below to create your plot. No explanation needed.\n",
        "\n",
        "<br>  \n",
        "<br>  "
      ],
      "metadata": {
        "id": "frWiPNUpV_h3"
      }
    },
    {
      "cell_type": "code",
      "source": [
        "# use code cell to create a stacked bar chart\n"
      ],
      "metadata": {
        "id": "7nQr1HGrWj89"
      },
      "execution_count": null,
      "outputs": []
    },
    {
      "cell_type": "markdown",
      "source": [
        "\n",
        "# <a name=\"HW3Q3\">Question 3</a>\n",
        "\n",
        "---\n",
        "\n",
        "Most medical screening tests are not perfectly accurate. The accuracy is typically measured using two conditional probabilities:\n",
        "\n",
        "-   The <font color=\"tomato\">sensitivity</font> of the test is the probability that a person with the disease correctly receives a positive test. This is a <font color=\"tomato\">Correct Positive</font>.\n",
        "\n",
        "$$\\color{tomato}{\\mbox{Sensitivity} = P\\left( + \\mbox{ Test } \\big| \\mbox{ Has Disease} \\right)}$$\n",
        "\n",
        "-   The <font color=\"dodgerblue\">specificity</font> of the test is the probability that a person without the disease correctly receives a negative test. This is a <font color=\"dodgerblue\">Correct Negative</font>.\n",
        "\n",
        "$$\\color{dodgerblue}{\\mbox{Specificity} = P( - \\mbox{ Test } \\big| \\mbox{ No Disease})}$$\n",
        "\n",
        "This problem will focus on the Mini Mental State Examination (MMSE), which is the most commonly used test for complaints of problems with memory or other mental abilities<sup>1</sup>.\n",
        "\n",
        "-   <font color=\"tomato\">The sensitivity of the MMSE is 80%, $P\\left( + \\mbox{ Test } \\big| \\mbox{ Has Disease} \\right) = 0.8$</font>.\n",
        "-   <font color=\"dodgerblue\">The specificity of the MMSE is 90%, $P\\left( - \\mbox{ Test } \\big| \\mbox{ No Disease} \\right) = 0.9$</font>.\n",
        "\n",
        "Approximately 10% of Americans over the age of 65 suffer from Alzheimer's dementia<sup>2</sup>.\n",
        "\n",
        "<br>\n",
        "\n",
        "<font size=\"2\">1. Alzheimer's Society: [Tests and scans used to diagnose dementia](https://www.alzheimers.org.uk/about-dementia/symptoms-and-diagnosis/diagnosis/mmse-test).</font>\n",
        "\n",
        "<font size=\"2\">2. Alzheimer's Association: [Alzheimer's Disease Facts and Figures](https://www.alz.org/alzheimers-dementia/facts-figures).</font>\n",
        "\n",
        "<br>\n",
        "\n",
        "---\n",
        "\n",
        "<br>\n",
        "\n",
        "\n",
        "The table below is suggested as a hint to help. You do not need to use to use it, but it might be helpful to fill in the blanks before answering the questions below. For example, if 1000 Americans over the age of 65 are randomly screened by the MMSE for Alzheimer's dementia, then we have:\n",
        "\n",
        "<br>  \n",
        "\n",
        "\n",
        "|        | Has Alzheimer's | Does Not Have Alzheimer's | Total |\n",
        "|--------|-----------------|---------------------------|-------|\n",
        "| Test + | ??              | ??                        | ??    |\n",
        "| Test - | ??              | ??                        | ??    |\n",
        "| Total  | 100             | 900                       | 1,000 |\n",
        "\n",
        "\n",
        "\n",
        "\n"
      ],
      "metadata": {
        "id": "uAiJPq6tBsCP"
      }
    },
    {
      "cell_type": "markdown",
      "source": [
        "## <a name=\"HW3Q3\">Question 3a</a>\n",
        "\n",
        "---\n",
        "\n",
        "What is the probability that a randomly tested adult over the age of 65 will test positive?\n",
        "\n",
        "\n",
        "## Solution to Question 3a\n",
        "\n",
        "---\n",
        "\n",
        "\n",
        "<br>\n",
        "\n",
        "Provide supporting work along with your answer.\n",
        "\n",
        "\n",
        "\n",
        "\n",
        "<br>  \n",
        "<br>  \n",
        "<br>  \n",
        "\n",
        "\n"
      ],
      "metadata": {
        "id": "QjjLd4dJEvRy"
      }
    },
    {
      "cell_type": "markdown",
      "source": [
        "## <a name=\"HW3Q3b\">Question 3b</a>\n",
        "\n",
        "---\n",
        "\n",
        "Given that a patient tests positive for Alzheimer's, what is the probability they actually have Alzheimer's?\n",
        "\n",
        "\n",
        "### Solution to Question 3b\n",
        "\n",
        "---\n",
        "\n",
        "\n",
        "<br>\n",
        "\n",
        "Provide supporting work along with your answer.\n",
        "\n",
        "\n",
        "\n",
        "\n",
        "<br>  \n",
        "<br>  \n",
        "<br>  "
      ],
      "metadata": {
        "id": "lNHfKtqbEtgo"
      }
    },
    {
      "cell_type": "markdown",
      "source": [
        "\n",
        "# <a name=\"HW3Q4\">Question 4</a>\n",
        "\n",
        "---\n",
        "\n",
        "Piriformis syndrome is a pelvic condition that involves malfunction of the piriformis muscle (a deep buttock muscle), which often causes back and buttock pain with sciatica (pain radiating down the leg). An electrophysiologic test to detect piriformis syndrome involves measuring nerve conduction velocity (NCV) at two nerves in the leg (the tibial and peroneal nerves) with the leg flexed in a specific position. Increases in NCV in these nerves are often associated with piriformis syndrome. The resulting test, called the flexion abduction and internal rotation (FAIR) test, is positive if the average NCV in these nerves is delayed by 2+ seconds relative to normal.\n",
        "A small study compared the FAIR test results with patient self-reports of how they feel on a visual analog scale (VAS) of 0–10, with 0 indicating no pain and 10 very severe pain. The results were as shown in Table 3.17.\n",
        "\n",
        "Suppose physicians consider the FAIR test the gold standard, with a FAIR test result of ≥ 2 defined as a true positive and a FAIR test result of < 2 defined as a true negative. Suppose a VAS of ≤ 4 is considered a good clinical response based on self-report (a test-negative) and a VAS of ≥ 5 is considered a bad clinical response (a test-positive).\n",
        "\n",
        "<figure>\n",
        "<img\n",
        "src=\"https://raw.githubusercontent.com/gibsonea/Biostats/main/Images/FAIRtableHiRes.png\" width=\"400\">\n",
        "\n",
        "</figure>\n",
        "\n",
        "<br>"
      ],
      "metadata": {
        "id": "vQ2ec_qXWQwk"
      }
    },
    {
      "cell_type": "markdown",
      "source": [
        "## <a name=\"HW3Q4\">Question 4a</a>\n",
        "\n",
        "---\n",
        "\n",
        "What is the sensitivity of the VAS?\n",
        "\n",
        "<br>\n",
        "\n",
        "## Solution to Question 4a\n",
        "\n",
        "---\n",
        "\n",
        "\n",
        "<br>\n",
        "\n",
        "Provide supporting work along with your answer.\n",
        "\n",
        "\n",
        "\n",
        "\n",
        "<br>  \n",
        "<br>  \n",
        "<br>  "
      ],
      "metadata": {
        "id": "vFTO48PYYSuy"
      }
    },
    {
      "cell_type": "code",
      "source": [
        "# if needed use additional code to support answer above\n"
      ],
      "metadata": {
        "id": "bb5jPeVOaDUw"
      },
      "execution_count": null,
      "outputs": []
    },
    {
      "cell_type": "markdown",
      "source": [
        "## <a name=\"HW3Q4\">Question 4b</a>\n",
        "\n",
        "---\n",
        "\n",
        "What is the specificity of the VAS?\n",
        "\n",
        "<br>\n",
        "\n",
        "## Solution to Question 4b\n",
        "\n",
        "---\n",
        "\n",
        "\n",
        "<br>\n",
        "\n",
        "Provide supporting work along with your answer.\n",
        "\n",
        "\n",
        "\n",
        "\n",
        "<br>  \n",
        "<br>  \n",
        "<br>  "
      ],
      "metadata": {
        "id": "4En8KVccYvEc"
      }
    },
    {
      "cell_type": "code",
      "source": [
        "# if needed use additional code to support answer above\n"
      ],
      "metadata": {
        "id": "VOfoMLpEaCfd"
      },
      "execution_count": null,
      "outputs": []
    },
    {
      "cell_type": "markdown",
      "source": [
        "## <a name=\"HW3Q4\">Question 4c</a>\n",
        "\n",
        "---\n",
        "\n",
        "The cutoff points of ≥ 5 for a VAS test-positive and ≤ 4 for a VAS test-negative are arbitrary. Compute and graph the ROC curve for the VAS test by varying the cutoff point for a test-positive. (Use the cutoff points VAS ≥ 0, VAS ≥ 3, VAS ≥ 5, VAS ≥ 7, and VAS ≥ 11 as possible criteria for test-positive.)\n",
        "\n",
        "<br>\n",
        "\n",
        "## Solution to Question 4c\n",
        "\n",
        "---\n",
        "\n",
        "\n",
        "<br>\n",
        "\n",
        "Provide supporting work along with your answer.\n",
        "\n",
        "\n",
        "\n",
        "\n",
        "<br>  \n",
        "<br>  \n",
        "<br>  "
      ],
      "metadata": {
        "id": "JFR_QdRNY8QC"
      }
    },
    {
      "cell_type": "code",
      "source": [
        "# code cell to plot ROC curve\n"
      ],
      "metadata": {
        "id": "XguxPQ-iZs3c"
      },
      "execution_count": null,
      "outputs": []
    },
    {
      "cell_type": "markdown",
      "source": [
        "## <a name=\"HW3Q4\">Question 4d</a>\n",
        "\n",
        "---\n",
        "\n",
        "The area under the ROC curve is 65%. Describe what area under the ROC curve means and discuss if VAS is a good test or not.\n",
        "\n",
        "\n",
        "<br>\n",
        "\n",
        "## Solution to Question 4d\n",
        "\n",
        "---\n",
        "\n",
        "\n",
        "<br>\n",
        "\n",
        "\n",
        "\n",
        "<br>  \n",
        "<br>  \n",
        "<br>  "
      ],
      "metadata": {
        "id": "3W3eiRvUZOUy"
      }
    }
  ]
}