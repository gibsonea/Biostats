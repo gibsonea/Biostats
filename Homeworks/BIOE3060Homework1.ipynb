{
  "nbformat": 4,
  "nbformat_minor": 0,
  "metadata": {
    "colab": {
      "provenance": [],
      "include_colab_link": true
    },
    "kernelspec": {
      "name": "ir",
      "display_name": "R"
    },
    "language_info": {
      "name": "R"
    }
  },
  "cells": [
    {
      "cell_type": "markdown",
      "metadata": {
        "id": "view-in-github",
        "colab_type": "text"
      },
      "source": [
        "<a href=\"https://colab.research.google.com/github/gibsonea/Biostats/blob/main/Homeworks/BIOE3060Homework1.ipynb\" target=\"_parent\"><img src=\"https://colab.research.google.com/assets/colab-badge.svg\" alt=\"Open In Colab\"/></a>"
      ]
    },
    {
      "cell_type": "markdown",
      "source": [
        "# Homework 1\n",
        "\n",
        "---"
      ],
      "metadata": {
        "id": "TLH2NCL-V8J_"
      }
    },
    {
      "cell_type": "markdown",
      "source": [
        "## <a name=\"HW1Inst\">Instructions:</a>\n",
        "---\n",
        "\n",
        "1. <font color=\"tomato\">Either click the COPY TO DRIVE button or use the menu File/Save/Save a Copy to save your own version of the notebook in your own folder in Google Drive.</font>\n",
        "\n",
        "  - If you do not have a Google account, you will need to create a Google account in order to create your own individual copy of this notebook.\n",
        "  - By default, the notebook will be saved in a folder named **Colab Notebooks** in your drive.\n",
        "  - Feel free to name and store the notebook wherever you like!\n",
        "\n",
        "2. <font color=\"mediumseagreen\">After you have copied the notebook into your Drive, you can begin editing and saving your work.</font>\n",
        "\n",
        "**Upload your completed assignment into Canvas as a Google Colab (or Jupyter) Notebook with file extension `.ipynb`.**\n",
        "\n",
        "Upload your file into the Homework 1 assignment in Canvas\n",
        "\n",
        "**You must provide supporting work for all of your answers.**\n",
        "\n",
        "  - <font color=\"dodgerblue\">That work will include using R code cells.</font>\n",
        "    - **Feel free to insert as much R code as you like.**\n",
        "    - You must interpret or explain how the output of a code cell is being utilized to solve the problem.\n",
        "    - **Code with incomplete or missing explanations of why the output is useful may not receive full credit.**\n",
        "  - <font color=\"dodgerblue\">Your work will also involve writing explanations and justifications in text cells.</font>\n",
        "    - **Be sure to type/write out the steps of your work/explanation so I can see how you arrived at your answer.**\n",
        "\n",
        "\n",
        "## Important Academic Policies:\n",
        "---\n",
        "\n",
        "- **You are your work.** Though you may collaborate with others, everyone is responsible for writing up the work in their own way using their own methods. Plagiarism of any form is not tolerated.\n",
        "- **Be complete.** You must provide all work and/or explanations needed to find the solution. Answers with insufficient or incomplete supporting work may lose credit.\n",
        "- **Adhere to the Code of Academic Honesty.**\n",
        "- **Be clearly written.** Your solution to a problem must be clear, written in complete sentences. You may lose credit for work that is unclear or hard to follow.\n",
        "\n",
        "## <font color=\"dodgerblue\">Let me know if you need help.</font>\n",
        "\n",
        "----"
      ],
      "metadata": {
        "id": "gr9nGY7MSp23"
      }
    },
    {
      "cell_type": "markdown",
      "source": [
        "# <a name=\"HW1Q1\">Question 1</a>\n",
        "\n",
        "---\n",
        "Consider the following excerpt from a recent article<sup>1</sup> that discussed the spread of COVID-19 in various school settings.\n",
        "\n",
        "\n",
        "> \"A case-control study of exposures among children aged 0 through 18 years with ($n=154$) and without ($n=243$) SARS-CoV-2 infection in Mississippi found that having attended gatherings and social functions outside the home as well as having had visitors in the home was associated with increased risk of infection; however, in-person school attendance during the 14 days prior to diagnosis was not.\"\n",
        "\n",
        "To summarize the research referred to above, out of all children in the study, 154 children did become infected with SARS-CoV-2 while 243 children did not become infected during the study. Researchers asked each child in the study, \"Have you attended gatherings and social functions outside the home?\" They found that those children that answered YES, had a higher rate of infection compared to those children who answered NO.\n",
        "\n",
        "<br>\n",
        "\n",
        "<font size =2>1. \"Data and Policy to Guide Opening Schools Safely to Limit the Spread of SARS-CoV-2 Infection\" by Honein, Barrios, and Brooks, <https://jamanetwork.com/journals/jama/fullarticle/2775875> in the Journal of American Medical Association published on January 26, 2021</font>\n",
        "\n"
      ],
      "metadata": {
        "id": "5KL-2xeKRU9T"
      }
    },
    {
      "cell_type": "markdown",
      "source": [
        "## <a name=\"HW1Q1a\">Question 1a</a>\n",
        "\n",
        "---\n",
        "\n",
        "Was this an observational study or an experiment? Support your answer with an explanation.\n",
        "\n",
        "<br>\n",
        "\n",
        "### Solution to Question 1a\n",
        "\n",
        "---\n",
        "\n",
        "<br>  \n",
        "<br>  \n",
        "<br>  \n"
      ],
      "metadata": {
        "id": "IeucgbRm5G90"
      }
    },
    {
      "cell_type": "markdown",
      "source": [
        "## <a name=\"HW1Q1b\">Question 1b</a>\n",
        "\n",
        "---\n",
        "\n",
        "Does the excerpt above imply that the connection between attending social gatherings and getting SARS-CoV-2 is a causal relationship? Answer YES or NO, and then provide an explanation of how you determined your answer.\n",
        "\n",
        "<br>\n",
        "\n",
        "### Solution to Question 1b\n",
        "\n",
        "---\n",
        "\n",
        "<br>  \n",
        "<br>  \n",
        "<br>  \n",
        "\n"
      ],
      "metadata": {
        "id": "P4AvSe2-5JM9"
      }
    },
    {
      "cell_type": "markdown",
      "source": [
        "## <a name=\"HW1Q1c\">Question 1c</a>\n",
        "\n",
        "---\n",
        "\n",
        "Give an example of one possible confounding variable that might be contributing to the association between attending social gatherings and getting SARS-CoV-2. Explain why your variable could be a confounding variable.\n",
        "\n",
        "<br>\n",
        "\n",
        "### Solution to Question 1c\n",
        "\n",
        "---\n",
        "\n",
        "<br>  \n",
        "<br>  \n",
        "<br>  \n",
        "\n"
      ],
      "metadata": {
        "id": "BsKeqlMQ5Kom"
      }
    },
    {
      "cell_type": "markdown",
      "source": [
        "# <a name=\"HW1Q2\">Question 2</a>\n",
        "\n",
        "---\n",
        "\n",
        "This question refers to a January 26, 2021 report from the Center for Disease Control (CDC) titled *COVID-19 Cases and Transmission in 17 K-12 Schools -- Wood County, Wisconsin, August 31-November 29, 2020* which is linked here <https://www.cdc.gov/mmwr/volumes/70/wr/pdfs/mm7004e3-H.pdf>.\n",
        "\n",
        "<br>\n",
        "\n",
        "Researchers hoped to find insight into a very important question, \"Does wearing masks help reduce the incidence of COVID-19?\". The control group are the people in the communities in Wood County, Wisconsin where there is low compliance with mask wearing. The treatment group are the people (students, teachers, and staff) who are in a \"high compliance mask wearing community (school)\". The response variable is whether or not the individual became infected with COVID-19.\n",
        "\n",
        "<br>\n",
        "\n",
        "**Read the introduction on page 136 and the first half of page 137 in the article linked above and answer the questions below.**\n",
        "\n",
        "<br>"
      ],
      "metadata": {
        "id": "e7D8c_QBRhUd"
      }
    },
    {
      "cell_type": "markdown",
      "source": [
        "## <a name=\"HW1Q2a\">Question 2a</a>\n",
        "\n",
        "---\n",
        "\n",
        "According to the article, how much lower was the incidence rate of COVID-19 in the treatment (high mask wearing, school setting) group compared to the control (rest of community) group?\n",
        "\n",
        "<br>\n",
        "\n",
        "### Solution to Question 2a</a>\n",
        "\n",
        "---\n",
        "\n",
        "<br>  \n",
        "<br>  \n",
        "<br>  \n",
        "\n"
      ],
      "metadata": {
        "id": "hZv06FHW6Bmt"
      }
    },
    {
      "cell_type": "markdown",
      "source": [
        "## <a name=\"HW1Q2b\">Question 2b</a>\n",
        "\n",
        "---\n",
        "\n",
        "Do you believe this research proves that mask wearing indeed lowers the transmission of COVID-19? Answer this question based solely on the design and description of the research, not on what you personally may have concluded based on your own research into this matter. If you answer yes, explain why. If you answer no, then give at least one possible confounding variable that might be the reason behind the lower transmission rate in the treatment (mask wearing) group.\n",
        "\n",
        "<br>\n",
        "\n",
        "### Solution to Question 2b</a>\n",
        "\n",
        "---\n",
        "\n",
        "<br>  \n",
        "<br>  \n",
        "<br>  \n",
        "\n"
      ],
      "metadata": {
        "id": "mvBUkw6x6dgI"
      }
    },
    {
      "cell_type": "markdown",
      "source": [
        "## <a name=\"HW1Q2c\">Question 2c</a>\n",
        "\n",
        "---\n",
        "\n",
        "This research is an example of an observational study. Describe a randomized controlled experiment that could be designed to investigate the question \"Does wearing masks help reduce the incidence of COVID-19?\". Though clearly vital and essential to consider in practice, for this question you may ignore any ethical or moral issues in your design.\n",
        "\n",
        "<br>\n",
        "\n",
        "### Solution to Question 2c\n",
        "\n",
        "---\n",
        "\n",
        "<br>  \n",
        "<br>  \n",
        "<br>  \n",
        "\n"
      ],
      "metadata": {
        "id": "VTtRceN06f9m"
      }
    },
    {
      "cell_type": "markdown",
      "source": [
        "# <a name=\"HW1Q3\">Question 3</a>\n",
        "\n",
        "---\n",
        "\n",
        "For this problem you will use the dataset `FEV` in the excel file: `FEV.xls`.  Forced expiratory volume (FEV) is an index of pulmonary function that measures the volume of air expelled after 1 second of constant effort. `FEV.xls` contains determinations of FEV in 1980 on 654 children ages 3 through 19 who were seen in the Childhood Respiratory Disease (CRD) Study in East Boston, Massachusetts. These data are part of a longitudinal study to follow the change in pulmonary function over time in children[1].\n",
        "\n",
        "<br>\n",
        "\n",
        "[1] Tager, I. B., Weiss, S. T., Rosner, B., & Speizer, F. E. (1979). Effect of parental cigarette smoking on pulmonary function in children. American Journal of Epidemiology, 110, 15–26.  https://pubmed.ncbi.nlm.nih.gov/463860/\n",
        "\n",
        "<br>\n",
        "\n",
        "- Information on the data set variables is given below:\n",
        "\n",
        "<figure>\n",
        "<img\n",
        "src=\"https://raw.githubusercontent.com/gibsonea/Biostats/main/Images/FEVdatatableinfo.png\"\n",
        "\n",
        "</figure>\n",
        "  \n",
        "\n",
        "The first code cell below imports the spreadsheet file from the repository.  The next loads the dplyr library so you can run functions. After running the code cells, answer the questions that follow."
      ],
      "metadata": {
        "id": "_OlS9TRi8aB_"
      }
    },
    {
      "cell_type": "code",
      "source": [
        "library(httr)\n",
        "library(readxl)\n",
        "\n",
        "github_link <- \"https://github.com/gibsonea/Biostats/raw/main/Datasets/FEV.xls\" # link to worksheet file\n",
        "\n",
        "# download the file using GET from httr\n",
        "GET(github_link, write_disk(tf <- tempfile(fileext = \".xls\")))\n",
        "\n",
        "# read the downloaded Excel file\n",
        "FEV <- read_excel(tf)\n",
        "\n"
      ],
      "metadata": {
        "id": "NUOtJ4-sVl2w"
      },
      "execution_count": null,
      "outputs": []
    },
    {
      "cell_type": "code",
      "source": [
        "library(dplyr)"
      ],
      "metadata": {
        "id": "SrO-zNEYo_i5"
      },
      "execution_count": null,
      "outputs": []
    },
    {
      "cell_type": "markdown",
      "source": [
        "## <a name=\"HW1Q3a\">Question 3a</a>\n",
        "\n",
        "---\n",
        "\n",
        "How many observations are in the `FEV` dataset? Be sure to provide supporting explanation or R code to show how you determined your answer.\n",
        "\n",
        "<br>\n",
        "\n",
        "### Solution to Question 3a\n",
        "\n",
        "---\n",
        "\n",
        "<br>  \n",
        "<br>  \n",
        "<br>  \n"
      ],
      "metadata": {
        "id": "CC0Ohv6s9Mp5"
      }
    },
    {
      "cell_type": "code",
      "source": [
        "# Here is an R code cell if needed\n",
        "# to help answer Question 3a\n"
      ],
      "metadata": {
        "id": "fZ9Ffk809qHo"
      },
      "execution_count": null,
      "outputs": []
    },
    {
      "cell_type": "markdown",
      "source": [
        "## <a name=\"HW1Q3b\">Question 3b</a>\n",
        "\n",
        "---\n",
        "\n",
        "List all variables in the data frame, and indicate how each is initially stored. For example, is the variable initially stored as a double, integer, factor, or character? A summary of the first variable `Id` is provided to help illustrate how to express your answers for the other variables.\n",
        "\n",
        "<br>\n",
        "\n",
        "Be sure to provide supporting explanation or R code to show how you determined your answer.\n",
        "\n",
        "<br>\n",
        "\n",
        "### Solution to Question 3b\n",
        "\n",
        "---\n",
        "\n",
        "- The variable `Id` gives the ID number of the partipant. It is being stored as a double (or decimal) variable.\n",
        "\n",
        "<br>  \n",
        "<br>  \n",
        "<br>  \n"
      ],
      "metadata": {
        "id": "k6GeV9I89voE"
      }
    },
    {
      "cell_type": "code",
      "source": [
        "# Here is an R code cell if needed\n",
        "# to provide supporting work for 3b\n"
      ],
      "metadata": {
        "id": "zcDMl5nq-vH3"
      },
      "execution_count": null,
      "outputs": []
    },
    {
      "cell_type": "markdown",
      "source": [
        "## <a name=\"HW1Q3c\">Question 3c</a>\n",
        "\n",
        "---\n",
        "\n",
        "There are several variables in the data frame `FEV` that should be stored as categorical variables; however, in [Question 3b](#HW1Q3b) you should have found that none of the variables are initially being stored as categorical.\n",
        "\n",
        "<br>\n",
        "\n",
        "Use the code cell below to convert each variable in `FEV` that should be stored as a categorical variable to a categorical variable.\n",
        "\n",
        "<br>\n",
        "\n",
        "### Solution to Question 3c\n",
        "\n",
        "---\n",
        "\n",
        "Use the code cell below. No supporting explanation needed.\n",
        "\n",
        "<br>"
      ],
      "metadata": {
        "id": "jpjw5yjk-0Wu"
      }
    },
    {
      "cell_type": "code",
      "source": [
        "# Use code cell to convert\n",
        "# to categorical variables\n"
      ],
      "metadata": {
        "id": "hugwT0Rz_q4R"
      },
      "execution_count": null,
      "outputs": []
    },
    {
      "cell_type": "markdown",
      "source": [
        "## <a name=\"HW1Q3d\">Question 3d</a>\n",
        "\n",
        "---\n",
        "\n",
        "Pick any categorical variable in `FEV` and create a bar chart to graphically summarize the variable.\n",
        "\n",
        "<br>\n",
        "\n",
        "### Solution to Question 3d\n",
        "\n",
        "---\n",
        "\n",
        "Use the code cell below. No supporting explanation needed.\n",
        "\n",
        "<br>\n"
      ],
      "metadata": {
        "id": "U6yS4HUrABf8"
      }
    },
    {
      "cell_type": "code",
      "source": [
        "# Create bar chart\n",
        "# Feel free to experiment with plotting options\n",
        "\n"
      ],
      "metadata": {
        "id": "2OCrcFeTbz6l"
      },
      "execution_count": null,
      "outputs": []
    },
    {
      "cell_type": "markdown",
      "source": [
        "## <a name=\"HW1Q3e\">Question 3e</a>\n",
        "\n",
        "---\n",
        "\n",
        "Create a <font color=\"dodgerblue\">**side-by-side boxplot**</font> to display how FEV depends on smoking status.\n",
        "\n",
        "- Include labels in your plot to help make it more clear.\n",
        "\n",
        "<br>\n",
        "\n",
        "<font color=\"mediumseagreen\">*Hint: You will first need to create two subsets of the data, one for non-smoking (Smoke = 0) and one for smoking (Smoke = 1).*</font>\n",
        "\n",
        "<br>\n",
        "\n",
        "### Solution to Question 3e\n",
        "\n",
        "---\n",
        "\n",
        "Use the code cells below. No supporting explanation needed.\n",
        "\n",
        "<br>"
      ],
      "metadata": {
        "id": "b2VecJsCA5hW"
      }
    },
    {
      "cell_type": "code",
      "source": [
        "# use this code cell to create the two data subset files\n",
        "\n"
      ],
      "metadata": {
        "id": "KQ3RRz_IBnzz"
      },
      "execution_count": null,
      "outputs": []
    },
    {
      "cell_type": "code",
      "source": [
        "# use this code cell to create a side by side boxplot\n",
        "# include appropriate labels\n"
      ],
      "metadata": {
        "id": "bBNeWB_IB9D2"
      },
      "execution_count": null,
      "outputs": []
    },
    {
      "cell_type": "markdown",
      "source": [
        "## <a name=\"HW1Q3f\">Question 3f</a>\n",
        "\n",
        "---\n",
        "\n",
        "Write a couple sentences interpreting the plot you created in [Question 3e](#HW1Q3e).\n",
        "\n",
        "<br>\n",
        "\n",
        "For example, based on the graph, does smoking status seem to have an effect on Forced Expiratory Volume?  Is this result expected?\n",
        "\n",
        "<br>\n",
        "\n",
        "### Solution to Question 3f\n",
        "\n",
        "---\n",
        "\n",
        "<br>  \n",
        "<br>  \n",
        "<br>  "
      ],
      "metadata": {
        "id": "SDKEiCiPDRVH"
      }
    },
    {
      "cell_type": "markdown",
      "source": [
        "## <a name=\"HW1Q3g\">Question 3g</a>\n",
        "\n",
        "---\n",
        "Create a <font color=\"dodgerblue\">**side-by-side boxplot**</font> to display how FEV depends on smoking status.\n",
        "\n",
        "\n",
        "<br>\n",
        "\n",
        "\n",
        "<br>\n",
        "\n",
        "\n",
        "### Solution to Question 3g\n",
        "\n",
        "---\n",
        "\n",
        "Use the code cells below. No supporting explanation needed.\n",
        "\n",
        "<br>\n",
        "<br>"
      ],
      "metadata": {
        "id": "nNtmVeb7EbcX"
      }
    },
    {
      "cell_type": "code",
      "source": [
        "# use this code cell to create a side by side boxplot\n",
        "# include appropriate labels\n"
      ],
      "metadata": {
        "id": "Ww3eh5h3uCE3"
      },
      "execution_count": null,
      "outputs": []
    },
    {
      "cell_type": "markdown",
      "source": [
        "## <a name=\"HW1Q3h\">Question 3h</a>\n",
        "\n",
        "---\n",
        "\n",
        "Write a couple sentences interpreting the plot you created in [Question 3g](#HW1Q3g).\n",
        "\n",
        "<br>\n",
        "\n",
        "How could this explain the results from the plot of FEV versus smoking status that you created in [Question 3e](#HW1Q3e).\n",
        "\n",
        "<br>\n",
        "\n",
        "\n",
        "### Solution to Question 3h\n",
        "\n",
        "---\n",
        "\n",
        "\n",
        "<br>\n",
        "<br>\n",
        "<br>"
      ],
      "metadata": {
        "id": "6euOYMK2FnU9"
      }
    },
    {
      "cell_type": "markdown",
      "source": [
        "# <a name=\"HW1Q3\">Question 4</a>\n",
        "\n",
        "---\n",
        "For this problem you will use the data set Melanoma in the MASS package.\n",
        "\n",
        "The first code cell below loads the MASS package that will allow you to access the Melanoma data frame. After running the code cell below, answer the questions that follow."
      ],
      "metadata": {
        "id": "MQPQZXgkslfQ"
      }
    },
    {
      "cell_type": "code",
      "source": [
        "# load MASS library to access Melanoma\n",
        "library(MASS)"
      ],
      "metadata": {
        "id": "d39SntkwxTDe"
      },
      "execution_count": null,
      "outputs": []
    },
    {
      "cell_type": "markdown",
      "source": [
        "## <a name=\"HW1Q4a\">Question 4a</a>\n",
        "\n",
        "---\n",
        "\n",
        "How many observations are in the `Melanoma` data frame? Be sure to provide supporting explanation or R code to show how you determined your answer.\n",
        "\n",
        "<br>\n",
        "\n",
        "### Solution to Question 4a\n",
        "\n",
        "---\n",
        "\n",
        "<br>\n",
        "<br>  "
      ],
      "metadata": {
        "id": "qdmpR2bvxavf"
      }
    },
    {
      "cell_type": "code",
      "source": [
        "# Here is an R code cell if needed\n",
        "# to help answer Question 4a\n"
      ],
      "metadata": {
        "id": "9WxtcTdWxxQ0"
      },
      "execution_count": null,
      "outputs": []
    },
    {
      "cell_type": "markdown",
      "source": [
        "## <a name=\"HW1Q4b\">Question 4b</a>\n",
        "\n",
        "---\n",
        "\n",
        "List all variables in the data frame, and indicate how each is initially stored. For example, is the variable initially stored as a double, integer, factor, or character?\n",
        "<br>\n",
        "\n",
        "Be sure to provide supporting explanation or R code to show how you determined your answer.\n",
        "\n",
        "<br>\n",
        "\n",
        "### Solution to Question 4b\n",
        "\n",
        "---\n",
        "\n",
        "\n",
        "<br>\n",
        "<br>  "
      ],
      "metadata": {
        "id": "ucXVGqzVx3La"
      }
    },
    {
      "cell_type": "code",
      "source": [
        "# Here is an R code cell if needed\n",
        "# to provide supporting work for 4b"
      ],
      "metadata": {
        "id": "GMbh77bMyF5R"
      },
      "execution_count": null,
      "outputs": []
    },
    {
      "cell_type": "markdown",
      "source": [
        "## <a name=\"HW1Q4c\">Question 4c</a>\n",
        "\n",
        "---\n",
        "\n",
        "There are several variables in the data frame `Melanoma` that should be stored as categorical variables; however, in [Question 4b](#HW1Q4b) you should have found that none of the variables are initially being stored as categorical.\n",
        "\n",
        "<br>\n",
        "\n",
        "Use the code cell below to convert each variable in `Melanoma` that should be stored as a categorical variable to a categorical variable.\n",
        "\n",
        "<br>\n",
        "\n",
        "### Solution to Question 4c\n",
        "\n",
        "---\n",
        "\n",
        "Use the code cell below. No supporting explanation needed.\n",
        "\n",
        "<br>"
      ],
      "metadata": {
        "id": "qsE66HryyhBR"
      }
    },
    {
      "cell_type": "code",
      "source": [
        "# Use code cell to convert\n",
        "# to categorical variables"
      ],
      "metadata": {
        "id": "bCRcwDBDytKJ"
      },
      "execution_count": null,
      "outputs": []
    },
    {
      "cell_type": "markdown",
      "source": [
        "## <a name=\"HW1Q4d\">Question 4d</a>\n",
        "\n",
        "---\n",
        "\n",
        "Pick any categorical variable in `Melanoma` and create a bar chart to graphically summarize the variable.\n",
        "\n",
        "<br>\n",
        "\n",
        "### Solution to Question 4d\n",
        "\n",
        "---\n",
        "\n",
        "Use the code cell below. No supporting explanation needed.\n",
        "\n",
        "<br>"
      ],
      "metadata": {
        "id": "WhkyacbwyvKM"
      }
    },
    {
      "cell_type": "code",
      "source": [
        "# Create bar chart\n",
        "# Feel free to experiment with plotting options"
      ],
      "metadata": {
        "id": "EjNIrkK4cVBj"
      },
      "execution_count": null,
      "outputs": []
    },
    {
      "cell_type": "markdown",
      "source": [
        "## <a name=\"HW1Q4e\">Question 4e</a>\n",
        "\n",
        "---\n",
        "\n",
        "Create a <font color=\"dodgerblue\">**grouped frequency bar chart**</font> to display the relation between the variables `status` and `ulcer`.\n",
        "\n",
        "- Include a legend in your plot to help make it more clear.\n",
        "\n",
        "<br>\n",
        "\n",
        "<font color=\"mediumseagreen\">*Hint: You will first need to creat a two-way frequency table for two categorical variables.*</font>\n",
        "\n",
        "<br>\n",
        "\n",
        "### Solution to Question 4e\n",
        "\n",
        "---\n",
        "\n",
        "Use the code cells below. No supporting explanation needed.\n",
        "\n",
        "<br>"
      ],
      "metadata": {
        "id": "J3MUEaeecuQk"
      }
    },
    {
      "cell_type": "code",
      "source": [
        "# use this code cell to create a two-way frequency table\n"
      ],
      "metadata": {
        "id": "NcoQrB5Uc9Rb"
      },
      "execution_count": null,
      "outputs": []
    },
    {
      "cell_type": "code",
      "source": [
        "# use this code cell to create a grouped frequency bar chart\n",
        "# include a legend with your plot\n"
      ],
      "metadata": {
        "id": "P6ZDI3wIybIc"
      },
      "execution_count": null,
      "outputs": []
    },
    {
      "cell_type": "markdown",
      "source": [
        "## <a name=\"HW1Q4f\">Question 4f</a>\n",
        "\n",
        "---\n",
        "\n",
        "Write a couple sentences interpreting the plot you created in [Question 4e](#HW1Q4e).\n",
        "\n",
        "<br>\n",
        "\n",
        "For example, based on the graph, does having an ulcerated tumor seem to be associated with fatality due to melanoma? Explain how your plot helps address this question.\n",
        "\n",
        "<br>\n",
        "\n",
        "### Solution to Question 4f\n",
        "\n",
        "---\n",
        "\n",
        "<br>  \n",
        "\n"
      ],
      "metadata": {
        "id": "dgbKgaSHdn8o"
      }
    },
    {
      "cell_type": "markdown",
      "source": [
        "## <a name=\"HW1Q4g\">Question 4g</a>\n",
        "\n",
        "---\n",
        "\n",
        "Run the code cell below to create a relative frequency table. Intepret the meaning of the value $0.4439$ in the first row and second column of the resulting table in the output.\n",
        "\n",
        "<br>\n",
        "\n",
        "\n",
        "### Solution to Question 4g\n",
        "\n",
        "---\n",
        "\n",
        "Type your interpretation here after running the code cell below.\n",
        "\n",
        "\n",
        "<br>\n",
        "\n"
      ],
      "metadata": {
        "id": "pV8usm7Ad27T"
      }
    },
    {
      "cell_type": "code",
      "source": [
        "my.table <- table(Melanoma$sex, Melanoma$status)\n",
        "rel.table1 <- prop.table(my.table)\n",
        "round(rel.table1, 4)"
      ],
      "metadata": {
        "id": "dn6AJ8kaEaf9"
      },
      "execution_count": null,
      "outputs": []
    },
    {
      "cell_type": "markdown",
      "source": [
        "## <a name=\"HW1Q4h\">Question 4h</a>\n",
        "\n",
        "---\n",
        "\n",
        "Run the code cell below to create a relative frequency table. Intepret the meaning of the value $0.7222$ in the first row and second column of the resulting table in the output.\n",
        "\n",
        "<br>\n",
        "\n",
        "\n",
        "### Solution to Question 4h\n",
        "\n",
        "---\n",
        "\n",
        "Type your interpretation here after running the code cell below.\n",
        "\n",
        "\n",
        "<br>\n",
        "\n"
      ],
      "metadata": {
        "id": "-Cunvq3WeNKV"
      }
    },
    {
      "cell_type": "code",
      "source": [
        "my.table <- table(Melanoma$sex, Melanoma$status)\n",
        "rel.table2 <- prop.table(my.table, 1)  # notice added option 1\n",
        "round(rel.table2, 4)"
      ],
      "metadata": {
        "id": "CFnHdXadFnVI"
      },
      "execution_count": null,
      "outputs": []
    },
    {
      "cell_type": "markdown",
      "source": [
        "## <a name=\"HW1Q4i\">Question 4i</a>\n",
        "\n",
        "---\n",
        "\n",
        "Run the code cell below to create a relative frequency table. Intepret the meaning of the value $0.6791$ in the first row and second column of the resulting table in the output.\n",
        "\n",
        "<br>\n",
        "\n",
        "\n",
        "### Solution to Question 4i\n",
        "\n",
        "---\n",
        "\n",
        "Type your interpretation here after running the code cell below.\n",
        "\n",
        "\n",
        "<br>\n",
        "<br>\n",
        "<br>"
      ],
      "metadata": {
        "id": "r3jFm6YfGW-o"
      }
    },
    {
      "cell_type": "code",
      "source": [
        "my.table <- table(Melanoma$sex, Melanoma$status)\n",
        "rel.table3 <- prop.table(my.table, 2)  # notice added option 2\n",
        "round(rel.table3, 4)"
      ],
      "metadata": {
        "id": "kkRlT9GqGW-0"
      },
      "execution_count": null,
      "outputs": []
    },
    {
      "cell_type": "markdown",
      "source": [
        "## <a name=\"HW1Q4j\">Question 4j</a>\n",
        "\n",
        "---\n",
        "\n",
        "Create one <font color=\"dodgerblue\">**stacked relative frequency bar chart**</font> to best display the relation between the sex of the patient and whether the patient surived, died from melanoma, or died from other causes.\n",
        "\n",
        "<br>\n",
        "\n",
        "<font color=\"mediumseagreen\">*Hint: First create a `prop.table` paying careful attention to the ordering of the variables in the table.*</font>\n",
        "\n",
        "<br>\n",
        "\n",
        "### Solution to Question 4j\n",
        "\n",
        "---\n",
        "\n",
        "Use the code cells below. No supporting explanation needed.\n",
        "\n",
        "<br>"
      ],
      "metadata": {
        "id": "30VaqdhvGz1o"
      }
    },
    {
      "cell_type": "code",
      "source": [
        "# use this code cell to create a\n",
        "# stacked relative frequency bar chart\n",
        "# include a legend with your plot\n",
        "\n"
      ],
      "metadata": {
        "id": "Wpr2SlUMIIHV"
      },
      "execution_count": null,
      "outputs": []
    },
    {
      "cell_type": "markdown",
      "source": [
        "# <a name=\"save2\">Be Sure You Have Saved Your Work!</a>\n",
        "\n",
        "---\n",
        "\n",
        "This notebook is a shared Colab notebook available for anyone to view. However, since everyone is sharing this notebook, you do not have permission to save changes to this shared Colab notebook. In order to save your work:\n",
        "\n",
        "1. You will need to set up a free Google Drive account. If you already have a Google Drive account, you are ready to go!\n",
        "2. Click the `Copy to Drive` button to the right of the `+ Code` and `+ Text` buttons on top of the notebook.\n",
        "3. Select from the menu `File/Save a Copy in Drive`.\n",
        "  - By default, the notebook will be saved in a folder named **Colab Notebooks** in your Drive.\n",
        "  - Feel free to rename and store the notebook wherever you like.\n"
      ],
      "metadata": {
        "id": "iBmMPoh1CkEf"
      }
    },
    {
      "cell_type": "markdown",
      "source": [
        "# You are Done with Homework 1!!!"
      ],
      "metadata": {
        "id": "ZwUJkRth5n9Q"
      }
    }
  ]
}