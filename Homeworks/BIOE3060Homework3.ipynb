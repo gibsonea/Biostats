{
  "nbformat": 4,
  "nbformat_minor": 0,
  "metadata": {
    "colab": {
      "provenance": [],
      "include_colab_link": true
    },
    "kernelspec": {
      "name": "ir",
      "display_name": "R"
    },
    "language_info": {
      "name": "R"
    }
  },
  "cells": [
    {
      "cell_type": "markdown",
      "metadata": {
        "id": "view-in-github",
        "colab_type": "text"
      },
      "source": [
        "<a href=\"https://colab.research.google.com/github/gibsonea/Biostats/blob/main/Homeworks/BIOE3060Homework3.ipynb\" target=\"_parent\"><img src=\"https://colab.research.google.com/assets/colab-badge.svg\" alt=\"Open In Colab\"/></a>"
      ]
    },
    {
      "cell_type": "markdown",
      "source": [
        "# Homework 3\n",
        "\n",
        "---"
      ],
      "metadata": {
        "id": "TLH2NCL-V8J_"
      }
    },
    {
      "cell_type": "markdown",
      "source": [
        "## <a name=\"HW1Inst\">Instructions:</a>\n",
        "---\n",
        "\n",
        "1. <font color=\"tomato\">Either click the COPY TO DRIVE button or use the menu File/Save/Save a Copy to save your own version of the notebook in your own folder in Google Drive.</font>\n",
        "\n",
        "  - If you do not have a Google account, you will need to create a Google account in order to create your own individual copy of this notebook.\n",
        "  - By default, the notebook will be saved in a folder named **Colab Notebooks** in your drive.\n",
        "  - Feel free to name and store the notebook wherever you like!\n",
        "\n",
        "2. <font color=\"mediumseagreen\">After you have copied the notebook into your Drive, you can begin editing and saving your work.</font>\n",
        "\n",
        "**Upload your completed assignment into Canvas as a Google Colab (or Jupyter) Notebook with file extension `.ipynb`.**\n",
        "\n",
        "Upload your file into the Homework 3 assignment in Canvas\n",
        "\n",
        "**You must provide supporting work for your all of your answers.**\n",
        "\n",
        "\n",
        "\n",
        "  - <font color=\"dodgerblue\">That work will include using R code cells.</font>\n",
        "    - **Feel free to insert as much R code as you like.**\n",
        "    - You must interpret or explain how the output of a code cell is being utilized to solve the problem.\n",
        "    - **Code with incomplete or missing explanations of why the output is useful may not receive full credit.**\n",
        "  - <font color=\"dodgerblue\">Your work will also involve writing explanations and justifications in text cells.</font>\n",
        "    - **Be sure to type/write out the steps of your work/explanation so I can see how you arrived at your answer.**\n",
        "\n",
        "    - **You can type supporting math equations and notation with LaTeX in text cells.**\n",
        "    - The LaTeX used in the Colab notebooks we cover in class provides great examples.\n",
        "    - Here's a helpful [LaTeX math symbol gallery](https://artofproblemsolving.com/wiki/index.php/LaTeX:Symbols).\n",
        "    - **Learning LaTeX is super useful and might even be enjoyable!**\n",
        "\n",
        "\n",
        "\n",
        "## Important Academic Policies:\n",
        "---\n",
        "\n",
        "- **Be your own work.** Though you may collaborate with others, everyone is responsible for writing up the work in their own way using their own methods. Plagiarism of any form is not tolerated.\n",
        "- **Be complete.** You must provide all work and/or explanations needed to find the solution. Answers with insufficient or incomplete supporting work may lose credit.\n",
        "- **Adhere to the Code of Academic Honesty.**\n",
        "- **Be clearly written (and legible if written).** Your solution to a problem must be clear, written in complete sentences. You may lose credit for work that is unclear or hard to follow.\n",
        "\n",
        "## <font color=\"dodgerblue\">Let me know if you need help, and **GOOD LUCK!!!**</font>\n",
        "\n",
        "----"
      ],
      "metadata": {
        "id": "HBtDTIXU_i9z"
      }
    },
    {
      "cell_type": "markdown",
      "source": [
        "# <a name=\"HW4Q1\">Question 1</a>\n",
        "\n",
        "------------------------------------------------------------------------\n",
        "\n",
        "A mail-order computer business has six telephone lines.\n",
        "Let $X$ denote the number of lines in use at a specified time.\n",
        "Suppose the probability distribution function (pdf) of $X$ is given in the accompanying table.\n",
        "\n",
        "| $x$      | 0      | 1      | 2      | 3      | 4      | 5      | 6      |\n",
        "|----------|--------|--------|--------|--------|--------|--------|--------|\n",
        "| $P(X=x)$ | $0.05$ | $0.15$ | $0.20$ | $0.30$ | $0.15$ | $0.10$ | $0.05$ |\n",
        "\n"
      ],
      "metadata": {
        "id": "98K9ywuDajLT"
      }
    },
    {
      "cell_type": "markdown",
      "source": [
        "## <a name=\"HW4Q1a\">Question 1a</a>\n",
        "\n",
        "------------------------------------------------------------------------\n",
        "What are the values of the cumulative distribution function, F(x).\n",
        "\n",
        "<br>\n",
        "\n",
        "### Solution to Question 1a\n",
        "\n",
        "------------------------------------------------------------------------\n",
        "\n",
        "| $x$      | 0      | 1      | 2      | 3      | 4      | 5      | 6      |\n",
        "|----------|--------|--------|--------|--------|--------|--------|--------|\n",
        "| $P(X=x)$ | $0.05$ | $0.15$ | $0.20$ | $0.30$ | $0.15$ | $0.10$ | $0.05$ |\n",
        "| $F(x)$   | $?$ | $?$ | $?$ | $?$ | $?$ | $?$ | $?$ |\n",
        "\n"
      ],
      "metadata": {
        "id": "QMV-cyUbkDE5"
      }
    },
    {
      "cell_type": "markdown",
      "source": [
        "## <a name=\"HW4Q1b\">Question 1b</a>\n",
        "\n",
        "------------------------------------------------------------------------\n",
        "\n",
        "Calculate the probability that:\n",
        "\n",
        "<br>\n",
        "\n",
        "i.  At most three lines are in use.\n",
        "\n",
        "<br>\n",
        "\n",
        "ii. Fewer than three lines are in use.\n",
        "\n",
        "<br>\n",
        "\n",
        "iii. At least three lines are NOT in use.\n",
        "\n",
        "<br>\n",
        "\n",
        "### Solution to Question 1b\n",
        "\n",
        "------------------------------------------------------------------------\n",
        "\n",
        "Provide supporting work along with each answer.\n",
        "\n",
        "<br>\n",
        "\n",
        "i.  ??\n",
        "\n",
        "<br>\n",
        "\n",
        "\n",
        "ii. ??\n",
        "\n",
        "<br>\n",
        "\n",
        "\n",
        "iii. ??\n",
        "\n",
        "\n",
        "<br>  \n",
        "<br>  \n",
        "<br>\n",
        "\n"
      ],
      "metadata": {
        "id": "KOZg8ScUcnv_"
      }
    },
    {
      "cell_type": "markdown",
      "source": [
        "## <a name=\"HW4Q1c\">Question 1c</a>\n",
        "\n",
        "------------------------------------------------------------------------\n",
        "\n",
        "Calculate the expected value, $E(X)=\\mu$, of $X$.\n",
        "\n",
        "<br>\n",
        "\n",
        "### Solution to Question 1c\n",
        "\n",
        "------------------------------------------------------------------------\n",
        "\n",
        "<br>  \n",
        "\n",
        "Provide supporting work along with your answer.\n",
        "\n",
        "<br>  \n",
        "<br>  \n"
      ],
      "metadata": {
        "id": "d024BHcHcmnt"
      }
    },
    {
      "cell_type": "markdown",
      "source": [
        "## <a name=\"HW4Q1d\">Question 1d</a>\n",
        "\n",
        "------------------------------------------------------------------------\n",
        "\n",
        "Calculate the variance, $\\mbox{Var}(X)=\\sigma^2$, of $X$.\n",
        "\n",
        "<br>\n",
        "\n",
        "### Solution to Question 1d\n",
        "\n",
        "------------------------------------------------------------------------\n",
        "\n",
        "<br>  \n",
        "\n",
        "Provide supporting work along with your answer.\n",
        "\n",
        "<br>  \n",
        "<br>  \n"
      ],
      "metadata": {
        "id": "Ts0USMs-cljF"
      }
    },
    {
      "cell_type": "markdown",
      "source": [
        "# <a name=\"HW4Q2\">Question 2</a>\n",
        "\n",
        "------------------------------------------------------------------------\n",
        "\n",
        "The prevalence of the flu in Colorado is 5%.\n",
        "\n",
        "(i)\tSuppose 6 out of 15 students in a class come down with the flu.  What is the probability of this occuring?  What is the probability of 6 or more students having the flu?  \n",
        "\n",
        "   \n",
        "<br>\n",
        "\n",
        "(ii)  What is the expected number of students that would have the flu in a class of 50?\n",
        "\n",
        "\n",
        "<br>\n",
        "\n",
        "\n",
        "\n",
        "## Solution to Question 2\n",
        "\n",
        "------------------------------------------------------------------------\n",
        "\n",
        "<br>  \n",
        "\n",
        "Provide supporting work along with your answer.\n",
        "\n",
        "<br>  \n",
        "\n",
        "(i)\n",
        "\n",
        "<br>\n",
        "\n",
        "(ii)\n",
        "\n",
        "<br>\n",
        "<br>"
      ],
      "metadata": {
        "id": "4sWJSe-LamIe"
      }
    },
    {
      "cell_type": "markdown",
      "source": [
        "# <a name=\"HW3Q3\">Question 3</a>\n",
        "\n",
        "---\n",
        "\n",
        "Are there more heart attacks during an earthquake?  A study looked at the incidence of cardiac deaths attributable to the earthquake in Los Angeles County on January 17, 1994. In the week before the earthquake, there were an average of 15.6 cardiac deaths per day in Los Angeles County. On the day of the earthquake, there were 51 cardiac deaths.\n",
        "\n",
        "<br>\n",
        "\n",
        "\n"
      ],
      "metadata": {
        "id": "BqPFJXUUWdOR"
      }
    },
    {
      "cell_type": "markdown",
      "source": [
        "## <a name=\"HW4Q3a\">Question 3a</a>\n",
        "\n",
        "------------------------------------------------------------------------\n",
        "\n",
        "Create a plot below of the probability mass function for the number of cardiac deaths on a typical day.  Make sure to include labels.\n",
        "\n",
        "<br>\n",
        "\n",
        "### Solution to Question 3a\n",
        "\n",
        "------------------------------------------------------------------------\n",
        "\n",
        "<br>  \n",
        "\n",
        "<br>  \n",
        "<br>  "
      ],
      "metadata": {
        "id": "4EKcvjOybZU_"
      }
    },
    {
      "cell_type": "code",
      "source": [
        "#use this code cell to create the plot\n",
        "\n",
        "\n",
        "\n"
      ],
      "metadata": {
        "id": "onI9sDQNWdOb"
      },
      "execution_count": null,
      "outputs": []
    },
    {
      "cell_type": "markdown",
      "source": [
        "\n",
        "## <a name=\"HW3Q3b\">Question 3b</a>\n",
        "\n",
        "---\n",
        "\n",
        "(i) What is the probability of exactly 51 deaths occuring on a given day?\n",
        "\n",
        "\n",
        "<br>\n",
        "\n",
        "(ii) What is the probability of 51 or more deaths occuring?\n",
        "\n",
        "<br>  \n",
        "\n",
        "(iii) What is the highest number of deaths in one day that would be considered unusual?\n",
        "\n",
        "<br>\n",
        "\n",
        "(iv) What would you conclude from this study?"
      ],
      "metadata": {
        "id": "hDQSxcuCWdOc"
      }
    },
    {
      "cell_type": "markdown",
      "source": [
        "\n",
        "### Solution to Question 3b\n",
        "\n",
        "---\n",
        "\n",
        "Be sure to provide all supporting work.\n",
        "\n",
        "\n",
        "\n",
        "<br>  \n",
        "\n",
        "(i)\n",
        "\n",
        "<br>  \n",
        "\n",
        "(ii)\n",
        "\n",
        "<br>  \n",
        "\n",
        "(iii)\n",
        "\n",
        "<br>\n",
        "\n",
        "(iv)\n",
        "\n",
        "<br>\n",
        "<br>\n"
      ],
      "metadata": {
        "id": "COwwPWWIWdOc"
      }
    },
    {
      "cell_type": "code",
      "source": [
        "#code cell for calculations if needed"
      ],
      "metadata": {
        "id": "7oaiTH3GfRRl"
      },
      "execution_count": null,
      "outputs": []
    },
    {
      "cell_type": "markdown",
      "source": [
        "# <a name=\"HW3Q4\">Question 4</a>\n",
        "\n",
        "---\n",
        "\n",
        "Let $X$ denote the amount of time (in hours) that a car remains parked after paying a parking meter for a maximum of 2 hours.\n",
        "For example $x=0.5$ means a car was parked for a half-hour and then left.\n",
        "$x=2$ means a car uses the spot for the full 2 hours.\n",
        "The cumulative distribution function (cdf) for $X$ is:\n",
        "\n",
        "$$F(x) = \\left\\{\n",
        "  \\begin{array}{ll}\n",
        "   0  \\ \\ & x < 0 \\\\\n",
        "   \\frac{x^2}{4} & 0 \\leq x < 2 \\\\\n",
        "   1 & x \\geq 2\n",
        "  \\end{array} \\right. .$$\n",
        "\n"
      ],
      "metadata": {
        "id": "fwGFrsisWdOd"
      }
    },
    {
      "cell_type": "markdown",
      "source": [
        "## <a name=\"HW3Q4a\">Question 4a</a>\n",
        "\n",
        "---\n",
        "\n",
        "Compute $P(X < 1)$. Show your supporting work below.\n",
        "\n",
        "<br>  \n",
        "\n",
        "### Solution to Question 4a\n",
        "\n",
        "---\n",
        "\n",
        "Be sure to provide all supporting work.\n",
        "\n",
        "\n",
        "\n",
        "<br>  \n",
        "<br>  \n",
        "<br>  \n",
        "\n",
        "\n"
      ],
      "metadata": {
        "id": "fLilVzYLHrqr"
      }
    },
    {
      "cell_type": "markdown",
      "source": [
        "## <a name=\"HW3Q4b\">Question 4b</a>\n",
        "\n",
        "---\n",
        "\n",
        "Compute $P(0.5 \\leq X \\leq 1)$.\n",
        "Show your supporting work below.\n",
        "\n",
        "<br>  \n",
        "\n",
        "### Solution to Question 4b\n",
        "\n",
        "---\n",
        "\n",
        "Be sure to provide all supporting work.\n",
        "\n",
        "\n",
        "\n",
        "<br>  \n",
        "<br>  \n",
        "<br>  \n",
        "\n",
        "\n"
      ],
      "metadata": {
        "id": "CsA1G8jTIXZg"
      }
    },
    {
      "cell_type": "markdown",
      "source": [
        "## <a name=\"HW3Q4c\">Question 4c</a>\n",
        "\n",
        "---\n",
        "\n",
        "Compute $P(X > 1.5)$.\n",
        "Show your supporting work below.\n",
        "\n",
        "<br>  \n",
        "\n",
        "### Solution to Question 4c\n",
        "\n",
        "---\n",
        "\n",
        "Be sure to provide all supporting work.\n",
        "\n",
        "\n",
        "\n",
        "<br>  \n",
        "<br>  \n",
        "<br>  \n",
        "\n",
        "\n"
      ],
      "metadata": {
        "id": "i0hXH2CXIWBq"
      }
    },
    {
      "cell_type": "markdown",
      "source": [
        "## <a name=\"HW3Q4d\">Question 4d</a>\n",
        "\n",
        "---\n",
        "\n",
        "Give a formula for $f(x)$, the probability distribution function (pdf) of $X$.\n",
        "Show your supporting work below.\n",
        "\n",
        "<br>  \n",
        "\n",
        "### Solution to Question 4d\n",
        "\n",
        "---\n",
        "\n",
        "Be sure to provide all supporting work.\n",
        "\n",
        "\n",
        "\n",
        "<br>  \n",
        "<br>  \n",
        "<br>  "
      ],
      "metadata": {
        "id": "pTmmd9IpIUiA"
      }
    },
    {
      "cell_type": "markdown",
      "source": [
        "\n",
        "## <a name=\"HW3Q4e\">Question 4e</a>\n",
        "\n",
        "---\n",
        "\n",
        "Calculate the value of $E(X)$.\n",
        "Show your work.\n",
        "\n",
        "<br>   \n",
        "\n",
        "### Solution to Question 4e\n",
        "\n",
        "---\n",
        "\n",
        "\n",
        "Be sure to provide all supporting work for how you calculated $E(X)$.\n",
        "\n",
        "\n",
        "\n",
        "<br>  \n",
        "<br>  \n",
        "<br>  \n"
      ],
      "metadata": {
        "id": "0uqvVTYuja3H"
      }
    }
  ]
}