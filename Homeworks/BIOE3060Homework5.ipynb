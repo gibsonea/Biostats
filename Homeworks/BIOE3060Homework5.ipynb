{
  "nbformat": 4,
  "nbformat_minor": 0,
  "metadata": {
    "colab": {
      "provenance": [],
      "include_colab_link": true
    },
    "kernelspec": {
      "name": "ir",
      "display_name": "R"
    },
    "language_info": {
      "name": "R"
    }
  },
  "cells": [
    {
      "cell_type": "markdown",
      "metadata": {
        "id": "view-in-github",
        "colab_type": "text"
      },
      "source": [
        "<a href=\"https://colab.research.google.com/github/gibsonea/Biostats/blob/main/Homeworks/BIOE3060Homework5.ipynb\" target=\"_parent\"><img src=\"https://colab.research.google.com/assets/colab-badge.svg\" alt=\"Open In Colab\"/></a>"
      ]
    },
    {
      "cell_type": "markdown",
      "source": [
        "# Homework 5\n",
        "\n",
        "---"
      ],
      "metadata": {
        "id": "SNItVP8cozZT"
      }
    },
    {
      "cell_type": "markdown",
      "source": [
        "## <a name=\"HW1Inst\">Instructions:</a>\n",
        "---\n",
        "\n",
        "1. <font color=\"tomato\">Either click the COPY TO DRIVE button or use the menu File/Save/Save a Copy to save your own version of the notebook in your own folder in Google Drive.</font>\n",
        "\n",
        "  - If you do not have a Google account, you will need to create a Google account in order to create your own individual copy of this notebook.\n",
        "  - By default, the notebook will be saved in a folder named **Colab Notebooks** in your drive.\n",
        "  - Feel free to name and store the notebook wherever you like!\n",
        "v\n",
        "2. <font color=\"mediumseagreen\">After you have copied the notebook into your Drive, you can begin editing and saving your work.</font>\n",
        "\n",
        "\n",
        "**Upload your completed assignment into Canvas as a Google Colab (or Jupyter) Notebook with file extension `.ipynb`.**\n",
        "\n",
        "\n",
        "**You must provide supporting work for your all of your answers.**\n",
        "\n",
        "\n",
        "\n",
        "  - <font color=\"dodgerblue\">That work will include using R code cells.</font>\n",
        "    - **Feel free to insert as much R code as you like.**\n",
        "    - You must interpret or explain how the output of a code cell is being utilized to solve the problem.\n",
        "    - **Code with incomplete or missing explanations of why the output is useful may not receive full credit.**\n",
        "  - <font color=\"dodgerblue\">Your work will also involve writing explanations and justifications in text cells.</font>\n",
        "    - **Be sure to type/write out the steps of your work/explanation so I can see how you arrived at your answer.**\n",
        "  - <font color=\"dodgerblue\">Your work in some parts  may involve doing algebra and/or calculus.</font>\n",
        "    - Either type your work in the space below using LaTeX for mathematical equations.\n",
        "      - Here's a helpful [Quick Reference Guide for LaTeX](https://colab.research.google.com/drive/1voDDmLfHmRWzWQW5yiHfqYsjGPFqdovP?usp=sharing).\n",
        "      - Here's a helpful [LaTeX math symbol gallery](https://artofproblemsolving.com/wiki/index.php/LaTeX:Symbols).\n",
        "      - **Learning LaTeX is super useful and might even be enjoyable!**\n",
        "    - Or you can write your work on paper/tablet, take a picture of your work, and then insert an image of your work.\n",
        "    - Or you can Write your work on paper/tablet and submit to me separately when the assignment is due.\n",
        "   \n",
        "\n",
        "## Important Academic Policies:\n",
        "---\n",
        "\n",
        "- **Be your own work.** Though you may collaborate with others, everyone is responsible for writing up the work in their own way using their own methods. Plagiarism of any form is not tolerated.\n",
        "- **Be complete.** You must provide all work and/or explanations needed to find the solution. Answers with insufficient or incomplete supporting work may lose credit.\n",
        "- **Adhere to the Code of Academic Honesty.**\n",
        "- **Be clearly written (and legible if written).** Your solution to a problem must be clear, written in complete sentences. You may lose credit for work that is unclear or hard to follow.\n",
        "\n",
        "## <font color=\"dodgerblue\">Let me know if you need help, and **GOOD LUCK!!!**</font>\n",
        "\n",
        "----"
      ],
      "metadata": {
        "id": "_3mKEGX-f9eA"
      }
    },
    {
      "cell_type": "markdown",
      "source": [
        "# <a name=\"HW9q1\">Question 1</a>\n",
        "\n",
        "------------------------------------------------------------------------\n",
        "\n",
        "Suppose a student is working on a project using data on pulse rates collected from a random sample of 100 students at her university.\n",
        "She finds a 95% confidence interval for the mean pulse rate to be from 65.5 to 71.8 beats per minute.\n",
        "Explain (in complete sentences) why each of the statements below would be an improper interpretation of this interval.\n",
        "\n"
      ],
      "metadata": {
        "id": "PkkYp5tXnT5U"
      }
    },
    {
      "cell_type": "markdown",
      "source": [
        "## <a name=\"HW9q1a\">Question 1a</a>\n",
        "\n",
        "------------------------------------------------------------------------\n",
        "\n",
        "I am 95% sure that all students will have pulse rates between 65.5 to 71.8 beats per minute.\n",
        "\n",
        "### Solution to Question 1a\n",
        "\n",
        "------------------------------------------------------------------------\n",
        "\n",
        "Explain (in complete sentences) why the statement is an **improper interpretation** of this interval.\n",
        "\n",
        "\n",
        "\n",
        "\n",
        "\n",
        "<br>  \n",
        "<br>  \n",
        "\n"
      ],
      "metadata": {
        "id": "CE0l8eKQobMr"
      }
    },
    {
      "cell_type": "markdown",
      "source": [
        "## <a name=\"HW9q1b\">Question 1b</a>\n",
        "\n",
        "------------------------------------------------------------------------\n",
        "\n",
        "95% of all students at this university have pulse rates between 65.5 and 71.8 beats per minute.\n",
        "\n",
        "### Solution to Question 1b\n",
        "\n",
        "------------------------------------------------------------------------\n",
        "\n",
        "Explain (in complete sentences) why the statement is an **improper interpretation** of this interval.\n",
        "\n",
        "\n",
        "\n",
        "\n",
        "\n",
        "<br>  \n",
        "<br>  \n",
        "\n"
      ],
      "metadata": {
        "id": "2ek1l3MGoUqY"
      }
    },
    {
      "cell_type": "markdown",
      "source": [
        "## <a name=\"HW9q1c\">Question 1c</a>\n",
        "\n",
        "------------------------------------------------------------------------\n",
        "\n",
        "95% of all random samples of 100 students have a mean pulse rate between 65.5 and 71.8 beats per minute.\n",
        "\n",
        "### Solution to Question 1c\n",
        "\n",
        "------------------------------------------------------------------------\n",
        "\n",
        "Explain (in complete sentences) why the statement is an **improper interpretation** of this interval.\n",
        "\n",
        "\n",
        "\n",
        "\n",
        "<br>  \n",
        "<br>  "
      ],
      "metadata": {
        "id": "GtO6EoBVoTY_"
      }
    },
    {
      "cell_type": "markdown",
      "source": [
        "# <a name=\"HW9q2\">Question 2</a>\n",
        "\n",
        "------------------------------------------------------------------------\n",
        "\n",
        "For all high school seniors who took the SAT exam in 2018, the mean math SAT score was $515$ with a standard deviation of $\\sigma = 116$.\n",
        "From a random sample of $25$ students at your university, you find the average SAT math score of the sample is $538$.\n",
        "You forgot to compute the standard deviation of your sample, so you assume the standard deviation of math SAT scores at your university is the same as the standard deviation of the population, $\\sigma = 116$.\n",
        "\n"
      ],
      "metadata": {
        "id": "54lC7VVaolun"
      }
    },
    {
      "cell_type": "markdown",
      "source": [
        "## <a name=\"HW9q2a\">Question 2a</a>\n",
        "\n",
        "------------------------------------------------------------------------\n",
        "\n",
        "Compute a 95% confidence interval for $\\mu$, the mean SAT math score at this university.\n",
        "\n",
        "-   Show your work by replacing each of the <mark>??</mark> below with an appropriate value.\n",
        "\n",
        "### Solution to Question 2a\n",
        "\n",
        "------------------------------------------------------------------------\n",
        "\n",
        "i.  An initial point estimate is $\\mu \\approx $<mark>??</mark>.\n",
        "\n",
        "ii. The value of $z_{\\alpha/2}$ for a 95% confidence level is <mark>??</mark>.\n",
        "\n",
        "-   Round your answer to two decimal places when typing it above."
      ],
      "metadata": {
        "id": "EedeyYDap1qL"
      }
    },
    {
      "cell_type": "code",
      "source": [
        "# Show work by entering a formula (using qnorm)\n"
      ],
      "metadata": {
        "id": "H5sCvqlxoeuK"
      },
      "execution_count": null,
      "outputs": []
    },
    {
      "cell_type": "markdown",
      "source": [
        "iii. The standard error of the underlying sampling distribution is $\\mbox{SE}(\\bar{X}) =$ <mark>??</mark>.\n",
        "\n",
        "-   Round your answer to two decimal places when typing it above.\n"
      ],
      "metadata": {
        "id": "USXfNfE0o2wd"
      }
    },
    {
      "cell_type": "code",
      "source": [
        "# Show work by entering a calculation\n",
        "# that gives the standard error\n"
      ],
      "metadata": {
        "id": "vLQKXe1Ko3HI"
      },
      "execution_count": null,
      "outputs": []
    },
    {
      "cell_type": "markdown",
      "source": [
        "iv. The margin of error (MoE) for a 95% confidence interval is <mark>??</mark>.\n",
        "\n",
        "-   Round your answer to two decimal places when typing it above."
      ],
      "metadata": {
        "id": "qzq314Bko8d7"
      }
    },
    {
      "cell_type": "code",
      "source": [
        "# Show work by entering a calculation\n",
        "# that gives the margin of error.\n"
      ],
      "metadata": {
        "id": "eLTcwGGUo74p"
      },
      "execution_count": null,
      "outputs": []
    },
    {
      "cell_type": "markdown",
      "source": [
        "v.  A 95% confidence interval for the mean SAT math score of all students at the university is from <mark>??</mark> to <mark>??</mark>.\n",
        "\n",
        "-   Round your answers to one decimal place when typing them above."
      ],
      "metadata": {
        "id": "9mg3EPKvpAW8"
      }
    },
    {
      "cell_type": "markdown",
      "source": [
        "## <a name=\"HW9q2b\">Question 2b</a>\n",
        "\n",
        "------------------------------------------------------------------------\n",
        "\n",
        "Interpret the meaning of the confidence interval you found in [Question 2a](#HW9q2a) in practical terms to a person who does not come from a statistics background.\n",
        "\n",
        "-   Be sure to keep in the mind the cautions from the lab regarding interpretations of confidence intervals.\n",
        "\n",
        "Based on your interpretation, answer the question below. Explain how you determined your answer.\n",
        "\n",
        "\n",
        "> Do you believe based on the data this school performs better than average?\n",
        "\n",
        "\n",
        "### Solution to Question 2b\n",
        "\n",
        "------------------------------------------------------------------------\n",
        "\n",
        "**Write your interpretation below:**\n",
        "\n",
        "\n",
        "\n",
        "<br>  \n",
        "<br>  \n",
        "\n",
        "Do you believe based on the data this school performs better than average? Explain.\n",
        "\n",
        "\n",
        "\n",
        "\n",
        "\n",
        "<br>  \n",
        "<br>  "
      ],
      "metadata": {
        "id": "d4aZ6bxJpftl"
      }
    },
    {
      "cell_type": "markdown",
      "source": [
        "# <a name=\"HW9q3\">Question 3</a>\n",
        "\n",
        "------------------------------------------------------------------------\n",
        "\n",
        "A researcher is interested in the sugar content of vanilla ice cream.\n",
        "They obtain random samples of $n=20$ brands (each sample is a half cup serving of ice cream) and finds an average of $18.05$ grams of sugar with a standard deviation of $5$ grams.\n",
        "Assuming the distribution of sugar content of all brands of vanilla ice cream is normally distributed, **find a 90% confidence interval for the mean amount of sugar in a half cup serving of vanilla ice cream.**\n",
        "\n",
        "-   Show your work by replacing each of the <mark>??</mark> below with an appropriate value.\n",
        "\n",
        "### Solution to Question 3\n",
        "\n",
        "------------------------------------------------------------------------\n",
        "\n",
        "i.  An initial point estimate is $\\mu \\approx $ <mark>??</mark>.\n",
        "\n",
        "ii. The value of $t_{\\alpha/2}$ for a 90% confidence level is <mark>??</mark>.\n",
        "\n",
        "-   Round your answer to three decimal places when typing it above.\n",
        "\n"
      ],
      "metadata": {
        "id": "GRZozg3hrHfe"
      }
    },
    {
      "cell_type": "code",
      "source": [
        "# Show work by entering a formula\n"
      ],
      "metadata": {
        "id": "3M4EJXeZrz-G"
      },
      "execution_count": null,
      "outputs": []
    },
    {
      "cell_type": "markdown",
      "source": [
        "iii. The standard error of the underlying sampling distribution is $\\mbox{SE}(\\bar{X}) =$ <mark>??</mark>.\n",
        "\n",
        "-   Round your answer to three decimal places when typing it above.\n"
      ],
      "metadata": {
        "id": "K8X9y0RTrz-S"
      }
    },
    {
      "cell_type": "code",
      "source": [
        "# Show work by entering a calculation\n",
        "# that gives the standard error\n"
      ],
      "metadata": {
        "id": "AugUsV0Crz-S"
      },
      "execution_count": null,
      "outputs": []
    },
    {
      "cell_type": "markdown",
      "source": [
        "iv. The margin of error (MoE) for a 90% confidence interval is <mark>??</mark>.\n",
        "\n",
        "-   Round your answer to three decimal places when typing it above."
      ],
      "metadata": {
        "id": "W-HNBrzWrz-S"
      }
    },
    {
      "cell_type": "code",
      "source": [
        "# Show work by entering a calculation\n",
        "# that gives the margin of error.\n"
      ],
      "metadata": {
        "id": "WAFhXBJGrz-U"
      },
      "execution_count": null,
      "outputs": []
    },
    {
      "cell_type": "markdown",
      "source": [
        "v.   A 90% confidence interval for the mean amount of sugar in a half cup serving of vanilla ice cream is from <mark>??</mark> grams to <mark>??</mark> grams.\n",
        "\n",
        "-   Round your answers to three decimal places when typing them above."
      ],
      "metadata": {
        "id": "l3rxe_kIrz-U"
      }
    },
    {
      "cell_type": "markdown",
      "source": [
        "# <a name=\"HW9q4\">Question 4</a>\n",
        "\n",
        "------------------------------------------------------------------------\n",
        "\n",
        "United Airlines Flight 179 is a nonstop flight from Boston to San Francisco.\n",
        "During 2019 the mean length of time for all flights was $357.9$ minutes and population standard deviation was $20.18$ minutes.\n",
        "You want to construct a 95% confidence interval for the mean length of time of the flight in 2023 based on a sample of flights in 2023.\n",
        "**What is the minimum size of the sample needed in order to have a margin of error of two minutes or less?**\n",
        "\n",
        "-   You may assume the standard deviation of the population of all flights in 2023 is equal to the standard deviation of the all flight lengths in 2019.\n",
        "\n",
        "## Solution to Question 4\n",
        "\n",
        "------------------------------------------------------------------------\n",
        "\n",
        "Show supporting work/calculations in the space below.\n",
        "Answer without any supporting work will not earn credit.\n",
        "\n",
        "\n",
        "\n",
        "\n",
        "<br>  \n",
        "<br>  \n"
      ],
      "metadata": {
        "id": "UeA3XV2Zssjl"
      }
    },
    {
      "cell_type": "code",
      "source": [
        "# Here's an R code cell if you'd like to use it!\n"
      ],
      "metadata": {
        "id": "6_rX2M9UpWNR"
      },
      "execution_count": null,
      "outputs": []
    },
    {
      "cell_type": "markdown",
      "source": [
        "# <a name=\"HW9q5\">Question 5</a>\n",
        "\n",
        "------------------------------------------------------------------------\n",
        "\n",
        "The dataset `Girls2004` from  the `resampledata` package contains samples of the the birth weights of baby girls born in Wyoming and Alaska. Before answering the questions you will need to first run the code cells below to install and load the `resampledata` package.\n",
        "\n"
      ],
      "metadata": {
        "id": "tMYxTxMCtEAt"
      }
    },
    {
      "cell_type": "code",
      "source": [
        "install.packages(\"resampledata\")  # install package in active session"
      ],
      "metadata": {
        "colab": {
          "base_uri": "https://localhost:8080/"
        },
        "id": "33hS9ffDtg-v",
        "outputId": "d00c1583-55fc-4df5-f152-1513d3edc53e"
      },
      "execution_count": null,
      "outputs": [
        {
          "output_type": "stream",
          "name": "stderr",
          "text": [
            "Installing package into ‘/usr/local/lib/R/site-library’\n",
            "(as ‘lib’ is unspecified)\n",
            "\n"
          ]
        }
      ]
    },
    {
      "cell_type": "code",
      "source": [
        "library(resampledata)  # load package"
      ],
      "metadata": {
        "id": "1uKN3CgftoS-"
      },
      "execution_count": null,
      "outputs": []
    },
    {
      "cell_type": "code",
      "source": [
        "summary(Girls2004)  # summary of data"
      ],
      "metadata": {
        "colab": {
          "base_uri": "https://localhost:8080/",
          "height": 142
        },
        "id": "k7O6gVyFvLFE",
        "outputId": "6c513b58-766f-43d6-c0aa-78be765b3c33"
      },
      "execution_count": null,
      "outputs": [
        {
          "output_type": "display_data",
          "data": {
            "text/plain": [
              "       ID        State   MothersAge Smoker       Weight       Gestation    \n",
              " Min.   : 1.00   AK:40   15-19: 6   No :69   Min.   :2182   Min.   :37.00  \n",
              " 1st Qu.:20.75   WY:40   20-24:29   Yes:11   1st Qu.:3076   1st Qu.:38.00  \n",
              " Median :40.50           25-29:22            Median :3331   Median :39.00  \n",
              " Mean   :40.50           30-34:15            Mean   :3362   Mean   :39.14  \n",
              " 3rd Qu.:60.25           35-39: 6            3rd Qu.:3709   3rd Qu.:40.00  \n",
              " Max.   :80.00           40-44: 2            Max.   :4592   Max.   :42.00  "
            ]
          },
          "metadata": {}
        }
      ]
    },
    {
      "cell_type": "markdown",
      "source": [
        "## <a name=\"HW9q5a\">Question 5a</a>\n",
        "\n",
        "------------------------------------------------------------------------\n",
        "\n",
        "Complete the given R code cell below to R find a 99% confidence interval for the difference in the mean weights of girls born in these two states. The units of weight for this data is grams. Include units with your estimate.\n",
        "\n",
        "### Solution to Question 5a\n",
        "\n",
        "------------------------------------------------------------------------\n",
        "\n",
        "<br>\n",
        "\n",
        "In addition to R code and output from that code below, **be sure to type a sentence indicating your answer in the space below.**\n",
        "\n",
        "-   Do not leave it for your reader to interpret the output.\n",
        "-   Round your answers to two decimal places when typing them.\n",
        "\n",
        "\n",
        "\n",
        "\n",
        "\n",
        "\n",
        "<br>  \n",
        "<br>  \n"
      ],
      "metadata": {
        "id": "76mAAxjmtm4x"
      }
    },
    {
      "cell_type": "code",
      "source": [
        "Weight <- Girls2004$Weight  # creates a vector birth weights\n",
        "\n",
        "# Create a vector of Alaska birth weights\n",
        "Weight.AK <-subset(??, select = ??,\n",
        "                   State == ??, drop = TRUE)\n",
        "\n",
        "# Create a vector of Wyoming birth weights\n",
        "Weight.WY <-subset(??, select = ??,\n",
        "                   State == ??, drop = TRUE)\n",
        "\n",
        "# Compute confidence interval\n",
        "t.test(??, ??, conf.level = ??)$conf.int"
      ],
      "metadata": {
        "id": "pFA-pTRtuBT9"
      },
      "execution_count": null,
      "outputs": []
    },
    {
      "cell_type": "markdown",
      "source": [
        "## <a name=\"HW9q5b\">Question 5b</a>\n",
        "\n",
        "------------------------------------------------------------------------\n",
        "\n",
        "Based on your previous answer, do you believe that there is a difference in the mean weights of babies born in these two states.\n",
        "**Explain why or why not.**\n",
        "\n",
        "### Solution to Question 5b\n",
        "\n",
        "------------------------------------------------------------------------\n",
        "\n",
        "**Be sure to provide a supporting explanation!**\n",
        "\n",
        "\n",
        "\n",
        "\n",
        "<br>  \n",
        "<br>  \n"
      ],
      "metadata": {
        "id": "UJSDYDA7tgPA"
      }
    },
    {
      "cell_type": "markdown",
      "source": [
        "## <a name=\"HW9q5c\">Question 5c</a>\n",
        "\n",
        "------------------------------------------------------------------------\n",
        "\n",
        "Construct an approximate 99% confidence interval by following these steps below.\n",
        "\n",
        "-   Show your work by replacing each of the <mark>??</mark> below with an appropriate value.\n",
        "\n",
        "### Solution to Question 5c\n",
        "\n",
        "------------------------------------------------------------------------\n",
        "\n",
        "i.  The mean of the weights of the Wyoming sample is <mark>??</mark> grams. The standard deviation of the weights of the Wyoming sample is <mark>??</mark> grams.\n",
        "\n",
        "-   Round your answers to two decimal places when typing them above.\n"
      ],
      "metadata": {
        "id": "e3-D8QjDuqOS"
      }
    },
    {
      "cell_type": "code",
      "source": [
        "# Enter a formula for the mean of the Wyoming sample\n",
        "\n",
        "\n",
        "# Enter a formula for the standard deviation of the Wyoming sample\n"
      ],
      "metadata": {
        "id": "mkExcitrvFOM"
      },
      "execution_count": null,
      "outputs": []
    },
    {
      "cell_type": "markdown",
      "source": [
        "iI.  The mean of the weights of the Alaska sample is <mark>??</mark> grams. The standard deviation of the weights of the Alaska sample is <mark>??</mark> grams.\n",
        "\n",
        "-   Round your answers to two decimal places when typing them above.\n"
      ],
      "metadata": {
        "id": "lVMljZmAvmHl"
      }
    },
    {
      "cell_type": "code",
      "source": [
        "# Enter a formula for the mean of the Alaska sample\n",
        "\n",
        "\n",
        "# Enter a formula for the standard deviation of the Alaska sample\n",
        "\n"
      ],
      "metadata": {
        "id": "s-cP233Gvmy4"
      },
      "execution_count": null,
      "outputs": []
    },
    {
      "cell_type": "markdown",
      "source": [
        "\n",
        "iii. If we use the degrees of freedom of the $t$ distribution equal to the minimum of $n_1-1$ and $n_2-1$, the value of $t_{\\alpha/2}$ for a 99% confidence interval is <mark>??</mark>.\n",
        "\n",
        "-   Round your answer to three decimal places when typing it above.\n"
      ],
      "metadata": {
        "id": "ICz_VBzivl_t"
      }
    },
    {
      "cell_type": "code",
      "source": [
        "# Show work by entering a formula\n"
      ],
      "metadata": {
        "id": "UidOW85VwNvO"
      },
      "execution_count": null,
      "outputs": []
    },
    {
      "cell_type": "markdown",
      "source": [
        "iv. Using the previous answers in [Question 5c](#HW9q5c), a 99% confidence interval for the the difference in the mean weights of girls born in these two states is from <mark>??</mark> grams to <mark>??</mark> grams.\n",
        "\n",
        "-   Round your answers to two decimal places when typing them above.\n"
      ],
      "metadata": {
        "id": "jw4xurhJwKd0"
      }
    },
    {
      "cell_type": "code",
      "source": [
        "# Feel free to use code cell for calculations\n",
        "\n"
      ],
      "metadata": {
        "id": "1qc9_uiFwb0O"
      },
      "execution_count": null,
      "outputs": []
    },
    {
      "cell_type": "markdown",
      "source": [
        "v.  How does your previous answer compare the to confidence interval you found in [Question 5a](#HW9q5a)? **Explain in a complete sentence or two.**\n",
        "\n",
        "\n",
        "\n",
        "\n",
        "\n",
        "<br>  \n",
        "<br>\n",
        "\n"
      ],
      "metadata": {
        "id": "zGbiR1TtwckH"
      }
    },
    {
      "cell_type": "markdown",
      "source": [
        "# <a name=\"HW9q6\">Question 6</a>\n",
        "\n",
        "------------------------------------------------------------------------\n",
        "\n",
        "The drug diflunisal is used to treat mild to moderate pain due to osteoarthritis (OA) and rheumatoid arthritis (RA). The ocular effects of diflunisal had not been considered until a study was conducted on its effect on intraocular pressure in glaucoma patients who were already receiving maximum therapy for glaucoma.  Suppose the change (mean ± sd ) in intraocular pressure after administration of diflunisal (follow-up – baseline) among 10 patients whose standard therapy was methazolamide and topical glaucoma medications was −1.6 ± 1.5 mm Hg. Assess the statistical significance of the results using a hypothesis test."
      ],
      "metadata": {
        "id": "rRLRCWauSpcH"
      }
    },
    {
      "cell_type": "markdown",
      "source": [
        "## <a name=\"HW9q6a\">Question 6a</a>\n",
        "\n",
        "------------------------------------------------------------------------\n",
        "\n",
        "What is the hypothesis you are testing? Write out the equations for the null and alternative hypothesis and explain in a sentence.\n",
        "\n",
        "### Solution to Question 6a\n",
        "\n",
        "------------------------------------------------------------------------\n",
        "\n",
        "<br>\n",
        "\n",
        "$H_0$: ??\n",
        "<br>\n",
        "$H_1$: ??\n",
        "\n",
        "<br>\n",
        "\n",
        "Explanation:\n",
        "\n",
        "\n",
        "<br>  \n",
        "<br>  "
      ],
      "metadata": {
        "id": "qEYz8UcNS74j"
      }
    },
    {
      "cell_type": "markdown",
      "source": [
        "## <a name=\"HW9q6b\">Question 6b</a>\n",
        "\n",
        "------------------------------------------------------------------------\n",
        "\n",
        "Perform the test and report a p-value.  What can you conclude from the results.\n",
        "\n",
        "### Solution to Question 6b\n",
        "\n",
        "------------------------------------------------------------------------\n",
        "\n",
        "Use the code cell below to calculate your results and provide a written explanation of what you conclude.\n",
        "\n",
        "<br>\n",
        "<br>\n"
      ],
      "metadata": {
        "id": "VC5Ck5QXU0XZ"
      }
    },
    {
      "cell_type": "code",
      "source": [
        "# code cell for Question 6b"
      ],
      "metadata": {
        "id": "5X2OJ5MqUzm7"
      },
      "execution_count": null,
      "outputs": []
    },
    {
      "cell_type": "markdown",
      "source": [
        "# <a name=\"HW9q7\">Question 7</a>\n",
        "\n",
        "------------------------------------------------------------------------\n",
        "\n",
        " Iron-deficiency anemia is an important nutritional health problem in the United States. A dietary assessment was performed on 51 boys 9 to 11 years of age whose families were below the poverty level. The mean daily iron intake among these boys was found to be 12.50 mg with standard deviation 4.75 mg. Suppose the mean daily iron intake among a large population of 9- to 11-year-old boys from all income strata is 14.44 mg. We want to test whether the mean iron intake among the low-income group is different from that of the general population."
      ],
      "metadata": {
        "id": "7FFVSimlXSZM"
      }
    },
    {
      "cell_type": "markdown",
      "source": [
        "## <a name=\"HW9q7a\">Question 7a</a>\n",
        "\n",
        "------------------------------------------------------------------------\n",
        "\n",
        "State the hypotheses you would use to answer this question.  Write out the equations for the null and alternative hypothesis and explain in a sentence.\n",
        "\n",
        "### Solution to Question 7a\n",
        "\n",
        "------------------------------------------------------------------------\n",
        "\n",
        "<br>\n",
        "\n",
        "$H_0$: ??\n",
        "<br>\n",
        "$H_1$: ??\n",
        "\n",
        "<br>\n",
        "\n",
        "Explanation:\n",
        "\n",
        "\n",
        "<br>  \n",
        "<br>  "
      ],
      "metadata": {
        "id": "36tDV1s8Xcif"
      }
    },
    {
      "cell_type": "markdown",
      "source": [
        "## <a name=\"HW9q7b\">Question 7b</a>\n",
        "\n",
        "------------------------------------------------------------------------\n",
        "\n",
        "Perform the test and report a p-value.  What can you conclude from the results.\n",
        "\n",
        "### Solution to Question 7b\n",
        "\n",
        "------------------------------------------------------------------------\n",
        "\n",
        "Use the code cell below to calculate your results and provide a written explanation of what you conclude.\n",
        "\n",
        "<br>\n",
        "<br>"
      ],
      "metadata": {
        "id": "ZlG99_JQXp0v"
      }
    }
  ]
}