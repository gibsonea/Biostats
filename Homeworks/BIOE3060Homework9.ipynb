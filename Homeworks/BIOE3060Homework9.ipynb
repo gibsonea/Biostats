{
  "nbformat": 4,
  "nbformat_minor": 0,
  "metadata": {
    "colab": {
      "provenance": [],
      "include_colab_link": true
    },
    "kernelspec": {
      "name": "ir",
      "display_name": "R"
    },
    "language_info": {
      "name": "R"
    }
  },
  "cells": [
    {
      "cell_type": "markdown",
      "metadata": {
        "id": "view-in-github",
        "colab_type": "text"
      },
      "source": [
        "<a href=\"https://colab.research.google.com/github/gibsonea/Biostats/blob/main/Homeworks/BIOE3060Homework9.ipynb\" target=\"_parent\"><img src=\"https://colab.research.google.com/assets/colab-badge.svg\" alt=\"Open In Colab\"/></a>"
      ]
    },
    {
      "cell_type": "markdown",
      "source": [
        "# Homework 9\n",
        "\n",
        "---"
      ],
      "metadata": {
        "id": "TLH2NCL-V8J_"
      }
    },
    {
      "cell_type": "markdown",
      "source": [
        "## <a name=\"HW1Inst\">Instructions:</a>\n",
        "---\n",
        "\n",
        "1. <font color=\"tomato\">Either click the COPY TO DRIVE button or use the menu File/Save/Save a Copy to save your own version of the notebook in your own folder in Google Drive.</font>\n",
        "\n",
        "  - If you do not have a Google account, you will need to create a Google account in order to create your own individual copy of this notebook.\n",
        "  - By default, the notebook will be saved in a folder named **Colab Notebooks** in your drive.\n",
        "  - Feel free to name and store the notebook wherever you like!\n",
        "\n",
        "2. <font color=\"mediumseagreen\">After you have copied the notebook into your Drive, you can begin editing and saving your work.</font>\n",
        "\n",
        "\n",
        "**Upload your completed assignment into Canvas as a Google Colab (or Jupyter) Notebook with file extension `.ipynb`.**\n",
        "\n",
        "**You must provide supporting work for your all of your answers.**\n",
        "\n",
        "\n",
        "\n",
        "  - <font color=\"dodgerblue\">That work will include using R code cells.</font>\n",
        "    - **Feel free to insert as much R code as you like.**\n",
        "    - You must interpret or explain how the output of a code cell is being utilized to solve the problem.\n",
        "    - **Code with incomplete or missing explanations of why the output is useful may not receive full credit.**\n",
        "  - <font color=\"dodgerblue\">Your work will also involve writing explanations and justifications in text cells.</font>\n",
        "    - **Be sure to type/write out the steps of your work/explanation so I can see how you arrived at your answer.**\n",
        "  - <font color=\"dodgerblue\">Your work in some parts  may involve doing algebra and/or calculus.</font>\n",
        "    - Either type your work in the space below using LaTeX for mathematical equations.\n",
        "      - Here's a helpful [Quick Reference Guide for LaTeX](https://colab.research.google.com/drive/1voDDmLfHmRWzWQW5yiHfqYsjGPFqdovP?usp=sharing).\n",
        "      - Here's a helpful [LaTeX math symbol gallery](https://artofproblemsolving.com/wiki/index.php/LaTeX:Symbols).\n",
        "      - **Learning LaTeX is super useful and might even be enjoyable!**\n",
        "    - Or you can write your work on paper/tablet, take a picture of your work, and then insert an image of your work.\n",
        "    - Or you can Write your work on paper/tablet and submit to me separately when the assignment is due.\n",
        "   \n",
        "\n",
        "## Important Academic Policies:\n",
        "---\n",
        "\n",
        "- **Be your own work.** Though you may collaborate with others, everyone is responsible for writing up the work in their own way using their own methods. Plagiarism of any form is not tolerated.\n",
        "- **Be complete.** You must provide all work and/or explanations needed to find the solution. Answers with insufficient or incomplete supporting work may lose credit.\n",
        "- **Adhere to the Code of Academic Honesty.**\n",
        "- **Be clearly written (and legible if written).** Your solution to a problem must be clear, written in complete sentences. You may lose credit for work that is unclear or hard to follow.\n",
        "\n",
        "## <font color=\"dodgerblue\">Let me know if you need help, and **GOOD LUCK!!!**</font>\n",
        "\n",
        "----"
      ],
      "metadata": {
        "id": "_3mKEGX-f9eA"
      }
    },
    {
      "cell_type": "markdown",
      "source": [
        "# <a name=\"HW9q1\">Question 1: </a>\n",
        "\n",
        "---\n",
        "\n",
        "Blood analysis was performed for 9 patients with aplastic anemia.  The data on % reticulocyte (or percentage of red blood cells) and density of lymphocytes is shown in Table 11.17.  \n",
        "\n",
        "<figure>\n",
        "<img\n",
        "src=\"https://raw.githubusercontent.com/gibsonea/Biostats/main/Images/Anemia.png\" width=\"300\">\n",
        "\n",
        "\n",
        "<br>\n",
        "\n",
        "\n"
      ],
      "metadata": {
        "id": "i0PaAD5WgFx9"
      }
    },
    {
      "cell_type": "markdown",
      "source": [
        "## <a name=\"HW9q1a\">Question 1a</a>\n",
        "\n",
        "---\n",
        "\n",
        "Perform a linear regression of lymphocytes (y) on % reticulocyte (x) and report the coefficients.  Make a scatterplot of the data and overlay the regression line (include labels).\n",
        "\n",
        "\n",
        "\n",
        "<br>\n",
        "\n",
        "\n",
        "\n",
        "### Solution to Question 1a\n",
        "\n",
        "---\n",
        "\n",
        "<br>\n",
        "\n",
        "Answer with the code cell below.\n",
        "\n",
        "<br>\n",
        "\n"
      ],
      "metadata": {
        "id": "22H2NMxVhzvm"
      }
    },
    {
      "cell_type": "code",
      "source": [
        "# First you will need to load the dataset\n",
        "anemia <- read.csv(\"https://raw.githubusercontent.com/gibsonea/Biostats/main/Datasets/anemia.csv\")\n",
        "str(anemia) #displays the variable names and types"
      ],
      "metadata": {
        "id": "qlm357gRjsou"
      },
      "execution_count": null,
      "outputs": []
    },
    {
      "cell_type": "code",
      "source": [
        "# Code for Question 1a\n",
        "\n"
      ],
      "metadata": {
        "id": "JNSGMYBnwpin"
      },
      "execution_count": null,
      "outputs": []
    },
    {
      "cell_type": "markdown",
      "source": [
        "## <a name=\"HW9q1b\">Question 1b</a>\n",
        "\n",
        "---\n",
        "\n",
        "Is there a dependence between the variables?  Write down the hypotheses you will test and describe in a few sentences.  \n",
        "\n",
        "<br>\n",
        "\n",
        "\n",
        "### Solution to Question 1b\n",
        "\n",
        "---\n",
        "<br>\n",
        "\n",
        "$H_0$:\n",
        "\n",
        "$H_1$:\n",
        "\n",
        "\n",
        "\n",
        "\n",
        "<br>  \n",
        "<br>  \n",
        "<br>  \n"
      ],
      "metadata": {
        "id": "zQLLl9jRt8b4"
      }
    },
    {
      "cell_type": "markdown",
      "source": [
        "## <a name=\"HW9q1c\">Question 1c</a>\n",
        "\n",
        "---\n",
        "\n",
        "Use an F test for linear regression and solve for the p-value.  What do you conclude from your test?  \n",
        "\n",
        "<br>\n",
        "\n",
        "\n",
        "### Solution to Question 1c\n",
        "\n",
        "---\n",
        "\n",
        "\n",
        "\n",
        "\n",
        "\n",
        "\n",
        "<br>  \n",
        "<br>  \n",
        "<br>  \n"
      ],
      "metadata": {
        "id": "plGt1TY53fB7"
      }
    },
    {
      "cell_type": "code",
      "source": [
        "#code for calculations"
      ],
      "metadata": {
        "id": "-RDHyBaFtEqC"
      },
      "execution_count": null,
      "outputs": []
    },
    {
      "cell_type": "markdown",
      "source": [
        "## <a name=\"HW9q1d\">Question 1d</a>\n",
        "\n",
        "---\n",
        "\n",
        "What is the $R^2$ value for your linear regression?\n",
        "\n",
        "Note that $R^2 = \\frac{RegressionSS}{TotalSS}$\n",
        "\n",
        "<br>\n",
        "\n",
        "\n",
        "### Solution to Question 1d\n",
        "\n",
        "---\n",
        "\n",
        "\n",
        "<br>  \n",
        "<br>  \n",
        "<br>  \n"
      ],
      "metadata": {
        "id": "-BS0AimcuK8N"
      }
    },
    {
      "cell_type": "code",
      "source": [
        "#code cell for calculations"
      ],
      "metadata": {
        "id": "qrpv1p37t0Zz"
      },
      "execution_count": null,
      "outputs": []
    },
    {
      "cell_type": "markdown",
      "source": [
        "## <a name=\"HW9q1e\">Question 1e</a>\n",
        "\n",
        "---\n",
        "\n",
        "What is the standard error for the slope of the regression line?\n",
        "\n",
        "\n",
        "<br>\n",
        "\n",
        "\n",
        "### Solution to Question 1e\n",
        "\n",
        "---\n",
        "\n",
        "\n",
        "\n",
        "<br>  \n",
        "<br>  \n",
        "<br>  \n"
      ],
      "metadata": {
        "id": "g2GWEnbF4uzQ"
      }
    },
    {
      "cell_type": "code",
      "source": [
        "# code cell for calculating"
      ],
      "metadata": {
        "id": "094uuTHQ5_Iu"
      },
      "execution_count": null,
      "outputs": []
    },
    {
      "cell_type": "markdown",
      "source": [
        "# <a name=\"HW8q2\">Question 2:  </a>\n",
        "\n",
        "---\n",
        "\n",
        "Transient hypothyroxinemia, a common finding in premature infants, is not thought to have long-term consequences or to require treatment. A study was performed to investigate whether hypothyroxinemia in premature infants is a cause of subsequent motor and cognitive abnormalities. Blood thyroxine values were obtained on routine screening in the first week of life from 536 infants who weighed 2000 g or less at birth and were born at 33 weeks gestation or earlier. The data in Table 11.21 were presented concerning the relationship between mean thyroxine level and gestational age.\n",
        "\n",
        "<br>\n",
        "<figure>\n",
        "<img\n",
        "src=\"https://raw.githubusercontent.com/gibsonea/Biostats/main/Images/Thyroxine.png\" width=\"300\">\n",
        "\n",
        "\n"
      ],
      "metadata": {
        "id": "yE3Ryr2ujM_J"
      }
    },
    {
      "cell_type": "code",
      "source": [
        "#load in dataset\n",
        "infant <- read.csv(\"https://raw.githubusercontent.com/gibsonea/Biostats/main/Datasets/Infant.csv\")\n",
        "str(infant)"
      ],
      "metadata": {
        "id": "EvpGVAph0dbr"
      },
      "execution_count": null,
      "outputs": []
    },
    {
      "cell_type": "markdown",
      "source": [
        "## <a name=\"HW9q2a\">Question 2a</a>\n",
        "\n",
        "---\n",
        "\n",
        "What is the best-fitting regression line relating mean thyroxine level to gestational age?  Make a scatterplot of the data and overlay the regression line (include labels).\n",
        "\n",
        "\n",
        "### Solution to Question 2a\n",
        "\n",
        "---\n",
        "\n",
        "Use code cell\n",
        "\n",
        "\n",
        "<br>  \n",
        "<br>  \n",
        "\n",
        "\n",
        "\n"
      ],
      "metadata": {
        "id": "9n1dU5gFw_2v"
      }
    },
    {
      "cell_type": "code",
      "source": [
        "# code cell for Question 2a"
      ],
      "metadata": {
        "id": "J73IpOetEADe"
      },
      "execution_count": null,
      "outputs": []
    },
    {
      "cell_type": "markdown",
      "source": [
        "## <a name=\"HW9q2b\">Question 2b</a>\n",
        "\n",
        "---\n",
        "\n",
        "Is there a significant association between mean thyroxine level and gestational age? Perform the appropriate hypothesis test and report a p-value.\n",
        "\n",
        "### Solution to Question 2b\n",
        "\n",
        "---\n",
        "\n",
        "<br>\n",
        "\n",
        "\n",
        "\n",
        "\n"
      ],
      "metadata": {
        "id": "PnBvDytWxmuy"
      }
    },
    {
      "cell_type": "code",
      "source": [
        "# Code cell for calculations\n",
        "\n"
      ],
      "metadata": {
        "id": "xKQdCgExyKLK"
      },
      "execution_count": null,
      "outputs": []
    },
    {
      "cell_type": "markdown",
      "source": [
        "## <a name=\"HW9q2c\">Question 2c</a>\n",
        "\n",
        "---\n",
        "\n",
        "Show a plot of the residual values overlaid with a line at y = 0.  Do you think that the data fits a linear model?\n",
        "\n",
        "\n",
        "\n",
        "### Solution to Question 2c\n",
        "\n",
        "---\n",
        "\n",
        "\n",
        "\n",
        "<br>\n",
        "<br>\n",
        "\n",
        "\n",
        "\n",
        "\n",
        "\n"
      ],
      "metadata": {
        "id": "0xRopFxTyIja"
      }
    },
    {
      "cell_type": "code",
      "source": [
        "# code cell for Question 2c"
      ],
      "metadata": {
        "id": "b9EcyVWAy4P6"
      },
      "execution_count": null,
      "outputs": []
    },
    {
      "cell_type": "markdown",
      "source": [
        "# <a name=\"HW9q3\">Question 3: </a>\n",
        "\n",
        "---\n",
        "\n",
        "Forced expiratory volume (FEV) is an index of pulmonary function that measures the volume of air expelled after 1 second of constant effort.  The dataset FEV which contains determinations of FEV in 1980 on 654 children ages 3 through 19 who were seen in the Childhood Respiratory Disease (CRD) Study in East Boston, Massachusetts. These data are part of a longitudinal study to follow the change in pulmonary function over time in children.\n",
        "\n",
        "\n",
        "<br>\n",
        "<figure>\n",
        "<img\n",
        "src=\"https://raw.githubusercontent.com/gibsonea/Biostats/main/Images/FEVdatatableinfo.png\" width=\"300\">\n",
        "\n"
      ],
      "metadata": {
        "id": "N_jihXs-iCNN"
      }
    },
    {
      "cell_type": "code",
      "source": [
        "#load in dataset\n",
        "FEV <- read.csv(\"https://raw.githubusercontent.com/gibsonea/Biostats/main/Datasets/FEV.csv\")\n",
        "str(FEV)"
      ],
      "metadata": {
        "id": "6Hh5nRxp8L_D"
      },
      "execution_count": null,
      "outputs": []
    },
    {
      "cell_type": "markdown",
      "source": [
        "## <a name=\"HW9q3a\">Question 3a</a>\n",
        "\n",
        "---\n",
        "\n",
        "We want to look at the dependence of FEV on age.  Perform a linear regression of FEV on age.  Do the regression separately for boys and girls.  Make two plots of the two groups of data and overlay the regression lines (include labels).\n",
        "\n",
        "### Solution to Question 3a\n",
        "\n",
        "---\n",
        "\n",
        "\n",
        "<br>\n",
        "<br>\n",
        "\n"
      ],
      "metadata": {
        "id": "yOPxrlIp3aYY"
      }
    },
    {
      "cell_type": "code",
      "source": [
        "#code cell for Question 3a"
      ],
      "metadata": {
        "id": "EY5YB7GP1Lzu"
      },
      "execution_count": null,
      "outputs": []
    },
    {
      "cell_type": "markdown",
      "source": [
        "## <a name=\"HW8q3b\">Question 3b</a>\n",
        "\n",
        "---\n",
        "\n",
        "What is the predicted FEV for a 13 year old boy?\n",
        "\n",
        "### Solution to Question 3b\n",
        "\n",
        "---\n",
        "\n",
        "<br>\n",
        "<br>\n",
        "<br>\n",
        "\n"
      ],
      "metadata": {
        "id": "Jgt__HF3-01K"
      }
    },
    {
      "cell_type": "code",
      "source": [
        "# code cell for Question 3b"
      ],
      "metadata": {
        "id": "0N_f9OLF_kn-"
      },
      "execution_count": null,
      "outputs": []
    },
    {
      "cell_type": "markdown",
      "source": [
        "## <a name=\"HW9q3c\">Question 3c</a>\n",
        "\n",
        "---\n",
        "\n",
        "What is the 95% confidence interval for your estimate in question 3b?\n",
        "\n",
        "### Solution to Question 3c\n",
        "\n",
        "---\n",
        "\n",
        "<br>\n",
        "<br>\n",
        "<br>\n",
        "\n"
      ],
      "metadata": {
        "id": "DCo7cH3h_Mxv"
      }
    },
    {
      "cell_type": "code",
      "source": [
        "#code cell for Question 3c"
      ],
      "metadata": {
        "id": "4_qfr4m5_tqe"
      },
      "execution_count": null,
      "outputs": []
    }
  ]
}