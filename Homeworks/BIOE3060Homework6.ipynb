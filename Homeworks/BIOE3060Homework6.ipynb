{
  "nbformat": 4,
  "nbformat_minor": 0,
  "metadata": {
    "colab": {
      "provenance": [],
      "include_colab_link": true
    },
    "kernelspec": {
      "name": "ir",
      "display_name": "R"
    },
    "language_info": {
      "name": "R"
    }
  },
  "cells": [
    {
      "cell_type": "markdown",
      "metadata": {
        "id": "view-in-github",
        "colab_type": "text"
      },
      "source": [
        "<a href=\"https://colab.research.google.com/github/gibsonea/Biostats/blob/main/Homeworks/BIOE3060Homework6.ipynb\" target=\"_parent\"><img src=\"https://colab.research.google.com/assets/colab-badge.svg\" alt=\"Open In Colab\"/></a>"
      ]
    },
    {
      "cell_type": "markdown",
      "source": [
        "# Homework 6\n",
        "\n",
        "---"
      ],
      "metadata": {
        "id": "SNItVP8cozZT"
      }
    },
    {
      "cell_type": "markdown",
      "source": [
        "## <a name=\"HW1Inst\">Instructions:</a>\n",
        "---\n",
        "\n",
        "1. <font color=\"tomato\">Either click the COPY TO DRIVE button or use the menu File/Save/Save a Copy to save your own version of the notebook in your own folder in Google Drive.</font>\n",
        "\n",
        "  - If you do not have a Google account, you will need to create a Google account in order to create your own individual copy of this notebook.\n",
        "  - By default, the notebook will be saved in a folder named **Colab Notebooks** in your drive.\n",
        "  - Feel free to name and store the notebook wherever you like!\n",
        "v\n",
        "2. <font color=\"mediumseagreen\">After you have copied the notebook into your Drive, you can begin editing and saving your work.</font>\n",
        "\n",
        "\n",
        "**Upload your completed assignment into Canvas as a Google Colab (or Jupyter) Notebook with file extension `.ipynb`.**\n",
        "\n",
        "\n",
        "**You must provide supporting work for your all of your answers.**\n",
        "\n",
        "\n",
        "\n",
        "  - <font color=\"dodgerblue\">That work will include using R code cells.</font>\n",
        "    - **Feel free to insert as much R code as you like.**\n",
        "    - You must interpret or explain how the output of a code cell is being utilized to solve the problem.\n",
        "    - **Code with incomplete or missing explanations of why the output is useful may not receive full credit.**\n",
        "  - <font color=\"dodgerblue\">Your work will also involve writing explanations and justifications in text cells.</font>\n",
        "    - **Be sure to type/write out the steps of your work/explanation so I can see how you arrived at your answer.**\n",
        "  - <font color=\"dodgerblue\">Your work in some parts  may involve doing algebra and/or calculus.</font>\n",
        "    - Either type your work in the space below using LaTeX for mathematical equations.\n",
        "      - Here's a helpful [Quick Reference Guide for LaTeX](https://colab.research.google.com/drive/1voDDmLfHmRWzWQW5yiHfqYsjGPFqdovP?usp=sharing).\n",
        "      - Here's a helpful [LaTeX math symbol gallery](https://artofproblemsolving.com/wiki/index.php/LaTeX:Symbols).\n",
        "      - **Learning LaTeX is super useful and might even be enjoyable!**\n",
        "    - Or you can write your work on paper/tablet, take a picture of your work, and then insert an image of your work.\n",
        "    - Or you can Write your work on paper/tablet and submit to me separately when the assignment is due.\n",
        "   \n",
        "\n",
        "## Important Academic Policies:\n",
        "---\n",
        "\n",
        "- **Be your own work.** Though you may collaborate with others, everyone is responsible for writing up the work in their own way using their own methods. Plagiarism of any form is not tolerated.\n",
        "- **Be complete.** You must provide all work and/or explanations needed to find the solution. Answers with insufficient or incomplete supporting work may lose credit.\n",
        "- **Adhere to the Code of Academic Honesty.**\n",
        "- **Be clearly written (and legible if written).** Your solution to a problem must be clear, written in complete sentences. You may lose credit for work that is unclear or hard to follow.\n",
        "\n",
        "\n",
        "----"
      ],
      "metadata": {
        "id": "_3mKEGX-f9eA"
      }
    },
    {
      "cell_type": "markdown",
      "source": [
        "# <a name=\"HW6q1\">Question 1</a>\n",
        "\n",
        "------------------------------------------------------------------------\n",
        "\n",
        "The value of mammography as a screening test for breast cancer has been controversial, particularly among young women. A study was recently performed looking at the rate of false positives for repeated screening mammograms among approximately 10,000 women who were members of Harvard Pilgrim Health Care, a large health-maintenance organization in New England. The study reported that of a total of 1996 tests given to 40- to 49-year-old women, 156 yielded false-positive results.\n",
        "\n",
        "\n"
      ],
      "metadata": {
        "id": "PkkYp5tXnT5U"
      }
    },
    {
      "cell_type": "markdown",
      "source": [
        "## <a name=\"HW6q1a\">Question 1a</a>\n",
        "\n",
        "------------------------------------------------------------------------\n",
        "\n",
        "What does a false-positive test result mean, in words, in this context?\n",
        "\n",
        "### Solution to Question 1a\n",
        "\n",
        "------------------------------------------------------------------------\n",
        "\n",
        "\n",
        "\n",
        "\n",
        "\n",
        "<br>  \n",
        "<br>  \n",
        "\n"
      ],
      "metadata": {
        "id": "CE0l8eKQobMr"
      }
    },
    {
      "cell_type": "markdown",
      "source": [
        "## <a name=\"HW6q1b\">Question 1b</a>\n",
        "\n",
        "------------------------------------------------------------------------\n",
        "\n",
        "Some physicians feel a mammogram is not cost- effective unless one can be reasonably certain (e.g., 95% certain) that the false-positive rate is less than 10%. Can you address this issue based on the preceding data? (Hint: Use a Wald Confidence Interval approach.)\n",
        "\n",
        "### Solution to Question 1b\n",
        "\n",
        "------------------------------------------------------------------------\n",
        "\n",
        "Solve this by hand, you can check your answer with code if you'd like.\n",
        "\n",
        "\n",
        "\n",
        "\n",
        "\n",
        "<br>  \n",
        "<br>  \n",
        "\n"
      ],
      "metadata": {
        "id": "2ek1l3MGoUqY"
      }
    },
    {
      "cell_type": "markdown",
      "source": [
        "## <a name=\"HW6q1c\">Question 1c</a>\n",
        "\n",
        "------------------------------------------------------------------------\n",
        "\n",
        "Suppose a woman is given a mammogram every 2 years starting at age 40. What is the probability that she will have at least one false-positive test result among 5 screening tests during her forties? (Assume the repeated screening tests are independent.)\n",
        "\n",
        "### Solution to Question 1c\n",
        "\n",
        "------------------------------------------------------------------------\n",
        "\n",
        "\n",
        "\n",
        "\n",
        "\n",
        "\n",
        "<br>  \n",
        "<br>  "
      ],
      "metadata": {
        "id": "GtO6EoBVoTY_"
      }
    },
    {
      "cell_type": "markdown",
      "source": [
        "# <a name=\"HW6q2\">Question 2</a>\n",
        "\n",
        "------------------------------------------------------------------------\n",
        "\n",
        "The proportion of deaths due to lung cancer in males ages 15-64 in England and Wales during the period 1970-1972 was 12%.  Suppose that of 20 deaths that occur among male workers in this age group who have worked for at least 1 year in a chemical plant, 5 are due to lung cancer. We wish to determine whether there is a difference between the proportion of deaths from lung cancer in this plant and the proportion in the general population.\n",
        "\n"
      ],
      "metadata": {
        "id": "54lC7VVaolun"
      }
    },
    {
      "cell_type": "markdown",
      "source": [
        "## <a name=\"HW6q2a\">Question 2a</a>\n",
        "\n",
        "------------------------------------------------------------------------\n",
        "\n",
        "State the hypotheses to use in answering this question.  Write down the null and alternative hypotheses and state each in a sentence.\n",
        "\n",
        "\n",
        "\n",
        "### Solution to Question 2a\n",
        "\n",
        "------------------------------------------------------------------------\n",
        "\n",
        "<br>\n",
        "<br>\n"
      ],
      "metadata": {
        "id": "EedeyYDap1qL"
      }
    },
    {
      "cell_type": "markdown",
      "source": [
        "## <a name=\"HW6q2b\">Question 2b</a>\n",
        "\n",
        "------------------------------------------------------------------------\n",
        "\n",
        "Is a one-sided or two-sided test appropriate here?  Why?\n",
        "\n",
        "\n",
        "### Solution to Question 2b\n",
        "\n",
        "------------------------------------------------------------------------\n",
        "\n",
        "\n",
        "\n",
        "<br>  \n",
        "<br>  \n",
        "\n",
        "\n",
        "\n"
      ],
      "metadata": {
        "id": "d4aZ6bxJpftl"
      }
    },
    {
      "cell_type": "markdown",
      "source": [
        "## <a name=\"HW6q2c\">Question 2c</a>\n",
        "\n",
        "------------------------------------------------------------------------\n",
        "\n",
        "Perform the test and report a p value.  First check on whether you would use an exact binomial test or a one-sample test for a binomial proportion - normal-theory method.\n",
        "\n",
        "\n",
        "### Solution to Question 2c\n",
        "\n",
        "------------------------------------------------------------------------\n",
        "\n",
        "\n",
        "Calculate this by hand, you can double check with code if you'd like.\n",
        "<br>  \n",
        "<br>  \n",
        "\n",
        "\n",
        "\n"
      ],
      "metadata": {
        "id": "6gyvz5SSTtvF"
      }
    },
    {
      "cell_type": "markdown",
      "source": [
        "## <a name=\"HW6q2d\">Question 2d</a>\n",
        "\n",
        "------------------------------------------------------------------------\n",
        "\n",
        "After reviewing the results from one plant, the company decides to expand its study to include results from three additional plants. It finds that of 90 deaths occurring among 15- to 64-year-old male workers who have worked for a least 1 year in these four plants, 19 are due to lung cancer.\n",
        "\n",
        "Perform the hypothesis test and report the p value.\n",
        "\n",
        "<br>\n",
        "\n",
        "\n",
        "### Solution to Question 2d\n",
        "\n",
        "------------------------------------------------------------------------\n",
        "\n",
        "Calculate this by hand, you can double check with code if you'd like.\n",
        "<br>  \n",
        "<br>  \n",
        "\n",
        "\n",
        "\n",
        "\n"
      ],
      "metadata": {
        "id": "_eQiTtM1YIg9"
      }
    },
    {
      "cell_type": "markdown",
      "source": [
        "# <a name=\"HW6q3\">Question 3</a>\n",
        "\n",
        "------------------------------------------------------------------------\n",
        "\n",
        "Suppose the annual incidence of asthma in the general population among children 0-4 years of age is 1.4% for boys and 1% for girls. In one study, 10 cases are observed over 1 year among 500 boys 0-4 years old with smoking mothers. Test whether there is a significant difference in asthma incidence between this group and the general population.\n",
        "\n"
      ],
      "metadata": {
        "id": "GRZozg3hrHfe"
      }
    },
    {
      "cell_type": "markdown",
      "source": [
        "## <a name=\"HW6q3a\">Question 3a</a>\n",
        "\n",
        "------------------------------------------------------------------------\n",
        "\n",
        "Write down the null and alternate hypothesis and state in a sentence.\n",
        "\n",
        "<br>\n",
        "\n",
        "\n",
        "### Solution to Question 3a\n",
        "\n",
        "------------------------------------------------------------------------\n",
        "\n",
        "\n",
        "<br>  \n",
        "<br>  \n",
        "\n",
        "\n",
        "\n",
        "\n"
      ],
      "metadata": {
        "id": "EEGbBsTD1u-K"
      }
    },
    {
      "cell_type": "markdown",
      "source": [
        "## <a name=\"HW6q3b\">Question 3b</a>\n",
        "\n",
        "------------------------------------------------------------------------\n",
        "\n",
        "Perform the test and report a p-value.  What do you conclude from this study.\n",
        "\n",
        "<br>\n",
        "\n",
        "\n",
        "### Solution to Question 3b\n",
        "\n",
        "------------------------------------------------------------------------\n",
        "\n",
        "\n",
        "<br>  \n",
        "<br>  \n",
        "\n",
        "\n",
        "\n",
        "\n"
      ],
      "metadata": {
        "id": "RkAX-hDH2EIO"
      }
    }
  ]
}