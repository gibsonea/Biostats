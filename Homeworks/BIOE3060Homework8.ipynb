{
  "nbformat": 4,
  "nbformat_minor": 0,
  "metadata": {
    "colab": {
      "provenance": [],
      "toc_visible": true,
      "include_colab_link": true
    },
    "kernelspec": {
      "name": "ir",
      "display_name": "R"
    },
    "language_info": {
      "name": "R"
    }
  },
  "cells": [
    {
      "cell_type": "markdown",
      "metadata": {
        "id": "view-in-github",
        "colab_type": "text"
      },
      "source": [
        "<a href=\"https://colab.research.google.com/github/gibsonea/Biostats/blob/main/Homeworks/BIOE3060Homework8.ipynb\" target=\"_parent\"><img src=\"https://colab.research.google.com/assets/colab-badge.svg\" alt=\"Open In Colab\"/></a>"
      ]
    },
    {
      "cell_type": "markdown",
      "source": [
        "# Homework 8\n",
        "\n",
        "---"
      ],
      "metadata": {
        "id": "TLH2NCL-V8J_"
      }
    },
    {
      "cell_type": "markdown",
      "source": [
        "## <a name=\"HW1Inst\">Instructions:</a>\n",
        "---\n",
        "\n",
        "1. <font color=\"tomato\">Either click the COPY TO DRIVE button or use the menu File/Save/Save a Copy to save your own version of the notebook in your own folder in Google Drive.</font>\n",
        "\n",
        "  - If you do not have a Google account, you will need to create a Google account in order to create your own individual copy of this notebook.\n",
        "  - By default, the notebook will be saved in a folder named **Colab Notebooks** in your drive.\n",
        "  - Feel free to name and store the notebook wherever you like!\n",
        "\n",
        "2. <font color=\"mediumseagreen\">After you have copied the notebook into your Drive, you can begin editing and saving your work.</font>\n",
        "\n",
        "\n",
        "**Upload your completed assignment into Canvas as a Google Colab (or Jupyter) Notebook with file extension `.ipynb`.**\n",
        "\n",
        "**You must provide supporting work for your all of your answers.**\n",
        "\n",
        "\n",
        "\n",
        "  - <font color=\"dodgerblue\">That work will include using R code cells.</font>\n",
        "    - **Feel free to insert as much R code as you like.**\n",
        "    - You must interpret or explain how the output of a code cell is being utilized to solve the problem.\n",
        "    - **Code with incomplete or missing explanations of why the output is useful may not receive full credit.**\n",
        "  - <font color=\"dodgerblue\">Your work will also involve writing explanations and justifications in text cells.</font>\n",
        "    - **Be sure to type/write out the steps of your work/explanation so I can see how you arrived at your answer.**\n",
        "  - <font color=\"dodgerblue\">Your work in some parts  may involve doing algebra and/or calculus.</font>\n",
        "    - Either type your work in the space below using LaTeX for mathematical equations.\n",
        "      - Here's a helpful [Quick Reference Guide for LaTeX](https://colab.research.google.com/drive/1voDDmLfHmRWzWQW5yiHfqYsjGPFqdovP?usp=sharing).\n",
        "      - Here's a helpful [LaTeX math symbol gallery](https://artofproblemsolving.com/wiki/index.php/LaTeX:Symbols).\n",
        "      - **Learning LaTeX is super useful and might even be enjoyable!**\n",
        "    - Or you can write your work on paper/tablet, take a picture of your work, and then insert an image of your work.\n",
        "    - Or you can Write your work on paper/tablet and submit to me separately when the assignment is due.\n",
        "   \n",
        "\n",
        "## Important Academic Policies:\n",
        "---\n",
        "\n",
        "- **Be your own work.** Though you may collaborate with others, everyone is responsible for writing up the work in their own way using their own methods. Plagiarism of any form is not tolerated.\n",
        "- **Be complete.** You must provide all work and/or explanations needed to find the solution. Answers with insufficient or incomplete supporting work may lose credit.\n",
        "- **Adhere to the Code of Academic Honesty.**\n",
        "- **Be clearly written (and legible if written).** Your solution to a problem must be clear, written in complete sentences. You may lose credit for work that is unclear or hard to follow.\n",
        "\n",
        "## <font color=\"dodgerblue\">Let me know if you need help, and **GOOD LUCK!!!**</font>\n",
        "\n",
        "----"
      ],
      "metadata": {
        "id": "_3mKEGX-f9eA"
      }
    },
    {
      "cell_type": "markdown",
      "source": [
        "# <a name=\"HW8q1\">Question 1: Hypothesis testing of two samples: Case Study 1</a>\n",
        "\n",
        "---\n",
        "\n",
        "The effects of exposure to lead on the psychological and neurological well-being of children were studied.\n",
        "\n",
        "In summary, blood levels of lead were measured in a group of children who lived near a lead smelter in El Paso, Texas. Forty-six children with blood-lead levels ≥ 40 μg/mL were identified in 1972 (a few children were identified in 1973); this group is defined by the variable Group = 2.\n",
        "\n",
        "A control group of 78 children were also identified who had blood-lead levels < 40 μg/mL in 1972 and 1973; this group is defined by the variable Group = 1. All children lived close to the lead smelter.\n",
        "\n",
        "Two important outcome variables were studied: (1) the number of finger–wrist taps in the dominant hand (a measure of neurological function) and (2) the Wechsler full-scale IQ score. In the following, we want to explore the relationship of lead exposure to the outcome variables.\n",
        "\n",
        "\n",
        "<br>\n",
        "\n",
        "\n"
      ],
      "metadata": {
        "id": "i0PaAD5WgFx9"
      }
    },
    {
      "cell_type": "markdown",
      "source": [
        "## <a name=\"HW8q1a\">Question 1a</a>\n",
        "\n",
        "---\n",
        "\n",
        "Create a box plot of the number of finger-wrist taps in the dominant hand (variable name is maxfwt) for the different lead exposed groups indicate by the variable Group = 1 (not exposed) and Group = 2 (exposed).\n",
        "\n",
        "<br>\n",
        "\n",
        "\n",
        "\n",
        "### Solution to Question 1a\n",
        "\n",
        "---\n",
        "\n",
        "<br>\n",
        "\n",
        "Answer with the code cell below.\n",
        "\n",
        "<br>\n",
        "\n",
        "<font color=\"mediumseagreen\">*Hint: You can use the subset command to sort the different groups (exposed and unexposed). See solutions for Lab 3 for information on creating side-by-side boxplots and subsets.*</font>\n"
      ],
      "metadata": {
        "id": "22H2NMxVhzvm"
      }
    },
    {
      "cell_type": "code",
      "source": [
        "# First you will need to load the lead dataset\n",
        "lead <- read.csv(\"https://raw.githubusercontent.com/gibsonea/Biostats/main/Datasets/LEAD.csv\")\n",
        "str(lead) #displays the variable names and types"
      ],
      "metadata": {
        "id": "qlm357gRjsou"
      },
      "execution_count": null,
      "outputs": []
    },
    {
      "cell_type": "code",
      "source": [
        "# separate out the exposed and unexposed groups\n",
        "\n",
        "exposed <- subset(lead, Group == \"2\")\n",
        "unexposed <-subset(lead, Group == \"1\")"
      ],
      "metadata": {
        "id": "gEg9Mvu1xdnl"
      },
      "execution_count": null,
      "outputs": []
    },
    {
      "cell_type": "code",
      "source": [
        "# Code for displaying side-by-side boxplot\n",
        "\n"
      ],
      "metadata": {
        "id": "JNSGMYBnwpin"
      },
      "execution_count": null,
      "outputs": []
    },
    {
      "cell_type": "markdown",
      "source": [
        "## <a name=\"HW8q1b\">Question 1b</a>\n",
        "\n",
        "---\n",
        "\n",
        "Your boxplot in [Question 1a](#HW8q1a) shows one outlier in the unexposed group.  Create a new dataset with the outlier removed.  \n",
        "\n",
        "<br>\n",
        "\n",
        "\n",
        "### Solution to Question 1b\n",
        "\n",
        "---\n",
        "\n",
        "Answer in the code cell below.\n",
        "\n",
        "\n",
        "\n",
        "\n",
        "<br>  \n",
        "<br>  \n",
        "<br>  \n"
      ],
      "metadata": {
        "id": "zQLLl9jRt8b4"
      }
    },
    {
      "cell_type": "code",
      "source": [
        "#Remove outlier in unexposed group\n",
        "\n"
      ],
      "metadata": {
        "id": "75PlRRhGyclx"
      },
      "execution_count": null,
      "outputs": []
    },
    {
      "cell_type": "markdown",
      "source": [
        "## <a name=\"HW8q1c\">Question 1c</a>\n",
        "\n",
        "---\n",
        "\n",
        "Based on the output in [Question 1a](#HW8q1a), do you think there is a difference in dominant hand finger wrist taps between the exposed and unexposed groups?\n",
        "\n",
        "<br>\n",
        "\n",
        "\n",
        "### Solution to Question 1c\n",
        "\n",
        "---\n",
        "\n",
        "\n",
        "\n",
        "\n",
        "\n",
        "\n",
        "<br>  \n",
        "<br>  \n",
        "<br>  \n"
      ],
      "metadata": {
        "id": "plGt1TY53fB7"
      }
    },
    {
      "cell_type": "markdown",
      "source": [
        "## <a name=\"HW8q1d\">Question 1d</a>\n",
        "\n",
        "---\n",
        "\n",
        "Let's answer the question posed in [Question 1c](#HW8q1c) by using hypothesis testing.  Write down the hypothesis and describe in a few sentences.\n",
        "\n",
        "<br>\n",
        "\n",
        "\n",
        "### Solution to Question 1d\n",
        "\n",
        "---\n",
        "\n",
        "\n",
        "$H_{0}:$\n",
        "\n",
        "$H_{1}:$\n",
        "\n",
        "\n",
        "\n",
        "<br>  \n",
        "<br>  \n",
        "<br>  \n"
      ],
      "metadata": {
        "id": "-BS0AimcuK8N"
      }
    },
    {
      "cell_type": "markdown",
      "source": [
        "## <a name=\"HW8q1e\">Question 1e</a>\n",
        "\n",
        "---\n",
        "\n",
        "Even though the distributions are slightly skewed, our sample size is large enough that we can use parametric methods to answer our hypothesis.\n",
        "\n",
        "Find the standardized test statistic.  \n",
        "**Note:** Do the calculation out (i.e. don't just use a single call command).\n",
        "\n",
        "\n",
        "<br>\n",
        "\n",
        "\n",
        "### Solution to Question 1e\n",
        "\n",
        "---\n",
        "\n",
        "\n",
        "\n",
        "<br>  \n",
        "<br>  \n",
        "<br>  \n"
      ],
      "metadata": {
        "id": "g2GWEnbF4uzQ"
      }
    },
    {
      "cell_type": "code",
      "source": [
        "# code cell for calculating the test statistic\n"
      ],
      "metadata": {
        "id": "094uuTHQ5_Iu"
      },
      "execution_count": null,
      "outputs": []
    },
    {
      "cell_type": "markdown",
      "source": [
        "## <a name=\"HW8q1f\">Question 1f</a>\n",
        "\n",
        "---\n",
        "\n",
        "Perform the test and report the p-value.\n",
        "\n",
        "**Note:** Do the calculation out (i.e. don't just use a single call command).\n",
        "\n",
        "\n",
        "<br>\n",
        "\n",
        "\n",
        "### Solution to Question 1f\n",
        "\n",
        "---\n",
        "\n",
        "\n",
        "\n",
        "<br>  \n",
        "<br>  \n",
        "<br>  \n"
      ],
      "metadata": {
        "id": "XXkquN8X6Wjf"
      }
    },
    {
      "cell_type": "markdown",
      "source": [
        "## <a name=\"HW8q1g\">Question 1g</a>\n",
        "\n",
        "---\n",
        "\n",
        "Perform the test and report the p-value using R single call command (t.test) and compare with your answer in [Question 1f](#HW8q1f)\n",
        "\n",
        "\n",
        "<br>\n",
        "\n",
        "\n",
        "### Solution to Question 1g\n",
        "\n",
        "---\n",
        "\n",
        "\n",
        "\n",
        "<br>  \n",
        "<br>  \n",
        "<br>  \n"
      ],
      "metadata": {
        "id": "wqLgZv6X6rz4"
      }
    },
    {
      "cell_type": "markdown",
      "source": [
        "## <a name=\"HW8q1h\">Question 1h</a>\n",
        "\n",
        "---\n",
        "\n",
        "The dominant hand finger wrist taps are highly dependent on age.  Repeat the test and report the p-value but only including data for children of ages 12 and above.  Note: It is fine to use the single call R command.\n",
        "\n",
        "What do you conclude from the result?\n",
        "\n",
        "\n",
        "<br>\n",
        "\n",
        "\n",
        "### Solution to Question 1h\n",
        "\n",
        "---\n",
        "\n",
        "\n",
        "\n",
        "<br>  \n",
        "<br>  \n",
        "<br>  \n"
      ],
      "metadata": {
        "id": "cCRIPw9CHopY"
      }
    },
    {
      "cell_type": "code",
      "source": [
        "# code cell for Question 1h"
      ],
      "metadata": {
        "id": "hq7806m0Ia16"
      },
      "execution_count": null,
      "outputs": []
    },
    {
      "cell_type": "markdown",
      "source": [
        "# <a name=\"HW8q2\">Question 2: Confidence Intervals </a>\n",
        "\n",
        "---\n",
        "\n",
        "A data set was collected on people discharged from a selected Pennsylvania hospital as part of a retrospective chart review of antibiotic usage in hospitals.\n",
        "\n",
        "\n",
        "You will load in this dataset Hospital in the code cell below. A description of the variables are given below.\n",
        "\n",
        "<br>\n",
        "\n",
        "\n",
        "|    Variable   | Description |\n",
        "|--------|-----------------|\n",
        "| Id | Patient ID No.   |\n",
        "| Dur_stay | Duration of hospital stay       |     \n",
        "| Age | Age    |\n",
        "| Sex | 1=male/2=female   |\n",
        "| Temp | First temperature following admission    |\n",
        "| WBC |   First WBC(x1000) following admission  |\n",
        "| Antibio | Received antibiotic 1=yes/2=no   |\n",
        "| Bact_cul | Received bacterial culture 1=yes/2=no    |\n",
        "| Service | Service 1=med/2=surg.    |\n",
        "\n",
        "\n"
      ],
      "metadata": {
        "id": "yE3Ryr2ujM_J"
      }
    },
    {
      "cell_type": "code",
      "source": [
        "#load in Hospital dataset\n",
        "hospital <- read.csv(\"https://raw.githubusercontent.com/gibsonea/Biostats/main/Datasets/Hospital.csv\")"
      ],
      "metadata": {
        "id": "EvpGVAph0dbr"
      },
      "execution_count": null,
      "outputs": []
    },
    {
      "cell_type": "markdown",
      "source": [
        "## <a name=\"HW8q2a\">Question 2a</a>\n",
        "\n",
        "---\n",
        "\n",
        "Calculate the 95% Confidence Interval for the duration of hospital stay (Dur_stay) assuming a large sample parametric confidence interval.\n",
        "\n",
        "\n",
        "### Solution to Question 2a\n",
        "\n",
        "---\n",
        "\n",
        "\n",
        "\n",
        "\n",
        "<br>  \n",
        "<br>  \n",
        "\n",
        "\n",
        "\n"
      ],
      "metadata": {
        "id": "9n1dU5gFw_2v"
      }
    },
    {
      "cell_type": "code",
      "source": [
        "# code cell for Question 2a"
      ],
      "metadata": {
        "id": "J73IpOetEADe"
      },
      "execution_count": null,
      "outputs": []
    },
    {
      "cell_type": "markdown",
      "source": [
        "## <a name=\"HW8q2b\">Question 2b</a>\n",
        "\n",
        "---\n",
        "\n",
        "The confidence interval you calculated in [Question 2a](#HW8q2a) assumes that the distribution of hospital stay is normal or that the central limit theorem can be used.  To check this, plot a histogram of the distribution.\n",
        "\n",
        "### Solution to Question 2b\n",
        "\n",
        "---\n",
        "\n",
        "<br>\n",
        "\n",
        "Answer using the R code cell below.\n",
        "\n",
        "\n"
      ],
      "metadata": {
        "id": "PnBvDytWxmuy"
      }
    },
    {
      "cell_type": "code",
      "source": [
        "# Code for displaying histogram\n",
        "\n"
      ],
      "metadata": {
        "id": "xKQdCgExyKLK"
      },
      "execution_count": null,
      "outputs": []
    },
    {
      "cell_type": "markdown",
      "source": [
        "## <a name=\"HW8q2c\">Question 2c</a>\n",
        "\n",
        "---\n",
        "\n",
        "The distribution appears right-skewed and far from being normal. How can we check the validity of the 95% Cl computed? We will do a simulation-based approach, the Bootstrap CI.\n",
        "\n",
        "Using the sample command in R, select N = 10000 bootstrap samples and use the mean command to calculate the mean of each of the samples. Show the distribution on a histogram plot and use the quantile command to determine the 2.5th and 97.5th percentiles of the sample means.\n",
        "\n",
        "\n",
        "\n",
        "### Solution to Question 2c\n",
        "\n",
        "---\n",
        "\n",
        "Use the code cell below to answer.\n",
        "\n",
        "<br>\n",
        "<br>\n",
        "\n",
        "\n",
        "\n",
        "\n",
        "\n"
      ],
      "metadata": {
        "id": "0xRopFxTyIja"
      }
    },
    {
      "cell_type": "code",
      "source": [
        "# code cell for Question 2c"
      ],
      "metadata": {
        "id": "b9EcyVWAy4P6"
      },
      "execution_count": null,
      "outputs": []
    },
    {
      "cell_type": "markdown",
      "source": [
        "## <a name=\"HW8q2d\">Question 2d</a>\n",
        "\n",
        "---\n",
        "\n",
        "Are the limits of the confidence interval you calculated in [Question 2c](#HW8q2c) symmetric with respect to the mean?  \n",
        "\n",
        "How do the confidence intervals compare using the parametric method in [Question 2a](#HW8q2a) and bootstrap method in [Question 2c](#HW8q2c)\n",
        "\n",
        "### Solution to Question 2d\n",
        "\n",
        "---\n",
        "\n",
        "<br>\n",
        "<br>\n",
        "<br>\n",
        "\n"
      ],
      "metadata": {
        "id": "HHCls1E2y23G"
      }
    },
    {
      "cell_type": "markdown",
      "source": [
        "# <a name=\"HW8q3\">Question 3: Two sample test for proportions</a>\n",
        "\n",
        "---\n",
        "\n",
        "A study looked at the effects of Oral Contraceptive (OC) use on heart disease in women 40 to 44 years of age. The researchers found that among 5000 current OC users, 13 women developed a myocardial infarction (MI) over a 3-year period, whereas among 10,000 never-OC users, 7 developed an MI over a 3-year period.\n",
        "\n",
        "<br>\n",
        "\n",
        "\n"
      ],
      "metadata": {
        "id": "N_jihXs-iCNN"
      }
    },
    {
      "cell_type": "markdown",
      "source": [
        "## <a name=\"HW8q3a\">Question 3a</a>\n",
        "\n",
        "---\n",
        "\n",
        "Set up the hypothesis you will test, including a few sentence description.\n",
        "\n",
        "### Solution to Question 3a\n",
        "\n",
        "---\n",
        "\n",
        "$H_{0} :$\n",
        "\n",
        "$H_{1} :$\n",
        "\n",
        "<br>\n",
        "<br>\n",
        "\n"
      ],
      "metadata": {
        "id": "yOPxrlIp3aYY"
      }
    },
    {
      "cell_type": "markdown",
      "source": [
        "## <a name=\"HW8q3b\">Question 3b</a>\n",
        "\n",
        "---\n",
        "\n",
        "Estimate the standard error (SE) of the null hypothesis.\n",
        "\n",
        "### Solution to Question 3b\n",
        "\n",
        "---\n",
        "\n",
        "<br>\n",
        "<br>\n",
        "<br>\n",
        "\n"
      ],
      "metadata": {
        "id": "Jgt__HF3-01K"
      }
    },
    {
      "cell_type": "code",
      "source": [
        "# code cell for Question 3b"
      ],
      "metadata": {
        "id": "0N_f9OLF_kn-"
      },
      "execution_count": null,
      "outputs": []
    },
    {
      "cell_type": "markdown",
      "source": [
        "## <a name=\"HW8q3c\">Question 3c</a>\n",
        "\n",
        "---\n",
        "\n",
        "Based on your calculate of the standard error, use the parametric formula to find the z-score of the observed difference in sample proportions.\n",
        "\n",
        "### Solution to Question 3c\n",
        "\n",
        "---\n",
        "\n",
        "<br>\n",
        "<br>\n",
        "<br>\n",
        "\n"
      ],
      "metadata": {
        "id": "DCo7cH3h_Mxv"
      }
    },
    {
      "cell_type": "code",
      "source": [
        "#code cell for Question 3c"
      ],
      "metadata": {
        "id": "4_qfr4m5_tqe"
      },
      "execution_count": null,
      "outputs": []
    },
    {
      "cell_type": "markdown",
      "source": [
        "## <a name=\"HW8q3d\">Question 3d</a>\n",
        "\n",
        "---\n",
        "\n",
        "Calculate the p-value for your test.  What are your conclusions.\n",
        "\n",
        "<br>\n",
        "\n",
        "### Solution to Question 3d\n",
        "\n",
        "---\n",
        "\n",
        "<br>\n",
        "<br>\n",
        "<br>\n",
        "\n"
      ],
      "metadata": {
        "id": "wVAXwAuL_OD1"
      }
    },
    {
      "cell_type": "code",
      "source": [
        "# code cell for Question 3d"
      ],
      "metadata": {
        "id": "-qIwZDbX-8UP"
      },
      "execution_count": null,
      "outputs": []
    },
    {
      "cell_type": "markdown",
      "source": [
        "## <a name=\"HW8q3e\">Question 3e</a>\n",
        "\n",
        "---\n",
        "\n",
        "Redo parts (b-d) but now with applying the continuity correction.\n",
        "\n",
        "\n",
        "<br>\n",
        "\n",
        "### Solution to Question 3e\n",
        "\n",
        "---\n",
        "\n",
        "<br>\n",
        "\n",
        "(i) The SE of the null hypothesis with continuity correction is ...\n",
        "\n",
        "<br>\n",
        "\n",
        "(ii) Using the parametric formula **with continuity correction** the z-score of the observed difference in sample proportions is ...\n",
        "\n",
        "<br>\n",
        "\n",
        "(iii) The p-value is ??\n",
        "\n",
        "<br>\n",
        "<br>\n",
        "\n"
      ],
      "metadata": {
        "id": "6-CkiKB6Ba4O"
      }
    },
    {
      "cell_type": "code",
      "source": [
        "# code cell for Question 3e"
      ],
      "metadata": {
        "id": "HnW6aH-JB-nQ"
      },
      "execution_count": null,
      "outputs": []
    }
  ]
}