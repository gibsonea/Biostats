{
  "nbformat": 4,
  "nbformat_minor": 0,
  "metadata": {
    "colab": {
      "provenance": [],
      "include_colab_link": true
    },
    "kernelspec": {
      "name": "ir",
      "display_name": "R"
    },
    "language_info": {
      "name": "R"
    }
  },
  "cells": [
    {
      "cell_type": "markdown",
      "metadata": {
        "id": "view-in-github",
        "colab_type": "text"
      },
      "source": [
        "<a href=\"https://colab.research.google.com/github/gibsonea/Biostats/blob/main/Homeworks/BIOE3060Homework7.ipynb\" target=\"_parent\"><img src=\"https://colab.research.google.com/assets/colab-badge.svg\" alt=\"Open In Colab\"/></a>"
      ]
    },
    {
      "cell_type": "markdown",
      "source": [
        "# Homework 7\n",
        "\n",
        "---"
      ],
      "metadata": {
        "id": "TLH2NCL-V8J_"
      }
    },
    {
      "cell_type": "markdown",
      "source": [
        "## <a name=\"HW1Inst\">Instructions:</a>\n",
        "---\n",
        "\n",
        "1. <font color=\"tomato\">Either click the COPY TO DRIVE button or use the menu File/Save/Save a Copy to save your own version of the notebook in your own folder in Google Drive.</font>\n",
        "\n",
        "  - If you do not have a Google account, you will need to create a Google account in order to create your own individual copy of this notebook.\n",
        "  - By default, the notebook will be saved in a folder named **Colab Notebooks** in your drive.\n",
        "  - Feel free to name and store the notebook wherever you like!\n",
        "\n",
        "2. <font color=\"mediumseagreen\">After you have copied the notebook into your Drive, you can begin editing and saving your work.</font>\n",
        "\n",
        "\n",
        "**Upload your completed assignment into Canvas as a Google Colab (or Jupyter) Notebook with file extension `.ipynb`.**\n",
        "\n",
        "**You must provide supporting work for your all of your answers.**\n",
        "\n",
        "\n",
        "\n",
        "  - <font color=\"dodgerblue\">That work will include using R code cells.</font>\n",
        "    - **Feel free to insert as much R code as you like.**\n",
        "    - You must interpret or explain how the output of a code cell is being utilized to solve the problem.\n",
        "    - **Code with incomplete or missing explanations of why the output is useful may not receive full credit.**\n",
        "  - <font color=\"dodgerblue\">Your work will also involve writing explanations and justifications in text cells.</font>\n",
        "    - **Be sure to type/write out the steps of your work/explanation so I can see how you arrived at your answer.**\n",
        "  - <font color=\"dodgerblue\">Your work in some parts  may involve doing algebra and/or calculus.</font>\n",
        "    - Either type your work in the space below using LaTeX for mathematical equations.\n",
        "      - Here's a helpful [Quick Reference Guide for LaTeX](https://colab.research.google.com/drive/1voDDmLfHmRWzWQW5yiHfqYsjGPFqdovP?usp=sharing).\n",
        "      - Here's a helpful [LaTeX math symbol gallery](https://artofproblemsolving.com/wiki/index.php/LaTeX:Symbols).\n",
        "      - **Learning LaTeX is super useful and might even be enjoyable!**\n",
        "    - Or you can write your work on paper/tablet, take a picture of your work, and then insert an image of your work.\n",
        "    - Or you can Write your work on paper/tablet and submit to me separately when the assignment is due.\n",
        "   \n",
        "\n",
        "## Important Academic Policies:\n",
        "---\n",
        "\n",
        "- **Be your own work.** Though you may collaborate with others, everyone is responsible for writing up the work in their own way using their own methods. Plagiarism of any form is not tolerated.\n",
        "- **Be complete.** You must provide all work and/or explanations needed to find the solution. Answers with insufficient or incomplete supporting work may lose credit.\n",
        "- **Adhere to the Code of Academic Honesty.**\n",
        "- **Be clearly written (and legible if written).** Your solution to a problem must be clear, written in complete sentences. You may lose credit for work that is unclear or hard to follow.\n",
        "\n",
        "## <font color=\"dodgerblue\">Let me know if you need help, and **GOOD LUCK!!!**</font>\n",
        "\n",
        "----"
      ],
      "metadata": {
        "id": "_3mKEGX-f9eA"
      }
    },
    {
      "cell_type": "markdown",
      "source": [
        "# <a name=\"HW8q1\">Question 1: Bootstrapping from a Small Sample</a>\n",
        "\n",
        "---\n",
        "\n",
        "Consider the sample of three values $\\left\\{ 2, 35, 110 \\right\\}$ and answer the questions below.\n",
        "\n",
        "<br>\n",
        "\n",
        "<font color=\"dodgerblue\">*Note: There are no R code cells needed to answer parts (b) and (c). Since there are a small number of bootstrap resamples, use your table in part (a) to answer parts (b) and (c).*</font>\n",
        "\n"
      ],
      "metadata": {
        "id": "i0PaAD5WgFx9"
      }
    },
    {
      "cell_type": "markdown",
      "source": [
        "## <a name=\"HW8q1a\">Question 1a</a>\n",
        "\n",
        "---\n",
        "\n",
        "Enter all possible bootstrap samples in the code cell below.\n",
        "You should ignore the ordering of the values chosen for each resample.\n",
        "\n",
        "- For example a bootstrap sample of *2, 2, 110* as the same as *2, 110, 2*, so you should not list both.\n",
        "\n",
        "<br>\n",
        "\n",
        "Then run the code cell to generate a table to display all 10 bootstrap resamples as well as the sample mean and sample maximum for each bootstrap resample.\n",
        "\n",
        "<br>\n",
        "\n",
        "### Solution to Question 1a\n",
        "\n",
        "---\n",
        "\n",
        "<br>\n",
        "\n",
        "Enter all bootstrap resamples in the code cell below. Then run to compute and display the mean and maximum of each bootstrap resample.\n",
        "\n",
        "<br>\n",
        "\n",
        "<font color=\"mediumseagreen\">*Hint: There are exactly 10 distinct bootstrap samples.*</font>\n"
      ],
      "metadata": {
        "id": "22H2NMxVhzvm"
      }
    },
    {
      "cell_type": "code",
      "source": [
        "# store each bootstrap resample and statistics\n",
        "boot.tbl = matrix(, nrow = 10, ncol = 5)  # create 10 by 5 matrix\n",
        "\n",
        "############################################################################\n",
        "# To-Do: Enter each bootstrap resample in first three entries\n",
        "# Note: Last two values are 0 as place holders for mean and max of sample\n",
        "############################################################################\n",
        "boot.tbl[1, ] <- c( 2, 35, 110, 0, 0)  # original sample = bootstrap resample 1\n",
        "boot.tbl[2, ] <- c( , , , 0, 0)  # bootstrap resample 2 = row 2\n",
        "boot.tbl[3, ] <- c( , , , 0, 0)  # bootstrap resample 3 = row 3\n",
        "boot.tbl[4, ] <- c( , , , 0, 0)  # bootstrap resample 4 = row 4\n",
        "boot.tbl[5, ] <- c( , , , 0, 0)  # bootstrap resample 5 = row 5\n",
        "boot.tbl[6, ] <- c( , , , 0, 0)  # bootstrap resample 6 = row 6\n",
        "boot.tbl[7, ] <- c( , , , 0, 0)  # bootstrap resample 7 = row 7\n",
        "boot.tbl[8, ] <- c( , , , 0, 0)  # bootstrap resample 8 = row 8\n",
        "boot.tbl[9, ] <- c( , , , 0, 0)  # bootstrap resample 9 = row 9\n",
        "boot.tbl[10, ] <- c( , , , 0, 0)  # bootstrap resample 10 = row 10\n",
        "\n",
        "\n",
        "# calculate mean and max of each bootstrap resample\n",
        "for (i in 1:10)\n",
        "{\n",
        "  boot.tbl[i, 4] <- mean(boot.tbl[i, 1:3])  # sample mean\n",
        "  boot.tbl[i, 5] <- max(boot.tbl[i, 1:3])  # sample max\n",
        "}\n",
        "\n",
        "# columns name\n",
        "colnames(boot.tbl) <- c(\" \", \" \", \" \", \"Sample Mean\", \"Sample Max\")\n",
        "\n",
        "boot.tbl  # print summary"
      ],
      "metadata": {
        "id": "qlm357gRjsou"
      },
      "execution_count": null,
      "outputs": []
    },
    {
      "cell_type": "markdown",
      "source": [
        "## <a name=\"HW8q1b\">Question 1b</a>\n",
        "\n",
        "---\n",
        "\n",
        "Based on the output in [Question 1a](#HW8q1a), what proportion of the bootstrap resamples have a **mean** less than or equal to 40?\n",
        "\n",
        "<br>\n",
        "\n",
        "\n",
        "### Solution to Question 1b\n",
        "\n",
        "---\n",
        "\n",
        "Be sure to provide an brief explanation (one sentence should be sufficient) that supports how you determined your answer.\n",
        "\n",
        "\n",
        "\n",
        "\n",
        "<br>  \n",
        "<br>  \n",
        "<br>  \n"
      ],
      "metadata": {
        "id": "zQLLl9jRt8b4"
      }
    },
    {
      "cell_type": "markdown",
      "source": [
        "## <a name=\"HW8q1c\">Question 1c</a>\n",
        "\n",
        "---\n",
        "\n",
        "Based on the output in [Question 1a](#HW8q1a), what proportion of the bootstrap resamples have a **maximum** less than or equal to 40?\n",
        "\n",
        "<br>\n",
        "\n",
        "\n",
        "### Solution to Question 1c\n",
        "\n",
        "---\n",
        "\n",
        "Be sure to provide an brief explanation (one sentence should be sufficient) that supports how you determined your answer.\n",
        "\n",
        "\n",
        "\n",
        "\n",
        "<br>  \n",
        "<br>  \n",
        "<br>  \n"
      ],
      "metadata": {
        "id": "-BS0AimcuK8N"
      }
    },
    {
      "cell_type": "markdown",
      "source": [
        "# <a name=\"HW8q2\">Question 2: Bootstrapping a Sample Mean</a>\n",
        "\n",
        "---\n",
        "\n",
        "Consider a population that has normal distribution with mean $\\mu = 52$ and standard deviation $\\sigma = 7$, and answer the questions below.\n",
        "\n"
      ],
      "metadata": {
        "id": "yE3Ryr2ujM_J"
      }
    },
    {
      "cell_type": "markdown",
      "source": [
        "## <a name=\"HW8q2a\">Question 2a</a>\n",
        "\n",
        "---\n",
        "\n",
        "**Using the Central Limit Theorem (CLT)**, what are the mean, standard error, and shape of the sampling distribution for the mean, $\\bar{X}$, if samples size of $n=100$ are randomly selected.\n",
        "\n",
        "### Solution to Question 2a\n",
        "\n",
        "---\n",
        "\n",
        "<br>\n",
        "\n",
        "- **What is the mean of the sampling distribution?**\n",
        "\n",
        "\n",
        "\n",
        "\n",
        "<br>  \n",
        "<br>  \n",
        "\n",
        "- **What is the standard error?** *Be sure to provide supporting work such as an R code cell that you insert below or typing the formula you used.*\n",
        "\n",
        "\n",
        "\n",
        "\n",
        "<br>  \n",
        "<br>  \n",
        "\n",
        "- **What is the approximate shape?**\n",
        "\n",
        "\n",
        "\n",
        "\n",
        "<br>  \n",
        "<br>  \n",
        "\n",
        "\n"
      ],
      "metadata": {
        "id": "9n1dU5gFw_2v"
      }
    },
    {
      "cell_type": "markdown",
      "source": [
        "## <a name=\"HW8q2b\">Question 2b</a>\n",
        "\n",
        "---\n",
        "\n",
        "Based on your answer to [Question 2a](#HW8q2a) using CLT, use the R code cell below compute the probability of picking a random sample of size $n=100$ that has a sample mean greater than 54?\n",
        "\n",
        "### Solution to Question 2b\n",
        "\n",
        "---\n",
        "\n",
        "<br>\n",
        "\n",
        "Compute the answer using the R code cell below.\n",
        "\n",
        "\n"
      ],
      "metadata": {
        "id": "PnBvDytWxmuy"
      }
    },
    {
      "cell_type": "code",
      "source": [],
      "metadata": {
        "id": "xKQdCgExyKLK"
      },
      "execution_count": null,
      "outputs": []
    },
    {
      "cell_type": "markdown",
      "source": [
        "## <a name=\"HW8q2c\">Question 2c</a>\n",
        "\n",
        "---\n",
        "\n",
        "Complete the code cell below to pick one random sample of size $n=100$ from a population $X \\sim N(\\mu, \\sigma) = N(52, 7)$ and assign this sample to a vector named `my.samp`.\n",
        "\n",
        "<br>\n",
        "\n",
        "Then calculate the mean and standard deviation of your sample by completing the code block below.\n",
        "\n",
        "<br>\n",
        "\n",
        "Note: You will set the seed with your birth date that you enter for `mmdd` in the first line. This will ensure you generate the same sample each time you run the code cell.\n",
        "\n",
        "\n",
        "### Solution to Question 2c\n",
        "\n",
        "---\n",
        "\n",
        "<br>\n",
        "\n",
        "Complete and run the R code cell below.\n",
        "\n",
        "\n",
        "\n",
        "\n"
      ],
      "metadata": {
        "id": "0xRopFxTyIja"
      }
    },
    {
      "cell_type": "code",
      "source": [
        "mmdd <-  # enter birth month and day to set the seed\n",
        "set.seed(mmdd)  # this will generate the same sample every time\n",
        "\n",
        "my.samp <- ??  # create your sample\n",
        "samp.mean <- ??  # compute the mean of your sample\n",
        "samp.sd <- ??  # compute the standard deviation of your sample\n",
        "\n",
        "# print last two calculation to screen\n",
        "samp.mean\n",
        "samp.sd"
      ],
      "metadata": {
        "id": "b9EcyVWAy4P6"
      },
      "execution_count": null,
      "outputs": []
    },
    {
      "cell_type": "markdown",
      "source": [
        "## <a name=\"HW8q2d\">Question 2d</a>\n",
        "\n",
        "---\n",
        "\n",
        "Using your sample `my.samp` from [Question 2d](#HWq2d), create a bootstrap distribution with $N=10^5$ different bootstrap samples.\n",
        "\n",
        "<br>\n",
        "\n",
        "Then create a histogram of your bootstrap distribution (indicating the location of the sample mean with a red vertical line).\n",
        "\n",
        "\n",
        "### Solution to Question 2d\n",
        "\n",
        "---\n",
        "\n",
        "<br>\n",
        "\n",
        "Complete and run the code cell below. You will need to refer to a vector you created in [Question 2c](#HW8q2c).\n",
        "\n",
        "\n"
      ],
      "metadata": {
        "id": "HHCls1E2y23G"
      }
    },
    {
      "cell_type": "code",
      "source": [
        "set.seed(mmdd)  # this will generate the same bootstrap dist each time\n",
        "\n",
        "N <- 10^5  # Number of bootstrap samples\n",
        "boot.dist <- numeric(N)  # create vector to store bootstrap means\n",
        "\n",
        "for (i in 1:N)\n",
        "{\n",
        "  x <- sample(??, ??, replace = ??)  # select bootstrap resample\n",
        "  boot.dist[i] <- ??  # compute mean of bootstrap resample\n",
        "}\n",
        "\n",
        "# Show bootstrap distribution\n",
        "hist(??,  xlab = \"xbar\",\n",
        "     main = \"Bootstrap Distribution\")\n",
        "\n",
        "# Add a red line at the observed sample mean\n",
        "abline(v = ??, col = \"red\", lwd = 2, lty = 1)"
      ],
      "metadata": {
        "id": "28GcZGhtzkoV"
      },
      "execution_count": null,
      "outputs": []
    },
    {
      "cell_type": "markdown",
      "source": [
        "## <a name=\"HW8q2e\">Question 2e</a>\n",
        "\n",
        "---\n",
        "\n",
        "Calculate the mean and standard error of the bootstrap distribution you created in [Question 2d](#HW8q2d).\n",
        "\n",
        "<br>\n",
        "\n",
        "*Show your work in the R code cell below. Round answers to four decimal places when typing.*\n",
        "\n",
        "<br>\n",
        "\n",
        "Then comment on how the bootstrap mean and standard error compare the the CLT mean and standard error.\n",
        "\n",
        "\n",
        "### Solution to Question 2e\n",
        "\n",
        "---\n",
        "\n",
        "The mean of the bootstrap distribution is <mark>??</mark>.\n",
        "\n",
        "- How does the mean of the bootstrap distribution compare to theoretic mean you found using CLT in [Question 2a](#HW8q2a)?\n",
        "\n",
        "\n",
        "\n",
        "\n",
        "<br>  \n",
        "<br>  \n",
        "\n",
        "The standard error of the bootstrap distribution is <mark>??</mark>.\n",
        "\n",
        "- How does the standard error of the bootstrap distribution compare to theoretic standard error you found using CLT in [Question 2a](#HW8q2a)?\n",
        "\n",
        "\n",
        "\n",
        "\n",
        "<br>  \n",
        "<br>  \n"
      ],
      "metadata": {
        "id": "LAFqgyqVzjdA"
      }
    },
    {
      "cell_type": "code",
      "source": [
        "# compute mean and standard error of bootstrap dist\n"
      ],
      "metadata": {
        "id": "5bp5P8261VTN"
      },
      "execution_count": null,
      "outputs": []
    },
    {
      "cell_type": "code",
      "source": [],
      "metadata": {
        "id": "gGLr_3RsCSy-"
      },
      "execution_count": null,
      "outputs": []
    },
    {
      "cell_type": "markdown",
      "source": [
        "## <a name=\"HW8q2f\">Question 2f</a>\n",
        "\n",
        "---\n",
        "\n",
        "Use the R code cell below to create a Q-Q plot to compare the shape of the bootstrap distribution you created in [Question 2d](#HW8q2d) with a normal distribution.\n",
        "\n",
        "<br>\n",
        "\n",
        "In the solution space below, comment on whether the shapes are similar or different.\n",
        "\n",
        "\n",
        "### Solution to Question 2f\n",
        "\n",
        "---\n",
        "\n",
        "\n",
        "How do the shapes of the bootstrap distribution and compare with a normal distribution?\n",
        "\n",
        "\n",
        "\n",
        "<br>  \n",
        "<br>  "
      ],
      "metadata": {
        "id": "0JUdiDhw1Qt3"
      }
    },
    {
      "cell_type": "code",
      "source": [
        "# Create a Q-Q plot\n"
      ],
      "metadata": {
        "id": "59nvLbf72KXO"
      },
      "execution_count": null,
      "outputs": []
    },
    {
      "cell_type": "markdown",
      "source": [
        "## <a name=\"HW8q2f\">Question 2g</a>\n",
        "\n",
        "---\n",
        "\n",
        "Using your bootstrap distribution from [Question 2d](#HW8q2d), estimate the probability of picking a random sample of size $n=100$ that has a sample mean greater than 54.\n",
        "\n",
        "After calculating the probability, comment on how it compares to your answer obtained using CLT in [Question 2b](#HW8q2b).\n",
        "\n",
        "\n",
        "### Solution to Question 2g\n",
        "\n",
        "---\n",
        "\n",
        "\n",
        "Comment on how the probability compares to your answer obtained using CLT in [Question 2b](#HW8q2b).\n",
        "\n",
        "\n",
        "\n",
        "\n",
        "<br>  \n",
        "<br>  \n",
        "<br>  \n"
      ],
      "metadata": {
        "id": "obcYhLFh1AyS"
      }
    },
    {
      "cell_type": "code",
      "source": [
        "# Enter command(s) to answer 2g\n"
      ],
      "metadata": {
        "id": "L5mAYpal2Ykh"
      },
      "execution_count": null,
      "outputs": []
    },
    {
      "cell_type": "markdown",
      "source": [
        "# <a name=\"HW8q3\">Question 3: Boostrapping a Sample Mean</a>\n",
        "\n",
        "---\n",
        "\n",
        "Recall the package `resampledata` contains a dataset `Bangladesh` with data from 271 randomly selected groundwater samples.\n",
        "The dataset contains measurements on the `Arsenic`, `Cobalt` and `Chlorine` concentration levels (in parts per billion, ppb).\n",
        "\n",
        "<br>\n",
        "\n",
        "Run the code cells below to\n",
        "\n",
        "- Install the `resampledata` package\n",
        "- Load the `resampledata` package and summarize the `Bangladesh` data set.\n",
        "  - Note there is one observation with a missing (`NA`) cobalt concentration.\n",
        "- Remove the observation with a missing cobalt concentration and store the remaining 270 sample cobalt concentrations to the vector `cobalt`.\n",
        "- Finally, enter your birth month and date in `mmdd` which will set the seed for some code cells.\n",
        "\n",
        "<br>\n",
        "\n",
        "**After running the code cells above, answer the questions in the parts below.**\n",
        "\n"
      ],
      "metadata": {
        "id": "N_jihXs-iCNN"
      }
    },
    {
      "cell_type": "code",
      "source": [
        "install.packages(\"resampledata\")"
      ],
      "metadata": {
        "id": "PD_0VfS338X0"
      },
      "execution_count": null,
      "outputs": []
    },
    {
      "cell_type": "code",
      "source": [
        "library(resampledata)  # load required package\n",
        "summary(Bangladesh)  # summarize the data"
      ],
      "metadata": {
        "id": "7dsvkVBq33_k"
      },
      "execution_count": null,
      "outputs": []
    },
    {
      "cell_type": "code",
      "source": [
        "cobalt <- na.omit(Bangladesh$Cobalt)"
      ],
      "metadata": {
        "id": "cTMQQXr334_G"
      },
      "execution_count": null,
      "outputs": []
    },
    {
      "cell_type": "code",
      "source": [
        "# enter your birth month and date for mmdd\n",
        "mmdd <- ??"
      ],
      "metadata": {
        "id": "w2E7SMAU5iHe"
      },
      "execution_count": null,
      "outputs": []
    },
    {
      "cell_type": "markdown",
      "source": [
        "## <a name=\"HW8q3a\">Question 3a</a>\n",
        "\n",
        "---\n",
        "\n",
        "Create a histogram of the cobalt sample data, create a boxplot of the cobalt sample data, and then compute the mean and standard deviation of the cobalt concentration levels of the sample.\n",
        "\n",
        "### Solution to Question 3a\n",
        "\n",
        "---\n",
        "\n",
        "\n"
      ],
      "metadata": {
        "id": "yOPxrlIp3aYY"
      }
    },
    {
      "cell_type": "code",
      "source": [
        "# create a histogram to display cobalt sample\n"
      ],
      "metadata": {
        "id": "7kwIMDhL5zfS"
      },
      "execution_count": null,
      "outputs": []
    },
    {
      "cell_type": "code",
      "source": [
        "# create a boxplot to display cobalt sample\n"
      ],
      "metadata": {
        "id": "Ge1J2crG6IAV"
      },
      "execution_count": null,
      "outputs": []
    },
    {
      "cell_type": "code",
      "source": [
        "# compute sample mean\n"
      ],
      "metadata": {
        "id": "w95DyJas54XJ"
      },
      "execution_count": null,
      "outputs": []
    },
    {
      "cell_type": "code",
      "source": [
        "# compute sample standard deviation\n"
      ],
      "metadata": {
        "id": "rAMjUySA551W"
      },
      "execution_count": null,
      "outputs": []
    },
    {
      "cell_type": "markdown",
      "source": [
        "## <a name=\"HW8q3b\">Question 3b</a>\n",
        "\n",
        "---\n",
        "\n",
        "Create a bootstrap distribution for the sample mean from the original sample.\n",
        "Use $N=10^5$ as the number of bootstrap samples.\n",
        "\n",
        "Complete the code below by replacing each `??` in the code cell with an appropriate R commands or values.\n",
        "\n",
        "### Solution to Question 3b\n",
        "\n",
        "---\n",
        "\n",
        "-   The code cell below is one way to do this.\n",
        "-   Feel free to use another method if your prefer.\n",
        "\n",
        "\n",
        "<br>  \n"
      ],
      "metadata": {
        "id": "uaSy-LfL3Trh"
      }
    },
    {
      "cell_type": "code",
      "source": [
        "set.seed(mmdd)\n",
        "\n",
        "N <- 10^5\n",
        "boot.cobalt <- numeric(N)\n",
        "for (i in 1:N)\n",
        "{\n",
        "  x <- sample(??, ??, replace = ??)  #create a bootstrap resample\n",
        "  boot.cobalt[i] <- ??   # calculate statistic of each bootstrap resample\n",
        "}"
      ],
      "metadata": {
        "id": "yS1XzpDj6bcl"
      },
      "execution_count": null,
      "outputs": []
    },
    {
      "cell_type": "markdown",
      "source": [
        "## <a name=\"HW8q3c\">Question 3c</a>\n",
        "\n",
        "---\n",
        "\n",
        "What is the mean of the bootstrap distribution you created in [Question 3b](#HW8q3b)?\n",
        "\n",
        "### Solution to Question 3c\n",
        "\n",
        "---\n",
        "\n",
        "<br>  \n",
        "\n",
        "Use R code cell below to answer the question.\n"
      ],
      "metadata": {
        "id": "O0F3PTdB3Rx5"
      }
    },
    {
      "cell_type": "code",
      "source": [
        "# Enter R command(s) to answer 3c\n",
        "\n"
      ],
      "metadata": {
        "id": "5iSOGq_e6zFB"
      },
      "execution_count": null,
      "outputs": []
    },
    {
      "cell_type": "markdown",
      "source": [
        "## <a name=\"HW8q3f\">Question 3d</a>\n",
        "\n",
        "---\n",
        "\n",
        "What is the bootstrap standard error of the bootstrap distribution you created you in [Question 3b](#HW8q3b)?\n",
        "\n",
        "### Solution to Question 3d\n",
        "\n",
        "---\n",
        "\n",
        "<br>  \n",
        "\n",
        "Use R code cell below to answer the question.\n",
        "\n",
        "\n",
        "\n"
      ],
      "metadata": {
        "id": "fYP6hn5v3QLP"
      }
    },
    {
      "cell_type": "code",
      "source": [
        "# Enter R command(s) to answer 3d\n",
        "\n"
      ],
      "metadata": {
        "id": "M4YKN1sS7IFC"
      },
      "execution_count": null,
      "outputs": []
    },
    {
      "cell_type": "markdown",
      "source": [
        "## <a name=\"HW8q3g\">Question 3e</a>\n",
        "\n",
        "---\n",
        "\n",
        "Based on the bootstrap distribution you created in [Question 3b](#HW8q3b), what is the bootstrap estimate of the bias?\n",
        "\n",
        "\n",
        "### Solution to Question 3e\n",
        "\n",
        "---\n",
        "\n",
        "<br>  \n",
        "\n",
        "Use the code cell below to answer the question.\n",
        "\n"
      ],
      "metadata": {
        "id": "myjO4VCQ3OXA"
      }
    },
    {
      "cell_type": "code",
      "source": [
        "# Calculate the bootstrap estimate for bias\n"
      ],
      "metadata": {
        "id": "8K8qW2Ik7b9m"
      },
      "execution_count": null,
      "outputs": []
    },
    {
      "cell_type": "markdown",
      "source": [
        "## <a name=\"HW8q3f\">Question 3f</a>\n",
        "\n",
        "---\n",
        "\n",
        "Calculate the ratio of the bootstrap bias over the bootstrap standard error. Does this exceed the rule of thumb level for having a substantial effect on the accuracy of the estimate?\n",
        "\n",
        "### Solution to Question 3f\n",
        "\n",
        "---\n",
        "\n",
        "<br>\n",
        "\n",
        "In the space below, comment on whether this exceeds the rule of thumb level for having a substantial effect on the accuracy of the estimate?\n",
        "\n",
        "\n",
        "\n",
        "\n",
        "<br>  \n",
        "<br>  \n"
      ],
      "metadata": {
        "id": "oiPfV65n3Mhv"
      }
    },
    {
      "cell_type": "code",
      "source": [
        "# Calculate the ratio\n"
      ],
      "metadata": {
        "id": "_yyTvsMu9JtF"
      },
      "execution_count": null,
      "outputs": []
    },
    {
      "cell_type": "markdown",
      "source": [
        "## <a name=\"HW8q3g\">Question 3g</a>\n",
        "\n",
        "---\n",
        "\n",
        "Give a 95% bootstrap percentile confidence interval to estimate the mean cobalt level in all groundwater in Bangladesh.\n",
        "\n",
        "\n",
        "Then create a histogram of the bootstrap distribution with vertical lines indicating the cutoffs for the confidence interval.\n",
        "\n",
        "### Solution to Question 3g\n",
        "\n",
        "---\n",
        "\n",
        "<br>\n",
        "\n",
        "Use the code cell below to compute the confidence interval cutoffs. Enter your values in the space below. Round to four decimal places.\n",
        "\n",
        "<br>\n",
        "\n",
        "- My lower cutoff for a 95% boostrap percentile confidence interval is <mark>??</mark>.\n",
        "\n",
        "<br>\n",
        "\n",
        "- My upper cutoff for a 95% boostrap percentile confidence interval is <mark>??</mark>.\n",
        "\n",
        "<br>\n",
        "\n",
        "\n",
        "\n"
      ],
      "metadata": {
        "id": "i-7mDxnp3KsW"
      }
    },
    {
      "cell_type": "code",
      "source": [
        "# Find cutoffs for 95% bootstrap percentile conf int\n",
        "\n"
      ],
      "metadata": {
        "id": "V0xv_Kr0-EGo"
      },
      "execution_count": null,
      "outputs": []
    },
    {
      "cell_type": "code",
      "source": [
        "# Show bootstrap distribution\n",
        "hist(??,  xlab = \"xbar\",\n",
        "     main = \"Bootstrap Distribution\")\n",
        "\n",
        "# Add a red line at the observed sample mean\n",
        "abline(v = ??, col = \"red\", lwd = 2, lty = 1)\n",
        "\n",
        "# Add a blue line at the lower cuttoff\n",
        "abline(v = ??, col = \"blue\", lwd = 2, lty = 1)\n",
        "\n",
        "# Add a blue line at the upper cuttoff\n",
        "abline(v = ??, col = \"blue\", lwd = 2, lty = 1)"
      ],
      "metadata": {
        "id": "nO56jI8_-UN3"
      },
      "execution_count": null,
      "outputs": []
    },
    {
      "cell_type": "markdown",
      "source": [
        "## <a name=\"HW8q3h\">Question 3h</a>\n",
        "\n",
        "---\n",
        "\n",
        "Interpret the practical meaning of the confidence interval you found in [Question 3g](#HW8q3g) in a complete sentence.\n",
        "\n",
        "\n",
        "### Solution to Question 3h\n",
        "\n",
        "---\n",
        "\n",
        "<br>\n",
        "\n",
        "Explain to somebody who has little to no formal statistical background.\n",
        "\n",
        "\n",
        "\n",
        "\n",
        "<br>  \n",
        "<br>  \n",
        "<br>  "
      ],
      "metadata": {
        "id": "6n1_GB7u3IwD"
      }
    },
    {
      "cell_type": "markdown",
      "source": [
        "# <a name=\"HW8q4\">Question 4: Bootstrapping a Difference in Two Means</a>\n",
        "\n",
        "---\n",
        "\n",
        "The dataset Girls2004 from the resampledata package contains samples of the the birth weights of baby girls born in Wyoming and Alaska. Before answering the questions you will need to first run the code cells below to install and load the resampledata package.\n",
        "\n",
        "Run the code cells below to:\n",
        "\n",
        "1. Install `resampledata`.\n",
        "2. Load `resampledata` and summarize `Girls2004`.\n",
        "3. Enter your birth month and date for `mmdd`.\n",
        "\n"
      ],
      "metadata": {
        "id": "oaFbeeqKh-aD"
      }
    },
    {
      "cell_type": "code",
      "source": [
        "install.packages(\"resampledata\")  # install package"
      ],
      "metadata": {
        "id": "KT74_KAc_2PH",
        "colab": {
          "base_uri": "https://localhost:8080/"
        },
        "outputId": "390fd28c-7618-4c92-bee0-39fb33e2159c"
      },
      "execution_count": null,
      "outputs": [
        {
          "output_type": "stream",
          "name": "stderr",
          "text": [
            "Installing package into ‘/usr/local/lib/R/site-library’\n",
            "(as ‘lib’ is unspecified)\n",
            "\n"
          ]
        }
      ]
    },
    {
      "cell_type": "code",
      "source": [
        "library(resampledata)  # load package\n",
        "summary(Girls2004)  # summarize the data"
      ],
      "metadata": {
        "id": "tcyHwAky_2PI",
        "colab": {
          "base_uri": "https://localhost:8080/",
          "height": 303
        },
        "outputId": "e5181023-fee0-47d4-e14d-6fce4a4aa713"
      },
      "execution_count": null,
      "outputs": [
        {
          "output_type": "stream",
          "name": "stderr",
          "text": [
            "\n",
            "Attaching package: ‘resampledata’\n",
            "\n",
            "\n",
            "The following object is masked from ‘package:datasets’:\n",
            "\n",
            "    Titanic\n",
            "\n",
            "\n"
          ]
        },
        {
          "output_type": "display_data",
          "data": {
            "text/plain": [
              "       ID        State   MothersAge Smoker       Weight       Gestation    \n",
              " Min.   : 1.00   AK:40   15-19: 6   No :69   Min.   :2182   Min.   :37.00  \n",
              " 1st Qu.:20.75   WY:40   20-24:29   Yes:11   1st Qu.:3076   1st Qu.:38.00  \n",
              " Median :40.50           25-29:22            Median :3331   Median :39.00  \n",
              " Mean   :40.50           30-34:15            Mean   :3362   Mean   :39.14  \n",
              " 3rd Qu.:60.25           35-39: 6            3rd Qu.:3709   3rd Qu.:40.00  \n",
              " Max.   :80.00           40-44: 2            Max.   :4592   Max.   :42.00  "
            ]
          },
          "metadata": {}
        }
      ]
    },
    {
      "cell_type": "code",
      "source": [
        "# enter your birth month and date for mmdd\n",
        "mmdd <- ??"
      ],
      "metadata": {
        "id": "3g9jEBkf_2PI"
      },
      "execution_count": null,
      "outputs": []
    },
    {
      "cell_type": "markdown",
      "source": [
        "## <a name=\"HW8q4a\">Question 4a</a>\n",
        "\n",
        "---\n",
        "\n",
        "The code cell below first creates a vector called `Weight` that contains the birthweight of all female newborns in Alaska and Wyoming. Complete the remaining lines of code to create two separate vectors named `Weight.AK` and `Weight.WY` that contain separate birthweights for the newborns in Alaska and Wyoming.\n",
        "\n",
        "### Solution to Question 4a\n",
        "\n",
        "---\n",
        "\n",
        "-   The code cell below uses the `subset` function.\n",
        "-   Feel free to use another method such as `filter` from `dplyr` or using logical statements with different code.\n",
        "-   If you use your own code, use the same array names `Weight`, `Weight.AK` and `Weight.WY` so your output is compatible with code in [Question 4e](#HW8q4e).\n",
        "\n",
        "\n",
        "\n",
        "\n"
      ],
      "metadata": {
        "id": "rKs09edb_gFd"
      }
    },
    {
      "cell_type": "code",
      "source": [
        "Weight <- Girls2004$Weight  # creates a vector birth weights\n",
        "\n",
        "# Create a vector of Alaska birth weights\n",
        "Weight.AK <-subset(Girls2004, select = ??,\n",
        "                   State == ??, drop = TRUE)\n",
        "\n",
        "# Create a vector of Wyoming birth weights\n",
        "Weight.WY <-subset(Girls2004, select = ??,\n",
        "                   State == ??, drop = TRUE)\n",
        "\n"
      ],
      "metadata": {
        "id": "vHjWhOADAx8I"
      },
      "execution_count": null,
      "outputs": []
    },
    {
      "cell_type": "markdown",
      "source": [
        "## <a name=\"HW8q4b\">Question 4b</a>\n",
        "\n",
        "---\n",
        "\n",
        "How many female newborns are in the dataset? How many are from Wyoming? How many are from Alaska?\n",
        "Answer the questions below using R commands, and be sure the output is printed to the screen.\n",
        "\n",
        "\n",
        "### Solution to Question 4b\n",
        "\n",
        "---\n",
        "\n",
        "<br>\n",
        "\n",
        "Use the R code cell below to answer each question.\n"
      ],
      "metadata": {
        "id": "IbLGPsB__dwR"
      }
    },
    {
      "cell_type": "code",
      "source": [
        "# code cell to answer Question 4b\n"
      ],
      "metadata": {
        "id": "fic0tS8MBTNL"
      },
      "execution_count": null,
      "outputs": []
    },
    {
      "cell_type": "markdown",
      "source": [
        "## <a name=\"HW8q4c\">Question 4c</a>\n",
        "\n",
        "---\n",
        "\n",
        "Create side-by-side box plots to show the birthweights broken down by state.\n",
        "\n",
        "**Both should be graphed on the same plot as opposed to two separate plots.**\n",
        "\n",
        "### Solution to Question 4c\n",
        "\n",
        "---\n",
        "\n",
        "<br>\n",
        "\n",
        "Use the R code cell below.\n",
        "\n"
      ],
      "metadata": {
        "id": "SNURDnCQ_cHF"
      }
    },
    {
      "cell_type": "code",
      "source": [
        "# create side-by-side boxplot\n"
      ],
      "metadata": {
        "id": "nGqHqe2MBstD"
      },
      "execution_count": null,
      "outputs": []
    },
    {
      "cell_type": "markdown",
      "source": [
        "## <a name=\"HW8q4d\">Question 4d</a>\n",
        "\n",
        "---\n",
        "\n",
        "What is the difference in the observed sample mean mean birthweight between Alaska and Wyoming?\n",
        "\n",
        "### Solution to Question 4d\n",
        "\n",
        "---\n",
        "\n",
        "<br>\n",
        "\n",
        "Use the code cell below to answer the question. Be sure the output is printed to the screen.\n",
        "\n",
        "\n"
      ],
      "metadata": {
        "id": "cMeEYns5_aHa"
      }
    },
    {
      "cell_type": "code",
      "source": [
        "# Enter R command(s) to answer 4d\n"
      ],
      "metadata": {
        "id": "NlLD4FHmB5Ys"
      },
      "execution_count": null,
      "outputs": []
    },
    {
      "cell_type": "markdown",
      "source": [
        "## <a name=\"HW8q4e\">Question 4e</a>\n",
        "\n",
        "---\n",
        "\n",
        "Create a bootstrap distribution for the difference in birthweights in Wyoming and Alaska using the original data.\n",
        "\n",
        "Use $N=10^5$ as the number of bootstrap samples.\n",
        "\n",
        "<br>\n",
        "\n",
        "The code has been partially completed, complete the rest by replacing each `??` with appropriate code.\n",
        "\n",
        "### Solution to Question 4e\n",
        "\n",
        "---\n",
        "\n",
        "-   The code cell below is one way to do this.\n",
        "-   If you used different array names in [Question 4a](#HW8q4a), then be sure to edit the code cell below accordingly.\n",
        "-   Feel free to use another method if your prefer.\n",
        "\n"
      ],
      "metadata": {
        "id": "-R0GdWWC_XlC"
      }
    },
    {
      "cell_type": "code",
      "source": [
        "set.seed(mmdd)  # set seed for fixed output\n",
        "\n",
        "N <- 10^5\n",
        "diff.mean <- numeric(N)\n",
        "for (i in 1:N)\n",
        "{\n",
        "  wy.sample <- sample(??, ??, replace = ??)  # bootstrap resample for Wyoming\n",
        "  ak.sample <- sample(??, ??, replace = ?)  # bootstrap resample for Alaska\n",
        "  diff.mean[i] <- ??  # diff in bootstrap sample means\n",
        "}"
      ],
      "metadata": {
        "id": "lQr8nRM_CNU-"
      },
      "execution_count": null,
      "outputs": []
    },
    {
      "cell_type": "markdown",
      "source": [
        "## <a name=\"HW8q4f\">Question 4f</a>\n",
        "\n",
        "---\n",
        "\n",
        "What is the mean of the bootstrap distribution you found in [Question 4e](#HW8q4e)?\n",
        "\n",
        "### Solution to Question 4f\n",
        "\n",
        "---\n",
        "\n",
        "<br>\n",
        "\n",
        "Use the code cell below to answer the question.\n",
        "\n"
      ],
      "metadata": {
        "id": "cciwJCHi_ViR"
      }
    },
    {
      "cell_type": "code",
      "source": [
        "# compute the mean of bootstrap dist\n"
      ],
      "metadata": {
        "id": "SpHaCeh5CiFI"
      },
      "execution_count": null,
      "outputs": []
    },
    {
      "cell_type": "markdown",
      "source": [
        "## <a name=\"HW8q4g\">Question 4g</a>\n",
        "\n",
        "---\n",
        "\n",
        "What is the bootstrap standard error?\n",
        "\n",
        "### Solution to Question 4g\n",
        "\n",
        "---\n",
        "\n",
        "\n",
        "<br>\n",
        "\n",
        "Use the code cell below to answer the question.\n"
      ],
      "metadata": {
        "id": "xsyTAFPf_RV3"
      }
    },
    {
      "cell_type": "code",
      "source": [
        "# compute the bootstrap standard error\n"
      ],
      "metadata": {
        "id": "u46YEdL6Cpua"
      },
      "execution_count": null,
      "outputs": []
    },
    {
      "cell_type": "markdown",
      "source": [
        "## <a name=\"HW8q4h\">Question 4h</a>\n",
        "\n",
        "---\n",
        "\n",
        "Based on the bootstrap distribution you created in [Question 4e](#HW8q4e), what is the bootstrap estimate of the bias?\n",
        "\n",
        "\n",
        "### Solution to Question 4h\n",
        "\n",
        "---\n",
        "\n",
        "<br>  \n",
        "\n",
        "Use the code cell below to answer the question.\n",
        "\n"
      ],
      "metadata": {
        "id": "wlXcKXrfFbA6"
      }
    },
    {
      "cell_type": "code",
      "source": [
        "# Calculate the bootstrap estimate for bias\n"
      ],
      "metadata": {
        "id": "_NklG9YoFNPk"
      },
      "execution_count": null,
      "outputs": []
    },
    {
      "cell_type": "markdown",
      "source": [
        "## <a name=\"HW8q4h\">Question 4i</a>\n",
        "\n",
        "---\n",
        "\n",
        "Calculate the ratio of the bootstrap bias over the bootstrap standard error. Does this exceed the rule of thumb level for having a substantial effect on the accuracy of the estimate?\n",
        "\n",
        "### Solution to Question 4i\n",
        "\n",
        "---\n",
        "\n",
        "<br>\n",
        "\n",
        "In the space below, comment on whether this exceeds the rule of thumb level for having a substantial effect on the accuracy of the estimate?\n",
        "\n",
        "\n",
        "\n",
        "\n",
        "<br>  \n",
        "<br>  \n"
      ],
      "metadata": {
        "id": "BRqBMD8-FNPw"
      }
    },
    {
      "cell_type": "code",
      "source": [
        "# Calculate the ratio\n"
      ],
      "metadata": {
        "id": "lsL47TJOFNPw"
      },
      "execution_count": null,
      "outputs": []
    },
    {
      "cell_type": "markdown",
      "source": [
        "## <a name=\"HW8q4j\">Question 4j</a>\n",
        "\n",
        "---\n",
        "\n",
        "Give a 99% bootstrap percentile confidence interval to estimate the difference in birthweights of female newborns between Wyoming and Alaska.\n",
        "\n",
        "\n",
        "Then create a histogram of the bootstrap distribution with vertical lines indicating the cutoffs for the confidence interval.\n",
        "\n",
        "Compare your answers with the 99% confidence interval you calculated in **Homework 5, Question 5**.\n",
        "\n",
        "### Solution to Question 4j\n",
        "\n",
        "---\n",
        "\n",
        "<br>\n",
        "\n",
        "Use the code cell below to compute the confidence interval cutoffs. Enter your values in the space below. Round to three decimal places.\n",
        "\n",
        "<br>\n",
        "\n",
        "- My lower cutoff for a 99% boostrap percentile confidence interval is <mark>??</mark>.\n",
        "\n",
        "<br>\n",
        "\n",
        "- My upper cutoff for a 99% boostrap percentile confidence interval is <mark>??</mark>.\n",
        "\n",
        "<br>\n",
        "\n",
        "\n",
        "\n"
      ],
      "metadata": {
        "id": "2AROEVXAFNPw"
      }
    },
    {
      "cell_type": "code",
      "source": [
        "# Find cutoffs for 99% bootstrap percentile conf int\n",
        "\n"
      ],
      "metadata": {
        "id": "cwq2GLOyFNPw"
      },
      "execution_count": null,
      "outputs": []
    },
    {
      "cell_type": "code",
      "source": [
        "# Show bootstrap distribution\n",
        "hist(??,  xlab = \"xbar1-xbar2\",\n",
        "     main = \"Bootstrap Distribution\")\n",
        "\n",
        "# Add a red line at the observed difference in sample means\n",
        "abline(v = ??, col = \"red\", lwd = 2, lty = 1)\n",
        "\n",
        "# Add a blue line at the lower cuttoff\n",
        "abline(v = ??, col = \"blue\", lwd = 2, lty = 1)\n",
        "\n",
        "# Add a blue line at the upper cuttoff\n",
        "abline(v = ??, col = \"blue\", lwd = 2, lty = 1)"
      ],
      "metadata": {
        "id": "3FuyAFSYFNPw"
      },
      "execution_count": null,
      "outputs": []
    },
    {
      "cell_type": "markdown",
      "source": [
        "## <a name=\"HW8q4k\">Question 4k</a>\n",
        "\n",
        "---\n",
        "\n",
        "Based on your answer in [Question 4j](#HW8q4j), do you believe it is plausible that there is a difference in birthweights in the two states?\n",
        "\n",
        "\n",
        "### Solution to Question 4k\n",
        "\n",
        "---\n",
        "\n",
        "<br>\n",
        "\n",
        "Support your answer with an explanation.\n",
        "\n",
        "\n",
        "\n",
        "<br>  \n",
        "<br>  \n",
        "<br>  "
      ],
      "metadata": {
        "id": "GeDfjJiRFNPw"
      }
    },
    {
      "cell_type": "markdown",
      "source": [
        "# <a name=\"HW8q5\">Question 5: Bootstrapping a Difference in Matched Pairs</a>\n",
        "\n",
        "---\n",
        "\n",
        "The package `resampledata` contains the dataset `Groceries` that has the prices at Walmart and Target for a sample of 30 different items.\n",
        "\n",
        "<br>\n",
        "\n",
        "We want to find a 90% bootstrap percentile confidence interval for the mean difference in price of items at Walmart and Target.\n",
        "\n",
        "<br>\n",
        "\n",
        "Run the code cells below to:\n",
        "\n",
        "1. Install `resampledata`.\n",
        "2. Load `resampledata` and summarize `Groceries`.\n",
        "3. Enter your birth month and date.\n"
      ],
      "metadata": {
        "id": "v6b3CkTQh4IY"
      }
    },
    {
      "cell_type": "code",
      "source": [
        "install.packages(\"resampledata\")  # install package"
      ],
      "metadata": {
        "id": "HdRuMX6FHkPF"
      },
      "execution_count": null,
      "outputs": []
    },
    {
      "cell_type": "code",
      "source": [
        "library(resampledata)  # load package\n",
        "summary(Groceries)  # summarize the data"
      ],
      "metadata": {
        "id": "ZnMca8x0HkPP"
      },
      "execution_count": null,
      "outputs": []
    },
    {
      "cell_type": "code",
      "source": [
        "# enter your birth month and date for mmdd\n",
        "mmdd <- ??"
      ],
      "metadata": {
        "id": "8EgaiHRTHkPP"
      },
      "execution_count": null,
      "outputs": []
    },
    {
      "cell_type": "markdown",
      "source": [
        "## <a name=\"HW8q5a\">Question 5a</a>\n",
        "\n",
        "---\n",
        "\n",
        "Calculate the mean and standard deviation for the price of items at **Walmart**.\n",
        "\n",
        "<br>\n",
        "\n",
        "Calculate the mean and standard deviation for the price of items at **Target**.\n",
        "\n",
        "<br>\n",
        "\n",
        "### Solution to Question 5a\n",
        "\n",
        "---\n",
        "\n",
        "<br>\n",
        "\n",
        "Use the code cells below to answer the question.\n"
      ],
      "metadata": {
        "id": "frRXC7yVHdd5"
      }
    },
    {
      "cell_type": "code",
      "source": [
        "# compute the mean and standard deviation\n",
        "# for the price of items at Walmart\n",
        "\n"
      ],
      "metadata": {
        "id": "GHYmudzWIxjv"
      },
      "execution_count": null,
      "outputs": []
    },
    {
      "cell_type": "code",
      "source": [
        "# compute the mean and standard deviation\n",
        "# for the price of items at Target\n",
        "\n"
      ],
      "metadata": {
        "id": "AQ-XDgZyI5qG"
      },
      "execution_count": null,
      "outputs": []
    },
    {
      "cell_type": "markdown",
      "source": [
        "## <a name=\"HW8q5b\">Question 5b</a>\n",
        "\n",
        "---\n",
        "\n",
        "Create a new vector consisting of the differences in prices of the 30 matched pairs.\n",
        "Then calculate the sample mean of the difference in prices at Walmart and Target of the 30 items.\n",
        "\n",
        "-   Note the name of your vector will be useful in [Question 5c](#HW8q5c).\n",
        "\n",
        "### Solution to Question 5b\n",
        "\n",
        "---\n",
        "\n",
        "<br>\n",
        "\n",
        "Use the code cells below to answer the question.\n",
        "\n"
      ],
      "metadata": {
        "id": "N4YF3sT3IRkX"
      }
    },
    {
      "cell_type": "code",
      "source": [
        "# Create a vector of the differences\n",
        "# in prices of the matched pairs\n"
      ],
      "metadata": {
        "id": "frRTTXJ4JGTw"
      },
      "execution_count": null,
      "outputs": []
    },
    {
      "cell_type": "code",
      "source": [
        "# compute the mean difference in matched pairs\n"
      ],
      "metadata": {
        "id": "HkBi7nzrJRAo"
      },
      "execution_count": null,
      "outputs": []
    },
    {
      "cell_type": "markdown",
      "source": [
        "## <a name=\"HW8q5c\">Question 5c</a>\n",
        "\n",
        "---\n",
        "\n",
        "Create a bootstrap distribution for the mean matched-pair difference in the prices at Walmart and Target using the original sample.\n",
        "Use $N=10^5$ as the number of bootstrap samples.\n",
        "\n",
        "### Solution to Question 5c\n",
        "\n",
        "---\n",
        "\n",
        "Replace each `??` to complete the code and create a bootstrap distribution for the mean match-pair difference.\n",
        "\n",
        "-   The code cell below is one way to do this.\n",
        "-   Feel free to use another method if your prefer.\n",
        "\n"
      ],
      "metadata": {
        "id": "11aVmlHrIP9M"
      }
    },
    {
      "cell_type": "code",
      "source": [
        "set.seed(mmdd)  # set for consistent output\n",
        "\n",
        "N <- 10^5\n",
        "boot.matched <- numeric(N)\n",
        "for (i in 1:N)\n",
        "{\n",
        "  x <- sample(??, ??, replace = ??)  # bootstrap resample from differences\n",
        "  boot.matched[i] <- ??  # mean of matched-pair differences\n",
        "}"
      ],
      "metadata": {
        "id": "SUiFwu2SJjvJ"
      },
      "execution_count": null,
      "outputs": []
    },
    {
      "cell_type": "markdown",
      "source": [
        "## <a name=\"HW8q5d\">Question 5d</a>\n",
        "\n",
        "---\n",
        "\n",
        "Calculate the ratio of the bootstrap bias over the bootstrap standard error. Does this exceed the rule of thumb level for having a substantial effect on the accuracy of the estimate?\n",
        "\n",
        "### Solution to Question 5d\n",
        "\n",
        "---\n",
        "\n",
        "<br>\n",
        "\n",
        "In the space below, comment on whether this exceeds the rule of thumb level for having a substantial effect on the accuracy of the estimate?\n",
        "\n",
        "\n",
        "\n",
        "\n",
        "<br>  \n",
        "<br>  \n"
      ],
      "metadata": {
        "id": "lmWvx8jDJ9M6"
      }
    },
    {
      "cell_type": "code",
      "source": [
        "# Calculate the ratio of the bootstrap bias\n",
        "# to the bootstrap standard error\n"
      ],
      "metadata": {
        "id": "z4qN5QB7J9NC"
      },
      "execution_count": null,
      "outputs": []
    },
    {
      "cell_type": "markdown",
      "source": [
        "## <a name=\"HW8q5e\">Question 5e</a>\n",
        "\n",
        "---\n",
        "\n",
        "Give a 90% bootstrap percentile confidence interval to estimate the mean matched pair difference in price.\n",
        "\n",
        "\n",
        "Then create a histogram of the bootstrap distribution with vertical lines indicating the cutoffs for the confidence interval.\n",
        "\n",
        "### Solution to Question 5e\n",
        "\n",
        "---\n",
        "\n",
        "<br>\n",
        "\n",
        "Use the code cell below to compute the confidence interval cutoffs. Enter your values in the space below. Round to three decimal places.\n",
        "\n",
        "<br>\n",
        "\n",
        "- My lower cutoff for a 90% boostrap percentile confidence interval is <mark>??</mark>.\n",
        "\n",
        "<br>\n",
        "\n",
        "- My upper cutoff for a 90% boostrap percentile confidence interval is <mark>??</mark>.\n",
        "\n",
        "<br>\n",
        "\n",
        "\n",
        "\n"
      ],
      "metadata": {
        "id": "ndZoMdORKRqc"
      }
    },
    {
      "cell_type": "code",
      "source": [
        "# Find cutoffs for 90% bootstrap percentile conf int\n",
        "\n"
      ],
      "metadata": {
        "id": "V09lQt0tKRqm"
      },
      "execution_count": null,
      "outputs": []
    },
    {
      "cell_type": "code",
      "source": [
        "# Show bootstrap distribution\n",
        "hist(??,  xlab = \"sample matched pair diff\",\n",
        "     main = \"Bootstrap Distribution\")\n",
        "\n",
        "# Add a red line at the observed mean diff in matched pairs\n",
        "abline(v = ??, col = \"red\", lwd = 2, lty = 1)\n",
        "\n",
        "# Add a blue line at the lower cuttoff\n",
        "abline(v = ??, col = \"blue\", lwd = 2, lty = 1)\n",
        "\n",
        "# Add a blue line at the upper cuttoff\n",
        "abline(v = ??, col = \"blue\", lwd = 2, lty = 1)"
      ],
      "metadata": {
        "id": "hs1g3MQqKRqn"
      },
      "execution_count": null,
      "outputs": []
    },
    {
      "cell_type": "markdown",
      "source": [
        "## <a name=\"HW8q5f\">Question 5f</a>\n",
        "\n",
        "---\n",
        "\n",
        "Based on your answer in [Question 5e](#HW8q5e), do you believe it is plausible that there is a difference in the price at Walmart and Target?\n",
        "\n",
        "\n",
        "### Solution to Question 5f\n",
        "\n",
        "---\n",
        "\n",
        "<br>\n",
        "\n",
        "Support your answer with an explanation.\n",
        "\n",
        "\n",
        "\n",
        "\n",
        "<br>  \n",
        "<br>  \n",
        "<br>  \n"
      ],
      "metadata": {
        "id": "nY4Dc8PCKRqn"
      }
    }
  ]
}