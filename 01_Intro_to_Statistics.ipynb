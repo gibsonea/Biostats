{
  "cells": [
    {
      "cell_type": "markdown",
      "metadata": {
        "id": "view-in-github",
        "colab_type": "text"
      },
      "source": [
        "<a href=\"https://colab.research.google.com/github/gibsonea/Biostats/blob/main/01_Intro_to_Statistics.ipynb\" target=\"_parent\"><img src=\"https://colab.research.google.com/assets/colab-badge.svg\" alt=\"Open In Colab\"/></a>"
      ]
    },

      "source": [
        "# <a name=\"01intro\">1.1: Introduction to Statistics</a>\n",
        "---\n",
        "\n",
        "<font color=\"dodgerblue\">**Statistics**</font> is the study of\n",
        "collection, organization, analysis, interpretation, and presentation of data. Statistical methods are essential in exploring questions that can be analyzed using data. <font color=\"dodgerblue\">**Biostatistics**</font> applies statistical methods to medical and biological data.  Sometimes insights from data arise from a nice visualization or plot. Many times, a nice visualization leads to more advanced questions that require further statistical theory, models, and analysis. In this course, we will explore statistical methods using real data.\n"
      ],
      "id": "4ef5d7b6-2594-4538-a89e-5b8bad047381"
    },
    {
      "cell_type": "markdown",
      "source": [
        "# <a name=\"01what-is-R\">What is R?</a>\n",
        "---\n",
        "\n",
        "[R](https://www.r-project.org/about.html) is a programming language used largely for statistical computing, data wrangling and visualization. We will be using R as a tool for exploring statistical theory.  The first stable version of R was released in 2000, and after all of this time, there is a large community of R users that have already created tons of useful packages and shared interesting data sets that are frequently updated.\n",
        "\n"
      ],
      "metadata": {
        "id": "ci3VzOUXgygM"
      },
      "id": "ci3VzOUXgygM"
    },
    {
      "cell_type": "markdown",
      "source": [
        "## <a name=\"01packages\">What Are Packages in R?</a>\n",
        "---\n",
        "\n",
        "R packages are a collection functions, sample data, and/or other code scripts. R installs a set of default packages during installation. In this case, we are working with R in a cloud using [Google Colaboratory](https://colab.research.google.com/).\n",
        "\n",
        "-   The files, code, and data associated to installed packages are saved in the cloud and not locally on your computer.\n",
        "-   Many R packages have already been installed in Google Colaboratory.\n",
        "\n",
        "**Run the code cell below to get a list of all default R packages\n",
        "available in Google Colaboratory.**"
      ],
      "metadata": {
        "id": "tZZdqlhBi1_Y"
      },
      "id": "tZZdqlhBi1_Y"
    },
    {
      "cell_type": "code",
      "execution_count": null,
      "metadata": {
        "id": "515a52fd-19cd-46c2-b471-228db763fc8f",
        "outputId": "bc7cea73-131b-4d9a-e7d5-736a2dc69f1d",
        "colab": {
          "base_uri": "https://localhost:8080/",
          "height": 156
        }
      },
      "outputs": [
        {
          "output_type": "display_data",
          "data": {
            "text/html": [
              "<style>\n",
              ".list-inline {list-style: none; margin:0; padding: 0}\n",
              ".list-inline>li {display: inline-block}\n",
              ".list-inline>li:not(:last-child)::after {content: \"\\00b7\"; padding: 0 .5ex}\n",
              "</style>\n",
              "<ol class=list-inline><li>'IRdisplay'</li><li>'IRkernel'</li><li>'pbdZMQ'</li><li>'repr'</li><li>'askpass'</li><li>'backports'</li><li>'base64enc'</li><li>'bit'</li><li>'bit64'</li><li>'blob'</li><li>'boot'</li><li>'brew'</li><li>'brio'</li><li>'broom'</li><li>'bslib'</li><li>'cachem'</li><li>'callr'</li><li>'cellranger'</li><li>'cli'</li><li>'clipr'</li><li>'cluster'</li><li>'codetools'</li><li>'colorspace'</li><li>'commonmark'</li><li>'conflicted'</li><li>'cpp11'</li><li>'crayon'</li><li>'credentials'</li><li>'curl'</li><li>'data.table'</li><li>'DBI'</li><li>'dbplyr'</li><li>'desc'</li><li>'devtools'</li><li>'diffobj'</li><li>'digest'</li><li>'downlit'</li><li>'dplyr'</li><li>'dtplyr'</li><li>'ellipsis'</li><li>'evaluate'</li><li>'fansi'</li><li>'farver'</li><li>'fastmap'</li><li>'fontawesome'</li><li>'forcats'</li><li>'foreign'</li><li>'fs'</li><li>'gargle'</li><li>'generics'</li><li>'gert'</li><li>'ggplot2'</li><li>'gh'</li><li>'gitcreds'</li><li>'glue'</li><li>'googledrive'</li><li>'googlesheets4'</li><li>'gtable'</li><li>'haven'</li><li>'highr'</li><li>'hms'</li><li>'htmltools'</li><li>'htmlwidgets'</li><li>'httpuv'</li><li>'httr'</li><li>'httr2'</li><li>'ids'</li><li>'ini'</li><li>'isoband'</li><li>'jquerylib'</li><li>'jsonlite'</li><li>'KernSmooth'</li><li>'knitr'</li><li>'labeling'</li><li>'later'</li><li>'lattice'</li><li>'lifecycle'</li><li>'lubridate'</li><li>'magrittr'</li><li>'MASS'</li><li>'Matrix'</li><li>'memoise'</li><li>'mgcv'</li><li>'mime'</li><li>'miniUI'</li><li>'modelr'</li><li>'munsell'</li><li>'nlme'</li><li>'openssl'</li><li>'pillar'</li><li>'pkgbuild'</li><li>'pkgconfig'</li><li>'pkgdown'</li><li>'pkgload'</li><li>'praise'</li><li>'prettyunits'</li><li>'processx'</li><li>'profvis'</li><li>'progress'</li><li>'promises'</li><li>'ps'</li><li>'purrr'</li><li>'R6'</li><li>'ragg'</li><li>'rappdirs'</li><li>'rcmdcheck'</li><li>'RColorBrewer'</li><li>'Rcpp'</li><li>'readr'</li><li>'readxl'</li><li>'rematch'</li><li>'rematch2'</li><li>'remotes'</li><li>'reprex'</li><li>'rlang'</li><li>'rmarkdown'</li><li>'roxygen2'</li><li>'rpart'</li><li>'rprojroot'</li><li>'rstudioapi'</li><li>'rversions'</li><li>'rvest'</li><li>'sass'</li><li>'scales'</li><li>'selectr'</li><li>'sessioninfo'</li><li>'shiny'</li><li>'sourcetools'</li><li>'spatial'</li><li>'stringi'</li><li>'stringr'</li><li>'survival'</li><li>'sys'</li><li>'systemfonts'</li><li>'testthat'</li><li>'textshaping'</li><li>'tibble'</li><li>'tidyr'</li><li>'tidyselect'</li><li>'tidyverse'</li><li>'timechange'</li><li>'tinytex'</li><li>'tzdb'</li><li>'urlchecker'</li><li>'usethis'</li><li>'utf8'</li><li>'uuid'</li><li>'vctrs'</li><li>'viridisLite'</li><li>'vroom'</li><li>'waldo'</li><li>'whisker'</li><li>'withr'</li><li>'xfun'</li><li>'xml2'</li><li>'xopen'</li><li>'xtable'</li><li>'yaml'</li><li>'zip'</li><li>'base'</li><li>'class'</li><li>'compiler'</li><li>'datasets'</li><li>'graphics'</li><li>'grDevices'</li><li>'grid'</li><li>'methods'</li><li>'nnet'</li><li>'parallel'</li><li>'splines'</li><li>'stats'</li><li>'stats4'</li><li>'tcltk'</li><li>'tools'</li><li>'utils'</li></ol>\n"
            ],
            "text/markdown": "1. 'IRdisplay'\n2. 'IRkernel'\n3. 'pbdZMQ'\n4. 'repr'\n5. 'askpass'\n6. 'backports'\n7. 'base64enc'\n8. 'bit'\n9. 'bit64'\n10. 'blob'\n11. 'boot'\n12. 'brew'\n13. 'brio'\n14. 'broom'\n15. 'bslib'\n16. 'cachem'\n17. 'callr'\n18. 'cellranger'\n19. 'cli'\n20. 'clipr'\n21. 'cluster'\n22. 'codetools'\n23. 'colorspace'\n24. 'commonmark'\n25. 'conflicted'\n26. 'cpp11'\n27. 'crayon'\n28. 'credentials'\n29. 'curl'\n30. 'data.table'\n31. 'DBI'\n32. 'dbplyr'\n33. 'desc'\n34. 'devtools'\n35. 'diffobj'\n36. 'digest'\n37. 'downlit'\n38. 'dplyr'\n39. 'dtplyr'\n40. 'ellipsis'\n41. 'evaluate'\n42. 'fansi'\n43. 'farver'\n44. 'fastmap'\n45. 'fontawesome'\n46. 'forcats'\n47. 'foreign'\n48. 'fs'\n49. 'gargle'\n50. 'generics'\n51. 'gert'\n52. 'ggplot2'\n53. 'gh'\n54. 'gitcreds'\n55. 'glue'\n56. 'googledrive'\n57. 'googlesheets4'\n58. 'gtable'\n59. 'haven'\n60. 'highr'\n61. 'hms'\n62. 'htmltools'\n63. 'htmlwidgets'\n64. 'httpuv'\n65. 'httr'\n66. 'httr2'\n67. 'ids'\n68. 'ini'\n69. 'isoband'\n70. 'jquerylib'\n71. 'jsonlite'\n72. 'KernSmooth'\n73. 'knitr'\n74. 'labeling'\n75. 'later'\n76. 'lattice'\n77. 'lifecycle'\n78. 'lubridate'\n79. 'magrittr'\n80. 'MASS'\n81. 'Matrix'\n82. 'memoise'\n83. 'mgcv'\n84. 'mime'\n85. 'miniUI'\n86. 'modelr'\n87. 'munsell'\n88. 'nlme'\n89. 'openssl'\n90. 'pillar'\n91. 'pkgbuild'\n92. 'pkgconfig'\n93. 'pkgdown'\n94. 'pkgload'\n95. 'praise'\n96. 'prettyunits'\n97. 'processx'\n98. 'profvis'\n99. 'progress'\n100. 'promises'\n101. 'ps'\n102. 'purrr'\n103. 'R6'\n104. 'ragg'\n105. 'rappdirs'\n106. 'rcmdcheck'\n107. 'RColorBrewer'\n108. 'Rcpp'\n109. 'readr'\n110. 'readxl'\n111. 'rematch'\n112. 'rematch2'\n113. 'remotes'\n114. 'reprex'\n115. 'rlang'\n116. 'rmarkdown'\n117. 'roxygen2'\n118. 'rpart'\n119. 'rprojroot'\n120. 'rstudioapi'\n121. 'rversions'\n122. 'rvest'\n123. 'sass'\n124. 'scales'\n125. 'selectr'\n126. 'sessioninfo'\n127. 'shiny'\n128. 'sourcetools'\n129. 'spatial'\n130. 'stringi'\n131. 'stringr'\n132. 'survival'\n133. 'sys'\n134. 'systemfonts'\n135. 'testthat'\n136. 'textshaping'\n137. 'tibble'\n138. 'tidyr'\n139. 'tidyselect'\n140. 'tidyverse'\n141. 'timechange'\n142. 'tinytex'\n143. 'tzdb'\n144. 'urlchecker'\n145. 'usethis'\n146. 'utf8'\n147. 'uuid'\n148. 'vctrs'\n149. 'viridisLite'\n150. 'vroom'\n151. 'waldo'\n152. 'whisker'\n153. 'withr'\n154. 'xfun'\n155. 'xml2'\n156. 'xopen'\n157. 'xtable'\n158. 'yaml'\n159. 'zip'\n160. 'base'\n161. 'class'\n162. 'compiler'\n163. 'datasets'\n164. 'graphics'\n165. 'grDevices'\n166. 'grid'\n167. 'methods'\n168. 'nnet'\n169. 'parallel'\n170. 'splines'\n171. 'stats'\n172. 'stats4'\n173. 'tcltk'\n174. 'tools'\n175. 'utils'\n\n\n",
            "text/latex": "\\begin{enumerate*}\n\\item 'IRdisplay'\n\\item 'IRkernel'\n\\item 'pbdZMQ'\n\\item 'repr'\n\\item 'askpass'\n\\item 'backports'\n\\item 'base64enc'\n\\item 'bit'\n\\item 'bit64'\n\\item 'blob'\n\\item 'boot'\n\\item 'brew'\n\\item 'brio'\n\\item 'broom'\n\\item 'bslib'\n\\item 'cachem'\n\\item 'callr'\n\\item 'cellranger'\n\\item 'cli'\n\\item 'clipr'\n\\item 'cluster'\n\\item 'codetools'\n\\item 'colorspace'\n\\item 'commonmark'\n\\item 'conflicted'\n\\item 'cpp11'\n\\item 'crayon'\n\\item 'credentials'\n\\item 'curl'\n\\item 'data.table'\n\\item 'DBI'\n\\item 'dbplyr'\n\\item 'desc'\n\\item 'devtools'\n\\item 'diffobj'\n\\item 'digest'\n\\item 'downlit'\n\\item 'dplyr'\n\\item 'dtplyr'\n\\item 'ellipsis'\n\\item 'evaluate'\n\\item 'fansi'\n\\item 'farver'\n\\item 'fastmap'\n\\item 'fontawesome'\n\\item 'forcats'\n\\item 'foreign'\n\\item 'fs'\n\\item 'gargle'\n\\item 'generics'\n\\item 'gert'\n\\item 'ggplot2'\n\\item 'gh'\n\\item 'gitcreds'\n\\item 'glue'\n\\item 'googledrive'\n\\item 'googlesheets4'\n\\item 'gtable'\n\\item 'haven'\n\\item 'highr'\n\\item 'hms'\n\\item 'htmltools'\n\\item 'htmlwidgets'\n\\item 'httpuv'\n\\item 'httr'\n\\item 'httr2'\n\\item 'ids'\n\\item 'ini'\n\\item 'isoband'\n\\item 'jquerylib'\n\\item 'jsonlite'\n\\item 'KernSmooth'\n\\item 'knitr'\n\\item 'labeling'\n\\item 'later'\n\\item 'lattice'\n\\item 'lifecycle'\n\\item 'lubridate'\n\\item 'magrittr'\n\\item 'MASS'\n\\item 'Matrix'\n\\item 'memoise'\n\\item 'mgcv'\n\\item 'mime'\n\\item 'miniUI'\n\\item 'modelr'\n\\item 'munsell'\n\\item 'nlme'\n\\item 'openssl'\n\\item 'pillar'\n\\item 'pkgbuild'\n\\item 'pkgconfig'\n\\item 'pkgdown'\n\\item 'pkgload'\n\\item 'praise'\n\\item 'prettyunits'\n\\item 'processx'\n\\item 'profvis'\n\\item 'progress'\n\\item 'promises'\n\\item 'ps'\n\\item 'purrr'\n\\item 'R6'\n\\item 'ragg'\n\\item 'rappdirs'\n\\item 'rcmdcheck'\n\\item 'RColorBrewer'\n\\item 'Rcpp'\n\\item 'readr'\n\\item 'readxl'\n\\item 'rematch'\n\\item 'rematch2'\n\\item 'remotes'\n\\item 'reprex'\n\\item 'rlang'\n\\item 'rmarkdown'\n\\item 'roxygen2'\n\\item 'rpart'\n\\item 'rprojroot'\n\\item 'rstudioapi'\n\\item 'rversions'\n\\item 'rvest'\n\\item 'sass'\n\\item 'scales'\n\\item 'selectr'\n\\item 'sessioninfo'\n\\item 'shiny'\n\\item 'sourcetools'\n\\item 'spatial'\n\\item 'stringi'\n\\item 'stringr'\n\\item 'survival'\n\\item 'sys'\n\\item 'systemfonts'\n\\item 'testthat'\n\\item 'textshaping'\n\\item 'tibble'\n\\item 'tidyr'\n\\item 'tidyselect'\n\\item 'tidyverse'\n\\item 'timechange'\n\\item 'tinytex'\n\\item 'tzdb'\n\\item 'urlchecker'\n\\item 'usethis'\n\\item 'utf8'\n\\item 'uuid'\n\\item 'vctrs'\n\\item 'viridisLite'\n\\item 'vroom'\n\\item 'waldo'\n\\item 'whisker'\n\\item 'withr'\n\\item 'xfun'\n\\item 'xml2'\n\\item 'xopen'\n\\item 'xtable'\n\\item 'yaml'\n\\item 'zip'\n\\item 'base'\n\\item 'class'\n\\item 'compiler'\n\\item 'datasets'\n\\item 'graphics'\n\\item 'grDevices'\n\\item 'grid'\n\\item 'methods'\n\\item 'nnet'\n\\item 'parallel'\n\\item 'splines'\n\\item 'stats'\n\\item 'stats4'\n\\item 'tcltk'\n\\item 'tools'\n\\item 'utils'\n\\end{enumerate*}\n",
            "text/plain": [
              "  [1] \"IRdisplay\"     \"IRkernel\"      \"pbdZMQ\"        \"repr\"         \n",
              "  [5] \"askpass\"       \"backports\"     \"base64enc\"     \"bit\"          \n",
              "  [9] \"bit64\"         \"blob\"          \"boot\"          \"brew\"         \n",
              " [13] \"brio\"          \"broom\"         \"bslib\"         \"cachem\"       \n",
              " [17] \"callr\"         \"cellranger\"    \"cli\"           \"clipr\"        \n",
              " [21] \"cluster\"       \"codetools\"     \"colorspace\"    \"commonmark\"   \n",
              " [25] \"conflicted\"    \"cpp11\"         \"crayon\"        \"credentials\"  \n",
              " [29] \"curl\"          \"data.table\"    \"DBI\"           \"dbplyr\"       \n",
              " [33] \"desc\"          \"devtools\"      \"diffobj\"       \"digest\"       \n",
              " [37] \"downlit\"       \"dplyr\"         \"dtplyr\"        \"ellipsis\"     \n",
              " [41] \"evaluate\"      \"fansi\"         \"farver\"        \"fastmap\"      \n",
              " [45] \"fontawesome\"   \"forcats\"       \"foreign\"       \"fs\"           \n",
              " [49] \"gargle\"        \"generics\"      \"gert\"          \"ggplot2\"      \n",
              " [53] \"gh\"            \"gitcreds\"      \"glue\"          \"googledrive\"  \n",
              " [57] \"googlesheets4\" \"gtable\"        \"haven\"         \"highr\"        \n",
              " [61] \"hms\"           \"htmltools\"     \"htmlwidgets\"   \"httpuv\"       \n",
              " [65] \"httr\"          \"httr2\"         \"ids\"           \"ini\"          \n",
              " [69] \"isoband\"       \"jquerylib\"     \"jsonlite\"      \"KernSmooth\"   \n",
              " [73] \"knitr\"         \"labeling\"      \"later\"         \"lattice\"      \n",
              " [77] \"lifecycle\"     \"lubridate\"     \"magrittr\"      \"MASS\"         \n",
              " [81] \"Matrix\"        \"memoise\"       \"mgcv\"          \"mime\"         \n",
              " [85] \"miniUI\"        \"modelr\"        \"munsell\"       \"nlme\"         \n",
              " [89] \"openssl\"       \"pillar\"        \"pkgbuild\"      \"pkgconfig\"    \n",
              " [93] \"pkgdown\"       \"pkgload\"       \"praise\"        \"prettyunits\"  \n",
              " [97] \"processx\"      \"profvis\"       \"progress\"      \"promises\"     \n",
              "[101] \"ps\"            \"purrr\"         \"R6\"            \"ragg\"         \n",
              "[105] \"rappdirs\"      \"rcmdcheck\"     \"RColorBrewer\"  \"Rcpp\"         \n",
              "[109] \"readr\"         \"readxl\"        \"rematch\"       \"rematch2\"     \n",
              "[113] \"remotes\"       \"reprex\"        \"rlang\"         \"rmarkdown\"    \n",
              "[117] \"roxygen2\"      \"rpart\"         \"rprojroot\"     \"rstudioapi\"   \n",
              "[121] \"rversions\"     \"rvest\"         \"sass\"          \"scales\"       \n",
              "[125] \"selectr\"       \"sessioninfo\"   \"shiny\"         \"sourcetools\"  \n",
              "[129] \"spatial\"       \"stringi\"       \"stringr\"       \"survival\"     \n",
              "[133] \"sys\"           \"systemfonts\"   \"testthat\"      \"textshaping\"  \n",
              "[137] \"tibble\"        \"tidyr\"         \"tidyselect\"    \"tidyverse\"    \n",
              "[141] \"timechange\"    \"tinytex\"       \"tzdb\"          \"urlchecker\"   \n",
              "[145] \"usethis\"       \"utf8\"          \"uuid\"          \"vctrs\"        \n",
              "[149] \"viridisLite\"   \"vroom\"         \"waldo\"         \"whisker\"      \n",
              "[153] \"withr\"         \"xfun\"          \"xml2\"          \"xopen\"        \n",
              "[157] \"xtable\"        \"yaml\"          \"zip\"           \"base\"         \n",
              "[161] \"class\"         \"compiler\"      \"datasets\"      \"graphics\"     \n",
              "[165] \"grDevices\"     \"grid\"          \"methods\"       \"nnet\"         \n",
              "[169] \"parallel\"      \"splines\"       \"stats\"         \"stats4\"       \n",
              "[173] \"tcltk\"         \"tools\"         \"utils\"        "
            ]
          },
          "metadata": {}
        }
      ],
      "source": [
        "# See a list of installed default packages\n",
        "allpack <- installed.packages()\n",
        "rownames(allpack)"
      ],
      "id": "515a52fd-19cd-46c2-b471-228db763fc8f"
    },
    {
      "cell_type": "markdown",
      "metadata": {
        "id": "3749c418-ee45-491c-86c6-b59179b027d1"
      },
      "source": [
        "## <a name=\"01data\">What Data is Available in R?</a>\n",
        "---\n",
        "\n",
        "R has many available data sets that we can easily import, investigate, and apply statistical methods and analysis that we will discover this semester.\n",
        "\n",
        "-   Run the code cell below to get a list of all available data sets in all available packages in R.\n",
        "-   A tab should open on the right displaying a long list of data sets.\n",
        "-   We can close the tab in order to keep a larger working window."
      ],
      "id": "3749c418-ee45-491c-86c6-b59179b027d1"
    },
    {
      "cell_type": "code",
      "execution_count": null,
      "metadata": {
        "id": "5d2ddc93-2b1d-4139-9ac5-aa12d5e3f11b"
      },
      "outputs": [],
      "source": [
        "data(package = .packages(all.available = TRUE))"
      ],
      "id": "5d2ddc93-2b1d-4139-9ac5-aa12d5e3f11b"
    },
    {
      "cell_type": "markdown",
      "metadata": {
        "id": "20c364ae-4997-4621-a1c6-833cc66dcf82"
      },
      "source": [
        "## <a name=\"01load-pack\">Loading Packages with the `library()` Command</a>\n",
        "---\n",
        "\n",
        "Each time we start or restart a new R session and want to access the library of functions and data in the package, we need to load the library of files in the package with the `library()` command.\n",
        "\n",
        "-   The `dplyr` package is already installed in Google Colaboratory\n",
        "-   We still need to use a `library()` command to load the package if we want to access data and functions in the package.\n",
        "-   If we do not run the code cell below, we will not be able to run the rest of the code cells in this document without receiving error messages.\n",
        "-   **Run the code cell below to load the `dplyr` package.**"
      ],
      "id": "20c364ae-4997-4621-a1c6-833cc66dcf82"
    },
    {
      "cell_type": "code",
      "execution_count": null,
      "metadata": {
        "id": "da6702b3-120e-43b9-bd24-3b73284c87f3"
      },
      "outputs": [],
      "source": [
        "library(dplyr)"
      ],
      "id": "da6702b3-120e-43b9-bd24-3b73284c87f3"
    },
    {
      "cell_type": "markdown",
      "metadata": {
        "id": "f2737f83-f8e7-4238-90b6-bee8d83429d1"
      },
      "source": [
        "### <a name=\"01reload\">Caution: Reloading Packages When Restarting a Session</a>\n",
        "---\n",
        "\n",
        "If we take a break in our work, it is possible our R session will time out and close. <font color=\"tomato\">**Each time we restart an R session, we will need to rerun `library()` commands in order reload any packages we plan to use**</span>.\n",
        "\n",
        "The same caution applies to any objects, vectors, or data frames we create or edit in an R session. If a session times out, and we want to use an object `x` that we previously created, we will need to run the code cell(s) where object `x` is created again before we can refer back to `x` in the current session.\n",
        "\n"
      ],
      "id": "f2737f83-f8e7-4238-90b6-bee8d83429d1"
    },
    {
      "cell_type": "markdown",
      "source": [
        "## <a name=\"01help\">Finding Help Documentation</a>\n",
        "---\n",
        "\n",
        "As with learning any new skill, it is always useful to know where to find help. R has been in use since 2000, and there is a large, active community of users that share lots of helpful advice online. Certainly [Google](https://www.google.com/) or other search engines are a useful way to search and find help with R. Below are two additional websites useful for searching for help with R.\n",
        "\n",
        "-   The developers of R have [useful page where to find help](https://www.r-project.org/help.html).\n",
        "-   [Rseek](https://rseek.org/) is provided by Sasha Goodman at Stanford university. This engine lets you search several R related sites.\n",
        "\n",
        "We can also find help without opening a separate browser window or tab. The `?` help operator and `help()` function provide access to the help manuals for R functions, data sets, and other objects. Running a `?` or `help()` command in a code cell opens a side bar with a tab displaying the help documentation.\n",
        "\n",
        "-   For example, the package `dplyr` contains a data set called `storms`.\n",
        "-   Where is the data from, and what variables are in the data set?\n",
        "-   **Run the code cell below to access the help documentation for the `storms` data set.**\n",
        "    -   Resizing the tab in the side bar may help the documentation be more readable.\n",
        "    -   We can close the tab if we want to increase the size of our working window."
      ],
      "metadata": {
        "id": "7iKHN8QEi5r1"
      },
      "id": "7iKHN8QEi5r1"
    },
    {
      "cell_type": "code",
      "execution_count": null,
      "metadata": {
        "id": "44284484-234e-4a1d-99b9-bfb3a7c8a090"
      },
      "outputs": [],
      "source": [
        "?storms"
      ],
      "id": "44284484-234e-4a1d-99b9-bfb3a7c8a090"
    },
    {
      "cell_type": "markdown",
      "source": [
        "- Another useful command is glimpse(data) which shows a snapshot of the dataset and the different variables"
      ],
      "metadata": {
        "id": "xvgYP4m7A2jG"
      },
      "id": "xvgYP4m7A2jG"
    },
    {
      "cell_type": "code",
      "source": [
        "glimpse(storms)"
      ],
      "metadata": {
        "id": "zU_tTHe9D5-q",
        "outputId": "6db0388b-dd3f-4166-85dd-f1a7749ca79e",
        "colab": {
          "base_uri": "https://localhost:8080/"
        }
      },
      "id": "zU_tTHe9D5-q",
      "execution_count": null,
      "outputs": [
        {
          "output_type": "stream",
          "name": "stdout",
          "text": [
            "Rows: 19,537\n",
            "Columns: 13\n",
            "$ name                         \u001b[3m\u001b[90m<chr>\u001b[39m\u001b[23m \"Amy\", \"Amy\", \"Amy\", \"Amy\", \"Amy\", \"Amy\",…\n",
            "$ year                         \u001b[3m\u001b[90m<dbl>\u001b[39m\u001b[23m 1975, 1975, 1975, 1975, 1975, 1975, 1975,…\n",
            "$ month                        \u001b[3m\u001b[90m<dbl>\u001b[39m\u001b[23m 6, 6, 6, 6, 6, 6, 6, 6, 6, 6, 6, 6, 6, 6,…\n",
            "$ day                          \u001b[3m\u001b[90m<int>\u001b[39m\u001b[23m 27, 27, 27, 27, 28, 28, 28, 28, 29, 29, 2…\n",
            "$ hour                         \u001b[3m\u001b[90m<dbl>\u001b[39m\u001b[23m 0, 6, 12, 18, 0, 6, 12, 18, 0, 6, 12, 18,…\n",
            "$ lat                          \u001b[3m\u001b[90m<dbl>\u001b[39m\u001b[23m 27.5, 28.5, 29.5, 30.5, 31.5, 32.4, 33.3,…\n",
            "$ long                         \u001b[3m\u001b[90m<dbl>\u001b[39m\u001b[23m -79.0, -79.0, -79.0, -79.0, -78.8, -78.7,…\n",
            "$ status                       \u001b[3m\u001b[90m<fct>\u001b[39m\u001b[23m tropical depression, tropical depression,…\n",
            "$ category                     \u001b[3m\u001b[90m<dbl>\u001b[39m\u001b[23m \u001b[31mNA\u001b[39m, \u001b[31mNA\u001b[39m, \u001b[31mNA\u001b[39m, \u001b[31mNA\u001b[39m, \u001b[31mNA\u001b[39m, \u001b[31mNA\u001b[39m, \u001b[31mNA\u001b[39m, \u001b[31mNA\u001b[39m, \u001b[31mNA\u001b[39m, \u001b[31mNA\u001b[39m, \u001b[31mN\u001b[39m…\n",
            "$ wind                         \u001b[3m\u001b[90m<int>\u001b[39m\u001b[23m 25, 25, 25, 25, 25, 25, 25, 30, 35, 40, 4…\n",
            "$ pressure                     \u001b[3m\u001b[90m<int>\u001b[39m\u001b[23m 1013, 1013, 1013, 1013, 1012, 1012, 1011,…\n",
            "$ tropicalstorm_force_diameter \u001b[3m\u001b[90m<int>\u001b[39m\u001b[23m \u001b[31mNA\u001b[39m, \u001b[31mNA\u001b[39m, \u001b[31mNA\u001b[39m, \u001b[31mNA\u001b[39m, \u001b[31mNA\u001b[39m, \u001b[31mNA\u001b[39m, \u001b[31mNA\u001b[39m, \u001b[31mNA\u001b[39m, \u001b[31mNA\u001b[39m, \u001b[31mNA\u001b[39m, \u001b[31mN\u001b[39m…\n",
            "$ hurricane_force_diameter     \u001b[3m\u001b[90m<int>\u001b[39m\u001b[23m \u001b[31mNA\u001b[39m, \u001b[31mNA\u001b[39m, \u001b[31mNA\u001b[39m, \u001b[31mNA\u001b[39m, \u001b[31mNA\u001b[39m, \u001b[31mNA\u001b[39m, \u001b[31mNA\u001b[39m, \u001b[31mNA\u001b[39m, \u001b[31mNA\u001b[39m, \u001b[31mNA\u001b[39m, \u001b[31mN\u001b[39m…\n"
          ]
        }
      ]
    },
    {
      "cell_type": "markdown",
      "metadata": {
        "id": "0ca0e7c6-1aca-4eb4-9e2c-f5c3021db36f"
      },
      "source": [
        "## <a name=\"01q1\">Question 1</a>\n",
        "---\n",
        "\n",
        "After reading the `storms` help documentation, answer the following\n",
        "questions:\n",
        "\n",
        "a.  What is the source of the data?\n",
        "\n",
        "b.  What variables are included in the data?\n",
        "\n",
        "c.  Over what period of time and how frequently are observations recorded?\n",
        "\n",
        "### <a name=\"01sol1\">Solutions to Question 1</a>\n",
        "---\n",
        "\n",
        "<br> <br> <br> <br>\n",
        "  \n",
        "\n"
      ],
      "id": "0ca0e7c6-1aca-4eb4-9e2c-f5c3021db36f"
    },
    {
      "cell_type": "markdown",
      "source": [
        "## <a name=\"01q2\">Question 2</a>\n",
        "---\n",
        "\n",
        "Insert a code cell and run the command `?hist` to see the help\n",
        "documentation for the histogram function.\n",
        "\n",
        "a.  What option can we use to add a main title to the histogram?\n",
        "\n",
        "b.  What option can we use to set the fill color for the bars of a histogram?\n",
        "\n",
        "### <a name=\"01sol2\">Solution to Question 2</a>\n",
        "---\n",
        "\n",
        "<br> <br> <br> <br>\n",
        "  \n",
        "\n"
      ],
      "metadata": {
        "id": "7yRLREkCi-Iv"
      },
      "id": "7yRLREkCi-Iv"
    },
    {
      "cell_type": "markdown",
      "source": [
        "# <a name=\"01inference\">Statistical Inference</a>\n",
        "---\n",
        "\n",
        "A fundamental application of statistics is to use data from a subset of\n",
        "a population to draw conclusions about the population.\n",
        "\n",
        "-   A <font color=\"dodgerblue\">**population**</font> includes all individuals or objects of interest.\n",
        "-   A <font color=\"dodgerblue\">**sample**</font> is a subset of the population.\n",
        "-   <font color=\"dodgerblue\">**Statistical inference**</font> is the process of drawing conclusions about the entire population based on information in a sample.\n",
        "-   This process can be thought of as a cycle that is pictured below.\n",
        "\n",
        "\n",
        "<figure>\n",
        "<img\n",
        "src=\"https://upload.wikimedia.org/wikipedia/commons/e/ee/01fig-inference.png\"\n",
        "style=\"width:80.0%\"\n",
        "alt=\"Image Credit: Loneshieling, modified by Adam Spiegler, CC BY-SA 4.0.\" />\n",
        "<figcaption aria-hidden=\"true\">Image Credit: <a\n",
        "href=\"https://commons.m.wikimedia.org/wiki/File:Population_versus_sample_%28statistics%29.png\">Loneshieling</a>,\n",
        "modified by Adam Spiegler, <a\n",
        "href=\"https://creativecommons.org/licenses/by-sa/4.0\">CC BY-SA\n",
        "4.0</a>.</figcaption>\n",
        "</figure>\n",
        "\n",
        "**This semester we will mainly focus on steps 3 and 4; however, the methods we learn are not as powerful without carefully considering steps 1 and 2!**\n",
        "\n"
      ],
      "metadata": {
        "id": "_akQ3XenjAHB"
      },
      "id": "_akQ3XenjAHB"
    },
    {
      "cell_type": "markdown",
      "source": [
        "## <a name=\"01produce\">Produce Data</a>\n",
        "---\n",
        "\n",
        "<font color=\"dodgerblue\">**We need data to do\n",
        "statistics!**</font> How we design the collection of data is a crucial first step. If we collect the wrong data or biased data, we cannot gain reasonable insights to achieve our goal even if we do proper analysis. In the end, the conclusions we infer are only as strong as the data we collect.\n",
        "\n",
        "-   Experimental design is an entire field in itself and requires many considerations and techniques to ensure we can reach our ultimate goal.\n",
        "-   Collecting or finding the right data is a critical step that should be carefully planned.\n",
        "-   We do not spend too much time on this aspect of the process this semester, but we should be very aware of how important and delicate this step can be.\n",
        "-   There are many interesting data sets others have already collected that we can easily import into R for further analysis.\n",
        "-   This semester we will mostly be working with data sets that others have already carefully collected rather than produce the data ourselves.\n",
        "\n"
      ],
      "metadata": {
        "id": "pRP3hIVyjCqi"
      },
      "id": "pRP3hIVyjCqi"
    },
    {
      "cell_type": "markdown",
      "source": [
        "## <a name=\"01explore\">Explore Data</a>\n",
        "---\n",
        "\n",
        "<font color=\"dodgerblue\">**Exploratory data analysis**</span>,\n",
        "or <font color=\"dodgerblue\">**EDA**</font> for short, can be\n",
        "thought of as a cycle:\n",
        "\n",
        "-   Generate questions about our data.\n",
        "-   Search for answers by visualizing, transforming, and modeling our data.\n",
        "-   Use what we learn to refine your questions and/or generate new questions.\n",
        "\n",
        "The main goal of EDA is to develop an understanding of your data. When we ask a question, the question focuses our attention on a specific part of the data set and helps us decide which graphs, models, or transformations to make.\n",
        "\n",
        "-   EDA can be an intricate process that requires developing some keen investigation skills.\n",
        "-   [Exploratory Data Analysis with R](https://bookdown.org/rdpeng/exdata/) by Roger Peng is a free textbook to help you dig deeper into EDA if interested!\n",
        "-   Our focus this semester will not be on EDA, but at times we will be exploring data in order to uncover our own statistical questions.\n",
        "\n"
      ],
      "metadata": {
        "id": "Fde8DwVIjER8"
      },
      "id": "Fde8DwVIjER8"
    },
    {
      "cell_type": "markdown",
      "source": [
        "## <a name=\"01analyze\">Analyze and Interpret</a>\n",
        "---\n",
        "\n",
        "After we explore data and generate statistical questions to investigate, we apply statistical methods to analyze the data and hopefully gain insight to draw conclusions. Sometimes, even though we carefully perform our analysis correctly, we are unable to reach a decisive conclusion. Sometimes instead of reaching an answer, the insight we gain informs us to refine our question. Other times, it simply leads to more questions!\n",
        "<font color=\"dodgerblue\">**Probability**</font> is required to\n",
        "do statistical analysis, and we will explore some key results from probability that we will need to apply in this step.\n",
        "\n"
      ],
      "metadata": {
        "id": "GSO5_eIHjFqb"
      },
      "id": "GSO5_eIHjFqb"
    },
    {
      "cell_type": "markdown",
      "source": [
        "## <a name=\"01present\">Present Findings</a>\n",
        "---\n",
        "\n",
        "Finally, after we have interpreted our results, we present our findings to others. Sometimes our colleagues specialize in fields outside of mathematics, statistics, or data science. They rely on us to breakdown our findings in more practical terms accessible to a more general audience.\n",
        "\n"
      ],
      "metadata": {
        "id": "vCSu-qrhjGs1"
      },
      "id": "vCSu-qrhjGs1"
    },
    {
      "cell_type": "markdown",
      "source": [
        "## <a name=\"01ethics\">Professional Ethics</a>\n",
        "---\n",
        "\n",
        "As we learn and refine our statistical tools, it is our duty to be\n",
        "mindful of the moral and ethical considerations at play in deciding what\n",
        "statistical questions we want to explore, how we produce data, what is\n",
        "the source of our data, what is the benefit to society of our work, and\n",
        "who is impacted by our analysis.\n",
        "\n",
        "Below are two sources with ethical guidance to help steer our practice of statistics.\n",
        "\n",
        "-   [*Ethical Guidelines for Statistical Practice*](https://www.amstat.org/your-career/ethical-guidelines-for-statistical-practice) by the American Statistical Association (ASA).\n",
        "-   [*Declaration on Professional Ethics*](https://isi-web.org/declaration-professional-ethics-2010) by the International Statistical Institute.\n",
        "\n"
      ],
      "metadata": {
        "id": "-mXuxN8AjH8j"
      },
      "id": "-mXuxN8AjH8j"
    },
    {
      "cell_type": "markdown",
      "source": [
        "## <a name=\"01q3\">Question 3</a>\n",
        "---\n",
        "\n",
        "In the `storms` data set, is the data from a sample or a population? What information in the help documentation supports your answer? Recall you can run the command `?storms` to open the help documentation.\n",
        "\n",
        "### <a name=\"01sol3\">Solution to Question 3</a>\n",
        "---\n",
        "\n",
        "<br> <br> <br> <br>  \n",
        "  \n",
        "\n"
      ],
      "metadata": {
        "id": "TJX17874jKVU"
      },
      "id": "TJX17874jKVU"
    },
    {
      "cell_type": "markdown",
      "source": [
        "## <a name=\"01q4\">Question 4</a>\n",
        "---\n",
        "\n",
        "What statistical questions might be worth investigating among the\n",
        "variables in the `storms` data set? What data visualizations could be useful to uncover interesting questions?\n",
        "\n",
        "Run the `summary(storms)` command in the code cell below to view a numerical summary for each variable in the data set to help formulate your question."
      ],
      "metadata": {
        "id": "rRv48lX0jOwe"
      },
      "id": "rRv48lX0jOwe"
    },
    {
      "cell_type": "code",
      "execution_count": null,
      "metadata": {
        "id": "17063199-6f96-4ca0-a95f-4fc29d03df28",
        "colab": {
          "base_uri": "https://localhost:8080/",
          "height": 605
        },
        "outputId": "c5ecd816-6469-4859-a714-f4b36105dd21"
      },
      "outputs": [
        {
          "output_type": "display_data",
          "data": {
            "text/plain": [
              "     name                year          month             day       \n",
              " Length:19537       Min.   :1975   Min.   : 1.000   Min.   : 1.00  \n",
              " Class :character   1st Qu.:1994   1st Qu.: 8.000   1st Qu.: 8.00  \n",
              " Mode  :character   Median :2004   Median : 9.000   Median :16.00  \n",
              "                    Mean   :2003   Mean   : 8.706   Mean   :15.73  \n",
              "                    3rd Qu.:2013   3rd Qu.: 9.000   3rd Qu.:24.00  \n",
              "                    Max.   :2022   Max.   :12.000   Max.   :31.00  \n",
              "                                                                   \n",
              "      hour             lat             long                         status    \n",
              " Min.   : 0.000   Min.   : 7.00   Min.   :-136.90   tropical storm     :6830  \n",
              " 1st Qu.: 5.000   1st Qu.:18.30   1st Qu.: -78.80   hurricane          :4803  \n",
              " Median :12.000   Median :26.60   Median : -62.30   tropical depression:3569  \n",
              " Mean   : 9.101   Mean   :27.01   Mean   : -61.56   extratropical      :2151  \n",
              " 3rd Qu.:18.000   3rd Qu.:33.80   3rd Qu.: -45.50   other low          :1453  \n",
              " Max.   :23.000   Max.   :70.70   Max.   :  13.50   subtropical storm  : 298  \n",
              "                                                    (Other)            : 433  \n",
              "    category          wind           pressure      tropicalstorm_force_diameter\n",
              " Min.   :1.000   Min.   : 10.00   Min.   : 882.0   Min.   :   0.0              \n",
              " 1st Qu.:1.000   1st Qu.: 30.00   1st Qu.: 986.0   1st Qu.:   0.0              \n",
              " Median :1.000   Median : 45.00   Median :1000.0   Median : 110.0              \n",
              " Mean   :1.896   Mean   : 50.05   Mean   : 993.5   Mean   : 147.9              \n",
              " 3rd Qu.:3.000   3rd Qu.: 65.00   3rd Qu.:1007.0   3rd Qu.: 220.0              \n",
              " Max.   :5.000   Max.   :165.00   Max.   :1024.0   Max.   :1440.0              \n",
              " NA's   :14734                                     NA's   :9512                \n",
              " hurricane_force_diameter\n",
              " Min.   :  0.00          \n",
              " 1st Qu.:  0.00          \n",
              " Median :  0.00          \n",
              " Mean   : 14.92          \n",
              " 3rd Qu.:  0.00          \n",
              " Max.   :300.00          \n",
              " NA's   :9512            "
            ]
          },
          "metadata": {}
        }
      ],
      "source": [
        "summary(storms)"
      ],
      "id": "17063199-6f96-4ca0-a95f-4fc29d03df28"
    },
    {
      "cell_type": "markdown",
      "metadata": {
        "id": "e497a79b-6316-4f86-b559-dc2acb86a892"
      },
      "source": [
        "### <a name=\"01sol4\">Solution to Question 4</a>\n",
        "---\n",
        "\n",
        "<br> <br> <br> <br>  \n",
        "  \n",
        "  \n",
        "\n"
      ],
      "id": "e497a79b-6316-4f86-b559-dc2acb86a892"
    },
    {
      "cell_type": "markdown",
      "source": [
        "# <a name=\"01sampling\">Sampling Methods</a>\n",
        "---\n",
        "\n",
        "Since drawing a sample that resembles the population in every way\n",
        "(except smaller in number) is critical for drawing valid conclusions, how we pick samples is crucial. Sometimes we are limited by considerations such as how expensive or timely it is to collect data from a population. **We always have an obligation to be ethical in how we collect data.**\n",
        "\n",
        "<font color=\"dodgerblue\">**Sampling bias**</font> occurs when the\n",
        "method of selecting a sample causes the sample to differ from the population in some relevant way. The best way to avoid bias is to take the human element out of the process.\n",
        "\n"
      ],
      "metadata": {
        "id": "ISRmFUIRjQ1y"
      },
      "id": "ISRmFUIRjQ1y"
    },
    {
      "cell_type": "markdown",
      "source": [
        "## <a name=\"01random\">Random Sampling Methods</a>\n",
        "---\n",
        "\n",
        "When possible, collecting samples randomly without human interference is the best and therefore preferred method. <font color=\"dodgerblue\">**Randomly selecting samples is the best way to avoid bias.**</font>  Below are some common methods for selecting random samples and avoiding bias."
      ],
      "metadata": {
        "id": "tx4c7GMMjR8F"
      },
      "id": "tx4c7GMMjR8F"
    },
    {
      "cell_type": "markdown",
      "source": [
        "### <a name=\"01simple\">Simple Random Sample</a>\n",
        "---\n",
        "\n",
        "When selecting a <font color=\"dodgerblue\">**simple random sample**</font>, all individuals are equally likely to be selected.\n",
        "\n",
        "-   Assign 12 participants in an experiment a number 1 to 12. Randomly select 4 numbers and assign those individuals to treatment group A.\n",
        "\n",
        "<figure>\n",
        "<a title=\"Dan Kernler, CC BY-SA 4.0 &lt;https://creativecommons.org/licenses/by-sa/4.0&gt;, via Wikimedia Commons\" href=\"https://commons.wikimedia.org/wiki/File:Simple_random_sampling.PNG\"><img width=\"256\" alt=\"Simple random sampling\" src=\"https://upload.wikimedia.org/wikipedia/commons/b/bf/Simple_random_sampling.PNG\"></a>\n",
        "<figcaption aria-hidden=\"true\">Image Credit: Dan Kernler, <a\n",
        "href=\"https://creativecommons.org/licenses/by-sa/4.0\">CC BY-SA 4.0</a>,\n",
        "via Wikimedia Commons</figcaption>\n",
        "</figure>"
      ],
      "metadata": {
        "id": "Jo4kP3h9jTbK"
      },
      "id": "Jo4kP3h9jTbK"
    },
    {
      "cell_type": "markdown",
      "metadata": {
        "id": "6d71a544-bfa8-48f4-ac56-be6c485ddc52"
      },
      "source": [
        "### <a name=\"01strat\">Stratified Sample</a>\n",
        "---\n",
        "\n",
        "When selecting a <font color=\"dodgerblue\">**stratified\n",
        "sample**</font>, the population is subdivided into groups based on some meaningful characteristic.\n",
        "\n",
        "-   Divide all voters into categories based on political party. Then randomly sample individuals from each political party so the overall sample has the same percentage of voters in each party as the population of all voters.\n",
        "\n",
        "<figure>\n",
        "<a title=\"Dan Kernler, CC BY-SA 4.0 &lt;https://creativecommons.org/licenses/by-sa/4.0&gt;, via Wikimedia Commons\" href=\"https://commons.wikimedia.org/wiki/File:Stratified_sampling.PNG\"><img width=\"256\" alt=\"Stratified sampling\" src=\"https://upload.wikimedia.org/wikipedia/commons/f/fa/Stratified_sampling.PNG\"></a>\n",
        "<figcaption aria-hidden=\"true\">Image Credit: Dan Kernler, <a\n",
        "href=\"https://creativecommons.org/licenses/by-sa/4.0\">CC BY-SA 4.0</a>,\n",
        "via Wikimedia Commons</figcaption>\n",
        "</figure>\n"
      ],
      "id": "6d71a544-bfa8-48f4-ac56-be6c485ddc52"
    },
    {
      "cell_type": "markdown",
      "metadata": {
        "id": "17baee51-0b5b-43e2-b49d-ab5a620dfaec"
      },
      "source": [
        "### <a name=\"01systematic\">Systematic Sample</a>\n",
        "---\n",
        "\n",
        "When selecting a <font color=\"dodgerblue\">**systematic\n",
        "sample**</font>, the first individual is chosen at random. Then a rule is used so that every $\\mbox{n}^{\\mbox{th}}$ individual is selected after that.\n",
        "\n",
        "-   Randomly select a house on a street to survey. Then pick every third house after that to include in the survey.\n",
        "\n",
        "<figure>\n",
        "<a title=\"Dan Kernler, CC BY-SA 4.0 &lt;https://creativecommons.org/licenses/by-sa/4.0&gt;, via Wikimedia Commons\" href=\"https://commons.wikimedia.org/wiki/File:Systematic_sampling.PNG\"><img width=\"512\" alt=\"Systematic sampling\" src=\"https://upload.wikimedia.org/wikipedia/commons/thumb/c/c4/Systematic_sampling.PNG/512px-Systematic_sampling.PNG\"></a>\n",
        "<figcaption aria-hidden=\"true\">Image Credit: Dan Kernler, <a\n",
        "href=\"https://creativecommons.org/licenses/by-sa/4.0\">CC BY-SA 4.0</a>,\n",
        "via Wikimedia Commons</figcaption>\n",
        "</figure>"
      ],
      "id": "17baee51-0b5b-43e2-b49d-ab5a620dfaec"
    },
    {
      "cell_type": "markdown",
      "metadata": {
        "id": "370cdc6a-32e2-4bd7-8c06-c18d812c91fd"
      },
      "source": [
        "### <a name=\"01cluster\">Cluster Sample</a>\n",
        "---\n",
        "\n",
        "When selecting a <font color=\"dodgerblue\">**cluster\n",
        "sample**</font> groups rather than individual units of the target population are selected at random for the test.\n",
        "\n",
        "-   Divide all voters into 10 groups based on the last digit of their social security number. Randomly pick two numbers between 0 and 9. Select all voters whose social security number ends with one of those two numbers.\n",
        "\n",
        "<figure>\n",
        "<a title=\"Dan Kernler, CC BY-SA 4.0 &lt;https://creativecommons.org/licenses/by-sa/4.0&gt;, via Wikimedia Commons\" href=\"https://commons.wikimedia.org/wiki/File:Cluster_sampling.PNG\"><img width=\"256\" alt=\"Cluster sampling\" src=\"https://upload.wikimedia.org/wikipedia/commons/6/60/Cluster_sampling.PNG\"></a>\n",
        "<figcaption aria-hidden=\"true\">Image Credit: Dan Kernler, <a\n",
        "href=\"https://creativecommons.org/licenses/by-sa/4.0\">CC BY-SA 4.0</a>,\n",
        "via Wikimedia Commons</figcaption>\n",
        "</figure>"
      ],
      "id": "370cdc6a-32e2-4bd7-8c06-c18d812c91fd"
    },
    {
      "cell_type": "markdown",
      "metadata": {
        "id": "e7b01c09-4563-448f-98f9-d489a76000c4"
      },
      "source": [
        "## <a name=\"01bias\">Biased Sampling Methods</a>\n",
        "---\n",
        "\n",
        "-   A <font color=\"tomato\">**convenience sample**</font> is when\n",
        "people or elements in a sample are selected on the basis of their accessibility and availability. For example, email a survey to your friends to gauge public support for a newly proposed law.\n",
        "\n",
        "-   <font color=\"tomato\">**Voluntary sampling**</font> is a type of a convenience sample. For example, robocall all registered voters and gather responses from those that answer the phone and are willing to participate.\n",
        "\n"
      ],
      "id": "e7b01c09-4563-448f-98f9-d489a76000c4"
    },
    {
      "cell_type": "markdown",
      "source": [
        "# <a name=\"01design\">Designing Studies</a>\n",
        "---\n",
        "\n",
        "Often in statistics we would like to investigate whether one variable is associated to another. Researchers carry out studies to understand the conditions and causes of certain outcomes.\n",
        "\n",
        "-   Does daily exercise reduce the risk of early onset dementia?\n",
        "-   Is rewarding people or punishing people a more effective incentive to help them quit smoking?\n",
        "-   Is a new vaccine effective at preventing disease?\n",
        "\n",
        "If we are using one variable to help us understand or predict the values (or category) of another variable:\n",
        "\n",
        "- We call the first variable the <font color=\"dodgerblue\">**explanatory, independent, or predictor variable**</font>.\n",
        "- The second the <font color=\"dodgerblue\">**response or dependent variable**</font>.\n",
        "- Different categories of a predictor variable are called <font color=\"dodgerblue\">**treatments or levels**</font>.\n",
        "\n"
      ],
      "metadata": {
        "id": "kdClMfeYjdBM"
      },
      "id": "kdClMfeYjdBM"
    },
    {
      "cell_type": "markdown",
      "source": [
        "## <a name=\"01q5\">Question 5</a>\n",
        "---\n",
        "\n",
        "For each question below, which variable is the predictor variable and which is the response variable? How would your organize the data you collect in each case?\n",
        "\n",
        "a.  Does daily exercise reduce the risk of early onset dementia?\n",
        "\n",
        "b.  Is rewarding people or punishing people a more effective incentive to help them quit smoking?\n",
        "\n",
        "c.  Is a new vaccine effective at preventing disease?\n",
        "\n",
        "### <a name=\"01sol5\">Solution to Question 5</a>\n",
        "---\n",
        "\n",
        "  \n",
        "<br> <br> <br> <br>  \n",
        "  \n",
        "\n"
      ],
      "metadata": {
        "id": "z1llMYMOjf3B"
      },
      "id": "z1llMYMOjf3B"
    },
    {
      "cell_type": "markdown",
      "source": [
        "## <a name=\"01q6\">Question 6</a>\n",
        "---\n",
        "\n",
        "Both studies below are designed to examine whether rewarding good\n",
        "behavior or punishing bad behavior is a more effective method to help people quit smoking. Which study do you believe is better designed? Why?\n",
        "\n",
        "### <a name=\"01studyA\">Study A</a>\n",
        "---\n",
        "\n",
        "Employees at a large company voluntarily enroll in a quit smoking study.\n",
        "When they join, they are provided two options to select from:\n",
        "\n",
        "- Option 1 (<font color=\"mediumseagreen\">**Reward-based group**</font>): If after six months the participant has quit smoking, they get an \\$800 reward.\n",
        "\n",
        "- Option 2: (<font color=\"tomato\">**Deposit-based group**</font>): Pay an initial \\$150 refundable deposit. If after six months the participant:\n",
        "  - Has quit smoking, they receive their \\$150 deposit back plus an additional \\$800 reward.\n",
        "  - Has not quit smoking, then they do not receive their \\$150 deposit back.\n",
        "\n",
        "After six months, we compare the success rate between the two groups to determine which method is more effective.\n",
        "\n",
        "### <a name=\"01studyB\">Study B</a>\n",
        "---\n",
        "\n",
        "Employees at a large company voluntarily enroll in a quit smoking study.\n",
        "\n",
        "-  When they join, they are randomly assigned to either be in the <font color=\"mediumseagreen\">**Reward-based group**</font> or <font color=\"tomato\">**Deposit-based group**</font> with the same exact reward and penalty system for each option as in [Study A](#01studyA).\n",
        "\n",
        "After six months, we compare the success rate between the two groups to\n",
        "determine which method is more effective.\n",
        "\n",
        "### <a name=\"01sol6\">Solution to Question 6</a>\n",
        "---\n",
        "\n",
        "<br> <br> <br> <br>\n",
        "  \n",
        "  \n",
        "  \n",
        "\n"
      ],
      "metadata": {
        "id": "8fab3FidjhoH"
      },
      "id": "8fab3FidjhoH"
    },
    {
      "cell_type": "markdown",
      "source": [
        "## <a name=\"01confounding\">Confounding Variables</a>\n",
        "\n",
        "---\n",
        "\n",
        "A variable that is associated with both the predictor variable and the response variable is called a <font color=\"dodgerblue\">**confounding or lurking variable**</font>.\n",
        "\n",
        "\n",
        "\n",
        "<figure>\n",
        "<a title=\"Adam Spiegler, CC BY-SA 4.0 &lt;https://creativecommons.org/licenses/by-sa/4.0&gt;\" href=\"https://upload.wikimedia.org/wikipedia/commons/thumb/b/b7/01fig-confounding.png/512px-01fig-confounding.png\"><img width=\"512\" alt=\"Diagram of Confounding Variable\" src=\"https://upload.wikimedia.org/wikipedia/commons/thumb/b/b7/01fig-confounding.png/512px-01fig-confounding.png\"></a>\n",
        "<figcaption aria-hidden=\"true\">Image Credit: Adam Spiegler, <a\n",
        "href=\"https://creativecommons.org/licenses/by-sa/4.0\">CC BY-SA 4.0</a>\n",
        "</figcaption>\n",
        "</figure>\n"
      ],
      "metadata": {
        "id": "v8--z900jkgB"
      },
      "id": "v8--z900jkgB"
    },
    {
      "cell_type": "markdown",
      "source": [
        "## <a name=\"01q7\">Question 7</a>\n",
        "---\n",
        "\n",
        "In [Question 6](#01q6), identify a possible confounding variable in [Study A](#01studyA) or explain why there are no confounding variables. Identify a possible confounding variable in [Study B](#01studyB) or explain why there are no confounding variables.\n",
        "\n",
        "### <a name=\"01sol7\">Solution to Question 7</a>\n",
        "---\n",
        "\n",
        "  \n",
        "<br> <br> <br> <br>  \n",
        "  \n",
        "\n"
      ],
      "metadata": {
        "id": "9XSbLEb2jnqZ"
      },
      "id": "9XSbLEb2jnqZ"
    },
    {
      "cell_type": "markdown",
      "source": [
        "## <a name=\"01expriment\">Experiments and Observational Studies</a>\n",
        "---\n",
        "\n",
        "- An <font color=\"dodgerblue\">**observational study**</font> is a study in which the researcher does not actively control the assignment of individuals to different treatments or levels of a predictor variable.\n",
        "  - If the treatment groups are chosen by the individuals in the study, the samples in each treatment group are likely to differ in some meaningful way other than just the treatment.\n",
        "\n",
        "- An <font color=\"dodgerblue\">**experiment**</font> is a study in which the researcher controls the assignment of individuals to different treatments or levels of a predictor variable.\n",
        "-  In a <font color=\"dodgerblue\">**randomized experiment**</font> the predictor variable for each individual is determined randomly, before the response variable is measured.\n",
        "  - If treatment groups are randomly determined, they should be similar in every way except for the treatment itself.\n",
        "  - <font color=\"mediumseagreen\">**When properly designed, randomized experiments can show a predictor variable causes a change in the response variable.**</font>\n",
        "\n",
        "<font color=\"tomato\">**There are almost always confounding variables in observational studies. Thus observational studies can almost never be used to establish causation.**</font> Sometimes it is not possible to design an experiment for ethical or practical reasons. We can still investigate whether two variables are *associated* with each other in observational studies.\n",
        "\n"
      ],
      "metadata": {
        "id": "-903Gr0Kjowp"
      },
      "id": "-903Gr0Kjowp"
    },
    {
      "cell_type": "markdown",
      "source": [
        "## <a name=\"01q8\">Question 8</a>\n",
        "---\n",
        "\n",
        "In [Question 6](#01q6), determine whether [Study A](#01studyA) is an observational study or an experiment. Determine whether [Study B](#01studyB) is an observational study or an experiment. Explain how you determined your answers.\n",
        "\n",
        "### <a name=\"01sol8\">Solution to Question 8</a>\n",
        "---\n",
        "\n",
        "  \n",
        "<br> <br> <br> <br>  \n",
        "  \n",
        "\n"
      ],
      "metadata": {
        "id": "UmXOvI5tjqRH"
      },
      "id": "UmXOvI5tjqRH"
    },
    {
      "cell_type": "markdown",
      "source": [
        "# <a name=\"CC License\">Creative Commons License Information</a>\n",
        "---\n",
        "\n",
        "![Creative Commons\n",
        "License](https://i.creativecommons.org/l/by-nc-sa/4.0/88x31.png)\n",
        "\n",
        "*Statistical Methods: Exploring the Uncertain*  by [Adam\n",
        "Spiegler (University of Colorado Denver)](https://github.com/CU-Denver-MathStats-OER/Statistical-Theory)\n",
        "is licensed under a [Creative Commons\n",
        "Attribution-NonCommercial-ShareAlike 4.0 International\n",
        "License](http://creativecommons.org/licenses/by-nc-sa/4.0/). This work is funded by an [Institutional OER Grant from the Colorado Department of Higher Education (CDHE)](https://cdhe.colorado.gov/educators/administration/institutional-groups/open-educational-resources-in-colorado).\n",
        "\n",
        "For similar interactive OER materials in other courses funded by this project in the Department of Mathematical and Statistical Sciences at the University of Colorado Denver, visit <https://github.com/CU-Denver-MathStats-OER>."
      ],
      "metadata": {
        "id": "0LUMgFshjsYa"
      },
      "id": "0LUMgFshjsYa"
    }
  ],
  "nbformat": 4,
  "nbformat_minor": 5,
  "metadata": {
    "kernelspec": {
      "name": "ir",
      "display_name": "R",
      "language": "R"
    },
    "colab": {
      "provenance": [],
      "include_colab_link": true
    }
  }
}
