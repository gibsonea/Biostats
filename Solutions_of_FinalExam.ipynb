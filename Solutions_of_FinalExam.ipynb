{
  "nbformat": 4,
  "nbformat_minor": 0,
  "metadata": {
    "colab": {
      "provenance": [],
      "authorship_tag": "ABX9TyORYM6D/dTEn7p6aYsS6OWm",
      "include_colab_link": true
    },
    "kernelspec": {
      "name": "ir",
      "display_name": "R"
    },
    "language_info": {
      "name": "R"
    }
  },
  "cells": [
    {
      "cell_type": "markdown",
      "metadata": {
        "id": "view-in-github",
        "colab_type": "text"
      },
      "source": [
        "<a href=\"https://colab.research.google.com/github/gibsonea/Biostats/blob/main/Solutions_of_FinalExam.ipynb\" target=\"_parent\"><img src=\"https://colab.research.google.com/assets/colab-badge.svg\" alt=\"Open In Colab\"/></a>"
      ]
    },
    {
      "cell_type": "markdown",
      "source": [
        "# <a name=\"Exam1intro\">Final Exam: Computer Portion</a>\n",
        "---\n",
        "\n",
        "This portion of the final is open note/internet.  After you are done, upload your file in canvas.  Good luck!!"
      ],
      "metadata": {
        "id": "mbkf1aN5gJaS"
      }
    },
    {
      "cell_type": "markdown",
      "source": [
        "## <a name=\"Exam2\">Question 1</a>\n",
        "\n",
        "---\n",
        "\n",
        "Researchers are working on developing non-invasive methods to characterize the elastic properties of the pulmonary artery towards a better diagnosis of pulmonary hypertension. A new non-invasive diagnostic test to estimate main pulmonary artery vascular elastic modulus from pressure-diameter (PD) data is studied using an animal model. Two groups are tested, healthy (control) and hypoxic mice. Determine if the mean values of PD are different between the two groups.\n",
        "\n",
        "\n",
        "\n"
      ],
      "metadata": {
        "id": "tTa6OEeSqF6h"
      }
    },
    {
      "cell_type": "code",
      "source": [
        "#load in the dataset for Question 1\n",
        "\n",
        "hyper <- read.csv(\"https://raw.githubusercontent.com/gibsonea/Biostats/main/Datasets/Hypertension.csv\")\n",
        "str(hyper) #displays the variable names and types"
      ],
      "metadata": {
        "id": "z6XT4subA5TK",
        "outputId": "6332173b-09e5-45f8-b3a5-92f81e62d0d2",
        "colab": {
          "base_uri": "https://localhost:8080/"
        }
      },
      "execution_count": null,
      "outputs": [
        {
          "output_type": "stream",
          "name": "stdout",
          "text": [
            "'data.frame':\t16 obs. of  3 variables:\n",
            " $ Animal.ID: int  135 143 144 147 148 149 154 155 159 141 ...\n",
            " $ Treatment: chr  \"hypoxic\" \"hypoxic\" \"hypoxic\" \"hypoxic\" ...\n",
            " $ PD       : num  134.1 123 155.4 59.9 101.9 ...\n"
          ]
        }
      ]
    },
    {
      "cell_type": "markdown",
      "source": [
        "### <a name=\"Q1a\">Question 1a</a>\n",
        "\n",
        "---\n",
        "\n",
        "Perform your analysis and report the p-value.  What do you conclude?\n",
        "\n",
        "\n",
        "<br>\n",
        "\n",
        "#### <a name=\"01sol\">Solution to 1a</a>\n",
        "\n",
        "---\n",
        "\n",
        "We perform a Welch's two sample t-test.  The p-value is 0.00108 so we reject the null hypothesis and conclude that there is a significant difference in pressure-diameter between the two sample groups (control vs. hypoxic).\n",
        "\n",
        "<br>  \n"
      ],
      "metadata": {
        "id": "PZWr9pdO_0HT"
      }
    },
    {
      "cell_type": "code",
      "source": [
        "# code for 1a\n",
        "\n",
        "hyper$Treatment = as.factor(hyper$Treatment)\n",
        "str(hyper)\n"
      ],
      "metadata": {
        "id": "i7j3TCkUjUvu",
        "colab": {
          "base_uri": "https://localhost:8080/"
        },
        "outputId": "354e0dad-17ff-4977-e692-4f6039802ef7"
      },
      "execution_count": null,
      "outputs": [
        {
          "output_type": "stream",
          "name": "stdout",
          "text": [
            "'data.frame':\t16 obs. of  3 variables:\n",
            " $ Animal.ID: int  135 143 144 147 148 149 154 155 159 141 ...\n",
            " $ Treatment: Factor w/ 2 levels \"control\",\"hypoxic\": 2 2 2 2 2 2 2 2 2 1 ...\n",
            " $ PD       : num  134.1 123 155.4 59.9 101.9 ...\n"
          ]
        }
      ]
    },
    {
      "cell_type": "code",
      "source": [
        "t.test(PD ~ Treatment, data = hyper)"
      ],
      "metadata": {
        "colab": {
          "base_uri": "https://localhost:8080/",
          "height": 213
        },
        "id": "RcrWhzp311a3",
        "outputId": "bfb477b9-a640-4b6c-8535-ee274915b76a"
      },
      "execution_count": null,
      "outputs": [
        {
          "output_type": "display_data",
          "data": {
            "text/plain": [
              "\n",
              "\tWelch Two Sample t-test\n",
              "\n",
              "data:  PD by Treatment\n",
              "t = -4.5152, df = 10.145, p-value = 0.001077\n",
              "alternative hypothesis: true difference in means between group control and group hypoxic is not equal to 0\n",
              "95 percent confidence interval:\n",
              " -101.11962  -34.38197\n",
              "sample estimates:\n",
              "mean in group control mean in group hypoxic \n",
              "             51.27143             119.02222 \n"
            ]
          },
          "metadata": {}
        }
      ]
    },
    {
      "cell_type": "markdown",
      "source": [
        "### <a name=\"Q1b\">Question 1b</a>\n",
        "\n",
        "---\n",
        "\n",
        "What is the power of the test?  Would you need to test more mice and if so, how many?\n",
        "\n",
        "\n",
        "<br>\n",
        "\n",
        "#### <a name=\"01bsol\">Solution to 1b</a>\n",
        "\n",
        "---\n",
        "\n",
        "\n",
        "The power of the test is 0.995\n",
        "\n",
        "Because the test result is already significant, we don't need to test more mice.\n",
        "\n"
      ],
      "metadata": {
        "id": "UpuC-VTmAXfE"
      }
    },
    {
      "cell_type": "code",
      "source": [
        "# code for 1b\n",
        "\n",
        "control = subset(hyper, Treatment == 'control')\n",
        "\n",
        "hypoxic = subset(hyper, Treatment == 'hypoxic')\n",
        "\n",
        "\n",
        "mean_control = mean(control$PD)\n",
        "mean_hypoxic = mean(hypoxic$PD)\n",
        "\n",
        "sd_control = sd(control$PD)\n",
        "sd_hypoxic = sd(hypoxic$PD)\n",
        "\n",
        "n_control = length(control$PD)\n",
        "n_hypoxic = length(hypoxic$PD)\n",
        "\n",
        "power = pnorm(-1.96+abs(mean_control-mean_hypoxic)/sqrt(sd_control^2/n_control+sd_hypoxic^2/n_hypoxic))\n",
        "\n",
        "power\n"
      ],
      "metadata": {
        "id": "ABAWsl33Al_2",
        "colab": {
          "base_uri": "https://localhost:8080/",
          "height": 34
        },
        "outputId": "a0fcec13-892e-4353-fe39-4a35e61e73f3"
      },
      "execution_count": null,
      "outputs": [
        {
          "output_type": "display_data",
          "data": {
            "text/html": [
              "0.994692926378954"
            ],
            "text/markdown": "0.994692926378954",
            "text/latex": "0.994692926378954",
            "text/plain": [
              "[1] 0.9946929"
            ]
          },
          "metadata": {}
        }
      ]
    },
    {
      "cell_type": "markdown",
      "source": [
        "## <a name=\"Exam2\">Question 2</a>\n",
        "\n",
        "---\n",
        "\n",
        "The Organization for Economic Co-operation and Development (www.oecd.org) collects economic data from different countries. The dataset downloaded from their website includes the poverty rate (ratio of people that fall below the poverty line), income inequality (ratio of the 90th percentile over the median income), and percentage of women in parliament. You wish to determine whether poverty is dependent on the other factors (income inequality, women in parliament).\n",
        "\n",
        "<br>\n"
      ],
      "metadata": {
        "id": "gRcaApZAKUXQ"
      }
    },
    {
      "cell_type": "code",
      "source": [
        "#load the dataset for Question 2\n",
        "\n",
        "econ <- read.csv(\"https://raw.githubusercontent.com/gibsonea/Biostats/main/Datasets/Economic.csv\")\n",
        "str(econ) #displays the variable names and types"
      ],
      "metadata": {
        "id": "BQ7i_TFdDwcY",
        "colab": {
          "base_uri": "https://localhost:8080/"
        },
        "outputId": "09c6d5a1-5583-4786-8aa3-e322bcaf8ead"
      },
      "execution_count": null,
      "outputs": [
        {
          "output_type": "stream",
          "name": "stdout",
          "text": [
            "'data.frame':\t13 obs. of  4 variables:\n",
            " $ LOCATION  : chr  \"AUS\" \"CAN\" \"FRA\" \"DEU\" ...\n",
            " $ INCOMEINEQ: num  2 1.9 1.8 1.8 2 2 2.1 2.6 2.3 2.1 ...\n",
            " $ POVERTY   : num  0.124 0.116 0.084 0.098 0.142 0.157 0.167 0.159 0.144 0.124 ...\n",
            " $ WOMENPOL  : num  31.1 29.6 39.5 31.5 35.7 9.9 19 48.2 17.3 33.9 ...\n"
          ]
        }
      ]
    },
    {
      "cell_type": "markdown",
      "source": [
        "### <a name=\"Q2a\">Question 2a</a>\n",
        "\n",
        "---\n",
        "\n",
        "What statistical test can you use to answer this question?\n",
        "\n",
        "\n",
        "<br>\n",
        "\n",
        "#### <a name=\"02sola\">Solution to 2a</a>\n",
        "\n",
        "---\n",
        "\n",
        "We can use multiple linear regression and analyze dependence of poverty on income inequality and women in politics using a regression t test.\n",
        "<br>\n",
        "<br>  \n"
      ],
      "metadata": {
        "id": "ZwrB7VFeDXnR"
      }
    },
    {
      "cell_type": "markdown",
      "source": [
        "### <a name=\"Q2b\">Question 2b</a>\n",
        "\n",
        "---\n",
        "\n",
        "Perform the test and report your results (i.e. p-values) and conclusions.\n",
        "\n",
        "\n",
        "<br>\n",
        "\n",
        "#### <a name=\"02solb\">Solution to 2b</a>\n",
        "\n",
        "---\n",
        "\n",
        "Results from the F test:\n",
        "F = 24.67 with a p-value of 0.000136.  We reject the null hypothesis and conclude that there is a dependence for at least one of our predictor variables.\n",
        "\n",
        "Results from the t test:\n",
        "\n",
        "INCOMEINEQ: t = 6.932, p = 4.03e-5, there is a significant dependence of poverty on income inequality\n",
        "\n",
        "WOMENPOL: t = -1.469, p = 0.1727, there is not a statistically significant dependent of power on women in politics.\n",
        "<br>  \n"
      ],
      "metadata": {
        "id": "AjFSwsDzDf3m"
      }
    },
    {
      "cell_type": "code",
      "source": [
        "# code for 2b\n",
        "\n",
        "lmPoverty = lm(POVERTY ~ INCOMEINEQ + WOMENPOL, data = econ)\n",
        "summary(lmPoverty)\n"
      ],
      "metadata": {
        "id": "ycclyJjhM7_-",
        "colab": {
          "base_uri": "https://localhost:8080/",
          "height": 356
        },
        "outputId": "8a77f5b2-f699-4621-bf14-68c1646ac4f6"
      },
      "execution_count": null,
      "outputs": [
        {
          "output_type": "display_data",
          "data": {
            "text/plain": [
              "\n",
              "Call:\n",
              "lm(formula = POVERTY ~ INCOMEINEQ + WOMENPOL, data = econ)\n",
              "\n",
              "Residuals:\n",
              "      Min        1Q    Median        3Q       Max \n",
              "-0.030338 -0.010181 -0.005364  0.016841  0.034645 \n",
              "\n",
              "Coefficients:\n",
              "              Estimate Std. Error t value Pr(>|t|)    \n",
              "(Intercept)  0.0525358  0.0204833   2.565   0.0281 *  \n",
              "INCOMEINEQ   0.0508319  0.0073329   6.932 4.03e-05 ***\n",
              "WOMENPOL    -0.0008826  0.0006009  -1.469   0.1727    \n",
              "---\n",
              "Signif. codes:  0 ‘***’ 0.001 ‘**’ 0.01 ‘*’ 0.05 ‘.’ 0.1 ‘ ’ 1\n",
              "\n",
              "Residual standard error: 0.02174 on 10 degrees of freedom\n",
              "Multiple R-squared:  0.8315,\tAdjusted R-squared:  0.7977 \n",
              "F-statistic: 24.67 on 2 and 10 DF,  p-value: 0.000136\n"
            ]
          },
          "metadata": {}
        }
      ]
    }
  ]
}