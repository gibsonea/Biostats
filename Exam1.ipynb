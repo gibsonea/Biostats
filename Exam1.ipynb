{
  "nbformat": 4,
  "nbformat_minor": 0,
  "metadata": {
    "colab": {
      "provenance": [],
      "authorship_tag": "ABX9TyPUdHXEvNMdSaR9j7JIouUa",
      "include_colab_link": true
    },
    "kernelspec": {
      "name": "ir",
      "display_name": "R"
    },
    "language_info": {
      "name": "R"
    }
  },
  "cells": [
    {
      "cell_type": "markdown",
      "metadata": {
        "id": "view-in-github",
        "colab_type": "text"
      },
      "source": [
        "<a href=\"https://colab.research.google.com/github/gibsonea/Biostats/blob/main/Exam1.ipynb\" target=\"_parent\"><img src=\"https://colab.research.google.com/assets/colab-badge.svg\" alt=\"Open In Colab\"/></a>"
      ]
    },
    {
      "cell_type": "markdown",
      "source": [
        "# <a name=\"Exam1intro\">Exam 1: Part II</a>\n",
        "---\n",
        "\n",
        "Part II is open note/internet.  After you are done, upload your file in canvas.  Good luck!!"
      ],
      "metadata": {
        "id": "mbkf1aN5gJaS"
      }
    },
    {
      "cell_type": "markdown",
      "source": [
        "## <a name=\"Exam1\">Problem 1</a>\n",
        "\n",
        "---\n",
        "\n",
        "Load the dataset VegetarianDiet by executing the R code below.\n",
        "\n",
        "The dataset is a sample of cholesterol levels taken from 24 volunteers between ages 30-40 on a standard American diet who agreed to switch to a vegetarian diet for 1 month.  Serum-cholesterol measurements were taken before adopting the new diet and after 1 month on the new diet.\n",
        "\n",
        "<br>\n",
        "\n",
        "(a) Generate a boxplot of the change in cholesterol levels (cholesterol after - before) for the 24 volunteers.\n",
        "\n",
        "\n",
        "\n",
        "\n"
      ],
      "metadata": {
        "id": "tTa6OEeSqF6h"
      }
    },
    {
      "cell_type": "code",
      "source": [
        "# run this code to load in dataset\n",
        "chol <- read.csv(\"https://raw.githubusercontent.com/gibsonea/Biostats/main/Datasets/VegetarianDiet.csv\")\n",
        "\n",
        "# changing the variables before and after from integers to double\n",
        "\n",
        "chol$After = as.double(chol$After)\n",
        "chol$Before = as.double(chol$Before)\n",
        "\n",
        "str(chol)"
      ],
      "metadata": {
        "colab": {
          "base_uri": "https://localhost:8080/"
        },
        "id": "i7j3TCkUjUvu",
        "outputId": "d6756b93-ffba-485f-953f-714476a671e3"
      },
      "execution_count": 4,
      "outputs": [
        {
          "output_type": "stream",
          "name": "stdout",
          "text": [
            "'data.frame':\t24 obs. of  3 variables:\n",
            " $ Subject: int  1 2 3 4 5 6 7 8 9 10 ...\n",
            " $ Before : num  195 145 205 159 244 166 250 236 192 224 ...\n",
            " $ After  : num  146 155 178 146 208 147 202 215 184 208 ...\n"
          ]
        }
      ]
    },
    {
      "cell_type": "code",
      "source": [
        "# code for part (a)"
      ],
      "metadata": {
        "id": "a-Sz3jRki-ey"
      },
      "execution_count": null,
      "outputs": []
    },
    {
      "cell_type": "markdown",
      "source": [
        "(b) Compute the mean change in cholesterol levels (after - before).\n",
        "\n"
      ],
      "metadata": {
        "id": "7HsQaa9hiyhR"
      }
    },
    {
      "cell_type": "code",
      "source": [
        "# code for part (b)"
      ],
      "metadata": {
        "id": "iPQHdCdvjAlD"
      },
      "execution_count": null,
      "outputs": []
    },
    {
      "cell_type": "markdown",
      "source": [
        "(c) Compute the standard deviation of the change in cholesterol levels.\n",
        "\n"
      ],
      "metadata": {
        "id": "2qWxaQnki03y"
      }
    },
    {
      "cell_type": "code",
      "source": [
        "# code for part (c)"
      ],
      "metadata": {
        "id": "17xCJZ32jE89"
      },
      "execution_count": null,
      "outputs": []
    },
    {
      "cell_type": "markdown",
      "source": [
        "(d) Compute the median of the change in cholesterol levels.\n",
        "\n",
        "\n"
      ],
      "metadata": {
        "id": "ywJ4S-eti3Dr"
      }
    },
    {
      "cell_type": "code",
      "source": [
        "# code for part (d)"
      ],
      "metadata": {
        "id": "rg6k2X0WjG9q"
      },
      "execution_count": null,
      "outputs": []
    },
    {
      "cell_type": "markdown",
      "source": [
        "Other researchers have found that the effects of diet on cholesterol levels are more evident in people with high rather than low cholesterol.  To find out if this is the case, split the data into two according to whether the baseline cholesterol is above or below the median.\n",
        "\n",
        "<br>\n",
        "\n",
        "(e) For each of the two datasets, calculate the mean change in cholesterol levels.\n",
        "\n"
      ],
      "metadata": {
        "id": "MsUJCBBWi54f"
      }
    },
    {
      "cell_type": "code",
      "source": [
        "#code for part (e)"
      ],
      "metadata": {
        "id": "Clhszh1fjLRG"
      },
      "execution_count": null,
      "outputs": []
    },
    {
      "cell_type": "markdown",
      "source": [
        "(f) Display the change in cholesterol levels for the two datasets using a side-by-side boxplot."
      ],
      "metadata": {
        "id": "O6qWOduqi7-E"
      }
    },
    {
      "cell_type": "code",
      "source": [
        "#code for part (f)"
      ],
      "metadata": {
        "id": "Q-nywoTTjNnv"
      },
      "execution_count": null,
      "outputs": []
    }
  ]
}