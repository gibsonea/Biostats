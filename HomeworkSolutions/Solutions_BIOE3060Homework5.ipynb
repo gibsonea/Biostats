{
  "nbformat": 4,
  "nbformat_minor": 0,
  "metadata": {
    "colab": {
      "provenance": [],
      "include_colab_link": true
    },
    "kernelspec": {
      "name": "ir",
      "display_name": "R"
    },
    "language_info": {
      "name": "R"
    }
  },
  "cells": [
    {
      "cell_type": "markdown",
      "metadata": {
        "id": "view-in-github",
        "colab_type": "text"
      },
      "source": [
        "<a href=\"https://colab.research.google.com/github/gibsonea/Biostats/blob/main/HomeworkSolutions/Solutions_BIOE3060Homework5.ipynb\" target=\"_parent\"><img src=\"https://colab.research.google.com/assets/colab-badge.svg\" alt=\"Open In Colab\"/></a>"
      ]
    },
    {
      "cell_type": "markdown",
      "source": [
        "# Homework 5\n",
        "\n",
        "---"
      ],
      "metadata": {
        "id": "SNItVP8cozZT"
      }
    },
    {
      "cell_type": "markdown",
      "source": [
        "# <a name=\"HW9q1\">Question 1</a>\n",
        "\n",
        "------------------------------------------------------------------------\n",
        "\n",
        "Suppose a student is working on a project using data on pulse rates collected from a random sample of 100 students at her university.\n",
        "She finds a 95% confidence interval for the mean pulse rate to be from 65.5 to 71.8 beats per minute.\n",
        "Explain (in complete sentences) why each of the statements below would be an improper interpretation of this interval.\n",
        "\n"
      ],
      "metadata": {
        "id": "PkkYp5tXnT5U"
      }
    },
    {
      "cell_type": "markdown",
      "source": [
        "## <a name=\"HW9q1a\">Question 1a</a>\n",
        "\n",
        "------------------------------------------------------------------------\n",
        "\n",
        "I am 95% sure that all students will have pulse rates between 65.5 to 71.8 beats per minute.\n",
        "\n",
        "### Solution to Question 1a\n",
        "\n",
        "------------------------------------------------------------------------\n",
        "\n",
        "Explain (in complete sentences) why the statement is an **improper interpretation** of this interval.\n",
        "\n",
        "<br>\n",
        "\n",
        "The confidence interval is not being interpreted to estimate the value of the  mean pulse rate of all students at the university (population). Instead, the interval is being used to describe the distribution of individual student pulse rates in the population rather than the mean puse rate of all students at the school.\n",
        "\n",
        "\n",
        "\n",
        "<br>  \n",
        "<br>  \n",
        "\n"
      ],
      "metadata": {
        "id": "CE0l8eKQobMr"
      }
    },
    {
      "cell_type": "markdown",
      "source": [
        "## <a name=\"HW9q1b\">Question 1b</a>\n",
        "\n",
        "------------------------------------------------------------------------\n",
        "\n",
        "95% of all students at this university have pulse rates between 65.5 and 71.8 beats per minute.\n",
        "\n",
        "### Solution to Question 1b\n",
        "\n",
        "------------------------------------------------------------------------\n",
        "\n",
        "Explain (in complete sentences) why the statement is an **improper interpretation** of this interval.\n",
        "\n",
        "\n",
        "This has two big issues.\n",
        "\n",
        "1. The confidence interval is not being interpreted as an estimate for the mean pulse rate of all students at the university (the population parameter of interest). Instead, the confidence interval is being used to describe the distribution of individual pulse rates in the population.\n",
        "\n",
        "2. The confidence level is interpreted completely wrong. The 95% should be associated with the success rate of the interval. The 95% has nothing do with finding an interval that contains 95% of all individual pulse rates.\n",
        "\n",
        "\n",
        "\n",
        "<br>  \n",
        "<br>  \n",
        "\n"
      ],
      "metadata": {
        "id": "2ek1l3MGoUqY"
      }
    },
    {
      "cell_type": "markdown",
      "source": [
        "## <a name=\"HW9q1c\">Question 1c</a>\n",
        "\n",
        "------------------------------------------------------------------------\n",
        "\n",
        "95% of all random samples of 100 students have a mean pulse rate between 65.5 and 71.8 beats per minute.\n",
        "\n",
        "### Solution to Question 1c\n",
        "\n",
        "------------------------------------------------------------------------\n",
        "\n",
        "Explain (in complete sentences) why the statement is an **improper interpretation** of this interval.\n",
        "\n",
        "\n",
        "The confidence interval is not being interpreted to estimate the value of the  mean pulse rate of all students at the university (population). Instead, the interval is being used to predict how likely we are to randomly pick a sample with a certain sample statistic rather than the mean pulse rate of all students at the school.\n",
        "\n",
        "\n",
        "<br>  \n",
        "<br>  "
      ],
      "metadata": {
        "id": "GtO6EoBVoTY_"
      }
    },
    {
      "cell_type": "markdown",
      "source": [
        "# <a name=\"HW9q2\">Question 2</a>\n",
        "\n",
        "------------------------------------------------------------------------\n",
        "\n",
        "For all high school seniors who took the SAT exam in 2018, the mean math SAT score was $515$ with a standard deviation of $\\sigma = 116$.\n",
        "From a random sample of $25$ students at your university, you find the average SAT math score of the sample is $538$.\n",
        "You forgot to compute the standard deviation of your sample, so you assume the standard deviation of math SAT scores at your university is the same as the standard deviation of the population, $\\sigma = 116$.\n",
        "\n"
      ],
      "metadata": {
        "id": "54lC7VVaolun"
      }
    },
    {
      "cell_type": "markdown",
      "source": [
        "## <a name=\"HW9q2a\">Question 2a</a>\n",
        "\n",
        "------------------------------------------------------------------------\n",
        "\n",
        "Compute a 95% confidence interval for $\\mu$, the mean SAT math score at this university.\n",
        "\n",
        "-   Show your work by replacing each of the <mark>??</mark> below with an appropriate value.\n",
        "\n",
        "### Solution to Question 2a\n",
        "\n",
        "------------------------------------------------------------------------\n",
        "\n",
        "i.  An initial point estimate is $\\mu \\approx $<mark>538</mark>.\n",
        "\n",
        "ii. The value of $z_{\\alpha/2}$ for a 95% confidence level is <mark>1.96</mark>.\n",
        "\n",
        "-   Round your answer to two decimal places when typing it above."
      ],
      "metadata": {
        "id": "EPNDY2XpO-Lz"
      }
    },
    {
      "cell_type": "code",
      "source": [
        "# Show work by entering a formula (using qnorm)\n",
        "z.star <- qnorm(0.975, 0, 1)\n",
        "z.star"
      ],
      "metadata": {
        "colab": {
          "base_uri": "https://localhost:8080/",
          "height": 34
        },
        "outputId": "ab35aba2-b746-469c-bbd7-9b708f3c11b8",
        "id": "v8WDSMi8PCux"
      },
      "execution_count": null,
      "outputs": [
        {
          "output_type": "display_data",
          "data": {
            "text/html": [
              "1.95996398454005"
            ],
            "text/markdown": "1.95996398454005",
            "text/latex": "1.95996398454005",
            "text/plain": [
              "[1] 1.959964"
            ]
          },
          "metadata": {}
        }
      ]
    },
    {
      "cell_type": "markdown",
      "source": [
        "iii. The standard error of the underlying sampling distribution is $\\mbox{SE}(\\bar{X}) =$ <mark>23.2</mark>.\n",
        "\n",
        "-   Round your answer to two decimal places when typing it above.\n"
      ],
      "metadata": {
        "id": "qw-SUrCkPK_U"
      }
    },
    {
      "cell_type": "code",
      "source": [
        "# Show work by entering a calculation\n",
        "# that gives the standard error\n",
        "se2 <- 116 / sqrt(25)\n",
        "se2"
      ],
      "metadata": {
        "colab": {
          "base_uri": "https://localhost:8080/",
          "height": 34
        },
        "outputId": "53fa3adb-9c92-4720-fcc5-9eff83204876",
        "id": "yx4EZ6tfPRdV"
      },
      "execution_count": null,
      "outputs": [
        {
          "output_type": "display_data",
          "data": {
            "text/html": [
              "23.2"
            ],
            "text/markdown": "23.2",
            "text/latex": "23.2",
            "text/plain": [
              "[1] 23.2"
            ]
          },
          "metadata": {}
        }
      ]
    },
    {
      "cell_type": "markdown",
      "source": [
        "iv. The margin of error (MoE) for a 95% confidence interval is <mark>45.47</mark>.\n",
        "\n",
        "-   Round your answer to two decimal places when typing it above."
      ],
      "metadata": {
        "id": "5qeIncKmPVyX"
      }
    },
    {
      "cell_type": "code",
      "source": [
        "# Show work by entering a calculation\n",
        "# that gives the margin of error.\n",
        "moe2 <- z.star * se2\n",
        "moe2"
      ],
      "metadata": {
        "colab": {
          "base_uri": "https://localhost:8080/",
          "height": 34
        },
        "outputId": "5afb93bd-754a-4505-b07b-aa24bda51e24",
        "id": "nMREWTdmPZOl"
      },
      "execution_count": null,
      "outputs": [
        {
          "output_type": "display_data",
          "data": {
            "text/html": [
              "45.4711644413292"
            ],
            "text/markdown": "45.4711644413292",
            "text/latex": "45.4711644413292",
            "text/plain": [
              "[1] 45.47116"
            ]
          },
          "metadata": {}
        }
      ]
    },
    {
      "cell_type": "markdown",
      "source": [
        "v.  A 95% confidence interval for the mean SAT math score of all students at the university is from <mark>492.5</mark> to <mark>583.5</mark>.\n",
        "\n",
        "-   Round your answers to one decimal place when typing them above."
      ],
      "metadata": {
        "id": "Ga3vddxPPcxZ"
      }
    },
    {
      "cell_type": "code",
      "source": [
        "lower2 <- 538 - moe2\n",
        "upper2 <- 538 + moe2\n",
        "\n",
        "lower2\n",
        "upper2"
      ],
      "metadata": {
        "colab": {
          "base_uri": "https://localhost:8080/",
          "height": 52
        },
        "id": "OPrz5YBXLd2o",
        "outputId": "e1370959-962c-4a94-c914-8fce15000c64"
      },
      "execution_count": null,
      "outputs": [
        {
          "output_type": "display_data",
          "data": {
            "text/html": [
              "492.528835558671"
            ],
            "text/markdown": "492.528835558671",
            "text/latex": "492.528835558671",
            "text/plain": [
              "[1] 492.5288"
            ]
          },
          "metadata": {}
        },
        {
          "output_type": "display_data",
          "data": {
            "text/html": [
              "583.471164441329"
            ],
            "text/markdown": "583.471164441329",
            "text/latex": "583.471164441329",
            "text/plain": [
              "[1] 583.4712"
            ]
          },
          "metadata": {}
        }
      ]
    },
    {
      "cell_type": "markdown",
      "source": [
        "## <a name=\"HW9q2b\">Question 2b</a>\n",
        "\n",
        "------------------------------------------------------------------------\n",
        "\n",
        "Interpret the meaning of the confidence interval you found in [Question 2a](#HW9q2a) in practical terms to a person who does not come from a statistics background.\n",
        "\n",
        "-   Be sure to keep in the mind the cautions we discussed in class regarding interpretations of confidence intervals.\n",
        "\n",
        "Based on your interpretation, answer the question below. Explain how you determined your answer.\n",
        "\n",
        "\n",
        "> Do you believe based on the data this school performs better than average?\n",
        "\n",
        "\n",
        "### Solution to Question 2b\n",
        "\n",
        "------------------------------------------------------------------------\n",
        "\n",
        "**Write your interpretation below:**\n",
        "\n",
        "<br>\n",
        "\n",
        "There is a 95% chance the interval from $492.5$ to $583.5$ contains the mean math SAT score of all seniors at this high school.\n",
        "\n",
        "<br>  \n",
        "<br>  \n",
        "\n",
        "Do you believe based on the data this school performs better than average? Explain.\n",
        "\n",
        "<br>\n",
        "\n",
        "No. The the national average math SAT score is 518 which is in the confidence interval. Since it is plausible that the mean math SAT score of all seniors at this high school, we cannot be certain this high school is better than average.\n",
        "\n",
        "\n",
        "<br>  \n",
        "<br>  "
      ],
      "metadata": {
        "id": "tJKeS4_RPpxr"
      }
    },
    {
      "cell_type": "markdown",
      "source": [
        "# <a name=\"HW9q3\">Question 3</a>\n",
        "\n",
        "------------------------------------------------------------------------\n",
        "\n",
        "A researcher is interested in the sugar content of vanilla ice cream.\n",
        "They obtain random samples of $n=20$ brands (each sample is a half cup serving of ice cream) and finds an average of $18.05$ grams of sugar with a standard deviation of $5$ grams.\n",
        "Assuming the distribution of sugar content of all brands of vanilla ice cream is normally distributed, **find a 90% confidence interval for the mean amount of sugar in a half cup serving of vanilla ice cream.**\n",
        "\n",
        "-   Show your work by replacing each of the <mark>??</mark> below with an appropriate value.\n",
        "\n",
        "### Solution to Question 3\n",
        "\n",
        "------------------------------------------------------------------------\n",
        "\n",
        "i.  An initial point estimate is $\\mu \\approx $ <mark>18.05 grams of sugar</mark>.\n",
        "\n",
        "ii. The value of $t_{\\alpha/2}$ for a 90% confidence level is <mark>1.729</mark>.\n",
        "\n",
        "-   Round your answer to three decimal places when typing it above.\n",
        "\n"
      ],
      "metadata": {
        "id": "AugYwkT_PwdU"
      }
    },
    {
      "cell_type": "code",
      "source": [
        "# Show work by entering a formula\n",
        "t.star <- qt(0.95, 20 - 1)\n",
        "t.star"
      ],
      "metadata": {
        "colab": {
          "base_uri": "https://localhost:8080/",
          "height": 34
        },
        "outputId": "77956851-de5f-4396-e034-e1a56f540374",
        "id": "dejGd-2bP0og"
      },
      "execution_count": null,
      "outputs": [
        {
          "output_type": "display_data",
          "data": {
            "text/html": [
              "1.72913281152137"
            ],
            "text/markdown": "1.72913281152137",
            "text/latex": "1.72913281152137",
            "text/plain": [
              "[1] 1.729133"
            ]
          },
          "metadata": {}
        }
      ]
    },
    {
      "cell_type": "markdown",
      "source": [
        "iii. The standard error of the underlying sampling distribution is $\\mbox{SE}(\\bar{X}) =$ <mark>1.118</mark>.\n",
        "\n",
        "-   Round your answer to three decimal places when typing it above.\n"
      ],
      "metadata": {
        "id": "Hc-_v7uWP7HZ"
      }
    },
    {
      "cell_type": "code",
      "source": [
        "# Show work by entering a calculation\n",
        "# that gives the margin of error.\n",
        "moe3 <- se3 * t.star\n",
        "moe3"
      ],
      "metadata": {
        "colab": {
          "base_uri": "https://localhost:8080/",
          "height": 34
        },
        "outputId": "d4155020-e4bf-475b-c906-6bfa96e7514e",
        "id": "gkDr47UeP-uS"
      },
      "execution_count": null,
      "outputs": [
        {
          "output_type": "display_data",
          "data": {
            "text/html": [
              "1.93322925434356"
            ],
            "text/markdown": "1.93322925434356",
            "text/latex": "1.93322925434356",
            "text/plain": [
              "[1] 1.933229"
            ]
          },
          "metadata": {}
        }
      ]
    },
    {
      "cell_type": "markdown",
      "source": [
        "iv. The margin of error (MoE) for a 90% confidence interval is <mark>1.933</mark>.\n",
        "\n",
        "-   Round your answer to three decimal places when typing it above."
      ],
      "metadata": {
        "id": "kbSLzLWJQCg8"
      }
    },
    {
      "cell_type": "code",
      "source": [
        "# Show work by entering a calculation\n",
        "# that gives the margin of error.\n",
        "moe3 <- se3 * t.star\n",
        "moe3"
      ],
      "metadata": {
        "colab": {
          "base_uri": "https://localhost:8080/",
          "height": 34
        },
        "outputId": "d4155020-e4bf-475b-c906-6bfa96e7514e",
        "id": "dXtuFCjrQF4Y"
      },
      "execution_count": null,
      "outputs": [
        {
          "output_type": "display_data",
          "data": {
            "text/html": [
              "1.93322925434356"
            ],
            "text/markdown": "1.93322925434356",
            "text/latex": "1.93322925434356",
            "text/plain": [
              "[1] 1.933229"
            ]
          },
          "metadata": {}
        }
      ]
    },
    {
      "cell_type": "markdown",
      "source": [
        "v.   A 90% confidence interval for the mean amount of sugar in a half cup serving of vanilla ice cream is from <mark>16.117</mark> grams to <mark>19.983</mark> grams.\n",
        "\n",
        "-   Round your answers to three decimal places when typing them above."
      ],
      "metadata": {
        "id": "hce_eowSQMpG"
      }
    },
    {
      "cell_type": "code",
      "source": [
        "lower3 <- 18.05 - moe3\n",
        "upper3 <- 18.05 + moe3\n",
        "\n",
        "lower3\n",
        "upper3"
      ],
      "metadata": {
        "colab": {
          "base_uri": "https://localhost:8080/",
          "height": 52
        },
        "id": "AmfQEzO5NUIP",
        "outputId": "1a1ad560-3572-4b85-e9fc-3b4a68fd0e28"
      },
      "execution_count": null,
      "outputs": [
        {
          "output_type": "display_data",
          "data": {
            "text/html": [
              "16.1167707456564"
            ],
            "text/markdown": "16.1167707456564",
            "text/latex": "16.1167707456564",
            "text/plain": [
              "[1] 16.11677"
            ]
          },
          "metadata": {}
        },
        {
          "output_type": "display_data",
          "data": {
            "text/html": [
              "19.9832292543436"
            ],
            "text/markdown": "19.9832292543436",
            "text/latex": "19.9832292543436",
            "text/plain": [
              "[1] 19.98323"
            ]
          },
          "metadata": {}
        }
      ]
    },
    {
      "cell_type": "markdown",
      "source": [
        "# Question 4\n",
        "\n",
        "------------------------------------------------------------------------\n",
        "\n",
        "United Airlines Flight 179 is a nonstop flight from Boston to San Francisco.\n",
        "During 2019 the mean length of time for all flights was $357.9$ minutes and population standard deviation was $20.18$ minutes.\n",
        "You want to construct a 95% confidence interval for the mean length of time of the flight in 2023 based on a sample of flights in 2023.\n",
        "**What is the minimum size of the sample needed in order to have a margin of error of two minutes or less?**\n",
        "\n",
        "-   You may assume the standard deviation of the population of all flights in 2023 is equal to the standard deviation of the all flight lengths in 2019.\n",
        "\n",
        "## Solution to Question 4\n",
        "\n",
        "------------------------------------------------------------------------\n",
        "\n",
        "Show supporting work/calculations in the space below.\n",
        "Answer without any supporting work will not earn credit.\n",
        "\n",
        "\n",
        "<br>  \n",
        "\n",
        "We solve the following equation for $n$.\n",
        "\n",
        "$$\\mbox{MoE} = z_{\\alpha/2} \\cdot \\frac{\\sigma}{\\sqrt{n}}  = 1.96 \\cdot \\frac{20.18}{\\sqrt{n}} = 2$$\n",
        "\n",
        "<br>  \n",
        "\n",
        "From the code above, we see $n \\approx 391.11$.  Since $n$ must be an integer, and we want to be sure we have a margin of error **at most** $2$ minutes, we would need a sample of size **at least** $\\mathbf{392}$ **flights** (bumping up to the next integer as opposed to rounding down).\n"
      ],
      "metadata": {
        "id": "KRxmESHYQ8Nh"
      }
    },
    {
      "cell_type": "code",
      "source": [
        "# Here's an R code cell if you'd like to use it!\n",
        "((1.96 * 20.18)/2)**2"
      ],
      "metadata": {
        "colab": {
          "base_uri": "https://localhost:8080/",
          "height": 34
        },
        "outputId": "e06d8f5f-2308-4259-ab18-dcad97ea7c04",
        "id": "Xf4UnRb2RGzW"
      },
      "execution_count": null,
      "outputs": [
        {
          "output_type": "display_data",
          "data": {
            "text/html": [
              "391.10599696"
            ],
            "text/markdown": "391.10599696",
            "text/latex": "391.10599696",
            "text/plain": [
              "[1] 391.106"
            ]
          },
          "metadata": {}
        }
      ]
    },
    {
      "cell_type": "markdown",
      "source": [
        "# <a name=\"HW9q5\">Question 5</a>\n",
        "\n",
        "------------------------------------------------------------------------\n",
        "\n",
        "The dataset `Girls2004` from  the `resampledata` package contains samples of the the birth weights of baby girls born in Wyoming and Alaska. Before answering the questions you will need to first run the code cells below to install and load the `resampledata` package.\n",
        "\n"
      ],
      "metadata": {
        "id": "tMYxTxMCtEAt"
      }
    },
    {
      "cell_type": "code",
      "source": [
        "install.packages(\"resampledata\")  # install package in active session"
      ],
      "metadata": {
        "colab": {
          "base_uri": "https://localhost:8080/"
        },
        "id": "33hS9ffDtg-v",
        "outputId": "fb14a0cc-99f8-465a-d92e-40bd3aef3fc6"
      },
      "execution_count": null,
      "outputs": [
        {
          "output_type": "stream",
          "name": "stderr",
          "text": [
            "Installing package into ‘/usr/local/lib/R/site-library’\n",
            "(as ‘lib’ is unspecified)\n",
            "\n"
          ]
        }
      ]
    },
    {
      "cell_type": "code",
      "source": [
        "library(resampledata)  # load package"
      ],
      "metadata": {
        "id": "1uKN3CgftoS-",
        "colab": {
          "base_uri": "https://localhost:8080/"
        },
        "outputId": "54d19cc8-3112-4903-a12d-f1ec6efce196"
      },
      "execution_count": null,
      "outputs": [
        {
          "output_type": "stream",
          "name": "stderr",
          "text": [
            "\n",
            "Attaching package: ‘resampledata’\n",
            "\n",
            "\n",
            "The following object is masked from ‘package:datasets’:\n",
            "\n",
            "    Titanic\n",
            "\n",
            "\n"
          ]
        }
      ]
    },
    {
      "cell_type": "code",
      "source": [
        "summary(Girls2004)  # summary of data"
      ],
      "metadata": {
        "colab": {
          "base_uri": "https://localhost:8080/",
          "height": 142
        },
        "id": "k7O6gVyFvLFE",
        "outputId": "bd1a32b3-f308-44c7-f6af-95e266b40571"
      },
      "execution_count": null,
      "outputs": [
        {
          "output_type": "display_data",
          "data": {
            "text/plain": [
              "       ID        State   MothersAge Smoker       Weight       Gestation    \n",
              " Min.   : 1.00   AK:40   15-19: 6   No :69   Min.   :2182   Min.   :37.00  \n",
              " 1st Qu.:20.75   WY:40   20-24:29   Yes:11   1st Qu.:3076   1st Qu.:38.00  \n",
              " Median :40.50           25-29:22            Median :3331   Median :39.00  \n",
              " Mean   :40.50           30-34:15            Mean   :3362   Mean   :39.14  \n",
              " 3rd Qu.:60.25           35-39: 6            3rd Qu.:3709   3rd Qu.:40.00  \n",
              " Max.   :80.00           40-44: 2            Max.   :4592   Max.   :42.00  "
            ]
          },
          "metadata": {}
        }
      ]
    },
    {
      "cell_type": "markdown",
      "source": [
        "## <a name=\"HW9q5a\">Question 5a</a>\n",
        "\n",
        "------------------------------------------------------------------------\n",
        "\n",
        "Complete the given R code cell below to R find a 99% confidence interval for the difference in the mean weights of girls born in these two states. The units of weight for this data is grams. Include units with your estimate.\n",
        "\n",
        "### Solution to Question 5a\n",
        "\n",
        "------------------------------------------------------------------------\n",
        "\n",
        "<br>\n",
        "\n",
        "In addition to R code and output from that code below, **be sure to type a sentence indicating your answer in the space below.**\n",
        "\n",
        "-   Do not leave it for your reader to interpret the output.\n",
        "-   Round your answers to two decimal places when typing them.\n",
        "\n",
        "<br>  \n",
        "\n",
        "There is a 99% chance the interval from $9.57$ grams to $607.33$ grams contains the difference in mean birth weight of all female newborns in Alaska and the mean birth weight of all female newborns in Wyoming.\n",
        "\n",
        "\n",
        "<br>  \n",
        "<br>  \n"
      ],
      "metadata": {
        "id": "SfFkxQdFRTUR"
      }
    },
    {
      "cell_type": "code",
      "source": [
        "Weight <- Girls2004$Weight  # creates a vector birth weights\n",
        "\n",
        "# Create a vector of Alaska birth weights\n",
        "Weight.AK <-subset(Girls2004, select = Weight,\n",
        "                   State == \"AK\", drop = TRUE)\n",
        "\n",
        "# Create a vector of Wyoming birth weights\n",
        "Weight.WY <-subset(Girls2004, select = Weight,\n",
        "                   State == \"WY\", drop = TRUE)\n",
        "\n",
        "# Compute confidence interval\n",
        "t.test(Weight.AK, Weight.WY, conf.level = 0.99)$conf.int"
      ],
      "metadata": {
        "colab": {
          "base_uri": "https://localhost:8080/",
          "height": 34
        },
        "outputId": "b38bc848-3fd5-45f4-d33b-5448a3b0f1bb",
        "id": "g2-CEUUSRk1D"
      },
      "execution_count": null,
      "outputs": [
        {
          "output_type": "display_data",
          "data": {
            "text/html": [
              "<style>\n",
              ".list-inline {list-style: none; margin:0; padding: 0}\n",
              ".list-inline>li {display: inline-block}\n",
              ".list-inline>li:not(:last-child)::after {content: \"\\00b7\"; padding: 0 .5ex}\n",
              "</style>\n",
              "<ol class=list-inline><li>9.56653636325901</li><li>607.333463636741</li></ol>\n"
            ],
            "text/markdown": "1. 9.56653636325901\n2. 607.333463636741\n\n\n",
            "text/latex": "\\begin{enumerate*}\n\\item 9.56653636325901\n\\item 607.333463636741\n\\end{enumerate*}\n",
            "text/plain": [
              "[1]   9.566536 607.333464\n",
              "attr(,\"conf.level\")\n",
              "[1] 0.99"
            ]
          },
          "metadata": {}
        }
      ]
    },
    {
      "cell_type": "markdown",
      "source": [
        "## <a name=\"HW9q5b\">Question 5b</a>\n",
        "\n",
        "------------------------------------------------------------------------\n",
        "\n",
        "Based on your previous answer, do you believe that there is a difference in the mean weights of babies born in these two states.\n",
        "**Explain why or why not.**\n",
        "\n",
        "### Solution to Question 5b\n",
        "\n",
        "------------------------------------------------------------------------\n",
        "\n",
        "**Be sure to provide a supporting explanation!**\n",
        "\n",
        "<br>  \n",
        "\n",
        "Yes, it is plausible that the mean birth weights are not equal.\n",
        "\n",
        "Since a difference of 0 is not inside the confidence interval, it is not plausible that $\\mu_A - \\mu_W = 0$. Since it is not plausible that $\\mu_A = \\mu_W$, we can equivalently say it is plausible that the mean birth weights are not equal.\n",
        "\n",
        "<br>  \n"
      ],
      "metadata": {
        "id": "AF80lmTmRoW7"
      }
    },
    {
      "cell_type": "markdown",
      "source": [
        "## <a name=\"HW9q5c\">Question 5c</a>\n",
        "\n",
        "------------------------------------------------------------------------\n",
        "\n",
        "Construct an approximate 99% confidence interval by following these steps below.\n",
        "\n",
        "-   Show your work by replacing each of the <mark>??</mark> below with an appropriate value.\n",
        "\n",
        "### Solution to Question 5c\n",
        "\n",
        "------------------------------------------------------------------------\n",
        "\n",
        "i.  The mean of the weights of the Wyoming sample is <mark>3207.9</mark> grams. The standard deviation of the weights of the Wyoming sample is <mark>418.31</mark> grams.\n",
        "\n",
        "-   Round your answers to two decimal places when typing them above.\n"
      ],
      "metadata": {
        "id": "0PSbJpEwRv-z"
      }
    },
    {
      "cell_type": "code",
      "source": [
        "# Enter a formula for the mean of the Wyoming sample\n",
        "x.bar.wy <- mean(Weight.WY)\n",
        "x.bar.wy\n",
        "\n",
        "# Enter a formula for the standard deviation of the Wyoming sample\n",
        "s.wy <- sd(Weight.WY)\n",
        "s.wy"
      ],
      "metadata": {
        "colab": {
          "base_uri": "https://localhost:8080/",
          "height": 52
        },
        "outputId": "4c3b2b71-6bad-4022-de08-c79a9d9c2a51",
        "id": "M_OjR3N5R0sJ"
      },
      "execution_count": null,
      "outputs": [
        {
          "output_type": "display_data",
          "data": {
            "text/html": [
              "3207.9"
            ],
            "text/markdown": "3207.9",
            "text/latex": "3207.9",
            "text/plain": [
              "[1] 3207.9"
            ]
          },
          "metadata": {}
        },
        {
          "output_type": "display_data",
          "data": {
            "text/html": [
              "418.318416324093"
            ],
            "text/markdown": "418.318416324093",
            "text/latex": "418.318416324093",
            "text/plain": [
              "[1] 418.3184"
            ]
          },
          "metadata": {}
        }
      ]
    },
    {
      "cell_type": "markdown",
      "source": [
        "iI.  The mean of the weights of the Alaska sample is <mark>3516.35</mark> grams. The standard deviation of the weights of the Alaska sample is <mark>578.83</mark> grams.\n",
        "\n",
        "-   Round your answers to two decimal places when typing them above.\n"
      ],
      "metadata": {
        "id": "eT4u-jDYR4Rc"
      }
    },
    {
      "cell_type": "code",
      "source": [
        "# Enter a formula for the mean of the Alaska sample\n",
        "x.bar.ak <- mean(Weight.AK)\n",
        "x.bar.ak\n",
        "\n",
        "\n",
        "# Enter a formula for the standard deviation of the Alaska sample\n",
        "s.ak <- sd(Weight.AK)\n",
        "s.ak"
      ],
      "metadata": {
        "colab": {
          "base_uri": "https://localhost:8080/",
          "height": 52
        },
        "outputId": "dedd24b2-b9f7-4634-df37-6fddf5b6f1d1",
        "id": "Rh-kVIbJR7sD"
      },
      "execution_count": null,
      "outputs": [
        {
          "output_type": "display_data",
          "data": {
            "text/html": [
              "3516.35"
            ],
            "text/markdown": "3516.35",
            "text/latex": "3516.35",
            "text/plain": [
              "[1] 3516.35"
            ]
          },
          "metadata": {}
        },
        {
          "output_type": "display_data",
          "data": {
            "text/html": [
              "578.833643786785"
            ],
            "text/markdown": "578.833643786785",
            "text/latex": "578.833643786785",
            "text/plain": [
              "[1] 578.8336"
            ]
          },
          "metadata": {}
        }
      ]
    },
    {
      "cell_type": "markdown",
      "source": [
        "\n",
        "iii. If we use the degrees of freedom of the $t$ distribution equal to the minimum of $n_1-1$ and $n_2-1$, the value of $t_{\\alpha/2}$ for a 99% confidence interval is <mark>2.708</mark>.\n",
        "\n",
        "-   Round your answer to three decimal places when typing it above.\n"
      ],
      "metadata": {
        "id": "I0ErZthxR_R4"
      }
    },
    {
      "cell_type": "code",
      "source": [
        "n.ak <- length(Weight.AK)\n",
        "n.wy <- length(Weight.WY)\n",
        "\n",
        "n.ak\n",
        "n.wy"
      ],
      "metadata": {
        "colab": {
          "base_uri": "https://localhost:8080/",
          "height": 52
        },
        "id": "3mXfAK_1Rrjc",
        "outputId": "78258101-61af-4ba3-e80f-8d6d35b3f6c6"
      },
      "execution_count": null,
      "outputs": [
        {
          "output_type": "display_data",
          "data": {
            "text/html": [
              "40"
            ],
            "text/markdown": "40",
            "text/latex": "40",
            "text/plain": [
              "[1] 40"
            ]
          },
          "metadata": {}
        },
        {
          "output_type": "display_data",
          "data": {
            "text/html": [
              "40"
            ],
            "text/markdown": "40",
            "text/latex": "40",
            "text/plain": [
              "[1] 40"
            ]
          },
          "metadata": {}
        }
      ]
    },
    {
      "cell_type": "code",
      "source": [
        "# Show work by entering a formula\n",
        "t.star5 <- qt(0.995, 40 - 1)\n",
        "t.star5"
      ],
      "metadata": {
        "id": "UidOW85VwNvO",
        "colab": {
          "base_uri": "https://localhost:8080/",
          "height": 34
        },
        "outputId": "c89d9f26-13ad-46b0-c22f-54b205d75e0b"
      },
      "execution_count": null,
      "outputs": [
        {
          "output_type": "display_data",
          "data": {
            "text/html": [
              "2.70791318351766"
            ],
            "text/markdown": "2.70791318351766",
            "text/latex": "2.70791318351766",
            "text/plain": [
              "[1] 2.707913"
            ]
          },
          "metadata": {}
        }
      ]
    },
    {
      "cell_type": "markdown",
      "source": [
        "iv. Using the previous answers in [Question 5c](#HW9q5c), a 99% confidence interval for the the difference in the mean weights of girls born in these two states is from <mark>2.67</mark> grams to <mark>614.23</mark> grams.\n",
        "\n",
        "-   Round your answers to two decimal places when typing them above.\n"
      ],
      "metadata": {
        "id": "eGoSl0GWSTfE"
      }
    },
    {
      "cell_type": "code",
      "source": [
        "# Feel free to use code cell for calculations\n",
        "\n",
        "point.est5 <- x.bar.ak - x.bar.wy\n",
        "se5 <- sqrt( s.ak^2 / n.ak + s.wy^2 / n.wy)\n",
        "moe5 <- se5 * t.star5\n",
        "\n",
        "lower5 <- point.est5 - moe5\n",
        "upper5 <- point.est5 + moe5\n",
        "\n",
        "lower5\n",
        "upper5"
      ],
      "metadata": {
        "colab": {
          "base_uri": "https://localhost:8080/",
          "height": 52
        },
        "outputId": "cf1df8e3-2c19-42d3-d5ff-c55b88daf62f",
        "id": "Ji3rnG9-SWn8"
      },
      "execution_count": null,
      "outputs": [
        {
          "output_type": "display_data",
          "data": {
            "text/html": [
              "2.67195512360263"
            ],
            "text/markdown": "2.67195512360263",
            "text/latex": "2.67195512360263",
            "text/plain": [
              "[1] 2.671955"
            ]
          },
          "metadata": {}
        },
        {
          "output_type": "display_data",
          "data": {
            "text/html": [
              "614.228044876397"
            ],
            "text/markdown": "614.228044876397",
            "text/latex": "614.228044876397",
            "text/plain": [
              "[1] 614.228"
            ]
          },
          "metadata": {}
        }
      ]
    },
    {
      "cell_type": "markdown",
      "source": [
        "v.  How does your previous answer compare the to confidence interval you found in [Question 5a](#HW9q5a)? **Explain in a complete sentence or two.**\n",
        "\n",
        "\n",
        "<br>  \n",
        "\n",
        "- In part (a), we have a 99% confidence interval from 9.57 to 607.33 grams.\n",
        "- In (iv) we have a 99% confidence interval from 2.67 to 614.23 grams.\n",
        "\n",
        "We see that both intervals contain only positive numbers and do not contain 0, so both would lead us to the conclusion that there is a difference in the birth weights of all newborns in Alaska compare to Wyoming. The interval in part a is more narrow than the interval obtained in part (iv) **since part (a) uses a more accurate estimate for the degrees of freedom when finding the margin of error**.\n",
        "\n",
        "<br>\n",
        "\n"
      ],
      "metadata": {
        "id": "xgl_3V93ScPy"
      }
    },
    {
      "cell_type": "markdown",
      "source": [
        "# <a name=\"HW9q6\">Question 6</a>\n",
        "\n",
        "------------------------------------------------------------------------\n",
        "\n",
        "The drug diflunisal is used to treat mild to moderate pain due to osteoarthritis (OA) and rheumatoid arthritis (RA). The ocular effects of diflunisal had not been considered until a study was conducted on its effect on intraocular pressure in glaucoma patients who were already receiving maximum therapy for glaucoma.  Suppose the change (mean ± sd ) in intraocular pressure after administration of diflunisal (follow-up – baseline) among 10 patients whose standard therapy was methazolamide and topical glaucoma medications was −1.6 ± 1.5 mm Hg. Assess the statistical significance of the results using a hypothesis test."
      ],
      "metadata": {
        "id": "rRLRCWauSpcH"
      }
    },
    {
      "cell_type": "markdown",
      "source": [
        "## <a name=\"HW9q6a\">Question 6a</a>\n",
        "\n",
        "------------------------------------------------------------------------\n",
        "\n",
        "What is the hypothesis you are testing? Write out the equations for the null and alternative hypothesis and explain in a sentence.\n",
        "\n",
        "### Solution to Question 6a\n",
        "\n",
        "------------------------------------------------------------------------\n",
        "\n",
        "<br>\n",
        "\n",
        "$H_0: \\mu = 0 $\n",
        "<br>\n",
        "$H_1: \\mu \\ne 0$\n",
        "\n",
        "<br>\n",
        "\n",
        "Explanation:\n",
        "\n",
        "The null hypothesis is that diflunisal does not have an effect on intraocular pressure.\n",
        "\n",
        "The alternate hypothesis is that diflunisal does effect intraocular pressure.\n",
        "<br>  \n",
        "<br>  "
      ],
      "metadata": {
        "id": "qEYz8UcNS74j"
      }
    },
    {
      "cell_type": "markdown",
      "source": [
        "## <a name=\"HW9q6b\">Question 6b</a>\n",
        "\n",
        "------------------------------------------------------------------------\n",
        "\n",
        "Perform the test and report a p-value.  What can you conclude from the results.\n",
        "\n",
        "### Solution to Question 6b\n",
        "\n",
        "------------------------------------------------------------------------\n",
        "\n",
        "Use the code cell below to calculate your results and provide a written explanation of what you conclude.\n",
        "\n",
        "<br>\n",
        "We will use a t test with a test statistic:\n",
        "\n",
        "$t = \\frac{\\bar{x} - 0}{s/\\sqrt{n}} = \\frac{\\bar{x}}{s/\\sqrt{n}} = \\frac{−1.6}{1.5/\\sqrt{10}} = -3.37$\n",
        "\n",
        "The critical values are -2.262 and +2.262 (the 2.5th and 97.5th percentile of the $t_{9}$ distribution).\n",
        "\n",
        "Because t = -3.37 is < -2.262, we reject the null hypothesis with a 5% significance level.\n",
        "\n",
        "The p-value is:  $p = 2 \\cdot P(t_{9}<-3.37)$.  \n",
        "\n",
        "Using the cumulative distribution function for the $t_{9}$ distribution we find the p value to be **0.0083**.\n",
        "\n",
        "We conclude that there is a highly significant difference in intraocular pressure with diflunisal.\n",
        "\n",
        "<br>\n"
      ],
      "metadata": {
        "id": "VC5Ck5QXU0XZ"
      }
    },
    {
      "cell_type": "code",
      "source": [
        "# code cell for Question 6b\n",
        "#calculating the test statistic\n",
        "-1.6/(1.5/sqrt(10))\n",
        "#calculating the critical values\n",
        "qt(0.025,9)\n",
        "qt(0.975,9)\n",
        "#calculating the p value\n",
        "pt(-3.37,9)*2"
      ],
      "metadata": {
        "id": "5X2OJ5MqUzm7",
        "colab": {
          "base_uri": "https://localhost:8080/",
          "height": 86
        },
        "outputId": "f9570870-aa37-41a7-c26d-c7fc528106b0"
      },
      "execution_count": null,
      "outputs": [
        {
          "output_type": "display_data",
          "data": {
            "text/html": [
              "-3.37309617084627"
            ],
            "text/markdown": "-3.37309617084627",
            "text/latex": "-3.37309617084627",
            "text/plain": [
              "[1] -3.373096"
            ]
          },
          "metadata": {}
        },
        {
          "output_type": "display_data",
          "data": {
            "text/html": [
              "-2.2621571627982"
            ],
            "text/markdown": "-2.2621571627982",
            "text/latex": "-2.2621571627982",
            "text/plain": [
              "[1] -2.262157"
            ]
          },
          "metadata": {}
        },
        {
          "output_type": "display_data",
          "data": {
            "text/html": [
              "2.2621571627982"
            ],
            "text/markdown": "2.2621571627982",
            "text/latex": "2.2621571627982",
            "text/plain": [
              "[1] 2.262157"
            ]
          },
          "metadata": {}
        },
        {
          "output_type": "display_data",
          "data": {
            "text/html": [
              "0.00825698288865816"
            ],
            "text/markdown": "0.00825698288865816",
            "text/latex": "0.00825698288865816",
            "text/plain": [
              "[1] 0.008256983"
            ]
          },
          "metadata": {}
        }
      ]
    },
    {
      "cell_type": "markdown",
      "source": [
        "# <a name=\"HW9q7\">Question 7</a>\n",
        "\n",
        "------------------------------------------------------------------------\n",
        "\n",
        " Iron-deficiency anemia is an important nutritional health problem in the United States. A dietary assessment was performed on 51 boys 9 to 11 years of age whose families were below the poverty level. The mean daily iron intake among these boys was found to be 12.50 mg with standard deviation 4.75 mg. Suppose the mean daily iron intake among a large population of 9- to 11-year-old boys from all income strata is 14.44 mg. We want to test whether the mean iron intake among the low-income group is different from that of the general population."
      ],
      "metadata": {
        "id": "7FFVSimlXSZM"
      }
    },
    {
      "cell_type": "markdown",
      "source": [
        "## <a name=\"HW9q7a\">Question 7a</a>\n",
        "\n",
        "------------------------------------------------------------------------\n",
        "\n",
        "State the hypotheses you would use to answer this question.  Write out the equations for the null and alternative hypothesis and explain in a sentence.\n",
        "\n",
        "### Solution to Question 7a\n",
        "\n",
        "------------------------------------------------------------------------\n",
        "\n",
        "<br>\n",
        "\n",
        "$H_0: \\mu = \\mu_{0}$\n",
        "<br>\n",
        "$H_1: \\mu \\ne \\mu_{0}$\n",
        "\n",
        "<br>\n",
        "\n",
        "Explanation:\n",
        "\n",
        "The null hypothesis is that there is no difference in the mean of daily iron intake for boys below the poverty level and boys in the general population.\n",
        "\n",
        "The alternative hypothesis is that there is a difference in the mean of daily iron intake for those below poverty level and general population.\n",
        "\n",
        "<br>  \n",
        "<br>  "
      ],
      "metadata": {
        "id": "36tDV1s8Xcif"
      }
    },
    {
      "cell_type": "markdown",
      "source": [
        "## <a name=\"HW9q7b\">Question 7b</a>\n",
        "\n",
        "------------------------------------------------------------------------\n",
        "\n",
        "Perform the test and report a p-value.  What can you conclude from the results.\n",
        "\n",
        "### Solution to Question 7b\n",
        "\n",
        "------------------------------------------------------------------------\n",
        "\n",
        "Use the code cell below to calculate your results and provide a written explanation of what you conclude.\n",
        "\n",
        "<br>\n",
        "\n",
        "We first calculate our test statistic:\n",
        "\n",
        "$t = \\frac{\\bar{x} - \\mu_{0}}{s/\\sqrt{n}} = \\frac{12.50-14.44}{4.75/\\sqrt{51}} = -2.92$\n",
        "\n",
        "The critical values are -2.009 and +2.009 (the 2.5th and 97.5th percentile of the $t_{50}$ distribution).\n",
        "\n",
        "Because t = -2.92 is < -2.009, we reject the null hypothesis with a 5% significance level.\n",
        "\n",
        "The p-value is:  $p = 2 \\cdot P(t_{50}<-2.92)$.  \n",
        "\n",
        "Using the cumulative distribution function for the $t_{50}$ distribution we find the p value to be **0.0053**.\n",
        "\n",
        "We conclude that there is a highly significant difference in iron intake.\n",
        "\n",
        "\n",
        "\n",
        "<br>"
      ],
      "metadata": {
        "id": "ZlG99_JQXp0v"
      }
    },
    {
      "cell_type": "code",
      "source": [
        "#calculating the test statistic\n",
        "t = (12.5-14.44)/(4.75/sqrt(51))\n",
        "t\n",
        "#calculating the critical values\n",
        "qt(0.025,50)\n",
        "qt(0.975,50)\n",
        "#calculating the p value\n",
        "pt(t,50)*2"
      ],
      "metadata": {
        "colab": {
          "base_uri": "https://localhost:8080/",
          "height": 86
        },
        "id": "mtYtiPcgY1p0",
        "outputId": "e408ef92-3c1b-4ae8-fe91-0b7e50b9db8e"
      },
      "execution_count": null,
      "outputs": [
        {
          "output_type": "display_data",
          "data": {
            "text/html": [
              "-2.91670971607855"
            ],
            "text/markdown": "-2.91670971607855",
            "text/latex": "-2.91670971607855",
            "text/plain": [
              "[1] -2.91671"
            ]
          },
          "metadata": {}
        },
        {
          "output_type": "display_data",
          "data": {
            "text/html": [
              "-2.00855911210076"
            ],
            "text/markdown": "-2.00855911210076",
            "text/latex": "-2.00855911210076",
            "text/plain": [
              "[1] -2.008559"
            ]
          },
          "metadata": {}
        },
        {
          "output_type": "display_data",
          "data": {
            "text/html": [
              "2.00855911210076"
            ],
            "text/markdown": "2.00855911210076",
            "text/latex": "2.00855911210076",
            "text/plain": [
              "[1] 2.008559"
            ]
          },
          "metadata": {}
        },
        {
          "output_type": "display_data",
          "data": {
            "text/html": [
              "0.00528512387658941"
            ],
            "text/markdown": "0.00528512387658941",
            "text/latex": "0.00528512387658941",
            "text/plain": [
              "[1] 0.005285124"
            ]
          },
          "metadata": {}
        }
      ]
    }
  ]
}