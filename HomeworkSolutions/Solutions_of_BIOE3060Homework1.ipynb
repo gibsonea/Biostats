{
  "nbformat": 4,
  "nbformat_minor": 0,
  "metadata": {
    "colab": {
      "provenance": [],
      "include_colab_link": true
    },
    "kernelspec": {
      "name": "ir",
      "display_name": "R"
    },
    "language_info": {
      "name": "R"
    }
  },
  "cells": [
    {
      "cell_type": "markdown",
      "metadata": {
        "id": "view-in-github",
        "colab_type": "text"
      },
      "source": [
        "<a href=\"https://colab.research.google.com/github/gibsonea/Biostats/blob/main/HomeworkSolutions/Solutions_of_BIOE3060Homework1.ipynb\" target=\"_parent\"><img src=\"https://colab.research.google.com/assets/colab-badge.svg\" alt=\"Open In Colab\"/></a>"
      ]
    },
    {
      "cell_type": "markdown",
      "source": [
        "# Homework 1\n",
        "\n",
        "---"
      ],
      "metadata": {
        "id": "TLH2NCL-V8J_"
      }
    },
    {
      "cell_type": "markdown",
      "source": [
        "## <a name=\"HW1Inst\">Instructions:</a>\n",
        "---\n",
        "\n",
        "1. <font color=\"tomato\">Either click the COPY TO DRIVE button or use the menu File/Save/Save a Copy to save your own version of the notebook in your own folder in Google Drive.</font>\n",
        "\n",
        "  - If you do not have a Google account, you will need to create a Google account in order to create your own individual copy of this notebook.\n",
        "  - By default, the notebook will be saved in a folder named **Colab Notebooks** in your drive.\n",
        "  - Feel free to name and store the notebook wherever you like!\n",
        "\n",
        "2. <font color=\"mediumseagreen\">After you have copied the notebook into your Drive, you can begin editing and saving your work.</font>\n",
        "\n",
        "**Upload your completed assignment into Canvas as a Google Colab (or Jupyter) Notebook with file extension `.ipynb`.**\n",
        "\n",
        "Upload your file into the Homework 1 assignment in Canvas\n",
        "\n",
        "**You must provide supporting work for all of your answers.**\n",
        "\n",
        "  - <font color=\"dodgerblue\">That work will include using R code cells.</font>\n",
        "    - **Feel free to insert as much R code as you like.**\n",
        "    - You must interpret or explain how the output of a code cell is being utilized to solve the problem.\n",
        "    - **Code with incomplete or missing explanations of why the output is useful may not receive full credit.**\n",
        "  - <font color=\"dodgerblue\">Your work will also involve writing explanations and justifications in text cells.</font>\n",
        "    - **Be sure to type/write out the steps of your work/explanation so I can see how you arrived at your answer.**\n",
        "\n",
        "\n",
        "## Important Academic Policies:\n",
        "---\n",
        "\n",
        "- **You are your work.** Though you may collaborate with others, everyone is responsible for writing up the work in their own way using their own methods. Plagiarism of any form is not tolerated.\n",
        "- **Be complete.** You must provide all work and/or explanations needed to find the solution. Answers with insufficient or incomplete supporting work may lose credit.\n",
        "- **Adhere to the Code of Academic Honesty.**\n",
        "- **Be clearly written.** Your solution to a problem must be clear, written in complete sentences. You may lose credit for work that is unclear or hard to follow.\n",
        "\n",
        "## <font color=\"dodgerblue\">Let me know if you need help.</font>\n",
        "\n",
        "----"
      ],
      "metadata": {
        "id": "gr9nGY7MSp23"
      }
    },
    {
      "cell_type": "markdown",
      "source": [
        "# <a name=\"HW1Q1\">Question 1</a>\n",
        "\n",
        "---\n",
        "Consider the following excerpt from a recent article<sup>1</sup> that discussed the spread of COVID-19 in various school settings.\n",
        "\n",
        "\n",
        "> \"A case-control study of exposures among children aged 0 through 18 years with ($n=154$) and without ($n=243$) SARS-CoV-2 infection in Mississippi found that having attended gatherings and social functions outside the home as well as having had visitors in the home was associated with increased risk of infection; however, in-person school attendance during the 14 days prior to diagnosis was not.\"\n",
        "\n",
        "To summarize the research referred to above, out of all children in the study, 154 children did become infected with SARS-CoV-2 while 243 children did not become infected during the study. Researchers asked each child in the study, \"Have you attended gatherings and social functions outside the home?\" They found that those children that answered YES, had a higher rate of infection compared to those children who answered NO.\n",
        "\n",
        "<br>\n",
        "\n",
        "<font size =2>1. \"Data and Policy to Guide Opening Schools Safely to Limit the Spread of SARS-CoV-2 Infection\" by Honein, Barrios, and Brooks, <https://jamanetwork.com/journals/jama/fullarticle/2775875> in the Journal of American Medical Association published on January 26, 2021</font>\n",
        "\n"
      ],
      "metadata": {
        "id": "5KL-2xeKRU9T"
      }
    },
    {
      "cell_type": "markdown",
      "source": [
        "## <a name=\"HW1Q1a\">Question 1a</a>\n",
        "\n",
        "---\n",
        "\n",
        "Was this an observational study or an experiment? Support your answer with an explanation.\n",
        "\n",
        "<br>\n",
        "\n",
        "### Solution to Question 1a\n",
        "\n",
        "---\n",
        "\n",
        "<br>  \n",
        "\n",
        "This is an observational study since the participants (students) decided for themselves whether they attended social functions outside of the house.\n",
        "\n",
        "<br>  \n"
      ],
      "metadata": {
        "id": "IeucgbRm5G90"
      }
    },
    {
      "cell_type": "markdown",
      "source": [
        "## <a name=\"HW1Q1b\">Question 1b</a>\n",
        "\n",
        "---\n",
        "\n",
        "Does the excerpt above imply that the connection between attending social gatherings and getting SARS-CoV-2 is a causal relationship? Answer YES or NO, and then provide an explanation of how you determined your answer.\n",
        "\n",
        "<br>\n",
        "\n",
        "### Solution to Question 1b\n",
        "\n",
        "---\n",
        "\n",
        "<br>  \n",
        "NO. The article says that attending social gatherings was **associated** with increased risk of SARS-CoV-2 infection, but it does not say that is the increased activity itself that caused the infection.\n",
        "\n",
        "<br>  \n",
        "\n"
      ],
      "metadata": {
        "id": "P4AvSe2-5JM9"
      }
    },
    {
      "cell_type": "markdown",
      "source": [
        "## <a name=\"HW1Q1c\">Question 1c</a>\n",
        "\n",
        "---\n",
        "\n",
        "Give an example of one possible confounding variable that might be contributing to the association between attending social gatherings and getting SARS-CoV-2. Explain why your variable could be a confounding variable.\n",
        "\n",
        "<br>\n",
        "\n",
        "### Solution to Question 1c\n",
        "\n",
        "---\n",
        "\n",
        "<br>  \n",
        "\n",
        "Answers will vary. One possible confounding variable is whether or not they wore a mask. For example, children that chose to attend social gatherings are less likely to wear a mask compared to students who were more strict about limiting social behavior. People that do not wear masks are at a higher risk of getting infected. So not wearing a mask is confounding variable since it is associated to both the explanatory variable (going to social gatherings) and the response variable (getting COVID-19). It would be interesting to know whether the students that attended gatherings do so with or without masks.\n",
        "\n",
        "<br>  \n",
        "\n"
      ],
      "metadata": {
        "id": "BsKeqlMQ5Kom"
      }
    },
    {
      "cell_type": "markdown",
      "source": [
        "# <a name=\"HW1Q2\">Question 2</a>\n",
        "\n",
        "---\n",
        "\n",
        "This question refers to a January 26, 2021 report from the Center for Disease Control (CDC) titled *COVID-19 Cases and Transmission in 17 K-12 Schools -- Wood County, Wisconsin, August 31-November 29, 2020* which is linked here <https://www.cdc.gov/mmwr/volumes/70/wr/pdfs/mm7004e3-H.pdf>.\n",
        "\n",
        "<br>\n",
        "\n",
        "Researchers hoped to find insight into a very important question, \"Does wearing masks help reduce the incidence of COVID-19?\". The control group are the people in the communities in Wood County, Wisconsin where there is low compliance with mask wearing. The treatment group are the people (students, teachers, and staff) who are in a \"high compliance mask wearing community (school)\". The response variable is whether or not the individual became infected with COVID-19.\n",
        "\n",
        "<br>\n",
        "\n",
        "**Read the introduction on page 136 and the first half of page 137 in the article linked above and answer the questions below.**\n",
        "\n",
        "<br>"
      ],
      "metadata": {
        "id": "e7D8c_QBRhUd"
      }
    },
    {
      "cell_type": "markdown",
      "source": [
        "## <a name=\"HW1Q2a\">Question 2a</a>\n",
        "\n",
        "---\n",
        "\n",
        "According to the article, how much lower was the incidence rate of COVID-19 in the treatment (high mask wearing, school setting) group compared to the control (rest of community) group?\n",
        "\n",
        "<br>\n",
        "\n",
        "### Solution to Question 2a</a>\n",
        "\n",
        "---\n",
        "\n",
        "<br>  \n",
        "\n",
        "\"Weekly COVID-19 incidence ranged from 34 to 1,189 per 100,000 persons in the community, and from 72 to 699 cases per 100,000 among students and staff members in the schools. **COVID-19 incidence in schools conducting in-person instruction was 37% lower than that in the surrounding community.**\"\n",
        "\n",
        "<br>  \n",
        "\n"
      ],
      "metadata": {
        "id": "hZv06FHW6Bmt"
      }
    },
    {
      "cell_type": "markdown",
      "source": [
        "## <a name=\"HW1Q2b\">Question 2b</a>\n",
        "\n",
        "---\n",
        "\n",
        "Do you believe this research proves that mask wearing indeed lowers the transmission of COVID-19? Answer this question based solely on the design and description of the research, not on what you personally may have concluded based on your own research into this matter. If you answer yes, explain why. If you answer no, then give at least one possible confounding variable that might be the reason behind the lower transmission rate in the treatment (mask wearing) group.\n",
        "\n",
        "<br>\n",
        "\n",
        "### Solution to Question 2b</a>\n",
        "\n",
        "---\n",
        "\n",
        "<br>  \n",
        "\n",
        "No, since this is an observational study, there are going to be confounding variables. When there are confounding variables, we cannot assert the relationship is causal, just that there is some association. One confounding variable is **AGE**. Students and staff in school are (on average) younger than the general population in the community. At this stage in the COIVD-19 outbreak (prior to delta variant), transmission in children was more rare than transmission among older segments of the population. Since the school population is younger, and younger people are less likely to be infected (at that point in the outbreak), we may just be observing that school age children are less likely to be infected, and not so much related to the masking.\n",
        "\n",
        "<br>  \n",
        "\n"
      ],
      "metadata": {
        "id": "mvBUkw6x6dgI"
      }
    },
    {
      "cell_type": "markdown",
      "source": [
        "## <a name=\"HW1Q2c\">Question 2c</a>\n",
        "\n",
        "---\n",
        "\n",
        "This research is an example of an observational study. Describe a randomized controlled experiment that could be designed to investigate the question \"Does wearing masks help reduce the incidence of COVID-19?\". Though clearly vital and essential to consider in practice, for this question you may ignore any ethical or moral issues in your design.\n",
        "\n",
        "<br>\n",
        "\n",
        "### Solution to Question 2c\n",
        "\n",
        "---\n",
        "\n",
        "<br>  \n",
        "\n",
        "Ask for volunteers for the study to see if mask wearing helps reduce transmission of COVID-19. For each person in the study, a coin is flipped. If it lands on heads, the person is assigned to the treatment group who must wear a mask whenever they leave the home. If the coin lands on tails, the individual is assigned to a control group which is told they cannot wear a mask at all during the duration of the study. Then participants are following up several months later to compare the proportion of people who became infected in each group.\n",
        "\n",
        "<br>  \n",
        "\n"
      ],
      "metadata": {
        "id": "VTtRceN06f9m"
      }
    },
    {
      "cell_type": "markdown",
      "source": [
        "# <a name=\"HW1Q3\">Question 3</a>\n",
        "\n",
        "---\n",
        "\n",
        "For this problem you will use the dataset `FEV` in the excel file: `FEV.xls`.  Forced expiratory volume (FEV) is an index of pulmonary function that measures the volume of air expelled after 1 second of constant effort. `FEV.xls` contains determinations of FEV in 1980 on 654 children ages 3 through 19 who were seen in the Childhood Respiratory Disease (CRD) Study in East Boston, Massachusetts. These data are part of a longitudinal study to follow the change in pulmonary function over time in children[1].\n",
        "\n",
        "<br>\n",
        "\n",
        "[1] Tager, I. B., Weiss, S. T., Rosner, B., & Speizer, F. E. (1979). Effect of parental cigarette smoking on pulmonary function in children. American Journal of Epidemiology, 110, 15–26.  https://pubmed.ncbi.nlm.nih.gov/463860/\n",
        "\n",
        "<br>\n",
        "\n",
        "- Information on the data set variables is given below:\n",
        "\n",
        "<figure>\n",
        "<img\n",
        "src=\"https://raw.githubusercontent.com/gibsonea/Biostats/main/Images/FEVdatatableinfo.png\"\n",
        "\n",
        "</figure>\n",
        "  \n",
        "\n",
        "The first code cell below imports the spreadsheet file from the repository.  The next loads the dplyr library so you can run functions. After running the code cells, answer the questions that follow."
      ],
      "metadata": {
        "id": "_OlS9TRi8aB_"
      }
    },
    {
      "cell_type": "code",
      "source": [
        "library(httr)\n",
        "library(readxl)\n",
        "\n",
        "github_link <- \"https://github.com/gibsonea/Biostats/raw/main/Datasets/FEV.xls\" # link to worksheet file\n",
        "\n",
        "# download the file using GET from httr\n",
        "GET(github_link, write_disk(tf <- tempfile(fileext = \".xls\")))\n",
        "\n",
        "# read the downloaded Excel file\n",
        "FEV <- read_excel(tf)\n",
        "\n"
      ],
      "metadata": {
        "id": "NUOtJ4-sVl2w",
        "colab": {
          "base_uri": "https://localhost:8080/",
          "height": 127
        },
        "outputId": "9d97e96b-824a-48b0-8d5b-c07c70eeb9ea"
      },
      "execution_count": 1,
      "outputs": [
        {
          "output_type": "display_data",
          "data": {
            "text/plain": [
              "Response [https://raw.githubusercontent.com/gibsonea/Biostats/main/Datasets/FEV.xls]\n",
              "  Date: 2025-02-10 15:50\n",
              "  Status: 200\n",
              "  Content-Type: application/octet-stream\n",
              "  Size: 68.6 kB\n",
              "<ON DISK>  /tmp/Rtmp60lXQm/fileb07b988212.xlsNULL"
            ]
          },
          "metadata": {}
        }
      ]
    },
    {
      "cell_type": "code",
      "source": [
        "library(dplyr)"
      ],
      "metadata": {
        "id": "SrO-zNEYo_i5",
        "colab": {
          "base_uri": "https://localhost:8080/"
        },
        "outputId": "05fcc783-30ee-4c9f-a48b-63e7eb431862"
      },
      "execution_count": 2,
      "outputs": [
        {
          "output_type": "stream",
          "name": "stderr",
          "text": [
            "\n",
            "Attaching package: ‘dplyr’\n",
            "\n",
            "\n",
            "The following objects are masked from ‘package:stats’:\n",
            "\n",
            "    filter, lag\n",
            "\n",
            "\n",
            "The following objects are masked from ‘package:base’:\n",
            "\n",
            "    intersect, setdiff, setequal, union\n",
            "\n",
            "\n"
          ]
        }
      ]
    },
    {
      "cell_type": "markdown",
      "source": [
        "## <a name=\"HW1Q3a\">Question 3a</a>\n",
        "\n",
        "---\n",
        "\n",
        "How many observations are in the `FEV` dataset? Be sure to provide supporting explanation or R code to show how you determined your answer.\n",
        "\n",
        "<br>\n",
        "\n",
        "### Solution to Question 3a\n",
        "\n",
        "---\n",
        "\n",
        "<br>  \n",
        "\n",
        "From running the str() function, we find the size of the dataset is 654 x 6 so there are 654 observations and 6 variables.\n",
        "\n",
        "<br>  \n"
      ],
      "metadata": {
        "id": "CC0Ohv6s9Mp5"
      }
    },
    {
      "cell_type": "code",
      "source": [
        "# Here is an R code cell if needed\n",
        "# to help answer Question 3a\n",
        "str(FEV)"
      ],
      "metadata": {
        "id": "fZ9Ffk809qHo",
        "colab": {
          "base_uri": "https://localhost:8080/"
        },
        "outputId": "53e00c32-6b08-4e76-b1df-2fdc395323f3"
      },
      "execution_count": 3,
      "outputs": [
        {
          "output_type": "stream",
          "name": "stdout",
          "text": [
            "tibble [654 × 6] (S3: tbl_df/tbl/data.frame)\n",
            " $ Id   : num [1:654] 301 451 501 642 901 ...\n",
            " $ Age  : num [1:654] 9 8 7 9 9 8 6 6 8 9 ...\n",
            " $ FEV  : num [1:654] 1.71 1.72 1.72 1.56 1.9 ...\n",
            " $ Hgt  : num [1:654] 57 67.5 54.5 53 57 61 58 56 58.5 60 ...\n",
            " $ Sex  : num [1:654] 0 0 0 1 1 0 0 0 0 0 ...\n",
            " $ Smoke: num [1:654] 0 0 0 0 0 0 0 0 0 0 ...\n"
          ]
        }
      ]
    },
    {
      "cell_type": "markdown",
      "source": [
        "## <a name=\"HW1Q3b\">Question 3b</a>\n",
        "\n",
        "---\n",
        "\n",
        "List all variables in the data frame, and indicate how each is initially stored. For example, is the variable initially stored as a double, integer, factor, or character? A summary of the first variable `Id` is provided to help illustrate how to express your answers for the other variables.\n",
        "\n",
        "<br>\n",
        "\n",
        "Be sure to provide supporting explanation or R code to show how you determined your answer.\n",
        "\n",
        "<br>\n",
        "\n",
        "### Solution to Question 3b\n",
        "\n",
        "---\n",
        "\n",
        "<br>\n",
        "\n",
        "- The variable `Id` gives the ID number of the partipant. It is being stored as a double (or decimal) variable.\n",
        "- The variable 'Age' gives the age of the participant and is stored as a double.\n",
        "- The variable 'FEV' gives the forced expiratory volume and is stored as a double.\n",
        "- The variable 'Hgt' is the height of the participant in inches and is stored as a double.\n",
        "- The variable 'Sex' is the sex of the participant and is being stored as a double but should be switched to a catagorical variable.\n",
        "- The variable 'Smoke' gives the smoking status of the participant and is being stored as a double but should be switched to a catagorical.\n",
        "\n",
        "<br>  \n",
        "\n"
      ],
      "metadata": {
        "id": "k6GeV9I89voE"
      }
    },
    {
      "cell_type": "code",
      "source": [
        "# Here is an R code cell if needed\n",
        "# to provide supporting work for 3b\n"
      ],
      "metadata": {
        "id": "zcDMl5nq-vH3"
      },
      "execution_count": 4,
      "outputs": []
    },
    {
      "cell_type": "markdown",
      "source": [
        "## <a name=\"HW1Q3c\">Question 3c</a>\n",
        "\n",
        "---\n",
        "\n",
        "There are several variables in the data frame `FEV` that should be stored as categorical variables; however, in [Question 3b](#HW1Q3b) you should have found that none of the variables are initially being stored as categorical.\n",
        "\n",
        "<br>\n",
        "\n",
        "Use the code cell below to convert each variable in `FEV` that should be stored as a categorical variable to a categorical variable.\n",
        "\n",
        "<br>\n",
        "\n",
        "### Solution to Question 3c\n",
        "\n",
        "---\n",
        "\n",
        "Use the code cell below. No supporting explanation needed.\n",
        "\n",
        "<br>"
      ],
      "metadata": {
        "id": "jpjw5yjk-0Wu"
      }
    },
    {
      "cell_type": "code",
      "source": [
        "# Use code cell to convert\n",
        "# to categorical variables\n",
        "FEV$Sex[FEV$Sex == 0] <- \"female\"  # Replace 0 with \"female\"\n",
        "FEV$Sex[FEV$Sex == 1] <- \"male\"  # Replace 1 with \"male\"\n",
        "FEV$Sex <- factor(FEV$Sex)\n",
        "\n",
        "FEV$Smoke <- factor(FEV$Smoke)\n",
        "\n",
        "str(FEV)"
      ],
      "metadata": {
        "id": "hugwT0Rz_q4R",
        "colab": {
          "base_uri": "https://localhost:8080/"
        },
        "outputId": "19e3e01a-30d9-4be4-f7d8-77f670c57452"
      },
      "execution_count": 5,
      "outputs": [
        {
          "output_type": "stream",
          "name": "stdout",
          "text": [
            "tibble [654 × 6] (S3: tbl_df/tbl/data.frame)\n",
            " $ Id   : num [1:654] 301 451 501 642 901 ...\n",
            " $ Age  : num [1:654] 9 8 7 9 9 8 6 6 8 9 ...\n",
            " $ FEV  : num [1:654] 1.71 1.72 1.72 1.56 1.9 ...\n",
            " $ Hgt  : num [1:654] 57 67.5 54.5 53 57 61 58 56 58.5 60 ...\n",
            " $ Sex  : Factor w/ 2 levels \"female\",\"male\": 1 1 1 2 2 1 1 1 1 1 ...\n",
            " $ Smoke: Factor w/ 2 levels \"0\",\"1\": 1 1 1 1 1 1 1 1 1 1 ...\n"
          ]
        }
      ]
    },
    {
      "cell_type": "markdown",
      "source": [
        "## <a name=\"HW1Q3d\">Question 3d</a>\n",
        "\n",
        "---\n",
        "\n",
        "Pick any categorical variable in `FEV` and create a bar chart to graphically summarize the variable.\n",
        "\n",
        "<br>\n",
        "\n",
        "### Solution to Question 3d\n",
        "\n",
        "---\n",
        "\n",
        "Use the code cell below. No supporting explanation needed.\n",
        "\n",
        "<br>\n"
      ],
      "metadata": {
        "id": "U6yS4HUrABf8"
      }
    },
    {
      "cell_type": "code",
      "source": [
        "# Create bar chart\n",
        "# Feel free to experiment with plotting options\n",
        "\n",
        "plot(FEV$Smoke,names = c(\"Smoker\", \"Non-Smoker\"),ylab = \"Frequency\")  # label each column"
      ],
      "metadata": {
        "id": "2OCrcFeTbz6l",
        "colab": {
          "base_uri": "https://localhost:8080/",
          "height": 437
        },
        "outputId": "134302c5-fe20-4ba8-adb1-6ed6fffedff8"
      },
      "execution_count": 6,
      "outputs": [
        {
          "output_type": "display_data",
          "data": {
            "text/plain": [
              "plot without title"
            ],
            "image/png": "[encoded data removed]"
          },
          "metadata": {
            "image/png": {
              "width": 420,
              "height": 420
            }
          }
        }
      ]
    },
    {
      "cell_type": "markdown",
      "source": [
        "## <a name=\"HW1Q3e\">Question 3e</a>\n",
        "\n",
        "---\n",
        "\n",
        "Create a <font color=\"dodgerblue\">**side-by-side boxplot**</font> to display how FEV depends on smoking status.\n",
        "\n",
        "- Include labels in your plot to help make it more clear.\n",
        "\n",
        "<br>\n",
        "\n",
        "<font color=\"mediumseagreen\">*Hint: You will first need to create two subsets of the data, one for non-smoking (Smoke = 0) and one for smoking (Smoke = 1).*</font>\n",
        "\n",
        "<br>\n",
        "\n",
        "### Solution to Question 3e\n",
        "\n",
        "---\n",
        "\n",
        "Use the code cells below. No supporting explanation needed.\n",
        "\n",
        "<br>"
      ],
      "metadata": {
        "id": "b2VecJsCA5hW"
      }
    },
    {
      "cell_type": "code",
      "source": [
        "# use this code cell to create the two data subset files\n",
        "\n",
        "smoke <- subset(FEV, Smoke == 1)\n",
        "nonsmoke <- subset(FEV, Smoke == 0)"
      ],
      "metadata": {
        "id": "KQ3RRz_IBnzz"
      },
      "execution_count": 7,
      "outputs": []
    },
    {
      "cell_type": "code",
      "source": [
        "# use this code cell to create a side by side boxplot\n",
        "# include appropriate labels\n",
        "\n",
        "boxplot(smoke$FEV, nonsmoke$FEV, # data to plot\n",
        "        main = \"Comparing FEV of smokers vs nonsmokers\",  # main title\n",
        "        ylab = \"FEV\",  # y-axis label\n",
        "        names = c(\"Smoker\", \"Non-Smoker\"),  # label each boxplot\n",
        "        cex.lab=1.5, cex.axis=1.5, cex.main=1.5,  # increase font size\n",
        "        col = c(\"seagreen\", \"steelblue\"),  # fill color for box\n",
        "\n",
        "        horizontal = FALSE)  # align horizontally\n"
      ],
      "metadata": {
        "id": "bBNeWB_IB9D2",
        "colab": {
          "base_uri": "https://localhost:8080/",
          "height": 437
        },
        "outputId": "e61ccbf2-a7b2-44ad-d62d-a3a4e84b8735"
      },
      "execution_count": 8,
      "outputs": [
        {
          "output_type": "display_data",
          "data": {
            "text/plain": [
              "Plot with title “Comparing FEV of smokers vs nonsmokers”"
            ],
            "image/png": "[encoded data removed]"
          },
          "metadata": {
            "image/png": {
              "width": 420,
              "height": 420
            }
          }
        }
      ]
    },
    {
      "cell_type": "markdown",
      "source": [
        "## <a name=\"HW1Q3f\">Question 3f</a>\n",
        "\n",
        "---\n",
        "\n",
        "Write a couple sentences interpreting the plot you created in [Question 3e](#HW1Q3e).\n",
        "\n",
        "<br>\n",
        "\n",
        "For example, based on the graph, does smoking status seem to have an effect on Forced Expiratory Volume?  Is this result expected?\n",
        "\n",
        "<br>\n",
        "\n",
        "### Solution to Question 3f\n",
        "\n",
        "---\n",
        "\n",
        "<br>  \n",
        "\n",
        "The plot shows that the smoking participants have a greater FEV than nonsmokers.  This is not expected because a higher FEV indicates better pulmonary function and smoking would be expected to decrease function.\n",
        "\n",
        "<br>  "
      ],
      "metadata": {
        "id": "SDKEiCiPDRVH"
      }
    },
    {
      "cell_type": "markdown",
      "source": [
        "## <a name=\"HW1Q3g\">Question 3g</a>\n",
        "\n",
        "---\n",
        "Create two plots: (1) a <font color=\"dodgerblue\">**scatterplot - plot(x,y)**</font> to display how FEV depends on age.\n",
        "\n",
        "\n",
        "<br>\n",
        "\n",
        "\n",
        "<br>\n",
        "\n",
        "\n",
        "### Solution to Question 3g\n",
        "\n",
        "---\n",
        "\n",
        "Use the code cells below. No supporting explanation needed.\n",
        "\n",
        "<br>\n",
        "<br>"
      ],
      "metadata": {
        "id": "nNtmVeb7EbcX"
      }
    },
    {
      "cell_type": "code",
      "source": [
        "# use this code cell to create a side by side boxplot\n",
        "# include appropriate labels\n",
        "plot(FEV$Age,FEV$FEV,\n",
        "ylab = \"FEV\", xlab = \"Age\") #scatter plot showing how FEV depends on age\n"
      ],
      "metadata": {
        "id": "Ww3eh5h3uCE3",
        "colab": {
          "base_uri": "https://localhost:8080/",
          "height": 437
        },
        "outputId": "7107d79e-2e69-41bb-887c-3227ee6d0332"
      },
      "execution_count": 9,
      "outputs": [
        {
          "output_type": "display_data",
          "data": {
            "text/plain": [
              "plot without title"
            ],
            "image/png": "[encoded data removed]"
          },
          "metadata": {
            "image/png": {
              "width": 420,
              "height": 420
            }
          }
        }
      ]
    },
    {
      "cell_type": "markdown",
      "source": [
        "## <a name=\"HW1Q3h\">Question 3h</a>\n",
        "\n",
        "---\n",
        "\n",
        "(i) Write a couple sentences interpreting the plot you created in [Question 3g](#HW1Q3g).\n",
        "\n",
        "<br>\n",
        "\n",
        "Next, make a side-by-side boxplot to display how Age depends on smoking status.\n",
        "\n",
        "<br>\n",
        "\n",
        "(ii) Does this explain the results from the plot of FEV versus smoking status that you created in Question 3e, why?\n",
        "\n",
        "\n",
        "### Solution to Question 3h\n",
        "\n",
        "---\n",
        "\n",
        "\n",
        "<br>\n",
        "\n",
        "(i) FEV index increases with age in a linear manner.\n",
        "\n",
        "<br>\n",
        "\n",
        "(ii) From the boxplot, the age of the smoking group is higher than the non-smoking group, median of ~13 versus ~9 years. old. Because FEV is highly dependent on age, this could explain the results in Question 3e.  One would need to compare smokers versus nonsmokers of the same ages.\n",
        "\n",
        "<br>"
      ],
      "metadata": {
        "id": "6euOYMK2FnU9"
      }
    },
    {
      "cell_type": "code",
      "source": [
        "# use this code cell to create a side by side boxplot\n",
        "# include appropriate labels\n",
        "\n",
        "boxplot(smoke$Age, nonsmoke$Age, # data to plot\n",
        "        main = \"Comparing Ages of smokers vs nonsmokers\",  # main title\n",
        "        ylab = \"FEV\",  # y-axis label\n",
        "        names = c(\"Smoker\", \"Non-Smoker\"),  # label each boxplot\n",
        "        cex.lab=1.5, cex.axis=1.5, cex.main=1.5,  # increase font size\n",
        "        col = c(\"seagreen\", \"steelblue\"),  # fill color for box\n",
        "\n",
        "        horizontal = FALSE)  # align horizontally"
      ],
      "metadata": {
        "colab": {
          "base_uri": "https://localhost:8080/",
          "height": 437
        },
        "id": "fSAaBH-0o-c3",
        "outputId": "7466e978-ffae-45c1-d648-aa2fe98f9ed5"
      },
      "execution_count": 10,
      "outputs": [
        {
          "output_type": "display_data",
          "data": {
            "text/plain": [
              "Plot with title “Comparing Ages of smokers vs nonsmokers”"
            ],
            "image/png": "[encoded data removed]"
          },
          "metadata": {
            "image/png": {
              "width": 420,
              "height": 420
            }
          }
        }
      ]
    },
    {
      "cell_type": "markdown",
      "source": [
        "# <a name=\"HW1Q3\">Question 4</a>\n",
        "\n",
        "---\n",
        "For this problem you will use the data set Melanoma in the MASS package.\n",
        "\n",
        "The first code cell below loads the MASS package that will allow you to access the Melanoma data frame. After running the code cell below, answer the questions that follow."
      ],
      "metadata": {
        "id": "MQPQZXgkslfQ"
      }
    },
    {
      "cell_type": "code",
      "source": [
        "# load MASS library to access Melanoma\n",
        "library(MASS)"
      ],
      "metadata": {
        "id": "d39SntkwxTDe",
        "colab": {
          "base_uri": "https://localhost:8080/"
        },
        "outputId": "f8890b53-9f68-4f5c-ae5e-f83bb717f6d9"
      },
      "execution_count": 11,
      "outputs": [
        {
          "output_type": "stream",
          "name": "stderr",
          "text": [
            "\n",
            "Attaching package: ‘MASS’\n",
            "\n",
            "\n",
            "The following object is masked from ‘package:dplyr’:\n",
            "\n",
            "    select\n",
            "\n",
            "\n"
          ]
        }
      ]
    },
    {
      "cell_type": "markdown",
      "source": [
        "## <a name=\"HW1Q4a\">Question 4a</a>\n",
        "\n",
        "---\n",
        "\n",
        "How many observations are in the `Melanoma` data frame? Be sure to provide supporting explanation or R code to show how you determined your answer.\n",
        "\n",
        "<br>\n",
        "\n",
        "### Solution to Question 4a\n",
        "\n",
        "---\n",
        "\n",
        "<br>\n",
        "\n",
        "There are **205** observations.\n",
        "\n",
        "<br>  "
      ],
      "metadata": {
        "id": "qdmpR2bvxavf"
      }
    },
    {
      "cell_type": "code",
      "source": [
        "# Here is an R code cell if needed\n",
        "# to help answer Question 4a\n",
        "str(Melanoma)"
      ],
      "metadata": {
        "id": "9WxtcTdWxxQ0",
        "colab": {
          "base_uri": "https://localhost:8080/"
        },
        "outputId": "cd8d5fd6-bde0-4485-e252-a0c68fdba69b"
      },
      "execution_count": 24,
      "outputs": [
        {
          "output_type": "stream",
          "name": "stdout",
          "text": [
            "'data.frame':\t205 obs. of  7 variables:\n",
            " $ time     : int  10 30 35 99 185 204 210 232 232 279 ...\n",
            " $ status   : int  3 3 2 3 1 1 1 3 1 1 ...\n",
            " $ sex      : int  1 1 1 0 1 1 1 0 1 0 ...\n",
            " $ age      : int  76 56 41 71 52 28 77 60 49 68 ...\n",
            " $ year     : int  1972 1968 1977 1968 1965 1971 1972 1974 1968 1971 ...\n",
            " $ thickness: num  6.76 0.65 1.34 2.9 12.08 ...\n",
            " $ ulcer    : int  1 0 0 0 1 1 1 1 1 1 ...\n"
          ]
        }
      ]
    },
    {
      "cell_type": "markdown",
      "source": [
        "## <a name=\"HW1Q4b\">Question 4b</a>\n",
        "\n",
        "---\n",
        "\n",
        "List all variables in the data frame, and indicate how each is initially stored. For example, is the variable initially stored as a double, integer, factor, or character?\n",
        "<br>\n",
        "\n",
        "Be sure to provide supporting explanation or R code to show how you determined your answer.\n",
        "\n",
        "<br>\n",
        "\n",
        "### Solution to Question 4b\n",
        "\n",
        "---\n",
        "\n",
        "\n",
        "<br>\n",
        "\n",
        "In the code cell below, we could open the help documentation for the data set.\n",
        "\n",
        "- The variable `time` gives the survival time in days. It is being stored as an **integer**.\n",
        "- The  variable `status` indicates whether the person was alive at the end of the study or died during the study. It is being stored as an **integer**: `1` died from melanoma, `2` alive, `3` dead from other causes.\n",
        "- `sex` is being stored as an **integer**: `1` is male and `0` is female.\n",
        "- The  variable `age` is age in years. It is being stored as an **integer**.\n",
        "- The  variable `year` is the year of the operation. It is being stored as an **integer**.\n",
        "- The  variable `thickness` is the tumor thickness in mm. It is being stored as a **decimal**.\n",
        "- The  variable `ulcer` indicates whether the removed skin tumor was ulcerated or not. It is being stored as an **integer**: `1` means the tumor was ulcerated and `0` means the tumor was not ulcerated.\n",
        "\n",
        "<br>  "
      ],
      "metadata": {
        "id": "ucXVGqzVx3La"
      }
    },
    {
      "cell_type": "code",
      "source": [
        "# Here is an R code cell if needed\n",
        "# to provide supporting work for 4b\n",
        "?Melanoma"
      ],
      "metadata": {
        "id": "GMbh77bMyF5R"
      },
      "execution_count": 25,
      "outputs": []
    },
    {
      "cell_type": "markdown",
      "source": [
        "## <a name=\"HW1Q4c\">Question 4c</a>\n",
        "\n",
        "---\n",
        "\n",
        "There are several variables in the data frame `Melanoma` that should be stored as categorical variables; however, in [Question 4b](#HW1Q4b) you should have found that none of the variables are initially being stored as categorical.\n",
        "\n",
        "<br>\n",
        "\n",
        "Use the code cell below to convert each variable in `Melanoma` that should be stored as a categorical variable to a categorical variable.\n",
        "\n",
        "<br>\n",
        "\n",
        "### Solution to Question 4c\n",
        "\n",
        "---\n",
        "\n",
        "Use the code cell below. No supporting explanation needed.\n",
        "<br>\n",
        "\n",
        "\n",
        "\n",
        "<br>  \n",
        "\n",
        "<br>"
      ],
      "metadata": {
        "id": "qsE66HryyhBR"
      }
    },
    {
      "cell_type": "code",
      "source": [
        "# Use code cell to convert\n",
        "# to categorical variables\n",
        "Melanoma$sex <- factor(Melanoma$sex)\n",
        "Melanoma$status <- factor(Melanoma$status)\n",
        "Melanoma$ulcer <- factor(Melanoma$ulcer)"
      ],
      "metadata": {
        "id": "bCRcwDBDytKJ"
      },
      "execution_count": 26,
      "outputs": []
    },
    {
      "cell_type": "markdown",
      "source": [
        "## <a name=\"HW1Q4d\">Question 4d</a>\n",
        "\n",
        "---\n",
        "\n",
        "Pick any categorical variable in `Melanoma` and create a bar chart to graphically summarize the variable.\n",
        "\n",
        "<br>\n",
        "\n",
        "### Solution to Question 4d\n",
        "\n",
        "---\n",
        "\n",
        "Use the code cell below. No supporting explanation needed.\n",
        "\n",
        "<br>"
      ],
      "metadata": {
        "id": "WhkyacbwyvKM"
      }
    },
    {
      "cell_type": "code",
      "source": [
        "# Create bar chart\n",
        "# Feel free to experiment with plotting options\n",
        "plot(Melanoma$sex,names = c(\"Female\", \"Male\"))  # label each boxplot)\n",
        "plot(Melanoma$status,names = c(\"Died (Melanoma)\", \"Alive\", \"Died (Other)\"))\n",
        "plot(Melanoma$ulcer,names = c(\"Not Ulcerated\", \"Ulcerated\"))\n"
      ],
      "metadata": {
        "id": "EjNIrkK4cVBj",
        "colab": {
          "base_uri": "https://localhost:8080/",
          "height": 1000
        },
        "outputId": "44827e2c-9ae8-4c33-8bf1-cd7a11c5cc73"
      },
      "execution_count": 34,
      "outputs": [
        {
          "output_type": "display_data",
          "data": {
            "text/plain": [
              "plot without title"
            ],
            "image/png": "[encoded data removed]"
          },
          "metadata": {
            "image/png": {
              "width": 420,
              "height": 420
            }
          }
        },
        {
          "output_type": "display_data",
          "data": {
            "text/plain": [
              "plot without title"
            ],
            "image/png": "[encoded data removed]"
          },
          "metadata": {
            "image/png": {
              "width": 420,
              "height": 420
            }
          }
        },
        {
          "output_type": "display_data",
          "data": {
            "text/plain": [
              "plot without title"
            ],
            "image/png": "[encoded data removed]"
          },
          "metadata": {
            "image/png": {
              "width": 420,
              "height": 420
            }
          }
        }
      ]
    },
    {
      "cell_type": "markdown",
      "source": [
        "## <a name=\"HW1Q4e\">Question 4e</a>\n",
        "\n",
        "---\n",
        "\n",
        "Create a <font color=\"dodgerblue\">**grouped frequency bar chart**</font> to display the relation between the variables `status` and `ulcer`.\n",
        "\n",
        "- Include a legend in your plot to help make it more clear.\n",
        "\n",
        "<br>\n",
        "\n",
        "<font color=\"mediumseagreen\">*Hint: You will first need to creat a two-way frequency table for two categorical variables.*</font>\n",
        "\n",
        "<br>\n",
        "\n",
        "### Solution to Question 4e\n",
        "\n",
        "---\n",
        "\n",
        "Use the code cells below. No supporting explanation needed.\n",
        "\n",
        "<br>"
      ],
      "metadata": {
        "id": "J3MUEaeecuQk"
      }
    },
    {
      "cell_type": "code",
      "source": [
        "# use this code cell to create a two-way frequency table\n",
        "\n",
        "freq.tbl = table(Melanoma$status,Melanoma$ulcer)\n",
        "freq.tbl\n"
      ],
      "metadata": {
        "id": "NcoQrB5Uc9Rb",
        "colab": {
          "base_uri": "https://localhost:8080/",
          "height": 109
        },
        "outputId": "ca56339e-3b53-47e6-fb27-8f855bfb4f52"
      },
      "execution_count": 36,
      "outputs": [
        {
          "output_type": "display_data",
          "data": {
            "text/plain": [
              "   \n",
              "     0  1\n",
              "  1 16 41\n",
              "  2 92 42\n",
              "  3  7  7"
            ]
          },
          "metadata": {}
        }
      ]
    },
    {
      "cell_type": "code",
      "source": [
        "# use this code cell to create a grouped frequency bar chart\n",
        "# include a legend with your plot\n",
        "barplot(freq.tbl,  # use counts from contingency table\n",
        "        beside = TRUE, main = \"Surival by Tumor Status\",  # main title\n",
        "        xlab = \"Ulcer Status of Skin Tumor (0 absent, 1 present)\",  # horizontal axis label\n",
        "        col = c(\"tomato\", \"mediumseagreen\", \"dodgerblue\"),  # fill color of bars\n",
        "        cex.lab=1.5, cex.axis=1.5, cex.main=1.5,  # increase font size\n",
        "        ylab = \"Frequency\")  # vertical axis label\n",
        "\n",
        "# add a legend to plot\n",
        "legend(x=\"topright\",  # place legend in top left\n",
        "       legend = c(\"died from melanoma\", \"survived\",\"died from other causes\"),  # get labels from row name in contingency table\n",
        "       fill = c(\"tomato\", \"mediumseagreen\", \"dodgerblue\"))  # use same fill colors)  # groups side-by-side"
      ],
      "metadata": {
        "id": "P6ZDI3wIybIc",
        "colab": {
          "base_uri": "https://localhost:8080/",
          "height": 437
        },
        "outputId": "d6c96d7d-63df-4ab4-a52e-d3d03813f1b9"
      },
      "execution_count": 38,
      "outputs": [
        {
          "output_type": "display_data",
          "data": {
            "text/plain": [
              "Plot with title “Surival by Tumor Status”"
            ],
            "image/png": "[encoded data removed]"
          },
          "metadata": {
            "image/png": {
              "width": 420,
              "height": 420
            }
          }
        }
      ]
    },
    {
      "cell_type": "markdown",
      "source": [
        "## <a name=\"HW1Q4f\">Question 4f</a>\n",
        "\n",
        "---\n",
        "\n",
        "Write a couple sentences interpreting the plot you created in [Question 4e](#HW1Q4e).\n",
        "\n",
        "<br>\n",
        "\n",
        "For example, based on the graph, does having an ulcerated tumor seem to be associated with fatality due to melanoma? Explain how your plot helps address this question.\n",
        "\n",
        "<br>\n",
        "\n",
        "### Solution to Question 4f\n",
        "\n",
        "---\n",
        "\n",
        "<br>  \n",
        "Answers will vary. One possible answer would be:\n",
        "\n",
        "<br>\n",
        "\n",
        "It does seem there is an association since in the group with tumors that were not ulcerated many more people survived than died from melanoma. By comparison, the group that did have ulcerated tumors had approximately the same number of people that survived and died. The bar corresponding to those that died from other causes is irrelevant.\n"
      ],
      "metadata": {
        "id": "dgbKgaSHdn8o"
      }
    },
    {
      "cell_type": "markdown",
      "source": [
        "## <a name=\"HW1Q4g\">Question 4g</a>\n",
        "\n",
        "---\n",
        "\n",
        "Run the code cell below to create a relative frequency table. Intepret the meaning of the value $0.4439$ in the first row and second column of the resulting table in the output.\n",
        "\n",
        "<br>\n",
        "\n",
        "\n",
        "### Solution to Question 4g\n",
        "\n",
        "---\n",
        "\n",
        "Type your interpretation here after running the code cell below.\n",
        "\n",
        "\n",
        "<br>\n",
        "\n",
        "\n",
        "These proportions are relative to the grand total of all people in the study.\n",
        "\n",
        "This value tells us that 44.39% of the people in the study were both female and alive at the end of the study.\n"
      ],
      "metadata": {
        "id": "pV8usm7Ad27T"
      }
    },
    {
      "cell_type": "code",
      "source": [
        "my.table <- table(Melanoma$sex, Melanoma$status)\n",
        "rel.table1 <- prop.table(my.table)\n",
        "round(rel.table1, 4)"
      ],
      "metadata": {
        "id": "dn6AJ8kaEaf9",
        "colab": {
          "base_uri": "https://localhost:8080/",
          "height": 90
        },
        "outputId": "63af23a1-eeb7-430b-a372-f8e5b8725590"
      },
      "execution_count": 18,
      "outputs": [
        {
          "output_type": "display_data",
          "data": {
            "text/plain": [
              "   \n",
              "         1      2      3\n",
              "  0 0.1366 0.4439 0.0341\n",
              "  1 0.1415 0.2098 0.0341"
            ]
          },
          "metadata": {}
        }
      ]
    },
    {
      "cell_type": "markdown",
      "source": [
        "## <a name=\"HW1Q4h\">Question 4h</a>\n",
        "\n",
        "---\n",
        "\n",
        "Run the code cell below to create a relative frequency table. Intepret the meaning of the value $0.7222$ in the first row and second column of the resulting table in the output.\n",
        "\n",
        "<br>\n",
        "\n",
        "\n",
        "### Solution to Question 4h\n",
        "\n",
        "---\n",
        "\n",
        "Type your interpretation here after running the code cell below.\n",
        "\n",
        "\n",
        "<br>\n",
        "\n",
        "These proportions are relative to the total in each row.\n",
        "\n",
        "This value tells us that 72.22% of the females were alive when the study ended.\n",
        "\n",
        "Or:\n",
        "\n",
        "Given a person was female, there was a 72.22% chance they were alive when the study ended.\n",
        "\n"
      ],
      "metadata": {
        "id": "-Cunvq3WeNKV"
      }
    },
    {
      "cell_type": "code",
      "source": [
        "my.table <- table(Melanoma$sex, Melanoma$status)\n",
        "rel.table2 <- prop.table(my.table, 1)  # notice added option 1\n",
        "round(rel.table2, 4)"
      ],
      "metadata": {
        "id": "CFnHdXadFnVI",
        "colab": {
          "base_uri": "https://localhost:8080/",
          "height": 90
        },
        "outputId": "13f3dbc4-56f3-4d41-fea3-3baeaff858c4"
      },
      "execution_count": 39,
      "outputs": [
        {
          "output_type": "display_data",
          "data": {
            "text/plain": [
              "   \n",
              "         1      2      3\n",
              "  0 0.2222 0.7222 0.0556\n",
              "  1 0.3671 0.5443 0.0886"
            ]
          },
          "metadata": {}
        }
      ]
    },
    {
      "cell_type": "markdown",
      "source": [
        "## <a name=\"HW1Q4i\">Question 4i</a>\n",
        "\n",
        "---\n",
        "\n",
        "Run the code cell below to create a relative frequency table. Intepret the meaning of the value $0.6791$ in the first row and second column of the resulting table in the output.\n",
        "\n",
        "<br>\n",
        "\n",
        "\n",
        "### Solution to Question 4i\n",
        "\n",
        "---\n",
        "\n",
        "Type your interpretation here after running the code cell below.\n",
        "\n",
        "\n",
        "<br>\n",
        "\n",
        "These proportions are relative to the total in each column.\n",
        "\n",
        "This value tells us that 67.91% of the people that were alive were female.\n",
        "\n",
        "Or:\n",
        "\n",
        "Given a person was alive, there was a 67.91% chance they were female.\n",
        "<br>\n",
        "<br>"
      ],
      "metadata": {
        "id": "r3jFm6YfGW-o"
      }
    },
    {
      "cell_type": "code",
      "source": [
        "my.table <- table(Melanoma$sex, Melanoma$status)\n",
        "rel.table3 <- prop.table(my.table, 2)  # notice added option 2\n",
        "round(rel.table3, 4)"
      ],
      "metadata": {
        "id": "kkRlT9GqGW-0",
        "colab": {
          "base_uri": "https://localhost:8080/",
          "height": 90
        },
        "outputId": "b0442e93-3545-4d68-e0a1-702a4ec45684"
      },
      "execution_count": 40,
      "outputs": [
        {
          "output_type": "display_data",
          "data": {
            "text/plain": [
              "   \n",
              "         1      2      3\n",
              "  0 0.4912 0.6791 0.5000\n",
              "  1 0.5088 0.3209 0.5000"
            ]
          },
          "metadata": {}
        }
      ]
    },
    {
      "cell_type": "markdown",
      "source": [
        "## <a name=\"HW1Q4j\">Question 4j</a>\n",
        "\n",
        "---\n",
        "\n",
        "Create one <font color=\"dodgerblue\">**stacked relative frequency bar chart**</font> to best display the relation between the sex of the patient and whether the patient surived, died from melanoma, or died from other causes.\n",
        "\n",
        "<br>\n",
        "\n",
        "<font color=\"mediumseagreen\">*Hint: First create a `prop.table` paying careful attention to the ordering of the variables in the table.*</font>\n",
        "\n",
        "<br>\n",
        "\n",
        "### Solution to Question 4j\n",
        "\n",
        "---\n",
        "\n",
        "Use the code cells below. No supporting explanation needed.\n",
        "\n",
        "<br>"
      ],
      "metadata": {
        "id": "30VaqdhvGz1o"
      }
    },
    {
      "cell_type": "code",
      "source": [
        "# use this code cell to create a\n",
        "# stacked relative frequency bar chart\n",
        "# include a legend with your plot\n",
        "\n",
        "#we can use the rel.table2 to display this but need to transpose the table\n",
        "rel.table4 = t(rel.table2)\n",
        "rel.table4\n",
        "\n",
        "barplot(rel.table4)\n",
        "\n",
        "barplot(rel.table4,  # use proportions from contingency table\n",
        "        main = \"Surival by Sex\",  # main title\n",
        "        xlab = \"Sex of Patient (0 female, 1 male)\",  # horizontal axis label\n",
        "        col = c(\"tomato\", \"mediumseagreen\", \"dodgerblue\"),  # color of bars\n",
        "        cex.lab=1.5, cex.axis=1.5, cex.main=1.5,  # increase font size\n",
        "        ylab = \"Probability\")  # vertical axis label\n",
        "\n",
        "# add legend to plot\n",
        "legend(x=\"topleft\",  # place legend in top left\n",
        "       legend = c(\"died from melanoma\", \"survived\",\"died from other causes\"),  # get labels\n",
        "       fill = c(\"tomato\", \"mediumseagreen\", \"dodgerblue\"),bg=\"white\")  # use same colors\n"
      ],
      "metadata": {
        "id": "Wpr2SlUMIIHV",
        "colab": {
          "base_uri": "https://localhost:8080/",
          "height": 949
        },
        "outputId": "4599ce2c-a933-4adc-9722-fcb6a78a30f0"
      },
      "execution_count": 44,
      "outputs": [
        {
          "output_type": "display_data",
          "data": {
            "text/plain": [
              "   \n",
              "             0          1\n",
              "  1 0.22222222 0.36708861\n",
              "  2 0.72222222 0.54430380\n",
              "  3 0.05555556 0.08860759"
            ]
          },
          "metadata": {}
        },
        {
          "output_type": "display_data",
          "data": {
            "text/plain": [
              "plot without title"
            ],
            "image/png": "[encoded data removed]"
          },
          "metadata": {
            "image/png": {
              "width": 420,
              "height": 420
            }
          }
        },
        {
          "output_type": "display_data",
          "data": {
            "text/plain": [
              "Plot with title “Surival by Sex”"
            ],
            "image/png": "[encoded data removed]"
          },
          "metadata": {
            "image/png": {
              "width": 420,
              "height": 420
            }
          }
        }
      ]
    },
    {
      "cell_type": "markdown",
      "source": [
        "# <a name=\"save2\">Be Sure You Have Saved Your Work!</a>\n",
        "\n",
        "---\n",
        "\n",
        "This notebook is a shared Colab notebook available for anyone to view. However, since everyone is sharing this notebook, you do not have permission to save changes to this shared Colab notebook. In order to save your work:\n",
        "\n",
        "1. You will need to set up a free Google Drive account. If you already have a Google Drive account, you are ready to go!\n",
        "2. Click the `Copy to Drive` button to the right of the `+ Code` and `+ Text` buttons on top of the notebook.\n",
        "3. Select from the menu `File/Save a Copy in Drive`.\n",
        "  - By default, the notebook will be saved in a folder named **Colab Notebooks** in your Drive.\n",
        "  - Feel free to rename and store the notebook wherever you like.\n"
      ],
      "metadata": {
        "id": "iBmMPoh1CkEf"
      }
    },
    {
      "cell_type": "markdown",
      "source": [
        "# You are Done with Homework 1!!!"
      ],
      "metadata": {
        "id": "ZwUJkRth5n9Q"
      }
    }
  ]
}