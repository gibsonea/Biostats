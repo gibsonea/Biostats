{
  "nbformat": 4,
  "nbformat_minor": 0,
  "metadata": {
    "colab": {
      "provenance": [],
      "include_colab_link": true
    },
    "kernelspec": {
      "name": "ir",
      "display_name": "R"
    },
    "language_info": {
      "name": "R"
    }
  },
  "cells": [
    {
      "cell_type": "markdown",
      "metadata": {
        "id": "view-in-github",
        "colab_type": "text"
      },
      "source": [
        "<a href=\"https://colab.research.google.com/github/gibsonea/Biostats/blob/main/HomeworkSolutions/Solutions_BIOE3060Homework4.ipynb\" target=\"_parent\"><img src=\"https://colab.research.google.com/assets/colab-badge.svg\" alt=\"Open In Colab\"/></a>"
      ]
    },
    {
      "cell_type": "markdown",
      "source": [
        "# Homework 4\n",
        "\n",
        "---"
      ],
      "metadata": {
        "id": "TLH2NCL-V8J_"
      }
    },
    {
      "cell_type": "markdown",
      "source": [
        "## <a name=\"HW1Inst\">Instructions:</a>\n",
        "---\n",
        "\n",
        "1. <font color=\"tomato\">Either click the COPY TO DRIVE button or use the menu File/Save/Save a Copy to save your own version of the notebook in your own folder in Google Drive.</font>\n",
        "\n",
        "  - If you do not have a Google account, you will need to create a Google account in order to create your own individual copy of this notebook.\n",
        "  - By default, the notebook will be saved in a folder named **Colab Notebooks** in your drive.\n",
        "  - Feel free to name and store the notebook wherever you like!\n",
        "\n",
        "2. <font color=\"mediumseagreen\">After you have copied the notebook into your Drive, you can begin editing and saving your work.</font>\n",
        "\n",
        "**Upload your completed assignment into Canvas as a Google Colab (or Jupyter) Notebook with file extension `.ipynb`.**\n",
        "\n",
        "\n",
        "**You must provide supporting work for your all of your answers.**\n",
        "\n",
        "\n",
        "\n",
        "  - <font color=\"dodgerblue\">That work will include using R code cells.</font>\n",
        "    - **Feel free to insert as much R code as you like.**\n",
        "    - You must interpret or explain how the output of a code cell is being utilized to solve the problem.\n",
        "    - **Code with incomplete or missing explanations of why the output is useful may not receive full credit.**\n",
        "  - <font color=\"dodgerblue\">Your work will also involve writing explanations and justifications in text cells.</font>\n",
        "    - **Be sure to type/write out the steps of your work/explanation so I can see how you arrived at your answer.**\n",
        "  - For any problems that involve typing mathematical expressions:</font>\n",
        "    - **You can type supporting math equations and notation with LaTeX in text cells.**\n",
        "    - The LaTeX used in the Colab notebooks we cover in class provides great examples.\n",
        "    - Here's a helpful [LaTeX math symbol gallery](https://artofproblemsolving.com/wiki/index.php/LaTeX:Symbols).\n",
        "    - **Learning LaTeX is super useful and might even be enjoyable!**\n",
        "  - For any problems that involve typing mathematical expressions, if you prefer to not type answers with LaTeX, you can write your solutions instead.</font>\n",
        "    - I get it, you are busy and doing it by hand might be more efficient? Maybe not? You get to decide!\n",
        "    - If you submit written work, be sure you provide clear and complete solutions.\n",
        "    - **I'm happy to get well written solutions in any form!**\n",
        "\n",
        "\n",
        "## Important Academic Policies:\n",
        "---\n",
        "\n",
        "- **Be your own work.** Though you may collaborate with others, everyone is responsible for writing up the work in their own way using their own methods. Plagiarism of any form is not tolerated.\n",
        "- **Be complete.** You must provide all work and/or explanations needed to find the solution. Answers with insufficient or incomplete supporting work may lose credit.\n",
        "- **Adhere to the Code of Academic Honesty.**\n",
        "- **Be clearly written (and legible if written).** Your solution to a problem must be clear, written in complete sentences. You may lose credit for work that is unclear or hard to follow.\n",
        "\n",
        "## <font color=\"dodgerblue\">Let me know if you need help, and **GOOD LUCK!!!**</font>\n",
        "\n",
        "----"
      ],
      "metadata": {
        "id": "HBtDTIXU_i9z"
      }
    },
    {
      "cell_type": "markdown",
      "source": [
        "# <a name=\"Q1\">Question 1</a>\n",
        "\n",
        "---\n",
        "\n",
        "The plasma cholesterol level (mg/dL) for patients with no prior evidence of heart disease who experience chest pain is normally distributed with mean 200 and standard deviation 35.\n",
        "Consider randomly selecting an individual of this type.\n",
        "\n",
        "\n",
        "<br>"
      ],
      "metadata": {
        "id": "81XXDazgoS01"
      }
    },
    {
      "cell_type": "markdown",
      "source": [
        "## <a name=\"Q1a\">Question 1a</a>\n",
        "\n",
        "---\n",
        "\n",
        "What is the $z$-score of a plasma cholesterol level that is 120 mg/dL?\n",
        "\n",
        "### Solution to Question 1a\n",
        "\n",
        "---\n",
        "\n",
        "Be sure to provide an explanation and/or supporting work to justify how you found your answer, and then **interpret the practical meaning of your answer.** You may use the R code cell below for supporting work.\n",
        "\n",
        "\n",
        "<br>  \n",
        "We can calculate the z-score using the following equation:\n",
        "\n",
        "$z = \\frac{x-\\mu}{\\sigma} = \\frac{120-200}{35} = -2.29$\n",
        "\n",
        "<br>\n",
        "\n",
        "**Interpret the practical meaning of the value:**\n",
        "\n",
        "<br>  \n",
        "The value is ~2.3 standard deviations below the mean.\n",
        "\n",
        "<br>  \n",
        "\n",
        "\n"
      ],
      "metadata": {
        "id": "sL663yHr2M4L"
      }
    },
    {
      "cell_type": "code",
      "source": [
        "# optional code cell for supporting work to question 1a\n",
        "\n",
        "z = (120-200)/35\n",
        "z\n"
      ],
      "metadata": {
        "id": "7vXTkhFV2hJE",
        "colab": {
          "base_uri": "https://localhost:8080/",
          "height": 34
        },
        "outputId": "2a1e9229-12e5-4f50-a564-98ee8bce0d05"
      },
      "execution_count": null,
      "outputs": [
        {
          "output_type": "display_data",
          "data": {
            "text/html": [
              "-2.28571428571429"
            ],
            "text/markdown": "-2.28571428571429",
            "text/latex": "-2.28571428571429",
            "text/plain": [
              "[1] -2.285714"
            ]
          },
          "metadata": {}
        }
      ]
    },
    {
      "cell_type": "markdown",
      "source": [
        "## <a name=\"Q1b\">Question 1b</a>\n",
        "\n",
        "---\n",
        "\n",
        "If the $z$-score of a person's plasma cholesterol level is $2.3$, then what is their plasma cholesterol level (in mg/dL)?\n",
        "\n",
        "<br>\n",
        "\n",
        "### Solution to Question 1b\n",
        "\n",
        "---\n",
        "\n",
        "Be sure to provide an explanation and/or supporting work to justify how you found your answer. You may use the R code cell below for supporting work.\n",
        "\n",
        "\n",
        "<br>  \n",
        "We can calculate the value using the equation:\n",
        "\n",
        "$x = \\sigma \\cdot z + \\mu = 35 \\cdot 2.3 + 200 = 280.5$\n",
        "\n",
        "<br>\n",
        "\n"
      ],
      "metadata": {
        "id": "xHld_qlH2KIq"
      }
    },
    {
      "cell_type": "code",
      "source": [
        "# optional code cell for supporting work to question 1b\n",
        "\n",
        "x = 35*2.3 + 200\n",
        "x"
      ],
      "metadata": {
        "id": "nIFQTWMC2bQZ",
        "colab": {
          "base_uri": "https://localhost:8080/",
          "height": 34
        },
        "outputId": "8d5ffc33-401c-4bb4-e21a-6bcf2a6e8b3c"
      },
      "execution_count": null,
      "outputs": [
        {
          "output_type": "display_data",
          "data": {
            "text/html": [
              "280.5"
            ],
            "text/markdown": "280.5",
            "text/latex": "280.5",
            "text/plain": [
              "[1] 280.5"
            ]
          },
          "metadata": {}
        }
      ]
    },
    {
      "cell_type": "markdown",
      "source": [
        "## <a name=\"Q1c\">Question 1c</a>\n",
        "\n",
        "---\n",
        "\n",
        "What is the probability that the plasma cholesterol level is at most 120 mg/dL?\n",
        "\n",
        "<br>\n",
        "\n",
        "### Solution to Question 1c\n",
        "\n",
        "---\n",
        "\n",
        "Be sure to provide an explanation and/or supporting work (which may be R code entered in the code cell below) to justify how you found your answer.\n",
        "\n",
        "\n",
        "<br>  \n",
        "\n",
        "We can use the cummulative distribution to calculate the probability:\n",
        "\n",
        "$P(X < 120) = 0.0111$  or 1.11%  \n",
        "\n",
        "<br>  \n",
        "<br>\n",
        "\n"
      ],
      "metadata": {
        "id": "si3Ghm0V2IGq"
      }
    },
    {
      "cell_type": "code",
      "source": [
        "# code cell for supporting work to question 1c\n",
        "\n",
        "pnorm(120,mean = 200, sd = 35)\n",
        "\n",
        "# or using the z-score\n",
        "\n",
        "pnorm(-2.2857)\n"
      ],
      "metadata": {
        "id": "uH6Pi1jhsb92",
        "colab": {
          "base_uri": "https://localhost:8080/",
          "height": 52
        },
        "outputId": "c1155b17-3d89-4387-c25c-c130f3d1398a"
      },
      "execution_count": null,
      "outputs": [
        {
          "output_type": "display_data",
          "data": {
            "text/html": [
              "0.0111354894796164"
            ],
            "text/markdown": "0.0111354894796164",
            "text/latex": "0.0111354894796164",
            "text/plain": [
              "[1] 0.01113549"
            ]
          },
          "metadata": {}
        },
        {
          "output_type": "display_data",
          "data": {
            "text/html": [
              "0.011135907632958"
            ],
            "text/markdown": "0.011135907632958",
            "text/latex": "0.011135907632958",
            "text/plain": [
              "[1] 0.01113591"
            ]
          },
          "metadata": {}
        }
      ]
    },
    {
      "cell_type": "markdown",
      "source": [
        "## <a name=\"Q1d\">Question 1d</a>\n",
        "\n",
        "---\n",
        "\n",
        "What is the probability that the plasma cholesterol level is between 250 and 350 mg/dL?\n",
        "\n",
        "<br>\n",
        "\n",
        "### Solution to Question 1d\n",
        "\n",
        "---\n",
        "\n",
        "Be sure to provide an explanation and/or supporting work (which may be R code entered in the code cell below) to justify how you found your answer.\n",
        "\n",
        "\n",
        "<br>  \n",
        "We can subtract the respective cummulative distributions to get the area under the curve between 250 and 350:\n",
        "\n",
        "$P(X<350) - P(X<250) = 0.07655$ or 7.66%\n",
        "\n",
        "<br>\n",
        "\n",
        "\n"
      ],
      "metadata": {
        "id": "J6CmgKxosau9"
      }
    },
    {
      "cell_type": "code",
      "source": [
        "# code cell for supporting work to question 1d\n",
        "\n",
        "cdf_350 = pnorm(350,mean = 200, sd = 35)\n",
        "cdf_250 = pnorm(250,mean = 200, sd = 35)\n",
        "\n",
        "cdf_350-cdf_250"
      ],
      "metadata": {
        "id": "-0mq3KWFsx_K",
        "colab": {
          "base_uri": "https://localhost:8080/",
          "height": 34
        },
        "outputId": "21927787-4148-4c32-9c1c-0c4af1c4f989"
      },
      "execution_count": null,
      "outputs": [
        {
          "output_type": "display_data",
          "data": {
            "text/html": [
              "0.0765546178612602"
            ],
            "text/markdown": "0.0765546178612602",
            "text/latex": "0.0765546178612602",
            "text/plain": [
              "[1] 0.07655462"
            ]
          },
          "metadata": {}
        }
      ]
    },
    {
      "cell_type": "markdown",
      "source": [
        "## <a name=\"Q1e\">Question 1e</a>\n",
        "\n",
        "---\n",
        "\n",
        "What is the probability that the plasma cholesterol level differs from the mean by at least $1.5$ standard deviations (cholesterol level is either above or below the mean by $1.5$ standard deviations)?\n",
        "\n",
        "\n",
        "<br>\n",
        "\n",
        "### Solution to Question 1e\n",
        "\n",
        "---\n",
        "\n",
        "Be sure to provide an explanation and/or supporting work (which may be R code entered in the code cell below) to justify how you found your answer.\n",
        "\n",
        "\n",
        "<br>  \n",
        "\n",
        "Because the distribution is symmetric we know that\n",
        "\n",
        "$P(X < -1.5) = P(X > 1.5)$\n",
        "\n",
        "so answer is $2 \\cdot P(X < -1.5) = 0.1336$ or 13.4%\n",
        "\n",
        "<br>\n",
        "\n",
        "Another way to solve is:\n",
        "\n",
        "$$P(-1.5 < Z < 1.5) = 0.8664$$\n",
        "\n",
        "Thus, we have\n",
        "\n",
        "$$P( |Z| > 1.5 ) = 1- 0.8664 = 0.1336$$\n",
        "\n",
        "\n"
      ],
      "metadata": {
        "id": "Q46erCBssowy"
      }
    },
    {
      "cell_type": "code",
      "source": [
        "# code cell for supporting work to question 1e\n",
        "\n",
        "2*pnorm(-1.5)"
      ],
      "metadata": {
        "id": "bKHB1vwXsynJ",
        "colab": {
          "base_uri": "https://localhost:8080/",
          "height": 34
        },
        "outputId": "cb374e77-9542-4201-a714-c6555cd1565c"
      },
      "execution_count": null,
      "outputs": [
        {
          "output_type": "display_data",
          "data": {
            "text/html": [
              "0.133614402537716"
            ],
            "text/markdown": "0.133614402537716",
            "text/latex": "0.133614402537716",
            "text/plain": [
              "[1] 0.1336144"
            ]
          },
          "metadata": {}
        }
      ]
    },
    {
      "cell_type": "markdown",
      "source": [
        "# <a name=\"Q2\">Question 2</a>\n",
        "\n",
        "---\n",
        "\n",
        "In studies of anticancer drugs it was found that if mice are injected with cancer cells, the survival time can be modeled with the exponential distribution. Without treatment the expected survival time was 9 hours.\n",
        "\n",
        "<br>\n",
        "\n",
        "\n"
      ],
      "metadata": {
        "id": "dVXwtyQtsmsF"
      }
    },
    {
      "cell_type": "markdown",
      "source": [
        "## <a name=\"Q2a\">Question 2a</a>\n",
        "\n",
        "---\n",
        "\n",
        "What is the probability that a randomly selected mouse in this study will survive at least 7 hours without receiving any cancer treatment?\n",
        "\n",
        "<br>\n",
        "\n",
        "### Solution to Question 2a\n",
        "\n",
        "---\n",
        "\n",
        "Be sure to provide an explanation and/or supporting work (which may involve some calculus or R code entered in the code cell below) to justify how you found your answer.\n",
        "\n",
        "\n",
        "<br>  \n",
        "We need to calculate the following:\n",
        "$P(X<7) = 0.541$ or 54.1%\n",
        "\n",
        "<br>\n",
        "\n",
        "\n"
      ],
      "metadata": {
        "id": "bb-D0yyF38OM"
      }
    },
    {
      "cell_type": "code",
      "source": [
        "# optional code cell for supporting work to question 2a\n",
        "\n",
        "pexp(7,1/9)\n"
      ],
      "metadata": {
        "id": "dKen7b2p3_VE",
        "colab": {
          "base_uri": "https://localhost:8080/",
          "height": 34
        },
        "outputId": "cd31ccff-c0ec-4604-ca49-59df7c8158da"
      },
      "execution_count": null,
      "outputs": [
        {
          "output_type": "display_data",
          "data": {
            "text/html": [
              "0.540574175964073"
            ],
            "text/markdown": "0.540574175964073",
            "text/latex": "0.540574175964073",
            "text/plain": [
              "[1] 0.5405742"
            ]
          },
          "metadata": {}
        }
      ]
    },
    {
      "cell_type": "markdown",
      "source": [
        "## <a name=\"Q2b\">Question 2b</a>\n",
        "\n",
        "---\n",
        "\n",
        "What is the probability that a randomly selected mouse in this study will survive at most 11 hours without receiving any cancer treatment?\n",
        "\n",
        "<br>\n",
        "\n",
        "### Solution to Question 2b\n",
        "\n",
        "---\n",
        "\n",
        "Be sure to provide an explanation and/or supporting work (which may involve some calculus or R code entered in the code cell below) to justify how you found your answer.\n",
        "\n",
        "\n",
        "<br>  \n",
        "We need to calculate the area under the distribution above 11 hours:\n",
        "\n",
        "$P(X>11) = 1 - P(X<11) = 0.295$ or 29.5%\n",
        "\n",
        "<br>\n",
        "\n",
        "\n",
        "\n"
      ],
      "metadata": {
        "id": "5xQXkeN835nv"
      }
    },
    {
      "cell_type": "code",
      "source": [
        "# optional code cell for supporting work to question 2b\n",
        "1 - pexp(11,1/9)"
      ],
      "metadata": {
        "id": "vRXqm9QC4V5r",
        "colab": {
          "base_uri": "https://localhost:8080/",
          "height": 34
        },
        "outputId": "56bb9a3a-d2f9-40b8-aa4d-bdc8ef476afb"
      },
      "execution_count": null,
      "outputs": [
        {
          "output_type": "display_data",
          "data": {
            "text/html": [
              "0.294574828310107"
            ],
            "text/markdown": "0.294574828310107",
            "text/latex": "0.294574828310107",
            "text/plain": [
              "[1] 0.2945748"
            ]
          },
          "metadata": {}
        }
      ]
    },
    {
      "cell_type": "markdown",
      "source": [
        "## <a name=\"Q2c\">Question 2c</a>\n",
        "\n",
        "---\n",
        "\n",
        "What is the probability that a randomly selected mouse will survive between 8 and 12 hours without receiving any cancer treatment?\n",
        "\n",
        "<br>\n",
        "\n",
        "### Solution to Question 2c\n",
        "\n",
        "---\n",
        "\n",
        "Be sure to provide an explanation and/or supporting work (which may involve some calculus or R code entered in the code cell below) to justify how you found your answer.\n",
        "\n",
        "\n",
        "<br>  \n",
        "\n",
        "We need to calculate the area under the distribution from 8 to 12:\n",
        "\n",
        "$P(X<12) - P(X<8) = 0.1475$ or 14.8%\n",
        "\n",
        "<br>\n",
        "\n",
        "\n",
        "\n"
      ],
      "metadata": {
        "id": "nXTQ18XR34Ul"
      }
    },
    {
      "cell_type": "code",
      "source": [
        "# optional code cell for supporting work to question 2c\n",
        "\n",
        "pexp(12,1/9) - pexp(8,1/9)"
      ],
      "metadata": {
        "id": "2nMvZCcy4BBj",
        "colab": {
          "base_uri": "https://localhost:8080/",
          "height": 34
        },
        "outputId": "850e8403-df74-4f25-d73e-ab42dc824e68"
      },
      "execution_count": null,
      "outputs": [
        {
          "output_type": "display_data",
          "data": {
            "text/html": [
              "0.147515152391461"
            ],
            "text/markdown": "0.147515152391461",
            "text/latex": "0.147515152391461",
            "text/plain": [
              "[1] 0.1475152"
            ]
          },
          "metadata": {}
        }
      ]
    },
    {
      "cell_type": "markdown",
      "source": [
        "## <a name=\"Q2d\">Question 2d</a>\n",
        "\n",
        "---\n",
        "\n",
        "Find the values of $E(X)$ and $\\mbox{Var}(X)$.\n",
        "\n",
        "<br>\n",
        "\n",
        "\n",
        "### Solution to Question 2d\n",
        "\n",
        "---\n",
        "\n",
        "Be sure to provide an explanation and/or supporting work to justify how you found your answer. You are welcome to apply\"shortcut\" formulas from the formula sheet for common distributions when justifying your answers as long as you show/explain how you used those formulas to find your answers.\n",
        "\n",
        "\n",
        "<br>  \n",
        "\n",
        "The expected value of $E(X)$ is given in the problem as 9 hours.\n",
        "\n",
        "The variance is $\\mbox{Var}(X) = (1/\\lambda)^2 = 9^2 = 81.$\n",
        "\n",
        "<br>\n",
        "\n",
        "\n"
      ],
      "metadata": {
        "id": "xuptZFlY32tX"
      }
    },
    {
      "cell_type": "code",
      "source": [
        "# optional code cell for supporting work to question 2d\n"
      ],
      "metadata": {
        "id": "HimH5Vru4hwC"
      },
      "execution_count": null,
      "outputs": []
    },
    {
      "cell_type": "markdown",
      "source": [
        "## <a name=\"Q2e\">Question 2e</a>\n",
        "\n",
        "---\n",
        "\n",
        "Using the value of $\\sigma = \\mbox{SD}(X)= \\sqrt{\\mbox{Var}(X)}$ from the previous part, what is the probability that the survival time of an untreated mouse exceeds the mean survival time by more than 2 standard deviations?\n",
        "\n",
        "\n",
        "<br>  \n",
        "\n",
        "### Solution to Question 2e\n",
        "\n",
        "---\n",
        "\n",
        "Be sure to provide an explanation and/or supporting work (which may involve some calculus or R code entered in the code cell below) to justify how you found your answer.\n",
        "\n",
        "\n",
        "<br>  \n",
        "\n",
        "First, convert to x using the equation:\n",
        "\n",
        "$x = \\sigma \\cdot z + \\mu = 9 \\cdot 2 + 9 = 27.$\n",
        "\n",
        "and solve for:\n",
        "\n",
        "$P(X > 27) = 1 - P(X < 27) = 0.0498$\n",
        "\n",
        "\n",
        "\n",
        "<br>  \n",
        "<br>\n",
        "\n"
      ],
      "metadata": {
        "id": "_OPu3IsS31Ow"
      }
    },
    {
      "cell_type": "code",
      "source": [
        "# optional code cell for supporting work to question 2e\n",
        "\n",
        "1-pexp(27,1/9)\n"
      ],
      "metadata": {
        "id": "IUzKgGJH4kEs",
        "colab": {
          "base_uri": "https://localhost:8080/",
          "height": 34
        },
        "outputId": "456c222c-3574-452d-d755-d469aa3d0621"
      },
      "execution_count": null,
      "outputs": [
        {
          "output_type": "display_data",
          "data": {
            "text/html": [
              "0.049787068367864"
            ],
            "text/markdown": "0.049787068367864",
            "text/latex": "0.049787068367864",
            "text/plain": [
              "[1] 0.04978707"
            ]
          },
          "metadata": {}
        }
      ]
    },
    {
      "cell_type": "markdown",
      "source": [
        "# <a name=\"Q3\">Question 3</a>\n",
        "\n",
        "---\n",
        "\n",
        "You will load in the dataset VALID in the code cell below. The dataset includes data taken on food consumption that is either from a diet record (DR) or assessed using a questionnaire, the food-frequency questionnaire (FFQ).  We will take a look at two of the variables:\n",
        "\n",
        "1. Diet record for calories (cal_dr)\n",
        "2. Diet record for alcohol consumption (alco_dr).\n",
        "\n",
        "\n",
        "a.     Compute the observed proportion of women who fall within 1.0, 1.5, 2.0, and 2.5 standard deviations of the mean.  Compare these with the expected proportions based on a normal distribution – show this in table format with the columns being (cal_dr, alco_dr, and normal dist).\n",
        "b.     Show a histogram and quartile-quartile plot for each of these two data sets.\n",
        "c.      Comment on whether a normal distribution is appropriate to describe either of these two data sets.\n",
        " for alcohol consumption (alco_dr)."
      ],
      "metadata": {
        "id": "cM23Db75ttsx"
      }
    },
    {
      "cell_type": "code",
      "source": [
        "#load VALID dataset\n",
        "valid <- read.csv(\"https://raw.githubusercontent.com/gibsonea/Biostats/main/Datasets/VALID.csv\")\n",
        "str(valid)"
      ],
      "metadata": {
        "colab": {
          "base_uri": "https://localhost:8080/"
        },
        "id": "o87ubkftufat",
        "outputId": "55d800f3-8d80-437b-ba60-fde1bb5563c6"
      },
      "execution_count": 2,
      "outputs": [
        {
          "output_type": "stream",
          "name": "stdout",
          "text": [
            "'data.frame':\t173 obs. of  9 variables:\n",
            " $ Id      : int  100396 100566 107633 107737 107744 107813 107825 107879 108618 109000 ...\n",
            " $ sfat_dr : num  33.2 17.7 38.7 21.6 21.4 ...\n",
            " $ sfat_ffq: num  21.2 10.6 23.8 22.7 30.4 15.1 17.8 19.1 23.4 16 ...\n",
            " $ tfat_dr : num  81.2 53.3 83.5 49.6 55.2 ...\n",
            " $ tfat_ffq: num  53.8 36.6 47.2 55.3 71 41.1 49.1 48.9 55.4 44.2 ...\n",
            " $ alco_dr : num  8.26 0.83 20.13 11.16 7.18 ...\n",
            " $ alco_ffq: num  1.68 0 15.1 7.49 12.84 ...\n",
            " $ cal_dr  : int  1807 1418 1889 1426 1253 1699 1700 1369 2163 1609 ...\n",
            " $ cal_ffq : num  1242 907 786 1392 1260 ...\n"
          ]
        }
      ]
    },
    {
      "cell_type": "markdown",
      "source": [
        "## <a name=\"Q3a\">Question 3a</a>\n",
        "\n",
        "---\n",
        "\n",
        "\n",
        "Compute the observed proportion of women who fall within 1.0, 1.5, 2.0, and 2.5 standard deviations of the mean.  Compare these with the expected proportions based on a normal distribution.  Show this in table format with the columns being (Calories, Alcohol, and Normal Distribution).\n",
        "\n",
        "<br>  \n",
        "\n",
        "### Solution to Question 3a\n",
        "\n",
        "---\n",
        "\n",
        "Be sure to provide an explanation and/or supporting work which may use the R code entered in the code cell below to justify how you found your answer.\n",
        "\n",
        "\n",
        "<br>  \n",
        "\n",
        "Proportions Table:\n",
        "\n",
        "|    Within (x) Std    | Calories | Alcohol | Normal |\n",
        "|--------|-----------------|---------------------------|-------|\n",
        "| 1.0 | 0.6994              | 0.7457                        | 0.6827    |\n",
        "| 1.5 | 0.8613              | 0.8092                        | 0.8664    |\n",
        "| 2.0 | 0.9364            | 0.8497                        | 0.9545    |\n",
        "| 2.5 | 0.9827             | 0.8786                        | 0.9876    |\n",
        "\n",
        "<br>\n",
        "The Calories data matches the normal distribution better than the distribution of the Alcohol data.\n",
        "\n",
        "<br>"
      ],
      "metadata": {
        "id": "jQ66mVWouiE9"
      }
    },
    {
      "cell_type": "code",
      "source": [
        "#code cell to calculate proportions within 1.0, 1.5, 2.0, and 2.5 standard deviations\n",
        "\n",
        "# Diet Record for Calories\n",
        "\n",
        "mean.cal = mean(valid$cal_dr)\n",
        "std.cal = sd(valid$cal_dr)\n",
        "\n",
        "#convert to z score\n",
        "\n",
        "cal_dr_z = (valid$cal_dr - mean.cal)/std.cal\n",
        "\n",
        "hist(cal_dr_z)\n",
        "\n",
        "Sd = c(1, 1.5, 2, 2.5)\n",
        "\n",
        "RelFreq = numeric(length(Sd))\n",
        "\n",
        "Tot = length(valid$cal_dr);\n",
        "\n",
        "for (i in 1:length(Sd)) {\n",
        "  # Adjust breaks to cover the full range of cal_dr_z\n",
        "  cts = hist(cal_dr_z, breaks = c(min(cal_dr_z), -Sd[i], Sd[i], max(cal_dr_z)),\n",
        "   plot = FALSE)$counts\n",
        "  # Exclude the counts in the extreme bins (outside -Sd[i] and Sd[i])\n",
        "  RelFreq[i] = sum(cts[2:(length(cts)-1)]) / Tot\n",
        "\n",
        "}\n",
        "\n",
        "# Round RelFreq to 4 significant figures\n",
        "signif(RelFreq, digits = 4)\n",
        "\n",
        "# Diet Record for Alcohol\n",
        "\n",
        "mean.alco = mean(valid$alco_dr)\n",
        "std.alco = sd(valid$alco_dr)\n",
        "\n",
        "#convert to z score\n",
        "\n",
        "alco_dr_z = (valid$alco_dr - mean.alco)/std.alco\n",
        "\n",
        "hist(alco_dr_z)\n",
        "\n",
        "Sd = c(1, 1.5, 2, 2.5)\n",
        "\n",
        "RelFreq = numeric(length(Sd))\n",
        "\n",
        "Tot = length(valid$alco_dr);\n",
        "\n",
        "for (i in 1:length(Sd)) {\n",
        "  # Adjust breaks to cover the full range of cal_dr_z\n",
        "  cts = hist(alco_dr_z, breaks = c(min(alco_dr_z), -Sd[i], Sd[i], max(alco_dr_z)),\n",
        "   plot = FALSE)$counts\n",
        "  # Exclude the counts in the extreme bins (outside -Sd[i] and Sd[i])\n",
        "  RelFreq[i] = sum(cts[2:(length(cts)-1)]) / Tot\n",
        "\n",
        "}\n",
        "\n",
        "# Round RelFreq to 4 significant figures\n",
        "signif(RelFreq, digits = 4)\n",
        "\n",
        "# Calculating for normal distribution\n",
        "\n",
        "signif(pnorm(Sd) - pnorm(-Sd), digits = 4)\n"
      ],
      "metadata": {
        "id": "yQT2cmonu-2t",
        "colab": {
          "base_uri": "https://localhost:8080/",
          "height": 909
        },
        "outputId": "3f6bd741-912a-4afe-82bd-d3fb1cb02c9f"
      },
      "execution_count": 3,
      "outputs": [
        {
          "output_type": "display_data",
          "data": {
            "text/html": [
              "<style>\n",
              ".list-inline {list-style: none; margin:0; padding: 0}\n",
              ".list-inline>li {display: inline-block}\n",
              ".list-inline>li:not(:last-child)::after {content: \"\\00b7\"; padding: 0 .5ex}\n",
              "</style>\n",
              "<ol class=list-inline><li>0.6994</li><li>0.8613</li><li>0.9364</li><li>0.9827</li></ol>\n"
            ],
            "text/markdown": "1. 0.6994\n2. 0.8613\n3. 0.9364\n4. 0.9827\n\n\n",
            "text/latex": "\\begin{enumerate*}\n\\item 0.6994\n\\item 0.8613\n\\item 0.9364\n\\item 0.9827\n\\end{enumerate*}\n",
            "text/plain": [
              "[1] 0.6994 0.8613 0.9364 0.9827"
            ]
          },
          "metadata": {}
        },
        {
          "output_type": "display_data",
          "data": {
            "text/plain": [
              "Plot with title “Histogram of cal_dr_z”"
            ],
            "image/png": "[encoded data removed]"
          },
          "metadata": {
            "image/png": {
              "width": 420,
              "height": 420
            }
          }
        },
        {
          "output_type": "display_data",
          "data": {
            "text/html": [
              "<style>\n",
              ".list-inline {list-style: none; margin:0; padding: 0}\n",
              ".list-inline>li {display: inline-block}\n",
              ".list-inline>li:not(:last-child)::after {content: \"\\00b7\"; padding: 0 .5ex}\n",
              "</style>\n",
              "<ol class=list-inline><li>0.7457</li><li>0.8092</li><li>0.8497</li><li>0.8786</li></ol>\n"
            ],
            "text/markdown": "1. 0.7457\n2. 0.8092\n3. 0.8497\n4. 0.8786\n\n\n",
            "text/latex": "\\begin{enumerate*}\n\\item 0.7457\n\\item 0.8092\n\\item 0.8497\n\\item 0.8786\n\\end{enumerate*}\n",
            "text/plain": [
              "[1] 0.7457 0.8092 0.8497 0.8786"
            ]
          },
          "metadata": {}
        },
        {
          "output_type": "display_data",
          "data": {
            "text/html": [
              "<style>\n",
              ".list-inline {list-style: none; margin:0; padding: 0}\n",
              ".list-inline>li {display: inline-block}\n",
              ".list-inline>li:not(:last-child)::after {content: \"\\00b7\"; padding: 0 .5ex}\n",
              "</style>\n",
              "<ol class=list-inline><li>0.6827</li><li>0.8664</li><li>0.9545</li><li>0.9876</li></ol>\n"
            ],
            "text/markdown": "1. 0.6827\n2. 0.8664\n3. 0.9545\n4. 0.9876\n\n\n",
            "text/latex": "\\begin{enumerate*}\n\\item 0.6827\n\\item 0.8664\n\\item 0.9545\n\\item 0.9876\n\\end{enumerate*}\n",
            "text/plain": [
              "[1] 0.6827 0.8664 0.9545 0.9876"
            ]
          },
          "metadata": {}
        },
        {
          "output_type": "display_data",
          "data": {
            "text/plain": [
              "Plot with title “Histogram of alco_dr_z”"
            ],
            "image/png": "[encoded data removed]"
          },
          "metadata": {
            "image/png": {
              "width": 420,
              "height": 420
            }
          }
        }
      ]
    },
    {
      "cell_type": "markdown",
      "source": [
        "## <a name=\"Q3b\">Question 3b</a>\n",
        "\n",
        "---\n",
        "\n",
        "\n",
        "Show the shape of the distribution of the two parameters using a histogram and a quartile-quartile plot (qq-plot).  Comment on whether a normal distribution is appropriate to describe either of these two parameters.\n",
        "\n",
        "<br>  \n",
        "\n",
        "### Solution to Question 3b\n",
        "\n",
        "---\n",
        "\n",
        "Be sure to provide an explanation and plots using the R code entered in the code cell below to justify how you found your answer.\n",
        "\n",
        "The histograms are plotted in the code above.  The following code shows the qq plot.  Both indicate that the distribution of Alcohol does not follow a normal distribution while the calorie distribution better follows a normal distribution - In the qq plot, it is on the line between -1 and 1 standard deviations with some deviations outside this range."
      ],
      "metadata": {
        "id": "NN383uyCwgJF"
      }
    },
    {
      "cell_type": "code",
      "source": [
        "#code cell to run histogram and qq-plots\n",
        "\n",
        "qqnorm(cal_dr_z,main = \"QQ Plot of Calories (z-scores)\")\n",
        "qqline(cal_dr_z)\n",
        "\n",
        "qqnorm(alco_dr_z, main = \"QQ Plot of Alcohol (z-scores)\")\n",
        "qqline(alco_dr_z)"
      ],
      "metadata": {
        "id": "RqmR5qHwxONx",
        "colab": {
          "base_uri": "https://localhost:8080/",
          "height": 857
        },
        "outputId": "46a1c43c-48a8-4fc0-898b-b9a649cc7938"
      },
      "execution_count": 8,
      "outputs": [
        {
          "output_type": "display_data",
          "data": {
            "text/plain": [
              "Plot with title “QQ Plot of Calories (z-scores)”"
            ],
            "image/png": "[encoded data removed]"
          },
          "metadata": {
            "image/png": {
              "width": 420,
              "height": 420
            }
          }
        },
        {
          "output_type": "display_data",
          "data": {
            "text/plain": [
              "Plot with title “QQ Plot of Alcohol (z-scores)”"
            ],
            "image/png": "[encoded data removed]"
          },
          "metadata": {
            "image/png": {
              "width": 420,
              "height": 420
            }
          }
        }
      ]
    },
    {
      "cell_type": "markdown",
      "source": [
        "# <a name=\"Q4\">Question 4</a>\n",
        "\n",
        "---\n",
        "\n",
        "You will load in the dataset Hospital in the code cell below. The dataset includes data taken 25 random patients who are admitted to a typical US hospital.\n",
        "\n",
        "\n",
        "|    Variable   | Description |\n",
        "|--------|-----------------|\n",
        "| Id | Patient ID No.   |\n",
        "| Dur_stay | Duration of hospital stay       |     \n",
        "| Age | Age    |\n",
        "| Sex | 1=male/2=female   |\n",
        "| Temp | First temperature following admission    |\n",
        "| WBC |   First WBC(x1000) following admission  |\n",
        "| Antibio | Received antibiotic 1=yes/2=no   |\n",
        "| Bact_cul | Received bacterial culture 1=yes/2=no    |\n",
        "| Service | Service 1=med/2=surg.    |\n",
        "\n"
      ],
      "metadata": {
        "id": "wSm1_sNuxgGv"
      }
    },
    {
      "cell_type": "code",
      "source": [
        "#load in Hospital dataset\n",
        "hospital <- read.csv(\"https://raw.githubusercontent.com/gibsonea/Biostats/main/Datasets/Hospital.csv\")"
      ],
      "metadata": {
        "id": "mXRKI-KhyHXs"
      },
      "execution_count": 9,
      "outputs": []
    },
    {
      "cell_type": "code",
      "source": [
        "str(hospital)"
      ],
      "metadata": {
        "colab": {
          "base_uri": "https://localhost:8080/"
        },
        "id": "4KoJ87O04HYZ",
        "outputId": "d9996085-a2e8-4429-9d7a-ec960c7e479f"
      },
      "execution_count": 10,
      "outputs": [
        {
          "output_type": "stream",
          "name": "stdout",
          "text": [
            "'data.frame':\t25 obs. of  9 variables:\n",
            " $ Id      : int  1 2 3 4 5 6 7 8 9 10 ...\n",
            " $ Dur_stay: int  5 10 6 11 5 14 30 11 17 3 ...\n",
            " $ Age     : int  30 73 40 47 25 82 60 56 43 50 ...\n",
            " $ Sex     : int  2 2 2 2 2 1 1 2 2 1 ...\n",
            " $ Temp    : num  99 98 99 98.2 98.5 96.8 99.5 98.6 98 98 ...\n",
            " $ WBC     : int  8 5 12 4 11 6 8 7 7 12 ...\n",
            " $ Antibio : int  2 2 2 2 2 1 1 2 2 2 ...\n",
            " $ Bact_cul: int  2 1 2 2 2 2 1 2 2 1 ...\n",
            " $ Service : int  1 1 2 2 2 2 1 1 1 2 ...\n"
          ]
        }
      ]
    },
    {
      "cell_type": "markdown",
      "source": [
        "## <a name=\"Q4a\">Question 4a</a>\n",
        "\n",
        "---\n",
        "\n",
        "\n",
        "Compute a 95% confidence interval for the mean age of admitted patients from this sample.\n",
        "\n",
        "<br>  \n",
        "\n",
        "### Solution to Question 4a\n",
        "\n",
        "---\n",
        "\n",
        "Write an explanation for your answer here and use the code cell below for any calculations.\n"
      ],
      "metadata": {
        "id": "7OZA4XLTyMk7"
      }
    },
    {
      "cell_type": "code",
      "source": [
        "#code cell for calculating 95% CI\n",
        "\n",
        "mean.age = mean(hospital$Age)\n",
        "mean.age\n",
        "std.age = sd(hospital$Age)\n",
        "std.age\n",
        "\n",
        "n = 25. # 25 observations\n",
        "\n",
        "# Calculate the margin of error\n",
        "margin_of_error <- qt(0.975, df = n - 1) * std.age / sqrt(n)\n",
        "\n",
        "# Calculate the lower and upper bounds of the confidence interval\n",
        "lower_bound <- mean.age - margin_of_error\n",
        "upper_bound <- mean.age + margin_of_error\n",
        "\n",
        "# Print the confidence interval\n",
        "cat(\"95% Confidence Interval for Mean Age:\", lower_bound, \",\", upper_bound, \"\\n\")"
      ],
      "metadata": {
        "id": "r_6y3z-9yfHE",
        "colab": {
          "base_uri": "https://localhost:8080/",
          "height": 69
        },
        "outputId": "90d33f9e-2aa8-493a-d43d-6a25ee404e4d"
      },
      "execution_count": 14,
      "outputs": [
        {
          "output_type": "display_data",
          "data": {
            "text/html": [
              "41.24"
            ],
            "text/markdown": "41.24",
            "text/latex": "41.24",
            "text/plain": [
              "[1] 41.24"
            ]
          },
          "metadata": {}
        },
        {
          "output_type": "display_data",
          "data": {
            "text/html": [
              "20.1024044996281"
            ],
            "text/markdown": "20.1024044996281",
            "text/latex": "20.1024044996281",
            "text/plain": [
              "[1] 20.1024"
            ]
          },
          "metadata": {}
        },
        {
          "output_type": "stream",
          "name": "stdout",
          "text": [
            "95% Confidence Interval for Mean Age: 32.94214 , 49.53786 \n"
          ]
        }
      ]
    },
    {
      "cell_type": "markdown",
      "source": [
        "## <a name=\"Q4b\">Question 4b</a>\n",
        "\n",
        "---\n",
        "\n",
        "\n",
        "Compute a 95% confidence interval for the mean white blood cell count following admission.\n",
        "\n",
        "<br>  \n",
        "\n",
        "### Solution to Question 4b\n",
        "\n",
        "---\n",
        "\n",
        "Write an explanation for your answer here and use the code cell below for any calculations.\n"
      ],
      "metadata": {
        "id": "5yCOFdFeyizY"
      }
    },
    {
      "cell_type": "code",
      "source": [
        "#code cell for calculating 95% CI\n",
        "\n",
        "mean.WBC = mean(hospital$WBC)\n",
        "mean.WBC\n",
        "std.WBC = sd(hospital$WBC)\n",
        "std.WBC\n",
        "\n",
        "n = 25. # 25 observations\n",
        "\n",
        "# Calculate the margin of error\n",
        "margin_of_error <- qt(0.975, df = n - 1) * std.WBC / sqrt(n)\n",
        "\n",
        "# Calculate the lower and upper bounds of the confidence interval\n",
        "lower_bound <- mean.WBC - margin_of_error\n",
        "upper_bound <- mean.WBC + margin_of_error\n",
        "\n",
        "# Print the confidence interval\n",
        "cat(\"95% Confidence Interval for Mean WBC:\", lower_bound, \",\", upper_bound, \"\\n\")"
      ],
      "metadata": {
        "id": "gUrvYImcy9E4",
        "colab": {
          "base_uri": "https://localhost:8080/",
          "height": 69
        },
        "outputId": "a99a6075-1b45-485c-dead-a15d2dca348a"
      },
      "execution_count": 17,
      "outputs": [
        {
          "output_type": "display_data",
          "data": {
            "text/html": [
              "7.84"
            ],
            "text/markdown": "7.84",
            "text/latex": "7.84",
            "text/plain": [
              "[1] 7.84"
            ]
          },
          "metadata": {}
        },
        {
          "output_type": "display_data",
          "data": {
            "text/html": [
              "3.21039976742254"
            ],
            "text/markdown": "3.21039976742254",
            "text/latex": "3.21039976742254",
            "text/plain": [
              "[1] 3.2104"
            ]
          },
          "metadata": {}
        },
        {
          "output_type": "stream",
          "name": "stdout",
          "text": [
            "95% Confidence Interval for Mean WBC: 6.514812 , 9.165188 \n"
          ]
        }
      ]
    },
    {
      "cell_type": "markdown",
      "source": [
        "## <a name=\"Q4c\">Question 4c</a>\n",
        "\n",
        "---\n",
        "\n",
        "\n",
        "Compute a **90%** confidence interval for the mean white blood cell count following admission.\n",
        "\n",
        "<br>  \n",
        "\n",
        "### Solution to Question 4c\n",
        "\n",
        "---\n",
        "\n",
        "Write an explanation for your answer here and use the code cell below for any calculations.\n"
      ],
      "metadata": {
        "id": "ETE00VGuzDJK"
      }
    },
    {
      "cell_type": "code",
      "source": [
        "#code cell\n",
        "# Calculate the margin of error for the 90% CI\n",
        "margin_of_error <- qt(0.95, df = n - 1) * std.WBC / sqrt(n)\n",
        "\n",
        "# Calculate the lower and upper bounds of the confidence interval\n",
        "lower_bound <- mean.WBC - margin_of_error\n",
        "upper_bound <- mean.WBC + margin_of_error\n",
        "\n",
        "# Print the confidence interval\n",
        "cat(\"90% Confidence Interval for Mean WBC:\", lower_bound, \",\", upper_bound, \"\\n\")"
      ],
      "metadata": {
        "id": "G7e42uW6zVF9",
        "colab": {
          "base_uri": "https://localhost:8080/"
        },
        "outputId": "5cd8bece-6052-47ba-a9bf-97f2ac25c002"
      },
      "execution_count": 18,
      "outputs": [
        {
          "output_type": "stream",
          "name": "stdout",
          "text": [
            "90% Confidence Interval for Mean WBC: 6.741477 , 8.938523 \n"
          ]
        }
      ]
    },
    {
      "cell_type": "markdown",
      "source": [
        "## <a name=\"Q4d\">Question 4d</a>\n",
        "\n",
        "---\n",
        "\n",
        "\n",
        "What is the best point estimate and 95% Confidence Interval of the percentage of males among patients admitted?\n",
        "\n",
        "<br>  \n",
        "\n",
        "### Solution to Question 4d\n",
        "\n",
        "---\n",
        "\n",
        "Write an explanation for your answer here and use the code cell below for any calculations.\n",
        "\n",
        "To calculate the point estimate, we can take the mean of the dataset where 1 = male and 2=female.  If we subtract 1 from this, it is the same as calculating for 0 = male and 1 = female.  We get 0.56 so 56% female and 44% male.\n",
        "\n",
        "The point estimate is $\\widehat{p}$ = **0.44**\n",
        "\n",
        "For the 95% CI of proportions, we haven't learned this just yet, but if you looked ahead you find that the standard error for proportions is given by\n",
        "\n",
        "<br>  \n",
        "$$ SE = \\sqrt{\\frac{\\widehat{p}(1-\\widehat{p})}{n}} = \\sqrt{\\frac{{\\color{tomato}{0.44}}(1- {\\color{tomato}{0.44}})}{25}} = 0.099$$\n",
        "<br>\n",
        "\n",
        "Since $n \\cdot p \\ge 10 $, we use a standard normal distribution to calculate the confidence interval.  We use the 97.5 percentile of the distribution $z_{0.975}$ = 1.96 to calculate the margin of error and then find the interval - reported below.\n"
      ],
      "metadata": {
        "id": "QoLwKJpWzbGv"
      }
    },
    {
      "cell_type": "code",
      "source": [
        "#code cell\n",
        "\n",
        "mean.maleprop = mean(hospital$Sex)-1\n",
        "mean.maleprop\n",
        "\n",
        "se.maleprop = sqrt(0.44*(1-0.44)/25)\n",
        "se.maleprop\n",
        "\n",
        "\n",
        "# Calculate the margin of error for the 95% CI\n",
        "margin_of_error <- qnorm(0.975) * se.maleprop / sqrt(n)\n",
        "\n",
        "# Calculate the lower and upper bounds of the confidence interval\n",
        "lower_bound <- mean.maleprop - margin_of_error\n",
        "upper_bound <- mean.maleprop + margin_of_error\n",
        "\n",
        "# Print the confidence interval\n",
        "cat(\"95% Confidence Interval for Percentage of Males:\", lower_bound, \",\", upper_bound, \"\\n\")\n",
        "\n"
      ],
      "metadata": {
        "id": "pcUNblD6z76u",
        "colab": {
          "base_uri": "https://localhost:8080/",
          "height": 86
        },
        "outputId": "a285f912-b7ca-4723-859c-6254b7031a8c"
      },
      "execution_count": 25,
      "outputs": [
        {
          "output_type": "display_data",
          "data": {
            "text/html": [
              "0.56"
            ],
            "text/markdown": "0.56",
            "text/latex": "0.56",
            "text/plain": [
              "[1] 0.56"
            ]
          },
          "metadata": {}
        },
        {
          "output_type": "display_data",
          "data": {
            "text/html": [
              "0.0992773891679269"
            ],
            "text/markdown": "0.0992773891679269",
            "text/latex": "0.0992773891679269",
            "text/plain": [
              "[1] 0.09927739"
            ]
          },
          "metadata": {}
        },
        {
          "output_type": "display_data",
          "data": {
            "text/html": [
              "1.95996398454005"
            ],
            "text/markdown": "1.95996398454005",
            "text/latex": "1.95996398454005",
            "text/plain": [
              "[1] 1.959964"
            ]
          },
          "metadata": {}
        },
        {
          "output_type": "stream",
          "name": "stdout",
          "text": [
            "95% Confidence Interval for Percentage of Males: 0.521084 , 0.598916 \n"
          ]
        }
      ]
    },
    {
      "cell_type": "code",
      "source": [],
      "metadata": {
        "id": "sXP7Xdr4yxUw"
      },
      "execution_count": null,
      "outputs": []
    }
  ]
}