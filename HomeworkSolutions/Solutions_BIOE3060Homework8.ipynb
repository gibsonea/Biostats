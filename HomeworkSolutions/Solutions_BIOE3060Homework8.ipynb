{
  "nbformat": 4,
  "nbformat_minor": 0,
  "metadata": {
    "colab": {
      "provenance": [],
      "include_colab_link": true
    },
    "kernelspec": {
      "name": "ir",
      "display_name": "R"
    },
    "language_info": {
      "name": "R"
    }
  },
  "cells": [
    {
      "cell_type": "markdown",
      "metadata": {
        "id": "view-in-github",
        "colab_type": "text"
      },
      "source": [
        "<a href=\"https://colab.research.google.com/github/gibsonea/Biostats/blob/main/HomeworkSolutions/Solutions_BIOE3060Homework8.ipynb\" target=\"_parent\"><img src=\"https://colab.research.google.com/assets/colab-badge.svg\" alt=\"Open In Colab\"/></a>"
      ]
    },
    {
      "cell_type": "markdown",
      "source": [
        "# Homework 8\n",
        "\n",
        "---"
      ],
      "metadata": {
        "id": "TLH2NCL-V8J_"
      }
    },
    {
      "cell_type": "markdown",
      "source": [
        "## <a name=\"HW1Inst\">Instructions:</a>\n",
        "---\n",
        "\n",
        "1. <font color=\"tomato\">Either click the COPY TO DRIVE button or use the menu File/Save/Save a Copy to save your own version of the notebook in your own folder in Google Drive.</font>\n",
        "\n",
        "  - If you do not have a Google account, you will need to create a Google account in order to create your own individual copy of this notebook.\n",
        "  - By default, the notebook will be saved in a folder named **Colab Notebooks** in your drive.\n",
        "  - Feel free to name and store the notebook wherever you like!\n",
        "\n",
        "2. <font color=\"mediumseagreen\">After you have copied the notebook into your Drive, you can begin editing and saving your work.</font>\n",
        "\n",
        "\n",
        "**Upload your completed assignment into Canvas as a Google Colab (or Jupyter) Notebook with file extension `.ipynb`.**\n",
        "\n",
        "**You must provide supporting work for your all of your answers.**\n",
        "\n",
        "\n",
        "\n",
        "  - <font color=\"dodgerblue\">That work will include using R code cells.</font>\n",
        "    - **Feel free to insert as much R code as you like.**\n",
        "    - You must interpret or explain how the output of a code cell is being utilized to solve the problem.\n",
        "    - **Code with incomplete or missing explanations of why the output is useful may not receive full credit.**\n",
        "  - <font color=\"dodgerblue\">Your work will also involve writing explanations and justifications in text cells.</font>\n",
        "    - **Be sure to type/write out the steps of your work/explanation so I can see how you arrived at your answer.**\n",
        "  - <font color=\"dodgerblue\">Your work in some parts  may involve doing algebra and/or calculus.</font>\n",
        "    - Either type your work in the space below using LaTeX for mathematical equations.\n",
        "      - Here's a helpful [Quick Reference Guide for LaTeX](https://colab.research.google.com/drive/1voDDmLfHmRWzWQW5yiHfqYsjGPFqdovP?usp=sharing).\n",
        "      - Here's a helpful [LaTeX math symbol gallery](https://artofproblemsolving.com/wiki/index.php/LaTeX:Symbols).\n",
        "      - **Learning LaTeX is super useful and might even be enjoyable!**\n",
        "    - Or you can write your work on paper/tablet, take a picture of your work, and then insert an image of your work.\n",
        "    - Or you can Write your work on paper/tablet and submit to me separately when the assignment is due.\n",
        "   \n",
        "\n",
        "## Important Academic Policies:\n",
        "---\n",
        "\n",
        "- **Be your own work.** Though you may collaborate with others, everyone is responsible for writing up the work in their own way using their own methods. Plagiarism of any form is not tolerated.\n",
        "- **Be complete.** You must provide all work and/or explanations needed to find the solution. Answers with insufficient or incomplete supporting work may lose credit.\n",
        "- **Adhere to the Code of Academic Honesty.**\n",
        "- **Be clearly written (and legible if written).** Your solution to a problem must be clear, written in complete sentences. You may lose credit for work that is unclear or hard to follow.\n",
        "\n",
        "## <font color=\"dodgerblue\">Let me know if you need help, and **GOOD LUCK!!!**</font>\n",
        "\n",
        "----"
      ],
      "metadata": {
        "id": "_3mKEGX-f9eA"
      }
    },
    {
      "cell_type": "markdown",
      "source": [
        "# <a name=\"HW8q1\">Question 1: Hypothesis testing of two samples: Case Study 1</a>\n",
        "\n",
        "---\n",
        "\n",
        "The effects of exposure to lead on the psychological and neurological well-being of children were studied [1].\n",
        "\n",
        "In summary, blood levels of lead were measured in a group of children who lived near a lead smelter in El Paso, Texas. Forty-six children with blood-lead levels ≥ 40 μg/mL were identified in 1972 (a few children were identified in 1973); this group is defined by the variable Group = 2.\n",
        "\n",
        "A control group of 78 children were also identified who had blood-lead levels < 40 μg/mL in 1972 and 1973; this group is defined by the variable Group = 1. All children lived close to the lead smelter.\n",
        "\n",
        "Two important outcome variables were studied: (1) the number of finger–wrist taps in the dominant hand (a measure of neurological function) and (2) the Wechsler full-scale IQ score. In the following, we want to explore the relationship of lead exposure to the outcome variables.\n",
        "\n",
        "\n",
        "<br>\n",
        "\n",
        "\n"
      ],
      "metadata": {
        "id": "i0PaAD5WgFx9"
      }
    },
    {
      "cell_type": "markdown",
      "source": [
        "## <a name=\"HW8q1a\">Question 1a</a>\n",
        "\n",
        "---\n",
        "\n",
        "Create a box plot of the number of finger-wrist taps in the dominant hand (variable name is maxfwt) for the different lead exposed groups indicate by the variable Group = 1 (not exposed) and Group = 2 (exposed).\n",
        "\n",
        "<br>\n",
        "\n",
        "\n",
        "\n",
        "### Solution to Question 1a\n",
        "\n",
        "---\n",
        "\n",
        "<br>\n",
        "\n",
        "Answer with the code cell below.\n",
        "\n",
        "<br>\n",
        "\n",
        "<font color=\"mediumseagreen\">*Hint: You can use the subset command to sort the different groups (exposed and unexposed). See solutions for Lab 3 for information on creating side-by-side boxplots and subsets.*</font>\n"
      ],
      "metadata": {
        "id": "22H2NMxVhzvm"
      }
    },
    {
      "cell_type": "code",
      "source": [
        "# First you will need to load the lead dataset\n",
        "lead <- read.csv(\"https://raw.githubusercontent.com/gibsonea/Biostats/main/Datasets/LEAD.csv\")\n",
        "str(lead) #displays the variable names and types"
      ],
      "metadata": {
        "id": "qlm357gRjsou",
        "colab": {
          "base_uri": "https://localhost:8080/"
        },
        "outputId": "6f0fba8e-2c9d-492a-ab34-d2032c3ad15d"
      },
      "execution_count": null,
      "outputs": [
        {
          "output_type": "stream",
          "name": "stdout",
          "text": [
            "'data.frame':\t124 obs. of  40 variables:\n",
            " $ id       : int  101 102 103 104 105 106 107 108 109 110 ...\n",
            " $ area     : int  3 3 3 2 1 2 3 1 2 2 ...\n",
            " $ ageyrs   : num  11.08 9.42 11.08 6.92 11.25 ...\n",
            " $ sex      : int  1 1 1 1 1 1 1 2 2 1 ...\n",
            " $ iqv_inf  : int  3 7 4 4 5 5 7 3 13 7 ...\n",
            " $ iqv_comp : int  4 9 9 6 4 12 9 1 10 9 ...\n",
            " $ iqv_ar   : int  3 7 5 6 8 11 10 3 14 12 ...\n",
            " $ iqv_ds   : int  5 6 3 6 5 9 7 6 13 9 ...\n",
            " $ iqv_raw  : int  15 29 21 22 22 37 33 13 50 37 ...\n",
            " $ iqp_pc   : int  10 8 10 5 5 14 10 6 8 6 ...\n",
            " $ iqp_bd   : int  8 7 7 8 10 7 8 2 15 9 ...\n",
            " $ iqp_oa   : int  8 10 7 5 13 7 7 3 14 12 ...\n",
            " $ iqp_cod  : int  5 9 20 13 12 10 16 8 9 13 ...\n",
            " $ iqp_raw  : int  31 34 44 31 40 38 41 19 46 40 ...\n",
            " $ hh_index : int  77 77 30 77 62 72 54 73 22 77 ...\n",
            " $ iqv      : int  61 82 70 72 72 95 89 57 116 95 ...\n",
            " $ iqp      : int  85 90 107 85 100 97 101 64 111 100 ...\n",
            " $ iqf      : int  70 85 86 76 84 96 94 56 115 97 ...\n",
            " $ iq_type  : int  1 1 1 1 1 1 1 1 1 1 ...\n",
            " $ lead_grp : int  1 1 1 1 1 1 1 1 1 1 ...\n",
            " $ Group    : int  1 1 1 1 1 1 1 1 1 1 ...\n",
            " $ ld72     : int  25 31 30 29 2 29 25 24 24 31 ...\n",
            " $ ld73     : int  18 28 29 30 34 25 24 15 16 24 ...\n",
            " $ fst2yrs  : int  2 2 2 2 1 2 2 1 2 2 ...\n",
            " $ totyrs   : int  11 6 5 5 11 6 6 15 7 7 ...\n",
            " $ pica     : int  2 2 2 2 2 2 2 2 2 2 ...\n",
            " $ colic    : int  2 2 2 2 2 2 2 2 2 2 ...\n",
            " $ clumsi   : int  2 2 2 2 2 2 2 1 2 2 ...\n",
            " $ irrit    : int  2 2 2 1 1 2 2 1 2 2 ...\n",
            " $ convul   : int  2 2 2 2 2 2 2 2 2 2 ...\n",
            " $ X_2plat_r: int  16 17 16 11 17 16 10 19 15 16 ...\n",
            " $ X_2plar_l: int  16 16 17 9 16 14 13 14 13 11 ...\n",
            " $ visrea_r : int  36 23 20 34 26 29 29 30 31 26 ...\n",
            " $ visrea_l : int  38 19 24 42 34 26 29 32 28 25 ...\n",
            " $ audrea_r : int  27 18 16 35 31 28 30 33 31 27 ...\n",
            " $ audrea_l : int  25 28 17 30 33 27 27 24 29 21 ...\n",
            " $ fwt_r    : int  72 61 46 48 51 49 50 58 50 51 ...\n",
            " $ fwt_l    : int  52 48 49 41 42 35 39 58 40 37 ...\n",
            " $ hyperact : int  99 0 99 2 99 0 0 99 0 0 ...\n",
            " $ maxfwt   : int  72 61 49 48 51 49 50 58 50 51 ...\n"
          ]
        }
      ]
    },
    {
      "cell_type": "code",
      "source": [
        "# separate out the exposed and unexposed groups\n",
        "\n",
        "exposed <- subset(lead, Group == \"2\")\n",
        "unexposed <-subset(lead, Group == \"1\")"
      ],
      "metadata": {
        "id": "gEg9Mvu1xdnl"
      },
      "execution_count": null,
      "outputs": []
    },
    {
      "cell_type": "code",
      "source": [
        "# Code for displaying side-by-side boxplot\n",
        "\n",
        "boxplot(exposed$maxfwt, unexposed$maxfwt,  # enter two vectors of data\n",
        "        main = \"Comparison of Finger Wrist Taps in Exposed vs. Unexposed Children\",   # main title\n",
        "        xlab = \"Dominant Finger Wrist Taps\",  # x-axis label\n",
        "        horizontal = TRUE,  # align boxplots horizontally\n",
        "        names = c(\"Exposed\", \"Unexposed\"),  # label each boxplot\n",
        "        cex.lab=1.5, cex.axis=1.5, cex.main=1.5,  # increase font size\n",
        "        col = c(\"seagreen\", \"steelblue\"))  # fill color for box\n"
      ],
      "metadata": {
        "colab": {
          "base_uri": "https://localhost:8080/",
          "height": 437
        },
        "id": "JNSGMYBnwpin",
        "outputId": "f3fcd130-4b18-4501-e0d9-f09606ca4fd4"
      },
      "execution_count": null,
      "outputs": [
        {
          "output_type": "display_data",
          "data": {
            "text/plain": [
              "Plot with title “Comparison of Finger Wrist Taps in Exposed vs. Unexposed Children”"
            ],
            "image/png": "[encoded data removed]"
          },
          "metadata": {
            "image/png": {
              "width": 420,
              "height": 420
            }
          }
        }
      ]
    },
    {
      "cell_type": "markdown",
      "source": [
        "## <a name=\"HW8q1b\">Question 1b</a>\n",
        "\n",
        "---\n",
        "\n",
        "Your boxplot in [Question 1a](#HW8q1a) shows one outlier in the unexposed group.  Create a new dataset with the outlier removed.  \n",
        "\n",
        "<br>\n",
        "\n",
        "\n",
        "### Solution to Question 1b\n",
        "\n",
        "---\n",
        "\n",
        "Answer in the code cell below.\n",
        "\n",
        "\n",
        "\n",
        "We see from the boxplot that there is one outlier in the unexposed group.  In the code box, test and remove that one outlier and create a new dataset: unexposed_no_outlier.\n",
        "\n",
        "<br>  \n",
        "<br>  \n",
        "<br>  \n"
      ],
      "metadata": {
        "id": "zQLLl9jRt8b4"
      }
    },
    {
      "cell_type": "code",
      "source": [
        "#Remove outlier in unexposed group\n",
        "\n",
        "Q1 <- quantile(unexposed$maxfwt, 0.25)\n",
        "Q3 <- quantile(unexposed$maxfwt, 0.75)\n",
        "IQR <- Q3 - Q1\n",
        "upper_limit <- Q3 + (1.5 * IQR)\n",
        "lower_limit <- Q1 - (1.5 * IQR)\n",
        "\n",
        "# Create a new dataset without the outlier\n",
        "unexposed_no_outlier <- subset(unexposed, maxfwt >= lower_limit & maxfwt <= upper_limit)\n",
        "\n",
        "nrow(unexposed)\n",
        "nrow(unexposed_no_outlier)"
      ],
      "metadata": {
        "id": "75PlRRhGyclx",
        "colab": {
          "base_uri": "https://localhost:8080/",
          "height": 52
        },
        "outputId": "7bf77937-ee68-4cd7-f3f9-d1c9a4eaa6d5"
      },
      "execution_count": null,
      "outputs": [
        {
          "output_type": "display_data",
          "data": {
            "text/html": [
              "78"
            ],
            "text/markdown": "78",
            "text/latex": "78",
            "text/plain": [
              "[1] 78"
            ]
          },
          "metadata": {}
        },
        {
          "output_type": "display_data",
          "data": {
            "text/html": [
              "77"
            ],
            "text/markdown": "77",
            "text/latex": "77",
            "text/plain": [
              "[1] 77"
            ]
          },
          "metadata": {}
        }
      ]
    },
    {
      "cell_type": "markdown",
      "source": [
        "## <a name=\"HW8q1c\">Question 1c</a>\n",
        "\n",
        "---\n",
        "\n",
        "Based on the output in [Question 1a](#HW8q1a), do you think there is a difference in dominant hand finger wrist taps between the exposed and unexposed groups?\n",
        "\n",
        "<br>\n",
        "\n",
        "\n",
        "### Solution to Question 1c\n",
        "\n",
        "---\n",
        "\n",
        "\n",
        "It appears that the unexposed group might have a greater mean maxfwt value than the exposed group, but would need further statistical testing to verify this.\n",
        "\n",
        "\n",
        "\n",
        "<br>  \n",
        "<br>  \n",
        "<br>  \n"
      ],
      "metadata": {
        "id": "plGt1TY53fB7"
      }
    },
    {
      "cell_type": "markdown",
      "source": [
        "## <a name=\"HW8q1d\">Question 1d</a>\n",
        "\n",
        "---\n",
        "\n",
        "Let's answer the question posed in [Question 1c](#HW8q1c) by using hypothesis testing.  Write down the hypothesis and describe in a few sentences.\n",
        "\n",
        "<br>\n",
        "\n",
        "\n",
        "### Solution to Question 1d\n",
        "\n",
        "---\n",
        "\n",
        "\n",
        "$H_{0}: \\mu_1 = \\mu_2 $\n",
        "\n",
        "$H_{1}: \\mu_1 \\neq \\mu_2$\n",
        "\n",
        "\n",
        "Where $\\mu_1$ is the exposed group and $\\mu_2$ is the unexposed group.\n",
        "\n",
        "<br>  \n",
        "\n",
        "The null hypothesis states that there is no difference in mean value of dominant hand finger wrist taps between the two groups.\n",
        "\n",
        "The alternate hypothesis states that there is a difference between the two groups.\n",
        "\n",
        "<br>  \n"
      ],
      "metadata": {
        "id": "-BS0AimcuK8N"
      }
    },
    {
      "cell_type": "markdown",
      "source": [
        "## <a name=\"HW8q1e\">Question 1e</a>\n",
        "\n",
        "---\n",
        "\n",
        "Even though the distributions are slightly skewed, our sample size is large enough that we can use parametric methods to answer our hypothesis.\n",
        "\n",
        "Find the standardized test statistic.  \n",
        "**Note:** Do the calculation out (i.e. don't just use a single call command).\n",
        "\n",
        "\n",
        "<br>\n",
        "\n",
        "\n",
        "### Solution to Question 1e\n",
        "\n",
        "---\n",
        "\n",
        "\n",
        "<br>  \n",
        "The test statistic is\n",
        "\n",
        "$ t =  \\dfrac{(\\bar{x}_1 - \\bar{x}_2)}{\\sqrt{ \\frac{s_1^2}{n_1} + \\frac{s_2^2}{n_2}}} = \\dfrac{(59.76 - 63.08)}{\\sqrt{ \\frac{25.01^2}{46} + \\frac{19.70^2}{77}}} = - 0.768$\n",
        "\n",
        "\n",
        "<br>  \n",
        "<br>  \n"
      ],
      "metadata": {
        "id": "g2GWEnbF4uzQ"
      }
    },
    {
      "cell_type": "code",
      "source": [
        "# code cell for calculating the test statistic\n",
        "mean.exp = mean(exposed$maxfwt)\n",
        "mean.unexp = mean(unexposed_no_outlier$maxfwt)\n",
        "\n",
        "sd.exp = sd(exposed$maxfwt)\n",
        "sd.unexp = sd(unexposed_no_outlier$maxfwt)\n",
        "\n",
        "mean.exp\n",
        "sd.exp\n",
        "nrow(exposed)\n",
        "\n",
        "mean.unexp\n",
        "sd.unexp\n",
        "nrow(unexposed_no_outlier)\n",
        "\n",
        "t = (mean.exp - mean.unexp)/sqrt((sd.exp^2)/46 + (sd.unexp^2)/77)\n",
        "t\n",
        "\n"
      ],
      "metadata": {
        "id": "094uuTHQ5_Iu",
        "colab": {
          "base_uri": "https://localhost:8080/",
          "height": 139
        },
        "outputId": "dece2e03-9780-459b-f40a-4f6ca5742f56"
      },
      "execution_count": null,
      "outputs": [
        {
          "output_type": "display_data",
          "data": {
            "text/html": [
              "59.7608695652174"
            ],
            "text/markdown": "59.7608695652174",
            "text/latex": "59.7608695652174",
            "text/plain": [
              "[1] 59.76087"
            ]
          },
          "metadata": {}
        },
        {
          "output_type": "display_data",
          "data": {
            "text/html": [
              "25.0086072139695"
            ],
            "text/markdown": "25.0086072139695",
            "text/latex": "25.0086072139695",
            "text/plain": [
              "[1] 25.00861"
            ]
          },
          "metadata": {}
        },
        {
          "output_type": "display_data",
          "data": {
            "text/html": [
              "46"
            ],
            "text/markdown": "46",
            "text/latex": "46",
            "text/plain": [
              "[1] 46"
            ]
          },
          "metadata": {}
        },
        {
          "output_type": "display_data",
          "data": {
            "text/html": [
              "63.0779220779221"
            ],
            "text/markdown": "63.0779220779221",
            "text/latex": "63.0779220779221",
            "text/plain": [
              "[1] 63.07792"
            ]
          },
          "metadata": {}
        },
        {
          "output_type": "display_data",
          "data": {
            "text/html": [
              "19.6995633359074"
            ],
            "text/markdown": "19.6995633359074",
            "text/latex": "19.6995633359074",
            "text/plain": [
              "[1] 19.69956"
            ]
          },
          "metadata": {}
        },
        {
          "output_type": "display_data",
          "data": {
            "text/html": [
              "77"
            ],
            "text/markdown": "77",
            "text/latex": "77",
            "text/plain": [
              "[1] 77"
            ]
          },
          "metadata": {}
        },
        {
          "output_type": "display_data",
          "data": {
            "text/html": [
              "-0.768375360477758"
            ],
            "text/markdown": "-0.768375360477758",
            "text/latex": "-0.768375360477758",
            "text/plain": [
              "[1] -0.7683754"
            ]
          },
          "metadata": {}
        }
      ]
    },
    {
      "cell_type": "markdown",
      "source": [
        "## <a name=\"HW8q1f\">Question 1f</a>\n",
        "\n",
        "---\n",
        "\n",
        "Perform the test and report the p-value.\n",
        "\n",
        "**Note:** Do the calculation out (i.e. don't just use a single call command).\n",
        "\n",
        "\n",
        "<br>\n",
        "\n",
        "\n",
        "### Solution to Question 1f\n",
        "\n",
        "---\n",
        "\n",
        "\n",
        "Using a degree of freedom of 45, we find a p value of 0.446 from the code cell below.\n",
        "\n",
        "<br>  \n",
        "<br>  \n",
        "<br>  \n"
      ],
      "metadata": {
        "id": "XXkquN8X6Wjf"
      }
    },
    {
      "cell_type": "code",
      "source": [
        "#code cell for problem 1f\n",
        "2*pt(t,45)"
      ],
      "metadata": {
        "colab": {
          "base_uri": "https://localhost:8080/",
          "height": 34
        },
        "id": "xQIDQSpe4zEq",
        "outputId": "3527c579-b62e-4ba1-9b9a-14b64bc0673a"
      },
      "execution_count": null,
      "outputs": [
        {
          "output_type": "display_data",
          "data": {
            "text/html": [
              "0.446278009099332"
            ],
            "text/markdown": "0.446278009099332",
            "text/latex": "0.446278009099332",
            "text/plain": [
              "[1] 0.446278"
            ]
          },
          "metadata": {}
        }
      ]
    },
    {
      "cell_type": "markdown",
      "source": [
        "## <a name=\"HW8q1g\">Question 1g</a>\n",
        "\n",
        "---\n",
        "\n",
        "Perform the test and report the p-value using R single call command (t.test) and compare with your answer in [Question 1f](#HW8q1f)\n",
        "\n",
        "\n",
        "<br>\n",
        "\n",
        "\n",
        "### Solution to Question 1g\n",
        "\n",
        "---\n",
        "\n",
        "From code cell below, we get a result of p = 0.4446 which is similar to our calculation, but uses the Welch's approximation for the degree of freedom.\n",
        "\n",
        "<br>  \n",
        "\n"
      ],
      "metadata": {
        "id": "wqLgZv6X6rz4"
      }
    },
    {
      "cell_type": "code",
      "source": [
        "t.test(exposed$maxfwt,unexposed_no_outlier$maxfwt)"
      ],
      "metadata": {
        "colab": {
          "base_uri": "https://localhost:8080/",
          "height": 213
        },
        "id": "EewaV4qo5a12",
        "outputId": "cc4df542-f2ae-4b1f-b849-7606506a92ec"
      },
      "execution_count": null,
      "outputs": [
        {
          "output_type": "display_data",
          "data": {
            "text/plain": [
              "\n",
              "\tWelch Two Sample t-test\n",
              "\n",
              "data:  exposed$maxfwt and unexposed_no_outlier$maxfwt\n",
              "t = -0.76838, df = 78.184, p-value = 0.4446\n",
              "alternative hypothesis: true difference in means is not equal to 0\n",
              "95 percent confidence interval:\n",
              " -11.911159   5.277054\n",
              "sample estimates:\n",
              "mean of x mean of y \n",
              " 59.76087  63.07792 \n"
            ]
          },
          "metadata": {}
        }
      ]
    },
    {
      "cell_type": "markdown",
      "source": [
        "# <a name=\"HW8q2\">Question 2: Confidence Intervals </a>\n",
        "\n",
        "---\n",
        "\n",
        "A data set was collected on people discharged from a selected Pennsylvania hospital as part of a retrospective chart review of antibiotic usage in hospitals.\n",
        "\n",
        "\n",
        "You will load in this dataset Hospital in the code cell below. A description of the variables are given below.\n",
        "\n",
        "<br>\n",
        "\n",
        "\n",
        "|    Variable   | Description |\n",
        "|--------|-----------------|\n",
        "| Id | Patient ID No.   |\n",
        "| Dur_stay | Duration of hospital stay       |     \n",
        "| Age | Age    |\n",
        "| Sex | 1=male/2=female   |\n",
        "| Temp | First temperature following admission    |\n",
        "| WBC |   First WBC(x1000) following admission  |\n",
        "| Antibio | Received antibiotic 1=yes/2=no   |\n",
        "| Bact_cul | Received bacterial culture 1=yes/2=no    |\n",
        "| Service | Service 1=med/2=surg.    |\n",
        "\n",
        "\n"
      ],
      "metadata": {
        "id": "yE3Ryr2ujM_J"
      }
    },
    {
      "cell_type": "code",
      "source": [
        "#load in Hospital dataset\n",
        "hospital <- read.csv(\"https://raw.githubusercontent.com/gibsonea/Biostats/main/Datasets/Hospital.csv\")\n",
        "str(hospital)"
      ],
      "metadata": {
        "id": "EvpGVAph0dbr",
        "colab": {
          "base_uri": "https://localhost:8080/"
        },
        "outputId": "847f5670-3b8b-44a8-857e-697ac664841c"
      },
      "execution_count": null,
      "outputs": [
        {
          "output_type": "stream",
          "name": "stdout",
          "text": [
            "'data.frame':\t25 obs. of  9 variables:\n",
            " $ Id      : int  1 2 3 4 5 6 7 8 9 10 ...\n",
            " $ Dur_stay: int  5 10 6 11 5 14 30 11 17 3 ...\n",
            " $ Age     : int  30 73 40 47 25 82 60 56 43 50 ...\n",
            " $ Sex     : int  2 2 2 2 2 1 1 2 2 1 ...\n",
            " $ Temp    : num  99 98 99 98.2 98.5 96.8 99.5 98.6 98 98 ...\n",
            " $ WBC     : int  8 5 12 4 11 6 8 7 7 12 ...\n",
            " $ Antibio : int  2 2 2 2 2 1 1 2 2 2 ...\n",
            " $ Bact_cul: int  2 1 2 2 2 2 1 2 2 1 ...\n",
            " $ Service : int  1 1 2 2 2 2 1 1 1 2 ...\n"
          ]
        }
      ]
    },
    {
      "cell_type": "markdown",
      "source": [
        "## <a name=\"HW8q2a\">Question 2a</a>\n",
        "\n",
        "---\n",
        "\n",
        "Calculate the 95% Confidence Interval for the duration of hospital stay (Dur_stay) assuming a large sample parametric confidence interval.\n",
        "\n",
        "\n",
        "### Solution to Question 2a\n",
        "\n",
        "---\n",
        "\n",
        "\n",
        "The 95% confidence interval for mean duration of hospital stay is\n",
        "\n",
        "$\\bar{x} \\pm t_{24,0.975} \\frac{s}{\\sqrt{n}}$\n",
        "\n",
        "From code cell below, we calculate the mean (sd) as 8.6 (5.72) days\n",
        "\n",
        "$8.6 \\pm 2.064 \\frac{(5.72)}{\\sqrt{25}}$\n",
        "\n",
        "$8.6 \\pm 2.36$ or (6.24, 10.96)\n",
        "\n",
        "<br>  \n",
        "\n"
      ],
      "metadata": {
        "id": "9n1dU5gFw_2v"
      }
    },
    {
      "cell_type": "code",
      "source": [
        "# code cell for Question 2a\n",
        "\n",
        "mean.stay = mean(hospital$Dur_stay)\n",
        "sd.stay = sd(hospital$Dur_stay)\n",
        "\n",
        "mean.stay\n",
        "sd.stay\n",
        "\n",
        "length(hospital$Dur_stay)\n",
        "\n",
        "qt(0.975,24)\n",
        "\n",
        "moe = qt(0.975,24)*sd.stay/sqrt(25)\n",
        "moe\n",
        "mean.stay - moe\n",
        "mean.stay + moe"
      ],
      "metadata": {
        "id": "J73IpOetEADe",
        "colab": {
          "base_uri": "https://localhost:8080/",
          "height": 139
        },
        "outputId": "d1d6676e-34f0-481b-f574-7c8c8782785a"
      },
      "execution_count": null,
      "outputs": [
        {
          "output_type": "display_data",
          "data": {
            "text/html": [
              "8.6"
            ],
            "text/markdown": "8.6",
            "text/latex": "8.6",
            "text/plain": [
              "[1] 8.6"
            ]
          },
          "metadata": {}
        },
        {
          "output_type": "display_data",
          "data": {
            "text/html": [
              "5.71547606649408"
            ],
            "text/markdown": "5.71547606649408",
            "text/latex": "5.71547606649408",
            "text/plain": [
              "[1] 5.715476"
            ]
          },
          "metadata": {}
        },
        {
          "output_type": "display_data",
          "data": {
            "text/html": [
              "25"
            ],
            "text/markdown": "25",
            "text/latex": "25",
            "text/plain": [
              "[1] 25"
            ]
          },
          "metadata": {}
        },
        {
          "output_type": "display_data",
          "data": {
            "text/html": [
              "2.06389856162803"
            ],
            "text/markdown": "2.06389856162803",
            "text/latex": "2.06389856162803",
            "text/plain": [
              "[1] 2.063899"
            ]
          },
          "metadata": {}
        },
        {
          "output_type": "display_data",
          "data": {
            "text/html": [
              "2.35923256653131"
            ],
            "text/markdown": "2.35923256653131",
            "text/latex": "2.35923256653131",
            "text/plain": [
              "[1] 2.359233"
            ]
          },
          "metadata": {}
        },
        {
          "output_type": "display_data",
          "data": {
            "text/html": [
              "6.24076743346869"
            ],
            "text/markdown": "6.24076743346869",
            "text/latex": "6.24076743346869",
            "text/plain": [
              "[1] 6.240767"
            ]
          },
          "metadata": {}
        },
        {
          "output_type": "display_data",
          "data": {
            "text/html": [
              "10.9592325665313"
            ],
            "text/markdown": "10.9592325665313",
            "text/latex": "10.9592325665313",
            "text/plain": [
              "[1] 10.95923"
            ]
          },
          "metadata": {}
        }
      ]
    },
    {
      "cell_type": "markdown",
      "source": [
        "## <a name=\"HW8q2b\">Question 2b</a>\n",
        "\n",
        "---\n",
        "\n",
        "The confidence interval you calculated in [Question 2a](#HW8q2a) assumes that the distribution of hospital stay is normal or that the central limit theorem can be used.  To check this, plot a histogram of the distribution.\n",
        "\n",
        "### Solution to Question 2b\n",
        "\n",
        "---\n",
        "\n",
        "<br>\n",
        "\n",
        "Answer using the R code cell below.\n",
        "\n",
        "\n"
      ],
      "metadata": {
        "id": "PnBvDytWxmuy"
      }
    },
    {
      "cell_type": "code",
      "source": [
        "# Code for displaying histogram\n",
        "\n",
        "hist(hospital$Dur_stay)"
      ],
      "metadata": {
        "id": "xKQdCgExyKLK",
        "colab": {
          "base_uri": "https://localhost:8080/",
          "height": 437
        },
        "outputId": "41bca152-8387-45d4-cbb3-06c06ff6411d"
      },
      "execution_count": null,
      "outputs": [
        {
          "output_type": "display_data",
          "data": {
            "text/plain": [
              "Plot with title “Histogram of hospital$Dur_stay”"
            ],
            "image/png": "[encoded data removed]"
          },
          "metadata": {
            "image/png": {
              "width": 420,
              "height": 420
            }
          }
        }
      ]
    },
    {
      "cell_type": "markdown",
      "source": [
        "## <a name=\"HW8q2c\">Question 2c</a>\n",
        "\n",
        "---\n",
        "\n",
        "The distribution appears right-skewed and far from being normal. How can we check the validity of the 95% Cl computed? We will do a simulation-based approach, the Bootstrap CI.\n",
        "\n",
        "Using the sample command in R, select N = 10000 bootstrap samples and use the mean command to calculate the mean of each of the samples. Show the distribution on a histogram plot and use the quantile command to determine the 2.5th and 97.5th percentiles of the sample means.\n",
        "\n",
        "\n",
        "\n",
        "### Solution to Question 2c\n",
        "\n",
        "---\n",
        "\n",
        "Use the code cell below to answer.\n",
        "\n",
        "<br>\n",
        "<br>\n",
        "\n",
        "\n",
        "\n",
        "\n",
        "\n"
      ],
      "metadata": {
        "id": "0xRopFxTyIja"
      }
    },
    {
      "cell_type": "code",
      "source": [
        "# code cell for Question 2c\n",
        "\n",
        "set.seed(076)\n",
        "\n",
        "N <- 10^5  # Number of bootstrap samples\n",
        "boot.mean <- numeric(N)\n",
        "\n",
        "\n",
        "# for loop that creates bootstrap dist\n",
        "for (i in 1:N)\n",
        "{\n",
        "  x <- sample(hospital$Dur_stay, size = 25, replace = TRUE)  # pick a bootstrap resample\n",
        "  boot.mean[i] <- mean(x)  # compute bootstrap sample mean\n",
        "}\n",
        "quantile(boot.mean,c(.025,.975))\n"
      ],
      "metadata": {
        "id": "b9EcyVWAy4P6",
        "colab": {
          "base_uri": "https://localhost:8080/",
          "height": 34
        },
        "outputId": "62f8631c-be0c-465b-8e4f-4565804b0d7b"
      },
      "execution_count": null,
      "outputs": [
        {
          "output_type": "display_data",
          "data": {
            "text/html": [
              "<style>\n",
              ".dl-inline {width: auto; margin:0; padding: 0}\n",
              ".dl-inline>dt, .dl-inline>dd {float: none; width: auto; display: inline-block}\n",
              ".dl-inline>dt::after {content: \":\\0020\"; padding-right: .5ex}\n",
              ".dl-inline>dt:not(:first-of-type) {padding-left: .5ex}\n",
              "</style><dl class=dl-inline><dt>2.5%</dt><dd>6.68</dd><dt>97.5%</dt><dd>11</dd></dl>\n"
            ],
            "text/markdown": "2.5%\n:   6.6897.5%\n:   11\n\n",
            "text/latex": "\\begin{description*}\n\\item[2.5\\textbackslash{}\\%] 6.68\n\\item[97.5\\textbackslash{}\\%] 11\n\\end{description*}\n",
            "text/plain": [
              " 2.5% 97.5% \n",
              " 6.68 11.00 "
            ]
          },
          "metadata": {}
        }
      ]
    },
    {
      "cell_type": "markdown",
      "source": [
        "## <a name=\"HW8q2d\">Question 2d</a>\n",
        "\n",
        "---\n",
        "\n",
        "Are the limits of the confidence interval you calculated in [Question 2c](#HW8q2c) symmetric with respect to the mean?  \n",
        "\n",
        "How do the confidence intervals compare using the parametric method in [Question 2a](#HW8q2a) and bootstrap method in [Question 2c](#HW8q2c)\n",
        "\n",
        "### Solution to Question 2d\n",
        "\n",
        "---\n",
        "\n",
        "The mean duration is 8.6 days.  The parametric CI is (6.24, 10.96) while the bootstrap CI is (6.68, 11).  The bootstrap interval is not symmetric with respect to the mean due to the fact that the distribution is right skewed.\n",
        "\n",
        "<br>\n",
        "\n"
      ],
      "metadata": {
        "id": "HHCls1E2y23G"
      }
    },
    {
      "cell_type": "markdown",
      "source": [
        "# <a name=\"HW8q3\">Question 3: Two sample test for proportions</a>\n",
        "\n",
        "---\n",
        "\n",
        "A study looked at the effects of Oral Contraceptive (OC) use on heart disease in women 40 to 44 years of age. The researchers found that among 5000 current OC users, 13 women developed a myocardial infarction (MI) over a 3-year period, whereas among 10,000 never-OC users, 7 developed an MI over a 3-year period.\n",
        "\n",
        "<br>\n",
        "\n",
        "\n"
      ],
      "metadata": {
        "id": "N_jihXs-iCNN"
      }
    },
    {
      "cell_type": "markdown",
      "source": [
        "## <a name=\"HW8q3a\">Question 3a</a>\n",
        "\n",
        "---\n",
        "\n",
        "Set up the hypothesis you will test, including a few sentence description.\n",
        "\n",
        "### Solution to Question 3a\n",
        "\n",
        "---\n",
        "\n",
        "$H_{0} : p_1 = p_2$\n",
        "\n",
        "$H_{1} : p_1 \\neq p_2$\n",
        "\n",
        "<br>\n",
        "\n",
        " $p_1$ is the proportion of women who develop MI who use OC and  $p_2$ is the proportion of women who develop MI who have never used OC.\n",
        "\n",
        " The null hypothesis states that the two proportions are the same.  The alternate hypothesis states that they are not equal.\n",
        "\n",
        "<br>\n",
        "\n"
      ],
      "metadata": {
        "id": "yOPxrlIp3aYY"
      }
    },
    {
      "cell_type": "markdown",
      "source": [
        "## <a name=\"HW8q3b\">Question 3b</a>\n",
        "\n",
        "---\n",
        "\n",
        "Estimate the standard error (SE) of the null hypothesis.\n",
        "\n",
        "### Solution to Question 3b\n",
        "\n",
        "---\n",
        "\n",
        "<br>\n",
        "Under the null hypothesis, there is no difference in the two proportions, so we can use the pooled proportion to give us a better estimate:\n",
        "\n",
        "$$\\mbox{sample pooled proportion} = \\hat{p}_p = \\frac{X_1 + X_2}{n_1 + n_2} = \\frac{13+7}{5000+10000} = \\frac{20}{15000} = 0.00133.$$\n",
        "\n",
        "The SE is given by:\n",
        "\n",
        "$$\\sqrt{{\\hat{p}_p}(1 -\\hat{p}_p)\\left( \\frac{1}{n_1} + \\frac{1}{n_2} \\right)} = \\sqrt{0.00133(1-0.00133)\\left( \\frac{1}{5000}+\\frac{1}{10,000} \\right)} = 6.32 \\mbox{x} 10^{-4}$$\n",
        "\n",
        "<br>\n",
        "<br>\n",
        "\n"
      ],
      "metadata": {
        "id": "Jgt__HF3-01K"
      }
    },
    {
      "cell_type": "code",
      "source": [
        "# code cell for Question 3b\n",
        "\n",
        "x.oc = 13\n",
        "n.oc = 5000\n",
        "\n",
        "x.nooc = 7\n",
        "n.nooc = 10000\n",
        "\n",
        "p_p = (x.oc+x.nooc)/(n.oc+n.nooc)\n",
        "p_p\n",
        "\n",
        "se = sqrt(p_p*(1-p_p)*(1/n.oc+1/n.nooc))\n",
        "se"
      ],
      "metadata": {
        "id": "0N_f9OLF_kn-",
        "colab": {
          "base_uri": "https://localhost:8080/",
          "height": 52
        },
        "outputId": "75fb7af4-a8a5-4796-fb72-f585eb6c990f"
      },
      "execution_count": null,
      "outputs": [
        {
          "output_type": "display_data",
          "data": {
            "text/html": [
              "0.00133333333333333"
            ],
            "text/markdown": "0.00133333333333333",
            "text/latex": "0.00133333333333333",
            "text/plain": [
              "[1] 0.001333333"
            ]
          },
          "metadata": {}
        },
        {
          "output_type": "display_data",
          "data": {
            "text/html": [
              "0.000632033754372871"
            ],
            "text/markdown": "0.000632033754372871",
            "text/latex": "0.000632033754372871",
            "text/plain": [
              "[1] 0.0006320338"
            ]
          },
          "metadata": {}
        }
      ]
    },
    {
      "cell_type": "markdown",
      "source": [
        "## <a name=\"HW8q3c\">Question 3c</a>\n",
        "\n",
        "---\n",
        "\n",
        "Based on your calculate of the standard error, use the parametric formula to find the z-score of the observed difference in sample proportions.\n",
        "\n",
        "### Solution to Question 3c\n",
        "\n",
        "---\n",
        "\n",
        "$$z = \\dfrac{(\\hat{p}_1 - \\hat{p}_2) - 0 }{\\sqrt {\\hat{p}_p(1 -\\hat{p}_p)\\left( \\frac{1}{n_1} + \\frac{1}{n_2} \\right)}} = \\dfrac{(13/5000 - 7/10,000) }{\\sqrt {0.00133(1 -0.00133)\\left( \\frac{1}{5000} + \\frac{1}{10,000} \\right)}} = 3.006.$$\n",
        "<br>\n",
        "<br>\n",
        "<br>\n",
        "\n"
      ],
      "metadata": {
        "id": "DCo7cH3h_Mxv"
      }
    },
    {
      "cell_type": "code",
      "source": [
        "#code cell for Question 3c\n",
        "\n",
        "(x.oc/n.oc-x.nooc/n.nooc)/sqrt(p_p*(1-p_p)*(1/n.oc+1/n.nooc))"
      ],
      "metadata": {
        "id": "4_qfr4m5_tqe",
        "colab": {
          "base_uri": "https://localhost:8080/",
          "height": 34
        },
        "outputId": "6ea8be4c-ff29-4a29-a701-73410f26f6f1"
      },
      "execution_count": null,
      "outputs": [
        {
          "output_type": "display_data",
          "data": {
            "text/html": [
              "3.00616855801516"
            ],
            "text/markdown": "3.00616855801516",
            "text/latex": "3.00616855801516",
            "text/plain": [
              "[1] 3.006169"
            ]
          },
          "metadata": {}
        }
      ]
    },
    {
      "cell_type": "markdown",
      "source": [
        "## <a name=\"HW8q3d\">Question 3d</a>\n",
        "\n",
        "---\n",
        "\n",
        "Calculate the p-value for your test.  What are your conclusions.\n",
        "\n",
        "<br>\n",
        "\n",
        "### Solution to Question 3d\n",
        "\n",
        "---\n",
        "\n",
        "From the code cell, the p-value is $p = 0.00265$.  We conclude that the proportion of women who develop MI is higher for those taking OC versus non-users.\n",
        "<br>\n",
        "\n"
      ],
      "metadata": {
        "id": "wVAXwAuL_OD1"
      }
    },
    {
      "cell_type": "code",
      "source": [
        "# code cell for Question 3d\n",
        "\n",
        "2*(1-pnorm(3.006))"
      ],
      "metadata": {
        "id": "-qIwZDbX-8UP",
        "colab": {
          "base_uri": "https://localhost:8080/",
          "height": 34
        },
        "outputId": "8f240dc4-d596-49ce-c7a8-1f620ca4d9b7"
      },
      "execution_count": null,
      "outputs": [
        {
          "output_type": "display_data",
          "data": {
            "text/html": [
              "0.00264708997779906"
            ],
            "text/markdown": "0.00264708997779906",
            "text/latex": "0.00264708997779906",
            "text/plain": [
              "[1] 0.00264709"
            ]
          },
          "metadata": {}
        }
      ]
    },
    {
      "cell_type": "markdown",
      "source": [
        "## <a name=\"HW8q3e\">Question 3e</a>\n",
        "\n",
        "---\n",
        "\n",
        "Redo parts (b-d) but now with applying the continuity correction.\n",
        "\n",
        "\n",
        "<br>\n",
        "\n",
        "### Solution to Question 3e\n",
        "\n",
        "---\n",
        "\n",
        "<br>\n",
        "\n",
        "(i) The SE of the null hypothesis with continuity correction is the same as in Question 3b.\n",
        "\n",
        "<br>\n",
        "\n",
        "(ii) Using the parametric formula **with continuity correction** the z-score of the observed difference in sample proportions is $z = 2.77$.\n",
        "\n",
        "\n",
        "<br>\n",
        "\n",
        "(iii) The p-value is $p = 0.00563$.\n",
        "\n",
        "<br>\n",
        "<br>\n",
        "\n"
      ],
      "metadata": {
        "id": "6-CkiKB6Ba4O"
      }
    },
    {
      "cell_type": "code",
      "source": [
        "# code cell for Question 3e\n",
        "\n",
        "x.oc.corr <- x.oc - 0.5\n",
        "x.nooc.corr <- x.nooc + 0.5\n",
        "\n",
        "p.oc.corr <- x.oc.corr / n.oc\n",
        "p.nooc.corr <- x.nooc.corr / n.nooc\n",
        "\n",
        "obs.diff.corr <- p.oc.corr - p.nooc.corr\n",
        "\n",
        "p.oc.corr\n",
        "p.nooc.corr\n",
        "obs.diff.corr\n",
        "\n",
        "z.corr <- (obs.diff.corr - 0) / se\n",
        "z.corr\n",
        "\n",
        "2*(1-pnorm(z.corr))\n",
        "\n",
        "#to double check the results\n",
        "\n",
        "prop.test(c(x.oc, x.nooc), c(n.oc, n.nooc), correct = FALSE)\n",
        "prop.test(c(x.oc, x.nooc), c(n.oc, n.nooc), correct = TRUE)\n",
        "\n",
        "\n"
      ],
      "metadata": {
        "id": "HnW6aH-JB-nQ",
        "colab": {
          "base_uri": "https://localhost:8080/",
          "height": 497
        },
        "outputId": "ad3096a9-ad90-4eb0-e822-c6a42d6b1d13"
      },
      "execution_count": null,
      "outputs": [
        {
          "output_type": "display_data",
          "data": {
            "text/html": [
              "0.0025"
            ],
            "text/markdown": "0.0025",
            "text/latex": "0.0025",
            "text/plain": [
              "[1] 0.0025"
            ]
          },
          "metadata": {}
        },
        {
          "output_type": "display_data",
          "data": {
            "text/html": [
              "0.00075"
            ],
            "text/markdown": "0.00075",
            "text/latex": "0.00075",
            "text/plain": [
              "[1] 0.00075"
            ]
          },
          "metadata": {}
        },
        {
          "output_type": "display_data",
          "data": {
            "text/html": [
              "0.00175"
            ],
            "text/markdown": "0.00175",
            "text/latex": "0.00175",
            "text/plain": [
              "[1] 0.00175"
            ]
          },
          "metadata": {}
        },
        {
          "output_type": "display_data",
          "data": {
            "text/html": [
              "2.76883946132975"
            ],
            "text/markdown": "2.76883946132975",
            "text/latex": "2.76883946132975",
            "text/plain": [
              "[1] 2.768839"
            ]
          },
          "metadata": {}
        },
        {
          "output_type": "display_data",
          "data": {
            "text/html": [
              "0.00562563473573841"
            ],
            "text/markdown": "0.00562563473573841",
            "text/latex": "0.00562563473573841",
            "text/plain": [
              "[1] 0.005625635"
            ]
          },
          "metadata": {}
        },
        {
          "output_type": "display_data",
          "data": {
            "text/plain": [
              "\n",
              "\t2-sample test for equality of proportions without continuity correction\n",
              "\n",
              "data:  c(x.oc, x.nooc) out of c(n.oc, n.nooc)\n",
              "X-squared = 9.037, df = 1, p-value = 0.002646\n",
              "alternative hypothesis: two.sided\n",
              "95 percent confidence interval:\n",
              " 0.0003963116 0.0034036884\n",
              "sample estimates:\n",
              "prop 1 prop 2 \n",
              "0.0026 0.0007 \n"
            ]
          },
          "metadata": {}
        },
        {
          "output_type": "display_data",
          "data": {
            "text/plain": [
              "\n",
              "\t2-sample test for equality of proportions with continuity correction\n",
              "\n",
              "data:  c(x.oc, x.nooc) out of c(n.oc, n.nooc)\n",
              "X-squared = 7.6665, df = 1, p-value = 0.005626\n",
              "alternative hypothesis: two.sided\n",
              "95 percent confidence interval:\n",
              " 0.0002463116 0.0035536884\n",
              "sample estimates:\n",
              "prop 1 prop 2 \n",
              "0.0026 0.0007 \n"
            ]
          },
          "metadata": {}
        }
      ]
    }
  ]
}