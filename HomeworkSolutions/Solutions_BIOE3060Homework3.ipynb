{
  "nbformat": 4,
  "nbformat_minor": 0,
  "metadata": {
    "colab": {
      "provenance": [],
      "include_colab_link": true
    },
    "kernelspec": {
      "name": "ir",
      "display_name": "R"
    },
    "language_info": {
      "name": "R"
    }
  },
  "cells": [
    {
      "cell_type": "markdown",
      "metadata": {
        "id": "view-in-github",
        "colab_type": "text"
      },
      "source": [
        "<a href=\"https://colab.research.google.com/github/gibsonea/Biostats/blob/main/HomeworkSolutions/Solutions_BIOE3060Homework3.ipynb\" target=\"_parent\"><img src=\"https://colab.research.google.com/assets/colab-badge.svg\" alt=\"Open In Colab\"/></a>"
      ]
    },
    {
      "cell_type": "markdown",
      "source": [
        "# Homework 3\n",
        "\n",
        "---"
      ],
      "metadata": {
        "id": "TLH2NCL-V8J_"
      }
    },
    {
      "cell_type": "markdown",
      "source": [
        "## <a name=\"HW1Inst\">Instructions:</a>\n",
        "---\n",
        "\n",
        "1. <font color=\"tomato\">Either click the COPY TO DRIVE button or use the menu File/Save/Save a Copy to save your own version of the notebook in your own folder in Google Drive.</font>\n",
        "\n",
        "  - If you do not have a Google account, you will need to create a Google account in order to create your own individual copy of this notebook.\n",
        "  - By default, the notebook will be saved in a folder named **Colab Notebooks** in your drive.\n",
        "  - Feel free to name and store the notebook wherever you like!\n",
        "\n",
        "2. <font color=\"mediumseagreen\">After you have copied the notebook into your Drive, you can begin editing and saving your work.</font>\n",
        "\n",
        "**Upload your completed assignment into Canvas as a Google Colab (or Jupyter) Notebook with file extension `.ipynb`.**\n",
        "\n",
        "Upload your file into the Homework 3 assignment in Canvas\n",
        "\n",
        "**You must provide supporting work for your all of your answers.**\n",
        "\n",
        "\n",
        "\n",
        "  - <font color=\"dodgerblue\">That work will include using R code cells.</font>\n",
        "    - **Feel free to insert as much R code as you like.**\n",
        "    - You must interpret or explain how the output of a code cell is being utilized to solve the problem.\n",
        "    - **Code with incomplete or missing explanations of why the output is useful may not receive full credit.**\n",
        "  - <font color=\"dodgerblue\">Your work will also involve writing explanations and justifications in text cells.</font>\n",
        "    - **Be sure to type/write out the steps of your work/explanation so I can see how you arrived at your answer.**\n",
        "\n",
        "    - **You can type supporting math equations and notation with LaTeX in text cells.**\n",
        "    - The LaTeX used in the Colab notebooks we cover in class provides great examples.\n",
        "    - Here's a helpful [LaTeX math symbol gallery](https://artofproblemsolving.com/wiki/index.php/LaTeX:Symbols).\n",
        "    - **Learning LaTeX is super useful and might even be enjoyable!**\n",
        "\n",
        "\n",
        "\n",
        "## Important Academic Policies:\n",
        "---\n",
        "\n",
        "- **Be your own work.** Though you may collaborate with others, everyone is responsible for writing up the work in their own way using their own methods. Plagiarism of any form is not tolerated.\n",
        "- **Be complete.** You must provide all work and/or explanations needed to find the solution. Answers with insufficient or incomplete supporting work may lose credit.\n",
        "- **Adhere to the Code of Academic Honesty.**\n",
        "- **Be clearly written (and legible if written).** Your solution to a problem must be clear, written in complete sentences. You may lose credit for work that is unclear or hard to follow.\n",
        "\n",
        "## <font color=\"dodgerblue\">Let me know if you need help, and **GOOD LUCK!!!**</font>\n",
        "\n",
        "----"
      ],
      "metadata": {
        "id": "HBtDTIXU_i9z"
      }
    },
    {
      "cell_type": "markdown",
      "source": [
        "# <a name=\"HW4Q1\">Question 1</a>\n",
        "\n",
        "------------------------------------------------------------------------\n",
        "\n",
        "A mail-order computer business has six telephone lines.\n",
        "Let $X$ denote the number of lines in use at a specified time.\n",
        "Suppose the probability distribution function (pdf) of $X$ is given in the accompanying table.\n",
        "\n",
        "| $x$      | 0      | 1      | 2      | 3      | 4      | 5      | 6      |\n",
        "|----------|--------|--------|--------|--------|--------|--------|--------|\n",
        "| $P(X=x)$ | $0.05$ | $0.15$ | $0.20$ | $0.30$ | $0.15$ | $0.10$ | $0.05$ |\n",
        "\n"
      ],
      "metadata": {
        "id": "98K9ywuDajLT"
      }
    },
    {
      "cell_type": "markdown",
      "source": [
        "## <a name=\"HW4Q1a\">Question 1a</a>\n",
        "\n",
        "------------------------------------------------------------------------\n",
        "What are the values of the cumulative distribution function, F(x).\n",
        "\n",
        "<br>\n",
        "\n",
        "### Solution to Question 1a\n",
        "\n",
        "------------------------------------------------------------------------\n",
        "\n",
        "| $x$      | 0      | 1      | 2      | 3      | 4      | 5      | 6      |\n",
        "|----------|--------|--------|--------|--------|--------|--------|--------|\n",
        "| $P(X=x)$ | $0.05$ | $0.15$ | $0.20$ | $0.30$ | $0.15$ | $0.10$ | $0.05$ |\n",
        "| $F(x)$   | $0.05$ | $0.20$ | $0.40$ | $0.70$ | $0.85$ | $0.95$ | $1.0$ |\n",
        "\n",
        "\n",
        "<br>\n",
        "\n",
        "$F(0) = P(X\\le0) = 0.05$\n",
        "\n",
        "$F(1) = P(X\\le1) = 0.05 + 0.15 = 0.20$\n",
        "\n",
        "$F(2) = P(X\\le2) = 0.05 + 0.15 + 0.20 = 0.40$\n",
        "\n",
        "$F(3) = P(X\\le3) = 0.05 + 0.15 + 0.20 + 0.30 = 0.70$\n",
        "\n",
        "$F(4) = P(X\\le4) = 0.05 + 0.15 + 0.20 + 0.30 + 0.15 = 0.85$\n",
        "\n",
        "$F(5) = P(X\\le5) = 0.05 + 0.15 + 0.20 + 0.30 + 0.15 +0.10 = 0.95$\n",
        "\n",
        "$F(6) = P(X\\le6) = 0.05 + 0.15 + 0.20 + 0.30 + 0.15 +0.10 + 0.05 = 1.0$\n"
      ],
      "metadata": {
        "id": "QMV-cyUbkDE5"
      }
    },
    {
      "cell_type": "markdown",
      "source": [
        "## <a name=\"HW4Q1b\">Question 1b</a>\n",
        "\n",
        "------------------------------------------------------------------------\n",
        "\n",
        "Calculate the probability that:\n",
        "\n",
        "<br>\n",
        "\n",
        "i.  At most three lines are in use.\n",
        "\n",
        "<br>\n",
        "\n",
        "ii. Fewer than three lines are in use.\n",
        "\n",
        "<br>\n",
        "\n",
        "iii. At least three lines are NOT in use.\n",
        "\n",
        "<br>\n",
        "\n",
        "### Solution to Question 1b\n",
        "\n",
        "------------------------------------------------------------------------\n",
        "\n",
        "Provide supporting work along with each answer.\n",
        "\n",
        "<br>\n",
        "\n",
        "i. $P(X \\leq 3)=0.05 + 0.15 +0.20 + 0.30 = 0.7$\n",
        "\n",
        "<br>\n",
        "\n",
        "\n",
        "ii. $P(X < 3)=0.05 + 0.15 + 0.20 = 0.4$\n",
        "\n",
        "<br>\n",
        "\n",
        "\n",
        "iii. We have:\n",
        "\n",
        "- If 3 lines are not in use, $X=3$.\n",
        "- If 4 lines are not in use, $X=2$.\n",
        "- If 5 lines are not in use, $X=1$.\n",
        "- If 6 lines are not in use, $X=0$.\n",
        "\n",
        "$$P(\\mbox{At most 3 NOT in use}) = P(X \\leq 3) = 0.05 + 0.15 +0.20 + 0.30 = 0.7$$\n",
        "\n",
        "<br>\n",
        "\n"
      ],
      "metadata": {
        "id": "KOZg8ScUcnv_"
      }
    },
    {
      "cell_type": "markdown",
      "source": [
        "## <a name=\"HW4Q1c\">Question 1c</a>\n",
        "\n",
        "------------------------------------------------------------------------\n",
        "\n",
        "Calculate the expected value, $E(X)=\\mu$, of $X$.\n",
        "\n",
        "<br>\n",
        "\n",
        "### Solution to Question 1c\n",
        "\n",
        "------------------------------------------------------------------------\n",
        "\n",
        "<br>  \n",
        "\n",
        "Provide supporting work along with your answer.\n",
        "\n",
        "<br>  \n",
        "\n",
        "$$E(X) = 0(0.05) + 1(0.15) + 2(0.20) + 3(0.30) + 4(0.15) + 5(0.10) + 6(0.05) = 2.85 \\mbox{ lines in use}$$\n",
        "\n",
        "<br>  \n"
      ],
      "metadata": {
        "id": "d024BHcHcmnt"
      }
    },
    {
      "cell_type": "code",
      "source": [
        "x <- c(0, 1, 2, 3, 4, 5, 6)\n",
        "px <- c(0.05, 0.15, 0.2, 0.3, 0.15, 0.1, 0.05)\n",
        "\n",
        "mu.x <- sum(x*px)\n",
        "#mu.x <- 0*0.05 + 1*0.15 + 2*0.2 + 3*0.3 + 4*0.15 + 5*0.1 + 6 *0.05 # Alternative method\n",
        "mu.x"
      ],
      "metadata": {
        "colab": {
          "base_uri": "https://localhost:8080/",
          "height": 34
        },
        "id": "u7hKITvMYrLS",
        "outputId": "9ac2fc03-79f7-40a0-9708-c2dbd3e3789d"
      },
      "execution_count": null,
      "outputs": [
        {
          "output_type": "display_data",
          "data": {
            "text/html": [
              "2.85"
            ],
            "text/markdown": "2.85",
            "text/latex": "2.85",
            "text/plain": [
              "[1] 2.85"
            ]
          },
          "metadata": {}
        }
      ]
    },
    {
      "cell_type": "markdown",
      "source": [
        "## <a name=\"HW4Q1d\">Question 1d</a>\n",
        "\n",
        "------------------------------------------------------------------------\n",
        "\n",
        "Calculate the variance, $\\mbox{Var}(X)=\\sigma^2$, of $X$.\n",
        "\n",
        "<br>\n",
        "\n",
        "### Solution to Question 1d\n",
        "\n",
        "------------------------------------------------------------------------\n",
        "\n",
        "<br>  \n",
        "\n",
        "Provide supporting work along with your answer.\n",
        "\n",
        "<br>  \n",
        "\n",
        "\n",
        "We have $E(X^2) = 0^2(0.05) + 1^2(0.15) + \\ldots + 6^2(0.05) = 10.35$\n",
        "\n",
        "\n",
        "\n",
        "Thus, we have $\\mbox{Var}(X) = E(X^2) - \\big( E(X) \\big)^2 = 10.35 - (2.85)^2 = 2.2275$.\n",
        "<br>  \n"
      ],
      "metadata": {
        "id": "Ts0USMs-cljF"
      }
    },
    {
      "cell_type": "code",
      "source": [
        "# using definition\n",
        "var.x.def <- sum( (x-mu.x)^2*px )  # with vectors\n",
        "# messy way below\n",
        "#var.x.def <- (0-mu.x)^2*0.05 + (1-mu.x)^2*0.15 + (2-mu.x)^2*0.2 + (3-mu.x)^2*0.3 + (4-mu.x)^2*0.15 + (5-mu.x)^2*0.1 + (6-mu.x)^2 *0.05\n",
        "var.x.def"
      ],
      "metadata": {
        "colab": {
          "base_uri": "https://localhost:8080/",
          "height": 34
        },
        "id": "twEg_TigboeC",
        "outputId": "0daf2eeb-0eab-49b2-c3e0-62b71bffd561"
      },
      "execution_count": null,
      "outputs": [
        {
          "output_type": "display_data",
          "data": {
            "text/html": [
              "2.2275"
            ],
            "text/markdown": "2.2275",
            "text/latex": "2.2275",
            "text/plain": [
              "[1] 2.2275"
            ]
          },
          "metadata": {}
        }
      ]
    },
    {
      "cell_type": "markdown",
      "source": [
        "# <a name=\"HW4Q2\">Question 2</a>\n",
        "\n",
        "------------------------------------------------------------------------\n",
        "\n",
        "The prevalence of the flu in Colorado is 5%.\n",
        "\n",
        "(i)\tSuppose 6 out of 15 students in a class come down with the flu.  What is the probability of this occuring?  What is the probability of 6 or more students having the flu?  \n",
        "\n",
        "   \n",
        "<br>\n",
        "\n",
        "(ii)  What is the expected number of students that would have the flu in a class of 50?\n",
        "\n",
        "\n",
        "<br>\n",
        "\n",
        "\n",
        "\n",
        "## Solution to Question 2\n",
        "\n",
        "------------------------------------------------------------------------\n",
        "\n",
        "<br>  \n",
        "\n",
        "Provide supporting work along with your answer.\n",
        "\n",
        "<br>  \n",
        "\n",
        "We will use the binomial distribution to answer this with parameters p = 0.05 and n = 15.\n",
        "\n",
        "$$p(x; n, p) = \\begin{array}{ll} \\left( \\begin{array}{c} n\\\\ x \\end{array} \\right) p^x(1-p)^{n-x} \\ \\ & \\mbox{for } x =0,1,2, \\ldots , n\\\\     \\end{array} .$$\n",
        "\n",
        "(i)\n",
        "\n",
        "<br>\n",
        "\n",
        "Probability of exactly 6 students having the flu is:\n",
        "$$p(X=6; 15, 0.05) = \\begin{array}{ll} \\left( \\begin{array}{c} 15\\\\ 6 \\end{array} \\right) 0.05^6(1-0.05)^{15-6} \\end{array} =  4.93 × 10^{-5}. $$\n",
        "\n",
        "<br>\n",
        "\n",
        "Probability of 6 or more students having the flu is:\n",
        "\n",
        "$$p(X\\ge6) = 1 - p(X\\le5) = 1 - F(5) = 5.28 \\times 10^{-5}. $$\n",
        "\n",
        "(ii)\n",
        "\n",
        "<br>\n",
        "\n",
        "The expected value is:\n",
        "\n",
        "$$E(x) = n \\times p = 0.75$$.\n",
        "<br>"
      ],
      "metadata": {
        "id": "4sWJSe-LamIe"
      }
    },
    {
      "cell_type": "code",
      "source": [
        "dbinom(6, 15, 0.05)  # to calculate P(X=6)\n",
        "\n",
        "1 - pbinom(5, 15, 0.05) # to calculate 1 - F(5)"
      ],
      "metadata": {
        "colab": {
          "base_uri": "https://localhost:8080/",
          "height": 52
        },
        "id": "Eew1h8mG39qO",
        "outputId": "632d0c4f-74bb-44a8-d010-2723420af011"
      },
      "execution_count": null,
      "outputs": [
        {
          "output_type": "display_data",
          "data": {
            "text/html": [
              "4.928747336987e-05"
            ],
            "text/markdown": "4.928747336987e-05",
            "text/latex": "4.928747336987e-05",
            "text/plain": [
              "[1] 4.928747e-05"
            ]
          },
          "metadata": {}
        },
        {
          "output_type": "display_data",
          "data": {
            "text/html": [
              "5.28056732665982e-05"
            ],
            "text/markdown": "5.28056732665982e-05",
            "text/latex": "5.28056732665982e-05",
            "text/plain": [
              "[1] 5.280567e-05"
            ]
          },
          "metadata": {}
        }
      ]
    },
    {
      "cell_type": "code",
      "source": [
        "#expected number of students\n",
        "\n",
        "x = 0:15\n",
        "px = dbinom(x,15,0.05)\n",
        "\n",
        "mu.x = sum(x*px)\n",
        "mu.x\n",
        "\n",
        "# For the binomial distribution we can also use the simplified expression E(X) = n*p\n",
        "\n",
        "15*0.05"
      ],
      "metadata": {
        "colab": {
          "base_uri": "https://localhost:8080/",
          "height": 52
        },
        "id": "K-c4wQij52oK",
        "outputId": "ecec6a41-bfe9-4c30-f3c7-50729afa5420"
      },
      "execution_count": null,
      "outputs": [
        {
          "output_type": "display_data",
          "data": {
            "text/html": [
              "0.75"
            ],
            "text/markdown": "0.75",
            "text/latex": "0.75",
            "text/plain": [
              "[1] 0.75"
            ]
          },
          "metadata": {}
        },
        {
          "output_type": "display_data",
          "data": {
            "text/html": [
              "0.75"
            ],
            "text/markdown": "0.75",
            "text/latex": "0.75",
            "text/plain": [
              "[1] 0.75"
            ]
          },
          "metadata": {}
        }
      ]
    },
    {
      "cell_type": "markdown",
      "source": [
        "# <a name=\"HW3Q3\">Question 3</a>\n",
        "\n",
        "---\n",
        "\n",
        "Are there more heart attacks during an earthquake?  A study looked at the incidence of cardiac deaths attributable to the earthquake in Los Angeles County on January 17, 1994. In the week before the earthquake, there were an average of 15.6 cardiac deaths per day in Los Angeles County. On the day of the earthquake, there were 51 cardiac deaths.\n",
        "\n",
        "<br>\n",
        "\n",
        "\n"
      ],
      "metadata": {
        "id": "BqPFJXUUWdOR"
      }
    },
    {
      "cell_type": "markdown",
      "source": [
        "## <a name=\"HW4Q3a\">Question 3a</a>\n",
        "\n",
        "------------------------------------------------------------------------\n",
        "\n",
        "Create a plot below of the probability mass function for the number of cardiac deaths on a typical day.  Make sure to include labels.\n",
        "\n",
        "<br>\n",
        "\n",
        "### Solution to Question 3a\n",
        "\n",
        "------------------------------------------------------------------------\n",
        "\n",
        "<br>  \n",
        "\n",
        "We will use the poisson distribution to answer this question.\n",
        "\n",
        "<br>  "
      ],
      "metadata": {
        "id": "4EKcvjOybZU_"
      }
    },
    {
      "cell_type": "code",
      "source": [
        "?barplot"
      ],
      "metadata": {
        "id": "z2UChcYirHuS"
      },
      "execution_count": null,
      "outputs": []
    },
    {
      "cell_type": "code",
      "source": [
        "#use this code cell to create the plot\n",
        "\n",
        "x <- 0:50  # creates vector of possible occurrences\n",
        "lam <- 15.6  # on average 5 occurrence per time period\n",
        "\n",
        "barplot(dpois(x, lam),names.arg=x,\n",
        "xlab = \"Number of cardiac deaths\", ylab = \"Probability\",\n",
        "\n",
        "     cex.lab=1.5, cex.axis=1.5, cex.main=1.5)  # increase font size on labels\n",
        "\n"
      ],
      "metadata": {
        "id": "onI9sDQNWdOb",
        "colab": {
          "base_uri": "https://localhost:8080/",
          "height": 437
        },
        "outputId": "b3624876-2c95-4a25-bb52-2b4910b3340b"
      },
      "execution_count": null,
      "outputs": [
        {
          "output_type": "display_data",
          "data": {
            "text/plain": [
              "plot without title"
            ],
            "image/png": "[encoded data removed]"
          },
          "metadata": {
            "image/png": {
              "width": 420,
              "height": 420
            }
          }
        }
      ]
    },
    {
      "cell_type": "markdown",
      "source": [
        "\n",
        "## <a name=\"HW3Q3b\">Question 3b</a>\n",
        "\n",
        "---\n",
        "\n",
        "(i) What is the probability of exactly 51 deaths occuring on a given day?\n",
        "\n",
        "\n",
        "<br>\n",
        "\n",
        "(ii) What is the probability of 51 or more deaths occuring?\n",
        "\n",
        "\n",
        "\n",
        "<br>\n",
        "\n",
        "\n",
        "(iii) What is the highest number of deaths in one day that would be considered unusual?\n",
        "\n",
        "<br>\n",
        "\n",
        "\n",
        "\n",
        "(iv) What would you conclude from this study?\n",
        "\n",
        "<br>\n",
        "\n",
        "<br>\n"
      ],
      "metadata": {
        "id": "hDQSxcuCWdOc"
      }
    },
    {
      "cell_type": "markdown",
      "source": [
        "\n",
        "### Solution to Question 3b\n",
        "\n",
        "---\n",
        "\n",
        "Be sure to provide all supporting work.\n",
        "\n",
        "<br>\n",
        "\n",
        "(i) What is the probability of exactly 51 deaths occuring on a given day?\n",
        "\n",
        "<br>\n",
        "\n",
        "$$P(X=51) = 7.65 \\times 10^{-13}$$\n",
        "\n",
        "<br>\n",
        "\n",
        "(ii) What is the probability of 51 or more deaths occuring?\n",
        "\n",
        "<br>  \n",
        "\n",
        "$$P(X\\ge51) = 1.09 \\times 10^{-12} $$\n",
        "\n",
        "<br>\n",
        "\n",
        "\n",
        "(iii) What is the highest number of deaths in one day that would be considered unusual?\n",
        "\n",
        "<br>\n",
        "\n",
        "We are asked what is considered unusual.  This is looking at what values of x would be considered \"outliers\".  Similar to looking at experimental samples where the outliers for a continuous variable are where the value is greater than 1.5 * interquartile range (75th - 25th percentile).  In the case of probability distributions, we want to find the random variable that is the 95th percentile because anything above that would be \"unusual\" or outside the range that covers 95% of the probability.\n",
        "\n",
        "So we want to find x where F(x) = P(X<= x) = 0.95.\n",
        "\n",
        "Since x is a discrete variable, we might not find a value for x that is exactly 0.95, but want to find x where F(x) is 0.95 or more.  We can solve this manually by plugging in different values of x into ppois(x,lamda) until it falls below 0.95.  Another way to do this more easily is to use `qpoiss(q, lamda)` to find the q<sup>th</sup> percentile of $X $.  In either case you should get x = 22.\n",
        "\n",
        "<br>\n",
        "\n",
        "(iv) What would you conclude from this study?\n",
        "\n",
        "<br>\n",
        "\n",
        "Because 51 is greater than 22, we conclude that 51 deaths per day is an unusual event.\n",
        "\n",
        "We could further compute $P(X\\ge51)$ and find this is a very small number, $1.1 \\times 10^{-12} !!$   $ \\space $ Stated another way, the risk of cardiac death on the day of the earthquake was significantly elevated relative to the baseline cardiac death rate in the week prior to the earthquake.\n",
        "\n",
        "<br>\n",
        "<br>\n"
      ],
      "metadata": {
        "id": "COwwPWWIWdOc"
      }
    },
    {
      "cell_type": "code",
      "source": [
        "?dpois # in case you need to check the order of the arguments"
      ],
      "metadata": {
        "id": "QbFbQ4hx5zEd"
      },
      "execution_count": null,
      "outputs": []
    },
    {
      "cell_type": "code",
      "source": [
        "#code cell for calculations if needed\n",
        "\n",
        "dpois(51,lam) # to calculate p(X=51)\n",
        "\n",
        "1 - ppois(50,lam) # to calculate 1 - F(50)\n",
        "\n",
        "# Manually calculating the cumulative distribution for different values of x\n",
        "\n",
        "ppois(20,lam)\n",
        "ppois(21, lam)\n",
        "ppois(22,lam) # x = 22 is value that is above 0.95\n",
        "\n",
        "qpois(0.95,lam) # easier way to solve this question\n",
        "\n",
        "1 - ppois(50,lam)"
      ],
      "metadata": {
        "id": "7oaiTH3GfRRl",
        "colab": {
          "base_uri": "https://localhost:8080/",
          "height": 139
        },
        "outputId": "c42fbcac-0bbf-4ca5-a2d4-9978eecfc0bf"
      },
      "execution_count": null,
      "outputs": [
        {
          "output_type": "display_data",
          "data": {
            "text/html": [
              "7.65095327705856e-13"
            ],
            "text/markdown": "7.65095327705856e-13",
            "text/latex": "7.65095327705856e-13",
            "text/plain": [
              "[1] 7.650953e-13"
            ]
          },
          "metadata": {}
        },
        {
          "output_type": "display_data",
          "data": {
            "text/html": [
              "1.0893508317622e-12"
            ],
            "text/markdown": "1.0893508317622e-12",
            "text/latex": "1.0893508317622e-12",
            "text/plain": [
              "[1] 1.089351e-12"
            ]
          },
          "metadata": {}
        },
        {
          "output_type": "display_data",
          "data": {
            "text/html": [
              "0.889410108544206"
            ],
            "text/markdown": "0.889410108544206",
            "text/latex": "0.889410108544206",
            "text/plain": [
              "[1] 0.8894101"
            ]
          },
          "metadata": {}
        },
        {
          "output_type": "display_data",
          "data": {
            "text/html": [
              "0.926759087718852"
            ],
            "text/markdown": "0.926759087718852",
            "text/latex": "0.926759087718852",
            "text/plain": [
              "[1] 0.9267591"
            ]
          },
          "metadata": {}
        },
        {
          "output_type": "display_data",
          "data": {
            "text/html": [
              "0.953242909315419"
            ],
            "text/markdown": "0.953242909315419",
            "text/latex": "0.953242909315419",
            "text/plain": [
              "[1] 0.9532429"
            ]
          },
          "metadata": {}
        },
        {
          "output_type": "display_data",
          "data": {
            "text/html": [
              "22"
            ],
            "text/markdown": "22",
            "text/latex": "22",
            "text/plain": [
              "[1] 22"
            ]
          },
          "metadata": {}
        },
        {
          "output_type": "display_data",
          "data": {
            "text/html": [
              "1.0893508317622e-12"
            ],
            "text/markdown": "1.0893508317622e-12",
            "text/latex": "1.0893508317622e-12",
            "text/plain": [
              "[1] 1.089351e-12"
            ]
          },
          "metadata": {}
        }
      ]
    },
    {
      "cell_type": "markdown",
      "source": [
        "# <a name=\"HW3Q4\">Question 4</a>\n",
        "\n",
        "---\n",
        "\n",
        "Let $X$ denote the amount of time (in hours) that a car remains parked after paying a parking meter for a maximum of 2 hours.\n",
        "For example $x=0.5$ means a car was parked for a half-hour and then left.\n",
        "$x=2$ means a car uses the spot for the full 2 hours.\n",
        "The cumulative distribution function (cdf) for $X$ is:\n",
        "\n",
        "$$F(x) = \\left\\{\n",
        "  \\begin{array}{ll}\n",
        "   0  \\ \\ & x < 0 \\\\\n",
        "   \\frac{x^2}{4} & 0 \\leq x < 2 \\\\\n",
        "   1 & x \\geq 2\n",
        "  \\end{array} \\right. .$$\n",
        "\n"
      ],
      "metadata": {
        "id": "fwGFrsisWdOd"
      }
    },
    {
      "cell_type": "markdown",
      "source": [
        "## <a name=\"HW3Q4a\">Question 4a</a>\n",
        "\n",
        "---\n",
        "\n",
        "Compute $P(X < 1)$. Show your supporting work below.\n",
        "\n",
        "<br>  \n",
        "\n",
        "### Solution to Question 4a\n",
        "\n",
        "---\n",
        "\n",
        "Be sure to provide all supporting work.\n",
        "\n",
        "<br>\n",
        "\n",
        "Using the cdf, we have\n",
        "\n",
        "$$P(X < 1) = F(1) = \\frac{1}{4} = 0.25.$$\n",
        "\n",
        "<br>  \n",
        "\n",
        "\n"
      ],
      "metadata": {
        "id": "fLilVzYLHrqr"
      }
    },
    {
      "cell_type": "markdown",
      "source": [
        "## <a name=\"HW3Q4b\">Question 4b</a>\n",
        "\n",
        "---\n",
        "\n",
        "Compute $P(0.5 \\leq X \\leq 1)$.\n",
        "Show your supporting work below.\n",
        "\n",
        "<br>  \n",
        "\n",
        "### Solution to Question 4b\n",
        "\n",
        "---\n",
        "\n",
        "Be sure to provide all supporting work.\n",
        "\n",
        "<br>\n",
        "\n",
        "Using the cdf, we have\n",
        "\n",
        "$$P(0.5 \\leq X \\leq 1) = F(1) - F(0.5) =  0.25 - 0.0625 = 0.1875.$$\n",
        "\n",
        "<br>  \n",
        "\n",
        "\n",
        "\n"
      ],
      "metadata": {
        "id": "CsA1G8jTIXZg"
      }
    },
    {
      "cell_type": "code",
      "source": [
        "1^2 / 4 - 0.5^2/4"
      ],
      "metadata": {
        "colab": {
          "base_uri": "https://localhost:8080/",
          "height": 34
        },
        "id": "5CPv4Jl-Fqo0",
        "outputId": "0bfff4d2-f90b-46cf-9e46-4309f05d216a"
      },
      "execution_count": null,
      "outputs": [
        {
          "output_type": "display_data",
          "data": {
            "text/html": [
              "0.1875"
            ],
            "text/markdown": "0.1875",
            "text/latex": "0.1875",
            "text/plain": [
              "[1] 0.1875"
            ]
          },
          "metadata": {}
        }
      ]
    },
    {
      "cell_type": "markdown",
      "source": [
        "## <a name=\"HW3Q4c\">Question 4c</a>\n",
        "\n",
        "---\n",
        "\n",
        "Compute $P(X > 1.5)$.\n",
        "Show your supporting work below.\n",
        "\n",
        "<br>  \n",
        "\n",
        "### Solution to Question 4c\n",
        "\n",
        "---\n",
        "\n",
        "Be sure to provide all supporting work.\n",
        "\n",
        "\n",
        "<br>  \n",
        "\n",
        "Using the cdf, we have\n",
        "\n",
        "$$P(X > 1.5) = 1 - P(X \\leq 1.5) = 1 - F(1.5)=  1 - \\frac{(1.5)^2}{4} = 0.4375.$$\n",
        "\n",
        "<br>  \n",
        "\n",
        "\n"
      ],
      "metadata": {
        "id": "i0hXH2CXIWBq"
      }
    },
    {
      "cell_type": "markdown",
      "source": [
        "## <a name=\"HW3Q4d\">Question 4d</a>\n",
        "\n",
        "---\n",
        "\n",
        "Give a formula for $f(x)$, the probability distribution function (pdf) of $X$.\n",
        "Show your supporting work below.\n",
        "\n",
        "<br>  \n",
        "\n",
        "### Solution to Question 4d\n",
        "\n",
        "---\n",
        "\n",
        "Be sure to provide all supporting work.\n",
        "\n",
        "<br>  \n",
        "\n",
        "We have\n",
        "\n",
        "$$f(x) = \\frac{d}{dx} F(x) = \\frac{d}{dx} \\left( \\frac{x^2}{4} \\right) = \\frac{x}{2} \\quad \\mbox{for } 0 \\leq x \\leq 2.$$\n",
        "\n",
        "<br>  \n",
        "\n",
        "or\n",
        "\n",
        "<br>\n",
        "\n",
        "\n",
        "$$f(x) = \\left\\{ \\begin{array}{ll}\n",
        "\\dfrac{x}{2} & 0 \\leq x \\leq 2 \\\\\n",
        "0 & \\mbox{ otherwise}\n",
        "\\end{array} \\right.$$\n",
        "\n",
        "<br>  "
      ],
      "metadata": {
        "id": "pTmmd9IpIUiA"
      }
    },
    {
      "cell_type": "markdown",
      "source": [
        "\n",
        "## <a name=\"HW3Q4e\">Question 4e</a>\n",
        "\n",
        "---\n",
        "\n",
        "Calculate the value of $E(X)$.\n",
        "Show your work.\n",
        "\n",
        "<br>   \n",
        "\n",
        "### Solution to Question 4e\n",
        "\n",
        "---\n",
        "\n",
        "\n",
        "Be sure to provide all supporting work for how you calculated $E(X)$.\n",
        "\n",
        "\n",
        "<br>  \n",
        "\n",
        "The expected value of a continuous random variable is $E(X) = \\int_{\\infty}^{-\\infty} x f(x) \\, dx$. We first find the pdf $f(x)$:\n",
        "\n",
        "$$f(x) = \\frac{d}{dx} \\bigg( F(x) \\bigg) = \\frac{d}{dx} \\left( \\frac{x^2}{4} \\right) = \\frac{x}{2}.$$\n",
        "\n",
        "Thus, we have\n",
        "\n",
        "$$f(x) = \\left\\{ \\begin{array}{ll}\n",
        "\\frac{x}{2} & 0 \\leq x \\leq 2 \\\\\n",
        "0 & \\mbox{otherwise}\n",
        "\\end{array} \\right.$$\n",
        "\n",
        "Now we set up and evaluate the definite integral below to compute $E(X)$:\n",
        "\n",
        "$$E(X) = \\int_0^2 \\bigg( x \\cdot \\frac{x}{2} \\bigg) \\, dx = \\int_0^2 \\frac{x^2}{2} \\, dx = \\frac{4}{3}$$\n",
        "\n",
        "<br>  \n"
      ],
      "metadata": {
        "id": "0uqvVTYuja3H"
      }
    }
  ]
}