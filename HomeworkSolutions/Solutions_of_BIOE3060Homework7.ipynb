{
  "nbformat": 4,
  "nbformat_minor": 0,
  "metadata": {
    "colab": {
      "provenance": [],
      "include_colab_link": true
    },
    "kernelspec": {
      "name": "ir",
      "display_name": "R"
    },
    "language_info": {
      "name": "R"
    }
  },
  "cells": [
    {
      "cell_type": "markdown",
      "metadata": {
        "id": "view-in-github",
        "colab_type": "text"
      },
      "source": [
        "<a href=\"https://colab.research.google.com/github/gibsonea/Biostats/blob/main/HomeworkSolutions/Solutions_of_BIOE3060Homework7.ipynb\" target=\"_parent\"><img src=\"https://colab.research.google.com/assets/colab-badge.svg\" alt=\"Open In Colab\"/></a>"
      ]
    },
    {
      "cell_type": "markdown",
      "source": [
        "# Solutions Homework 7\n",
        "\n",
        "---"
      ],
      "metadata": {
        "id": "Mt6hH5YHtfRp"
      }
    },
    {
      "cell_type": "markdown",
      "source": [
        "# <a name=\"HW8q1\">Question 1</a>\n",
        "\n",
        "---\n",
        "\n",
        "Consider the sample of three values $\\left\\{ 2, 35, 110 \\right\\}$ and answer the questions below.\n",
        "\n",
        "<br>\n",
        "\n",
        "<font color=\"dodgerblue\">*Note: There are no R code cells needed to answer parts (b) and (c). Since there are a small number of bootstrap resamples, use your table in part (a) to answer parts (b) and (c).*</font>\n",
        "\n"
      ],
      "metadata": {
        "id": "i0PaAD5WgFx9"
      }
    },
    {
      "cell_type": "markdown",
      "source": [
        "## <a name=\"HW8q1a\">Question 1a</a>\n",
        "\n",
        "---\n",
        "\n",
        "Write out all possible bootstrap samples.\n",
        "You should ignore the ordering. For example a bootstrap sample of *2, 2, 110* as the same as *2, 110, 2*, so you should not list both. **Then, for each sample, compute the sample mean and the maximum value of the bootstrap resample.**\n",
        "\n",
        "<br>\n",
        "\n",
        "### Solution to Question 1a\n",
        "\n",
        "---\n",
        "\n",
        "<br>\n",
        "\n",
        "Enter all bootstrap resamples in the code cell below. Then run to compute and display the mean and maximum of each bootstrap resample.\n",
        "\n",
        "<br>\n",
        "\n",
        "<font color=\"mediumseagreen\">*Hint: There are exactly 10 distinct bootstrap samples.*</font>\n"
      ],
      "metadata": {
        "id": "22H2NMxVhzvm"
      }
    },
    {
      "cell_type": "code",
      "source": [
        "# store each bootstrap resample and statistics\n",
        "boot.tbl = matrix(, nrow = 10, ncol = 5)  # create 10 by 5 matrix\n",
        "\n",
        "############################################################################\n",
        "# To-Do: Enter each bootstrap resample in first three entries\n",
        "# Note: Last two values are 0 as place holders for mean and max of sample\n",
        "############################################################################\n",
        "boot.tbl[1, ] <- c(2, 35, 110, 0, 0)  # original sample = bootstrap resample 1\n",
        "boot.tbl[2, ] <- c(2, 2, 2, 0, 0)  # bootstrap resample 2 = row 2\n",
        "boot.tbl[3, ] <- c(35 , 35  , 35, 0, 0)  # bootstrap resample 3 = row 3\n",
        "boot.tbl[4, ] <- c(110 , 110 , 110, 0, 0)  # bootstrap resample 4 = row 4\n",
        "boot.tbl[5, ] <- c(2 , 35 , 35, 0, 0)  # bootstrap resample 5 = row 5\n",
        "boot.tbl[6, ] <- c(2 ,110  , 110, 0, 0)  # bootstrap resample 6 = row 6\n",
        "boot.tbl[7, ] <- c(2 ,2  , 35, 0, 0)  # bootstrap resample 7 = row 7\n",
        "boot.tbl[8, ] <- c(2 , 2 , 110, 0, 0)  # bootstrap resample 8 = row 8\n",
        "boot.tbl[9, ] <- c(35 , 35 , 110, 0, 0)  # bootstrap resample 9 = row 9\n",
        "boot.tbl[10, ] <- c( 35, 110 , 110, 0, 0)  # bootstrap resample 10 = row 10\n",
        "\n",
        "\n",
        "# calculate mean and max of each bootstrap resample\n",
        "for (i in 1:10)\n",
        "{\n",
        "  boot.tbl[i, 4] <- mean(boot.tbl[i, 1:3])  # sample mean\n",
        "  boot.tbl[i, 5] <- max(boot.tbl[i, 1:3])  # sample max\n",
        "}\n",
        "\n",
        "# columns name\n",
        "colnames(boot.tbl) <- c(\" \", \" \", \" \", \"Sample Mean\", \"Sample Max\")\n",
        "\n",
        "boot.tbl  # print summary"
      ],
      "metadata": {
        "colab": {
          "base_uri": "https://localhost:8080/",
          "height": 380
        },
        "id": "qlm357gRjsou",
        "outputId": "e134efd2-2f2c-4d73-f3ee-67c48b5f8e99"
      },
      "execution_count": null,
      "outputs": [
        {
          "output_type": "display_data",
          "data": {
            "text/html": [
              "<table class=\"dataframe\">\n",
              "<caption>A matrix: 10 × 5 of type dbl</caption>\n",
              "<thead>\n",
              "\t<tr><th scope=col> </th><th scope=col> </th><th scope=col> </th><th scope=col>Sample Mean</th><th scope=col>Sample Max</th></tr>\n",
              "</thead>\n",
              "<tbody>\n",
              "\t<tr><td>  2</td><td> 35</td><td>110</td><td> 49</td><td>110</td></tr>\n",
              "\t<tr><td>  2</td><td>  2</td><td>  2</td><td>  2</td><td>  2</td></tr>\n",
              "\t<tr><td> 35</td><td> 35</td><td> 35</td><td> 35</td><td> 35</td></tr>\n",
              "\t<tr><td>110</td><td>110</td><td>110</td><td>110</td><td>110</td></tr>\n",
              "\t<tr><td>  2</td><td> 35</td><td> 35</td><td> 24</td><td> 35</td></tr>\n",
              "\t<tr><td>  2</td><td>110</td><td>110</td><td> 74</td><td>110</td></tr>\n",
              "\t<tr><td>  2</td><td>  2</td><td> 35</td><td> 13</td><td> 35</td></tr>\n",
              "\t<tr><td>  2</td><td>  2</td><td>110</td><td> 38</td><td>110</td></tr>\n",
              "\t<tr><td> 35</td><td> 35</td><td>110</td><td> 60</td><td>110</td></tr>\n",
              "\t<tr><td> 35</td><td>110</td><td>110</td><td> 85</td><td>110</td></tr>\n",
              "</tbody>\n",
              "</table>\n"
            ],
            "text/markdown": "\nA matrix: 10 × 5 of type dbl\n\n| <!----> | <!----> | <!----> | Sample Mean | Sample Max |\n|---|---|---|---|---|\n|   2 |  35 | 110 |  49 | 110 |\n|   2 |   2 |   2 |   2 |   2 |\n|  35 |  35 |  35 |  35 |  35 |\n| 110 | 110 | 110 | 110 | 110 |\n|   2 |  35 |  35 |  24 |  35 |\n|   2 | 110 | 110 |  74 | 110 |\n|   2 |   2 |  35 |  13 |  35 |\n|   2 |   2 | 110 |  38 | 110 |\n|  35 |  35 | 110 |  60 | 110 |\n|  35 | 110 | 110 |  85 | 110 |\n\n",
            "text/latex": "A matrix: 10 × 5 of type dbl\n\\begin{tabular}{lllll}\n   &   &   & Sample Mean & Sample Max\\\\\n\\hline\n\t   2 &  35 & 110 &  49 & 110\\\\\n\t   2 &   2 &   2 &   2 &   2\\\\\n\t  35 &  35 &  35 &  35 &  35\\\\\n\t 110 & 110 & 110 & 110 & 110\\\\\n\t   2 &  35 &  35 &  24 &  35\\\\\n\t   2 & 110 & 110 &  74 & 110\\\\\n\t   2 &   2 &  35 &  13 &  35\\\\\n\t   2 &   2 & 110 &  38 & 110\\\\\n\t  35 &  35 & 110 &  60 & 110\\\\\n\t  35 & 110 & 110 &  85 & 110\\\\\n\\end{tabular}\n",
            "text/plain": [
              "                  Sample Mean Sample Max\n",
              " [1,]   2  35 110  49         110       \n",
              " [2,]   2   2   2   2           2       \n",
              " [3,]  35  35  35  35          35       \n",
              " [4,] 110 110 110 110         110       \n",
              " [5,]   2  35  35  24          35       \n",
              " [6,]   2 110 110  74         110       \n",
              " [7,]   2   2  35  13          35       \n",
              " [8,]   2   2 110  38         110       \n",
              " [9,]  35  35 110  60         110       \n",
              "[10,]  35 110 110  85         110       "
            ]
          },
          "metadata": {}
        }
      ]
    },
    {
      "cell_type": "markdown",
      "source": [
        "## <a name=\"HW8q1b\">Question 1b</a>\n",
        "\n",
        "---\n",
        "\n",
        "Based on the output in [Question 1a](#HW8q1a), what proportion of the bootstrap resamples have a **mean** less than or equal to 40?\n",
        "\n",
        "<br>\n",
        "\n",
        "\n",
        "### Solution to Question 1b\n",
        "\n",
        "---\n",
        "\n",
        "Be sure to provide an brief explanation (one sentence should be sufficient) that supports how you determined your answer.\n",
        "\n",
        "\n",
        "\n",
        "\n",
        "<br>  \n",
        "Since 5 out of the 10 bootstrap resamples have a sample mean less than or equal to 40, then\n",
        "\n",
        "\n",
        "$$P(\\bar{X} \\leq 40) = 5/10=0.5$$\n",
        "<br>  \n"
      ],
      "metadata": {
        "id": "zQLLl9jRt8b4"
      }
    },
    {
      "cell_type": "markdown",
      "source": [
        "## <a name=\"HW8q1c\">Question 1c</a>\n",
        "\n",
        "---\n",
        "\n",
        "Based on the output in [Question 1a](#HW8q1a), what proportion of the bootstrap resamples have a **maximum** less than or equal to 40?\n",
        "\n",
        "<br>\n",
        "\n",
        "\n",
        "### Solution to Question 1c\n",
        "\n",
        "---\n",
        "\n",
        "Be sure to provide an brief explanation (one sentence should be sufficient) that supports how you determined your answer.\n",
        "\n",
        "\n",
        "\n",
        "\n",
        "<br>  \n",
        "Since 4 out of the 10 bootstrap resamples have a maximum less than or equal to 40, then\n",
        "\n",
        "\n",
        "$$P(X_{\\rm{max}} \\leq 40) = 4/10=0.4$$\n",
        "<br>  \n"
      ],
      "metadata": {
        "id": "-BS0AimcuK8N"
      }
    },
    {
      "cell_type": "markdown",
      "source": [
        "# <a name=\"HW8q2\">Question 2: Bootstrapping a Sample Mean</a>\n",
        "\n",
        "---\n",
        "\n",
        "Consider a population that has normal distribution with mean $\\mu = 52$ and standard deviation $\\sigma = 7$, and answer the questions below.\n",
        "\n"
      ],
      "metadata": {
        "id": "yE3Ryr2ujM_J"
      }
    },
    {
      "cell_type": "markdown",
      "source": [
        "## <a name=\"HW8q2a\">Question 2a</a>\n",
        "\n",
        "---\n",
        "\n",
        "**Using the Central Limit Theorem (CLT)**, what are the mean, standard error, and shape of the sampling distribution for the mean, $\\bar{X}$, if samples size of $n=100$ are randomly selected.\n",
        "\n",
        "### Solution to Question 2a\n",
        "\n",
        "---\n",
        "\n",
        "<br>\n",
        "\n",
        "- **What is the mean of the sampling distribution?**\n",
        "\n",
        "$$\\mu_{\\bar{X}} = \\mu_X = 52.$$\n",
        "\n",
        "\n",
        "<br>  \n",
        "<br>  \n",
        "\n",
        "- **What is the standard error?** *Be sure to provide supporting work such as an R code cell that you insert below or typing the formula you used.*\n",
        "\n",
        "$$\\mbox{SE}(\\bar{X}) = \\sigma_{\\bar{X}} = \\frac{\\sigma_X}{\\sqrt{n}} = \\frac{7}{\\sqrt{100}} = 0.7.$$\n",
        "\n",
        "\n",
        "<br>  \n",
        "<br>  \n",
        "\n",
        "- **What is the approximate shape?**\n",
        "\n",
        "\n",
        "Since the population is normal, from CLT the sampling distribution for the mean will be approximately normal.\n",
        "\n",
        "<br>  \n",
        "<br>  \n",
        "\n",
        "\n"
      ],
      "metadata": {
        "id": "9n1dU5gFw_2v"
      }
    },
    {
      "cell_type": "markdown",
      "source": [
        "## <a name=\"HW8q2b\">Question 2b</a>\n",
        "\n",
        "---\n",
        "\n",
        "Based on your answer to [Question 2a](#HW8q2a) using CLT, use the R code cell below compute the probability of picking a random sample of size $n=100$ that has a sample mean greater than 54?\n",
        "\n",
        "### Solution to Question 2b\n",
        "\n",
        "---\n",
        "\n",
        "<br>\n",
        "\n",
        "Compute the answer using the R code cell below.\n",
        "\n",
        "\n"
      ],
      "metadata": {
        "id": "PnBvDytWxmuy"
      }
    },
    {
      "cell_type": "code",
      "source": [
        "1 - pnorm(54, 52, 0.7)"
      ],
      "metadata": {
        "id": "xKQdCgExyKLK",
        "colab": {
          "base_uri": "https://localhost:8080/",
          "height": 34
        },
        "outputId": "ea871b94-c73d-4b49-d417-49813488cf9e"
      },
      "execution_count": null,
      "outputs": [
        {
          "output_type": "display_data",
          "data": {
            "text/html": [
              "0.00213736698008626"
            ],
            "text/markdown": "0.00213736698008626",
            "text/latex": "0.00213736698008626",
            "text/plain": [
              "[1] 0.002137367"
            ]
          },
          "metadata": {}
        }
      ]
    },
    {
      "cell_type": "markdown",
      "source": [
        "## <a name=\"HW8q2c\">Question 2c</a>\n",
        "\n",
        "---\n",
        "\n",
        "Complete the code cell below to pick one random sample of size $n=100$ from a population $X \\sim N(\\mu, \\sigma) = N(52, 7)$ and assign this sample to a vector named `my.samp`.\n",
        "\n",
        "<br>\n",
        "\n",
        "Then calculate the mean and standard deviation of your sample by completing the code block below.\n",
        "\n",
        "<br>\n",
        "\n",
        "Note: You will set the seed with your birth data that you enter for `mmdd` in the first line. This will ensure you generate the same sample each time you run the code cell.\n",
        "\n",
        "\n",
        "### Solution to Question 2c\n",
        "\n",
        "---\n",
        "\n",
        "<br>\n",
        "\n",
        "Complete and run the R code cell below.\n",
        "\n",
        "\n",
        "\n",
        "\n"
      ],
      "metadata": {
        "id": "0xRopFxTyIja"
      }
    },
    {
      "cell_type": "code",
      "source": [
        "mmdd <-  111 # enter birth month and day to set the seed\n",
        "set.seed(mmdd)  # this will generate the same sample every time\n",
        "\n",
        "my.samp <- rnorm(100, 52, 7)  # create your sample\n",
        "samp.mean <- mean(my.samp)  # compute the mean of your sample\n",
        "samp.sd <- sd(my.samp)  # compute the standard deviation of your sample\n",
        "\n",
        "# print last two calculation to screen\n",
        "samp.mean\n",
        "samp.sd"
      ],
      "metadata": {
        "id": "b9EcyVWAy4P6",
        "colab": {
          "base_uri": "https://localhost:8080/",
          "height": 52
        },
        "outputId": "339bab61-561c-4b7c-c3d7-a05be0061a9d"
      },
      "execution_count": null,
      "outputs": [
        {
          "output_type": "display_data",
          "data": {
            "text/html": [
              "51.9102665946614"
            ],
            "text/markdown": "51.9102665946614",
            "text/latex": "51.9102665946614",
            "text/plain": [
              "[1] 51.91027"
            ]
          },
          "metadata": {}
        },
        {
          "output_type": "display_data",
          "data": {
            "text/html": [
              "7.49598468246458"
            ],
            "text/markdown": "7.49598468246458",
            "text/latex": "7.49598468246458",
            "text/plain": [
              "[1] 7.495985"
            ]
          },
          "metadata": {}
        }
      ]
    },
    {
      "cell_type": "markdown",
      "source": [
        "## <a name=\"HW8q2d\">Question 2d</a>\n",
        "\n",
        "---\n",
        "\n",
        "Using your sample `my.samp` from [Question 2d](#HWq2d), create a bootstrap distribution with $N=10^5$ different bootstrap samples.\n",
        "\n",
        "<br>\n",
        "\n",
        "Then create a histogram of your bootstrap distribution (indicating the location of the sample mean with a red vertical line).\n",
        "\n",
        "\n",
        "### Solution to Question 2d\n",
        "\n",
        "---\n",
        "\n",
        "<br>\n",
        "\n",
        "Complete and run the code cell below. You will need to refer to a vector you created in [Question 2c](#HW8q2c).\n",
        "\n",
        "\n"
      ],
      "metadata": {
        "id": "HHCls1E2y23G"
      }
    },
    {
      "cell_type": "code",
      "source": [
        "set.seed(mmdd)  # this will generate the same bootstrap dist each time\n",
        "\n",
        "N <- 10^5  # Number of bootstrap samples\n",
        "boot.dist <- numeric(N)  # create vector to store bootstrap means\n",
        "\n",
        "for (i in 1:N)\n",
        "{\n",
        "  x <- sample(my.samp, size = 100, replace = TRUE)  # select bootstrap resample\n",
        "  boot.dist[i] <- mean(x)  # compute mean of bootstrap resample\n",
        "}\n",
        "\n",
        "# Show bootstrap distribution\n",
        "hist(boot.dist,  xlab = \"xbar\",\n",
        "     main = \"Bootstrap Distribution\")\n",
        "\n",
        "# Add a red line at the observed sample mean\n",
        "abline(v = samp.mean, col = \"red\", lwd = 2, lty = 1)"
      ],
      "metadata": {
        "id": "28GcZGhtzkoV",
        "colab": {
          "base_uri": "https://localhost:8080/",
          "height": 437
        },
        "outputId": "be21fd77-127e-49c6-e189-ed72385fd2e6"
      },
      "execution_count": null,
      "outputs": [
        {
          "output_type": "display_data",
          "data": {
            "text/plain": [
              "Plot with title “Bootstrap Distribution”"
            ],
            "image/png": "[encoded data removed]"
          },
          "metadata": {
            "image/png": {
              "width": 420,
              "height": 420
            }
          }
        }
      ]
    },
    {
      "cell_type": "markdown",
      "source": [
        "## <a name=\"HW8q2e\">Question 2e</a>\n",
        "\n",
        "---\n",
        "\n",
        "Calculate the mean and standard error of the bootstrap distribution you created in [Question 2d](#HW8q2d).\n",
        "\n",
        "<br>\n",
        "\n",
        "*Show your work in the R code cell below. Round answers to four decimal places when typing.*\n",
        "\n",
        "<br>\n",
        "\n",
        "Then comment on how the bootstrap mean and standard error compare the the CLT mean and standard error.\n",
        "\n",
        "\n",
        "### Solution to Question 2e\n",
        "\n",
        "---\n",
        "\n",
        "The mean of the bootstrap distribution is <mark>$51.9113$</mark>.\n",
        "\n",
        "- How does the mean of the bootstrap distribution compare to theoretic mean you found using CLT in [Question 2a](#HW8q2a)?\n",
        "\n",
        "<br>  \n",
        "\n",
        "> Based on my sampling distribution, the means are approximately equal to each other (though answers may vary).\n",
        "\n",
        "<br>  \n",
        "\n",
        "The standard error of the bootstrap distribution is <mark>$0.7435$</mark>.\n",
        "\n",
        "- How does the standard error of the bootstrap distribution compare to theoretic standard error you found using CLT in [Question 2a](#HW8q2a)?\n",
        "\n",
        "<br>  \n",
        "\n",
        "> Based on my sampling distribution, the standard errors close to each other, but the bootstrap standard error is a little greater than the CLT standard error (though answers may vary).\n",
        "\n",
        "<br>  \n"
      ],
      "metadata": {
        "id": "LAFqgyqVzjdA"
      }
    },
    {
      "cell_type": "code",
      "source": [
        "# compute mean and standard error of bootstrap dist\n",
        "boot.mean <- mean(boot.dist)\n",
        "boot.se <- sd(boot.dist)\n",
        "\n",
        "boot.mean\n",
        "boot.se"
      ],
      "metadata": {
        "id": "5bp5P8261VTN",
        "colab": {
          "base_uri": "https://localhost:8080/",
          "height": 52
        },
        "outputId": "2c9d4e36-e20f-43a0-9817-611bb2071000"
      },
      "execution_count": null,
      "outputs": [
        {
          "output_type": "display_data",
          "data": {
            "text/html": [
              "51.9113327809688"
            ],
            "text/markdown": "51.9113327809688",
            "text/latex": "51.9113327809688",
            "text/plain": [
              "[1] 51.91133"
            ]
          },
          "metadata": {}
        },
        {
          "output_type": "display_data",
          "data": {
            "text/html": [
              "0.743527916825228"
            ],
            "text/markdown": "0.743527916825228",
            "text/latex": "0.743527916825228",
            "text/plain": [
              "[1] 0.7435279"
            ]
          },
          "metadata": {}
        }
      ]
    },
    {
      "cell_type": "markdown",
      "source": [
        "## <a name=\"HW8q2f\">Question 2f</a>\n",
        "\n",
        "---\n",
        "\n",
        "Use the R code cell below to create a Q-Q plot to compare the shape of the bootstrap distribution you created in [Question 2d](#HW8q2d) with the theoretic shape of the sampling distribution.\n",
        "\n",
        "<br>\n",
        "\n",
        "In the solution space below, comment on whether the shapes are similar or different.\n",
        "\n",
        "\n",
        "### Solution to Question 2f\n",
        "\n",
        "---\n",
        "\n",
        "\n",
        "How do the shapes of the bootstrap distribution and Central Limit Theorem sampling distribution compare?\n",
        "\n",
        "\n",
        "\n",
        "<br>  \n",
        "\n",
        "Answers will vary slightly. Based on my bootstrap distribution, it is indeed approximately normal (most should be). There is a slight skewness to the right, but it is very, very small. Some might actually be skewed in the other direction. Depends on the randomization.\n",
        "\n",
        "<br>  "
      ],
      "metadata": {
        "id": "0JUdiDhw1Qt3"
      }
    },
    {
      "cell_type": "code",
      "source": [
        "# Create a Q-Q plot to compare shapes\n",
        "qqnorm(boot.dist)\n",
        "qqline(boot.dist)"
      ],
      "metadata": {
        "id": "59nvLbf72KXO",
        "colab": {
          "base_uri": "https://localhost:8080/",
          "height": 437
        },
        "outputId": "ec358ab8-ecdd-41b2-9a2e-cf27d6c1e102"
      },
      "execution_count": null,
      "outputs": [
        {
          "output_type": "display_data",
          "data": {
            "text/plain": [
              "Plot with title “Normal Q-Q Plot”"
            ],
            "image/png": "[encoded data removed]"
          },
          "metadata": {
            "image/png": {
              "width": 420,
              "height": 420
            }
          }
        }
      ]
    },
    {
      "cell_type": "markdown",
      "source": [
        "## <a name=\"HW8q2f\">Question 2g</a>\n",
        "\n",
        "---\n",
        "\n",
        "Using your bootstrap distribution from [Question 2d](#HW8q2d), estimate the probability of picking a random sample of size $n=100$ that has a sample mean greater than 54.\n",
        "\n",
        "After calculating the probability, comment on how it compares to your answer obtained using CLT in [Question 2b](#HW8q2b).\n",
        "\n",
        "\n",
        "### Solution to Question 2g\n",
        "\n",
        "---\n",
        "\n",
        "\n",
        "Comment on how the probability compares to your answer obtained using CLT in [Question 2b](#HW8q2b).\n",
        "\n",
        "\n",
        "\n",
        "\n",
        "<br>  \n",
        "- Based on my bootstrap distribution, the two values are very close.\n",
        "- Other bootstrap distributions might led to a drastically different value depending on the seed.\n",
        "- For example, a seed of `1111` is quite biased.\n",
        "\n",
        "<br>  \n"
      ],
      "metadata": {
        "id": "obcYhLFh1AyS"
      }
    },
    {
      "cell_type": "code",
      "source": [
        "# Enter command(s) to answer 2g\n",
        "mean(boot.dist > 54)"
      ],
      "metadata": {
        "id": "L5mAYpal2Ykh",
        "colab": {
          "base_uri": "https://localhost:8080/",
          "height": 34
        },
        "outputId": "d43fd2c6-2eef-4f48-c248-583636b829dd"
      },
      "execution_count": null,
      "outputs": [
        {
          "output_type": "display_data",
          "data": {
            "text/html": [
              "0.00236"
            ],
            "text/markdown": "0.00236",
            "text/latex": "0.00236",
            "text/plain": [
              "[1] 0.00236"
            ]
          },
          "metadata": {}
        }
      ]
    },
    {
      "cell_type": "markdown",
      "source": [
        "# <a name=\"HW8q3\">Question 3: Boostrapping a Sample Mean</a>\n",
        "\n",
        "---\n",
        "\n",
        "Recall the package `resampledata` contains a dataset `Bangladesh` with data from 271 randomly selected groundwater samples.\n",
        "The dataset contains measurements on the `Arsenic`, `Cobalt` and `Chlorine` concentration levels (in parts per billion, ppb).\n",
        "\n",
        "<br>\n",
        "\n",
        "Run the code cells below to\n",
        "\n",
        "- Install the `resampledata` package\n",
        "- Load the `resampledata` package and summarize the `Bangladesh` data set.\n",
        "  - Note there is one observation with a missing (`NA`) cobalt concentration.\n",
        "- Remove the observation with a missing cobalt concentration and store the remaining 270 sample cobalt concentrations to the vector `cobalt`.\n",
        "- Finally, enter your birth month and date in `mmdd` which will set the seed for some code cells.\n",
        "\n",
        "<br>\n",
        "\n",
        "**After running the code cells above, answer the questions in the parts below.**\n",
        "\n"
      ],
      "metadata": {
        "id": "N_jihXs-iCNN"
      }
    },
    {
      "cell_type": "code",
      "source": [
        "install.packages(\"resampledata\")"
      ],
      "metadata": {
        "id": "PD_0VfS338X0",
        "colab": {
          "base_uri": "https://localhost:8080/"
        },
        "outputId": "2ad5d613-e5b2-4336-fad9-fb406860f533"
      },
      "execution_count": null,
      "outputs": [
        {
          "output_type": "stream",
          "name": "stderr",
          "text": [
            "Installing package into ‘/usr/local/lib/R/site-library’\n",
            "(as ‘lib’ is unspecified)\n",
            "\n"
          ]
        }
      ]
    },
    {
      "cell_type": "code",
      "source": [
        "library(resampledata)  # load required package\n",
        "summary(Bangladesh)  # summarize the data"
      ],
      "metadata": {
        "id": "7dsvkVBq33_k",
        "colab": {
          "base_uri": "https://localhost:8080/",
          "height": 312
        },
        "outputId": "da5e32ba-3094-4d39-ad35-23e105423b00"
      },
      "execution_count": null,
      "outputs": [
        {
          "output_type": "stream",
          "name": "stderr",
          "text": [
            "\n",
            "Attaching package: ‘resampledata’\n",
            "\n",
            "\n",
            "The following object is masked from ‘package:datasets’:\n",
            "\n",
            "    Titanic\n",
            "\n",
            "\n"
          ]
        },
        {
          "output_type": "display_data",
          "data": {
            "text/plain": [
              "    Arsenic          Chlorine           Cobalt      \n",
              " Min.   :   0.5   Min.   :   1.00   Min.   :0.0500  \n",
              " 1st Qu.:   6.0   1st Qu.:   5.00   1st Qu.:0.2825  \n",
              " Median :  22.0   Median :  14.20   Median :0.4100  \n",
              " Mean   : 125.3   Mean   :  78.08   Mean   :0.5038  \n",
              " 3rd Qu.: 109.0   3rd Qu.:  55.50   3rd Qu.:0.6300  \n",
              " Max.   :2400.0   Max.   :1550.00   Max.   :3.1800  \n",
              "                  NA's   :2         NA's   :1       "
            ]
          },
          "metadata": {}
        }
      ]
    },
    {
      "cell_type": "code",
      "source": [
        "cobalt <- na.omit(Bangladesh$Cobalt)"
      ],
      "metadata": {
        "id": "cTMQQXr334_G"
      },
      "execution_count": null,
      "outputs": []
    },
    {
      "cell_type": "code",
      "source": [
        "# enter your birth month and date for mmdd\n",
        "mmdd <- 111"
      ],
      "metadata": {
        "id": "w2E7SMAU5iHe"
      },
      "execution_count": null,
      "outputs": []
    },
    {
      "cell_type": "markdown",
      "source": [
        "## <a name=\"HW8q3a\">Question 3a</a>\n",
        "\n",
        "---\n",
        "\n",
        "Create a histogram of the cobalt sample data, create a boxplot of the cobalt sample data, and then compute the mean and standard deviation of the cobalt concentration levels of the sample.\n",
        "\n",
        "### Solution to Question 3a\n",
        "\n",
        "---\n",
        "\n",
        "\n"
      ],
      "metadata": {
        "id": "yOPxrlIp3aYY"
      }
    },
    {
      "cell_type": "code",
      "source": [
        "# create a histogram to display cobalt sample\n",
        "hist(cobalt)"
      ],
      "metadata": {
        "id": "7kwIMDhL5zfS",
        "colab": {
          "base_uri": "https://localhost:8080/",
          "height": 437
        },
        "outputId": "1f88c27c-3743-456b-a01b-0e8119b8df5b"
      },
      "execution_count": null,
      "outputs": [
        {
          "output_type": "display_data",
          "data": {
            "text/plain": [
              "Plot with title “Histogram of cobalt”"
            ],
            "image/png": "[encoded data removed]"
          },
          "metadata": {
            "image/png": {
              "width": 420,
              "height": 420
            }
          }
        }
      ]
    },
    {
      "cell_type": "code",
      "source": [
        "# create a boxplot to display cobalt sample\n",
        "boxplot(cobalt)"
      ],
      "metadata": {
        "id": "Ge1J2crG6IAV",
        "colab": {
          "base_uri": "https://localhost:8080/",
          "height": 437
        },
        "outputId": "cef09d50-86ee-4003-b390-0c58f2b5047a"
      },
      "execution_count": null,
      "outputs": [
        {
          "output_type": "display_data",
          "data": {
            "text/plain": [
              "plot without title"
            ],
            "image/png": "[encoded data removed]"
          },
          "metadata": {
            "image/png": {
              "width": 420,
              "height": 420
            }
          }
        }
      ]
    },
    {
      "cell_type": "code",
      "source": [
        "# compute sample mean\n",
        "mean.cobalt <- mean(cobalt)\n",
        "mean.cobalt"
      ],
      "metadata": {
        "id": "w95DyJas54XJ",
        "colab": {
          "base_uri": "https://localhost:8080/",
          "height": 34
        },
        "outputId": "9bbf93b1-df34-4cf9-9ad4-95c1a7c81924"
      },
      "execution_count": null,
      "outputs": [
        {
          "output_type": "display_data",
          "data": {
            "text/html": [
              "0.503777777777778"
            ],
            "text/markdown": "0.503777777777778",
            "text/latex": "0.503777777777778",
            "text/plain": [
              "[1] 0.5037778"
            ]
          },
          "metadata": {}
        }
      ]
    },
    {
      "cell_type": "code",
      "source": [
        "# compute sample standard deviation\n",
        "sd(cobalt)"
      ],
      "metadata": {
        "id": "rAMjUySA551W",
        "colab": {
          "base_uri": "https://localhost:8080/",
          "height": 34
        },
        "outputId": "03d55255-6291-43ea-b993-9a724d808741"
      },
      "execution_count": null,
      "outputs": [
        {
          "output_type": "display_data",
          "data": {
            "text/html": [
              "0.37740922080738"
            ],
            "text/markdown": "0.37740922080738",
            "text/latex": "0.37740922080738",
            "text/plain": [
              "[1] 0.3774092"
            ]
          },
          "metadata": {}
        }
      ]
    },
    {
      "cell_type": "markdown",
      "source": [
        "## <a name=\"HW8q3b\">Question 3b</a>\n",
        "\n",
        "---\n",
        "\n",
        "Create a bootstrap distribution for the sample mean from the original sample.\n",
        "Use $N=10^5$ as the number of bootstrap samples.\n",
        "\n",
        "Complete the code below by replacing each `??` in the code cell with an appropriate R commands or values.\n",
        "\n",
        "### Solution to Question 3b\n",
        "\n",
        "---\n",
        "\n",
        "-   The code cell below is one way to do this.\n",
        "-   Feel free to use another method if your prefer.\n",
        "\n",
        "\n",
        "<br>  \n"
      ],
      "metadata": {
        "id": "uaSy-LfL3Trh"
      }
    },
    {
      "cell_type": "code",
      "source": [
        "set.seed(mmdd)\n",
        "\n",
        "(n.cobalt <- length(cobalt))\n",
        "\n",
        "N <- 10^5\n",
        "boot.cobalt <- numeric(N)\n",
        "for (i in 1:N)\n",
        "{\n",
        "  x <- sample(cobalt, size = n.cobalt, replace = TRUE)  #create a bootstrap resample\n",
        "  boot.cobalt[i] <- mean(x)   # calculate statistic of each bootstrap resample\n",
        "}"
      ],
      "metadata": {
        "id": "yS1XzpDj6bcl",
        "colab": {
          "base_uri": "https://localhost:8080/",
          "height": 34
        },
        "outputId": "0fb23202-d7d1-427f-a027-eefd18bee3fa"
      },
      "execution_count": null,
      "outputs": [
        {
          "output_type": "display_data",
          "data": {
            "text/html": [
              "270"
            ],
            "text/markdown": "270",
            "text/latex": "270",
            "text/plain": [
              "[1] 270"
            ]
          },
          "metadata": {}
        }
      ]
    },
    {
      "cell_type": "markdown",
      "source": [
        "## <a name=\"HW8q3c\">Question 3c</a>\n",
        "\n",
        "---\n",
        "\n",
        "What is the mean of the bootstrap distribution you created in [Question 3b](#HW8q3b)?\n",
        "\n",
        "### Solution to Question 3c\n",
        "\n",
        "---\n",
        "\n",
        "<br>  \n",
        "\n",
        "Use R code cell below to answer the question.\n"
      ],
      "metadata": {
        "id": "O0F3PTdB3Rx5"
      }
    },
    {
      "cell_type": "code",
      "source": [
        "# Enter R command(s) to answer 3c\n",
        "boot.mean.cobalt <- mean(boot.cobalt)\n",
        "boot.mean.cobalt"
      ],
      "metadata": {
        "id": "5iSOGq_e6zFB",
        "colab": {
          "base_uri": "https://localhost:8080/",
          "height": 34
        },
        "outputId": "ed523fac-44f9-49bf-bff1-9bc93b5d72ed"
      },
      "execution_count": null,
      "outputs": [
        {
          "output_type": "display_data",
          "data": {
            "text/html": [
              "0.503692838888889"
            ],
            "text/markdown": "0.503692838888889",
            "text/latex": "0.503692838888889",
            "text/plain": [
              "[1] 0.5036928"
            ]
          },
          "metadata": {}
        }
      ]
    },
    {
      "cell_type": "markdown",
      "source": [
        "## <a name=\"HW8q3f\">Question 3d</a>\n",
        "\n",
        "---\n",
        "\n",
        "What is the bootstrap standard error of the bootstrap distribution you created you in [Question 3b](#HW8q3b)?\n",
        "\n",
        "### Solution to Question 3d\n",
        "\n",
        "---\n",
        "\n",
        "<br>  \n",
        "\n",
        "Use R code cell below to answer the question.\n",
        "\n",
        "\n",
        "\n"
      ],
      "metadata": {
        "id": "fYP6hn5v3QLP"
      }
    },
    {
      "cell_type": "code",
      "source": [
        "# Enter R command(s) to answer 3d\n",
        "boot.se.cobalt <- sd(boot.cobalt)\n",
        "boot.se.cobalt"
      ],
      "metadata": {
        "id": "M4YKN1sS7IFC",
        "colab": {
          "base_uri": "https://localhost:8080/",
          "height": 34
        },
        "outputId": "bf3acf3f-aeda-4e29-c490-f2678c90143f"
      },
      "execution_count": null,
      "outputs": [
        {
          "output_type": "display_data",
          "data": {
            "text/html": [
              "0.0229208379816166"
            ],
            "text/markdown": "0.0229208379816166",
            "text/latex": "0.0229208379816166",
            "text/plain": [
              "[1] 0.02292084"
            ]
          },
          "metadata": {}
        }
      ]
    },
    {
      "cell_type": "markdown",
      "source": [
        "## <a name=\"HW8q3g\">Question 3e</a>\n",
        "\n",
        "---\n",
        "\n",
        "Based on the bootstrap distribution you created in [Question 3b](#HW8q3b), what is the bootstrap estimate of the bias?\n",
        "\n",
        "\n",
        "### Solution to Question 3e\n",
        "\n",
        "---\n",
        "\n",
        "<br>  \n",
        "\n",
        "Use the code cell below to answer the question.\n",
        "\n"
      ],
      "metadata": {
        "id": "myjO4VCQ3OXA"
      }
    },
    {
      "cell_type": "code",
      "source": [
        "# Calculate the bootstrap estimate for bias\n",
        "cobalt.bias <- boot.mean.cobalt - mean.cobalt  # using previously stored results\n",
        "\n",
        "# the command above is equivalent to the command below\n",
        "#cobalt.bias <- mean(boot.cobalt) - mean(cobalt)\n",
        "\n",
        "cobalt.bias"
      ],
      "metadata": {
        "id": "8K8qW2Ik7b9m",
        "colab": {
          "base_uri": "https://localhost:8080/",
          "height": 34
        },
        "outputId": "2101e4ff-7fba-45cb-fef8-ad47e3ed4580"
      },
      "execution_count": null,
      "outputs": [
        {
          "output_type": "display_data",
          "data": {
            "text/html": [
              "-8.49388888888303e-05"
            ],
            "text/markdown": "-8.49388888888303e-05",
            "text/latex": "-8.49388888888303e-05",
            "text/plain": [
              "[1] -8.493889e-05"
            ]
          },
          "metadata": {}
        }
      ]
    },
    {
      "cell_type": "markdown",
      "source": [
        "## <a name=\"HW8q3f\">Question 3f</a>\n",
        "\n",
        "---\n",
        "\n",
        "Calculate the ratio of the bootstrap bias over the bootstrap standard error. Does this exceed the rule of thumb level for having a substantial effect on the accuracy of the estimate?\n",
        "\n",
        "### Solution to Question 3f\n",
        "\n",
        "---\n",
        "\n",
        "<br>\n",
        "\n",
        "In the space below, comment on whether this exceeds the rule of thumb level for having a substantial effect on the accuracy of the estimate?\n",
        "\n",
        "- Since the absolute value of the ratio of bias is less than $0.02$, the bias IS NOT going to have a substantial effect.\n",
        "\n",
        "- Another correct answer: Since the ratio $-0.02 < -0.0037 < 0.02$, the bias IS NOT going to have a substantial effect.\n",
        "\n",
        "- It is possible some seeds to lead to a higher ratio of bias and might exceed the limit, but not likely.\n",
        "\n",
        "\n",
        "<br>  \n",
        "<br>  \n"
      ],
      "metadata": {
        "id": "oiPfV65n3Mhv"
      }
    },
    {
      "cell_type": "code",
      "source": [
        "# Calculate the ratio\n",
        "ratio.cobalt <- cobalt.bias / boot.se.cobalt\n",
        "ratio.cobalt"
      ],
      "metadata": {
        "id": "_yyTvsMu9JtF",
        "colab": {
          "base_uri": "https://localhost:8080/",
          "height": 34
        },
        "outputId": "18907d5b-af70-4a1b-da3c-125c2c936d99"
      },
      "execution_count": null,
      "outputs": [
        {
          "output_type": "display_data",
          "data": {
            "text/html": [
              "-0.00370574971809296"
            ],
            "text/markdown": "-0.00370574971809296",
            "text/latex": "-0.00370574971809296",
            "text/plain": [
              "[1] -0.00370575"
            ]
          },
          "metadata": {}
        }
      ]
    },
    {
      "cell_type": "markdown",
      "source": [
        "## <a name=\"HW8q3g\">Question 3g</a>\n",
        "\n",
        "---\n",
        "\n",
        "Give a 95% bootstrap percentile confidence interval to estimate the mean cobalt level in all groundwater in Bangladesh.\n",
        "\n",
        "\n",
        "Then create a histogram of the bootstrap distribution with vertical lines indicating the cutoffs for the confidence interval.\n",
        "\n",
        "### Solution to Question 3g\n",
        "\n",
        "---\n",
        "\n",
        "<br>\n",
        "\n",
        "Use the code cell below to compute the confidence interval cutoffs. Enter your values in the space below. Round to four decimal places.\n",
        "\n",
        "<br>\n",
        "\n",
        "- My lower cutoff for a 95% boostrap percentile confidence interval is <mark>$0.4606$ ppb</mark>.\n",
        "\n",
        "<br>\n",
        "\n",
        "- My upper cutoff for a 95% boostrap percentile confidence interval is <mark>$0.5504$ ppb</mark>.\n",
        "\n",
        "<br>\n",
        "\n",
        "\n",
        "\n"
      ],
      "metadata": {
        "id": "i-7mDxnp3KsW"
      }
    },
    {
      "cell_type": "code",
      "source": [
        "# Find cutoffs for 95% bootstrap percentile conf int\n",
        "lower.cobalt <- quantile(boot.cobalt, probs = 0.025)\n",
        "upper.cobalt <- quantile(boot.cobalt, probs = 0.975)\n",
        "\n",
        "lower.cobalt\n",
        "upper.cobalt"
      ],
      "metadata": {
        "id": "V0xv_Kr0-EGo",
        "colab": {
          "base_uri": "https://localhost:8080/",
          "height": 52
        },
        "outputId": "9aa4ffb4-120a-4f9a-d059-38ab90e5009a"
      },
      "execution_count": null,
      "outputs": [
        {
          "output_type": "display_data",
          "data": {
            "text/html": [
              "<strong>2.5%:</strong> 0.460592592592593"
            ],
            "text/markdown": "**2.5%:** 0.460592592592593",
            "text/latex": "\\textbf{2.5\\textbackslash{}\\%:} 0.460592592592593",
            "text/plain": [
              "     2.5% \n",
              "0.4605926 "
            ]
          },
          "metadata": {}
        },
        {
          "output_type": "display_data",
          "data": {
            "text/html": [
              "<strong>97.5%:</strong> 0.550444444444444"
            ],
            "text/markdown": "**97.5%:** 0.550444444444444",
            "text/latex": "\\textbf{97.5\\textbackslash{}\\%:} 0.550444444444444",
            "text/plain": [
              "    97.5% \n",
              "0.5504444 "
            ]
          },
          "metadata": {}
        }
      ]
    },
    {
      "cell_type": "code",
      "source": [
        "# Show bootstrap distribution\n",
        "hist(boot.cobalt,  xlab = \"xbar\",\n",
        "     main = \"Bootstrap Distribution\")\n",
        "\n",
        "# Add a red line at the observed sample mean\n",
        "abline(v = mean.cobalt, col = \"red\", lwd = 2, lty = 1)\n",
        "\n",
        "# Add a blue line at the lower cuttoff\n",
        "abline(v = lower.cobalt, col = \"blue\", lwd = 2, lty = 1)\n",
        "\n",
        "# Add a blue line at the upper cuttoff\n",
        "abline(v = upper.cobalt, col = \"blue\", lwd = 2, lty = 1)"
      ],
      "metadata": {
        "id": "nO56jI8_-UN3",
        "colab": {
          "base_uri": "https://localhost:8080/",
          "height": 437
        },
        "outputId": "c46fa00d-978f-44fb-e546-8dd3b5ff7d95"
      },
      "execution_count": null,
      "outputs": [
        {
          "output_type": "display_data",
          "data": {
            "text/plain": [
              "Plot with title “Bootstrap Distribution”"
            ],
            "image/png": "[encoded data removed]"
          },
          "metadata": {
            "image/png": {
              "width": 420,
              "height": 420
            }
          }
        }
      ]
    },
    {
      "cell_type": "markdown",
      "source": [
        "## <a name=\"HW8q3h\">Question 3h</a>\n",
        "\n",
        "---\n",
        "\n",
        "Interpret the practical meaning of the confidence interval you found in [Question 3g](#HW8q3g) in a complete sentence.\n",
        "\n",
        "\n",
        "### Solution to Question 3h\n",
        "\n",
        "---\n",
        "\n",
        "<br>\n",
        "\n",
        "Explain to somebody who has little to no formal statistical background.\n",
        "\n",
        "\n",
        "<br>  \n",
        "There is a 95% chance the interval from $0.4606$ ppb to $0.5044$ ppb contains the mean level of cobalt in all groundwater in Bangladesh.\n",
        "<br>  "
      ],
      "metadata": {
        "id": "6n1_GB7u3IwD"
      }
    },
    {
      "cell_type": "markdown",
      "source": [
        "# <a name=\"HW8q4\">Question 4: Bootstrapping a Difference in Two Means</a>\n",
        "\n",
        "---\n",
        "\n",
        "Researchers conducted a study of primary and early secondary school children in Italy to examine the gender differences in math anxiety.\n",
        "\n",
        "One of the measures used is the Abbreviated Math Anxiety Scale (AMAS), a self-reported math anxiety questionnaire.\n",
        "\n",
        "- AMAS scores range from 9 to 45, with a higher score representing more math anxiety.\n",
        "\n",
        "The `resampledata` package contains the dataset `MathAnxiety` that has the results for a subset of the children in the original study. Run the code cells below to:\n",
        "\n",
        "1. Install `resampledata`.\n",
        "2. Load `resampledata` and summarize `MathAnxiety`.\n",
        "3. Enter your birth month and date for `mmdd`.\n",
        "\n"
      ],
      "metadata": {
        "id": "oaFbeeqKh-aD"
      }
    },
    {
      "cell_type": "code",
      "source": [
        "install.packages(\"resampledata\")  # install package"
      ],
      "metadata": {
        "id": "KT74_KAc_2PH",
        "colab": {
          "base_uri": "https://localhost:8080/"
        },
        "outputId": "c18eef59-f327-4f30-e269-db70eca9f7e4"
      },
      "execution_count": null,
      "outputs": [
        {
          "output_type": "stream",
          "name": "stderr",
          "text": [
            "Installing package into ‘/usr/local/lib/R/site-library’\n",
            "(as ‘lib’ is unspecified)\n",
            "\n"
          ]
        }
      ]
    },
    {
      "cell_type": "code",
      "source": [
        "library(resampledata)  # load package\n",
        "summary(MathAnxiety)  # summarize the data"
      ],
      "metadata": {
        "id": "tcyHwAky_2PI",
        "colab": {
          "base_uri": "https://localhost:8080/",
          "height": 260
        },
        "outputId": "f70c068e-af97-46a0-fbd4-724e349740b0"
      },
      "execution_count": null,
      "outputs": [
        {
          "output_type": "display_data",
          "data": {
            "text/plain": [
              "      Age         Gender          Grade          AMAS           RCMAS      \n",
              " Min.   :  3.7   Boy :323   Primary  :401   Min.   : 4.00   Min.   : 1.00  \n",
              " 1st Qu.:106.2   Girl:276   Secondary:198   1st Qu.:18.00   1st Qu.:14.00  \n",
              " Median :120.8                              Median :22.00   Median :19.00  \n",
              " Mean   :124.6                              Mean   :21.98   Mean   :19.24  \n",
              " 3rd Qu.:141.8                              3rd Qu.:26.50   3rd Qu.:25.00  \n",
              " Max.   :187.5                              Max.   :45.00   Max.   :41.00  \n",
              "     Arith      \n",
              " Min.   :0.000  \n",
              " 1st Qu.:4.000  \n",
              " Median :6.000  \n",
              " Mean   :5.302  \n",
              " 3rd Qu.:7.000  \n",
              " Max.   :8.000  "
            ]
          },
          "metadata": {}
        }
      ]
    },
    {
      "cell_type": "code",
      "source": [
        "# enter your birth month and date for mmdd\n",
        "mmdd <- 111"
      ],
      "metadata": {
        "id": "3g9jEBkf_2PI"
      },
      "execution_count": null,
      "outputs": []
    },
    {
      "cell_type": "markdown",
      "source": [
        "## <a name=\"HW8q4a\">Question 4a</a>\n",
        "\n",
        "---\n",
        "\n",
        "The code cell below first creates a vector called `amas` that contains the AMAS scores of all children in the dataset. Complete the remaining lines of code to create two separate vectors named `boy.amas` and `girl.amas` that contain separate AMAS scores for the children that identify as boys and the children that identify as girls, respectively.\n",
        "\n",
        "### Solution to Question 4a\n",
        "\n",
        "---\n",
        "\n",
        "-   The code cell below uses the `subset` function.\n",
        "-   Feel free to use another method such as `filter` from `dplyr` or using logical statements with different code.\n",
        "-   If you use your own code, use the same array names `amas`, `boy.amas` and `girl.amas` so your output is compatible with code in [Question 4e](#HW8q4e).\n",
        "\n",
        "\n",
        "\n",
        "\n"
      ],
      "metadata": {
        "id": "rKs09edb_gFd"
      }
    },
    {
      "cell_type": "code",
      "source": [
        "amas <- MathAnxiety$AMAS  # boys and girls AMAS scores combined\n",
        "\n",
        "# vector with just the boy AMAS scores\n",
        "boy.amas <-subset(MathAnxiety, select = AMAS,\n",
        "                   Gender == \"Boy\", drop = TRUE)\n",
        "\n",
        "# vector with just the girl AMAS scores\n",
        "girl.amas <-subset(MathAnxiety, select = AMAS,\n",
        "                   Gender == \"Girl\", drop = TRUE)\n"
      ],
      "metadata": {
        "id": "vHjWhOADAx8I"
      },
      "execution_count": null,
      "outputs": []
    },
    {
      "cell_type": "markdown",
      "source": [
        "## <a name=\"HW8q4b\">Question 4b</a>\n",
        "\n",
        "---\n",
        "\n",
        "How many children are in the dataset? How many of the children identify as a boy? How many of the children identify as a girl?\n",
        "Answer the questions below using R commands, and be sure the output is printed to the screen.\n",
        "\n",
        "\n",
        "### Solution to Question 4b\n",
        "\n",
        "---\n",
        "\n",
        "<br>\n",
        "\n",
        "Complete each R code cell below to answer each question.\n"
      ],
      "metadata": {
        "id": "IbLGPsB__dwR"
      }
    },
    {
      "cell_type": "code",
      "source": [
        "# how many children are in sample?\n",
        "n.all <- nrow(MathAnxiety)\n",
        "\n",
        "# or below works too\n",
        "#n.all <- length(MathAnxiety$AMAS)\n",
        "\n",
        "n.all"
      ],
      "metadata": {
        "id": "fic0tS8MBTNL",
        "colab": {
          "base_uri": "https://localhost:8080/",
          "height": 34
        },
        "outputId": "6de75dca-4e2c-4211-eb19-67fa945b22ae"
      },
      "execution_count": null,
      "outputs": [
        {
          "output_type": "display_data",
          "data": {
            "text/html": [
              "599"
            ],
            "text/markdown": "599",
            "text/latex": "599",
            "text/plain": [
              "[1] 599"
            ]
          },
          "metadata": {}
        }
      ]
    },
    {
      "cell_type": "code",
      "source": [
        "# how many children in the sample identify as a boy?\n",
        "n.boy <- length(boy.amas)\n",
        "\n",
        "n.boy"
      ],
      "metadata": {
        "id": "ts6QUJ-fBYh8",
        "colab": {
          "base_uri": "https://localhost:8080/",
          "height": 34
        },
        "outputId": "954a1c21-76ae-4fe2-d871-7ac8064e13c1"
      },
      "execution_count": null,
      "outputs": [
        {
          "output_type": "display_data",
          "data": {
            "text/html": [
              "323"
            ],
            "text/markdown": "323",
            "text/latex": "323",
            "text/plain": [
              "[1] 323"
            ]
          },
          "metadata": {}
        }
      ]
    },
    {
      "cell_type": "code",
      "source": [
        "# how many children in the sample identify as a girl?\n",
        "n.girl <- length(girl.amas)\n",
        "\n",
        "n.girl"
      ],
      "metadata": {
        "id": "vv9FyyowBdmz",
        "colab": {
          "base_uri": "https://localhost:8080/",
          "height": 34
        },
        "outputId": "e21acfc9-60b9-477f-d162-8e19eda664db"
      },
      "execution_count": null,
      "outputs": [
        {
          "output_type": "display_data",
          "data": {
            "text/html": [
              "276"
            ],
            "text/markdown": "276",
            "text/latex": "276",
            "text/plain": [
              "[1] 276"
            ]
          },
          "metadata": {}
        }
      ]
    },
    {
      "cell_type": "markdown",
      "source": [
        "## <a name=\"HW8q4c\">Question 4c</a>\n",
        "\n",
        "---\n",
        "\n",
        "Create side-by-side box plots to show the math anxiety scores broken down by gender.\n",
        "\n",
        "**Both boys and girls scores should be graphed on the same plot as opposed to two separate plots.**\n",
        "\n",
        "### Solution to Question 4c\n",
        "\n",
        "---\n",
        "\n",
        "<br>\n",
        "\n",
        "Use the R code cell below.\n",
        "\n"
      ],
      "metadata": {
        "id": "SNURDnCQ_cHF"
      }
    },
    {
      "cell_type": "code",
      "source": [
        "?boxplot"
      ],
      "metadata": {
        "id": "w1gMz3id3fRH"
      },
      "execution_count": null,
      "outputs": []
    },
    {
      "cell_type": "code",
      "source": [
        "# create side-by-side boxplot\n",
        "boxplot(boy.amas, girl.amas, names = c(\"Boys\", \"Girls\"))\n",
        "\n",
        "# code below creats same plot\n",
        "#boxplot(AMAS ~ Gender, data = MathAnxiety)"
      ],
      "metadata": {
        "id": "nGqHqe2MBstD",
        "colab": {
          "base_uri": "https://localhost:8080/",
          "height": 437
        },
        "outputId": "41f60d44-6965-4591-b238-2d4e6b9b16f6"
      },
      "execution_count": null,
      "outputs": [
        {
          "output_type": "display_data",
          "data": {
            "text/plain": [
              "plot without title"
            ],
            "image/png": "[encoded data removed]"
          },
          "metadata": {
            "image/png": {
              "width": 420,
              "height": 420
            }
          }
        }
      ]
    },
    {
      "cell_type": "markdown",
      "source": [
        "## <a name=\"HW8q4d\">Question 4d</a>\n",
        "\n",
        "---\n",
        "\n",
        "What is the difference in the observed sample mean AMAS scores between the boys and girls? ~~Be sure to provide supporting explanations/calculations to justify your answers.~~\n",
        "\n",
        "### Solution to Question 4d\n",
        "\n",
        "---\n",
        "\n",
        "<br>\n",
        "\n",
        "Use the code cell below to answer the question. Be sure the output is printed to the screen.\n",
        "\n",
        "\n"
      ],
      "metadata": {
        "id": "cMeEYns5_aHa"
      }
    },
    {
      "cell_type": "code",
      "source": [
        "# Enter R command(s) to answer 4d\n",
        "obs.diff <- mean(boy.amas) - mean(girl.amas)\n",
        "obs.diff"
      ],
      "metadata": {
        "id": "NlLD4FHmB5Ys",
        "colab": {
          "base_uri": "https://localhost:8080/",
          "height": 34
        },
        "outputId": "e5f1fc1d-adcd-4c70-e010-b8cc42eee5fb"
      },
      "execution_count": null,
      "outputs": [
        {
          "output_type": "display_data",
          "data": {
            "text/html": [
              "-1.76759994615695"
            ],
            "text/markdown": "-1.76759994615695",
            "text/latex": "-1.76759994615695",
            "text/plain": [
              "[1] -1.7676"
            ]
          },
          "metadata": {}
        }
      ]
    },
    {
      "cell_type": "markdown",
      "source": [
        "## <a name=\"HW8q4e\">Question 4e</a>\n",
        "\n",
        "---\n",
        "\n",
        "Create a bootstrap distribution for the difference in the mean anxiety score between boys and girls using the original sample.\n",
        "Use $N=10^5$ as the number of bootstrap samples.\n",
        "\n",
        "<br>\n",
        "\n",
        "The code has been partially completed, complete the rest by replacing each `??` with appropriate code.\n",
        "\n",
        "### Solution to Question 4e\n",
        "\n",
        "---\n",
        "\n",
        "-   The code cell below is one way to do this.\n",
        "-   If you used different array names in [Question 4a](#HW8q4a), then be sure to edit the code cell below accordingly.\n",
        "-   Feel free to use another method if your prefer.\n",
        "\n"
      ],
      "metadata": {
        "id": "-R0GdWWC_XlC"
      }
    },
    {
      "cell_type": "code",
      "source": [
        "set.seed(mmdd)  # set seed for fixed output\n",
        "\n",
        "N <- 10^5\n",
        "diff.mean <- numeric(N)\n",
        "for (i in 1:N)\n",
        "{\n",
        "  boy.sample <- sample(boy.amas, size = n.boy, replace = TRUE)  # bootstrap resample for boys\n",
        "  girl.sample <- sample(girl.amas, size = n.girl, replace = TRUE)  # bootstrap resample for girls\n",
        "  diff.mean[i] <- mean(boy.sample) - mean(girl.sample)  # diff in bootstrap sample means\n",
        "}"
      ],
      "metadata": {
        "id": "lQr8nRM_CNU-"
      },
      "execution_count": null,
      "outputs": []
    },
    {
      "cell_type": "markdown",
      "source": [
        "## <a name=\"HW8q4f\">Question 4f</a>\n",
        "\n",
        "---\n",
        "\n",
        "What is the mean of the bootstrap distribution you found in [Question 4e](#HW8q4e)?\n",
        "\n",
        "### Solution to Question 4f\n",
        "\n",
        "---\n",
        "\n",
        "<br>\n",
        "\n",
        "Use the code cell below to answer the question.\n",
        "\n"
      ],
      "metadata": {
        "id": "cciwJCHi_ViR"
      }
    },
    {
      "cell_type": "code",
      "source": [
        "# compute the mean of bootstrap dist\n",
        "boot.amas.mean <- mean(diff.mean)\n",
        "boot.amas.mean"
      ],
      "metadata": {
        "id": "SpHaCeh5CiFI",
        "colab": {
          "base_uri": "https://localhost:8080/",
          "height": 34
        },
        "outputId": "20b51334-e9df-47af-bd58-cf609340789f"
      },
      "execution_count": null,
      "outputs": [
        {
          "output_type": "display_data",
          "data": {
            "text/html": [
              "-1.76890291896621"
            ],
            "text/markdown": "-1.76890291896621",
            "text/latex": "-1.76890291896621",
            "text/plain": [
              "[1] -1.768903"
            ]
          },
          "metadata": {}
        }
      ]
    },
    {
      "cell_type": "markdown",
      "source": [
        "## <a name=\"HW8q4g\">Question 4g</a>\n",
        "\n",
        "---\n",
        "\n",
        "What is the bootstrap standard error?\n",
        "\n",
        "### Solution to Question 4g\n",
        "\n",
        "---\n",
        "\n",
        "\n",
        "<br>\n",
        "\n",
        "Use the code cell below to answer the question.\n"
      ],
      "metadata": {
        "id": "xsyTAFPf_RV3"
      }
    },
    {
      "cell_type": "code",
      "source": [
        "# compute the bootstrap standard error\n",
        "boot.amas.se <- sd(diff.mean)\n",
        "boot.amas.se"
      ],
      "metadata": {
        "id": "u46YEdL6Cpua",
        "colab": {
          "base_uri": "https://localhost:8080/",
          "height": 34
        },
        "outputId": "0d2cc3ac-0ba7-4bac-ca12-1f0eedd2377d"
      },
      "execution_count": null,
      "outputs": [
        {
          "output_type": "display_data",
          "data": {
            "text/html": [
              "0.53510912341923"
            ],
            "text/markdown": "0.53510912341923",
            "text/latex": "0.53510912341923",
            "text/plain": [
              "[1] 0.5351091"
            ]
          },
          "metadata": {}
        }
      ]
    },
    {
      "cell_type": "markdown",
      "source": [
        "## <a name=\"HW8q4h\">Question 4h</a>\n",
        "\n",
        "---\n",
        "\n",
        "Based on the bootstrap distribution you created in [Question 4e](#HW8q4e), what is the bootstrap estimate of the bias?\n",
        "\n",
        "\n",
        "### Solution to Question 4h\n",
        "\n",
        "---\n",
        "\n",
        "<br>  \n",
        "\n",
        "Use the code cell below to answer the question.\n",
        "\n"
      ],
      "metadata": {
        "id": "wlXcKXrfFbA6"
      }
    },
    {
      "cell_type": "code",
      "source": [
        "# Calculate the bootstrap estimate for bias\n",
        "amas.bias <- boot.amas.mean - obs.diff  # using previously stored results\n",
        "\n",
        "# the command above is equivalent to the command below\n",
        "#amas.bias <- mean(diff.mean) - ( mean(boys.amas) - mean(girls.amas) )\n",
        "\n",
        "amas.bias"
      ],
      "metadata": {
        "id": "_NklG9YoFNPk",
        "colab": {
          "base_uri": "https://localhost:8080/",
          "height": 34
        },
        "outputId": "204af057-6092-4b80-a7aa-5b19274d72d6"
      },
      "execution_count": null,
      "outputs": [
        {
          "output_type": "display_data",
          "data": {
            "text/html": [
              "-0.00130297280926106"
            ],
            "text/markdown": "-0.00130297280926106",
            "text/latex": "-0.00130297280926106",
            "text/plain": [
              "[1] -0.001302973"
            ]
          },
          "metadata": {}
        }
      ]
    },
    {
      "cell_type": "markdown",
      "source": [
        "## <a name=\"HW8q4h\">Question 4i</a>\n",
        "\n",
        "---\n",
        "\n",
        "Calculate the ratio of the bootstrap bias over the bootstrap standard error. Does this exceed the rule of thumb level for having a substantial effect on the accuracy of the estimate?\n",
        "\n",
        "### Solution to Question 4i\n",
        "\n",
        "---\n",
        "\n",
        "<br>\n",
        "\n",
        "In the space below, comment on whether this exceeds the rule of thumb level for having a substantial effect on the accuracy of the estimate?\n",
        "\n",
        "<br>  \n",
        "\n",
        "- Since the absolute value of the ratio of bias is less than $0.02$, the bias IS NOT going to have a substantial effect.\n",
        "\n",
        "- Another correct answer: Since the ratio $-0.02 < -0.0024 < 0.02$, the bias IS NOT going to have a substantial effect.\n",
        "\n",
        "- It is possible some seeds to lead to a higher ratio of bias and might exceed the limit, but not likely.\n",
        "\n",
        "\n",
        "<br>  \n"
      ],
      "metadata": {
        "id": "BRqBMD8-FNPw"
      }
    },
    {
      "cell_type": "code",
      "source": [
        "# Calculate the ratio\n",
        "ratio.cobalt <- amas.bias / boot.amas.se\n",
        "\n",
        "ratio.cobalt"
      ],
      "metadata": {
        "id": "lsL47TJOFNPw",
        "colab": {
          "base_uri": "https://localhost:8080/",
          "height": 34
        },
        "outputId": "858aed68-a6cb-45c2-e4b6-f5ba2afb759a"
      },
      "execution_count": null,
      "outputs": [
        {
          "output_type": "display_data",
          "data": {
            "text/html": [
              "-0.00243496653717161"
            ],
            "text/markdown": "-0.00243496653717161",
            "text/latex": "-0.00243496653717161",
            "text/plain": [
              "[1] -0.002434967"
            ]
          },
          "metadata": {}
        }
      ]
    },
    {
      "cell_type": "markdown",
      "source": [
        "## <a name=\"HW8q4j\">Question 4j</a>\n",
        "\n",
        "---\n",
        "\n",
        "Give a 99% bootstrap percentile confidence interval to estimate the difference in the mean AMAS scores between all boys and girls.\n",
        "\n",
        "\n",
        "Then create a histogram of the bootstrap distribution with vertical lines indicating the cutoffs for the confidence interval.\n",
        "\n",
        "### Solution to Question 4j\n",
        "\n",
        "---\n",
        "\n",
        "<br>\n",
        "\n",
        "Use the code cell below to compute the confidence interval cutoffs. Enter your values in the space below. Round to three decimal places.\n",
        "\n",
        "<br>\n",
        "\n",
        "- My lower cutoff for a 99% boostrap percentile confidence interval is <mark>$ -3.133$</mark>.\n",
        "\n",
        "<br>\n",
        "\n",
        "- My upper cutoff for a 99% boostrap percentile confidence interval is <mark>$ -0.385$</mark>.\n",
        "\n",
        "<br>\n",
        "\n",
        "\n",
        "\n"
      ],
      "metadata": {
        "id": "2AROEVXAFNPw"
      }
    },
    {
      "cell_type": "code",
      "source": [
        "# Find cutoffs for 99% bootstrap percentile conf int\n",
        "lower.amas <- quantile(diff.mean, probs = 0.005)\n",
        "upper.amas <- quantile(diff.mean, probs = 0.995)\n",
        "\n",
        "lower.amas\n",
        "upper.amas\n"
      ],
      "metadata": {
        "id": "cwq2GLOyFNPw",
        "colab": {
          "base_uri": "https://localhost:8080/",
          "height": 52
        },
        "outputId": "36cf6bf1-16f0-4cb0-8d71-e170417b2c79"
      },
      "execution_count": null,
      "outputs": [
        {
          "output_type": "display_data",
          "data": {
            "text/html": [
              "<strong>0.5%:</strong> -3.13297056580069"
            ],
            "text/markdown": "**0.5%:** -3.13297056580069",
            "text/latex": "\\textbf{0.5\\textbackslash{}\\%:} -3.13297056580069",
            "text/plain": [
              "     0.5% \n",
              "-3.132971 "
            ]
          },
          "metadata": {}
        },
        {
          "output_type": "display_data",
          "data": {
            "text/html": [
              "<strong>99.5%:</strong> -0.384931910979496"
            ],
            "text/markdown": "**99.5%:** -0.384931910979496",
            "text/latex": "\\textbf{99.5\\textbackslash{}\\%:} -0.384931910979496",
            "text/plain": [
              "     99.5% \n",
              "-0.3849319 "
            ]
          },
          "metadata": {}
        }
      ]
    },
    {
      "cell_type": "code",
      "source": [
        "# Show bootstrap distribution\n",
        "hist(diff.mean,  xlab = \"xbar1-xbar2\",\n",
        "     main = \"Bootstrap Distribution\")\n",
        "\n",
        "# Add a red line at the observed difference in sample means\n",
        "abline(v = obs.diff, col = \"red\", lwd = 2, lty = 1)\n",
        "\n",
        "# Add a blue line at the lower cuttoff\n",
        "abline(v = lower.amas, col = \"blue\", lwd = 2, lty = 1)\n",
        "\n",
        "# Add a blue line at the upper cuttoff\n",
        "abline(v = upper.amas, col = \"blue\", lwd = 2, lty = 1)"
      ],
      "metadata": {
        "id": "3FuyAFSYFNPw",
        "colab": {
          "base_uri": "https://localhost:8080/",
          "height": 437
        },
        "outputId": "fe3574f3-8a52-44ab-bd79-cbdb054b7b0f"
      },
      "execution_count": null,
      "outputs": [
        {
          "output_type": "display_data",
          "data": {
            "text/plain": [
              "Plot with title “Bootstrap Distribution”"
            ],
            "image/png": "[encoded data removed]"
          },
          "metadata": {
            "image/png": {
              "width": 420,
              "height": 420
            }
          }
        }
      ]
    },
    {
      "cell_type": "markdown",
      "source": [
        "## <a name=\"HW8q4k\">Question 4k</a>\n",
        "\n",
        "---\n",
        "\n",
        "Based on your answer in [Question 4j](#HW8q4j), do you believe it is plausible that the boys and girls have different levels of math anxiety?\n",
        "\n",
        "\n",
        "### Solution to Question 4k\n",
        "\n",
        "---\n",
        "\n",
        "<br>\n",
        "\n",
        "Support your answer with an explanation.\n",
        "\n",
        "\n",
        "\n",
        "<br>  \n",
        "\n",
        "- Based on the 99% bootstrap percentile confidence interval, the only plausible values for the difference in mean AMAS scores of all boys and girls are negative, $\\mu_{\\rm{boy}} - \\mu_{\\rm{girl}} < 0$. Thus, based on our sample we have supporting evidence that $\\mu_{\\rm{boy}} < \\mu_{\\rm{girl}}$. This means on average, girls have more anxiety with math than boys.\n",
        "\n",
        "- Also acceptable: Since $0$ is not in the interval, we have evidence that there is a difference in the mean anxiety levels of boys and girls (and not state boys < girls).\n",
        "\n",
        "<br>  "
      ],
      "metadata": {
        "id": "GeDfjJiRFNPw"
      }
    },
    {
      "cell_type": "markdown",
      "source": [
        "# <a name=\"HW8q5\">Question 5: Bootstrapping a Difference in Matched Pairs</a>\n",
        "\n",
        "---\n",
        "\n",
        "The package `resampledata` contains the dataset `Groceries` that has the prices at Walmart and Target for a sample of 30 different items.\n",
        "\n",
        "<br>\n",
        "\n",
        "We want to find a 90% bootstrap percentile confidence interval for the mean difference in price of items at Walmart and Target.\n",
        "\n",
        "<br>\n",
        "\n",
        "Run the code cells below to:\n",
        "\n",
        "1. Install `resampledata`.\n",
        "2. Load `resampledata` and summarize `Groceries`.\n",
        "3. Enter your birth month and date.\n"
      ],
      "metadata": {
        "id": "v6b3CkTQh4IY"
      }
    },
    {
      "cell_type": "code",
      "source": [
        "install.packages(\"resampledata\")  # install package"
      ],
      "metadata": {
        "id": "HdRuMX6FHkPF",
        "colab": {
          "base_uri": "https://localhost:8080/"
        },
        "outputId": "364faeed-35ca-46c6-faf4-7a50f85a2c16"
      },
      "execution_count": null,
      "outputs": [
        {
          "output_type": "stream",
          "name": "stderr",
          "text": [
            "Installing package into ‘/usr/local/lib/R/site-library’\n",
            "(as ‘lib’ is unspecified)\n",
            "\n"
          ]
        }
      ]
    },
    {
      "cell_type": "code",
      "source": [
        "library(resampledata)  # load package\n",
        "summary(Groceries)  # summarize the data"
      ],
      "metadata": {
        "id": "ZnMca8x0HkPP",
        "colab": {
          "base_uri": "https://localhost:8080/",
          "height": 295
        },
        "outputId": "a248bd99-ccfa-46dc-949b-61b28e73ee43"
      },
      "execution_count": null,
      "outputs": [
        {
          "output_type": "display_data",
          "data": {
            "text/plain": [
              "                                               Product       Size          \n",
              " Annie's Macaroni & Cheese                         : 1   Length:30         \n",
              " Barilla Angel Hair Pasta                          : 1   Class :character  \n",
              " Betty Crocker Super Moist Chocolate Fudge Cake Mix: 1   Mode  :character  \n",
              " Campbell's Chicken Noodle Soup                    : 1                     \n",
              " Cheez-it Original Baked                           : 1                     \n",
              " Dinty Moore Hearty Meals Beef Stew                : 1                     \n",
              " (Other)                                           :24                     \n",
              "     Target         Walmart         Units             UnitType        \n",
              " Min.   :0.990   Min.   :1.000   Length:30          Length:30         \n",
              " 1st Qu.:1.827   1st Qu.:1.760   Class :character   Class :character  \n",
              " Median :2.545   Median :2.340   Mode  :character   Mode  :character  \n",
              " Mean   :2.762   Mean   :2.706                                        \n",
              " 3rd Qu.:3.140   3rd Qu.:2.955                                        \n",
              " Max.   :7.990   Max.   :6.980                                        \n",
              "                                                                      "
            ]
          },
          "metadata": {}
        }
      ]
    },
    {
      "cell_type": "code",
      "source": [
        "# enter your birth month and date for mmdd\n",
        "mmdd <- 111"
      ],
      "metadata": {
        "id": "8EgaiHRTHkPP"
      },
      "execution_count": null,
      "outputs": []
    },
    {
      "cell_type": "markdown",
      "source": [
        "## <a name=\"HW8q5a\">Question 5a</a>\n",
        "\n",
        "---\n",
        "\n",
        "Calculate the mean and standard deviation for the price of items at **Walmart**.\n",
        "\n",
        "<br>\n",
        "\n",
        "Calculate the mean and standard deviation for the price of items at **Target**.\n",
        "\n",
        "<br>\n",
        "\n",
        "### Solution to Question 5a\n",
        "\n",
        "---\n",
        "\n",
        "<br>\n",
        "\n",
        "Use the code cells below to answer the question.\n"
      ],
      "metadata": {
        "id": "frRXC7yVHdd5"
      }
    },
    {
      "cell_type": "code",
      "source": [
        "# compute the mean and standard deviation\n",
        "# for the price of items at Walmart\n",
        "wal.mean <- mean(Groceries$Walmart)\n",
        "wal.sd <- sd(Groceries$Walmart)\n",
        "\n",
        "wal.mean\n",
        "wal.sd"
      ],
      "metadata": {
        "id": "GHYmudzWIxjv",
        "colab": {
          "base_uri": "https://localhost:8080/",
          "height": 52
        },
        "outputId": "658f9636-c3be-4114-e47b-672b7ecc4acc"
      },
      "execution_count": null,
      "outputs": [
        {
          "output_type": "display_data",
          "data": {
            "text/html": [
              "2.70566666666667"
            ],
            "text/markdown": "2.70566666666667",
            "text/latex": "2.70566666666667",
            "text/plain": [
              "[1] 2.705667"
            ]
          },
          "metadata": {}
        },
        {
          "output_type": "display_data",
          "data": {
            "text/html": [
              "1.56021148728545"
            ],
            "text/markdown": "1.56021148728545",
            "text/latex": "1.56021148728545",
            "text/plain": [
              "[1] 1.560211"
            ]
          },
          "metadata": {}
        }
      ]
    },
    {
      "cell_type": "code",
      "source": [
        "# compute the mean and standard deviation\n",
        "# for the price of items at Target\n",
        "tar.mean <- mean(Groceries$Target)\n",
        "tar.sd <- sd(Groceries$Target)\n",
        "\n",
        "tar.mean\n",
        "tar.sd"
      ],
      "metadata": {
        "id": "AQ-XDgZyI5qG",
        "colab": {
          "base_uri": "https://localhost:8080/",
          "height": 52
        },
        "outputId": "76b653f9-7f0c-4dc0-8643-3354a78b1510"
      },
      "execution_count": null,
      "outputs": [
        {
          "output_type": "display_data",
          "data": {
            "text/html": [
              "2.76233333333333"
            ],
            "text/markdown": "2.76233333333333",
            "text/latex": "2.76233333333333",
            "text/plain": [
              "[1] 2.762333"
            ]
          },
          "metadata": {}
        },
        {
          "output_type": "display_data",
          "data": {
            "text/html": [
              "1.58212795012752"
            ],
            "text/markdown": "1.58212795012752",
            "text/latex": "1.58212795012752",
            "text/plain": [
              "[1] 1.582128"
            ]
          },
          "metadata": {}
        }
      ]
    },
    {
      "cell_type": "markdown",
      "source": [
        "## <a name=\"HW8q5b\">Question 5b</a>\n",
        "\n",
        "---\n",
        "\n",
        "Create a new vector consisting of the differences in prices of the 30 matched pairs.\n",
        "Then calculate the sample mean of the difference in prices at Walmart and Target of the 30 items.\n",
        "\n",
        "-   Note the name of your vector will be useful in [Question 5c](#HW8q5c).\n",
        "\n",
        "### Solution to Question 5b\n",
        "\n",
        "---\n",
        "\n",
        "<br>\n",
        "\n",
        "Use the code cells below to answer the question.\n",
        "\n"
      ],
      "metadata": {
        "id": "N4YF3sT3IRkX"
      }
    },
    {
      "cell_type": "code",
      "source": [
        "# Create a vector of the differences\n",
        "# in prices of the matched pairs\n",
        "diff <- Groceries$Walmart - Groceries$Target"
      ],
      "metadata": {
        "id": "frRTTXJ4JGTw"
      },
      "execution_count": null,
      "outputs": []
    },
    {
      "cell_type": "code",
      "source": [
        "# compute the mean difference in matched pairs\n",
        "obs.match <- mean(diff)\n",
        "\n",
        "obs.match"
      ],
      "metadata": {
        "id": "HkBi7nzrJRAo",
        "colab": {
          "base_uri": "https://localhost:8080/",
          "height": 34
        },
        "outputId": "00f9803e-33a9-471a-a0c0-a4260a928173"
      },
      "execution_count": null,
      "outputs": [
        {
          "output_type": "display_data",
          "data": {
            "text/html": [
              "-0.0566666666666667"
            ],
            "text/markdown": "-0.0566666666666667",
            "text/latex": "-0.0566666666666667",
            "text/plain": [
              "[1] -0.05666667"
            ]
          },
          "metadata": {}
        }
      ]
    },
    {
      "cell_type": "markdown",
      "source": [
        "## <a name=\"HW8q5c\">Question 5c</a>\n",
        "\n",
        "---\n",
        "\n",
        "Create a bootstrap distribution for the mean matched-pair difference in the prices at Walmart and Target using the original sample.\n",
        "Use $N=10^5$ as the number of bootstrap samples.\n",
        "\n",
        "### Solution to Question 5c\n",
        "\n",
        "---\n",
        "\n",
        "Replace each `??` to complete the code and create a bootstrap distribution for the mean match-pair difference.\n",
        "\n",
        "-   The code cell below is one way to do this.\n",
        "-   Feel free to use another method if your prefer.\n",
        "\n"
      ],
      "metadata": {
        "id": "11aVmlHrIP9M"
      }
    },
    {
      "cell_type": "code",
      "source": [
        "set.seed(mmdd)  # set for consistent output\n",
        "\n",
        "N <- 10^5\n",
        "boot.matched <- numeric(N)\n",
        "for (i in 1:N)\n",
        "{\n",
        "  x <- sample(diff, size = 30, replace = TRUE)  # bootstrap resample from differences\n",
        "  boot.matched[i] <- mean(x)  # mean of matched-pair differences\n",
        "}"
      ],
      "metadata": {
        "id": "SUiFwu2SJjvJ"
      },
      "execution_count": null,
      "outputs": []
    },
    {
      "cell_type": "markdown",
      "source": [
        "## <a name=\"HW8q5d\">Question 5d</a>\n",
        "\n",
        "---\n",
        "\n",
        "Calculate the ratio of the bootstrap bias over the bootstrap standard error. Does this exceed the rule of thumb level for having a substantial effect on the accuracy of the estimate?\n",
        "\n",
        "### Solution to Question 5d\n",
        "\n",
        "---\n",
        "\n",
        "<br>\n",
        "\n",
        "In the space below, comment on whether this exceeds the rule of thumb level for having a substantial effect on the accuracy of the estimate?\n",
        "\n",
        "<br>  \n",
        "- Since the absolute value of the ratio of bias is less than $0.02$, the bias IS NOT going to have a substantial effect.\n",
        "\n",
        "- Another correct answer: Since the ratio $-0.02 < 0.0002 < 0.02$, the bias IS NOT going to have a substantial effect.\n",
        "\n",
        "- It is possible some seeds to lead to a higher ratio of bias and might exceed the limit, but not likely.\n",
        "\n",
        "<br>  \n"
      ],
      "metadata": {
        "id": "lmWvx8jDJ9M6"
      }
    },
    {
      "cell_type": "code",
      "source": [
        "# Calculate the ratio of the bootstrap bias\n",
        "# to the bootstrap standard error\n",
        "price.boot.mean <- mean(boot.matched)\n",
        "price.boot.se <- sd(boot.matched)\n",
        "\n",
        "price.bias <- price.boot.mean - obs.match\n",
        "# price.bias <- mean(boot.matched) - mean(diff)\n",
        "\n",
        "price.ratio <- price.bias / price.boot.se\n",
        "price.ratio"
      ],
      "metadata": {
        "id": "z4qN5QB7J9NC",
        "colab": {
          "base_uri": "https://localhost:8080/",
          "height": 34
        },
        "outputId": "da8e27ea-4b5e-4a35-ba6e-92b0dcb6c031"
      },
      "execution_count": null,
      "outputs": [
        {
          "output_type": "display_data",
          "data": {
            "text/html": [
              "0.000238156407231271"
            ],
            "text/markdown": "0.000238156407231271",
            "text/latex": "0.000238156407231271",
            "text/plain": [
              "[1] 0.0002381564"
            ]
          },
          "metadata": {}
        }
      ]
    },
    {
      "cell_type": "markdown",
      "source": [
        "## <a name=\"HW8q5e\">Question 5e</a>\n",
        "\n",
        "---\n",
        "\n",
        "Give a 90% bootstrap percentile confidence interval to estimate the mean matched pair difference in price.\n",
        "\n",
        "\n",
        "Then create a histogram of the bootstrap distribution with vertical lines indicating the cutoffs for the confidence interval.\n",
        "\n",
        "### Solution to Question 5e\n",
        "\n",
        "---\n",
        "\n",
        "<br>\n",
        "\n",
        "Use the code cell below to compute the confidence interval cutoffs. Enter your values in the space below. Round to three decimal places.\n",
        "\n",
        "<br>\n",
        "\n",
        "- My lower cutoff for a 90% boostrap percentile confidence interval is <mark>$- \\$0.234$</mark>.\n",
        "\n",
        "<br>\n",
        "\n",
        "- My upper cutoff for a 90% boostrap percentile confidence interval is <mark>$ \\$0.154$</mark>.\n",
        "\n",
        "<br>\n",
        "\n",
        "\n",
        "\n"
      ],
      "metadata": {
        "id": "ndZoMdORKRqc"
      }
    },
    {
      "cell_type": "code",
      "source": [
        "# Find cutoffs for 90% bootstrap percentile conf int\n",
        "lower.price <- quantile(boot.matched, probs = 0.05)\n",
        "upper.price <- quantile(boot.matched, probs = 0.95)\n",
        "\n",
        "lower.price\n",
        "upper.price"
      ],
      "metadata": {
        "id": "V09lQt0tKRqm",
        "colab": {
          "base_uri": "https://localhost:8080/",
          "height": 52
        },
        "outputId": "a7f39a9a-f01b-4e45-e521-9c27f3a72b02"
      },
      "execution_count": null,
      "outputs": [
        {
          "output_type": "display_data",
          "data": {
            "text/html": [
              "<strong>5%:</strong> -0.234"
            ],
            "text/markdown": "**5%:** -0.234",
            "text/latex": "\\textbf{5\\textbackslash{}\\%:} -0.234",
            "text/plain": [
              "    5% \n",
              "-0.234 "
            ]
          },
          "metadata": {}
        },
        {
          "output_type": "display_data",
          "data": {
            "text/html": [
              "<strong>95%:</strong> 0.154333333333333"
            ],
            "text/markdown": "**95%:** 0.154333333333333",
            "text/latex": "\\textbf{95\\textbackslash{}\\%:} 0.154333333333333",
            "text/plain": [
              "      95% \n",
              "0.1543333 "
            ]
          },
          "metadata": {}
        }
      ]
    },
    {
      "cell_type": "code",
      "source": [
        "# Show bootstrap distribution\n",
        "hist(boot.matched,  xlab = \"sample matched pair diff\",\n",
        "     main = \"Bootstrap Distribution\")\n",
        "\n",
        "# Add a red line at the observed mean diff in matched pairs\n",
        "abline(v = obs.match, col = \"red\", lwd = 2, lty = 1)\n",
        "\n",
        "# Add a blue line at the lower cuttoff\n",
        "abline(v = lower.price, col = \"blue\", lwd = 2, lty = 1)\n",
        "\n",
        "# Add a blue line at the upper cuttoff\n",
        "abline(v = upper.price, col = \"blue\", lwd = 2, lty = 1)"
      ],
      "metadata": {
        "id": "hs1g3MQqKRqn",
        "colab": {
          "base_uri": "https://localhost:8080/",
          "height": 437
        },
        "outputId": "db13a475-be84-48df-eab9-7f3bfa36a652"
      },
      "execution_count": null,
      "outputs": [
        {
          "output_type": "display_data",
          "data": {
            "text/plain": [
              "Plot with title “Bootstrap Distribution”"
            ],
            "image/png": "[encoded data removed]"
          },
          "metadata": {
            "image/png": {
              "width": 420,
              "height": 420
            }
          }
        }
      ]
    },
    {
      "cell_type": "markdown",
      "source": [
        "## <a name=\"HW8q5f\">Question 5f</a>\n",
        "\n",
        "---\n",
        "\n",
        "Based on your answer in [Question 5e](#HW8q5e), do you believe it is plausible that there is a difference in the price at Walmart and Target?\n",
        "\n",
        "\n",
        "### Solution to Question 5f\n",
        "\n",
        "---\n",
        "\n",
        "<br>\n",
        "\n",
        "Support your answer with an explanation.\n",
        "\n",
        "\n",
        "<br>  \n",
        "\n",
        "- Since the 90% bootstrap percentile confidence interval contains values that are positive, negative, and 0, we see that is is plausible that either:\n",
        "  - Prices at Walmart are greater than prices at Target.\n",
        "  - Prices at Walmart are less than prices at Target.\n",
        "  - There is no difference in prices at Walmart and Target.\n",
        "- Thus, based on this data, we cannot conclude anything about prices at Walmart compared to Target.\n",
        "\n",
        "\n",
        "\n",
        "<br>  \n"
      ],
      "metadata": {
        "id": "nY4Dc8PCKRqn"
      }
    }
  ]
}