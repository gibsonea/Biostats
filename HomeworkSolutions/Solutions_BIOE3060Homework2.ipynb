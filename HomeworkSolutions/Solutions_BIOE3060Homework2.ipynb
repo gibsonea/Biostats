{
  "nbformat": 4,
  "nbformat_minor": 0,
  "metadata": {
    "colab": {
      "provenance": [],
      "include_colab_link": true
    },
    "kernelspec": {
      "name": "ir",
      "display_name": "R"
    },
    "language_info": {
      "name": "R"
    }
  },
  "cells": [
    {
      "cell_type": "markdown",
      "metadata": {
        "id": "view-in-github",
        "colab_type": "text"
      },
      "source": [
        "<a href=\"https://colab.research.google.com/github/gibsonea/Biostats/blob/main/HomeworkSolutions/Solutions_BIOE3060Homework2.ipynb\" target=\"_parent\"><img src=\"https://colab.research.google.com/assets/colab-badge.svg\" alt=\"Open In Colab\"/></a>"
      ]
    },
    {
      "cell_type": "markdown",
      "source": [
        "# Homework 2\n",
        "\n",
        "---"
      ],
      "metadata": {
        "id": "TLH2NCL-V8J_"
      }
    },
    {
      "cell_type": "markdown",
      "source": [
        "## <a name=\"HW1Inst\">Instructions:</a>\n",
        "---\n",
        "\n",
        "1. <font color=\"tomato\">Either click the COPY TO DRIVE button or use the menu File/Save/Save a Copy to save your own version of the notebook in your own folder in Google Drive.</font>\n",
        "\n",
        "  - If you do not have a Google account, you will need to create a Google account in order to create your own individual copy of this notebook.\n",
        "  - By default, the notebook will be saved in a folder named **Colab Notebooks** in your drive.\n",
        "  - Feel free to name and store the notebook wherever you like!\n",
        "\n",
        "2. <font color=\"mediumseagreen\">After you have copied the notebook into your Drive, you can begin editing and saving your work.</font>\n",
        "\n",
        "**Upload your completed assignment into Canvas as a Google Colab (or Jupyter) Notebook with file extension `.ipynb`.**\n",
        "\n",
        "Upload your file into the Homework 2 assignment in Canvas.\n",
        "\n",
        "**You must provide supporting work for your all of your answers.**\n",
        "\n",
        "  - <font color=\"dodgerblue\">That work will include using R code cells.</font>\n",
        "    - **Feel free to insert as much R code as you like.**\n",
        "    - You must interpret or explain how the output of a code cell is being utilized to solve the problem.\n",
        "    - **Code with incomplete or missing explanations of why the output is useful may not receive full credit.**\n",
        "  - <font color=\"dodgerblue\">Your work will also involve writing explanations and justifications in text cells.</font>\n",
        "    - **Be sure to type/write out the steps of your work/explanation so I can see how you arrived at your answer.**\n",
        "\n",
        "\n",
        "## Important Academic Policies:\n",
        "---\n",
        "\n",
        "- **Be your own work.** Though you may collaborate with others, everyone is responsible for writing up the work in their own way using their own methods. Plagiarism of any form is not tolerated.\n",
        "- **Be complete.** You must provide all work and/or explanations needed to find the solution. Answers with insufficient or incomplete supporting work may lose credit.\n",
        "- **Adhere to the Code of Academic Honesty.**\n",
        "- **Be clearly written (and legible if written).** Your solution to a problem must be clear, written in complete sentences. You may lose credit for work that is unclear or hard to follow.\n",
        "\n",
        "## <font color=\"dodgerblue\">Let me know if you need help, and **GOOD LUCK!!!**</font>\n",
        "\n",
        "----"
      ],
      "metadata": {
        "id": "gr9nGY7MSp23"
      }
    },
    {
      "cell_type": "markdown",
      "source": [
        "\n",
        "# <a name=\"HW3Q2\">Question 1</a>\n",
        "\n",
        "---\n",
        "\n",
        "Suppose an influenza epidemic strikes a city.  In 10% of families, the mother has influenza; in 10% of families, the father has influenza; and in 2% of families, both the mother and father have influenza.  Answer the following questions.\n",
        "\n",
        "<br>\n",
        "\n",
        "(i)\tAre the events A = {mother has influenza} and B = {father has influenza} independent?\n",
        "\n",
        "- Show this using probability calculations and provide an explanation for your answer.\n",
        "\n",
        "(ii) What is the conditional probability that the father has influenza given that the mother has influenza?\n",
        "\n",
        "(iii)\tWhat is the conditional probability that the father has influenza given that the mother does NOT have influenza?\n",
        "\n",
        "<br>  \n",
        "\n",
        "### Solution to Question 1\n",
        "\n",
        "---\n",
        "Type your answers in the space below.  You can use the code cell below for any calculations.\n",
        "\n",
        "<br>\n",
        "\n",
        "(i) The probability that both the mother and father have the flu is expressed as $P(A\\cap B)$.  If these events are independent then:  $P(A\\cap B) = P(A)\\times P(B) = (0.1)\\times (0.1) = 0.01$ or 1%.\n",
        "\n",
        "However we are told that it is in fact 2%, therefore these two events are NOT independent.\n",
        "\n",
        "<br>\n",
        "\n",
        "(ii) We express this probability as $P(B|A)$ which by definitions is:\n",
        "$P(B|A) = \\frac{P(A \\cap B)}{P(A)} = \\frac{0.02}{.1} = 0.2$ or 20%\n",
        "\n",
        "<br>\n",
        "\n",
        "(iii) We express this probability as $P(B|\\bar{A}) = \\frac{P(\\bar{A} \\cap B)}{P(\\bar{A})} =  \\frac{P(B)-P(B\\cap A)}{1 - P(A)} = \\frac{0.1 - 0.02}{1 - .1} = \\frac{0.08}{0.9} = 0.089$ or 8.9%\n",
        "\n",
        "\n",
        "\n",
        "\n",
        "<br>\n"
      ],
      "metadata": {
        "id": "dYNTFAYQ_Eso"
      }
    },
    {
      "cell_type": "code",
      "source": [
        "# code to support answers above"
      ],
      "metadata": {
        "id": "o-y577DCUWvd"
      },
      "execution_count": null,
      "outputs": []
    },
    {
      "cell_type": "markdown",
      "source": [
        "\n",
        "# <a name=\"HW3Q2\">Question 2</a>\n",
        "\n",
        "---\n",
        "\n",
        "The R package `MASS` contains a data set `birthwt` with data from a study on various risk factors associated with low infant birth weights. The `birthwt` data set contains a sample of 189 pregnancies at Baystate Medical Center in Springfield, Massachusetts. In this question, you will consider whether there is any relation between smoking during pregnancy and infant birth weight. The variables we will analyze are:\n",
        "\n",
        "- The smoking status of the pregnant parent.\n",
        "  - `smoke` 0 means non-smoker.\n",
        "  - `smoke` 1 means smoker.\n",
        "- Whether the infant has a low birth weight (less than 2.5 kg).\n",
        "  - `low` 0 means not a low birth weight.\n",
        "  - `low` 1 means did have low birth weight.\n",
        "\n",
        "\n",
        "\n"
      ],
      "metadata": {
        "id": "kes30v1XRdTZ"
      }
    },
    {
      "cell_type": "markdown",
      "source": [
        "\n",
        "# <a name=\"HW3Q2\">Question 2</a>\n",
        "\n",
        "---\n",
        "\n",
        "The R package `MASS` contains a data set `birthwt` with data from a study on various risk factors associated with low infant birth weights. The `birthwt` data set contains a sample of 189 pregnancies at Baystate Medical Center in Springfield, Massachusetts. In this question, you will consider whether there is any relation between smoking during pregnancy and infant birth weight. The variables we will analyze are:\n",
        "\n",
        "- The smoking status of the pregnant parent.\n",
        "  - `smoke` 0 means non-smoker.\n",
        "  - `smoke` 1 means smoker.\n",
        "- Whether the infant has a low birth weight (less than 2.5 kg).\n",
        "  - `low` 0 means not a low birth weight.\n",
        "  - `low` 1 means did have low birth weight.\n",
        "\n",
        "\n",
        "\n"
      ],
      "metadata": {
        "id": "5iqQQLaRRZ9Y"
      }
    },
    {
      "cell_type": "markdown",
      "source": [
        "## <a name=\"HW3Q2a\">Question 2a</a>\n",
        "\n",
        "---\n",
        "\n",
        "The code cell below loads the `MASS` package, extracts data from `birthwt` that is cleaned and stored in a new data frame called `risk`.\n",
        "\n",
        "- **Add comments after each line of code after the # symbol to describe the command.**\n",
        "- Then run the code cell without editing the code further.\n",
        "- The output is stored to `risk` (not printed to screen).\n",
        "\n",
        "\n",
        "<br>  \n",
        "\n",
        "### Solution to Question 2a\n",
        "\n",
        "---\n",
        "\n",
        "<br>  \n",
        "\n",
        "Add comments in the code cell and run.\n",
        "\n",
        "<br>  "
      ],
      "metadata": {
        "id": "DZGedW5VXV1o"
      }
    },
    {
      "cell_type": "code",
      "source": [
        "library(MASS)  # load MASS package\n",
        "risk <- subset(birthwt, select = c(low, smoke))  # extract only low and smoke variables\n",
        "\n",
        "# Enter comments for the rest of lines of code\n",
        "risk$low[risk$low == \"0\"]  <- \"Not low\"  # changes low values of 0 to character \"Not low\"\n",
        "risk$low[risk$low == \"1\"]  <- \"Low\"  # changes low values of 1 to character \"Low\"\n",
        "risk$smoke[risk$smoke == \"0\"]  <- \"Non-smoker\"  # changes smoke values of 0 to character \"Non-smoker\"\n",
        "risk$smoke[risk$smoke == \"1\"]  <- \"Smoker\"  # changes smoke values of 1 to character \"Smoker\"\n",
        "\n",
        "risk$low <- factor(risk$low)  #  convert variable low to categorical factor\n",
        "risk$smoke <- factor(risk$smoke)  # convert variable smoke to categorical factor"
      ],
      "metadata": {
        "id": "YbOKUEEnJQB4"
      },
      "execution_count": null,
      "outputs": []
    },
    {
      "cell_type": "markdown",
      "source": [
        "\n",
        "## <a name=\"HW3Q2b\">Question 2b</a>\n",
        "\n",
        "---\n",
        "\n",
        "\n",
        "Run the code cell below. Based on the output from the  `summary` command, answer the following questions:\n",
        "\n",
        "- How many total observations are in the data set `risk`?\n",
        "- In how many pregnancies did the parent smoke?\n",
        "- In how many pregnancies did the infant have a low birth weight (below 2.5 kg)?\n",
        "\n",
        "\n",
        "<br>  \n",
        "\n"
      ],
      "metadata": {
        "id": "3Hd-ItHmMKkz"
      }
    },
    {
      "cell_type": "code",
      "source": [
        "summary(risk)  # numerical summary for resulting data set"
      ],
      "metadata": {
        "id": "CMfwW1eYJUxn",
        "colab": {
          "base_uri": "https://localhost:8080/",
          "height": 69
        },
        "outputId": "1dac545f-adf5-40f7-b5ce-943905170770"
      },
      "execution_count": null,
      "outputs": [
        {
          "output_type": "display_data",
          "data": {
            "text/plain": [
              "      low             smoke    \n",
              " Low    : 59   Non-smoker:115  \n",
              " Not low:130   Smoker    : 74  "
            ]
          },
          "metadata": {}
        }
      ]
    },
    {
      "cell_type": "markdown",
      "source": [
        "### Solution to Question 2b\n",
        "\n",
        "---\n",
        "<br>  \n",
        "\n",
        "- Total number of observations: $59 + 130 = 189$.\n",
        "\n",
        "- Total number of smokers: $74$\n",
        "\n",
        "- Total number of low birth weights: $59$\n",
        "\n",
        "<br>  "
      ],
      "metadata": {
        "id": "r6FUwSMeVVbt"
      }
    },
    {
      "cell_type": "markdown",
      "source": [
        "\n",
        "## <a name=\"HW3Q2c\">Question 2c</a>\n",
        "\n",
        "---\n",
        "\n",
        "Consider the following notation:\n",
        "\n",
        "- Let $L$ denote the event a randomly selected infant from the study has a low birth weight (less than 2.5 kg).\n",
        "- Let $L'$ denote the event a randomly selected infant in the study does not have low birth weight.\n",
        "\n",
        "- Let $S$ denote the event a randomly selected infant from the study had a parent that smoked during pregnancy.\n",
        "- Let $S'$ denote the event a randomly selected infant from the study had a parent that did not smoke during pregnancy.\n",
        "\n",
        "If we randomly select an infant from the sample stored in `risk`, calculate and interpret the practical meaning of:\n",
        "\n",
        "(i) $P(L)$\n",
        "\n",
        "(ii) $P(S)$\n",
        "\n",
        "(iii) $P(S \\cup L)$\n",
        "\n",
        "(iv) $P(S \\cap L)$\n",
        "\n",
        "\n",
        "<br>  \n",
        "\n",
        "### Solution to Question 2c\n",
        "\n",
        "---\n",
        "\n",
        "\n",
        "\n",
        "You will need to use either or both the `table` and/or `prop.table` function(s) in R to answer this question. **Provide supporting code for your answers in the code cell below.**\n",
        "\n",
        "<br>\n",
        "\n",
        "Type your answers in the space below. **For each proportion, be sure you write a one sentence interpretation of the practical meaning of the value.**\n",
        "\n",
        "<br>\n",
        "\n",
        "(i) $P(L) =  \\frac{59}{189}=0.3122$\n",
        "\n",
        "Interpretation (i): $31.22\\%$ of the infants in this study had a low birth weight (below $2.5$ kg).\n",
        "\n",
        "\n",
        "<br>  \n",
        "\n",
        "(ii) $P(S) =  \\frac{74}{189}=0.3915$\n",
        "\n",
        "Interpretation (ii): $39.15\\%$ of the pregnant parents in the study smoked during pregnancy.\n",
        "\n",
        "\n",
        "<br>  \n",
        "\n",
        "(iii) $P(S \\cup L) = P(S) + P(L) - P(S \\cap L) = 0.3122 + 0.3915 - 0.1587=0.5450$\n",
        "\n",
        "Interpretation (iii): $54.5\\%$ of pregnant parents in the study smoked or had a child with a low birth weight.\n",
        "\n",
        "\n",
        "<br>  \n",
        "\n",
        "(iv) $P(S \\cap L) = 0.1587$\n",
        "\n",
        "Interpretation (iv): $15.87\\%$ of pregnant parents in the study smoked and had a child with a low birth weight.\n",
        "\n",
        "\n",
        "<br>  \n",
        "<br>  \n",
        "\n",
        "\n"
      ],
      "metadata": {
        "id": "SpFNGkjF_txZ"
      }
    },
    {
      "cell_type": "code",
      "source": [
        "ans.i <- 59/189\n",
        "ans.ii <- 74/189\n",
        "ans.iii <- ans.i + ans.ii - 0.1587302\n",
        "ans.i\n",
        "ans.ii\n",
        "ans.iii"
      ],
      "metadata": {
        "colab": {
          "base_uri": "https://localhost:8080/",
          "height": 69
        },
        "id": "haH-OmlH2rpK",
        "outputId": "147dbe8a-858d-43fd-f973-d4bc7ba12090"
      },
      "execution_count": null,
      "outputs": [
        {
          "output_type": "display_data",
          "data": {
            "text/html": [
              "0.312169312169312"
            ],
            "text/markdown": "0.312169312169312",
            "text/latex": "0.312169312169312",
            "text/plain": [
              "[1] 0.3121693"
            ]
          },
          "metadata": {}
        },
        {
          "output_type": "display_data",
          "data": {
            "text/html": [
              "0.391534391534392"
            ],
            "text/markdown": "0.391534391534392",
            "text/latex": "0.391534391534392",
            "text/plain": [
              "[1] 0.3915344"
            ]
          },
          "metadata": {}
        },
        {
          "output_type": "display_data",
          "data": {
            "text/html": [
              "0.544973503703704"
            ],
            "text/markdown": "0.544973503703704",
            "text/latex": "0.544973503703704",
            "text/plain": [
              "[1] 0.5449735"
            ]
          },
          "metadata": {}
        }
      ]
    },
    {
      "cell_type": "code",
      "source": [
        "# code to support answers above\n",
        "two.way <- table(risk$low, risk$smoke)\n",
        "two.way\n",
        "grand.prop <- prop.table(two.way)\n",
        "grand.prop"
      ],
      "metadata": {
        "colab": {
          "base_uri": "https://localhost:8080/",
          "height": 159
        },
        "outputId": "5ec2115b-b52f-4a99-a6ec-40b10369af30",
        "id": "ZSAy6XylJzQI"
      },
      "execution_count": null,
      "outputs": [
        {
          "output_type": "display_data",
          "data": {
            "text/plain": [
              "         \n",
              "          Non-smoker Smoker\n",
              "  Low             29     30\n",
              "  Not low         86     44"
            ]
          },
          "metadata": {}
        },
        {
          "output_type": "display_data",
          "data": {
            "text/plain": [
              "         \n",
              "          Non-smoker    Smoker\n",
              "  Low      0.1534392 0.1587302\n",
              "  Not low  0.4550265 0.2328042"
            ]
          },
          "metadata": {}
        }
      ]
    },
    {
      "cell_type": "markdown",
      "source": [
        "\n",
        "# <a name=\"HW3Q2d\">Question 2d</a>\n",
        "\n",
        "---\n",
        "\n",
        "Given the infant had a low birth weight, what is the probability the infant had a parent that smoked during their pregnancy?\n",
        "\n",
        "\n",
        "### Solution to Question 2d\n",
        "\n",
        "---\n",
        "\n",
        "<br>\n",
        "\n",
        "You will need to use either or both the `table` and/or `prop.table` function(s) in R to answer this question.\n",
        "\n",
        "- **Provide supporting code for your answer in the code cell below.**\n",
        "- Express your answer using probability notation by completing the equation provided below.\n",
        "\n",
        "\n",
        "$$P( S \\ | \\ L ) = 0.5085$$\n",
        "\n",
        "\n",
        "\n",
        "<br>  \n",
        "<br>  \n",
        "\n"
      ],
      "metadata": {
        "id": "9O3_G8Tr_zG5"
      }
    },
    {
      "cell_type": "code",
      "source": [
        "# code to support answer above\n",
        "prop.table(two.way, 1)  # use two.way, we give prop relative to row totals"
      ],
      "metadata": {
        "colab": {
          "base_uri": "https://localhost:8080/",
          "height": 88
        },
        "outputId": "91983455-5d39-4b41-8df5-68f37e3bf3b8",
        "id": "-jpGDd2XKFgx"
      },
      "execution_count": null,
      "outputs": [
        {
          "output_type": "display_data",
          "data": {
            "text/plain": [
              "         \n",
              "          Non-smoker    Smoker\n",
              "  Low      0.4915254 0.5084746\n",
              "  Not low  0.6615385 0.3384615"
            ]
          },
          "metadata": {}
        }
      ]
    },
    {
      "cell_type": "code",
      "source": [
        "# if low is second in table, then low is the columns\n",
        "prop.table(table(risk$smoke, risk$low), 2)  # give prop relative to column totals"
      ],
      "metadata": {
        "colab": {
          "base_uri": "https://localhost:8080/",
          "height": 88
        },
        "id": "sSUYBMtP4wyS",
        "outputId": "29010703-ab79-4ae8-b9cc-7514cff00f25"
      },
      "execution_count": null,
      "outputs": [
        {
          "output_type": "display_data",
          "data": {
            "text/plain": [
              "            \n",
              "                   Low   Not low\n",
              "  Non-smoker 0.4915254 0.6615385\n",
              "  Smoker     0.5084746 0.3384615"
            ]
          },
          "metadata": {}
        }
      ]
    },
    {
      "cell_type": "markdown",
      "source": [
        "## <a name=\"HW3Q2e\">Question 2e</a>\n",
        "\n",
        "---\n",
        "\n",
        "Given a parent smoked during their pregnancy, what is the probability that their infant was low birth weight?\n",
        "\n",
        "\n",
        "\n",
        "### Solution to Question 2e\n",
        "\n",
        "---\n",
        "\n",
        "<br>\n",
        "\n",
        "You will need to use either or both the `table` and/or `prop.table` function(s) in R to answer this question.\n",
        "\n",
        "- **Provide supporting code for your answer in the code cell below.**\n",
        "- Express your answer using probability notation by completing the equation provided below.\n",
        "\n",
        "\n",
        "$$P( L \\ | \\ S ) = 0.4054 $$\n",
        "\n",
        "\n",
        "<br>  \n",
        "<br>  \n",
        "\n",
        "\n"
      ],
      "metadata": {
        "id": "857-LdCvS9z1"
      }
    },
    {
      "cell_type": "code",
      "source": [
        "# code to support answer above\n",
        "prop.table(two.way, 2)  # use two.way, we give prop relative to column totals"
      ],
      "metadata": {
        "colab": {
          "base_uri": "https://localhost:8080/",
          "height": 88
        },
        "outputId": "d5474977-48cb-4436-aa35-a693f9155e67",
        "id": "KkeKMhlzKd2v"
      },
      "execution_count": null,
      "outputs": [
        {
          "output_type": "display_data",
          "data": {
            "text/plain": [
              "         \n",
              "          Non-smoker    Smoker\n",
              "  Low      0.2521739 0.4054054\n",
              "  Not low  0.7478261 0.5945946"
            ]
          },
          "metadata": {}
        }
      ]
    },
    {
      "cell_type": "code",
      "source": [
        "# if smoke is second in table, then smoke is the rows\n",
        "prop.table(table(risk$smoke, risk$low), 1)  # give prop relative to row totals"
      ],
      "metadata": {
        "colab": {
          "base_uri": "https://localhost:8080/",
          "height": 88
        },
        "id": "zOMw4qu75TjZ",
        "outputId": "8d649285-9237-4e65-b26c-8d4ca8b2ef42"
      },
      "execution_count": null,
      "outputs": [
        {
          "output_type": "display_data",
          "data": {
            "text/plain": [
              "            \n",
              "                   Low   Not low\n",
              "  Non-smoker 0.2521739 0.7478261\n",
              "  Smoker     0.4054054 0.5945946"
            ]
          },
          "metadata": {}
        }
      ]
    },
    {
      "cell_type": "markdown",
      "source": [
        "## <a name=\"HW3Q2f\">Question 2f</a>\n",
        "\n",
        "---\n",
        "\n",
        "What is one additional, relevant conditional probability we can compare with the probability from [Question 2e](#HW3Q2e) to help determine whether there is an increased risk in a low birth weight if a parent smokes during pregnancy?\n",
        "\n",
        "<br>\n",
        "\n",
        "### Solution to Question 2f\n",
        "\n",
        "---\n",
        "\n",
        "<br>\n",
        "\n",
        "\n",
        "State the value of a relevant conditional probability to compare with [Question 2e](#HW3Q2e) using the probability notation provided below.\n",
        "\n",
        "$$P( L \\ | \\ S' ) = 0.2522 $$\n",
        "\n",
        "\n",
        "<br>  \n",
        "\n",
        "\n",
        "Based on the comparison of the probability you stated above and the probability you computed in [Question 2e](#HW3Q2e), do you believe this study supports the claim that smoking during pregnancy increases the risk of having an infant with a low birth weight? **Explain how you determined your answer.**\n",
        "\n",
        "<br>  \n",
        "\n",
        "Yes. Out of the pregnant parents that smoked, $40.54\\%$ had a newborn with a low birth weight. Pregnant parents that did not smoke had a $25.22\\%$ chance of giving birth to a baby with a low birth weight. Thus, parents that smoked during pregnancy are more likely (by $15.32\\%$) to give birth to a baby with a low birth weight.\n",
        "\n",
        "<br>  \n"
      ],
      "metadata": {
        "id": "gczyVZ-YTVmW"
      }
    },
    {
      "cell_type": "code",
      "source": [
        "# if needed use additional code to support answer above\n",
        "40.54-25.22"
      ],
      "metadata": {
        "colab": {
          "base_uri": "https://localhost:8080/",
          "height": 34
        },
        "outputId": "fed7c741-ead1-4875-dfc4-fecfb38d5de3",
        "id": "f3PT8PozKw9G"
      },
      "execution_count": null,
      "outputs": [
        {
          "output_type": "display_data",
          "data": {
            "text/html": [
              "15.32"
            ],
            "text/markdown": "15.32",
            "text/latex": "15.32",
            "text/plain": [
              "[1] 15.32"
            ]
          },
          "metadata": {}
        }
      ]
    },
    {
      "cell_type": "markdown",
      "source": [
        "\n",
        "## <a name=\"HW3Q2g\">Question 2g</a>\n",
        "\n",
        "---\n",
        "\n",
        "Create one stacked bar chart to clearly display the conditional probabilities you compared in [Question 2f](#HW3Q2f).\n",
        "\n",
        "<br>  \n",
        "\n",
        "### Solution to Question 2g\n",
        "\n",
        "---\n",
        "\n",
        "Use the code cell below to create your plot. No explanation needed.\n",
        "\n",
        "<br>  \n",
        "<br>  "
      ],
      "metadata": {
        "id": "frWiPNUpV_h3"
      }
    },
    {
      "cell_type": "code",
      "source": [
        "# use code cell to create a stacked bar chart\n",
        "\n",
        "rel.frq <- prop.table(two.way, 2)\n",
        "barplot(rel.frq,\n",
        "        col = c(\"tomato\", \"mediumseagreen\"))\n",
        "\n",
        "# add a legend to plot\n",
        "legend(x=\"topright\",  # place legend in top left\n",
        "       legend = c(\"Low birth weight\", \"Not low birth weight\"),\n",
        "       fill = c(\"tomato\", \"mediumseagreen\"))"
      ],
      "metadata": {
        "colab": {
          "base_uri": "https://localhost:8080/",
          "height": 437
        },
        "outputId": "28208228-a358-4626-dd0f-de181930fdfc",
        "id": "D2CYV95bK274"
      },
      "execution_count": null,
      "outputs": [
        {
          "output_type": "display_data",
          "data": {
            "text/plain": [
              "plot without title"
            ],
            "image/png": "[encoded data removed]"
          },
          "metadata": {
            "image/png": {
              "width": 420,
              "height": 420
            }
          }
        }
      ]
    },
    {
      "cell_type": "markdown",
      "source": [
        "\n",
        "# <a name=\"HW3Q3\">Question 3</a>\n",
        "\n",
        "---\n",
        "\n",
        "Most medical screening tests are not perfectly accurate. The accuracy is typically measured using two conditional probabilities:\n",
        "\n",
        "-   The <font color=\"tomato\">sensitivity</font> of the test is the probability that a person with the disease correctly receives a positive test. This is a <font color=\"tomato\">Correct Positive</font>.\n",
        "\n",
        "$$\\color{tomato}{\\mbox{Sensitivity} = P\\left( + \\mbox{ Test } \\big| \\mbox{ Has Disease} \\right)}$$\n",
        "\n",
        "-   The <font color=\"dodgerblue\">specificity</font> of the test is the probability that a person without the disease correctly receives a negative test. This is a <font color=\"dodgerblue\">Correct Negative</font>.\n",
        "\n",
        "$$\\color{dodgerblue}{\\mbox{Specificity} = P( - \\mbox{ Test } \\big| \\mbox{ No Disease})}$$\n",
        "\n",
        "This problem will focus on the Mini Mental State Examination (MMSE), which is the most commonly used test for complaints of problems with memory or other mental abilities<sup>1</sup>.\n",
        "\n",
        "-   <font color=\"tomato\">The sensitivity of the MMSE is 80%, $P\\left( + \\mbox{ Test } \\big| \\mbox{ Has Disease} \\right) = 0.8$</font>.\n",
        "-   <font color=\"dodgerblue\">The specificity of the MMSE is 90%, $P\\left( - \\mbox{ Test } \\big| \\mbox{ No Disease} \\right) = 0.9$</font>.\n",
        "\n",
        "Approximately 10% of Americans over the age of 65 suffer from Alzheimer's dementia<sup>2</sup>.\n",
        "\n",
        "<br>\n",
        "\n",
        "<font size=\"2\">1. Alzheimer's Society: [Tests and scans used to diagnose dementia](https://www.alzheimers.org.uk/about-dementia/symptoms-and-diagnosis/diagnosis/mmse-test).</font>\n",
        "\n",
        "<font size=\"2\">2. Alzheimer's Association: [Alzheimer's Disease Facts and Figures](https://www.alz.org/alzheimers-dementia/facts-figures).</font>\n",
        "\n",
        "<br>\n",
        "\n",
        "---\n",
        "\n",
        "<br>\n",
        "\n",
        "\n",
        "The table below is suggested as a hint to help. You do not need to use to use it, but it might be helpful to fill in the blanks before answering the questions below. For example, if 1000 Americans over the age of 65 are randomly screened by the MMSE for Alzheimer's dementia, then we have:\n",
        "\n",
        "<br>  \n",
        "\n",
        "\n",
        "|        | Has Alzheimer's | Does Not Have Alzheimer's | Total |\n",
        "|--------|-----------------|---------------------------|-------|\n",
        "| Test + | 80 | 90 | 170 |\n",
        "| Test $-$ | 20 | 810 | 830 |\n",
        "| Total  | 100  | 900 | 1,000 |\n",
        "\n",
        "\n",
        "\n",
        "\n",
        "\n"
      ],
      "metadata": {
        "id": "uAiJPq6tBsCP"
      }
    },
    {
      "cell_type": "markdown",
      "source": [
        "## <a name=\"HW3Q3\">Question 3a</a>\n",
        "\n",
        "---\n",
        "\n",
        "What is the probability that a randomly tested adult over the age of 65 will test positive?\n",
        "\n",
        "\n",
        "## Solution to Question 3a\n",
        "\n",
        "---\n",
        "\n",
        "\n",
        "<br>\n",
        "\n",
        "Provide supporting work along with your answer.\n",
        "\n",
        "<br>\n",
        "\n",
        "$$P( \\mbox{Test +}) = \\frac{170}{1000} = 0.17$$\n",
        "\n",
        "  \n",
        "<br>  \n",
        "\n",
        "\n"
      ],
      "metadata": {
        "id": "QjjLd4dJEvRy"
      }
    },
    {
      "cell_type": "markdown",
      "source": [
        "## <a name=\"HW3Q3b\">Question 3b</a>\n",
        "\n",
        "---\n",
        "\n",
        "Given that a patient tests positive for Alzheimer's, what is the probability they actually have Alzheimer's?\n",
        "\n",
        "\n",
        "### Solution to Question 3b\n",
        "\n",
        "---\n",
        "\n",
        "\n",
        "<br>\n",
        "\n",
        "Provide supporting work along with your answer.\n",
        "\n",
        "\n",
        "\n",
        "\n",
        "$$P( \\mbox{Has disease } | \\mbox{Test +}) = \\frac{80}{170} = 0.4706$$\n",
        "\n",
        "<br>  "
      ],
      "metadata": {
        "id": "lNHfKtqbEtgo"
      }
    },
    {
      "cell_type": "markdown",
      "source": [
        "\n",
        "# <a name=\"HW3Q4\">Question 4</a>\n",
        "\n",
        "---\n",
        "\n",
        "Piriformis syndrome is a pelvic condition that involves malfunction of the piriformis muscle (a deep buttock muscle), which often causes back and buttock pain with sciatica (pain radiating down the leg). An electrophysiologic test to detect piriformis syndrome involves measuring nerve conduction velocity (NCV) at two nerves in the leg (the tibial and peroneal nerves) with the leg flexed in a specific position. Increases in NCV in these nerves are often associated with piriformis syndrome. The resulting test, called the flexion abduction and internal rotation (FAIR) test, is positive if the average NCV in these nerves is delayed by 2+ seconds relative to normal.\n",
        "A small study compared the FAIR test results with patient self-reports of how they feel on a visual analog scale (VAS) of 0–10, with 0 indicating no pain and 10 very severe pain. The results were as shown in Table 3.17.\n",
        "\n",
        "Suppose physicians consider the FAIR test the gold standard, with a FAIR test result of ≥ 2 defined as a true positive and a FAIR test result of < 2 defined as a true negative. Suppose a VAS of ≤ 4 is considered a good clinical response based on self-report (a test-negative) and a VAS of ≥ 5 is considered a bad clinical response (a test-positive).\n",
        "\n",
        "<figure>\n",
        "<img\n",
        "src=\"https://raw.githubusercontent.com/gibsonea/Biostats/main/Images/FAIRtableHiRes.png\" width=\"400\">\n",
        "\n",
        "</figure>\n",
        "\n",
        "<br>"
      ],
      "metadata": {
        "id": "vQ2ec_qXWQwk"
      }
    },
    {
      "cell_type": "markdown",
      "source": [
        "## <a name=\"HW3Q4\">Question 4a</a>\n",
        "\n",
        "---\n",
        "\n",
        "What is the sensitivity of the VAS?\n",
        "\n",
        "<br>\n",
        "\n",
        "## Solution to Question 4a\n",
        "\n",
        "---\n",
        "\n",
        "\n",
        "<br>\n",
        "\n",
        "Provide supporting work along with your answer.\n",
        "\n",
        "<br>\n",
        "\n",
        "Sensitivity $= P(Test+|Disease+) = P( VAS \\ge 5|FAIR \\ge 2) = 14/22 = 0.636$.\n",
        "\n",
        "\n",
        "<br>  \n"
      ],
      "metadata": {
        "id": "vFTO48PYYSuy"
      }
    },
    {
      "cell_type": "code",
      "source": [
        "# if needed use additional code to support answer above\n",
        "(7+7)/22"
      ],
      "metadata": {
        "id": "bb5jPeVOaDUw",
        "colab": {
          "base_uri": "https://localhost:8080/",
          "height": 34
        },
        "outputId": "f3cbe0c0-8b85-4c76-88e5-18992f018da8"
      },
      "execution_count": null,
      "outputs": [
        {
          "output_type": "display_data",
          "data": {
            "text/html": [
              "0.636363636363636"
            ],
            "text/markdown": "0.636363636363636",
            "text/latex": "0.636363636363636",
            "text/plain": [
              "[1] 0.6363636"
            ]
          },
          "metadata": {}
        }
      ]
    },
    {
      "cell_type": "markdown",
      "source": [
        "## <a name=\"HW3Q4\">Question 4b</a>\n",
        "\n",
        "---\n",
        "\n",
        "What is the specificity of the VAS?\n",
        "\n",
        "<br>\n",
        "\n",
        "## Solution to Question 4b\n",
        "\n",
        "---\n",
        "\n",
        "\n",
        "<br>\n",
        "\n",
        "Provide supporting work along with your answer.\n",
        "\n",
        "<br>  \n",
        "\n",
        "The specificity $= (Test-|Disease-) = P(VAS \\le 4|FAIR < 2) = 26/38 = 0.684$\n",
        "\n",
        "<br>  "
      ],
      "metadata": {
        "id": "4En8KVccYvEc"
      }
    },
    {
      "cell_type": "code",
      "source": [
        "# if needed use additional code to support answer above\n",
        "(12+14)/38"
      ],
      "metadata": {
        "id": "VOfoMLpEaCfd",
        "colab": {
          "base_uri": "https://localhost:8080/",
          "height": 34
        },
        "outputId": "93a5b189-3da5-4259-c503-f8a3fea2dbbb"
      },
      "execution_count": null,
      "outputs": [
        {
          "output_type": "display_data",
          "data": {
            "text/html": [
              "0.684210526315789"
            ],
            "text/markdown": "0.684210526315789",
            "text/latex": "0.684210526315789",
            "text/plain": [
              "[1] 0.6842105"
            ]
          },
          "metadata": {}
        }
      ]
    },
    {
      "cell_type": "markdown",
      "source": [
        "## <a name=\"HW3Q4\">Question 4c</a>\n",
        "\n",
        "---\n",
        "\n",
        "The cutoff points of ≥ 5 for a VAS test-positive and ≤ 4 for a VAS test-negative are arbitrary. Compute and graph the ROC curve for the VAS test by varying the cutoff point for a test-positive. (Use the cutoff points VAS ≥ 0, VAS ≥ 3, VAS ≥ 5, VAS ≥ 7, and VAS ≥ 11 as possible criteria for test-positive.)\n",
        "\n",
        "<br>\n",
        "\n",
        "## Solution to Question 4c\n",
        "\n",
        "---\n",
        "\n",
        "\n",
        "<br>\n",
        "\n",
        "Provide supporting work along with your answer.\n",
        "\n",
        "\n",
        "<br>  \n",
        "\n",
        "\n",
        "| test pos     | Sensitivity      | Specificity      | 1-Specificity     | ROC point (x,y)      |\n",
        "|-----------|--------|--------|--------|--------|\n",
        "| $VAS\\ge0$  | $22/22 = 1.0$ | $0/38=0$ | $1-0=1.0$ | $(1,1)$ |\n",
        "| $VAS\\ge3$  | $17/22=0.773$ | $14/38=0.368$ | $1-0.368=0.632$ | $(0.632,0.773)$ |\n",
        "| $VAS\\ge5$  | $14/22=0.636$ | $26/38=0.684$ | $1-0.684=0.316$ | $(0.316,0.636)$ |\n",
        "| $VAS\\ge7$  | $7/22=0.318$ | $32/38=0.842$ | $1-0.842=0.158$ | $(0.158,0.318)$ |\n",
        "| $VAS\\ge11$  | $0/22=0$ | $38/38=1$ | $1-1=0$ | $(0,0)$ |\n",
        "\n",
        "\n",
        "\n",
        "<br>  \n",
        "<br>  "
      ],
      "metadata": {
        "id": "JFR_QdRNY8QC"
      }
    },
    {
      "source": [
        "# code cell to plot ROC curve\n",
        "x <- c(1,0.632,0.316,0.158,0)  # use c() to create a vector\n",
        "y <- c(1,0.773,0.636,0.318,0)\n",
        "\n",
        "plot(x,y,xlab = \"1-Specificity\", ylab=\"Sensitivity\",type=\"b\")\n"
      ],
      "cell_type": "code",
      "metadata": {
        "colab": {
          "base_uri": "https://localhost:8080/",
          "height": 437
        },
        "id": "MkyqQ84SrSqP",
        "outputId": "3441c4d8-5f48-44f3-ea47-fb2a151ffff2"
      },
      "execution_count": null,
      "outputs": [
        {
          "output_type": "display_data",
          "data": {
            "text/plain": [
              "plot without title"
            ],
            "image/png": "[encoded data removed]"
          },
          "metadata": {
            "image/png": {
              "width": 420,
              "height": 420
            }
          }
        }
      ]
    },
    {
      "cell_type": "markdown",
      "source": [
        "## <a name=\"HW3Q4\">Question 4d</a>\n",
        "\n",
        "---\n",
        "\n",
        "The area under the ROC curve is 65%. Describe what area under the ROC curve means and discuss if VAS is a good test or not.\n",
        "\n",
        "\n",
        "<br>\n",
        "\n",
        "## Solution to Question 4d\n",
        "\n",
        "---\n",
        "\n",
        "\n",
        "<br>\n",
        "\n",
        "65% represents the accuracy of the test in catagorizing a randomly selected subject.\n",
        "\n",
        "<br>  "
      ],
      "metadata": {
        "id": "3W3eiRvUZOUy"
      }
    }
  ]
}