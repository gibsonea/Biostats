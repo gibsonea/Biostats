{
  "nbformat": 4,
  "nbformat_minor": 0,
  "metadata": {
    "colab": {
      "provenance": [],
      "include_colab_link": true
    },
    "kernelspec": {
      "name": "ir",
      "display_name": "R"
    },
    "language_info": {
      "name": "R"
    }
  },
  "cells": [
    {
      "cell_type": "markdown",
      "metadata": {
        "id": "view-in-github",
        "colab_type": "text"
      },
      "source": [
        "<a href=\"https://colab.research.google.com/github/gibsonea/Biostats/blob/main/HomeworkSolutions/Solutions_BIOE3060Homework6.ipynb\" target=\"_parent\"><img src=\"https://colab.research.google.com/assets/colab-badge.svg\" alt=\"Open In Colab\"/></a>"
      ]
    },
    {
      "cell_type": "markdown",
      "source": [
        "# Homework 6\n",
        "\n",
        "---"
      ],
      "metadata": {
        "id": "SNItVP8cozZT"
      }
    },
    {
      "cell_type": "markdown",
      "source": [
        "## <a name=\"HW1Inst\">Instructions:</a>\n",
        "---\n",
        "\n",
        "1. <font color=\"tomato\">Either click the COPY TO DRIVE button or use the menu File/Save/Save a Copy to save your own version of the notebook in your own folder in Google Drive.</font>\n",
        "\n",
        "  - If you do not have a Google account, you will need to create a Google account in order to create your own individual copy of this notebook.\n",
        "  - By default, the notebook will be saved in a folder named **Colab Notebooks** in your drive.\n",
        "  - Feel free to name and store the notebook wherever you like!\n",
        "v\n",
        "2. <font color=\"mediumseagreen\">After you have copied the notebook into your Drive, you can begin editing and saving your work.</font>\n",
        "\n",
        "\n",
        "**Upload your completed assignment into Canvas as a Google Colab (or Jupyter) Notebook with file extension `.ipynb`.**\n",
        "\n",
        "\n",
        "**You must provide supporting work for your all of your answers.**\n",
        "\n",
        "\n",
        "\n",
        "  - <font color=\"dodgerblue\">That work will include using R code cells.</font>\n",
        "    - **Feel free to insert as much R code as you like.**\n",
        "    - You must interpret or explain how the output of a code cell is being utilized to solve the problem.\n",
        "    - **Code with incomplete or missing explanations of why the output is useful may not receive full credit.**\n",
        "  - <font color=\"dodgerblue\">Your work will also involve writing explanations and justifications in text cells.</font>\n",
        "    - **Be sure to type/write out the steps of your work/explanation so I can see how you arrived at your answer.**\n",
        "  - <font color=\"dodgerblue\">Your work in some parts  may involve doing algebra and/or calculus.</font>\n",
        "    - Either type your work in the space below using LaTeX for mathematical equations.\n",
        "      - Here's a helpful [Quick Reference Guide for LaTeX](https://colab.research.google.com/drive/1voDDmLfHmRWzWQW5yiHfqYsjGPFqdovP?usp=sharing).\n",
        "      - Here's a helpful [LaTeX math symbol gallery](https://artofproblemsolving.com/wiki/index.php/LaTeX:Symbols).\n",
        "      - **Learning LaTeX is super useful and might even be enjoyable!**\n",
        "    - Or you can write your work on paper/tablet, take a picture of your work, and then insert an image of your work.\n",
        "    - Or you can Write your work on paper/tablet and submit to me separately when the assignment is due.\n",
        "   \n",
        "\n",
        "## Important Academic Policies:\n",
        "---\n",
        "\n",
        "- **Be your own work.** Though you may collaborate with others, everyone is responsible for writing up the work in their own way using their own methods. Plagiarism of any form is not tolerated.\n",
        "- **Be complete.** You must provide all work and/or explanations needed to find the solution. Answers with insufficient or incomplete supporting work may lose credit.\n",
        "- **Adhere to the Code of Academic Honesty.**\n",
        "- **Be clearly written (and legible if written).** Your solution to a problem must be clear, written in complete sentences. You may lose credit for work that is unclear or hard to follow.\n",
        "\n",
        "\n",
        "----"
      ],
      "metadata": {
        "id": "_3mKEGX-f9eA"
      }
    },
    {
      "cell_type": "markdown",
      "source": [
        "# <a name=\"HW6q1\">Question 1</a>\n",
        "\n",
        "------------------------------------------------------------------------\n",
        "\n",
        "The value of mammography as a screening test for breast cancer has been controversial, particularly among young women. A study was recently performed looking at the rate of false positives for repeated screening mammograms among approximately 10,000 women who were members of Harvard Pilgrim Health Care, a large health-maintenance organization in New England. The study reported that of a total of 1996 tests given to 40- to 49-year-old women, 156 yielded false-positive results.\n",
        "\n",
        "\n"
      ],
      "metadata": {
        "id": "PkkYp5tXnT5U"
      }
    },
    {
      "cell_type": "markdown",
      "source": [
        "## <a name=\"HW6q1a\">Question 1a</a>\n",
        "\n",
        "------------------------------------------------------------------------\n",
        "\n",
        "What does a false-positive test result mean, in words, in this context?\n",
        "\n",
        "### Solution to Question 1a\n",
        "\n",
        "------------------------------------------------------------------------\n",
        "\n",
        "A false positive result means that the test comes back positive but the patient does not have breast cancer.\n",
        "\n",
        "\n",
        "<br>  \n",
        "<br>  \n",
        "\n"
      ],
      "metadata": {
        "id": "CE0l8eKQobMr"
      }
    },
    {
      "cell_type": "markdown",
      "source": [
        "## <a name=\"HW6q1b\">Question 1b</a>\n",
        "\n",
        "------------------------------------------------------------------------\n",
        "\n",
        "Some physicians feel a mammogram is not cost- effective unless one can be reasonably certain (e.g., 95% certain) that the false-positive rate is less than 10%. Can you address this issue based on the preceding data? (Hint: Use a Wald Confidence Interval approach.)\n",
        "\n",
        "### Solution to Question 1b\n",
        "\n",
        "------------------------------------------------------------------------\n",
        "\n",
        "Solve this by hand, you can check your answer with code if you'd like.\n",
        "\n",
        "<br>  \n",
        "\n",
        "The estimated false positive rate is $\\hat{p} = 156/1996 = 0.078$ We will construct a two-sided 95% Confidence Interval for p.  Since $n\\hat{p}\\hat{q} = 1996(0.078)(0.922) = 143.8 > 5$, we can use the normal-theory method (Wald CI).  \n",
        "\n",
        "The margin of error is $z_{0.975} \\sqrt{ \\frac{\\hat{p} \\hat{q}}{n}} = 1.96 \\sqrt{ \\frac{(0.078)(0.922)}{1996}} = 0.012$\n",
        "\n",
        "So the confidence interval is $0.078 \\pm 0.012$ or $(0.066,0.090)$.\n",
        "\n",
        "Since the interval excludes 0.1, we are reasonably certain that the false positive rate of the test is less than 10%.  Thus, the mammogram would be cost effective.\n",
        "\n",
        "<br>  \n",
        "\n"
      ],
      "metadata": {
        "id": "2ek1l3MGoUqY"
      }
    },
    {
      "cell_type": "markdown",
      "source": [
        "## <a name=\"HW6q1c\">Question 1c</a>\n",
        "\n",
        "------------------------------------------------------------------------\n",
        "\n",
        "Suppose a woman is given a mammogram every 2 years starting at age 40. What is the probability that she will have at least one false-positive test result among 5 screening tests during her forties? (Assume the repeated screening tests are independent.)\n",
        "\n",
        "### Solution to Question 1c\n",
        "\n",
        "------------------------------------------------------------------------\n",
        "\n",
        "<br>  \n",
        "\n",
        "Because each test is independent, we can multiply the probabilities.  To have 5 tests without any false positives would be $(1-0.078)^{5} = 0.666$. The probability of having at least one false positive would be $1-0.666 = 0.334$ or about 1/3.  \n",
        "Note that this is not considering the small # of cases where the patient has a true positive test result on one of the tests and would not have 5 opportunities to receive a false positive.  However, this is a small correction.\n",
        "\n",
        "<br>  "
      ],
      "metadata": {
        "id": "GtO6EoBVoTY_"
      }
    },
    {
      "cell_type": "markdown",
      "source": [
        "# <a name=\"HW6q2\">Question 2</a>\n",
        "\n",
        "------------------------------------------------------------------------\n",
        "\n",
        "The proportion of deaths due to lung cancer in males ages 15-64 in England and Wales during the period 1970-1972 was 12%.  Suppose that of 20 deaths that occur among male workers in this age group who have worked for at least 1 year in a chemical plant, 5 are due to lung cancer. We wish to determine whether there is a difference between the proportion of deaths from lung cancer in this plant and the proportion in the general population.\n",
        "\n"
      ],
      "metadata": {
        "id": "54lC7VVaolun"
      }
    },
    {
      "cell_type": "markdown",
      "source": [
        "## <a name=\"HW6q2a\">Question 2a</a>\n",
        "\n",
        "------------------------------------------------------------------------\n",
        "\n",
        "State the hypotheses to use in answering this question.  Write down the null and alternative hypotheses and state each in a sentence.\n",
        "\n",
        "\n",
        "\n",
        "### Solution to Question 2a\n",
        "\n",
        "------------------------------------------------------------------------\n",
        "\n",
        "<br>\n",
        "\n",
        "$H_{0}: p = 0.12$\n",
        "\n",
        "$H_{1}: p \\neq 0.12$\n",
        "\n",
        "The null hypothesis states that the true proportion of deaths due to lung cancer among workers in a chemical plant is equal to the number in the general population.\n",
        "\n",
        "The alternate hypothesis states that the proportion of deaths due to lung cancer among workers in a chemical plant is not equal to the general population.\n",
        "\n",
        "<br>\n"
      ],
      "metadata": {
        "id": "EedeyYDap1qL"
      }
    },
    {
      "cell_type": "markdown",
      "source": [
        "## <a name=\"HW6q2b\">Question 2b</a>\n",
        "\n",
        "------------------------------------------------------------------------\n",
        "\n",
        "Is a one-sided or two-sided test appropriate here?  Why?\n",
        "\n",
        "\n",
        "### Solution to Question 2b\n",
        "\n",
        "------------------------------------------------------------------------\n",
        "\n",
        "<br>  \n",
        "\n",
        "A two-sided test is appropriate because we have no prior information that the proportion of lung-cancer deaths would be higher or lower than the general population.\n",
        "\n",
        "<br>  \n",
        "\n",
        "\n",
        "\n"
      ],
      "metadata": {
        "id": "d4aZ6bxJpftl"
      }
    },
    {
      "cell_type": "markdown",
      "source": [
        "## <a name=\"HW6q2c\">Question 2c</a>\n",
        "\n",
        "------------------------------------------------------------------------\n",
        "\n",
        "Perform the test and report a p value.  First check on whether you would use an exact binomial test or a one-sample test for a binomial proportion - normal-theory method.\n",
        "\n",
        "\n",
        "### Solution to Question 2c\n",
        "\n",
        "------------------------------------------------------------------------\n",
        "\n",
        "\n",
        "Calculate this by hand, you can double check with code if you'd like.\n",
        "<br>  \n",
        "\n",
        "Since $n p_{0} q_{0} = 20(0.12)(0.88) = 2.1 < 5 $ we cannot use normal theory methods and have to use an exact binomial test.\n",
        "\n",
        "The random variable X ~ Binom(20,0.12) is the # of deaths that are due to lung-cancer for $p_{0}$ and n.  \n",
        "\n",
        "In this case, we have x = 5 deaths at the chemical plant.  The expected value in the general population is $E(X) = np_{0} = 20(0.12) = 2.4$.  Since 5 > 2.4, to see if this is an unusual event , we will find the probability of at least 5 deaths occuring, i.e. sum the probabililities for $ X \\ge 5$ for the Binom(20,0.12) distribution. The p value is twice this value (since it is a two-sided test).\n",
        "\n",
        "p-value = $2 \\times \\sum\\limits_{k=5}^{20}{\\binom{20}{k}(0.12)^{k} (0.88)^{20-k}} = 2 \\times (1 - \\sum\\limits_{k=0}^{4}{\\binom{20}{k}(0.12)^{k} (0.88)^{20-k})} $\n",
        "\n",
        "From the code below we can evaluate and find a p-value of 0.165\n",
        "\n",
        "<br>  \n",
        "\n",
        "\n",
        "\n"
      ],
      "metadata": {
        "id": "6gyvz5SSTtvF"
      }
    },
    {
      "cell_type": "code",
      "source": [
        "2*(1-pbinom(4,20,0.12))"
      ],
      "metadata": {
        "colab": {
          "base_uri": "https://localhost:8080/",
          "height": 34
        },
        "id": "S-6zk_NP0iIZ",
        "outputId": "786f7b9c-022c-427c-97a6-b8d166bf8c76"
      },
      "execution_count": null,
      "outputs": [
        {
          "output_type": "display_data",
          "data": {
            "text/html": [
              "0.165438752457471"
            ],
            "text/markdown": "0.165438752457471",
            "text/latex": "0.165438752457471",
            "text/plain": [
              "[1] 0.1654388"
            ]
          },
          "metadata": {}
        }
      ]
    },
    {
      "cell_type": "markdown",
      "source": [
        "## <a name=\"HW6q2d\">Question 2d</a>\n",
        "\n",
        "------------------------------------------------------------------------\n",
        "\n",
        "After reviewing the results from one plant, the company decides to expand its study to include results from three additional plants. It finds that of 90 deaths occurring among 15- to 64-year-old male workers who have worked for a least 1 year in these four plants, 19 are due to lung cancer.\n",
        "\n",
        "Perform the hypothesis test and report the p value.\n",
        "\n",
        "<br>\n",
        "\n",
        "\n",
        "### Solution to Question 2d\n",
        "\n",
        "------------------------------------------------------------------------\n",
        "\n",
        "Calculate this by hand, you can double check with code if you'd like.\n",
        "<br>  \n",
        "\n",
        "In this case:\n",
        "\n",
        "n = 90\n",
        "\n",
        "$\\hat{p} = 19/90 = 0.211$ (estimated proportion of lung cancer deaths in chemical factory workers)\n",
        "\n",
        "$p_{0} = 0.12$ (proportion of lung cancer deaths in general population)\n",
        "\n",
        "Since $n p_{0} q_{0} = 90(0.12)(0.88) = 9.5 > 5 $ we can use normal theory methods.\n",
        "\n",
        "To perform our hypothesis test, we find a test statistic, z:\n",
        "\n",
        "$z = \\frac{\\hat{p}-p_{0}}{\\sqrt{p_{0}q_{0}/n}} = \\frac{0.211-0.12}{\\sqrt{(0.12)(0.88)/90}}=2.66$\n",
        "\n",
        "or we can use the continuity-corrected version of the test statistic (better test):\n",
        "\n",
        "$z_{corr} = \\frac{|\\hat{p}-p_{0}|-\\frac{1}{2n}}{\\sqrt{p_{0}q_{0}/n}} = \\frac{|0.211-0.12|-\\frac{1}{180}}{\\sqrt{(0.12)(0.88)/90}}=2.49$\n",
        "\n",
        "The acceptance region is (-1.96,1.96) and 2.49 falls outside of this, so we reject the null hypothesis and accept $H_{1}$.\n",
        "\n",
        "The p-value is $2 \\times (1 - pnorm(2.49)) = 0.013$\n",
        "\n",
        "We conclude that there is a significant excess proportion of deaths due to lung-cancer among chemical factory workers.\n",
        "\n",
        "<br>  \n",
        "\n",
        "\n",
        "\n",
        "\n"
      ],
      "metadata": {
        "id": "_eQiTtM1YIg9"
      }
    },
    {
      "cell_type": "code",
      "source": [
        "(0.211-0.12)/sqrt(0.12*0.88/90)\n",
        "\n",
        "(abs(0.211-0.12)-1/180)/sqrt(0.12*0.88/90) #continuity corrected\n",
        "\n",
        "#calculating the p-value\n",
        "\n",
        "2*(1-pnorm(2.49))"
      ],
      "metadata": {
        "colab": {
          "base_uri": "https://localhost:8080/",
          "height": 69
        },
        "id": "QtqjeVEJh-1F",
        "outputId": "7d23f120-76eb-4df2-c8bb-832bd03f6bf0"
      },
      "execution_count": null,
      "outputs": [
        {
          "output_type": "display_data",
          "data": {
            "text/html": [
              "2.6566276469512"
            ],
            "text/markdown": "2.6566276469512",
            "text/latex": "2.6566276469512",
            "text/plain": [
              "[1] 2.656628"
            ]
          },
          "metadata": {}
        },
        {
          "output_type": "display_data",
          "data": {
            "text/html": [
              "2.49444036691755"
            ],
            "text/markdown": "2.49444036691755",
            "text/latex": "2.49444036691755",
            "text/plain": [
              "[1] 2.49444"
            ]
          },
          "metadata": {}
        },
        {
          "output_type": "display_data",
          "data": {
            "text/html": [
              "0.0127743095298865"
            ],
            "text/markdown": "0.0127743095298865",
            "text/latex": "0.0127743095298865",
            "text/plain": [
              "[1] 0.01277431"
            ]
          },
          "metadata": {}
        }
      ]
    },
    {
      "cell_type": "markdown",
      "source": [
        "# <a name=\"HW6q3\">Question 3</a>\n",
        "\n",
        "------------------------------------------------------------------------\n",
        "\n",
        "Suppose the annual incidence of asthma in the general population among children 0-4 years of age is 1.4% for boys and 1% for girls. In one study, 10 cases are observed over 1 year among 500 boys 0-4 years old with smoking mothers. Test whether there is a significant difference in asthma incidence between this group and the general population.\n",
        "\n"
      ],
      "metadata": {
        "id": "GRZozg3hrHfe"
      }
    },
    {
      "cell_type": "markdown",
      "source": [
        "## <a name=\"HW6q3a\">Question 3a</a>\n",
        "\n",
        "------------------------------------------------------------------------\n",
        "\n",
        "Write down the null and alternate hypothesis and state in a sentence.\n",
        "\n",
        "<br>\n",
        "\n",
        "\n",
        "### Solution to Question 3a\n",
        "\n",
        "------------------------------------------------------------------------\n",
        "\n",
        "\n",
        "<br>  \n",
        "\n",
        "$H_{0}: p = p_{0}$\n",
        "\n",
        "$H_{1}: p \\neq p_{0}$\n",
        "\n",
        "\n",
        "$p_{0}$ is the proportion of asthma in boys aged 0-4 years old\n",
        "\n",
        "p is the proportion of asthma in boys aged 0-4 with smoking mothers\n",
        "\n",
        "The null hypothesis is that there is no difference in proportion of asthma in boys whose mothers smoke compared with the general population\n",
        "\n",
        "The alternative hypothesis is that there is a difference in proportion of asthma in boys whose mothers smoke.\n",
        "\n",
        "<br>  \n",
        "\n",
        "\n",
        "\n",
        "\n"
      ],
      "metadata": {
        "id": "EEGbBsTD1u-K"
      }
    },
    {
      "cell_type": "markdown",
      "source": [
        "## <a name=\"HW6q3b\">Question 3b</a>\n",
        "\n",
        "------------------------------------------------------------------------\n",
        "\n",
        "Perform the test and report a p-value.  What do you conclude from this study.\n",
        "\n",
        "<br>\n",
        "\n",
        "\n",
        "### Solution to Question 3b\n",
        "\n",
        "------------------------------------------------------------------------\n",
        "\n",
        "\n",
        "<br>  \n",
        "\n",
        "Since $n p_{0} q_{0} = 500 (0.014) (0.986) = 6.02 > 5$ so we can use normal theory methods.\n",
        "\n",
        "Using our test statistic for proportions with continuity correction we get:\n",
        "\n",
        "$$z_{corr} = \\frac{|\\hat{p}-p_{0}|-\\frac{1}{2n}}{\\sqrt{p_{0}q_{0}/n}} = \\frac{|0.020-0.014|-\\frac{1}{1000}}{\\sqrt{(0.014)(0.986)/500}}=0.952$$\n",
        "\n",
        "The test statistic 0.952 is within the acceptance region (-1.96,1.96) therefore we accept the null hypothesis.\n",
        "\n",
        "We can calulate a p-value even if there is no significance:\n",
        "\n",
        "The p-value is $2 \\times (1 - pnorm(0.952)) = 0.341$ which is greater than 0.05, there is no significant difference between the proportion of asthma among boys whose mothers smoke and the general population.\n",
        "\n",
        "<br>  \n",
        "\n",
        "\n",
        "\n",
        "\n"
      ],
      "metadata": {
        "id": "RkAX-hDH2EIO"
      }
    },
    {
      "cell_type": "code",
      "source": [
        "500*0.014*(1-0.14) # n x p0 x q0\n",
        "10/500 # p_hat\n",
        "\n",
        "(abs(0.02-0.014)-1/1000)/sqrt(0.014*0.986/500) # test statistic\n",
        "\n",
        "2*(1-pnorm(0.952))\n",
        "\n"
      ],
      "metadata": {
        "colab": {
          "base_uri": "https://localhost:8080/",
          "height": 86
        },
        "id": "wBTEtT7hm0xg",
        "outputId": "780a06e1-6f16-4fd5-c25a-a72b5586d6a6"
      },
      "execution_count": null,
      "outputs": [
        {
          "output_type": "display_data",
          "data": {
            "text/html": [
              "6.02"
            ],
            "text/markdown": "6.02",
            "text/latex": "6.02",
            "text/plain": [
              "[1] 6.02"
            ]
          },
          "metadata": {}
        },
        {
          "output_type": "display_data",
          "data": {
            "text/html": [
              "0.02"
            ],
            "text/markdown": "0.02",
            "text/latex": "0.02",
            "text/plain": [
              "[1] 0.02"
            ]
          },
          "metadata": {}
        },
        {
          "output_type": "display_data",
          "data": {
            "text/html": [
              "0.951595832086375"
            ],
            "text/markdown": "0.951595832086375",
            "text/latex": "0.951595832086375",
            "text/plain": [
              "[1] 0.9515958"
            ]
          },
          "metadata": {}
        },
        {
          "output_type": "display_data",
          "data": {
            "text/html": [
              "0.341096981880882"
            ],
            "text/markdown": "0.341096981880882",
            "text/latex": "0.341096981880882",
            "text/plain": [
              "[1] 0.341097"
            ]
          },
          "metadata": {}
        }
      ]
    }
  ]
}